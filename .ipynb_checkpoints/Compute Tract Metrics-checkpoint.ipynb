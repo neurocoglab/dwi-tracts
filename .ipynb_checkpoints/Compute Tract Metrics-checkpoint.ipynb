{
 "cells": [
  {
   "cell_type": "code",
   "execution_count": null,
   "metadata": {},
   "outputs": [],
   "source": [
    "# Imports\n",
    "%load_ext autoreload\n",
    "%autoreload 2\n",
    "\n",
    "import json\n",
    "from dwitracts.main import DwiTracts"
   ]
  },
  {
   "cell_type": "code",
   "execution_count": null,
   "metadata": {},
   "outputs": [],
   "source": [
    "# Initialize a DwiTract project\n",
    "config_file = 'project/config_tracts_dmn.json'\n",
    "\n",
    "def _json_object_hook(d): return namedtuple('X', d.keys())(*d.values())\n",
    "def json2obj(data): return json.loads(data, object_hook=_json_object_hook)\n",
    "\n",
    "with open(config_file, 'r') as myfile:\n",
    "    json_string=myfile.read()\n",
    "\n",
    "params = json.loads(json_string)\n",
    "\n",
    "my_dwi = DwiTracts( params )\n",
    "\n",
    "assert my_dwi.initialize()\n"
   ]
  },
  {
   "cell_type": "code",
   "execution_count": null,
   "metadata": {},
   "outputs": [],
   "source": [
    "# Compute bidirectional average distributions for each tract ([AB + BA] / 2)\n",
    "\n",
    "assert my_dwi.compute_bidirectional_averages( verbose=True, clobber=True )\n"
   ]
  },
  {
   "cell_type": "code",
   "execution_count": null,
   "metadata": {},
   "outputs": [],
   "source": [
    "# Compute tract distances (A->B and B->A) for each tract\n",
    "\n",
    "assert my_dwi.compute_tract_distances( verbose=True, clobber=True )\n"
   ]
  },
  {
   "cell_type": "code",
   "execution_count": null,
   "metadata": {},
   "outputs": [],
   "source": [
    "# Generate core polylines, gaussian uncertainty fields, and unidirectional tract estimates \n",
    "\n",
    "assert my_dwi.estimate_unidirectional_tracts( verbose=True, clobber=True )\n"
   ]
  },
  {
   "cell_type": "code",
   "execution_count": null,
   "metadata": {},
   "outputs": [],
   "source": [
    "# Generate bidirectional tract estimates \n",
    "\n",
    "assert my_dwi.estimate_bidirectional_tracts( verbose=True, clobber=True )\n"
   ]
  },
  {
   "cell_type": "code",
   "execution_count": null,
   "metadata": {},
   "outputs": [],
   "source": [
    "# Create a pass/fail Pajek graph\n",
    "\n",
    "assert my_dwi.tracts_to_pajek( verbose=True, clobber=True )\n"
   ]
  },
  {
   "cell_type": "code",
   "execution_count": null,
   "metadata": {
    "scrolled": true
   },
   "outputs": [],
   "source": [
    "# Compute voxel-wise average streamline orientations for each tract\n",
    "\n",
    "assert my_dwi.compute_average_orientations( verbose=True, clobber=True )\n"
   ]
  },
  {
   "cell_type": "code",
   "execution_count": null,
   "metadata": {},
   "outputs": [],
   "source": [
    "# Compute tract-specific anisotropy\n",
    "\n",
    "assert my_dwi.compute_tsa( verbose=True, clobber=True )\n"
   ]
  }
 ],
 "metadata": {
  "kernelspec": {
   "display_name": "Python 3",
   "language": "python",
   "name": "python3"
  },
  "language_info": {
   "codemirror_mode": {
    "name": "ipython",
    "version": 3
   },
   "file_extension": ".py",
   "mimetype": "text/x-python",
   "name": "python",
   "nbconvert_exporter": "python",
   "pygments_lexer": "ipython3",
   "version": "3.7.7"
  }
 },
 "nbformat": 4,
 "nbformat_minor": 4
}
