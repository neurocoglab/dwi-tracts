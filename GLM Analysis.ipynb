{
 "cells": [
  {
   "cell_type": "code",
   "execution_count": null,
   "metadata": {},
   "outputs": [],
   "source": [
    "%load_ext autoreload\n",
    "%autoreload 2\n",
    "\n",
    "import json\n",
    "from dwitracts.glm import DwiTractsGlm\n",
    "import dwitracts.plot as dwiplot"
   ]
  },
  {
   "cell_type": "code",
   "execution_count": null,
   "metadata": {},
   "outputs": [],
   "source": [
    "# GLM Analysis using DwiTractsGlm class\n",
    "\n",
    "config_file = 'project/config_glm_dmn.json'\n",
    "\n",
    "def _json_object_hook(d): return namedtuple('X', d.keys())(*d.values())\n",
    "def json2obj(data): return json.loads(data, object_hook=_json_object_hook)\n",
    "\n",
    "with open(config_file, 'r') as myfile:\n",
    "    json_string=myfile.read()\n",
    "    \n",
    "params = json.loads(json_string)\n",
    "params_gen = params['general']\n",
    "params_glm = params['glm']\n",
    "\n",
    "with open(params_gen['tracts_config_file'], 'r') as myfile:\n",
    "    json_string=myfile.read()\n",
    "    \n",
    "params['tracts'] = json.loads(json_string)\n",
    "\n",
    "with open(params_gen['preproc_config_file'], 'r') as myfile:\n",
    "    json_string=myfile.read()\n",
    "    \n",
    "params['preproc'] = json.loads(json_string)\n",
    "\n",
    "my_glm = DwiTractsGlm( params )\n",
    "\n",
    "# Initialize the object with the current parameters\n",
    "assert my_glm.initialize( )\n"
   ]
  },
  {
   "cell_type": "code",
   "execution_count": null,
   "metadata": {},
   "outputs": [],
   "source": [
    "# Fit all specified GLMs and save results to target directory\n",
    "assert my_glm.fit_glms( clobber=True, verbose=True )\n"
   ]
  },
  {
   "cell_type": "code",
   "execution_count": null,
   "metadata": {
    "scrolled": true
   },
   "outputs": [],
   "source": [
    "# Extract distance traces from the GLM results\n",
    "assert my_glm.extract_distance_traces( clobber=True, verbose=True )\n"
   ]
  },
  {
   "cell_type": "code",
   "execution_count": null,
   "metadata": {
    "scrolled": true
   },
   "outputs": [],
   "source": [
    "# Extract distance traces from the GLM results, using RFT1D cluster inference\n",
    "assert my_glm.extract_distance_traces_rft1d( clobber=True, verbose=True, debug=True )\n",
    "\n"
   ]
  },
  {
   "cell_type": "code",
   "execution_count": null,
   "metadata": {
    "scrolled": true
   },
   "outputs": [],
   "source": [
    "# Extract distance traces from the GLM results, using cluster inference and permutation testing\n",
    "# my_glm.extract_distance_trace_clusters( clobber=True, verbose=True, debug=True )\n"
   ]
  },
  {
   "cell_type": "code",
   "execution_count": null,
   "metadata": {},
   "outputs": [],
   "source": [
    "# Plot t-value distance traces\n",
    "\n",
    "# Font sizes\n",
    "params['axis_font'] = 24\n",
    "params['yticklabel_font'] = 16\n",
    "params['xticklabel_font'] = 20\n",
    "params['title_font'] = 40\n",
    "params['font_scale'] = 1.5\n",
    "\n",
    "alpha = 0.05\n",
    "\n",
    "tract_names = my_glm.tract_names.copy()\n",
    "tract_names.sort()\n",
    "\n",
    "# Uncorrected\n",
    "dwiplot.plot_distance_traces( params, tract_names, alpha=alpha, stat_type='uncorrected' )\n",
    "\n",
    "# RFT corrected\n",
    "dwiplot.plot_distance_traces( params, tract_names, alpha=alpha, stat_type='rft' )\n",
    "\n",
    "# Permutation corrected\n",
    "# dwiplot.plot_distance_traces( params, tract_names, alpha=alpha, stat_type='perm' )\n"
   ]
  },
  {
   "cell_type": "code",
   "execution_count": null,
   "metadata": {
    "scrolled": false
   },
   "outputs": [],
   "source": [
    "# Plot scatterplots & violin plots for GLM results\n",
    "\n",
    "# Specify GLM\n",
    "glm = 'glm-age-sex'\n",
    "\n",
    "# Set up parameters\n",
    "params_plot = {}\n",
    "params_plot['glm'] = glm\n",
    "params_plot['alpha'] = 0.05\n",
    "params_plot['outlier_z'] = params_glm[glm]['outlier_z']\n",
    "params_plot['stat_type'] = 'rft'\n",
    "params_plot['axis_font'] = 40\n",
    "params_plot['marker_size'] = 15\n",
    "params_plot['line_width'] = 4\n",
    "params_plot['ticklabel_font'] = 33\n",
    "params_plot['title_font'] = 45\n",
    "params_plot['legend_font'] = 40\n",
    "params_plot['legend_scale'] = 3\n",
    "params_plot['show_title'] = True\n",
    "params_plot['show_legend'] = True\n",
    "params_plot['dimensions'] = (12,10)\n",
    "params_plot['font_scale'] = 0.6\n",
    "params_plot['write_csv'] = False\n",
    "\n",
    "# Loop through tracts and call plot function for each\n",
    "dwiplot.plot_glm_results_all( params_plot, my_glm, verbose=True )\n",
    "    "
   ]
  },
  {
   "cell_type": "code",
   "execution_count": null,
   "metadata": {},
   "outputs": [],
   "source": [
    "# Aggregate tracts into single volumes\n",
    "assert my_glm.aggregate_tracts(prefix='tract_final_norm_bidir', op='max', verbose=True)\n"
   ]
  },
  {
   "cell_type": "code",
   "execution_count": null,
   "metadata": {},
   "outputs": [],
   "source": [
    "# Aggregate tracts crossing corpus callosum\n",
    "cc_img = '/Volumes/GDriveUsb/data/atlases/corpus_callosum_midline.nii'\n",
    "assert my_glm.aggregate_tracts(prefix='tract_final_norm_bidir', suffix='_cc', intersects=cc_img, \\\n",
    "                                op='max', threshold=0, verbose=True)\n"
   ]
  },
  {
   "cell_type": "code",
   "execution_count": null,
   "metadata": {
    "scrolled": false
   },
   "outputs": [],
   "source": [
    "# Aggregate stats into single volumes\n",
    "\n",
    "assert my_glm.aggregate_stats( op='max', pthres=0.05, suffix='-rft', verbose=True, clobber=True )\n"
   ]
  },
  {
   "cell_type": "code",
   "execution_count": null,
   "metadata": {},
   "outputs": [],
   "source": [
    "# Generate Pajek graphs\n",
    "\n",
    "assert my_glm.create_pajek_graphs( suffix='-rft', edge_val='tsum', verbose=True, clobber=True )\n"
   ]
  },
  {
   "cell_type": "code",
   "execution_count": null,
   "metadata": {},
   "outputs": [],
   "source": []
  }
 ],
 "metadata": {
  "kernelspec": {
   "display_name": "Python 3",
   "language": "python",
   "name": "python3"
  },
  "language_info": {
   "codemirror_mode": {
    "name": "ipython",
    "version": 3
   },
   "file_extension": ".py",
   "mimetype": "text/x-python",
   "name": "python",
   "nbconvert_exporter": "python",
   "pygments_lexer": "ipython3",
   "version": "3.6.12"
  }
 },
 "nbformat": 4,
 "nbformat_minor": 4
}
