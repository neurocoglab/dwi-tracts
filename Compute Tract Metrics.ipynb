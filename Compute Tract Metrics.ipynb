{
 "cells": [
  {
   "cell_type": "code",
   "execution_count": 1,
   "metadata": {},
   "outputs": [],
   "source": [
    "# Computes tract-specific metrics (voxel-wise, distance-wise, tract-wise) based on\n",
    "# population diffusion & tractopgraphy statistics\n",
    "\n",
    "# Requires that BedpostX and ProbtrackX for the network of interest have already\n",
    "# been computed\n",
    "\n",
    "\n",
    "%load_ext autoreload\n",
    "%autoreload 2"
   ]
  },
  {
   "cell_type": "code",
   "execution_count": 2,
   "metadata": {},
   "outputs": [
    {
     "name": "stderr",
     "output_type": "stream",
     "text": [
      "/Users/lpzatr/anaconda3/lib/python3.6/importlib/_bootstrap.py:219: RuntimeWarning: numpy.dtype size changed, may indicate binary incompatibility. Expected 96, got 88\n",
      "  return f(*args, **kwds)\n",
      "/Users/lpzatr/anaconda3/lib/python3.6/importlib/_bootstrap.py:219: RuntimeWarning: numpy.dtype size changed, may indicate binary incompatibility. Expected 96, got 88\n",
      "  return f(*args, **kwds)\n",
      "/Users/lpzatr/anaconda3/lib/python3.6/importlib/_bootstrap.py:219: RuntimeWarning: numpy.dtype size changed, may indicate binary incompatibility. Expected 96, got 88\n",
      "  return f(*args, **kwds)\n",
      "/Users/lpzatr/anaconda3/lib/python3.6/importlib/_bootstrap.py:219: RuntimeWarning: numpy.dtype size changed, may indicate binary incompatibility. Expected 96, got 88\n",
      "  return f(*args, **kwds)\n"
     ]
    }
   ],
   "source": [
    "# Read config file\n",
    "# Set up variables\n",
    "\n",
    "import json\n",
    "import csv\n",
    "import os\n",
    "import shutil\n",
    "import glob\n",
    "\n",
    "import utils\n",
    "\n",
    "import math\n",
    "import nibabel as nib\n",
    "import numpy as np\n",
    "from scipy import stats\n",
    "from nilearn import image, masking\n",
    "\n",
    "from tqdm import tnrange, tqdm_notebook\n",
    "\n",
    "config_file = 'config_tracts_what-where.json'\n",
    "\n",
    "def _json_object_hook(d): return namedtuple('X', d.keys())(*d.values())\n",
    "def json2obj(data): return json.loads(data, object_hook=_json_object_hook)\n",
    "\n",
    "with open(config_file, 'r') as myfile:\n",
    "    json_string=myfile.read()\n",
    "\n",
    "params = json.loads(json_string)\n",
    "\n",
    "params_gen = params['general']\n",
    "source_dir = params_gen['source_dir']\n",
    "project_dir = os.path.join(source_dir, params_gen['project_dir'])\n",
    "tracts_dir = os.path.join(project_dir, params_gen['tracts_dir'], params_gen['network_name'])\n",
    "rois_dir = os.path.join(source_dir, params_gen['rois_dir'], params_gen['network_name'])\n",
    "\n",
    "if params_gen['debug']:\n",
    "    debug_dir = os.path.join(tracts_dir, 'debug')\n",
    "    if not os.path.isdir(debug_dir):\n",
    "        os.makedirs(debug_dir)\n",
    "\n",
    "avr_dir = os.path.join(tracts_dir, 'average')\n",
    "if not os.path.isdir(avr_dir):\n",
    "    os.makedirs(avr_dir)\n",
    "#     print('  *Error: Averages have not yet been computed! Stopping.')\n",
    "#     raise\n",
    "    \n",
    "dist_dir = os.path.join(tracts_dir, 'dist')\n",
    "if not os.path.isdir(dist_dir):\n",
    "    os.makedirs(dist_dir)\n",
    "polyline_dir = os.path.join(tracts_dir, 'polylines')\n",
    "if not os.path.isdir(polyline_dir):\n",
    "    os.makedirs(polyline_dir)\n",
    "gauss_dir = os.path.join(tracts_dir, 'gaussians')\n",
    "if not os.path.isdir(gauss_dir):\n",
    "    os.makedirs(gauss_dir)\n",
    "gauss_fail_dir = os.path.join(tracts_dir, 'gaussians.failed')\n",
    "if not os.path.isdir(gauss_fail_dir):\n",
    "    os.makedirs(gauss_fail_dir)\n",
    "final_dir = os.path.join(tracts_dir, 'final')\n",
    "if not os.path.isdir(final_dir):\n",
    "    os.makedirs(final_dir)\n",
    "final_fail_dir = os.path.join(tracts_dir, 'final.failed')\n",
    "if not os.path.isdir(final_fail_dir):\n",
    "    os.makedirs(final_fail_dir)\n",
    "log_dir = os.path.join(tracts_dir, 'log')\n",
    "if not os.path.isdir(log_dir):\n",
    "    os.makedirs(log_dir)\n",
    "\n",
    "\n",
    "if not os.path.isdir(tracts_dir):\n",
    "    os.makedirs(tracts_dir)\n",
    "\n",
    "# Subjects\n",
    "subjects = [];\n",
    "with open(params_gen['subjects_file']) as subj_file:\n",
    "    reader = csv.reader(subj_file)\n",
    "    for row in reader:\n",
    "        subjects.append(row[0])\n",
    "        \n",
    "subjects = sorted(subjects)\n",
    "\n",
    "# ROIs\n",
    "# Read ROI list\n",
    "rois = []\n",
    "with open(params_gen['rois_list'],'r') as roi_file:\n",
    "    reader = csv.reader(roi_file)\n",
    "    for row in reader:\n",
    "        rois.append(row[0])\n",
    "\n",
    "# Define volume for save operations\n",
    "        \n",
    "# Determine proper suffix\n",
    "roi_suffix = 'nii'\n",
    "roi = rois[0]\n",
    "roi_file = '{0}/{1}.{2}'.format(rois_dir, roi, roi_suffix)\n",
    "if not os.path.isfile(roi_file):\n",
    "    roi_suffix = 'nii.gz'\n",
    "    roi_file = '{0}/{1}.{2}'.format(rois_dir, roi, roi_suffix)\n",
    "    if not os.path.isfile(roi_file):\n",
    "        print('No ROI file found: {0}.'.format(roi_file))\n",
    "        \n",
    "V_img = nib.load(roi_file)\n",
    "V_img.header.set_data_dtype(np.float32)"
   ]
  },
  {
   "cell_type": "code",
   "execution_count": 15,
   "metadata": {},
   "outputs": [
    {
     "name": "stdout",
     "output_type": "stream",
     "text": [
      "\n",
      "== Computing average tracts ==\n",
      "\n",
      "Processing subject-wise tractography...\n"
     ]
    },
    {
     "data": {
      "application/vnd.jupyter.widget-view+json": {
       "model_id": "c32d05766ab0496ca13486492bd15e5f",
       "version_major": 2,
       "version_minor": 0
      },
      "text/plain": [
       "HBox(children=(IntProgress(value=0, description='Progress', max=133), HTML(value='')))"
      ]
     },
     "metadata": {},
     "output_type": "display_data"
    },
    {
     "name": "stdout",
     "output_type": "stream",
     "text": [
      "  Processing subject: A00008326 (1 of 133)\n",
      "  Processing subject: A00010893 (2 of 133)\n",
      "  Processing subject: A00013809 (3 of 133)\n",
      "  Processing subject: A00021039 (4 of 133)\n",
      "  Processing subject: A00023510 (5 of 133)\n",
      "  Processing subject: A00025566 (6 of 133)\n",
      "  Processing subject: A00027651 (7 of 133)\n",
      "  Processing subject: A00028150 (8 of 133)\n",
      "  Processing subject: A00028184 (9 of 133)\n",
      "  Processing subject: A00028185 (10 of 133)\n",
      "  Processing subject: A00028287 (11 of 133)\n",
      "  Processing subject: A00028340 (12 of 133)\n",
      "  Processing subject: A00028352 (13 of 133)\n",
      "  Processing subject: A00028389 (14 of 133)\n",
      "  Processing subject: A00028399 (15 of 133)\n",
      "  Processing subject: A00028429 (16 of 133)\n",
      "  Processing subject: A00028678 (17 of 133)\n",
      "  Processing subject: A00028753 (18 of 133)\n",
      "  Processing subject: A00028784 (19 of 133)\n",
      "  Processing subject: A00028842 (20 of 133)\n",
      "  Processing subject: A00028844 (21 of 133)\n",
      "  Processing subject: A00028845 (22 of 133)\n",
      "  Processing subject: A00028912 (23 of 133)\n",
      "  Processing subject: A00028994 (24 of 133)\n",
      "  Processing subject: A00029076 (25 of 133)\n",
      "  Processing subject: A00029092 (26 of 133)\n",
      "  Processing subject: A00029104 (27 of 133)\n",
      "  Processing subject: A00029215 (28 of 133)\n",
      "  Processing subject: A00029230 (29 of 133)\n",
      "  Processing subject: A00029231 (30 of 133)\n",
      "  Processing subject: A00030912 (31 of 133)\n",
      "  Processing subject: A00030913 (32 of 133)\n",
      "  Processing subject: A00030947 (33 of 133)\n",
      "  Processing subject: A00030989 (34 of 133)\n",
      "  Processing subject: A00031167 (35 of 133)\n",
      "  Processing subject: A00031216 (36 of 133)\n",
      "  Processing subject: A00031217 (37 of 133)\n",
      "  Processing subject: A00031459 (38 of 133)\n",
      "  Processing subject: A00031794 (39 of 133)\n",
      "  Processing subject: A00031871 (40 of 133)\n",
      "  Processing subject: A00032010 (41 of 133)\n",
      "  Processing subject: A00033011 (42 of 133)\n",
      "  Processing subject: A00033021 (43 of 133)\n",
      "  Processing subject: A00033232 (44 of 133)\n",
      "  Processing subject: A00033247 (45 of 133)\n",
      "  Processing subject: A00033248 (46 of 133)\n",
      "  Processing subject: A00033589 (47 of 133)\n",
      "  Processing subject: A00033609 (48 of 133)\n",
      "  Processing subject: A00033640 (49 of 133)\n",
      "  Processing subject: A00033647 (50 of 133)\n",
      "  Processing subject: A00033673 (51 of 133)\n",
      "  Processing subject: A00033735 (52 of 133)\n",
      "  Processing subject: A00033747 (53 of 133)\n",
      "  Processing subject: A00033748 (54 of 133)\n",
      "  Processing subject: A00033752 (55 of 133)\n",
      "  Processing subject: A00033764 (56 of 133)\n",
      "  Processing subject: A00033834 (57 of 133)\n",
      "  Processing subject: A00033849 (58 of 133)\n",
      "  Processing subject: A00034193 (59 of 133)\n",
      "  Processing subject: A00034827 (60 of 133)\n",
      "  Processing subject: A00034987 (61 of 133)\n",
      "  Processing subject: A00035036 (62 of 133)\n",
      "  Processing subject: A00035363 (63 of 133)\n",
      "  Processing subject: A00035437 (64 of 133)\n",
      "  Processing subject: A00035440 (65 of 133)\n",
      "  Processing subject: A00035504 (66 of 133)\n",
      "  Processing subject: A00035535 (67 of 133)\n",
      "  Processing subject: A00035562 (68 of 133)\n",
      "  Processing subject: A00035608 (69 of 133)\n",
      "  Processing subject: A00035625 (70 of 133)\n",
      "  Processing subject: A00035827 (71 of 133)\n",
      "  Processing subject: A00035840 (72 of 133)\n",
      "  Processing subject: A00035881 (73 of 133)\n",
      "  Processing subject: A00035960 (74 of 133)\n",
      "  Processing subject: A00037110 (75 of 133)\n",
      "  Processing subject: A00037111 (76 of 133)\n",
      "  Processing subject: A00037112 (77 of 133)\n",
      "  Processing subject: A00037267 (78 of 133)\n",
      "  Processing subject: A00037377 (79 of 133)\n",
      "  Processing subject: A00037386 (80 of 133)\n",
      "  Processing subject: A00037445 (81 of 133)\n",
      "  Processing subject: A00037492 (82 of 133)\n",
      "  Processing subject: A00037510 (83 of 133)\n",
      "  Processing subject: A00037588 (84 of 133)\n",
      "  Processing subject: A00037635 (85 of 133)\n",
      "  Processing subject: A00037647 (86 of 133)\n",
      "  Processing subject: A00037726 (87 of 133)\n",
      "  Processing subject: A00037768 (88 of 133)\n",
      "  Processing subject: A00037831 (89 of 133)\n",
      "  Processing subject: A00038158 (90 of 133)\n",
      "  Processing subject: A00038159 (91 of 133)\n",
      "  Processing subject: A00038424 (92 of 133)\n",
      "  Processing subject: A00038520 (93 of 133)\n",
      "  Processing subject: A00038605 (94 of 133)\n",
      "  Processing subject: A00038623 (95 of 133)\n",
      "  Processing subject: A00038731 (96 of 133)\n",
      "  Processing subject: A00038805 (97 of 133)\n",
      "  Processing subject: A00038817 (98 of 133)\n",
      "  Processing subject: A00038959 (99 of 133)\n",
      "  Processing subject: A00039041 (100 of 133)\n",
      "  Processing subject: A00039083 (101 of 133)\n",
      "  Processing subject: A00039159 (102 of 133)\n",
      "  Processing subject: A00039168 (103 of 133)\n",
      "  Processing subject: A00039218 (104 of 133)\n",
      "  Processing subject: A00039391 (105 of 133)\n",
      "  Processing subject: A00039393 (106 of 133)\n",
      "  Processing subject: A00039431 (107 of 133)\n",
      "  Processing subject: A00039432 (108 of 133)\n",
      "  Processing subject: A00039490 (109 of 133)\n",
      "  Processing subject: A00039500 (110 of 133)\n",
      "  Processing subject: A00039559 (111 of 133)\n",
      "  Processing subject: A00039560 (112 of 133)\n",
      "  Processing subject: A00039593 (113 of 133)\n",
      "  Processing subject: A00039635 (114 of 133)\n",
      "  Processing subject: A00039639 (115 of 133)\n",
      "  Processing subject: A00039640 (116 of 133)\n",
      "  Processing subject: A00039669 (117 of 133)\n",
      "  Processing subject: A00039686 (118 of 133)\n",
      "  Processing subject: A00039700 (119 of 133)\n",
      "  Processing subject: A00039758 (120 of 133)\n",
      "  Processing subject: A00039783 (121 of 133)\n",
      "  Processing subject: A00039820 (122 of 133)\n",
      "  Processing subject: A00039845 (123 of 133)\n",
      "  Processing subject: A00039895 (124 of 133)\n",
      "  Processing subject: A00039916 (125 of 133)\n",
      "  Processing subject: A00039951 (126 of 133)\n",
      "  Processing subject: A00039966 (127 of 133)\n",
      "  Processing subject: A00039974 (128 of 133)\n",
      "  Processing subject: A00040152 (129 of 133)\n",
      "  Processing subject: A00040182 (130 of 133)\n",
      "  Processing subject: A00040248 (131 of 133)\n",
      "  Processing subject: A00040285 (132 of 133)\n",
      "  Processing subject: A00040286 (133 of 133)\n",
      "Done processing subjects.\n",
      "Smoothing averages and saving...\n",
      "  Smoothing tract for IPL_L_gwfa | IPL_R_gwfa\n",
      "  Smoothing tract for IPL_L_gwfa | IPS_L_gwfa\n",
      "  Smoothing tract for IPL_L_gwfa | IPS_R_gwfa\n",
      "  Smoothing tract for IPL_L_gwfa | SPL_L_gwfa\n",
      "  Smoothing tract for IPL_L_gwfa | SPL_R_gwfa\n",
      "  Smoothing tract for IPL_L_gwfa | dPMC_L_gwfa\n",
      "  Smoothing tract for IPL_L_gwfa | dPMC_R_gwfa\n",
      "  Smoothing tract for IPL_L_gwfa | vPMC_L_gwfa\n",
      "  Smoothing tract for IPL_L_gwfa | vPMC_R_gwfa\n",
      "  Smoothing tract for IPL_R_gwfa | IPS_L_gwfa\n",
      "  Smoothing tract for IPL_R_gwfa | IPS_R_gwfa\n",
      "  Smoothing tract for IPL_R_gwfa | SPL_L_gwfa\n",
      "  Smoothing tract for IPL_R_gwfa | SPL_R_gwfa\n",
      "  Smoothing tract for IPL_R_gwfa | dPMC_L_gwfa\n",
      "  Smoothing tract for IPL_R_gwfa | dPMC_R_gwfa\n",
      "  Smoothing tract for IPL_R_gwfa | vPMC_L_gwfa\n",
      "  Smoothing tract for IPL_R_gwfa | vPMC_R_gwfa\n",
      "  Smoothing tract for IPS_L_gwfa | IPS_R_gwfa\n",
      "  Smoothing tract for IPS_L_gwfa | SPL_L_gwfa\n",
      "  Smoothing tract for IPS_L_gwfa | SPL_R_gwfa\n",
      "  Smoothing tract for IPS_L_gwfa | dPMC_L_gwfa\n",
      "  Smoothing tract for IPS_L_gwfa | dPMC_R_gwfa\n",
      "  Smoothing tract for IPS_L_gwfa | vPMC_L_gwfa\n",
      "  Smoothing tract for IPS_L_gwfa | vPMC_R_gwfa\n",
      "  Smoothing tract for IPS_R_gwfa | SPL_L_gwfa\n",
      "  Smoothing tract for IPS_R_gwfa | SPL_R_gwfa\n",
      "  Smoothing tract for IPS_R_gwfa | dPMC_L_gwfa\n",
      "  Smoothing tract for IPS_R_gwfa | dPMC_R_gwfa\n",
      "  Smoothing tract for IPS_R_gwfa | vPMC_L_gwfa\n",
      "  Smoothing tract for IPS_R_gwfa | vPMC_R_gwfa\n",
      "  Smoothing tract for SPL_L_gwfa | SPL_R_gwfa\n",
      "  Smoothing tract for SPL_L_gwfa | dPMC_L_gwfa\n",
      "  Smoothing tract for SPL_L_gwfa | dPMC_R_gwfa\n",
      "  Smoothing tract for SPL_L_gwfa | vPMC_L_gwfa\n",
      "  Smoothing tract for SPL_L_gwfa | vPMC_R_gwfa\n",
      "  Smoothing tract for SPL_R_gwfa | dPMC_L_gwfa\n",
      "  Smoothing tract for SPL_R_gwfa | dPMC_R_gwfa\n",
      "  Smoothing tract for SPL_R_gwfa | vPMC_L_gwfa\n",
      "  Smoothing tract for SPL_R_gwfa | vPMC_R_gwfa\n",
      "  Smoothing tract for dPMC_L_gwfa | dPMC_R_gwfa\n",
      "  Smoothing tract for dPMC_L_gwfa | vPMC_L_gwfa\n",
      "  Smoothing tract for dPMC_L_gwfa | vPMC_R_gwfa\n",
      "  Smoothing tract for dPMC_R_gwfa | vPMC_L_gwfa\n",
      "  Smoothing tract for dPMC_R_gwfa | vPMC_R_gwfa\n",
      "  Smoothing tract for vPMC_L_gwfa | vPMC_R_gwfa\n",
      "Done smoothing and saving.\n"
     ]
    }
   ],
   "source": [
    "# Bidirectional average tract counts (normalized & binarized) from ProbtrackX output\n",
    "\n",
    "# Description:\n",
    "# For all subdirectories A in source_dir, obtains\n",
    "# the minimal tract count from ROI A->B and B->A. Next normalizes these tract \n",
    "# counts and finds the average of these across subjects. Also binarizes at the \n",
    "# proportion bin_thresh (0 to 1), and finds the average binarized value\n",
    "# across subjects. Write the results to target_dir.\n",
    "\n",
    "print('\\n== Computing average tracts ==\\n')\n",
    "\n",
    "params_avt = params['average_tracts']\n",
    "fwhm = params_avt['fwhm']\n",
    "bin_thres = params_avt['bin_thres']\n",
    "\n",
    "avr_dir = os.path.join(tracts_dir, 'average')\n",
    "if not os.path.isdir(avr_dir):\n",
    "    os.makedirs(avr_dir)\n",
    "\n",
    "V = np.zeros(V_img.shape)\n",
    "V_min_avr = {}\n",
    "V_bin_avr = {}\n",
    "\n",
    "# Instantiate list of roi pair volumes\n",
    "for i in range (0,len(rois)):\n",
    "    roi_i = rois[i]\n",
    "    row_i = {}\n",
    "    for j in range (i+1,len(rois)):\n",
    "        roi_j = rois[j]\n",
    "        row_i[roi_j] = np.squeeze(V)\n",
    "    V_min_avr[roi_i] = row_i\n",
    "    V_bin_avr[roi_i] = row_i\n",
    "\n",
    "print('Processing subject-wise tractography...')\n",
    "subj_passed = []    \n",
    "\n",
    "s = 1\n",
    "for subject in tqdm_notebook(subjects, 'Progress'):\n",
    "    prefix_sub = '{0}{1}'.format(params_gen['prefix'], subject)\n",
    "    print('  Processing subject: {0} ({1} of {2})'.format(subject, s, len(subjects)))\n",
    "    subject_dir = os.path.join(project_dir, params_gen['deriv_dir'], prefix_sub, \\\n",
    "                               params_gen['sub_dirs'], params_gen['dwi_dir'], \\\n",
    "                               'probtrackX', params_gen['network_name'])\n",
    "    \n",
    "    passed = False\n",
    "    for i in range (0,len(rois)):\n",
    "        roi_i = rois[i]\n",
    "        for j in range (i+1,len(rois)):\n",
    "            roi_j = rois[j]\n",
    "            try:\n",
    "                V_ij = nib.load('{0}/{1}/target_paths_{2}.nii.gz'.format(subject_dir, roi_i, roi_j)).get_data()\n",
    "                V_ji = nib.load('{0}/{1}/target_paths_{2}.nii.gz'.format(subject_dir, roi_j, roi_i)).get_data()\n",
    "                V_min = np.minimum(V_ij,V_ji) # Minimum of A->B and B->A\n",
    "                mx = V_min.max()\n",
    "                if mx > 0:\n",
    "                    V_min = np.divide(V_min, mx) # Normalize to maximum (if not all zeros)      \n",
    "                V_min = np.multiply(V_min, np.greater(V_min, bin_thres).astype(np.float16)) # Binarize to bin_thresh\n",
    "                V_bin = np.greater(V_min, 0).astype(np.float16)                           \n",
    "                V_min_avr[roi_i][roi_j] = np.add(V_min_avr[roi_i][roi_j], V_min)\n",
    "                V_bin_avr[roi_i][roi_j] = np.add(V_bin_avr[roi_i][roi_j], V_bin)\n",
    "                passed = True\n",
    "            except Exception as e:\n",
    "                print('  ** Error processing subject {0} [skipping]: {1}'.format(subject, e))\n",
    "                break\n",
    "\n",
    "    if passed:\n",
    "        subj_passed.append(subject)\n",
    "        s = s + 1\n",
    "                                \n",
    "# Write passed subjects to file\n",
    "subjects = subj_passed\n",
    "with open('{0}/subjects_avr_{1}.list'.format(tracts_dir, params_gen['network_name']), 'w') as fileout:\n",
    "    for subject in subjects:\n",
    "        fileout.write('{0}\\n'.format(subject))\n",
    "            \n",
    "# Divide sums\n",
    "for i in range (0,len(rois)):\n",
    "    roi_i = rois[i]\n",
    "    for j in range (i+1,len(rois)):\n",
    "        roi_j = rois[j]\n",
    "        V_min_avr[roi_i][roi_j] = np.divide(V_min_avr[roi_i][roi_j], len(subjects))\n",
    "        V_bin_avr[roi_i][roi_j] = np.divide(V_bin_avr[roi_i][roi_j], len(subjects))\n",
    "\n",
    "print('Done processing subjects.\\nSmoothing averages and saving...')\n",
    "        \n",
    "# Normalize, smooth, and save results\n",
    "for i in range (0,len(rois)):\n",
    "    roi_i = rois[i]\n",
    "    for j in range (i+1,len(rois)):\n",
    "        roi_j = rois[j]\n",
    "        print('  Smoothing tract for {0} | {1}'.format(roi_i, roi_j))\n",
    "        \n",
    "        V = V_min_avr[roi_i][roi_j]\n",
    "        # Normalize\n",
    "        mx = np.max(V)\n",
    "        if (mx > 0):\n",
    "            V = np.divide(V, mx)\n",
    "        img = nib.Nifti1Image(V, V_img.affine, V_img.header)\n",
    "        # Smooth\n",
    "        V_img = image.smooth_img(img, fwhm)\n",
    "        # Save\n",
    "        nib.save(V_img, '{0}/avr_min_tract_counts_{1}_{2}.nii.gz'.format(avr_dir, roi_i, roi_j))\n",
    "        \n",
    "        V = V_bin_avr[roi_i][roi_j]\n",
    "        # Normalize\n",
    "        mx = np.max(V)\n",
    "        if (mx > 0):\n",
    "            V = np.divide(V, mx)\n",
    "        V_img = nib.Nifti1Image(V, V_img.affine, V_img.header)\n",
    "        # Smooth\n",
    "        V_img = image.smooth_img(img, fwhm)\n",
    "        # Save\n",
    "        nib.save(img, '{0}/avr_bin_tract_counts_{1}_{2}.nii.gz'.format(avr_dir, roi_i, roi_j))\n",
    "\n",
    "# Clear some memory\n",
    "del V_min_avr\n",
    "del V_bin_avr\n",
    "del V\n",
    "        \n",
    "print('Done smoothing and saving.')\n",
    "\n",
    "#print('\\n== Done computing average tracts ==\\n')"
   ]
  },
  {
   "cell_type": "code",
   "execution_count": 16,
   "metadata": {},
   "outputs": [
    {
     "name": "stdout",
     "output_type": "stream",
     "text": [
      "\n",
      "== Computing tract distances ==\n",
      "\n"
     ]
    },
    {
     "data": {
      "application/vnd.jupyter.widget-view+json": {
       "model_id": "fd79cd05c4be4d5d82babd0fd3e2bf80",
       "version_major": 2,
       "version_minor": 0
      },
      "text/plain": [
       "HBox(children=(IntProgress(value=0, description='Progress', max=45), HTML(value='')))"
      ]
     },
     "metadata": {},
     "output_type": "display_data"
    },
    {
     "name": "stdout",
     "output_type": "stream",
     "text": [
      "  Done tract IPL_L_gwfa/IPL_R_gwfa\n",
      "  Done tract IPL_L_gwfa/IPS_L_gwfa\n",
      "  Done tract IPL_L_gwfa/IPS_R_gwfa\n",
      "  Done tract IPL_L_gwfa/SPL_L_gwfa\n",
      "  Done tract IPL_L_gwfa/SPL_R_gwfa\n",
      "  Done tract IPL_L_gwfa/dPMC_L_gwfa\n",
      "  ** Warning: Tracts do not overlap for IPL_L_gwfa/dPMC_R_gwfa. Skipping\n",
      "  Done tract IPL_L_gwfa/vPMC_L_gwfa\n",
      "  Done tract IPL_L_gwfa/vPMC_R_gwfa\n",
      "  Done tract IPL_R_gwfa/IPS_L_gwfa\n",
      "  Done tract IPL_R_gwfa/IPS_R_gwfa\n",
      "  Done tract IPL_R_gwfa/SPL_L_gwfa\n",
      "  Done tract IPL_R_gwfa/SPL_R_gwfa\n",
      "  ** Warning: Tracts do not overlap for IPL_R_gwfa/dPMC_L_gwfa. Skipping\n",
      "  Done tract IPL_R_gwfa/dPMC_R_gwfa\n",
      "  ** Warning: Tracts do not overlap for IPL_R_gwfa/vPMC_L_gwfa. Skipping\n",
      "  Done tract IPL_R_gwfa/vPMC_R_gwfa\n",
      "  Done tract IPS_L_gwfa/IPS_R_gwfa\n",
      "  Done tract IPS_L_gwfa/SPL_L_gwfa\n",
      "  Done tract IPS_L_gwfa/SPL_R_gwfa\n",
      "  Done tract IPS_L_gwfa/dPMC_L_gwfa\n",
      "  Done tract IPS_L_gwfa/dPMC_R_gwfa\n",
      "  Done tract IPS_L_gwfa/vPMC_L_gwfa\n",
      "  Done tract IPS_L_gwfa/vPMC_R_gwfa\n",
      "  Done tract IPS_R_gwfa/SPL_L_gwfa\n",
      "  Done tract IPS_R_gwfa/SPL_R_gwfa\n",
      "  ** Warning: Tracts do not overlap for IPS_R_gwfa/dPMC_L_gwfa. Skipping\n",
      "  Done tract IPS_R_gwfa/dPMC_R_gwfa\n",
      "  ** Warning: Tracts do not overlap for IPS_R_gwfa/vPMC_L_gwfa. Skipping\n",
      "  Done tract IPS_R_gwfa/vPMC_R_gwfa\n",
      "  Done tract SPL_L_gwfa/SPL_R_gwfa\n",
      "  Done tract SPL_L_gwfa/dPMC_L_gwfa\n",
      "  Done tract SPL_L_gwfa/dPMC_R_gwfa\n",
      "  Done tract SPL_L_gwfa/vPMC_L_gwfa\n",
      "  ** Warning: Tracts do not overlap for SPL_L_gwfa/vPMC_R_gwfa. Skipping\n",
      "  Done tract SPL_R_gwfa/dPMC_L_gwfa\n",
      "  Done tract SPL_R_gwfa/dPMC_R_gwfa\n",
      "  Done tract SPL_R_gwfa/vPMC_L_gwfa\n",
      "  Done tract SPL_R_gwfa/vPMC_R_gwfa\n",
      "  Done tract dPMC_L_gwfa/dPMC_R_gwfa\n",
      "  Done tract dPMC_L_gwfa/vPMC_L_gwfa\n",
      "  Done tract dPMC_L_gwfa/vPMC_R_gwfa\n",
      "  Done tract dPMC_R_gwfa/vPMC_L_gwfa\n",
      "  Done tract dPMC_R_gwfa/vPMC_R_gwfa\n",
      "  Done tract vPMC_L_gwfa/vPMC_R_gwfa\n",
      "\n",
      "== Done computing tract distances ==\n",
      "\n"
     ]
    }
   ],
   "source": [
    "# Compute tract distances\n",
    "#\n",
    "# Computes the distance from a seed ROI allow a tract to a target ROI.\n",
    "# Uses a flood-fill approach to assign integers to voxels, representing\n",
    "# the number of voxel steps required to reach that voxel from the seed ROI\n",
    "\n",
    "print('\\n== Computing tract distances ==\\n')\n",
    "\n",
    "# Create directories\n",
    "params_gauss = params['gaussians']\n",
    "sigma_axial = params_gauss['fwhm_axial'] / (2.0*math.sqrt(2.0*math.log(2.0)))\n",
    "sigma_radial = params_gauss['fwhm_radial'] / (2.0*math.sqrt(2.0*math.log(2.0)))\n",
    "threshold = params_gauss['threshold']\n",
    "max_seg_length = params_gauss['max_seg_length']\n",
    "gauss_max_radius = params_gauss['gauss_max_radius']\n",
    "tract_thresh = params_gauss['tract_thresh']\n",
    "\n",
    "V_rois = {}\n",
    "\n",
    "# Load ROI volumes\n",
    "for roi in rois:\n",
    "    roi_file = '{0}/{1}.{2}'.format(rois_dir, roi, roi_suffix)\n",
    "    img = nib.load(roi_file)\n",
    "    V_rois[roi] = img.get_data()\n",
    "    \n",
    "if params_gen['clobber']:\n",
    "    if os.path.isdir(dist_dir):\n",
    "        shutil.rmtree(dist_dir)\n",
    "    os.makedirs(dist_dir)\n",
    "    \n",
    "# Compute tract distances\n",
    "rois_a = []\n",
    "rois_b = []\n",
    "\n",
    "for a in range (0,len(rois)):\n",
    "    for b in range (a+1,len(rois)):\n",
    "        rois_a.append(rois[a])\n",
    "        rois_b.append(rois[b])\n",
    "\n",
    "del a,b \n",
    "c = 0\n",
    "for c in tqdm_notebook(range (0,len(rois_a)), desc=\"Progress\"):\n",
    "    roi_a = rois_a[c]\n",
    "    V_roi_a = V_rois[roi_a]\n",
    "    roi_b = rois_b[c]\n",
    "    V_roi_b = V_rois[roi_b]\n",
    "    c += 1\n",
    "        \n",
    "    dist_img_ab = '{0}/tract_dist_{1}_{2}.nii.gz'.format(dist_dir, roi_a, roi_b)\n",
    "    dist_img_ba = '{0}/tract_dist_{1}_{2}.nii.gz'.format(dist_dir, roi_b, roi_a)\n",
    "\n",
    "    # Check if this has already been done and if so load it instead of computing it\n",
    "    # (this can be redone if clobber=true)\n",
    "    if not params_gen['clobber'] and os.path.isfile(dist_img_ab) and os.path.isfile(dist_img_ba):\n",
    "        V_dists['{0}_{1}'.format(roi_a, roi_b)] = nib.load(dist_img_ab).get_data()\n",
    "        V_dists['{0}_{1}'.format(roi_b, roi_a)] = nib.load(dist_img_ba).get_data()\n",
    "        if params_gen['verbose']:\n",
    "            print('  Images already exist for {0}/{1}; loading from file.'.format(roi_a, roi_b))\n",
    "    else:\n",
    "\n",
    "        tract_file = '{0}/avr_bin_tract_counts_{1}_{2}.nii.gz'.format(avr_dir, roi_a, roi_b)\n",
    "        if not os.path.isfile(tract_file):\n",
    "            tract_file = '{0}/avr_bin_tract_counts_{1}_{2}.nii.gz'.format(avr_dir, roi_b, roi_a)\n",
    "\n",
    "        if not os.path.isfile(tract_file):\n",
    "            if params_gen['verbose']:\n",
    "                print('  **Warning: No file found for ROI pair {0}/{1}! Skipping...'.format(roi_a, roi_b))\n",
    "        else:\n",
    "            # Load and threshold average tract\n",
    "            V_tract = nib.load(tract_file).get_data()\n",
    "            \n",
    "            V_mask = np.greater(V_tract, threshold).astype(np.float)\n",
    "            V_tract = np.multiply(V_mask, V_tract)\n",
    "\n",
    "            # Compute voxel steps from seed as distances\n",
    "            V_dist_a = utils.get_tract_dist(V_mask, V_roi_a, 2, V_stop=V_roi_b)\n",
    "            V_dist_b = utils.get_tract_dist(V_mask, V_roi_b, 2, V_stop=V_roi_a)\n",
    "            V_dist = np.logical_and(V_dist_a>0, V_dist_b>0)\n",
    "\n",
    "            if not np.any(V_dist):\n",
    "                if params_gen['verbose']:\n",
    "                    print('  ** Warning: Tracts do not overlap for {0}/{1}. Skipping'.format(roi_a, roi_b))\n",
    "            else:\n",
    "\n",
    "                 # Write distances to file\n",
    "                img = nib.Nifti1Image(V_dist_a, V_img.affine, V_img.header)\n",
    "                nib.save(img, dist_img_ab)\n",
    "                img = nib.Nifti1Image(V_dist_b, V_img.affine, V_img.header)\n",
    "                nib.save(img, dist_img_ba)\n",
    "\n",
    "                if params_gen['verbose']:\n",
    "                    print('  Done tract {0}/{1}'.format(roi_a, roi_b))\n",
    "            \n",
    "print('\\n== Done computing tract distances ==\\n')\n"
   ]
  },
  {
   "cell_type": "code",
   "execution_count": 3,
   "metadata": {},
   "outputs": [
    {
     "name": "stdout",
     "output_type": "stream",
     "text": [
      "\n",
      "== Generating polylines and Gaussians ==\n",
      "\n"
     ]
    },
    {
     "data": {
      "application/vnd.jupyter.widget-view+json": {
       "model_id": "1e7c6a52b39f429fbbccad921a55a6b7",
       "version_major": 2,
       "version_minor": 0
      },
      "text/plain": [
       "HBox(children=(IntProgress(value=0, description='Progress', max=90), HTML(value='')))"
      ]
     },
     "metadata": {},
     "output_type": "display_data"
    },
    {
     "name": "stdout",
     "output_type": "stream",
     "text": [
      "  Tract IPL_L_gwfa_IPL_R_gwfa: max_dist=81\n"
     ]
    },
    {
     "data": {
      "application/vnd.jupyter.widget-view+json": {
       "model_id": "b7937661b3234f428d9f3d53e51593ff",
       "version_major": 2,
       "version_minor": 0
      },
      "text/plain": [
       "HBox(children=(IntProgress(value=0, description='Distances', max=40), HTML(value='')))"
      ]
     },
     "metadata": {},
     "output_type": "display_data"
    },
    {
     "name": "stdout",
     "output_type": "stream",
     "text": [
      "  Tract IPL_L_gwfa_IPL_R_gwfa: Found target B @ d=75.\n",
      "  Tract IPL_L_gwfa_IPL_R_gwfa: Found target A @ d=1.\n"
     ]
    },
    {
     "data": {
      "application/vnd.jupyter.widget-view+json": {
       "model_id": "607dc691cf8045158ac0ff74b1230f0b",
       "version_major": 2,
       "version_minor": 0
      },
      "text/plain": [
       "HBox(children=(IntProgress(value=0, description='Gaussians', max=74), HTML(value='')))"
      ]
     },
     "metadata": {},
     "output_type": "display_data"
    },
    {
     "name": "stdout",
     "output_type": "stream",
     "text": [
      "  Computed distances, polylines, and Gaussians for IPL_L_gwfa/IPL_R_gwfa\n",
      "  Tract IPL_L_gwfa_IPS_L_gwfa: max_dist=9\n"
     ]
    },
    {
     "data": {
      "application/vnd.jupyter.widget-view+json": {
       "model_id": "6d218843021048b9a4f524dcbc2e98d2",
       "version_major": 2,
       "version_minor": 0
      },
      "text/plain": [
       "HBox(children=(IntProgress(value=0, description='Distances', max=4), HTML(value='')))"
      ]
     },
     "metadata": {},
     "output_type": "display_data"
    },
    {
     "name": "stdout",
     "output_type": "stream",
     "text": [
      "  Tract IPL_L_gwfa_IPS_L_gwfa: Found target B @ d=4.\n",
      "  Tract IPL_L_gwfa_IPS_L_gwfa: Found target A @ d=1.\n"
     ]
    },
    {
     "data": {
      "application/vnd.jupyter.widget-view+json": {
       "model_id": "5313ee239745484f977ab305cd41c0cc",
       "version_major": 2,
       "version_minor": 0
      },
      "text/plain": [
       "HBox(children=(IntProgress(value=0, description='Gaussians', max=3), HTML(value='')))"
      ]
     },
     "metadata": {},
     "output_type": "display_data"
    },
    {
     "name": "stdout",
     "output_type": "stream",
     "text": [
      "  Computed distances, polylines, and Gaussians for IPL_L_gwfa/IPS_L_gwfa\n",
      "  Tract IPL_L_gwfa_IPS_R_gwfa: max_dist=72\n"
     ]
    },
    {
     "data": {
      "application/vnd.jupyter.widget-view+json": {
       "model_id": "7e7fa0b1712e4e769eb80793d647c5bf",
       "version_major": 2,
       "version_minor": 0
      },
      "text/plain": [
       "HBox(children=(IntProgress(value=0, description='Distances', max=36), HTML(value='')))"
      ]
     },
     "metadata": {},
     "output_type": "display_data"
    },
    {
     "name": "stdout",
     "output_type": "stream",
     "text": [
      "  Tract IPL_L_gwfa_IPS_R_gwfa: Found target B @ d=66.\n",
      "  Tract IPL_L_gwfa_IPS_R_gwfa: Found target A @ d=1.\n"
     ]
    },
    {
     "data": {
      "application/vnd.jupyter.widget-view+json": {
       "model_id": "45f89d519ee6444587b3dd169d665a8a",
       "version_major": 2,
       "version_minor": 0
      },
      "text/plain": [
       "HBox(children=(IntProgress(value=0, description='Gaussians', max=65), HTML(value='')))"
      ]
     },
     "metadata": {},
     "output_type": "display_data"
    },
    {
     "name": "stdout",
     "output_type": "stream",
     "text": [
      "Len @ 1 is zero! p_1=[124  55  96] | p_2=[124  55  96]\n",
      "  Computed distances, polylines, and Gaussians for IPL_L_gwfa/IPS_R_gwfa\n",
      "  Tract IPL_L_gwfa_SPL_L_gwfa: max_dist=25\n"
     ]
    },
    {
     "data": {
      "application/vnd.jupyter.widget-view+json": {
       "model_id": "d9a1d75b041b48e38886dd2f16c678f4",
       "version_major": 2,
       "version_minor": 0
      },
      "text/plain": [
       "HBox(children=(IntProgress(value=0, description='Distances', max=12), HTML(value='')))"
      ]
     },
     "metadata": {},
     "output_type": "display_data"
    },
    {
     "name": "stdout",
     "output_type": "stream",
     "text": [
      "  Tract IPL_L_gwfa_SPL_L_gwfa: Found target B @ d=19.\n",
      "  Tract IPL_L_gwfa_SPL_L_gwfa: Found target A @ d=1.\n"
     ]
    },
    {
     "data": {
      "application/vnd.jupyter.widget-view+json": {
       "model_id": "741d8d451939426ebff6c2932d10d6d1",
       "version_major": 2,
       "version_minor": 0
      },
      "text/plain": [
       "HBox(children=(IntProgress(value=0, description='Gaussians', max=18), HTML(value='')))"
      ]
     },
     "metadata": {},
     "output_type": "display_data"
    },
    {
     "name": "stdout",
     "output_type": "stream",
     "text": [
      "Len @ 1 is zero! p_1=[124  55  96] | p_2=[124  55  96]\n",
      "  Computed distances, polylines, and Gaussians for IPL_L_gwfa/SPL_L_gwfa\n",
      "  Tract IPL_L_gwfa_SPL_R_gwfa: max_dist=48\n"
     ]
    },
    {
     "data": {
      "application/vnd.jupyter.widget-view+json": {
       "model_id": "0c70cec11cb04d95988886460c061368",
       "version_major": 2,
       "version_minor": 0
      },
      "text/plain": [
       "HBox(children=(IntProgress(value=0, description='Distances', max=24), HTML(value='')))"
      ]
     },
     "metadata": {},
     "output_type": "display_data"
    },
    {
     "name": "stdout",
     "output_type": "stream",
     "text": [
      "  Tract IPL_L_gwfa_SPL_R_gwfa: Found target B @ d=42.\n",
      "  Tract IPL_L_gwfa_SPL_R_gwfa: Found target A @ d=1.\n"
     ]
    },
    {
     "data": {
      "application/vnd.jupyter.widget-view+json": {
       "model_id": "2d63c696fef745a88c8b31de3d5fc315",
       "version_major": 2,
       "version_minor": 0
      },
      "text/plain": [
       "HBox(children=(IntProgress(value=0, description='Gaussians', max=41), HTML(value='')))"
      ]
     },
     "metadata": {},
     "output_type": "display_data"
    },
    {
     "name": "stdout",
     "output_type": "stream",
     "text": [
      "Len @ 1 is zero! p_1=[124  55  96] | p_2=[124  55  96]\n",
      "  Computed distances, polylines, and Gaussians for IPL_L_gwfa/SPL_R_gwfa\n",
      "  Tract IPL_L_gwfa_dPMC_L_gwfa: max_dist=78\n"
     ]
    },
    {
     "data": {
      "application/vnd.jupyter.widget-view+json": {
       "model_id": "4819ec10972d4b808e20b13a0f6acb44",
       "version_major": 2,
       "version_minor": 0
      },
      "text/plain": [
       "HBox(children=(IntProgress(value=0, description='Distances', max=39), HTML(value='')))"
      ]
     },
     "metadata": {},
     "output_type": "display_data"
    },
    {
     "name": "stdout",
     "output_type": "stream",
     "text": [
      "  Tract IPL_L_gwfa_dPMC_L_gwfa: Found target B @ d=72.\n",
      "  Tract IPL_L_gwfa_dPMC_L_gwfa: Found target A @ d=1.\n"
     ]
    },
    {
     "data": {
      "application/vnd.jupyter.widget-view+json": {
       "model_id": "0ca0a9e4191a4d92bcb26c65041f9570",
       "version_major": 2,
       "version_minor": 0
      },
      "text/plain": [
       "HBox(children=(IntProgress(value=0, description='Gaussians', max=71), HTML(value='')))"
      ]
     },
     "metadata": {},
     "output_type": "display_data"
    },
    {
     "name": "stdout",
     "output_type": "stream",
     "text": [
      "  Computed distances, polylines, and Gaussians for IPL_L_gwfa/dPMC_L_gwfa\n",
      "  **Warning: No distances file found for ROI pair IPL_L_gwfa/dPMC_R_gwfa! Skipping...\n",
      "  Tract IPL_L_gwfa_vPMC_L_gwfa: max_dist=75\n"
     ]
    },
    {
     "data": {
      "application/vnd.jupyter.widget-view+json": {
       "model_id": "7f8ed3632eaf414f93bc05874aba2800",
       "version_major": 2,
       "version_minor": 0
      },
      "text/plain": [
       "HBox(children=(IntProgress(value=0, description='Distances', max=38), HTML(value='')))"
      ]
     },
     "metadata": {},
     "output_type": "display_data"
    },
    {
     "name": "stdout",
     "output_type": "stream",
     "text": [
      "  Tract IPL_L_gwfa_vPMC_L_gwfa: Found target B @ d=69.\n",
      "  Tract IPL_L_gwfa_vPMC_L_gwfa: Found target A @ d=1.\n"
     ]
    },
    {
     "data": {
      "application/vnd.jupyter.widget-view+json": {
       "model_id": "28d8ce88bfb748309c12fd37315f1d65",
       "version_major": 2,
       "version_minor": 0
      },
      "text/plain": [
       "HBox(children=(IntProgress(value=0, description='Gaussians', max=68), HTML(value='')))"
      ]
     },
     "metadata": {},
     "output_type": "display_data"
    },
    {
     "name": "stdout",
     "output_type": "stream",
     "text": [
      "  Computed distances, polylines, and Gaussians for IPL_L_gwfa/vPMC_L_gwfa\n",
      "  Tract IPL_L_gwfa_vPMC_R_gwfa: max_dist=129\n"
     ]
    },
    {
     "data": {
      "application/vnd.jupyter.widget-view+json": {
       "model_id": "a32774ae58e94a3f8e8d2ec2da9f64ef",
       "version_major": 2,
       "version_minor": 0
      },
      "text/plain": [
       "HBox(children=(IntProgress(value=0, description='Distances', max=64), HTML(value='')))"
      ]
     },
     "metadata": {},
     "output_type": "display_data"
    },
    {
     "name": "stdout",
     "output_type": "stream",
     "text": [
      "   * Debug: Constraint fail: len (20.223748416156685) > max_len(4)\n",
      "   * Debug: Constraint fail: len (184.74035834110532) > max_len(4)\n",
      "   * Debug: Constraint fail: len (184.09236811991963) > max_len(4)\n",
      "   * Debug: Constraint fail: len (184.18468991748472) > max_len(4)\n",
      "   * Debug: Constraint fail: len (182.45821439441963) > max_len(4)\n",
      "   * Debug: Constraint fail: len (181.4855366138029) > max_len(4)\n",
      "   * Debug: Constraint fail: len (181.4855366138029) > max_len(4)\n",
      "   * Debug: Constraint fail: len (179.8777362543792) > max_len(4)\n",
      "   * Debug: Constraint fail: len (179.34603424664846) > max_len(4)\n",
      "   * Debug: Constraint fail: len (178.28348212888372) > max_len(4)\n",
      "   * Debug: Constraint fail: len (177.75826281779422) > max_len(4)\n",
      "   * Debug: Constraint fail: len (177.37248941140788) > max_len(4)\n",
      "   * Debug: Constraint fail: len (177.38940216371438) > max_len(4)\n",
      "   * Debug: Constraint fail: len (176.87848936487444) > max_len(4)\n",
      "   * Debug: Constraint fail: len (176.51345557775474) > max_len(4)\n",
      "   * Debug: Constraint fail: len (176.0113632695344) > max_len(4)\n",
      "   * Debug: Constraint fail: len (175.66729917659688) > max_len(4)\n",
      "   * Debug: Constraint fail: len (175.55910685578235) > max_len(4)\n",
      "   * Debug: Constraint fail: len (175.07141400011596) > max_len(4)\n",
      "   * Debug: Constraint fail: len (174.58808664969095) > max_len(4)\n",
      "   * Debug: Constraint fail: len (174.6568063374571) > max_len(4)\n",
      "   * Debug: Constraint fail: len (174.18381095842403) > max_len(4)\n",
      "   * Debug: Constraint fail: len (174.26990560621763) > max_len(4)\n",
      "   * Debug: Constraint fail: len (173.80736463107655) > max_len(4)\n",
      "   * Debug: Constraint fail: len (173.91089672588086) > max_len(4)\n",
      "   * Debug: Constraint fail: len (174.0258601472781) > max_len(4)\n",
      "   * Debug: Constraint fail: len (173.57995275952808) > max_len(4)\n",
      "   * Debug: Constraint fail: len (173.71240600486772) > max_len(4)\n",
      "   * Debug: Constraint fail: len (173.85626246989207) > max_len(4)\n",
      "   * Debug: Constraint fail: len (173.32339715110595) > max_len(4)\n",
      "   * Debug: Constraint fail: len (172.2120785543221) > max_len(4)\n",
      "   * Debug: Constraint fail: len (171.10523077919038) > max_len(4)\n",
      "   * Debug: Constraint fail: len (171.97092777559817) > max_len(4)\n",
      "   * Debug: Constraint fail: len (171.56048496084406) > max_len(4)\n",
      "   * Debug: Constraint fail: len (171.84586116633707) > max_len(4)\n",
      "   * Debug: Constraint fail: len (171.4467847467546) > max_len(4)\n",
      "   * Debug: Constraint fail: len (171.8545896972205) > max_len(4)\n",
      "   * Debug: Constraint fail: len (172.76863141207087) > max_len(4)\n",
      "   * Debug: Constraint fail: len (171.0847743079436) > max_len(4)\n",
      "   * Debug: Constraint fail: len (170.70735192135106) > max_len(4)\n",
      "   * Debug: Constraint fail: len (171.76146249959564) > max_len(4)\n",
      "   * Debug: Constraint fail: len (177.06778363101515) > max_len(4)\n",
      "   * Debug: Constraint fail: len (170.3202865192517) > max_len(4)\n",
      "   * Debug: Constraint fail: len (174.64249196572982) > max_len(4)\n",
      "   * Debug: Constraint fail: len (169.01479225203929) > max_len(4)\n",
      "   * Debug: Constraint fail: len (168.66831356244717) > max_len(4)\n",
      "   * Debug: Constraint fail: len (172.88724649319857) > max_len(4)\n",
      "   * Debug: Constraint fail: len (168.59418732566078) > max_len(4)\n",
      "   * Debug: Constraint fail: len (167.66037098849566) > max_len(4)\n",
      "   * Debug: Constraint fail: len (167.94046564184583) > max_len(4)\n",
      "   * Debug: Constraint fail: len (167.621597653763) > max_len(4)\n",
      "   * Debug: Constraint fail: len (166.0963575759565) > max_len(4)\n",
      "   * Debug: Constraint fail: len (167.0) > max_len(4)\n",
      "   * Debug: Constraint fail: len (167.8272921785965) > max_len(4)\n",
      "  Tract IPL_L_gwfa_vPMC_R_gwfa: Found target B @ d=123.\n",
      "  Tract IPL_L_gwfa_vPMC_R_gwfa: Found target A @ d=1.\n",
      "  Tract IPL_L_gwfa_vPMC_R_gwfa: Polyline had 54 constraint violation(s).\n"
     ]
    },
    {
     "data": {
      "application/vnd.jupyter.widget-view+json": {
       "model_id": "a0bf095e768d4647abadaf172328d43b",
       "version_major": 2,
       "version_minor": 0
      },
      "text/plain": [
       "HBox(children=(IntProgress(value=0, description='Gaussians', max=68), HTML(value='')))"
      ]
     },
     "metadata": {},
     "output_type": "display_data"
    },
    {
     "name": "stdout",
     "output_type": "stream",
     "text": [
      "Len @ 1 is zero! p_1=[124  56  97] | p_2=[124  56  97]\n",
      "  Computed distances, polylines, and Gaussians for IPL_L_gwfa/vPMC_R_gwfa\n",
      "  Tract IPL_R_gwfa_IPL_L_gwfa: max_dist=81\n"
     ]
    },
    {
     "data": {
      "application/vnd.jupyter.widget-view+json": {
       "model_id": "647c98cdd9454dc8bb07c146fdb68259",
       "version_major": 2,
       "version_minor": 0
      },
      "text/plain": [
       "HBox(children=(IntProgress(value=0, description='Distances', max=40), HTML(value='')))"
      ]
     },
     "metadata": {},
     "output_type": "display_data"
    },
    {
     "name": "stdout",
     "output_type": "stream",
     "text": [
      "  Tract IPL_R_gwfa_IPL_L_gwfa: Found target B @ d=75.\n",
      "  Tract IPL_R_gwfa_IPL_L_gwfa: Found target A @ d=1.\n"
     ]
    },
    {
     "data": {
      "application/vnd.jupyter.widget-view+json": {
       "model_id": "964d851d628c483d9412effdcf5d0901",
       "version_major": 2,
       "version_minor": 0
      },
      "text/plain": [
       "HBox(children=(IntProgress(value=0, description='Gaussians', max=74), HTML(value='')))"
      ]
     },
     "metadata": {},
     "output_type": "display_data"
    },
    {
     "name": "stdout",
     "output_type": "stream",
     "text": [
      "Len @ 1 is zero! p_1=[52 59 96] | p_2=[52 59 96]\n",
      "  Computed distances, polylines, and Gaussians for IPL_R_gwfa/IPL_L_gwfa\n",
      "  Tract IPL_R_gwfa_IPS_L_gwfa: max_dist=75\n"
     ]
    },
    {
     "data": {
      "application/vnd.jupyter.widget-view+json": {
       "model_id": "3996be674a02428a9bf503b24b314976",
       "version_major": 2,
       "version_minor": 0
      },
      "text/plain": [
       "HBox(children=(IntProgress(value=0, description='Distances', max=38), HTML(value='')))"
      ]
     },
     "metadata": {},
     "output_type": "display_data"
    },
    {
     "name": "stdout",
     "output_type": "stream",
     "text": [
      "  Tract IPL_R_gwfa_IPS_L_gwfa: Found target B @ d=69.\n",
      "  Tract IPL_R_gwfa_IPS_L_gwfa: Found target A @ d=1.\n"
     ]
    },
    {
     "data": {
      "application/vnd.jupyter.widget-view+json": {
       "model_id": "9d72ac97f8c94755bcc0afd56b364642",
       "version_major": 2,
       "version_minor": 0
      },
      "text/plain": [
       "HBox(children=(IntProgress(value=0, description='Gaussians', max=68), HTML(value='')))"
      ]
     },
     "metadata": {},
     "output_type": "display_data"
    },
    {
     "name": "stdout",
     "output_type": "stream",
     "text": [
      "  Computed distances, polylines, and Gaussians for IPL_R_gwfa/IPS_L_gwfa\n",
      "  Tract IPL_R_gwfa_IPS_R_gwfa: max_dist=12\n"
     ]
    },
    {
     "data": {
      "application/vnd.jupyter.widget-view+json": {
       "model_id": "c8ddb8201f6f40b39e28b232e8a5965f",
       "version_major": 2,
       "version_minor": 0
      },
      "text/plain": [
       "HBox(children=(IntProgress(value=0, description='Distances', max=6), HTML(value='')))"
      ]
     },
     "metadata": {},
     "output_type": "display_data"
    },
    {
     "name": "stdout",
     "output_type": "stream",
     "text": [
      "  Tract IPL_R_gwfa_IPS_R_gwfa: Found target B @ d=6.\n",
      "  Tract IPL_R_gwfa_IPS_R_gwfa: Found target A @ d=1.\n"
     ]
    },
    {
     "data": {
      "application/vnd.jupyter.widget-view+json": {
       "model_id": "96079260b9b3427ca11053ce01eca72f",
       "version_major": 2,
       "version_minor": 0
      },
      "text/plain": [
       "HBox(children=(IntProgress(value=0, description='Gaussians', max=5), HTML(value='')))"
      ]
     },
     "metadata": {},
     "output_type": "display_data"
    },
    {
     "name": "stdout",
     "output_type": "stream",
     "text": [
      "Len @ 1 is zero! p_1=[53 59 96] | p_2=[53 59 96]\n",
      "  Computed distances, polylines, and Gaussians for IPL_R_gwfa/IPS_R_gwfa\n",
      "  Tract IPL_R_gwfa_SPL_L_gwfa: max_dist=49\n"
     ]
    },
    {
     "data": {
      "application/vnd.jupyter.widget-view+json": {
       "model_id": "baaa73770aaa4e22b88d190ae6d7dfdf",
       "version_major": 2,
       "version_minor": 0
      },
      "text/plain": [
       "HBox(children=(IntProgress(value=0, description='Distances', max=24), HTML(value='')))"
      ]
     },
     "metadata": {},
     "output_type": "display_data"
    },
    {
     "name": "stdout",
     "output_type": "stream",
     "text": [
      "  Tract IPL_R_gwfa_SPL_L_gwfa: Found target B @ d=43.\n",
      "  Tract IPL_R_gwfa_SPL_L_gwfa: Found target A @ d=1.\n"
     ]
    },
    {
     "data": {
      "application/vnd.jupyter.widget-view+json": {
       "model_id": "309003a88b3241ddb078bed79dd70380",
       "version_major": 2,
       "version_minor": 0
      },
      "text/plain": [
       "HBox(children=(IntProgress(value=0, description='Gaussians', max=42), HTML(value='')))"
      ]
     },
     "metadata": {},
     "output_type": "display_data"
    },
    {
     "name": "stdout",
     "output_type": "stream",
     "text": [
      "  Computed distances, polylines, and Gaussians for IPL_R_gwfa/SPL_L_gwfa\n",
      "  Tract IPL_R_gwfa_SPL_R_gwfa: max_dist=28\n"
     ]
    },
    {
     "data": {
      "application/vnd.jupyter.widget-view+json": {
       "model_id": "fac3d81ff3da4e1a9e9c86313f917831",
       "version_major": 2,
       "version_minor": 0
      },
      "text/plain": [
       "HBox(children=(IntProgress(value=0, description='Distances', max=14), HTML(value='')))"
      ]
     },
     "metadata": {},
     "output_type": "display_data"
    },
    {
     "name": "stdout",
     "output_type": "stream",
     "text": [
      "  Tract IPL_R_gwfa_SPL_R_gwfa: Found target B @ d=22.\n",
      "  Tract IPL_R_gwfa_SPL_R_gwfa: Found target A @ d=1.\n"
     ]
    },
    {
     "data": {
      "application/vnd.jupyter.widget-view+json": {
       "model_id": "cea9167b3ba44835bc7d78de3aedcc9a",
       "version_major": 2,
       "version_minor": 0
      },
      "text/plain": [
       "HBox(children=(IntProgress(value=0, description='Gaussians', max=21), HTML(value='')))"
      ]
     },
     "metadata": {},
     "output_type": "display_data"
    },
    {
     "name": "stdout",
     "output_type": "stream",
     "text": [
      "Len @ 1 is zero! p_1=[52 59 96] | p_2=[52 59 96]\n",
      "  Computed distances, polylines, and Gaussians for IPL_R_gwfa/SPL_R_gwfa\n",
      "  **Warning: No distances file found for ROI pair IPL_R_gwfa/dPMC_L_gwfa! Skipping...\n",
      "  Tract IPL_R_gwfa_dPMC_R_gwfa: max_dist=77\n"
     ]
    },
    {
     "data": {
      "application/vnd.jupyter.widget-view+json": {
       "model_id": "6cdf2cf9ecfd462f8c41c3e293688989",
       "version_major": 2,
       "version_minor": 0
      },
      "text/plain": [
       "HBox(children=(IntProgress(value=0, description='Distances', max=38), HTML(value='')))"
      ]
     },
     "metadata": {},
     "output_type": "display_data"
    },
    {
     "name": "stdout",
     "output_type": "stream",
     "text": [
      "  Tract IPL_R_gwfa_dPMC_R_gwfa: Found target B @ d=71.\n",
      "  Tract IPL_R_gwfa_dPMC_R_gwfa: Found target A @ d=1.\n"
     ]
    },
    {
     "data": {
      "application/vnd.jupyter.widget-view+json": {
       "model_id": "4e60583ec86a44afb5546d14e3c7e2d1",
       "version_major": 2,
       "version_minor": 0
      },
      "text/plain": [
       "HBox(children=(IntProgress(value=0, description='Gaussians', max=70), HTML(value='')))"
      ]
     },
     "metadata": {},
     "output_type": "display_data"
    },
    {
     "name": "stdout",
     "output_type": "stream",
     "text": [
      "  Computed distances, polylines, and Gaussians for IPL_R_gwfa/dPMC_R_gwfa\n",
      "  **Warning: No distances file found for ROI pair IPL_R_gwfa/vPMC_L_gwfa! Skipping...\n",
      "  Tract IPL_R_gwfa_vPMC_R_gwfa: max_dist=75\n"
     ]
    },
    {
     "data": {
      "application/vnd.jupyter.widget-view+json": {
       "model_id": "d7bb947d1e244bd187d5aaaeca3cf566",
       "version_major": 2,
       "version_minor": 0
      },
      "text/plain": [
       "HBox(children=(IntProgress(value=0, description='Distances', max=38), HTML(value='')))"
      ]
     },
     "metadata": {},
     "output_type": "display_data"
    },
    {
     "name": "stdout",
     "output_type": "stream",
     "text": [
      "  Tract IPL_R_gwfa_vPMC_R_gwfa: Found target B @ d=69.\n",
      "  Tract IPL_R_gwfa_vPMC_R_gwfa: Found target A @ d=1.\n"
     ]
    },
    {
     "data": {
      "application/vnd.jupyter.widget-view+json": {
       "model_id": "6c5096cdcbb1425597f86b3589ccf72e",
       "version_major": 2,
       "version_minor": 0
      },
      "text/plain": [
       "HBox(children=(IntProgress(value=0, description='Gaussians', max=68), HTML(value='')))"
      ]
     },
     "metadata": {},
     "output_type": "display_data"
    },
    {
     "name": "stdout",
     "output_type": "stream",
     "text": [
      "  Computed distances, polylines, and Gaussians for IPL_R_gwfa/vPMC_R_gwfa\n",
      "  Tract IPS_L_gwfa_IPL_L_gwfa: max_dist=9\n"
     ]
    },
    {
     "data": {
      "application/vnd.jupyter.widget-view+json": {
       "model_id": "f9ae0c3409ff428a9bc1bf6ebc8a88ab",
       "version_major": 2,
       "version_minor": 0
      },
      "text/plain": [
       "HBox(children=(IntProgress(value=0, description='Distances', max=4), HTML(value='')))"
      ]
     },
     "metadata": {},
     "output_type": "display_data"
    },
    {
     "name": "stdout",
     "output_type": "stream",
     "text": [
      "  Tract IPS_L_gwfa_IPL_L_gwfa: Found target B @ d=4.\n",
      "  Tract IPS_L_gwfa_IPL_L_gwfa: Found target A @ d=1.\n"
     ]
    },
    {
     "data": {
      "application/vnd.jupyter.widget-view+json": {
       "model_id": "d5637245f71a44329203757d7e73f83f",
       "version_major": 2,
       "version_minor": 0
      },
      "text/plain": [
       "HBox(children=(IntProgress(value=0, description='Gaussians', max=3), HTML(value='')))"
      ]
     },
     "metadata": {},
     "output_type": "display_data"
    },
    {
     "name": "stdout",
     "output_type": "stream",
     "text": [
      "  Computed distances, polylines, and Gaussians for IPS_L_gwfa/IPL_L_gwfa\n",
      "  Tract IPS_L_gwfa_IPL_R_gwfa: max_dist=75\n"
     ]
    },
    {
     "data": {
      "application/vnd.jupyter.widget-view+json": {
       "model_id": "e563fe94785d4553baf26979d81f60a6",
       "version_major": 2,
       "version_minor": 0
      },
      "text/plain": [
       "HBox(children=(IntProgress(value=0, description='Distances', max=38), HTML(value='')))"
      ]
     },
     "metadata": {},
     "output_type": "display_data"
    },
    {
     "name": "stdout",
     "output_type": "stream",
     "text": [
      "  Tract IPS_L_gwfa_IPL_R_gwfa: Found target B @ d=69.\n",
      "  Tract IPS_L_gwfa_IPL_R_gwfa: Found target A @ d=1.\n"
     ]
    },
    {
     "data": {
      "application/vnd.jupyter.widget-view+json": {
       "model_id": "ed4cbb25acb84a7faa922795712f0efd",
       "version_major": 2,
       "version_minor": 0
      },
      "text/plain": [
       "HBox(children=(IntProgress(value=0, description='Gaussians', max=68), HTML(value='')))"
      ]
     },
     "metadata": {},
     "output_type": "display_data"
    },
    {
     "name": "stdout",
     "output_type": "stream",
     "text": [
      "  Computed distances, polylines, and Gaussians for IPS_L_gwfa/IPL_R_gwfa\n",
      "  Tract IPS_L_gwfa_IPS_R_gwfa: max_dist=64\n"
     ]
    },
    {
     "data": {
      "application/vnd.jupyter.widget-view+json": {
       "model_id": "82721e21545c42c9acadc971126957d0",
       "version_major": 2,
       "version_minor": 0
      },
      "text/plain": [
       "HBox(children=(IntProgress(value=0, description='Distances', max=32), HTML(value='')))"
      ]
     },
     "metadata": {},
     "output_type": "display_data"
    },
    {
     "name": "stdout",
     "output_type": "stream",
     "text": [
      "  Tract IPS_L_gwfa_IPS_R_gwfa: Found target B @ d=58.\n",
      "  Tract IPS_L_gwfa_IPS_R_gwfa: Found target A @ d=1.\n"
     ]
    },
    {
     "data": {
      "application/vnd.jupyter.widget-view+json": {
       "model_id": "d34f9bbedadd43c2b0810069cf6ea9ef",
       "version_major": 2,
       "version_minor": 0
      },
      "text/plain": [
       "HBox(children=(IntProgress(value=0, description='Gaussians', max=57), HTML(value='')))"
      ]
     },
     "metadata": {},
     "output_type": "display_data"
    },
    {
     "name": "stdout",
     "output_type": "stream",
     "text": [
      "  Computed distances, polylines, and Gaussians for IPS_L_gwfa/IPS_R_gwfa\n",
      "  Tract IPS_L_gwfa_SPL_L_gwfa: max_dist=14\n"
     ]
    },
    {
     "data": {
      "application/vnd.jupyter.widget-view+json": {
       "model_id": "e5618a893bc84420ba0b52551ec72f7a",
       "version_major": 2,
       "version_minor": 0
      },
      "text/plain": [
       "HBox(children=(IntProgress(value=0, description='Distances', max=7), HTML(value='')))"
      ]
     },
     "metadata": {},
     "output_type": "display_data"
    },
    {
     "name": "stdout",
     "output_type": "stream",
     "text": [
      "  Tract IPS_L_gwfa_SPL_L_gwfa: Found target B @ d=8.\n",
      "  Tract IPS_L_gwfa_SPL_L_gwfa: Found target A @ d=1.\n"
     ]
    },
    {
     "data": {
      "application/vnd.jupyter.widget-view+json": {
       "model_id": "c7093cf2837c4348883cf3cb8e5f3993",
       "version_major": 2,
       "version_minor": 0
      },
      "text/plain": [
       "HBox(children=(IntProgress(value=0, description='Gaussians', max=7), HTML(value='')))"
      ]
     },
     "metadata": {},
     "output_type": "display_data"
    },
    {
     "name": "stdout",
     "output_type": "stream",
     "text": [
      "  Computed distances, polylines, and Gaussians for IPS_L_gwfa/SPL_L_gwfa\n",
      "  Tract IPS_L_gwfa_SPL_R_gwfa: max_dist=36\n"
     ]
    },
    {
     "data": {
      "application/vnd.jupyter.widget-view+json": {
       "model_id": "481670bde27e4680aae1f535e1a7504b",
       "version_major": 2,
       "version_minor": 0
      },
      "text/plain": [
       "HBox(children=(IntProgress(value=0, description='Distances', max=18), HTML(value='')))"
      ]
     },
     "metadata": {},
     "output_type": "display_data"
    },
    {
     "name": "stdout",
     "output_type": "stream",
     "text": [
      "  Tract IPS_L_gwfa_SPL_R_gwfa: Found target B @ d=30.\n",
      "  Tract IPS_L_gwfa_SPL_R_gwfa: Found target A @ d=1.\n"
     ]
    },
    {
     "data": {
      "application/vnd.jupyter.widget-view+json": {
       "model_id": "5d92632af5ab4b7a88a6c0147000866b",
       "version_major": 2,
       "version_minor": 0
      },
      "text/plain": [
       "HBox(children=(IntProgress(value=0, description='Gaussians', max=29), HTML(value='')))"
      ]
     },
     "metadata": {},
     "output_type": "display_data"
    },
    {
     "name": "stdout",
     "output_type": "stream",
     "text": [
      "  Computed distances, polylines, and Gaussians for IPS_L_gwfa/SPL_R_gwfa\n",
      "  Tract IPS_L_gwfa_dPMC_L_gwfa: max_dist=51\n"
     ]
    },
    {
     "data": {
      "application/vnd.jupyter.widget-view+json": {
       "model_id": "123c30cc6f3145eda6c7df91fb45c3af",
       "version_major": 2,
       "version_minor": 0
      },
      "text/plain": [
       "HBox(children=(IntProgress(value=0, description='Distances', max=26), HTML(value='')))"
      ]
     },
     "metadata": {},
     "output_type": "display_data"
    },
    {
     "name": "stdout",
     "output_type": "stream",
     "text": [
      "  Tract IPS_L_gwfa_dPMC_L_gwfa: Found target B @ d=45.\n",
      "  Tract IPS_L_gwfa_dPMC_L_gwfa: Found target A @ d=1.\n"
     ]
    },
    {
     "data": {
      "application/vnd.jupyter.widget-view+json": {
       "model_id": "11ed3b49d5b2451fa8b4e910c2d16625",
       "version_major": 2,
       "version_minor": 0
      },
      "text/plain": [
       "HBox(children=(IntProgress(value=0, description='Gaussians', max=44), HTML(value='')))"
      ]
     },
     "metadata": {},
     "output_type": "display_data"
    },
    {
     "name": "stdout",
     "output_type": "stream",
     "text": [
      "  Computed distances, polylines, and Gaussians for IPS_L_gwfa/dPMC_L_gwfa\n",
      "  Tract IPS_L_gwfa_dPMC_R_gwfa: max_dist=110\n"
     ]
    },
    {
     "data": {
      "application/vnd.jupyter.widget-view+json": {
       "model_id": "7822ced63e334043becfb8112408f6ea",
       "version_major": 2,
       "version_minor": 0
      },
      "text/plain": [
       "HBox(children=(IntProgress(value=0, description='Distances', max=55), HTML(value='')))"
      ]
     },
     "metadata": {},
     "output_type": "display_data"
    },
    {
     "name": "stdout",
     "output_type": "stream",
     "text": [
      "  Tract IPS_L_gwfa_dPMC_R_gwfa: Found target B @ d=104.\n",
      "  Tract IPS_L_gwfa_dPMC_R_gwfa: Found target A @ d=1.\n"
     ]
    },
    {
     "data": {
      "application/vnd.jupyter.widget-view+json": {
       "model_id": "489eede6984146b4a089bee54c3a9ec3",
       "version_major": 2,
       "version_minor": 0
      },
      "text/plain": [
       "HBox(children=(IntProgress(value=0, description='Gaussians', max=103), HTML(value='')))"
      ]
     },
     "metadata": {},
     "output_type": "display_data"
    },
    {
     "name": "stdout",
     "output_type": "stream",
     "text": [
      "  Computed distances, polylines, and Gaussians for IPS_L_gwfa/dPMC_R_gwfa\n",
      "  Tract IPS_L_gwfa_vPMC_L_gwfa: max_dist=49\n"
     ]
    },
    {
     "data": {
      "application/vnd.jupyter.widget-view+json": {
       "model_id": "dcb595a29a354cfdbb0c44ac549356f2",
       "version_major": 2,
       "version_minor": 0
      },
      "text/plain": [
       "HBox(children=(IntProgress(value=0, description='Distances', max=24), HTML(value='')))"
      ]
     },
     "metadata": {},
     "output_type": "display_data"
    },
    {
     "name": "stdout",
     "output_type": "stream",
     "text": [
      "  Tract IPS_L_gwfa_vPMC_L_gwfa: Found target B @ d=43.\n",
      "  Tract IPS_L_gwfa_vPMC_L_gwfa: Found target A @ d=1.\n"
     ]
    },
    {
     "data": {
      "application/vnd.jupyter.widget-view+json": {
       "model_id": "0374d0bb4419443988f4b3e32a7490b2",
       "version_major": 2,
       "version_minor": 0
      },
      "text/plain": [
       "HBox(children=(IntProgress(value=0, description='Gaussians', max=42), HTML(value='')))"
      ]
     },
     "metadata": {},
     "output_type": "display_data"
    },
    {
     "name": "stdout",
     "output_type": "stream",
     "text": [
      "  Computed distances, polylines, and Gaussians for IPS_L_gwfa/vPMC_L_gwfa\n",
      "  Tract IPS_L_gwfa_vPMC_R_gwfa: max_dist=102\n"
     ]
    },
    {
     "data": {
      "application/vnd.jupyter.widget-view+json": {
       "model_id": "1974df4904164038a66298247e7fe5d8",
       "version_major": 2,
       "version_minor": 0
      },
      "text/plain": [
       "HBox(children=(IntProgress(value=0, description='Distances', max=51), HTML(value='')))"
      ]
     },
     "metadata": {},
     "output_type": "display_data"
    },
    {
     "name": "stdout",
     "output_type": "stream",
     "text": [
      "  Tract IPS_L_gwfa_vPMC_R_gwfa: Found target B @ d=96.\n",
      "  Tract IPS_L_gwfa_vPMC_R_gwfa: Found target A @ d=1.\n"
     ]
    },
    {
     "data": {
      "application/vnd.jupyter.widget-view+json": {
       "model_id": "0915b3f7c0444ca2be643503782a749c",
       "version_major": 2,
       "version_minor": 0
      },
      "text/plain": [
       "HBox(children=(IntProgress(value=0, description='Gaussians', max=95), HTML(value='')))"
      ]
     },
     "metadata": {},
     "output_type": "display_data"
    },
    {
     "name": "stdout",
     "output_type": "stream",
     "text": [
      "  Computed distances, polylines, and Gaussians for IPS_L_gwfa/vPMC_R_gwfa\n",
      "  Tract IPS_R_gwfa_IPL_L_gwfa: max_dist=72\n"
     ]
    },
    {
     "data": {
      "application/vnd.jupyter.widget-view+json": {
       "model_id": "a9003d53cfd54f8cba35f1739aea33b4",
       "version_major": 2,
       "version_minor": 0
      },
      "text/plain": [
       "HBox(children=(IntProgress(value=0, description='Distances', max=36), HTML(value='')))"
      ]
     },
     "metadata": {},
     "output_type": "display_data"
    },
    {
     "name": "stdout",
     "output_type": "stream",
     "text": [
      "  Tract IPS_R_gwfa_IPL_L_gwfa: Found target B @ d=66.\n",
      "  Tract IPS_R_gwfa_IPL_L_gwfa: Found target A @ d=1.\n"
     ]
    },
    {
     "data": {
      "application/vnd.jupyter.widget-view+json": {
       "model_id": "bf3b895031ab4577be231f4647269ff0",
       "version_major": 2,
       "version_minor": 0
      },
      "text/plain": [
       "HBox(children=(IntProgress(value=0, description='Gaussians', max=65), HTML(value='')))"
      ]
     },
     "metadata": {},
     "output_type": "display_data"
    },
    {
     "name": "stdout",
     "output_type": "stream",
     "text": [
      "  Computed distances, polylines, and Gaussians for IPS_R_gwfa/IPL_L_gwfa\n",
      "  Tract IPS_R_gwfa_IPL_R_gwfa: max_dist=12\n"
     ]
    },
    {
     "data": {
      "application/vnd.jupyter.widget-view+json": {
       "model_id": "d2bec89410624f00b420a5a93326c4d7",
       "version_major": 2,
       "version_minor": 0
      },
      "text/plain": [
       "HBox(children=(IntProgress(value=0, description='Distances', max=6), HTML(value='')))"
      ]
     },
     "metadata": {},
     "output_type": "display_data"
    },
    {
     "name": "stdout",
     "output_type": "stream",
     "text": [
      "  Tract IPS_R_gwfa_IPL_R_gwfa: Found target B @ d=6.\n",
      "  Tract IPS_R_gwfa_IPL_R_gwfa: Found target A @ d=1.\n"
     ]
    },
    {
     "data": {
      "application/vnd.jupyter.widget-view+json": {
       "model_id": "c800599d5c9a4be4a4651112fb5470ae",
       "version_major": 2,
       "version_minor": 0
      },
      "text/plain": [
       "HBox(children=(IntProgress(value=0, description='Gaussians', max=5), HTML(value='')))"
      ]
     },
     "metadata": {},
     "output_type": "display_data"
    },
    {
     "name": "stdout",
     "output_type": "stream",
     "text": [
      "Len @ 1 is zero! p_1=[ 67  67 110] | p_2=[ 67  67 110]\n",
      "  Computed distances, polylines, and Gaussians for IPS_R_gwfa/IPL_R_gwfa\n",
      "  Tract IPS_R_gwfa_IPS_L_gwfa: max_dist=64\n"
     ]
    },
    {
     "data": {
      "application/vnd.jupyter.widget-view+json": {
       "model_id": "0fba4088eab1420494409590083b1f65",
       "version_major": 2,
       "version_minor": 0
      },
      "text/plain": [
       "HBox(children=(IntProgress(value=0, description='Distances', max=32), HTML(value='')))"
      ]
     },
     "metadata": {},
     "output_type": "display_data"
    },
    {
     "name": "stdout",
     "output_type": "stream",
     "text": [
      "  Tract IPS_R_gwfa_IPS_L_gwfa: Found target B @ d=58.\n",
      "  Tract IPS_R_gwfa_IPS_L_gwfa: Found target A @ d=1.\n"
     ]
    },
    {
     "data": {
      "application/vnd.jupyter.widget-view+json": {
       "model_id": "f794ca4f84c34491901f1b32bb1b1847",
       "version_major": 2,
       "version_minor": 0
      },
      "text/plain": [
       "HBox(children=(IntProgress(value=0, description='Gaussians', max=57), HTML(value='')))"
      ]
     },
     "metadata": {},
     "output_type": "display_data"
    },
    {
     "name": "stdout",
     "output_type": "stream",
     "text": [
      "  Computed distances, polylines, and Gaussians for IPS_R_gwfa/IPS_L_gwfa\n",
      "  Tract IPS_R_gwfa_SPL_L_gwfa: max_dist=33\n"
     ]
    },
    {
     "data": {
      "application/vnd.jupyter.widget-view+json": {
       "model_id": "bab79591c6854db29cec27c0ed95966a",
       "version_major": 2,
       "version_minor": 0
      },
      "text/plain": [
       "HBox(children=(IntProgress(value=0, description='Distances', max=16), HTML(value='')))"
      ]
     },
     "metadata": {},
     "output_type": "display_data"
    },
    {
     "name": "stdout",
     "output_type": "stream",
     "text": [
      "  Tract IPS_R_gwfa_SPL_L_gwfa: Found target B @ d=27.\n",
      "  Tract IPS_R_gwfa_SPL_L_gwfa: Found target A @ d=1.\n"
     ]
    },
    {
     "data": {
      "application/vnd.jupyter.widget-view+json": {
       "model_id": "e3445724f6264a77a01b880f9ac21341",
       "version_major": 2,
       "version_minor": 0
      },
      "text/plain": [
       "HBox(children=(IntProgress(value=0, description='Gaussians', max=26), HTML(value='')))"
      ]
     },
     "metadata": {},
     "output_type": "display_data"
    },
    {
     "name": "stdout",
     "output_type": "stream",
     "text": [
      "  Computed distances, polylines, and Gaussians for IPS_R_gwfa/SPL_L_gwfa\n",
      "  Tract IPS_R_gwfa_SPL_R_gwfa: max_dist=11\n"
     ]
    },
    {
     "data": {
      "application/vnd.jupyter.widget-view+json": {
       "model_id": "a20ea360719f4eb7b236cc73abb38300",
       "version_major": 2,
       "version_minor": 0
      },
      "text/plain": [
       "HBox(children=(IntProgress(value=0, description='Distances', max=6), HTML(value='')))"
      ]
     },
     "metadata": {},
     "output_type": "display_data"
    },
    {
     "name": "stdout",
     "output_type": "stream",
     "text": [
      "  Tract IPS_R_gwfa_SPL_R_gwfa: Found target B @ d=6.\n",
      "  Tract IPS_R_gwfa_SPL_R_gwfa: Found target A @ d=1.\n"
     ]
    },
    {
     "data": {
      "application/vnd.jupyter.widget-view+json": {
       "model_id": "d241af32ead2478cb0d0073bbbf9e986",
       "version_major": 2,
       "version_minor": 0
      },
      "text/plain": [
       "HBox(children=(IntProgress(value=0, description='Gaussians', max=5), HTML(value='')))"
      ]
     },
     "metadata": {},
     "output_type": "display_data"
    },
    {
     "name": "stdout",
     "output_type": "stream",
     "text": [
      "  Computed distances, polylines, and Gaussians for IPS_R_gwfa/SPL_R_gwfa\n",
      "  **Warning: No distances file found for ROI pair IPS_R_gwfa/dPMC_L_gwfa! Skipping...\n",
      "  Tract IPS_R_gwfa_dPMC_R_gwfa: max_dist=63\n"
     ]
    },
    {
     "data": {
      "application/vnd.jupyter.widget-view+json": {
       "model_id": "e7bf40b36eb5463a8981cf8b7410aef5",
       "version_major": 2,
       "version_minor": 0
      },
      "text/plain": [
       "HBox(children=(IntProgress(value=0, description='Distances', max=32), HTML(value='')))"
      ]
     },
     "metadata": {},
     "output_type": "display_data"
    },
    {
     "name": "stdout",
     "output_type": "stream",
     "text": [
      "  Tract IPS_R_gwfa_dPMC_R_gwfa: Found target B @ d=57.\n",
      "  Tract IPS_R_gwfa_dPMC_R_gwfa: Found target A @ d=1.\n"
     ]
    },
    {
     "data": {
      "application/vnd.jupyter.widget-view+json": {
       "model_id": "6199a91fe9534f42ba94650e063ce9d2",
       "version_major": 2,
       "version_minor": 0
      },
      "text/plain": [
       "HBox(children=(IntProgress(value=0, description='Gaussians', max=56), HTML(value='')))"
      ]
     },
     "metadata": {},
     "output_type": "display_data"
    },
    {
     "name": "stdout",
     "output_type": "stream",
     "text": [
      "  Computed distances, polylines, and Gaussians for IPS_R_gwfa/dPMC_R_gwfa\n",
      "  **Warning: No distances file found for ROI pair IPS_R_gwfa/vPMC_L_gwfa! Skipping...\n",
      "  Tract IPS_R_gwfa_vPMC_R_gwfa: max_dist=61\n"
     ]
    },
    {
     "data": {
      "application/vnd.jupyter.widget-view+json": {
       "model_id": "64a2d655c6ba49fdaebc7e36ef7d79be",
       "version_major": 2,
       "version_minor": 0
      },
      "text/plain": [
       "HBox(children=(IntProgress(value=0, description='Distances', max=30), HTML(value='')))"
      ]
     },
     "metadata": {},
     "output_type": "display_data"
    },
    {
     "name": "stdout",
     "output_type": "stream",
     "text": [
      "  Tract IPS_R_gwfa_vPMC_R_gwfa: Found target B @ d=55.\n",
      "  Tract IPS_R_gwfa_vPMC_R_gwfa: Found target A @ d=1.\n"
     ]
    },
    {
     "data": {
      "application/vnd.jupyter.widget-view+json": {
       "model_id": "dcd8aa808b5b4fd9b821d7444133db38",
       "version_major": 2,
       "version_minor": 0
      },
      "text/plain": [
       "HBox(children=(IntProgress(value=0, description='Gaussians', max=54), HTML(value='')))"
      ]
     },
     "metadata": {},
     "output_type": "display_data"
    },
    {
     "name": "stdout",
     "output_type": "stream",
     "text": [
      "  Computed distances, polylines, and Gaussians for IPS_R_gwfa/vPMC_R_gwfa\n",
      "  Tract SPL_L_gwfa_IPL_L_gwfa: max_dist=25\n"
     ]
    },
    {
     "data": {
      "application/vnd.jupyter.widget-view+json": {
       "model_id": "b8b126197cfe4f3399d45b2571252fd0",
       "version_major": 2,
       "version_minor": 0
      },
      "text/plain": [
       "HBox(children=(IntProgress(value=0, description='Distances', max=12), HTML(value='')))"
      ]
     },
     "metadata": {},
     "output_type": "display_data"
    },
    {
     "name": "stdout",
     "output_type": "stream",
     "text": [
      "  Tract SPL_L_gwfa_IPL_L_gwfa: Found target B @ d=19.\n",
      "  Tract SPL_L_gwfa_IPL_L_gwfa: Found target A @ d=1.\n"
     ]
    },
    {
     "data": {
      "application/vnd.jupyter.widget-view+json": {
       "model_id": "3ff087a11b3844b9a53162a0bd932d5b",
       "version_major": 2,
       "version_minor": 0
      },
      "text/plain": [
       "HBox(children=(IntProgress(value=0, description='Gaussians', max=18), HTML(value='')))"
      ]
     },
     "metadata": {},
     "output_type": "display_data"
    },
    {
     "name": "stdout",
     "output_type": "stream",
     "text": [
      "  Computed distances, polylines, and Gaussians for SPL_L_gwfa/IPL_L_gwfa\n",
      "  Tract SPL_L_gwfa_IPL_R_gwfa: max_dist=49\n"
     ]
    },
    {
     "data": {
      "application/vnd.jupyter.widget-view+json": {
       "model_id": "7031d73a1ee049fb9d53c7690ae2fbba",
       "version_major": 2,
       "version_minor": 0
      },
      "text/plain": [
       "HBox(children=(IntProgress(value=0, description='Distances', max=24), HTML(value='')))"
      ]
     },
     "metadata": {},
     "output_type": "display_data"
    },
    {
     "name": "stdout",
     "output_type": "stream",
     "text": [
      "  Tract SPL_L_gwfa_IPL_R_gwfa: Found target B @ d=43.\n",
      "  Tract SPL_L_gwfa_IPL_R_gwfa: Found target A @ d=1.\n"
     ]
    },
    {
     "data": {
      "application/vnd.jupyter.widget-view+json": {
       "model_id": "37fb6ad46dd24f55bf837e9915599017",
       "version_major": 2,
       "version_minor": 0
      },
      "text/plain": [
       "HBox(children=(IntProgress(value=0, description='Gaussians', max=42), HTML(value='')))"
      ]
     },
     "metadata": {},
     "output_type": "display_data"
    },
    {
     "name": "stdout",
     "output_type": "stream",
     "text": [
      "  Computed distances, polylines, and Gaussians for SPL_L_gwfa/IPL_R_gwfa\n",
      "  Tract SPL_L_gwfa_IPS_L_gwfa: max_dist=14\n"
     ]
    },
    {
     "data": {
      "application/vnd.jupyter.widget-view+json": {
       "model_id": "4065662513894dea80213383460f6722",
       "version_major": 2,
       "version_minor": 0
      },
      "text/plain": [
       "HBox(children=(IntProgress(value=0, description='Distances', max=7), HTML(value='')))"
      ]
     },
     "metadata": {},
     "output_type": "display_data"
    },
    {
     "name": "stdout",
     "output_type": "stream",
     "text": [
      "  Tract SPL_L_gwfa_IPS_L_gwfa: Found target B @ d=8.\n",
      "  Tract SPL_L_gwfa_IPS_L_gwfa: Found target A @ d=1.\n"
     ]
    },
    {
     "data": {
      "application/vnd.jupyter.widget-view+json": {
       "model_id": "91797612aaf745629a0718a1000460a9",
       "version_major": 2,
       "version_minor": 0
      },
      "text/plain": [
       "HBox(children=(IntProgress(value=0, description='Gaussians', max=7), HTML(value='')))"
      ]
     },
     "metadata": {},
     "output_type": "display_data"
    },
    {
     "name": "stdout",
     "output_type": "stream",
     "text": [
      "Len @ 1 is zero! p_1=[104  66 118] | p_2=[104  66 118]\n",
      "  Computed distances, polylines, and Gaussians for SPL_L_gwfa/IPS_L_gwfa\n",
      "  Tract SPL_L_gwfa_IPS_R_gwfa: max_dist=33\n"
     ]
    },
    {
     "data": {
      "application/vnd.jupyter.widget-view+json": {
       "model_id": "844539b353d447d58124c3ccca7879d9",
       "version_major": 2,
       "version_minor": 0
      },
      "text/plain": [
       "HBox(children=(IntProgress(value=0, description='Distances', max=16), HTML(value='')))"
      ]
     },
     "metadata": {},
     "output_type": "display_data"
    },
    {
     "name": "stdout",
     "output_type": "stream",
     "text": [
      "  Tract SPL_L_gwfa_IPS_R_gwfa: Found target B @ d=27.\n",
      "  Tract SPL_L_gwfa_IPS_R_gwfa: Found target A @ d=1.\n"
     ]
    },
    {
     "data": {
      "application/vnd.jupyter.widget-view+json": {
       "model_id": "8cd225518b2c4de3a6f738ac80e591ba",
       "version_major": 2,
       "version_minor": 0
      },
      "text/plain": [
       "HBox(children=(IntProgress(value=0, description='Gaussians', max=26), HTML(value='')))"
      ]
     },
     "metadata": {},
     "output_type": "display_data"
    },
    {
     "name": "stdout",
     "output_type": "stream",
     "text": [
      "  Computed distances, polylines, and Gaussians for SPL_L_gwfa/IPS_R_gwfa\n",
      "  Tract SPL_L_gwfa_SPL_R_gwfa: max_dist=21\n"
     ]
    },
    {
     "data": {
      "application/vnd.jupyter.widget-view+json": {
       "model_id": "e4347409eb7a4fb0a6c79c343dc48638",
       "version_major": 2,
       "version_minor": 0
      },
      "text/plain": [
       "HBox(children=(IntProgress(value=0, description='Distances', max=10), HTML(value='')))"
      ]
     },
     "metadata": {},
     "output_type": "display_data"
    },
    {
     "name": "stdout",
     "output_type": "stream",
     "text": [
      "  Tract SPL_L_gwfa_SPL_R_gwfa: Found target B @ d=15.\n",
      "  Tract SPL_L_gwfa_SPL_R_gwfa: Found target A @ d=1.\n"
     ]
    },
    {
     "data": {
      "application/vnd.jupyter.widget-view+json": {
       "model_id": "5bc67904bbd749cd87d564d8b5d06745",
       "version_major": 2,
       "version_minor": 0
      },
      "text/plain": [
       "HBox(children=(IntProgress(value=0, description='Gaussians', max=14), HTML(value='')))"
      ]
     },
     "metadata": {},
     "output_type": "display_data"
    },
    {
     "name": "stdout",
     "output_type": "stream",
     "text": [
      "  Computed distances, polylines, and Gaussians for SPL_L_gwfa/SPL_R_gwfa\n",
      "  Tract SPL_L_gwfa_dPMC_L_gwfa: max_dist=62\n"
     ]
    },
    {
     "data": {
      "application/vnd.jupyter.widget-view+json": {
       "model_id": "68ae444e92e24b288155c01073f7f83c",
       "version_major": 2,
       "version_minor": 0
      },
      "text/plain": [
       "HBox(children=(IntProgress(value=0, description='Distances', max=31), HTML(value='')))"
      ]
     },
     "metadata": {},
     "output_type": "display_data"
    },
    {
     "name": "stdout",
     "output_type": "stream",
     "text": [
      "  Tract SPL_L_gwfa_dPMC_L_gwfa: Found target B @ d=56.\n",
      "  Tract SPL_L_gwfa_dPMC_L_gwfa: Found target A @ d=1.\n"
     ]
    },
    {
     "data": {
      "application/vnd.jupyter.widget-view+json": {
       "model_id": "d26fab21aa594c2a9ace9b302cb17e50",
       "version_major": 2,
       "version_minor": 0
      },
      "text/plain": [
       "HBox(children=(IntProgress(value=0, description='Gaussians', max=55), HTML(value='')))"
      ]
     },
     "metadata": {},
     "output_type": "display_data"
    },
    {
     "name": "stdout",
     "output_type": "stream",
     "text": [
      "Len @ 1 is zero! p_1=[104  67 119] | p_2=[104  67 119]\n",
      "  Computed distances, polylines, and Gaussians for SPL_L_gwfa/dPMC_L_gwfa\n",
      "  Tract SPL_L_gwfa_dPMC_R_gwfa: max_dist=120\n"
     ]
    },
    {
     "data": {
      "application/vnd.jupyter.widget-view+json": {
       "model_id": "007f0a8a5e874779ba95122846bc45a8",
       "version_major": 2,
       "version_minor": 0
      },
      "text/plain": [
       "HBox(children=(IntProgress(value=0, description='Distances', max=60), HTML(value='')))"
      ]
     },
     "metadata": {},
     "output_type": "display_data"
    },
    {
     "name": "stdout",
     "output_type": "stream",
     "text": [
      "   * Debug: Constraint fail: len (30.01666203960727) > max_len(4)\n",
      "   * Debug: Constraint fail: len (164.69061904067274) > max_len(4)\n",
      "   * Debug: Constraint fail: len (164.99696966914271) > max_len(4)\n",
      "   * Debug: Constraint fail: len (166.57130605239308) > max_len(4)\n",
      "   * Debug: Constraint fail: len (167.16758058906038) > max_len(4)\n",
      "   * Debug: Constraint fail: len (167.48134224444226) > max_len(4)\n",
      "   * Debug: Constraint fail: len (168.37161280928564) > max_len(4)\n",
      "   * Debug: Constraint fail: len (168.9792886717186) > max_len(4)\n",
      "   * Debug: Constraint fail: len (169.5906837063876) > max_len(4)\n",
      "   * Debug: Constraint fail: len (170.60187572239644) > max_len(4)\n",
      "   * Debug: Constraint fail: len (171.50510196492698) > max_len(4)\n",
      "   * Debug: Constraint fail: len (171.84004189943624) > max_len(4)\n",
      "   * Debug: Constraint fail: len (172.74837191707482) > max_len(4)\n",
      "   * Debug: Constraint fail: len (173.37531542869647) > max_len(4)\n",
      "   * Debug: Constraint fail: len (174.00574703152768) > max_len(4)\n",
      "   * Debug: Constraint fail: len (174.63962895059072) > max_len(4)\n",
      "   * Debug: Constraint fail: len (175.27692375210148) > max_len(4)\n",
      "   * Debug: Constraint fail: len (176.30087918101827) > max_len(4)\n",
      "   * Debug: Constraint fail: len (176.94349380522584) > max_len(4)\n",
      "   * Debug: Constraint fail: len (177.5894140989265) > max_len(4)\n",
      "   * Debug: Constraint fail: len (177.5837830433849) > max_len(4)\n",
      "   * Debug: Constraint fail: len (178.23860412379804) > max_len(4)\n",
      "   * Debug: Constraint fail: len (179.27911200137063) > max_len(4)\n",
      "   * Debug: Constraint fail: len (179.5577901401106) > max_len(4)\n",
      "   * Debug: Constraint fail: len (179.58006570886425) > max_len(4)\n",
      "   * Debug: Constraint fail: len (180.24982662959764) > max_len(4)\n",
      "   * Debug: Constraint fail: len (180.288657435791) > max_len(4)\n",
      "   * Debug: Constraint fail: len (180.96684779262748) > max_len(4)\n",
      "   * Debug: Constraint fail: len (181.27603261324978) > max_len(4)\n",
      "   * Debug: Constraint fail: len (181.96153439669604) > max_len(4)\n",
      "   * Debug: Constraint fail: len (182.28549037155975) > max_len(4)\n",
      "   * Debug: Constraint fail: len (193.22008177205598) > max_len(4)\n",
      "   * Debug: Constraint fail: len (194.53020331043712) > max_len(4)\n",
      "   * Debug: Constraint fail: len (195.56584568886257) > max_len(4)\n",
      "  Tract SPL_L_gwfa_dPMC_R_gwfa: Found target B @ d=114.\n",
      "  Tract SPL_L_gwfa_dPMC_R_gwfa: Found target A @ d=1.\n",
      "  Tract SPL_L_gwfa_dPMC_R_gwfa: Polyline had 34 constraint violation(s).\n"
     ]
    },
    {
     "data": {
      "application/vnd.jupyter.widget-view+json": {
       "model_id": "6936ec6e1ed24acc891ef22b7045ce59",
       "version_major": 2,
       "version_minor": 0
      },
      "text/plain": [
       "HBox(children=(IntProgress(value=0, description='Gaussians', max=79), HTML(value='')))"
      ]
     },
     "metadata": {},
     "output_type": "display_data"
    },
    {
     "name": "stdout",
     "output_type": "stream",
     "text": [
      "  Computed distances, polylines, and Gaussians for SPL_L_gwfa/dPMC_R_gwfa\n",
      "  Tract SPL_L_gwfa_vPMC_L_gwfa: max_dist=73\n"
     ]
    },
    {
     "data": {
      "application/vnd.jupyter.widget-view+json": {
       "model_id": "141af38623564f1b8b948003a85504c2",
       "version_major": 2,
       "version_minor": 0
      },
      "text/plain": [
       "HBox(children=(IntProgress(value=0, description='Distances', max=36), HTML(value='')))"
      ]
     },
     "metadata": {},
     "output_type": "display_data"
    },
    {
     "name": "stdout",
     "output_type": "stream",
     "text": [
      "   * Debug: Constraint fail: len (14.352700094407323) > max_len(4)\n",
      "   * Debug: Constraint fail: len (193.93555630672782) > max_len(4)\n",
      "   * Debug: Constraint fail: len (193.35459653186422) > max_len(4)\n",
      "   * Debug: Constraint fail: len (192.67848867997694) > max_len(4)\n",
      "  Tract SPL_L_gwfa_vPMC_L_gwfa: Found target B @ d=67.\n",
      "  Tract SPL_L_gwfa_vPMC_L_gwfa: Found target A @ d=1.\n",
      "  Tract SPL_L_gwfa_vPMC_L_gwfa: Polyline had 4 constraint violation(s).\n"
     ]
    },
    {
     "data": {
      "application/vnd.jupyter.widget-view+json": {
       "model_id": "5b6dbffdf64741deb2d53cd23aefb4b0",
       "version_major": 2,
       "version_minor": 0
      },
      "text/plain": [
       "HBox(children=(IntProgress(value=0, description='Gaussians', max=62), HTML(value='')))"
      ]
     },
     "metadata": {},
     "output_type": "display_data"
    },
    {
     "name": "stdout",
     "output_type": "stream",
     "text": [
      "  Computed distances, polylines, and Gaussians for SPL_L_gwfa/vPMC_L_gwfa\n",
      "  **Warning: No distances file found for ROI pair SPL_L_gwfa/vPMC_R_gwfa! Skipping...\n",
      "  Tract SPL_R_gwfa_IPL_L_gwfa: max_dist=48\n"
     ]
    },
    {
     "data": {
      "application/vnd.jupyter.widget-view+json": {
       "model_id": "4e139bdacbfb414bb41f530a399cadbb",
       "version_major": 2,
       "version_minor": 0
      },
      "text/plain": [
       "HBox(children=(IntProgress(value=0, description='Distances', max=24), HTML(value='')))"
      ]
     },
     "metadata": {},
     "output_type": "display_data"
    },
    {
     "name": "stdout",
     "output_type": "stream",
     "text": [
      "  Tract SPL_R_gwfa_IPL_L_gwfa: Found target B @ d=42.\n",
      "  Tract SPL_R_gwfa_IPL_L_gwfa: Found target A @ d=1.\n"
     ]
    },
    {
     "data": {
      "application/vnd.jupyter.widget-view+json": {
       "model_id": "53698603f1764f978586c3d994c97df4",
       "version_major": 2,
       "version_minor": 0
      },
      "text/plain": [
       "HBox(children=(IntProgress(value=0, description='Gaussians', max=41), HTML(value='')))"
      ]
     },
     "metadata": {},
     "output_type": "display_data"
    },
    {
     "name": "stdout",
     "output_type": "stream",
     "text": [
      "  Computed distances, polylines, and Gaussians for SPL_R_gwfa/IPL_L_gwfa\n",
      "  Tract SPL_R_gwfa_IPL_R_gwfa: max_dist=28\n"
     ]
    },
    {
     "data": {
      "application/vnd.jupyter.widget-view+json": {
       "model_id": "acc9c18979b640b3846b95634d3ce5e7",
       "version_major": 2,
       "version_minor": 0
      },
      "text/plain": [
       "HBox(children=(IntProgress(value=0, description='Distances', max=14), HTML(value='')))"
      ]
     },
     "metadata": {},
     "output_type": "display_data"
    },
    {
     "name": "stdout",
     "output_type": "stream",
     "text": [
      "  Tract SPL_R_gwfa_IPL_R_gwfa: Found target B @ d=22.\n",
      "  Tract SPL_R_gwfa_IPL_R_gwfa: Found target A @ d=1.\n"
     ]
    },
    {
     "data": {
      "application/vnd.jupyter.widget-view+json": {
       "model_id": "81a66b28e4454909bc560c41b5547f8e",
       "version_major": 2,
       "version_minor": 0
      },
      "text/plain": [
       "HBox(children=(IntProgress(value=0, description='Gaussians', max=21), HTML(value='')))"
      ]
     },
     "metadata": {},
     "output_type": "display_data"
    },
    {
     "name": "stdout",
     "output_type": "stream",
     "text": [
      "  Computed distances, polylines, and Gaussians for SPL_R_gwfa/IPL_R_gwfa\n",
      "  Tract SPL_R_gwfa_IPS_L_gwfa: max_dist=36\n"
     ]
    },
    {
     "data": {
      "application/vnd.jupyter.widget-view+json": {
       "model_id": "75a5e9affb9d43f9aed4ecc4ef18cf18",
       "version_major": 2,
       "version_minor": 0
      },
      "text/plain": [
       "HBox(children=(IntProgress(value=0, description='Distances', max=18), HTML(value='')))"
      ]
     },
     "metadata": {},
     "output_type": "display_data"
    },
    {
     "name": "stdout",
     "output_type": "stream",
     "text": [
      "  Tract SPL_R_gwfa_IPS_L_gwfa: Found target B @ d=30.\n",
      "  Tract SPL_R_gwfa_IPS_L_gwfa: Found target A @ d=1.\n"
     ]
    },
    {
     "data": {
      "application/vnd.jupyter.widget-view+json": {
       "model_id": "b737de0b3e5e4da2bd3304bdb5c85e8f",
       "version_major": 2,
       "version_minor": 0
      },
      "text/plain": [
       "HBox(children=(IntProgress(value=0, description='Gaussians', max=29), HTML(value='')))"
      ]
     },
     "metadata": {},
     "output_type": "display_data"
    },
    {
     "name": "stdout",
     "output_type": "stream",
     "text": [
      "  Computed distances, polylines, and Gaussians for SPL_R_gwfa/IPS_L_gwfa\n",
      "  Tract SPL_R_gwfa_IPS_R_gwfa: max_dist=11\n"
     ]
    },
    {
     "data": {
      "application/vnd.jupyter.widget-view+json": {
       "model_id": "5d9bd40b094c425e911d5590e671baba",
       "version_major": 2,
       "version_minor": 0
      },
      "text/plain": [
       "HBox(children=(IntProgress(value=0, description='Distances', max=6), HTML(value='')))"
      ]
     },
     "metadata": {},
     "output_type": "display_data"
    },
    {
     "name": "stdout",
     "output_type": "stream",
     "text": [
      "  Tract SPL_R_gwfa_IPS_R_gwfa: Found target B @ d=6.\n",
      "  Tract SPL_R_gwfa_IPS_R_gwfa: Found target A @ d=1.\n"
     ]
    },
    {
     "data": {
      "application/vnd.jupyter.widget-view+json": {
       "model_id": "3d9ada2796d040028e8c92ca9b45840a",
       "version_major": 2,
       "version_minor": 0
      },
      "text/plain": [
       "HBox(children=(IntProgress(value=0, description='Gaussians', max=5), HTML(value='')))"
      ]
     },
     "metadata": {},
     "output_type": "display_data"
    },
    {
     "name": "stdout",
     "output_type": "stream",
     "text": [
      "  Computed distances, polylines, and Gaussians for SPL_R_gwfa/IPS_R_gwfa\n",
      "  Tract SPL_R_gwfa_SPL_L_gwfa: max_dist=21\n"
     ]
    },
    {
     "data": {
      "application/vnd.jupyter.widget-view+json": {
       "model_id": "2683c03482e3488d9cfdac7fd13e67ce",
       "version_major": 2,
       "version_minor": 0
      },
      "text/plain": [
       "HBox(children=(IntProgress(value=0, description='Distances', max=10), HTML(value='')))"
      ]
     },
     "metadata": {},
     "output_type": "display_data"
    },
    {
     "name": "stdout",
     "output_type": "stream",
     "text": [
      "  Tract SPL_R_gwfa_SPL_L_gwfa: Found target B @ d=15.\n",
      "  Tract SPL_R_gwfa_SPL_L_gwfa: Found target A @ d=1.\n"
     ]
    },
    {
     "data": {
      "application/vnd.jupyter.widget-view+json": {
       "model_id": "9e82aae4fabd48a9bea0e757fa4b7f5e",
       "version_major": 2,
       "version_minor": 0
      },
      "text/plain": [
       "HBox(children=(IntProgress(value=0, description='Gaussians', max=14), HTML(value='')))"
      ]
     },
     "metadata": {},
     "output_type": "display_data"
    },
    {
     "name": "stdout",
     "output_type": "stream",
     "text": [
      "Len @ 1 is zero! p_1=[ 83  62 121] | p_2=[ 83  62 121]\n",
      "  Computed distances, polylines, and Gaussians for SPL_R_gwfa/SPL_L_gwfa\n",
      "  Tract SPL_R_gwfa_dPMC_L_gwfa: max_dist=113\n"
     ]
    },
    {
     "data": {
      "application/vnd.jupyter.widget-view+json": {
       "model_id": "cd767f311cb148f29bdb3980eaaefe45",
       "version_major": 2,
       "version_minor": 0
      },
      "text/plain": [
       "HBox(children=(IntProgress(value=0, description='Distances', max=56), HTML(value='')))"
      ]
     },
     "metadata": {},
     "output_type": "display_data"
    },
    {
     "name": "stdout",
     "output_type": "stream",
     "text": [
      "   * Debug: Constraint fail: len (74.57211275000863) > max_len(4)\n",
      "   * Debug: Constraint fail: len (182.2031832872302) > max_len(4)\n",
      "   * Debug: Constraint fail: len (177.06778363101515) > max_len(4)\n",
      "   * Debug: Constraint fail: len (179.36276090649363) > max_len(4)\n",
      "   * Debug: Constraint fail: len (180.24982662959764) > max_len(4)\n",
      "   * Debug: Constraint fail: len (181.56541520895436) > max_len(4)\n",
      "   * Debug: Constraint fail: len (181.43318329346482) > max_len(4)\n",
      "   * Debug: Constraint fail: len (182.7840255602223) > max_len(4)\n",
      "   * Debug: Constraint fail: len (183.41483037093812) > max_len(4)\n",
      "   * Debug: Constraint fail: len (181.53512056899623) > max_len(4)\n",
      "   * Debug: Constraint fail: len (182.18671740826773) > max_len(4)\n",
      "   * Debug: Constraint fail: len (182.11534806270447) > max_len(4)\n",
      "   * Debug: Constraint fail: len (182.50753409106156) > max_len(4)\n",
      "   * Debug: Constraint fail: len (181.93680221439533) > max_len(4)\n",
      "   * Debug: Constraint fail: len (183.12017911743098) > max_len(4)\n",
      "   * Debug: Constraint fail: len (180.8120571200936) > max_len(4)\n",
      "   * Debug: Constraint fail: len (181.3118859865508) > max_len(4)\n",
      "   * Debug: Constraint fail: len (182.14280112043957) > max_len(4)\n",
      "   * Debug: Constraint fail: len (182.13731083992647) > max_len(4)\n",
      "   * Debug: Constraint fail: len (183.16113124787148) > max_len(4)\n",
      "   * Debug: Constraint fail: len (183.67634578246594) > max_len(4)\n",
      "   * Debug: Constraint fail: len (184.19554826325202) > max_len(4)\n",
      "   * Debug: Constraint fail: len (185.22958726942088) > max_len(4)\n",
      "   * Debug: Constraint fail: len (185.75521526998912) > max_len(4)\n",
      "   * Debug: Constraint fail: len (186.79668091269716) > max_len(4)\n",
      "   * Debug: Constraint fail: len (187.8430195668713) > max_len(4)\n",
      "   * Debug: Constraint fail: len (188.3772810080876) > max_len(4)\n",
      "   * Debug: Constraint fail: len (189.43072612435395) > max_len(4)\n",
      "   * Debug: Constraint fail: len (190.4888448177478) > max_len(4)\n",
      "   * Debug: Constraint fail: len (191.9505144562004) > max_len(4)\n",
      "   * Debug: Constraint fail: len (201.40009930484146) > max_len(4)\n",
      "   * Debug: Constraint fail: len (201.9925741209315) > max_len(4)\n",
      "   * Debug: Constraint fail: len (202.58825237411966) > max_len(4)\n",
      "   * Debug: Constraint fail: len (203.18710589011303) > max_len(4)\n",
      "   * Debug: Constraint fail: len (203.78910667648555) > max_len(4)\n",
      "   * Debug: Constraint fail: len (204.39422692434343) > max_len(4)\n",
      "   * Debug: Constraint fail: len (205.00243900988104) > max_len(4)\n",
      "   * Debug: Constraint fail: len (202.04949888579284) > max_len(4)\n",
      "   * Debug: Constraint fail: len (202.54629100529093) > max_len(4)\n",
      "   * Debug: Constraint fail: len (202.4080037943164) > max_len(4)\n",
      "   * Debug: Constraint fail: len (202.27950959007194) > max_len(4)\n",
      "  Tract SPL_R_gwfa_dPMC_L_gwfa: Found target B @ d=107.\n",
      "  Tract SPL_R_gwfa_dPMC_L_gwfa: Found target A @ d=1.\n",
      "  Tract SPL_R_gwfa_dPMC_L_gwfa: Polyline had 41 constraint violation(s).\n"
     ]
    },
    {
     "data": {
      "application/vnd.jupyter.widget-view+json": {
       "model_id": "6cf80fd3973f4a04ba0e205e8cd019cd",
       "version_major": 2,
       "version_minor": 0
      },
      "text/plain": [
       "HBox(children=(IntProgress(value=0, description='Gaussians', max=65), HTML(value='')))"
      ]
     },
     "metadata": {},
     "output_type": "display_data"
    },
    {
     "name": "stdout",
     "output_type": "stream",
     "text": [
      "  Computed distances, polylines, and Gaussians for SPL_R_gwfa/dPMC_L_gwfa\n",
      "  Tract SPL_R_gwfa_dPMC_R_gwfa: max_dist=62\n"
     ]
    },
    {
     "data": {
      "application/vnd.jupyter.widget-view+json": {
       "model_id": "5f3bbd7d4ad9441696187844d88f101b",
       "version_major": 2,
       "version_minor": 0
      },
      "text/plain": [
       "HBox(children=(IntProgress(value=0, description='Distances', max=31), HTML(value='')))"
      ]
     },
     "metadata": {},
     "output_type": "display_data"
    },
    {
     "name": "stdout",
     "output_type": "stream",
     "text": [
      "  Tract SPL_R_gwfa_dPMC_R_gwfa: Found target B @ d=56.\n",
      "  Tract SPL_R_gwfa_dPMC_R_gwfa: Found target A @ d=1.\n"
     ]
    },
    {
     "data": {
      "application/vnd.jupyter.widget-view+json": {
       "model_id": "bcd5c54e1d6e4d7c924a6f5942e9b096",
       "version_major": 2,
       "version_minor": 0
      },
      "text/plain": [
       "HBox(children=(IntProgress(value=0, description='Gaussians', max=55), HTML(value='')))"
      ]
     },
     "metadata": {},
     "output_type": "display_data"
    },
    {
     "name": "stdout",
     "output_type": "stream",
     "text": [
      "  Computed distances, polylines, and Gaussians for SPL_R_gwfa/dPMC_R_gwfa\n",
      "  Tract SPL_R_gwfa_vPMC_L_gwfa: max_dist=120\n"
     ]
    },
    {
     "data": {
      "application/vnd.jupyter.widget-view+json": {
       "model_id": "c4e203e1f4f94e778ad50281f74f783d",
       "version_major": 2,
       "version_minor": 0
      },
      "text/plain": [
       "HBox(children=(IntProgress(value=0, description='Distances', max=60), HTML(value='')))"
      ]
     },
     "metadata": {},
     "output_type": "display_data"
    },
    {
     "name": "stdout",
     "output_type": "stream",
     "text": [
      "  Tract SPL_R_gwfa_vPMC_L_gwfa: Found target B @ d=114.\n",
      "  Tract SPL_R_gwfa_vPMC_L_gwfa: Found target A @ d=1.\n"
     ]
    },
    {
     "data": {
      "application/vnd.jupyter.widget-view+json": {
       "model_id": "d83c8d4f39b1489ba9714de7d1c52318",
       "version_major": 2,
       "version_minor": 0
      },
      "text/plain": [
       "HBox(children=(IntProgress(value=0, description='Gaussians', max=113), HTML(value='')))"
      ]
     },
     "metadata": {},
     "output_type": "display_data"
    },
    {
     "name": "stdout",
     "output_type": "stream",
     "text": [
      "  Computed distances, polylines, and Gaussians for SPL_R_gwfa/vPMC_L_gwfa\n",
      "  Tract SPL_R_gwfa_vPMC_R_gwfa: max_dist=74\n"
     ]
    },
    {
     "data": {
      "application/vnd.jupyter.widget-view+json": {
       "model_id": "38eb67e3b040401b9a88d184f83e0290",
       "version_major": 2,
       "version_minor": 0
      },
      "text/plain": [
       "HBox(children=(IntProgress(value=0, description='Distances', max=37), HTML(value='')))"
      ]
     },
     "metadata": {},
     "output_type": "display_data"
    },
    {
     "name": "stdout",
     "output_type": "stream",
     "text": [
      "  Tract SPL_R_gwfa_vPMC_R_gwfa: Found target B @ d=68.\n",
      "  Tract SPL_R_gwfa_vPMC_R_gwfa: Found target A @ d=1.\n"
     ]
    },
    {
     "data": {
      "application/vnd.jupyter.widget-view+json": {
       "model_id": "8df5b297a7d64b679a7b3d72132923a9",
       "version_major": 2,
       "version_minor": 0
      },
      "text/plain": [
       "HBox(children=(IntProgress(value=0, description='Gaussians', max=67), HTML(value='')))"
      ]
     },
     "metadata": {},
     "output_type": "display_data"
    },
    {
     "name": "stdout",
     "output_type": "stream",
     "text": [
      "  Computed distances, polylines, and Gaussians for SPL_R_gwfa/vPMC_R_gwfa\n",
      "  Tract dPMC_L_gwfa_IPL_L_gwfa: max_dist=77\n"
     ]
    },
    {
     "data": {
      "application/vnd.jupyter.widget-view+json": {
       "model_id": "9f56337719134787a7061301d1ea3d53",
       "version_major": 2,
       "version_minor": 0
      },
      "text/plain": [
       "HBox(children=(IntProgress(value=0, description='Distances', max=38), HTML(value='')))"
      ]
     },
     "metadata": {},
     "output_type": "display_data"
    },
    {
     "name": "stdout",
     "output_type": "stream",
     "text": [
      "  Tract dPMC_L_gwfa_IPL_L_gwfa: Found target B @ d=71.\n",
      "  Tract dPMC_L_gwfa_IPL_L_gwfa: Found target A @ d=1.\n"
     ]
    },
    {
     "data": {
      "application/vnd.jupyter.widget-view+json": {
       "model_id": "e0ef5c7a0ded4fef978ae31c087c4624",
       "version_major": 2,
       "version_minor": 0
      },
      "text/plain": [
       "HBox(children=(IntProgress(value=0, description='Gaussians', max=70), HTML(value='')))"
      ]
     },
     "metadata": {},
     "output_type": "display_data"
    },
    {
     "name": "stdout",
     "output_type": "stream",
     "text": [
      "  Computed distances, polylines, and Gaussians for dPMC_L_gwfa/IPL_L_gwfa\n",
      "  **Warning: No distances file found for ROI pair dPMC_L_gwfa/IPL_R_gwfa! Skipping...\n",
      "  Tract dPMC_L_gwfa_IPS_L_gwfa: max_dist=53\n"
     ]
    },
    {
     "data": {
      "application/vnd.jupyter.widget-view+json": {
       "model_id": "a256ad6d02864db580942a6db371c152",
       "version_major": 2,
       "version_minor": 0
      },
      "text/plain": [
       "HBox(children=(IntProgress(value=0, description='Distances', max=26), HTML(value='')))"
      ]
     },
     "metadata": {},
     "output_type": "display_data"
    },
    {
     "name": "stdout",
     "output_type": "stream",
     "text": [
      "  Tract dPMC_L_gwfa_IPS_L_gwfa: Found target B @ d=47.\n",
      "  Tract dPMC_L_gwfa_IPS_L_gwfa: Found target A @ d=1.\n"
     ]
    },
    {
     "data": {
      "application/vnd.jupyter.widget-view+json": {
       "model_id": "bc5e71bbff904ed1956c2447bd1b86d3",
       "version_major": 2,
       "version_minor": 0
      },
      "text/plain": [
       "HBox(children=(IntProgress(value=0, description='Gaussians', max=46), HTML(value='')))"
      ]
     },
     "metadata": {},
     "output_type": "display_data"
    },
    {
     "name": "stdout",
     "output_type": "stream",
     "text": [
      "  Computed distances, polylines, and Gaussians for dPMC_L_gwfa/IPS_L_gwfa\n",
      "  **Warning: No distances file found for ROI pair dPMC_L_gwfa/IPS_R_gwfa! Skipping...\n",
      "  Tract dPMC_L_gwfa_SPL_L_gwfa: max_dist=62\n"
     ]
    },
    {
     "data": {
      "application/vnd.jupyter.widget-view+json": {
       "model_id": "441dc40641b7441fb18649ab9a3bbf68",
       "version_major": 2,
       "version_minor": 0
      },
      "text/plain": [
       "HBox(children=(IntProgress(value=0, description='Distances', max=31), HTML(value='')))"
      ]
     },
     "metadata": {},
     "output_type": "display_data"
    },
    {
     "name": "stdout",
     "output_type": "stream",
     "text": [
      "  Tract dPMC_L_gwfa_SPL_L_gwfa: Found target B @ d=56.\n",
      "  Tract dPMC_L_gwfa_SPL_L_gwfa: Found target A @ d=1.\n"
     ]
    },
    {
     "data": {
      "application/vnd.jupyter.widget-view+json": {
       "model_id": "3799fb666a14492084c12d6b1b14d633",
       "version_major": 2,
       "version_minor": 0
      },
      "text/plain": [
       "HBox(children=(IntProgress(value=0, description='Gaussians', max=55), HTML(value='')))"
      ]
     },
     "metadata": {},
     "output_type": "display_data"
    },
    {
     "name": "stdout",
     "output_type": "stream",
     "text": [
      "  Computed distances, polylines, and Gaussians for dPMC_L_gwfa/SPL_L_gwfa\n",
      "  Tract dPMC_L_gwfa_SPL_R_gwfa: max_dist=112\n"
     ]
    },
    {
     "data": {
      "application/vnd.jupyter.widget-view+json": {
       "model_id": "06b747dd51b04d969cae0003b0de16ac",
       "version_major": 2,
       "version_minor": 0
      },
      "text/plain": [
       "HBox(children=(IntProgress(value=0, description='Distances', max=56), HTML(value='')))"
      ]
     },
     "metadata": {},
     "output_type": "display_data"
    },
    {
     "name": "stdout",
     "output_type": "stream",
     "text": [
      "  Tract dPMC_L_gwfa_SPL_R_gwfa: Found target B @ d=106.\n",
      "  Tract dPMC_L_gwfa_SPL_R_gwfa: Found target A @ d=1.\n"
     ]
    },
    {
     "data": {
      "application/vnd.jupyter.widget-view+json": {
       "model_id": "7d6068f0bb9e4e5997af07b2f91fc6c6",
       "version_major": 2,
       "version_minor": 0
      },
      "text/plain": [
       "HBox(children=(IntProgress(value=0, description='Gaussians', max=105), HTML(value='')))"
      ]
     },
     "metadata": {},
     "output_type": "display_data"
    },
    {
     "name": "stdout",
     "output_type": "stream",
     "text": [
      "  Computed distances, polylines, and Gaussians for dPMC_L_gwfa/SPL_R_gwfa\n",
      "  Tract dPMC_L_gwfa_dPMC_R_gwfa: max_dist=58\n"
     ]
    },
    {
     "data": {
      "application/vnd.jupyter.widget-view+json": {
       "model_id": "e6802f8980bf4b8caf2bb9e4a06f64b9",
       "version_major": 2,
       "version_minor": 0
      },
      "text/plain": [
       "HBox(children=(IntProgress(value=0, description='Distances', max=29), HTML(value='')))"
      ]
     },
     "metadata": {},
     "output_type": "display_data"
    },
    {
     "name": "stdout",
     "output_type": "stream",
     "text": [
      "  Tract dPMC_L_gwfa_dPMC_R_gwfa: Found target B @ d=52.\n",
      "  Tract dPMC_L_gwfa_dPMC_R_gwfa: Found target A @ d=1.\n"
     ]
    },
    {
     "data": {
      "application/vnd.jupyter.widget-view+json": {
       "model_id": "99ba7b7eb80a4be181e57729935864fc",
       "version_major": 2,
       "version_minor": 0
      },
      "text/plain": [
       "HBox(children=(IntProgress(value=0, description='Gaussians', max=51), HTML(value='')))"
      ]
     },
     "metadata": {},
     "output_type": "display_data"
    },
    {
     "name": "stdout",
     "output_type": "stream",
     "text": [
      "  Computed distances, polylines, and Gaussians for dPMC_L_gwfa/dPMC_R_gwfa\n",
      "  Tract dPMC_L_gwfa_vPMC_L_gwfa: max_dist=26\n"
     ]
    },
    {
     "data": {
      "application/vnd.jupyter.widget-view+json": {
       "model_id": "50a4e4196c0c43c4be6d51d05757d123",
       "version_major": 2,
       "version_minor": 0
      },
      "text/plain": [
       "HBox(children=(IntProgress(value=0, description='Distances', max=13), HTML(value='')))"
      ]
     },
     "metadata": {},
     "output_type": "display_data"
    },
    {
     "name": "stdout",
     "output_type": "stream",
     "text": [
      "  Tract dPMC_L_gwfa_vPMC_L_gwfa: Found target B @ d=20.\n",
      "  Tract dPMC_L_gwfa_vPMC_L_gwfa: Found target A @ d=1.\n"
     ]
    },
    {
     "data": {
      "application/vnd.jupyter.widget-view+json": {
       "model_id": "dda7f0f2364a4d6785f78bd4610b72f5",
       "version_major": 2,
       "version_minor": 0
      },
      "text/plain": [
       "HBox(children=(IntProgress(value=0, description='Gaussians', max=19), HTML(value='')))"
      ]
     },
     "metadata": {},
     "output_type": "display_data"
    },
    {
     "name": "stdout",
     "output_type": "stream",
     "text": [
      "  Computed distances, polylines, and Gaussians for dPMC_L_gwfa/vPMC_L_gwfa\n",
      "  Tract dPMC_L_gwfa_vPMC_R_gwfa: max_dist=72\n"
     ]
    },
    {
     "data": {
      "application/vnd.jupyter.widget-view+json": {
       "model_id": "0c6af71d30f0492a9a67289c81f37690",
       "version_major": 2,
       "version_minor": 0
      },
      "text/plain": [
       "HBox(children=(IntProgress(value=0, description='Distances', max=36), HTML(value='')))"
      ]
     },
     "metadata": {},
     "output_type": "display_data"
    },
    {
     "name": "stdout",
     "output_type": "stream",
     "text": [
      "  Tract dPMC_L_gwfa_vPMC_R_gwfa: Found target B @ d=66.\n",
      "  Tract dPMC_L_gwfa_vPMC_R_gwfa: Found target A @ d=1.\n"
     ]
    },
    {
     "data": {
      "application/vnd.jupyter.widget-view+json": {
       "model_id": "07d854908e8a4e9a97f4687f049886a9",
       "version_major": 2,
       "version_minor": 0
      },
      "text/plain": [
       "HBox(children=(IntProgress(value=0, description='Gaussians', max=65), HTML(value='')))"
      ]
     },
     "metadata": {},
     "output_type": "display_data"
    },
    {
     "name": "stdout",
     "output_type": "stream",
     "text": [
      "  Computed distances, polylines, and Gaussians for dPMC_L_gwfa/vPMC_R_gwfa\n",
      "  **Warning: No distances file found for ROI pair dPMC_R_gwfa/IPL_L_gwfa! Skipping...\n",
      "  Tract dPMC_R_gwfa_IPL_R_gwfa: max_dist=77\n"
     ]
    },
    {
     "data": {
      "application/vnd.jupyter.widget-view+json": {
       "model_id": "1b28b7ccf2a640d083e3f30c8d875c5a",
       "version_major": 2,
       "version_minor": 0
      },
      "text/plain": [
       "HBox(children=(IntProgress(value=0, description='Distances', max=38), HTML(value='')))"
      ]
     },
     "metadata": {},
     "output_type": "display_data"
    },
    {
     "name": "stdout",
     "output_type": "stream",
     "text": [
      "  Tract dPMC_R_gwfa_IPL_R_gwfa: Found target B @ d=71.\n",
      "  Tract dPMC_R_gwfa_IPL_R_gwfa: Found target A @ d=1.\n"
     ]
    },
    {
     "data": {
      "application/vnd.jupyter.widget-view+json": {
       "model_id": "77194bdcdb2f4bc68a8e703cf58079d9",
       "version_major": 2,
       "version_minor": 0
      },
      "text/plain": [
       "HBox(children=(IntProgress(value=0, description='Gaussians', max=70), HTML(value='')))"
      ]
     },
     "metadata": {},
     "output_type": "display_data"
    },
    {
     "name": "stdout",
     "output_type": "stream",
     "text": [
      "  Computed distances, polylines, and Gaussians for dPMC_R_gwfa/IPL_R_gwfa\n",
      "  Tract dPMC_R_gwfa_IPS_L_gwfa: max_dist=112\n"
     ]
    },
    {
     "data": {
      "application/vnd.jupyter.widget-view+json": {
       "model_id": "d994a6f9ec8c4f6bab4e7909af42401a",
       "version_major": 2,
       "version_minor": 0
      },
      "text/plain": [
       "HBox(children=(IntProgress(value=0, description='Distances', max=56), HTML(value='')))"
      ]
     },
     "metadata": {},
     "output_type": "display_data"
    },
    {
     "name": "stdout",
     "output_type": "stream",
     "text": [
      "   * Debug: Constraint fail: len (10.344080432788601) > max_len(4)\n",
      "   * Debug: Constraint fail: len (206.4388529322908) > max_len(4)\n",
      "   * Debug: Constraint fail: len (201.6209314530612) > max_len(4)\n",
      "   * Debug: Constraint fail: len (201.05720578979506) > max_len(4)\n",
      "   * Debug: Constraint fail: len (200.42704408337713) > max_len(4)\n",
      "   * Debug: Constraint fail: len (199.25109786397664) > max_len(4)\n",
      "   * Debug: Constraint fail: len (198.64037857394453) > max_len(4)\n",
      "   * Debug: Constraint fail: len (198.63534428696218) > max_len(4)\n",
      "   * Debug: Constraint fail: len (198.03787516533296) > max_len(4)\n",
      "   * Debug: Constraint fail: len (197.45885647395005) > max_len(4)\n",
      "   * Debug: Constraint fail: len (196.878134895676) > max_len(4)\n",
      "   * Debug: Constraint fail: len (195.7268504830137) > max_len(4)\n",
      "   * Debug: Constraint fail: len (196.3211654407135) > max_len(4)\n",
      "   * Debug: Constraint fail: len (195.757503049053) > max_len(4)\n",
      "   * Debug: Constraint fail: len (195.19733604739588) > max_len(4)\n",
      "   * Debug: Constraint fail: len (194.64069461446135) > max_len(4)\n",
      "   * Debug: Constraint fail: len (194.0876090841453) > max_len(4)\n",
      "   * Debug: Constraint fail: len (193.53810994220234) > max_len(4)\n",
      "   * Debug: Constraint fail: len (192.99222782278048) > max_len(4)\n",
      "   * Debug: Constraint fail: len (192.44999350480634) > max_len(4)\n",
      "   * Debug: Constraint fail: len (191.9114379082185) > max_len(4)\n",
      "   * Debug: Constraint fail: len (191.3765920900464) > max_len(4)\n",
      "   * Debug: Constraint fail: len (190.24457942343588) > max_len(4)\n",
      "   * Debug: Constraint fail: len (190.31815467789718) > max_len(4)\n",
      "   * Debug: Constraint fail: len (189.79462584593907) > max_len(4)\n",
      "   * Debug: Constraint fail: len (189.274932307477) > max_len(4)\n",
      "   * Debug: Constraint fail: len (188.15684946341975) > max_len(4)\n",
      "   * Debug: Constraint fail: len (187.04277585621958) > max_len(4)\n",
      "   * Debug: Constraint fail: len (186.53149868051776) > max_len(4)\n",
      "   * Debug: Constraint fail: len (186.02419197512995) > max_len(4)\n",
      "   * Debug: Constraint fail: len (196.1249601657066) > max_len(4)\n",
      "   * Debug: Constraint fail: len (185.11888072263184) > max_len(4)\n",
      "   * Debug: Constraint fail: len (184.51558199783562) > max_len(4)\n",
      "   * Debug: Constraint fail: len (184.0244548966251) > max_len(4)\n",
      "   * Debug: Constraint fail: len (184.77553950672151) > max_len(4)\n",
      "   * Debug: Constraint fail: len (182.43903091169938) > max_len(4)\n",
      "   * Debug: Constraint fail: len (182.57601156778512) > max_len(4)\n",
      "   * Debug: Constraint fail: len (182.10161998181127) > max_len(4)\n",
      "   * Debug: Constraint fail: len (180.38292602128396) > max_len(4)\n",
      "   * Debug: Constraint fail: len (181.16567003712376) > max_len(4)\n",
      "   * Debug: Constraint fail: len (178.82673178247148) > max_len(4)\n",
      "   * Debug: Constraint fail: len (180.24705268048075) > max_len(4)\n",
      "   * Debug: Constraint fail: len (179.16193792209327) > max_len(4)\n",
      "  Tract dPMC_R_gwfa_IPS_L_gwfa: Found target B @ d=106.\n",
      "  Tract dPMC_R_gwfa_IPS_L_gwfa: Found target A @ d=1.\n",
      "  Tract dPMC_R_gwfa_IPS_L_gwfa: Polyline had 43 constraint violation(s).\n"
     ]
    },
    {
     "data": {
      "application/vnd.jupyter.widget-view+json": {
       "model_id": "7ffad6073b5a4fb6b1f757db04c2ceed",
       "version_major": 2,
       "version_minor": 0
      },
      "text/plain": [
       "HBox(children=(IntProgress(value=0, description='Gaussians', max=62), HTML(value='')))"
      ]
     },
     "metadata": {},
     "output_type": "display_data"
    },
    {
     "name": "stdout",
     "output_type": "stream",
     "text": [
      "  Computed distances, polylines, and Gaussians for dPMC_R_gwfa/IPS_L_gwfa\n",
      "  Tract dPMC_R_gwfa_IPS_R_gwfa: max_dist=63\n"
     ]
    },
    {
     "data": {
      "application/vnd.jupyter.widget-view+json": {
       "model_id": "20e62667ab484c189dde7932b2b13e1d",
       "version_major": 2,
       "version_minor": 0
      },
      "text/plain": [
       "HBox(children=(IntProgress(value=0, description='Distances', max=32), HTML(value='')))"
      ]
     },
     "metadata": {},
     "output_type": "display_data"
    },
    {
     "name": "stdout",
     "output_type": "stream",
     "text": [
      "  Tract dPMC_R_gwfa_IPS_R_gwfa: Found target B @ d=57.\n",
      "  Tract dPMC_R_gwfa_IPS_R_gwfa: Found target A @ d=1.\n"
     ]
    },
    {
     "data": {
      "application/vnd.jupyter.widget-view+json": {
       "model_id": "61faa03384404537bdccc82c50a43718",
       "version_major": 2,
       "version_minor": 0
      },
      "text/plain": [
       "HBox(children=(IntProgress(value=0, description='Gaussians', max=56), HTML(value='')))"
      ]
     },
     "metadata": {},
     "output_type": "display_data"
    },
    {
     "name": "stdout",
     "output_type": "stream",
     "text": [
      "  Computed distances, polylines, and Gaussians for dPMC_R_gwfa/IPS_R_gwfa\n",
      "  Tract dPMC_R_gwfa_SPL_L_gwfa: max_dist=120\n"
     ]
    },
    {
     "data": {
      "application/vnd.jupyter.widget-view+json": {
       "model_id": "de797d350bac4ab9bd03a2fb18125801",
       "version_major": 2,
       "version_minor": 0
      },
      "text/plain": [
       "HBox(children=(IntProgress(value=0, description='Distances', max=60), HTML(value='')))"
      ]
     },
     "metadata": {},
     "output_type": "display_data"
    },
    {
     "name": "stdout",
     "output_type": "stream",
     "text": [
      "  Tract dPMC_R_gwfa_SPL_L_gwfa: Found target B @ d=114.\n",
      "  Tract dPMC_R_gwfa_SPL_L_gwfa: Found target A @ d=1.\n"
     ]
    },
    {
     "data": {
      "application/vnd.jupyter.widget-view+json": {
       "model_id": "b649d75c5aa14623b6ee1b25094d617e",
       "version_major": 2,
       "version_minor": 0
      },
      "text/plain": [
       "HBox(children=(IntProgress(value=0, description='Gaussians', max=113), HTML(value='')))"
      ]
     },
     "metadata": {},
     "output_type": "display_data"
    },
    {
     "name": "stdout",
     "output_type": "stream",
     "text": [
      "  Computed distances, polylines, and Gaussians for dPMC_R_gwfa/SPL_L_gwfa\n",
      "  Tract dPMC_R_gwfa_SPL_R_gwfa: max_dist=62\n"
     ]
    },
    {
     "data": {
      "application/vnd.jupyter.widget-view+json": {
       "model_id": "302636f0509542afb52f1d7f1261f3ac",
       "version_major": 2,
       "version_minor": 0
      },
      "text/plain": [
       "HBox(children=(IntProgress(value=0, description='Distances', max=31), HTML(value='')))"
      ]
     },
     "metadata": {},
     "output_type": "display_data"
    },
    {
     "name": "stdout",
     "output_type": "stream",
     "text": [
      "  Tract dPMC_R_gwfa_SPL_R_gwfa: Found target B @ d=56.\n",
      "  Tract dPMC_R_gwfa_SPL_R_gwfa: Found target A @ d=1.\n"
     ]
    },
    {
     "data": {
      "application/vnd.jupyter.widget-view+json": {
       "model_id": "b7f0453965e94362982271487e9422b2",
       "version_major": 2,
       "version_minor": 0
      },
      "text/plain": [
       "HBox(children=(IntProgress(value=0, description='Gaussians', max=55), HTML(value='')))"
      ]
     },
     "metadata": {},
     "output_type": "display_data"
    },
    {
     "name": "stdout",
     "output_type": "stream",
     "text": [
      "  Computed distances, polylines, and Gaussians for dPMC_R_gwfa/SPL_R_gwfa\n",
      "  Tract dPMC_R_gwfa_dPMC_L_gwfa: max_dist=58\n"
     ]
    },
    {
     "data": {
      "application/vnd.jupyter.widget-view+json": {
       "model_id": "e2807533401549a7819149bbf73fc788",
       "version_major": 2,
       "version_minor": 0
      },
      "text/plain": [
       "HBox(children=(IntProgress(value=0, description='Distances', max=29), HTML(value='')))"
      ]
     },
     "metadata": {},
     "output_type": "display_data"
    },
    {
     "name": "stdout",
     "output_type": "stream",
     "text": [
      "  Tract dPMC_R_gwfa_dPMC_L_gwfa: Found target B @ d=52.\n",
      "  Tract dPMC_R_gwfa_dPMC_L_gwfa: Found target A @ d=1.\n"
     ]
    },
    {
     "data": {
      "application/vnd.jupyter.widget-view+json": {
       "model_id": "fdcfe7fee1dd48febb6caaaade6607be",
       "version_major": 2,
       "version_minor": 0
      },
      "text/plain": [
       "HBox(children=(IntProgress(value=0, description='Gaussians', max=51), HTML(value='')))"
      ]
     },
     "metadata": {},
     "output_type": "display_data"
    },
    {
     "name": "stdout",
     "output_type": "stream",
     "text": [
      "  Computed distances, polylines, and Gaussians for dPMC_R_gwfa/dPMC_L_gwfa\n",
      "  Tract dPMC_R_gwfa_vPMC_L_gwfa: max_dist=70\n"
     ]
    },
    {
     "data": {
      "application/vnd.jupyter.widget-view+json": {
       "model_id": "4ce14dfe2eb8406bafb6fcdf1e9d72e1",
       "version_major": 2,
       "version_minor": 0
      },
      "text/plain": [
       "HBox(children=(IntProgress(value=0, description='Distances', max=35), HTML(value='')))"
      ]
     },
     "metadata": {},
     "output_type": "display_data"
    },
    {
     "name": "stdout",
     "output_type": "stream",
     "text": [
      "  Tract dPMC_R_gwfa_vPMC_L_gwfa: Found target B @ d=64.\n",
      "  Tract dPMC_R_gwfa_vPMC_L_gwfa: Found target A @ d=1.\n"
     ]
    },
    {
     "data": {
      "application/vnd.jupyter.widget-view+json": {
       "model_id": "8caf9368aa8d449abf5df1006d9129e6",
       "version_major": 2,
       "version_minor": 0
      },
      "text/plain": [
       "HBox(children=(IntProgress(value=0, description='Gaussians', max=63), HTML(value='')))"
      ]
     },
     "metadata": {},
     "output_type": "display_data"
    },
    {
     "name": "stdout",
     "output_type": "stream",
     "text": [
      "  Computed distances, polylines, and Gaussians for dPMC_R_gwfa/vPMC_L_gwfa\n",
      "  Tract dPMC_R_gwfa_vPMC_R_gwfa: max_dist=23\n"
     ]
    },
    {
     "data": {
      "application/vnd.jupyter.widget-view+json": {
       "model_id": "ff432fbfa37c4dac8a34d79c2c1eed1a",
       "version_major": 2,
       "version_minor": 0
      },
      "text/plain": [
       "HBox(children=(IntProgress(value=0, description='Distances', max=12), HTML(value='')))"
      ]
     },
     "metadata": {},
     "output_type": "display_data"
    },
    {
     "name": "stdout",
     "output_type": "stream",
     "text": [
      "  Tract dPMC_R_gwfa_vPMC_R_gwfa: Found target B @ d=17.\n",
      "  Tract dPMC_R_gwfa_vPMC_R_gwfa: Found target A @ d=1.\n"
     ]
    },
    {
     "data": {
      "application/vnd.jupyter.widget-view+json": {
       "model_id": "0fcf5dbb770f45b682ca5fad4b945363",
       "version_major": 2,
       "version_minor": 0
      },
      "text/plain": [
       "HBox(children=(IntProgress(value=0, description='Gaussians', max=16), HTML(value='')))"
      ]
     },
     "metadata": {},
     "output_type": "display_data"
    },
    {
     "name": "stdout",
     "output_type": "stream",
     "text": [
      "  Computed distances, polylines, and Gaussians for dPMC_R_gwfa/vPMC_R_gwfa\n",
      "  Tract vPMC_L_gwfa_IPL_L_gwfa: max_dist=75\n"
     ]
    },
    {
     "data": {
      "application/vnd.jupyter.widget-view+json": {
       "model_id": "e3f69ca598e14f9a9e4e8da8c6e959c3",
       "version_major": 2,
       "version_minor": 0
      },
      "text/plain": [
       "HBox(children=(IntProgress(value=0, description='Distances', max=38), HTML(value='')))"
      ]
     },
     "metadata": {},
     "output_type": "display_data"
    },
    {
     "name": "stdout",
     "output_type": "stream",
     "text": [
      "  Tract vPMC_L_gwfa_IPL_L_gwfa: Found target B @ d=69.\n",
      "  Tract vPMC_L_gwfa_IPL_L_gwfa: Found target A @ d=1.\n"
     ]
    },
    {
     "data": {
      "application/vnd.jupyter.widget-view+json": {
       "model_id": "57b8c50c68ac40c18670ee08fc8cfacd",
       "version_major": 2,
       "version_minor": 0
      },
      "text/plain": [
       "HBox(children=(IntProgress(value=0, description='Gaussians', max=68), HTML(value='')))"
      ]
     },
     "metadata": {},
     "output_type": "display_data"
    },
    {
     "name": "stdout",
     "output_type": "stream",
     "text": [
      "  Computed distances, polylines, and Gaussians for vPMC_L_gwfa/IPL_L_gwfa\n",
      "  **Warning: No distances file found for ROI pair vPMC_L_gwfa/IPL_R_gwfa! Skipping...\n",
      "  Tract vPMC_L_gwfa_IPS_L_gwfa: max_dist=49\n"
     ]
    },
    {
     "data": {
      "application/vnd.jupyter.widget-view+json": {
       "model_id": "d5d1325dc5a2415bbe48020b7d21e02a",
       "version_major": 2,
       "version_minor": 0
      },
      "text/plain": [
       "HBox(children=(IntProgress(value=0, description='Distances', max=24), HTML(value='')))"
      ]
     },
     "metadata": {},
     "output_type": "display_data"
    },
    {
     "name": "stdout",
     "output_type": "stream",
     "text": [
      "  Tract vPMC_L_gwfa_IPS_L_gwfa: Found target B @ d=43.\n",
      "  Tract vPMC_L_gwfa_IPS_L_gwfa: Found target A @ d=1.\n"
     ]
    },
    {
     "data": {
      "application/vnd.jupyter.widget-view+json": {
       "model_id": "90caa95ba37a42789a017d43ce93f7a0",
       "version_major": 2,
       "version_minor": 0
      },
      "text/plain": [
       "HBox(children=(IntProgress(value=0, description='Gaussians', max=42), HTML(value='')))"
      ]
     },
     "metadata": {},
     "output_type": "display_data"
    },
    {
     "name": "stdout",
     "output_type": "stream",
     "text": [
      "  Computed distances, polylines, and Gaussians for vPMC_L_gwfa/IPS_L_gwfa\n",
      "  **Warning: No distances file found for ROI pair vPMC_L_gwfa/IPS_R_gwfa! Skipping...\n",
      "  Tract vPMC_L_gwfa_SPL_L_gwfa: max_dist=73\n"
     ]
    },
    {
     "data": {
      "application/vnd.jupyter.widget-view+json": {
       "model_id": "b3e0d221e34c4ccfac49ee014731b02c",
       "version_major": 2,
       "version_minor": 0
      },
      "text/plain": [
       "HBox(children=(IntProgress(value=0, description='Distances', max=36), HTML(value='')))"
      ]
     },
     "metadata": {},
     "output_type": "display_data"
    },
    {
     "name": "stdout",
     "output_type": "stream",
     "text": [
      "  Tract vPMC_L_gwfa_SPL_L_gwfa: Found target B @ d=67.\n",
      "  Tract vPMC_L_gwfa_SPL_L_gwfa: Found target A @ d=1.\n"
     ]
    },
    {
     "data": {
      "application/vnd.jupyter.widget-view+json": {
       "model_id": "a9c9616f18744087a566c765ebd4fd3e",
       "version_major": 2,
       "version_minor": 0
      },
      "text/plain": [
       "HBox(children=(IntProgress(value=0, description='Gaussians', max=66), HTML(value='')))"
      ]
     },
     "metadata": {},
     "output_type": "display_data"
    },
    {
     "name": "stdout",
     "output_type": "stream",
     "text": [
      "  Computed distances, polylines, and Gaussians for vPMC_L_gwfa/SPL_L_gwfa\n",
      "  Tract vPMC_L_gwfa_SPL_R_gwfa: max_dist=120\n"
     ]
    },
    {
     "data": {
      "application/vnd.jupyter.widget-view+json": {
       "model_id": "b435f12d144142bdbb4c92455f392b01",
       "version_major": 2,
       "version_minor": 0
      },
      "text/plain": [
       "HBox(children=(IntProgress(value=0, description='Distances', max=60), HTML(value='')))"
      ]
     },
     "metadata": {},
     "output_type": "display_data"
    },
    {
     "name": "stdout",
     "output_type": "stream",
     "text": [
      "  Tract vPMC_L_gwfa_SPL_R_gwfa: Found target B @ d=114.\n",
      "  Tract vPMC_L_gwfa_SPL_R_gwfa: Found target A @ d=1.\n"
     ]
    },
    {
     "data": {
      "application/vnd.jupyter.widget-view+json": {
       "model_id": "0a173595b8ef41d7992b17a20b892459",
       "version_major": 2,
       "version_minor": 0
      },
      "text/plain": [
       "HBox(children=(IntProgress(value=0, description='Gaussians', max=113), HTML(value='')))"
      ]
     },
     "metadata": {},
     "output_type": "display_data"
    },
    {
     "name": "stdout",
     "output_type": "stream",
     "text": [
      "  Computed distances, polylines, and Gaussians for vPMC_L_gwfa/SPL_R_gwfa\n",
      "  Tract vPMC_L_gwfa_dPMC_L_gwfa: max_dist=26\n"
     ]
    },
    {
     "data": {
      "application/vnd.jupyter.widget-view+json": {
       "model_id": "a6168588f69e46388b899c8d62946d20",
       "version_major": 2,
       "version_minor": 0
      },
      "text/plain": [
       "HBox(children=(IntProgress(value=0, description='Distances', max=13), HTML(value='')))"
      ]
     },
     "metadata": {},
     "output_type": "display_data"
    },
    {
     "name": "stdout",
     "output_type": "stream",
     "text": [
      "  Tract vPMC_L_gwfa_dPMC_L_gwfa: Found target B @ d=20.\n",
      "  Tract vPMC_L_gwfa_dPMC_L_gwfa: Found target A @ d=1.\n"
     ]
    },
    {
     "data": {
      "application/vnd.jupyter.widget-view+json": {
       "model_id": "ec3698b7a2e145bc8f44b142e08c9b35",
       "version_major": 2,
       "version_minor": 0
      },
      "text/plain": [
       "HBox(children=(IntProgress(value=0, description='Gaussians', max=19), HTML(value='')))"
      ]
     },
     "metadata": {},
     "output_type": "display_data"
    },
    {
     "name": "stdout",
     "output_type": "stream",
     "text": [
      "  Computed distances, polylines, and Gaussians for vPMC_L_gwfa/dPMC_L_gwfa\n",
      "  Tract vPMC_L_gwfa_dPMC_R_gwfa: max_dist=70\n"
     ]
    },
    {
     "data": {
      "application/vnd.jupyter.widget-view+json": {
       "model_id": "2910b541c98d4345a86ebaac83ffd46a",
       "version_major": 2,
       "version_minor": 0
      },
      "text/plain": [
       "HBox(children=(IntProgress(value=0, description='Distances', max=35), HTML(value='')))"
      ]
     },
     "metadata": {},
     "output_type": "display_data"
    },
    {
     "name": "stdout",
     "output_type": "stream",
     "text": [
      "  Tract vPMC_L_gwfa_dPMC_R_gwfa: Found target B @ d=64.\n",
      "  Tract vPMC_L_gwfa_dPMC_R_gwfa: Found target A @ d=1.\n"
     ]
    },
    {
     "data": {
      "application/vnd.jupyter.widget-view+json": {
       "model_id": "39041c3983c440c1a0ba77fd2f1c87cf",
       "version_major": 2,
       "version_minor": 0
      },
      "text/plain": [
       "HBox(children=(IntProgress(value=0, description='Gaussians', max=63), HTML(value='')))"
      ]
     },
     "metadata": {},
     "output_type": "display_data"
    },
    {
     "name": "stdout",
     "output_type": "stream",
     "text": [
      "  Computed distances, polylines, and Gaussians for vPMC_L_gwfa/dPMC_R_gwfa\n",
      "  Tract vPMC_L_gwfa_vPMC_R_gwfa: max_dist=83\n"
     ]
    },
    {
     "data": {
      "application/vnd.jupyter.widget-view+json": {
       "model_id": "cf1679a1a423461f83bdaf44109329d8",
       "version_major": 2,
       "version_minor": 0
      },
      "text/plain": [
       "HBox(children=(IntProgress(value=0, description='Distances', max=42), HTML(value='')))"
      ]
     },
     "metadata": {},
     "output_type": "display_data"
    },
    {
     "name": "stdout",
     "output_type": "stream",
     "text": [
      "  Tract vPMC_L_gwfa_vPMC_R_gwfa: Found target B @ d=77.\n",
      "  Tract vPMC_L_gwfa_vPMC_R_gwfa: Found target A @ d=1.\n"
     ]
    },
    {
     "data": {
      "application/vnd.jupyter.widget-view+json": {
       "model_id": "b566ea28a10b45fbac3ed1d9967f28b6",
       "version_major": 2,
       "version_minor": 0
      },
      "text/plain": [
       "HBox(children=(IntProgress(value=0, description='Gaussians', max=76), HTML(value='')))"
      ]
     },
     "metadata": {},
     "output_type": "display_data"
    },
    {
     "name": "stdout",
     "output_type": "stream",
     "text": [
      "  Computed distances, polylines, and Gaussians for vPMC_L_gwfa/vPMC_R_gwfa\n",
      "  Tract vPMC_R_gwfa_IPL_L_gwfa: max_dist=129\n"
     ]
    },
    {
     "data": {
      "application/vnd.jupyter.widget-view+json": {
       "model_id": "5ddd0023fe2c4cfe882854472531351e",
       "version_major": 2,
       "version_minor": 0
      },
      "text/plain": [
       "HBox(children=(IntProgress(value=0, description='Distances', max=64), HTML(value='')))"
      ]
     },
     "metadata": {},
     "output_type": "display_data"
    },
    {
     "name": "stdout",
     "output_type": "stream",
     "text": [
      "   * Debug: Constraint fail: len (11.489125293076057) > max_len(4)\n",
      "   * Debug: Constraint fail: len (196.31097778779463) > max_len(4)\n",
      "   * Debug: Constraint fail: len (195.7268504830137) > max_len(4)\n",
      "   * Debug: Constraint fail: len (195.7370685383839) > max_len(4)\n",
      "   * Debug: Constraint fail: len (195.1870897370008) > max_len(4)\n",
      "   * Debug: Constraint fail: len (195.78304318811678) > max_len(4)\n",
      "   * Debug: Constraint fail: len (194.6561070195333) > max_len(4)\n",
      "   * Debug: Constraint fail: len (194.0566927472485) > max_len(4)\n",
      "   * Debug: Constraint fail: len (194.09791343546175) > max_len(4)\n",
      "   * Debug: Constraint fail: len (194.78449630296555) > max_len(4)\n",
      "   * Debug: Constraint fail: len (193.63109254456012) > max_len(4)\n",
      "   * Debug: Constraint fail: len (192.4811679100062) > max_len(4)\n",
      "   * Debug: Constraint fail: len (191.94269978303421) > max_len(4)\n",
      "   * Debug: Constraint fail: len (191.40794131905812) > max_len(4)\n",
      "   * Debug: Constraint fail: len (190.87692369692047) > max_len(4)\n",
      "   * Debug: Constraint fail: len (189.73665961010275) > max_len(4)\n",
      "   * Debug: Constraint fail: len (189.21152184790438) > max_len(4)\n",
      "   * Debug: Constraint fail: len (188.69022232219666) > max_len(4)\n",
      "   * Debug: Constraint fail: len (189.41224881194987) > max_len(4)\n",
      "   * Debug: Constraint fail: len (188.27904822364064) > max_len(4)\n",
      "   * Debug: Constraint fail: len (187.7498335551859) > max_len(4)\n",
      "   * Debug: Constraint fail: len (187.24582772387748) > max_len(4)\n",
      "   * Debug: Constraint fail: len (186.74581655287489) > max_len(4)\n",
      "   * Debug: Constraint fail: len (185.62866158004803) > max_len(4)\n",
      "   * Debug: Constraint fail: len (185.13508581573618) > max_len(4)\n",
      "   * Debug: Constraint fail: len (184.6456065006693) > max_len(4)\n",
      "   * Debug: Constraint fail: len (183.53746211604866) > max_len(4)\n",
      "   * Debug: Constraint fail: len (183.05463665255792) > max_len(4)\n",
      "   * Debug: Constraint fail: len (183.2184488527288) > max_len(4)\n",
      "   * Debug: Constraint fail: len (182.74572498419764) > max_len(4)\n",
      "   * Debug: Constraint fail: len (181.01104938649465) > max_len(4)\n",
      "   * Debug: Constraint fail: len (180.54362353736008) > max_len(4)\n",
      "   * Debug: Constraint fail: len (178.82113968991473) > max_len(4)\n",
      "   * Debug: Constraint fail: len (177.7329457360115) > max_len(4)\n",
      "   * Debug: Constraint fail: len (176.64937022248338) > max_len(4)\n",
      "   * Debug: Constraint fail: len (176.81911661356077) > max_len(4)\n",
      "   * Debug: Constraint fail: len (175.73559684935776) > max_len(4)\n",
      "   * Debug: Constraint fail: len (175.2883338958985) > max_len(4)\n",
      "   * Debug: Constraint fail: len (174.21251390184347) > max_len(4)\n",
      "   * Debug: Constraint fail: len (173.7728402253931) > max_len(4)\n",
      "   * Debug: Constraint fail: len (172.7049507107425) > max_len(4)\n",
      "   * Debug: Constraint fail: len (173.5511451993331) > max_len(4)\n",
      "   * Debug: Constraint fail: len (171.21331723905124) > max_len(4)\n",
      "   * Debug: Constraint fail: len (170.7893439298834) > max_len(4)\n",
      "   * Debug: Constraint fail: len (170.37018518508455) > max_len(4)\n",
      "   * Debug: Constraint fail: len (168.7275911047153) > max_len(4)\n",
      "   * Debug: Constraint fail: len (167.65142409177443) > max_len(4)\n",
      "   * Debug: Constraint fail: len (168.01488029338353) > max_len(4)\n",
      "   * Debug: Constraint fail: len (167.68422704595682) > max_len(4)\n",
      "   * Debug: Constraint fail: len (165.99096360946882) > max_len(4)\n",
      "   * Debug: Constraint fail: len (166.37608001152088) > max_len(4)\n",
      "   * Debug: Constraint fail: len (164.90603384958357) > max_len(4)\n",
      "   * Debug: Constraint fail: len (165.2331685830663) > max_len(4)\n",
      "   * Debug: Constraint fail: len (183.5783211602067) > max_len(4)\n",
      "   * Debug: Constraint fail: len (184.06520583749662) > max_len(4)\n",
      "   * Debug: Constraint fail: len (164.00304875214974) > max_len(4)\n",
      "   * Debug: Constraint fail: len (161.37843722133388) > max_len(4)\n",
      "   * Debug: Constraint fail: len (185.9946235782099) > max_len(4)\n",
      "   * Debug: Constraint fail: len (184.53184007102948) > max_len(4)\n",
      "  Tract vPMC_R_gwfa_IPL_L_gwfa: Found target B @ d=123.\n",
      "  Tract vPMC_R_gwfa_IPL_L_gwfa: Found target A @ d=1.\n",
      "  Tract vPMC_R_gwfa_IPL_L_gwfa: Polyline had 59 constraint violation(s).\n"
     ]
    },
    {
     "data": {
      "application/vnd.jupyter.widget-view+json": {
       "model_id": "12c4859ef6ac44239ac8056d1ad142af",
       "version_major": 2,
       "version_minor": 0
      },
      "text/plain": [
       "HBox(children=(IntProgress(value=0, description='Gaussians', max=63), HTML(value='')))"
      ]
     },
     "metadata": {},
     "output_type": "display_data"
    },
    {
     "name": "stdout",
     "output_type": "stream",
     "text": [
      "  Computed distances, polylines, and Gaussians for vPMC_R_gwfa/IPL_L_gwfa\n",
      "  Tract vPMC_R_gwfa_IPL_R_gwfa: max_dist=75\n"
     ]
    },
    {
     "data": {
      "application/vnd.jupyter.widget-view+json": {
       "model_id": "330b9a073c424e09b8a29260f171b506",
       "version_major": 2,
       "version_minor": 0
      },
      "text/plain": [
       "HBox(children=(IntProgress(value=0, description='Distances', max=38), HTML(value='')))"
      ]
     },
     "metadata": {},
     "output_type": "display_data"
    },
    {
     "name": "stdout",
     "output_type": "stream",
     "text": [
      "  Tract vPMC_R_gwfa_IPL_R_gwfa: Found target B @ d=69.\n",
      "  Tract vPMC_R_gwfa_IPL_R_gwfa: Found target A @ d=1.\n"
     ]
    },
    {
     "data": {
      "application/vnd.jupyter.widget-view+json": {
       "model_id": "af2a427fa2d44e769d364426259b22df",
       "version_major": 2,
       "version_minor": 0
      },
      "text/plain": [
       "HBox(children=(IntProgress(value=0, description='Gaussians', max=68), HTML(value='')))"
      ]
     },
     "metadata": {},
     "output_type": "display_data"
    },
    {
     "name": "stdout",
     "output_type": "stream",
     "text": [
      "  Computed distances, polylines, and Gaussians for vPMC_R_gwfa/IPL_R_gwfa\n",
      "  Tract vPMC_R_gwfa_IPS_L_gwfa: max_dist=104\n"
     ]
    },
    {
     "data": {
      "application/vnd.jupyter.widget-view+json": {
       "model_id": "129c071dba4e49f18b00bd7dbf9b16d6",
       "version_major": 2,
       "version_minor": 0
      },
      "text/plain": [
       "HBox(children=(IntProgress(value=0, description='Distances', max=52), HTML(value='')))"
      ]
     },
     "metadata": {},
     "output_type": "display_data"
    },
    {
     "name": "stdout",
     "output_type": "stream",
     "text": [
      "   * Debug: Constraint fail: len (10.862780491200215) > max_len(4)\n",
      "   * Debug: Constraint fail: len (196.89845098425735) > max_len(4)\n",
      "   * Debug: Constraint fail: len (196.88829320200833) > max_len(4)\n",
      "   * Debug: Constraint fail: len (196.31097778779463) > max_len(4)\n",
      "   * Debug: Constraint fail: len (196.89845098425735) > max_len(4)\n",
      "   * Debug: Constraint fail: len (196.91876497682998) > max_len(4)\n",
      "   * Debug: Constraint fail: len (195.82900704441107) > max_len(4)\n",
      "   * Debug: Constraint fail: len (194.68179164986128) > max_len(4)\n",
      "   * Debug: Constraint fail: len (193.53810994220234) > max_len(4)\n",
      "   * Debug: Constraint fail: len (193.58977245712128) > max_len(4)\n",
      "   * Debug: Constraint fail: len (192.46038553427042) > max_len(4)\n",
      "   * Debug: Constraint fail: len (191.92185909895724) > max_len(4)\n",
      "   * Debug: Constraint fail: len (190.77735714701575) > max_len(4)\n",
      "   * Debug: Constraint fail: len (189.64704057801694) > max_len(4)\n",
      "   * Debug: Constraint fail: len (189.71557658769086) > max_len(4)\n",
      "   * Debug: Constraint fail: len (189.19038030513073) > max_len(4)\n",
      "   * Debug: Constraint fail: len (188.06647760831805) > max_len(4)\n",
      "   * Debug: Constraint fail: len (189.38584952419228) > max_len(4)\n",
      "   * Debug: Constraint fail: len (186.4296113818832) > max_len(4)\n",
      "   * Debug: Constraint fail: len (188.35339126227592) > max_len(4)\n",
      "   * Debug: Constraint fail: len (186.0134403746138) > max_len(4)\n",
      "   * Debug: Constraint fail: len (185.51010754134126) > max_len(4)\n",
      "   * Debug: Constraint fail: len (186.85823503394224) > max_len(4)\n",
      "   * Debug: Constraint fail: len (186.36791569366224) > max_len(4)\n",
      "   * Debug: Constraint fail: len (185.88168279849415) > max_len(4)\n",
      "   * Debug: Constraint fail: len (183.53746211604866) > max_len(4)\n",
      "   * Debug: Constraint fail: len (182.70194306574848) > max_len(4)\n",
      "   * Debug: Constraint fail: len (183.83144453547658) > max_len(4)\n",
      "   * Debug: Constraint fail: len (182.33211456021672) > max_len(4)\n",
      "   * Debug: Constraint fail: len (182.26080214900844) > max_len(4)\n",
      "   * Debug: Constraint fail: len (180.53808462482368) > max_len(4)\n",
      "   * Debug: Constraint fail: len (180.07498438150702) > max_len(4)\n",
      "   * Debug: Constraint fail: len (178.98882646690546) > max_len(4)\n",
      "   * Debug: Constraint fail: len (178.53291013143766) > max_len(4)\n",
      "  Tract vPMC_R_gwfa_IPS_L_gwfa: Found target B @ d=98.\n",
      "  Tract vPMC_R_gwfa_IPS_L_gwfa: Found target A @ d=1.\n",
      "  Tract vPMC_R_gwfa_IPS_L_gwfa: Polyline had 34 constraint violation(s).\n"
     ]
    },
    {
     "data": {
      "application/vnd.jupyter.widget-view+json": {
       "model_id": "50335d878f764172bf2f00590e869886",
       "version_major": 2,
       "version_minor": 0
      },
      "text/plain": [
       "HBox(children=(IntProgress(value=0, description='Gaussians', max=63), HTML(value='')))"
      ]
     },
     "metadata": {},
     "output_type": "display_data"
    },
    {
     "name": "stdout",
     "output_type": "stream",
     "text": [
      "  Computed distances, polylines, and Gaussians for vPMC_R_gwfa/IPS_L_gwfa\n",
      "  Tract vPMC_R_gwfa_IPS_R_gwfa: max_dist=61\n"
     ]
    },
    {
     "data": {
      "application/vnd.jupyter.widget-view+json": {
       "model_id": "a42102a9d7704796bf6bc275ba860ff2",
       "version_major": 2,
       "version_minor": 0
      },
      "text/plain": [
       "HBox(children=(IntProgress(value=0, description='Distances', max=30), HTML(value='')))"
      ]
     },
     "metadata": {},
     "output_type": "display_data"
    },
    {
     "name": "stdout",
     "output_type": "stream",
     "text": [
      "  Tract vPMC_R_gwfa_IPS_R_gwfa: Found target B @ d=55.\n",
      "  Tract vPMC_R_gwfa_IPS_R_gwfa: Found target A @ d=1.\n"
     ]
    },
    {
     "data": {
      "application/vnd.jupyter.widget-view+json": {
       "model_id": "44a8e2e40085477481be341230531cc2",
       "version_major": 2,
       "version_minor": 0
      },
      "text/plain": [
       "HBox(children=(IntProgress(value=0, description='Gaussians', max=54), HTML(value='')))"
      ]
     },
     "metadata": {},
     "output_type": "display_data"
    },
    {
     "name": "stdout",
     "output_type": "stream",
     "text": [
      "  Computed distances, polylines, and Gaussians for vPMC_R_gwfa/IPS_R_gwfa\n",
      "  **Warning: No distances file found for ROI pair vPMC_R_gwfa/SPL_L_gwfa! Skipping...\n",
      "  Tract vPMC_R_gwfa_SPL_R_gwfa: max_dist=74\n"
     ]
    },
    {
     "data": {
      "application/vnd.jupyter.widget-view+json": {
       "model_id": "2e7740d48ac64513b9a7c0ff00945c49",
       "version_major": 2,
       "version_minor": 0
      },
      "text/plain": [
       "HBox(children=(IntProgress(value=0, description='Distances', max=37), HTML(value='')))"
      ]
     },
     "metadata": {},
     "output_type": "display_data"
    },
    {
     "name": "stdout",
     "output_type": "stream",
     "text": [
      "  Tract vPMC_R_gwfa_SPL_R_gwfa: Found target B @ d=68.\n",
      "  Tract vPMC_R_gwfa_SPL_R_gwfa: Found target A @ d=1.\n"
     ]
    },
    {
     "data": {
      "application/vnd.jupyter.widget-view+json": {
       "model_id": "4f401ae04ae948bcb45888abe7c48c22",
       "version_major": 2,
       "version_minor": 0
      },
      "text/plain": [
       "HBox(children=(IntProgress(value=0, description='Gaussians', max=67), HTML(value='')))"
      ]
     },
     "metadata": {},
     "output_type": "display_data"
    },
    {
     "name": "stdout",
     "output_type": "stream",
     "text": [
      "  Computed distances, polylines, and Gaussians for vPMC_R_gwfa/SPL_R_gwfa\n",
      "  Tract vPMC_R_gwfa_dPMC_L_gwfa: max_dist=72\n"
     ]
    },
    {
     "data": {
      "application/vnd.jupyter.widget-view+json": {
       "model_id": "8a26b6908fd64eadb32ebf9e61e8de02",
       "version_major": 2,
       "version_minor": 0
      },
      "text/plain": [
       "HBox(children=(IntProgress(value=0, description='Distances', max=36), HTML(value='')))"
      ]
     },
     "metadata": {},
     "output_type": "display_data"
    },
    {
     "name": "stdout",
     "output_type": "stream",
     "text": [
      "  Tract vPMC_R_gwfa_dPMC_L_gwfa: Found target B @ d=66.\n",
      "  Tract vPMC_R_gwfa_dPMC_L_gwfa: Found target A @ d=1.\n"
     ]
    },
    {
     "data": {
      "application/vnd.jupyter.widget-view+json": {
       "model_id": "cbf52a431a9e459bb95ab882098a6642",
       "version_major": 2,
       "version_minor": 0
      },
      "text/plain": [
       "HBox(children=(IntProgress(value=0, description='Gaussians', max=65), HTML(value='')))"
      ]
     },
     "metadata": {},
     "output_type": "display_data"
    },
    {
     "name": "stdout",
     "output_type": "stream",
     "text": [
      "  Computed distances, polylines, and Gaussians for vPMC_R_gwfa/dPMC_L_gwfa\n",
      "  Tract vPMC_R_gwfa_dPMC_R_gwfa: max_dist=23\n"
     ]
    },
    {
     "data": {
      "application/vnd.jupyter.widget-view+json": {
       "model_id": "ad385b05a8d24a44933e947809fda758",
       "version_major": 2,
       "version_minor": 0
      },
      "text/plain": [
       "HBox(children=(IntProgress(value=0, description='Distances', max=12), HTML(value='')))"
      ]
     },
     "metadata": {},
     "output_type": "display_data"
    },
    {
     "name": "stdout",
     "output_type": "stream",
     "text": [
      "  Tract vPMC_R_gwfa_dPMC_R_gwfa: Found target B @ d=17.\n",
      "  Tract vPMC_R_gwfa_dPMC_R_gwfa: Found target A @ d=1.\n"
     ]
    },
    {
     "data": {
      "application/vnd.jupyter.widget-view+json": {
       "model_id": "c6dbc7e6007c41eb8851d20782a31889",
       "version_major": 2,
       "version_minor": 0
      },
      "text/plain": [
       "HBox(children=(IntProgress(value=0, description='Gaussians', max=16), HTML(value='')))"
      ]
     },
     "metadata": {},
     "output_type": "display_data"
    },
    {
     "name": "stdout",
     "output_type": "stream",
     "text": [
      "Len @ 1 is zero! p_1=[ 49 126  98] | p_2=[ 49 126  98]\n",
      "  Computed distances, polylines, and Gaussians for vPMC_R_gwfa/dPMC_R_gwfa\n",
      "  Tract vPMC_R_gwfa_vPMC_L_gwfa: max_dist=83\n"
     ]
    },
    {
     "data": {
      "application/vnd.jupyter.widget-view+json": {
       "model_id": "8cd379aa76494fa1aa3157a2ba88fa46",
       "version_major": 2,
       "version_minor": 0
      },
      "text/plain": [
       "HBox(children=(IntProgress(value=0, description='Distances', max=42), HTML(value='')))"
      ]
     },
     "metadata": {},
     "output_type": "display_data"
    },
    {
     "name": "stdout",
     "output_type": "stream",
     "text": [
      "  Tract vPMC_R_gwfa_vPMC_L_gwfa: Found target B @ d=77.\n",
      "  Tract vPMC_R_gwfa_vPMC_L_gwfa: Found target A @ d=1.\n"
     ]
    },
    {
     "data": {
      "application/vnd.jupyter.widget-view+json": {
       "model_id": "5fefb0fc1cf1403585e1202412c6bdb9",
       "version_major": 2,
       "version_minor": 0
      },
      "text/plain": [
       "HBox(children=(IntProgress(value=0, description='Gaussians', max=76), HTML(value='')))"
      ]
     },
     "metadata": {},
     "output_type": "display_data"
    },
    {
     "name": "stdout",
     "output_type": "stream",
     "text": [
      "  Computed distances, polylines, and Gaussians for vPMC_R_gwfa/vPMC_L_gwfa\n",
      "\n",
      "  Computing bidirectional averages...\n",
      "  Wrote average bidirectional tract for IPL_L_gwfa/IPL_R_gwfa\n"
     ]
    },
    {
     "ename": "NameError",
     "evalue": "name 'retain_adjacent_blobs' is not defined",
     "output_type": "error",
     "traceback": [
      "\u001b[0;31m---------------------------------------------------------------------------\u001b[0m",
      "\u001b[0;31mNameError\u001b[0m                                 Traceback (most recent call last)",
      "\u001b[0;32m<ipython-input-3-6f6fab2fb283>\u001b[0m in \u001b[0;36m<module>\u001b[0;34m()\u001b[0m\n\u001b[1;32m    368\u001b[0m             \u001b[0mV_blobs\u001b[0m \u001b[0;34m=\u001b[0m \u001b[0mutils\u001b[0m\u001b[0;34m.\u001b[0m\u001b[0mlabel_blobs\u001b[0m\u001b[0;34m(\u001b[0m\u001b[0mV\u001b[0m\u001b[0;34m,\u001b[0m \u001b[0mthreshold\u001b[0m\u001b[0;34m)\u001b[0m\u001b[0;34m\u001b[0m\u001b[0m\n\u001b[1;32m    369\u001b[0m             \u001b[0;32mif\u001b[0m \u001b[0mlen\u001b[0m\u001b[0;34m(\u001b[0m\u001b[0mnp\u001b[0m\u001b[0;34m.\u001b[0m\u001b[0munique\u001b[0m\u001b[0;34m(\u001b[0m\u001b[0mV_blobs\u001b[0m\u001b[0;34m)\u001b[0m\u001b[0;34m)\u001b[0m \u001b[0;34m>\u001b[0m \u001b[0;36m2\u001b[0m\u001b[0;34m:\u001b[0m\u001b[0;34m\u001b[0m\u001b[0m\n\u001b[0;32m--> 370\u001b[0;31m                 \u001b[0mV_blobs\u001b[0m \u001b[0;34m=\u001b[0m \u001b[0mretain_adjacent_blobs\u001b[0m\u001b[0;34m(\u001b[0m\u001b[0mV_blobs\u001b[0m\u001b[0;34m,\u001b[0m \u001b[0;34m[\u001b[0m\u001b[0mV_rois\u001b[0m\u001b[0;34m[\u001b[0m\u001b[0mroi_a\u001b[0m\u001b[0;34m]\u001b[0m\u001b[0;34m,\u001b[0m \u001b[0mV_rois\u001b[0m\u001b[0;34m[\u001b[0m\u001b[0mroi_b\u001b[0m\u001b[0;34m]\u001b[0m\u001b[0;34m]\u001b[0m\u001b[0;34m)\u001b[0m\u001b[0;34m\u001b[0m\u001b[0m\n\u001b[0m\u001b[1;32m    371\u001b[0m                 \u001b[0;32mif\u001b[0m \u001b[0mlen\u001b[0m\u001b[0;34m(\u001b[0m\u001b[0mnp\u001b[0m\u001b[0;34m.\u001b[0m\u001b[0munique\u001b[0m\u001b[0;34m(\u001b[0m\u001b[0mV_blobs\u001b[0m\u001b[0;34m)\u001b[0m\u001b[0;34m)\u001b[0m \u001b[0;34m>\u001b[0m \u001b[0;36m2\u001b[0m\u001b[0;34m:\u001b[0m\u001b[0;34m\u001b[0m\u001b[0m\n\u001b[1;32m    372\u001b[0m                     \u001b[0mprint\u001b[0m\u001b[0;34m(\u001b[0m\u001b[0;34m'  * Tract has multiple tract segments (unfixed): {0}|{1}'\u001b[0m\u001b[0;34m.\u001b[0m\u001b[0mformat\u001b[0m\u001b[0;34m(\u001b[0m\u001b[0mroi_a\u001b[0m\u001b[0;34m,\u001b[0m \u001b[0mroi_b\u001b[0m\u001b[0;34m)\u001b[0m\u001b[0;34m)\u001b[0m\u001b[0;34m\u001b[0m\u001b[0m\n",
      "\u001b[0;31mNameError\u001b[0m: name 'retain_adjacent_blobs' is not defined"
     ]
    }
   ],
   "source": [
    "# Get center polylines and generate Gaussians\n",
    "#\n",
    "# The goal is to estimate the \"core\" trajectory of each tract between\n",
    "# ROI pairs, if this is estimable. \n",
    "#\n",
    "# This routine will also generate bidirectional tract estimates, \n",
    "# determined by the average value for each individual estimate\n",
    "\n",
    "\n",
    "# Determine polylines representing center of average tract, if they\n",
    "# exist. Apply a Gaussian weighting centered on these polylines.\n",
    "# Multiply this with the original average tract.\n",
    "\n",
    "# Debug:\n",
    "\n",
    "import time\n",
    "\n",
    "print('\\n== Generating polylines and Gaussians ==\\n')\n",
    "\n",
    "params_gauss = params['gaussians']\n",
    "sigma_axial = params_gauss['fwhm_axial'] / (2.0*math.sqrt(2.0*math.log(2.0)))\n",
    "sigma_radial = params_gauss['fwhm_radial'] / (2.0*math.sqrt(2.0*math.log(2.0)))\n",
    "threshold = params_gauss['threshold']\n",
    "max_seg_length = params_gauss['max_seg_length']\n",
    "gauss_max_radius = params_gauss['gauss_max_radius']\n",
    "tract_thresh = params_gauss['tract_thresh']\n",
    "\n",
    "if params_gen['clobber']:\n",
    "    if os.path.isdir(gauss_dir):\n",
    "        shutil.rmtree(gauss_dir)\n",
    "    os.makedirs(gauss_dir)\n",
    "    if os.path.isdir(gauss_fail_dir):\n",
    "        shutil.rmtree(gauss_fail_dir)\n",
    "    os.makedirs(gauss_fail_dir)\n",
    "    if os.path.isdir(final_dir):\n",
    "        shutil.rmtree(final_dir)\n",
    "    os.makedirs(final_dir)\n",
    "    if os.path.isdir(final_fail_dir):\n",
    "        shutil.rmtree(final_fail_dir)\n",
    "    os.makedirs(final_fail_dir)\n",
    "\n",
    "# Load ROI volumes\n",
    "\n",
    "# Read ROI list\n",
    "rois = []\n",
    "with open(params_gen['rois_list'],'r') as roi_file:\n",
    "    reader = csv.reader(roi_file)\n",
    "    for row in reader:\n",
    "        rois.append(row[0])\n",
    "\n",
    "V_rois = {}\n",
    "for roi in rois:\n",
    "    roi_file = '{0}/{1}.{2}'.format(rois_dir, roi, roi_suffix)\n",
    "    img = nib.load(roi_file)\n",
    "    V_rois[roi] = img.get_data()\n",
    "    \n",
    "tract_failed = {}\n",
    "\n",
    "ts = time.gmtime()\n",
    "timestamp = time.strftime(\"%Y-%m-%d %H:%M:%S\", ts)\n",
    "\n",
    "fail_log = '{0}/failed'.format(log_dir)\n",
    "with open(fail_log, 'a') as logfile:\n",
    "    logfile.write('\\n\\n--New run: {0}\\n'.format(timestamp))\n",
    "        \n",
    "success_log = '{0}/success'.format(log_dir)\n",
    "with open(success_log, 'a') as logfile:\n",
    "    logfile.write('\\n\\n--New run: {0}\\n'.format(timestamp))\n",
    "    \n",
    "violations_log = '{0}/violations'.format(log_dir)\n",
    "with open(violations_log, 'a') as logfile:\n",
    "    logfile.write('\\n\\n--New run: {0}\\n'.format(timestamp))\n",
    "\n",
    "N_roi = len(rois)\n",
    "\n",
    "tract_list = []\n",
    "rois_a = []\n",
    "rois_b = []\n",
    "\n",
    "for roi_a in rois:\n",
    "    for roi_b in [x for x in rois if x != roi_a]:\n",
    "        tract_name = '{0}_{1}'.format(roi_a,roi_b)\n",
    "        tract_list.append(tract_name)\n",
    "        rois_a.append(roi_a)\n",
    "        rois_b.append(roi_b)\n",
    "\n",
    "c = 0\n",
    "\n",
    "for tract_name in tqdm_notebook(tract_list, desc='Progress'):\n",
    "    \n",
    "    roi_a = rois_a[c]\n",
    "    roi_b = rois_b[c]\n",
    "    c += 1\n",
    "\n",
    "    # Target mask is both ROIs\n",
    "    V_target_a = V_rois[roi_a]\n",
    "    V_target_b = V_rois[roi_b]\n",
    "    tract_failed[tract_name] = False\n",
    "\n",
    "    dist_file = '{0}/tract_dist_{1}_{2}.nii.gz'.format(dist_dir, roi_a, roi_b)\n",
    "\n",
    "    \n",
    "    tract_file = '{0}/avr_min_tract_counts_{1}_{2}.nii.gz'.format(avr_dir, roi_a, roi_b)\n",
    "    if not os.path.isfile(tract_file):\n",
    "        tract_file = '{0}/avr_min_tract_counts_{1}_{2}.nii.gz'.format(avr_dir, roi_b, roi_a)\n",
    "\n",
    "    if not os.path.isfile(dist_file):\n",
    "        if params_gen['verbose']:\n",
    "            print('  **Warning: No distances file found for ROI pair {0}/{1}! Skipping...'.format(roi_a, roi_b))\n",
    "        tract_failed[tract_name] = True\n",
    "        # Log failure\n",
    "        with open(fail_log,'a') as logfile:\n",
    "            logfile.write('{0}|{1},File not found\\n'.format(roi_a,roi_b))\n",
    "    else:\n",
    "\n",
    "        if (not params_gen['clobber'] and\n",
    "            os.path.isfile('{0}/tract_final_{1}.nii.gz'.format(final_dir, tract_name))):\n",
    "            if params_gen['verbose']:\n",
    "                print('  Output for {0} already exists. Skipping this tract.'.format(tract_name))\n",
    "\n",
    "        else:\n",
    "\n",
    "            # Dilate A and B to use as stop masks\n",
    "            V_target_a = utils.dilate_mask(np.greater(V_target_a,0))\n",
    "            V_target_b = utils.dilate_mask(np.greater(V_target_b,0))\n",
    "\n",
    "            if params_gen['debug']:\n",
    "                # Write to debug file\n",
    "                img = nib.Nifti1Image(V_target_a, V_img.affine, V_img.header)\n",
    "                nib.save(img, '{0}/dilated_target_a_{1}.nii.gz'.format(debug_dir, tract_name))\n",
    "                img = nib.Nifti1Image(V_target_b, V_img.affine, V_img.header)\n",
    "                nib.save(img, '{0}/dilated_target_b_{1}.nii.gz'.format(debug_dir, tract_name))\n",
    "\n",
    "            V_tract = nib.load(tract_file).get_data()\n",
    "            V_orig = V_tract.copy()\n",
    "            # Threshold\n",
    "            V_tract[np.less(V_tract, threshold)] = 0\n",
    "\n",
    "            V_dist = np.round(nib.load(dist_file).get_data())\n",
    "\n",
    "            if V_dist is None:\n",
    "                tract_failed[tract_name] = True\n",
    "                if params_gen['verbose']:\n",
    "                    print('  **Warning: Skipping {0}; tract not found.'.format(tract_name))\n",
    "                # Log failure\n",
    "                with open(fail_log,'a') as logfile:\n",
    "                    logfile.write('{0},Tract not found\\n'.format(tract_name))\n",
    "            else:\n",
    "                dist_max = int(V_dist.max())\n",
    "                if params_gen['debug']:\n",
    "                    print('  Tract {0}: max_dist={1}'.format(tract_name, dist_max))\n",
    "\n",
    "                # Compute polylines\n",
    "                maxes = np.array([])\n",
    "                constraints_failed = 0\n",
    "                found_target_a = False\n",
    "                found_target_b = False\n",
    "                \n",
    "                # Start in the middle to avoid endpoint madness\n",
    "                d_start = round(dist_max/2)\n",
    "                \n",
    "                maxes = np.zeros((dist_max,3), dtype=int)\n",
    "\n",
    "                for k in tqdm_notebook(range(0, d_start), desc='Distances'.format(c)):\n",
    "\n",
    "                    for oe in [0,1]:\n",
    "                    \n",
    "                        if oe == 0:\n",
    "                            if found_target_a:\n",
    "                                d = -1\n",
    "                            else:\n",
    "                                d = d_start - k\n",
    "                        else:\n",
    "                            if found_target_b:\n",
    "                                d = -1\n",
    "                            else:\n",
    "                                d = d_start + k - 1\n",
    "                            \n",
    "                        if d >= 0 and d <= dist_max:\n",
    "                            \n",
    "                            T_idx = np.equal(V_dist,d)\n",
    "                            T = V_tract[T_idx]\n",
    "                            T_idx = np.flatnonzero(T_idx)\n",
    "                            sidx = T.argsort()[::-1]\n",
    "                            idx_max = np.unravel_index(T_idx[sidx[0]], V_tract.shape)\n",
    "                            \n",
    "                            if k == 0:\n",
    "                                maxes[d, :] = idx_max\n",
    "                            else:\n",
    "                                if oe == 0:\n",
    "                                    idx_prev = maxes[d+1,:]\n",
    "                                else:\n",
    "                                    idx_prev = maxes[d-1,:]\n",
    "\n",
    "                                # Find maximal value which satisfies length constraint\n",
    "                                l = 0\n",
    "                                is_valid = False\n",
    "                                while not is_valid and l < len(T):\n",
    "                                    idx_l = np.unravel_index(T_idx[sidx[l]], V_tract.shape)\n",
    "                                    seg_length = math.sqrt((idx_l[0]-idx_prev[0])**2 + \\\n",
    "                                                           (idx_l[1]-idx_prev[1])**2 + \\\n",
    "                                                           (idx_l[2]-idx_prev[2])**2)\n",
    "                                    if seg_length < max_seg_length:\n",
    "                                        maxes[d,:] = idx_l\n",
    "                                        is_valid = True\n",
    "                                    l+=1\n",
    "                                if not is_valid:\n",
    "                                    # Failed to meet constraint; add anyway but note failure\n",
    "                                    constraints_failed += 1\n",
    "                                    if params_gen['debug']:\n",
    "                                        print('   * Debug: Constraint fail: len ({0}) > max_len({1})'. \\\n",
    "                                              format(seg_length, max_seg_length))\n",
    "                                    \n",
    "                            # Is this voxel adjacent to target? Then ignore any further distances\n",
    "                            if not found_target_a and np.any(np.logical_and(np.equal(V_dist,d),np.greater(V_target_a,0))):\n",
    "                                if params_gen['verbose']:\n",
    "                                    print('  Tract {0}: Found target A @ d={1}.'.format(tract_name, d))\n",
    "                                found_target_a = True\n",
    "                        \n",
    "                            if not found_target_b and np.any(np.logical_and(np.equal(V_dist,d),np.greater(V_target_b,0))):\n",
    "                                if params_gen['verbose']:\n",
    "                                    print('  Tract {0}: Found target B @ d={1}.'.format(tract_name, d))\n",
    "                                found_target_b = True\n",
    "                        \n",
    "                            if found_target_a and found_target_b:\n",
    "                                break\n",
    "                        \n",
    "                        # If target was found, we're done\n",
    "                        if found_target_a and found_target_b:\n",
    "                            break\n",
    "\n",
    "                found_target = found_target_a and found_target_b\n",
    "                            \n",
    "                # Only keep non-zero rows\n",
    "                maxes = maxes[~np.all(maxes == 0, axis=1)]\n",
    "                            \n",
    "                my_target_gauss = gauss_fail_dir\n",
    "                my_target_final = final_fail_dir\n",
    "\n",
    "                if constraints_failed > 0:\n",
    "                    if params_gen['verbose']:\n",
    "                        print('  Tract {0}: Polyline had {1} constraint violation(s).' \\\n",
    "                                  .format(tract_name, constraints_failed))\n",
    "                    with open(violations_log, 'a') as logfile:\n",
    "                        logfile.write('{0},{1}'.format(tract_name, constraints_failed))\n",
    "\n",
    "                    if params_gauss['fail_constraints']:\n",
    "                        tract_failed[tract_name] = True\n",
    "                    else:\n",
    "                        my_target_gauss = gauss_dir\n",
    "                        my_target_final = final_dir\n",
    "\n",
    "                elif not found_target:\n",
    "                    if params_gen['verbose']:\n",
    "                        print('  Tract {0}: Did not find target ROI.'.format(tract_name))\n",
    "                    tract_failed[tract_name] = True\n",
    "\n",
    "                    with open(fail_log, 'a') as logfile:\n",
    "                        logfile.write('{0},{1}'.format(tract_name, dist_max))\n",
    "                else:\n",
    "                    my_target_gauss = gauss_dir\n",
    "                    my_target_final = final_dir\n",
    "                    with open(success_log, 'a') as logfile:\n",
    "                        logfile.write('{0},{1}'.format(tract_name, dist_max))\n",
    "\n",
    "                if maxes.size == 0:\n",
    "                    print('Maxes not found for tract {0}!? Failing this tract.'.format(tract_name))\n",
    "                    tract_failed[tract_name] = True\n",
    "                    with open(fail_log, 'a') as logfile:\n",
    "                        logfile.write('{0},{1}'.format(tract_name, dist_max))\n",
    "                    break\n",
    "                        \n",
    "                # Smooth the polyline defined by maxes at each distance\n",
    "                maxes_vox = np.round(utils.smooth_polyline_ma(maxes, 3))\n",
    "\n",
    "                # Transform from voxel to world coordinates and smooth\n",
    "                maxes = utils.smooth_polyline_ma(utils.voxel_to_world(maxes, V_img.header))\n",
    "\n",
    "                # Write polyline to Mgui format\n",
    "                utils.write_polyline_mgui(maxes, '{0}/maxes_{1}_sm3.poly3d'.format(polyline_dir, tract_name), tract_name)\n",
    "\n",
    "                # For each voxel, derive Gaussian for neighbours within gauss_max_radius\n",
    "                V_gauss = np.zeros(V_tract.shape)\n",
    "                max_radius = round(gauss_max_radius)\n",
    "                nv = maxes_vox.shape[0]\n",
    "\n",
    "                for v in tqdm_notebook(range(1, nv),desc='Gaussians'):\n",
    "                    p = maxes_vox[v,:]\n",
    "                    p0 = maxes_vox[v-1,:]\n",
    "                    v_axis = p - p0\n",
    "                    \n",
    "                    v_len = np.linalg.norm(v_axis)\n",
    "                    if v_len == 0:\n",
    "                        if params_gen['debug']:\n",
    "                            print('Len @ {0} is zero! p_1={1} | p_2={2}'.format(v,p,p0))\n",
    "                    else:\n",
    "                        v_axis = np.divide(v_axis, np.linalg.norm(v_axis)) # Unit vector\n",
    "\n",
    "                        for i in range(max(0, p[0]-max_radius), min(V_gauss.shape[0]-1, p[0]+max_radius)):\n",
    "                            for j in range(max(0, p[1]-max_radius), min(V_gauss.shape[1]-1, p[1]+max_radius)):\n",
    "                                for k in range(max(0, p[2]-max_radius), min(V_gauss.shape[2]-1, p[2]+max_radius)):\n",
    "                                    vox_ijk = [i,j,k]\n",
    "                                    v_d = np.subtract(vox_ijk, p)\n",
    "                                    v_ax = abs(np.dot(v_d, v_axis))                     # Magnitude of axial component\n",
    "                                    v_rad = math.sqrt(v_ax**2 + np.linalg.norm(v_d)**2) # Magnitude of axial component\n",
    "\n",
    "                                    # Compute Gaussian, set voxel value to maximal Gaussian encountered\n",
    "                                    gauss = stats.norm.pdf(v_ax, 0, sigma_axial) * stats.norm.pdf(v_rad, 0, sigma_radial)\n",
    "                                    V_gauss[i,j,k] = max(gauss, V_gauss[i,j,k])\n",
    "\n",
    "                # Apply a bit of smoothing\n",
    "                V_gauss = utils.smooth_volume(V_gauss, V_img, 5)\n",
    "\n",
    "                # Multiply with original (unthresholded) tract\n",
    "                V_tract = np.multiply(V_orig, V_gauss)\n",
    "                V_tract = np.multiply(V_tract, np.greater(V_tract, tract_thresh))\n",
    "                V_tract = np.divide(V_tract, V_tract.max())\n",
    "                V_dist = np.round(np.multiply(V_dist, np.greater(V_tract, 0)))\n",
    "                dist_max = int(np.max(V_dist))\n",
    "\n",
    "                # Write results to NIFTI image files\n",
    "                img = nib.Nifti1Image(V_gauss, V_img.affine, V_img.header)\n",
    "                nib.save(img, '{0}/gauss_max_{1}.nii.gz'.format(my_target_gauss, tract_name))\n",
    "\n",
    "                img = nib.Nifti1Image(V_tract, V_img.affine, V_img.header)\n",
    "                nib.save(img, '{0}/tract_final_{1}.nii.gz'.format(my_target_final, tract_name))\n",
    "\n",
    "                # Normalize tract at each distance\n",
    "                for d in range(1, dist_max):\n",
    "                    idx = np.nonzero(np.equal(V_dist,d))\n",
    "                    if np.any(idx):\n",
    "                        V = V_tract[idx]\n",
    "                        V = np.divide(V, V.max())\n",
    "                        V_tract[idx] = V\n",
    "\n",
    "                img = nib.Nifti1Image(V_tract, V_img.affine, V_img.header)\n",
    "                nib.save(img, '{0}/tract_final_norm_{1}.nii.gz'.format(my_target_final, tract_name))\n",
    "\n",
    "                if params_gen['verbose']:\n",
    "                    print('  Computed distances, polylines, and Gaussians for {0}/{1}'.format(roi_a, roi_b))\n",
    "    \n",
    "# Finally, average tracts across both directions\n",
    "print('\\n  Computing bidirectional averages...')\n",
    "\n",
    "for a in range(0, len(rois)-1):\n",
    "    roi_a = rois[a]\n",
    "    for b in range(a+1, len(rois)):\n",
    "        roi_b = rois[b]\n",
    "        ab = '{0}_{1}'.format(roi_a,roi_b)\n",
    "        ba = '{0}_{1}'.format(roi_b,roi_a)\n",
    "        \n",
    "        if not (tract_failed[ab] and tract_failed[ba]):\n",
    "            \n",
    "            # Unnormalized version\n",
    "            if tract_failed[ab]:\n",
    "                V = nib.load('{0}/tract_final_{1}.nii.gz'.format(final_dir, ba)).get_data()\n",
    "            elif tract_failed[ba]:\n",
    "                V = nib.load('{0}/tract_final_{1}.nii.gz'.format(final_dir, ab)).get_data()\n",
    "            else:\n",
    "                V_ab = nib.load('{0}/tract_final_{1}.nii.gz'.format(final_dir, ab)).get_data()\n",
    "                V_ba = nib.load('{0}/tract_final_{1}.nii.gz'.format(final_dir, ba)).get_data()\n",
    "                V = np.mean( np.array([ V_ab, V_ba ]), axis=0 )\n",
    "            \n",
    "            V_blobs = utils.label_blobs(V, threshold)\n",
    "            if len(np.unique(V_blobs)) > 2:\n",
    "                V_blobs = utils.retain_adjacent_blobs(V_blobs, [V_rois[roi_a], V_rois[roi_b]])\n",
    "                if len(np.unique(V_blobs)) > 2:\n",
    "                    print('  * Tract has multiple tract segments (unfixed): {0}|{1}'.format(roi_a, roi_b))\n",
    "                else:\n",
    "                    print('  * Tract had multiple tract segments (1 retained): {0}|{1}'.format(roi_a, roi_b))\n",
    "                V = np.multiply(V, V_blobs>0)\n",
    "            \n",
    "            img = nib.Nifti1Image(V, V_img.affine, V_img.header)\n",
    "            nib.save(img, '{0}/tract_final_bidir_{1}.nii.gz'.format(final_dir, ab))\n",
    "\n",
    "            # Normalized version\n",
    "            if tract_failed[ab]:\n",
    "                V = nib.load('{0}/tract_final_norm_{1}.nii.gz'.format(final_dir, ba)).get_data()\n",
    "            elif tract_failed[ba]:\n",
    "                V = nib.load('{0}/tract_final_norm_{1}.nii.gz'.format(final_dir, ab)).get_data()\n",
    "            else:\n",
    "                V_ab = nib.load('{0}/tract_final_norm_{1}.nii.gz'.format(final_dir, ab)).get_data()\n",
    "                V_ba = nib.load('{0}/tract_final_norm_{1}.nii.gz'.format(final_dir, ba)).get_data()\n",
    "                V = np.mean( np.array([ V_ab, V_ba ]), axis=0 )\n",
    "            \n",
    "            V = np.multiply(V, V_blobs>0)\n",
    "            \n",
    "            # Check for blobs that don't connect ROIs; remove these if found\n",
    "            img = nib.Nifti1Image(V, V_img.affine, V_img.header)\n",
    "            nib.save(img, '{0}/tract_final_norm_bidir_{1}.nii.gz'.format(final_dir, ab))\n",
    "            \n",
    "            if params_gen['verbose']:\n",
    "                print('  Wrote average bidirectional tract for {0}/{1}'.format(roi_a, roi_b))\n",
    "    \n",
    "print('\\n== Done generating polylines and Gaussians ==\\n')\n"
   ]
  },
  {
   "cell_type": "code",
   "execution_count": 18,
   "metadata": {},
   "outputs": [
    {
     "name": "stdout",
     "output_type": "stream",
     "text": [
      "0\n",
      "1\n",
      "Tract IPL_L_gwfa_IPL_R_gwfa is mean IPL_L_gwfa_IPL_R_gwfa and IPL_R_gwfa_IPL_L_gwfa\n",
      "2437.111\n",
      "  Wrote average bidirectional tract for IPL_L_gwfa/IPL_R_gwfa to /Volumes/AndrewElements/data/nki/tract_stats/what-where/final/tract_final_norm_bidir_IPL_L_gwfa_IPL_R_gwfa.nii.gz\n",
      "2\n",
      "Tract IPL_L_gwfa_IPS_L_gwfa is mean IPL_L_gwfa_IPS_L_gwfa and IPS_L_gwfa_IPL_L_gwfa\n",
      "257.87747\n",
      "  Wrote average bidirectional tract for IPL_L_gwfa/IPS_L_gwfa to /Volumes/AndrewElements/data/nki/tract_stats/what-where/final/tract_final_norm_bidir_IPL_L_gwfa_IPS_L_gwfa.nii.gz\n",
      "3\n",
      "Tract IPL_L_gwfa_IPS_R_gwfa is mean IPL_L_gwfa_IPS_R_gwfa and IPS_R_gwfa_IPL_L_gwfa\n",
      "2701.3726\n",
      "  Wrote average bidirectional tract for IPL_L_gwfa/IPS_R_gwfa to /Volumes/AndrewElements/data/nki/tract_stats/what-where/final/tract_final_norm_bidir_IPL_L_gwfa_IPS_R_gwfa.nii.gz\n",
      "4\n",
      "Tract IPL_L_gwfa_SPL_L_gwfa is mean IPL_L_gwfa_SPL_L_gwfa and SPL_L_gwfa_IPL_L_gwfa\n",
      "788.144\n",
      "  Wrote average bidirectional tract for IPL_L_gwfa/SPL_L_gwfa to /Volumes/AndrewElements/data/nki/tract_stats/what-where/final/tract_final_norm_bidir_IPL_L_gwfa_SPL_L_gwfa.nii.gz\n",
      "5\n",
      "Tract IPL_L_gwfa_SPL_R_gwfa is mean IPL_L_gwfa_SPL_R_gwfa and SPL_R_gwfa_IPL_L_gwfa\n",
      "1814.9019\n",
      "  Wrote average bidirectional tract for IPL_L_gwfa/SPL_R_gwfa to /Volumes/AndrewElements/data/nki/tract_stats/what-where/final/tract_final_norm_bidir_IPL_L_gwfa_SPL_R_gwfa.nii.gz\n",
      "6\n",
      "Tract IPL_L_gwfa_dPMC_L_gwfa is mean IPL_L_gwfa_dPMC_L_gwfa and dPMC_L_gwfa_IPL_L_gwfa\n",
      "1541.8376\n",
      "  Wrote average bidirectional tract for IPL_L_gwfa/dPMC_L_gwfa to /Volumes/AndrewElements/data/nki/tract_stats/what-where/final/tract_final_norm_bidir_IPL_L_gwfa_dPMC_L_gwfa.nii.gz\n",
      "7\n",
      "8\n",
      "Tract IPL_L_gwfa_vPMC_L_gwfa is mean IPL_L_gwfa_vPMC_L_gwfa and vPMC_L_gwfa_IPL_L_gwfa\n",
      "1641.2211\n",
      "  Wrote average bidirectional tract for IPL_L_gwfa/vPMC_L_gwfa to /Volumes/AndrewElements/data/nki/tract_stats/what-where/final/tract_final_norm_bidir_IPL_L_gwfa_vPMC_L_gwfa.nii.gz\n",
      "9\n",
      "Tract IPL_L_gwfa_vPMC_R_gwfa is mean IPL_L_gwfa_vPMC_R_gwfa and vPMC_R_gwfa_IPL_L_gwfa\n",
      "1011.9647\n",
      "  Wrote average bidirectional tract for IPL_L_gwfa/vPMC_R_gwfa to /Volumes/AndrewElements/data/nki/tract_stats/what-where/final/tract_final_norm_bidir_IPL_L_gwfa_vPMC_R_gwfa.nii.gz\n",
      "1\n",
      "2\n",
      "Tract IPL_R_gwfa_IPS_L_gwfa is mean IPL_R_gwfa_IPS_L_gwfa and IPS_L_gwfa_IPL_R_gwfa\n",
      "2465.9214\n",
      "  Wrote average bidirectional tract for IPL_R_gwfa/IPS_L_gwfa to /Volumes/AndrewElements/data/nki/tract_stats/what-where/final/tract_final_norm_bidir_IPL_R_gwfa_IPS_L_gwfa.nii.gz\n",
      "3\n",
      "Tract IPL_R_gwfa_IPS_R_gwfa is mean IPL_R_gwfa_IPS_R_gwfa and IPS_R_gwfa_IPL_R_gwfa\n",
      "349.80765\n",
      "  Wrote average bidirectional tract for IPL_R_gwfa/IPS_R_gwfa to /Volumes/AndrewElements/data/nki/tract_stats/what-where/final/tract_final_norm_bidir_IPL_R_gwfa_IPS_R_gwfa.nii.gz\n",
      "4\n",
      "Tract IPL_R_gwfa_SPL_L_gwfa is mean IPL_R_gwfa_SPL_L_gwfa and SPL_L_gwfa_IPL_R_gwfa\n",
      "1679.6581\n",
      "  Wrote average bidirectional tract for IPL_R_gwfa/SPL_L_gwfa to /Volumes/AndrewElements/data/nki/tract_stats/what-where/final/tract_final_norm_bidir_IPL_R_gwfa_SPL_L_gwfa.nii.gz\n",
      "5\n",
      "Tract IPL_R_gwfa_SPL_R_gwfa is mean IPL_R_gwfa_SPL_R_gwfa and SPL_R_gwfa_IPL_R_gwfa\n",
      "849.9605\n",
      "  Wrote average bidirectional tract for IPL_R_gwfa/SPL_R_gwfa to /Volumes/AndrewElements/data/nki/tract_stats/what-where/final/tract_final_norm_bidir_IPL_R_gwfa_SPL_R_gwfa.nii.gz\n",
      "6\n",
      "7\n",
      "Tract IPL_R_gwfa_dPMC_R_gwfa is mean IPL_R_gwfa_dPMC_R_gwfa and dPMC_R_gwfa_IPL_R_gwfa\n",
      "1474.3905\n",
      "  Wrote average bidirectional tract for IPL_R_gwfa/dPMC_R_gwfa to /Volumes/AndrewElements/data/nki/tract_stats/what-where/final/tract_final_norm_bidir_IPL_R_gwfa_dPMC_R_gwfa.nii.gz\n",
      "8\n",
      "9\n",
      "Tract IPL_R_gwfa_vPMC_R_gwfa is mean IPL_R_gwfa_vPMC_R_gwfa and vPMC_R_gwfa_IPL_R_gwfa\n",
      "1380.7635\n",
      "  Wrote average bidirectional tract for IPL_R_gwfa/vPMC_R_gwfa to /Volumes/AndrewElements/data/nki/tract_stats/what-where/final/tract_final_norm_bidir_IPL_R_gwfa_vPMC_R_gwfa.nii.gz\n",
      "2\n",
      "3\n",
      "Tract IPS_L_gwfa_IPS_R_gwfa is mean IPS_L_gwfa_IPS_R_gwfa and IPS_R_gwfa_IPS_L_gwfa\n",
      "2523.3442\n",
      "  Wrote average bidirectional tract for IPS_L_gwfa/IPS_R_gwfa to /Volumes/AndrewElements/data/nki/tract_stats/what-where/final/tract_final_norm_bidir_IPS_L_gwfa_IPS_R_gwfa.nii.gz\n",
      "4\n",
      "Tract IPS_L_gwfa_SPL_L_gwfa is mean IPS_L_gwfa_SPL_L_gwfa and SPL_L_gwfa_IPS_L_gwfa\n",
      "441.37152\n",
      "  Wrote average bidirectional tract for IPS_L_gwfa/SPL_L_gwfa to /Volumes/AndrewElements/data/nki/tract_stats/what-where/final/tract_final_norm_bidir_IPS_L_gwfa_SPL_L_gwfa.nii.gz\n",
      "5\n",
      "Tract IPS_L_gwfa_SPL_R_gwfa is mean IPS_L_gwfa_SPL_R_gwfa and SPL_R_gwfa_IPS_L_gwfa\n",
      "1448.1307\n",
      "  Wrote average bidirectional tract for IPS_L_gwfa/SPL_R_gwfa to /Volumes/AndrewElements/data/nki/tract_stats/what-where/final/tract_final_norm_bidir_IPS_L_gwfa_SPL_R_gwfa.nii.gz\n",
      "6\n",
      "Tract IPS_L_gwfa_dPMC_L_gwfa is mean IPS_L_gwfa_dPMC_L_gwfa and dPMC_L_gwfa_IPS_L_gwfa\n",
      "1342.8967\n",
      "  Wrote average bidirectional tract for IPS_L_gwfa/dPMC_L_gwfa to /Volumes/AndrewElements/data/nki/tract_stats/what-where/final/tract_final_norm_bidir_IPS_L_gwfa_dPMC_L_gwfa.nii.gz\n",
      "7\n",
      "Tract IPS_L_gwfa_dPMC_R_gwfa is mean IPS_L_gwfa_dPMC_R_gwfa and dPMC_R_gwfa_IPS_L_gwfa\n",
      "1328.8965\n",
      "  Wrote average bidirectional tract for IPS_L_gwfa/dPMC_R_gwfa to /Volumes/AndrewElements/data/nki/tract_stats/what-where/final/tract_final_norm_bidir_IPS_L_gwfa_dPMC_R_gwfa.nii.gz\n",
      "8\n",
      "Tract IPS_L_gwfa_vPMC_L_gwfa is mean IPS_L_gwfa_vPMC_L_gwfa and vPMC_L_gwfa_IPS_L_gwfa\n",
      "1057.7885\n",
      "  Wrote average bidirectional tract for IPS_L_gwfa/vPMC_L_gwfa to /Volumes/AndrewElements/data/nki/tract_stats/what-where/final/tract_final_norm_bidir_IPS_L_gwfa_vPMC_L_gwfa.nii.gz\n",
      "9\n",
      "Tract IPS_L_gwfa_vPMC_R_gwfa is mean IPS_L_gwfa_vPMC_R_gwfa and vPMC_R_gwfa_IPS_L_gwfa\n",
      "1584.6508\n",
      "  Wrote average bidirectional tract for IPS_L_gwfa/vPMC_R_gwfa to /Volumes/AndrewElements/data/nki/tract_stats/what-where/final/tract_final_norm_bidir_IPS_L_gwfa_vPMC_R_gwfa.nii.gz\n",
      "3\n",
      "4\n",
      "Tract IPS_R_gwfa_SPL_L_gwfa is mean IPS_R_gwfa_SPL_L_gwfa and SPL_L_gwfa_IPS_R_gwfa\n",
      "1560.9017\n",
      "  Wrote average bidirectional tract for IPS_R_gwfa/SPL_L_gwfa to /Volumes/AndrewElements/data/nki/tract_stats/what-where/final/tract_final_norm_bidir_IPS_R_gwfa_SPL_L_gwfa.nii.gz\n",
      "5\n",
      "Tract IPS_R_gwfa_SPL_R_gwfa is mean IPS_R_gwfa_SPL_R_gwfa and SPL_R_gwfa_IPS_R_gwfa\n",
      "393.90912\n",
      "  Wrote average bidirectional tract for IPS_R_gwfa/SPL_R_gwfa to /Volumes/AndrewElements/data/nki/tract_stats/what-where/final/tract_final_norm_bidir_IPS_R_gwfa_SPL_R_gwfa.nii.gz\n",
      "6\n",
      "7\n",
      "Tract IPS_R_gwfa_dPMC_R_gwfa is mean IPS_R_gwfa_dPMC_R_gwfa and dPMC_R_gwfa_IPS_R_gwfa\n",
      "1684.4\n",
      "  Wrote average bidirectional tract for IPS_R_gwfa/dPMC_R_gwfa to /Volumes/AndrewElements/data/nki/tract_stats/what-where/final/tract_final_norm_bidir_IPS_R_gwfa_dPMC_R_gwfa.nii.gz\n",
      "8\n",
      "9\n",
      "Tract IPS_R_gwfa_vPMC_R_gwfa is mean IPS_R_gwfa_vPMC_R_gwfa and vPMC_R_gwfa_IPS_R_gwfa\n",
      "1392.3502\n",
      "  Wrote average bidirectional tract for IPS_R_gwfa/vPMC_R_gwfa to /Volumes/AndrewElements/data/nki/tract_stats/what-where/final/tract_final_norm_bidir_IPS_R_gwfa_vPMC_R_gwfa.nii.gz\n",
      "4\n",
      "5\n",
      "Tract SPL_L_gwfa_SPL_R_gwfa is mean SPL_L_gwfa_SPL_R_gwfa and SPL_R_gwfa_SPL_L_gwfa\n",
      "657.0401\n",
      "  Wrote average bidirectional tract for SPL_L_gwfa/SPL_R_gwfa to /Volumes/AndrewElements/data/nki/tract_stats/what-where/final/tract_final_norm_bidir_SPL_L_gwfa_SPL_R_gwfa.nii.gz\n",
      "6\n",
      "Tract SPL_L_gwfa_dPMC_L_gwfa is mean SPL_L_gwfa_dPMC_L_gwfa and dPMC_L_gwfa_SPL_L_gwfa\n",
      "1486.8724\n",
      "  Wrote average bidirectional tract for SPL_L_gwfa/dPMC_L_gwfa to /Volumes/AndrewElements/data/nki/tract_stats/what-where/final/tract_final_norm_bidir_SPL_L_gwfa_dPMC_L_gwfa.nii.gz\n",
      "7\n",
      "Tract SPL_L_gwfa_dPMC_R_gwfa is mean SPL_L_gwfa_dPMC_R_gwfa and dPMC_R_gwfa_SPL_L_gwfa\n",
      "1880.7439\n",
      "  Wrote average bidirectional tract for SPL_L_gwfa/dPMC_R_gwfa to /Volumes/AndrewElements/data/nki/tract_stats/what-where/final/tract_final_norm_bidir_SPL_L_gwfa_dPMC_R_gwfa.nii.gz\n",
      "8\n",
      "Tract SPL_L_gwfa_vPMC_L_gwfa is mean SPL_L_gwfa_vPMC_L_gwfa and vPMC_L_gwfa_SPL_L_gwfa\n",
      "1262.3584\n",
      "  Wrote average bidirectional tract for SPL_L_gwfa/vPMC_L_gwfa to /Volumes/AndrewElements/data/nki/tract_stats/what-where/final/tract_final_norm_bidir_SPL_L_gwfa_vPMC_L_gwfa.nii.gz\n",
      "9\n",
      "5\n",
      "6\n",
      "Tract SPL_R_gwfa_dPMC_L_gwfa is mean SPL_R_gwfa_dPMC_L_gwfa and dPMC_L_gwfa_SPL_R_gwfa\n",
      "2120.7644\n",
      "  Wrote average bidirectional tract for SPL_R_gwfa/dPMC_L_gwfa to /Volumes/AndrewElements/data/nki/tract_stats/what-where/final/tract_final_norm_bidir_SPL_R_gwfa_dPMC_L_gwfa.nii.gz\n",
      "7\n"
     ]
    },
    {
     "name": "stdout",
     "output_type": "stream",
     "text": [
      "Tract SPL_R_gwfa_dPMC_R_gwfa is mean SPL_R_gwfa_dPMC_R_gwfa and dPMC_R_gwfa_SPL_R_gwfa\n",
      "1349.9491\n",
      "  Wrote average bidirectional tract for SPL_R_gwfa/dPMC_R_gwfa to /Volumes/AndrewElements/data/nki/tract_stats/what-where/final/tract_final_norm_bidir_SPL_R_gwfa_dPMC_R_gwfa.nii.gz\n",
      "8\n",
      "Tract SPL_R_gwfa_vPMC_L_gwfa is mean SPL_R_gwfa_vPMC_L_gwfa and vPMC_L_gwfa_SPL_R_gwfa\n",
      "2230.3281\n",
      "  Wrote average bidirectional tract for SPL_R_gwfa/vPMC_L_gwfa to /Volumes/AndrewElements/data/nki/tract_stats/what-where/final/tract_final_norm_bidir_SPL_R_gwfa_vPMC_L_gwfa.nii.gz\n",
      "9\n",
      "Tract SPL_R_gwfa_vPMC_R_gwfa is mean SPL_R_gwfa_vPMC_R_gwfa and vPMC_R_gwfa_SPL_R_gwfa\n",
      "1348.7113\n",
      "  Wrote average bidirectional tract for SPL_R_gwfa/vPMC_R_gwfa to /Volumes/AndrewElements/data/nki/tract_stats/what-where/final/tract_final_norm_bidir_SPL_R_gwfa_vPMC_R_gwfa.nii.gz\n",
      "6\n",
      "7\n",
      "Tract dPMC_L_gwfa_dPMC_R_gwfa is mean dPMC_L_gwfa_dPMC_R_gwfa and dPMC_R_gwfa_dPMC_L_gwfa\n",
      "1820.6357\n",
      "  Wrote average bidirectional tract for dPMC_L_gwfa/dPMC_R_gwfa to /Volumes/AndrewElements/data/nki/tract_stats/what-where/final/tract_final_norm_bidir_dPMC_L_gwfa_dPMC_R_gwfa.nii.gz\n",
      "8\n",
      "Tract dPMC_L_gwfa_vPMC_L_gwfa is mean dPMC_L_gwfa_vPMC_L_gwfa and vPMC_L_gwfa_dPMC_L_gwfa\n",
      "810.4695\n",
      "  Wrote average bidirectional tract for dPMC_L_gwfa/vPMC_L_gwfa to /Volumes/AndrewElements/data/nki/tract_stats/what-where/final/tract_final_norm_bidir_dPMC_L_gwfa_vPMC_L_gwfa.nii.gz\n",
      "9\n",
      "Tract dPMC_L_gwfa_vPMC_R_gwfa is mean dPMC_L_gwfa_vPMC_R_gwfa and vPMC_R_gwfa_dPMC_L_gwfa\n",
      "1968.9774\n",
      "  Wrote average bidirectional tract for dPMC_L_gwfa/vPMC_R_gwfa to /Volumes/AndrewElements/data/nki/tract_stats/what-where/final/tract_final_norm_bidir_dPMC_L_gwfa_vPMC_R_gwfa.nii.gz\n",
      "7\n",
      "8\n",
      "Tract dPMC_R_gwfa_vPMC_L_gwfa is mean dPMC_R_gwfa_vPMC_L_gwfa and vPMC_L_gwfa_dPMC_R_gwfa\n",
      "1902.4141\n",
      "  Wrote average bidirectional tract for dPMC_R_gwfa/vPMC_L_gwfa to /Volumes/AndrewElements/data/nki/tract_stats/what-where/final/tract_final_norm_bidir_dPMC_R_gwfa_vPMC_L_gwfa.nii.gz\n",
      "9\n",
      "Tract dPMC_R_gwfa_vPMC_R_gwfa is mean dPMC_R_gwfa_vPMC_R_gwfa and vPMC_R_gwfa_dPMC_R_gwfa\n",
      "708.8052\n",
      "  Wrote average bidirectional tract for dPMC_R_gwfa/vPMC_R_gwfa to /Volumes/AndrewElements/data/nki/tract_stats/what-where/final/tract_final_norm_bidir_dPMC_R_gwfa_vPMC_R_gwfa.nii.gz\n",
      "8\n",
      "9\n",
      "Tract vPMC_L_gwfa_vPMC_R_gwfa is mean vPMC_L_gwfa_vPMC_R_gwfa and vPMC_R_gwfa_vPMC_L_gwfa\n",
      "2107.4744\n",
      "  Wrote average bidirectional tract for vPMC_L_gwfa/vPMC_R_gwfa to /Volumes/AndrewElements/data/nki/tract_stats/what-where/final/tract_final_norm_bidir_vPMC_L_gwfa_vPMC_R_gwfa.nii.gz\n"
     ]
    }
   ],
   "source": [
    "tract_list = []\n",
    "rois_a = []\n",
    "rois_b = []\n",
    "tract_failed = {}\n",
    "threshold = 0\n",
    "\n",
    "for roi_a in rois:\n",
    "    for roi_b in [x for x in rois if x != roi_a]:\n",
    "        tract_name = '{0}_{1}'.format(roi_a,roi_b)\n",
    "        tract_list.append(tract_name)\n",
    "        rois_a.append(roi_a)\n",
    "        rois_b.append(roi_b)\n",
    "        \n",
    "rois2 = ['IPL_L_gwfa', 'IPS_L_gwfa']\n",
    "\n",
    "for a in range(0, len(rois)-1):\n",
    "    roi_a = rois[a]\n",
    "    print(a)\n",
    "    for b in range(a+1, len(rois)):\n",
    "        print(b)\n",
    "        roi_b = rois[b]\n",
    "        ab = '{0}_{1}'.format(roi_a,roi_b)\n",
    "        ba = '{0}_{1}'.format(roi_b,roi_a)\n",
    "        \n",
    "        ab_file = '{0}/tract_final_{1}.nii.gz'.format(final_dir, ab)\n",
    "        ba_file = '{0}/tract_final_{1}.nii.gz'.format(final_dir, ba)\n",
    "        \n",
    "        tract_failed[ab] = not os.path.isfile(ab_file)\n",
    "        tract_failed[ba] = not os.path.isfile(ba_file)\n",
    "        \n",
    "        if not (tract_failed[ab] and tract_failed[ba]):\n",
    "            \n",
    "            # Unnormalized version\n",
    "            if tract_failed[ab]:\n",
    "                V = nib.load('{0}/tract_final_{1}.nii.gz'.format(final_dir, ba)).get_data()\n",
    "                print('Tract {0} is only {1}'.format(ab, ba))\n",
    "            elif tract_failed[ba]:\n",
    "                V = nib.load('{0}/tract_final_{1}.nii.gz'.format(final_dir, ab)).get_data()\n",
    "                print('Tract {0} is only {1}'.format(ab, ab))\n",
    "            else:\n",
    "                V_ab = nib.load('{0}/tract_final_{1}.nii.gz'.format(final_dir, ab)).get_data()\n",
    "                V_ba = nib.load('{0}/tract_final_{1}.nii.gz'.format(final_dir, ba)).get_data()\n",
    "                V = np.mean( np.array([ V_ab, V_ba ]), axis=0 )\n",
    "                print('Tract {0} is mean {1} and {2}'.format(ab, ab, ba))\n",
    "                print(np.sum(V))\n",
    "            \n",
    "            V_blobs = utils.label_blobs(V, threshold)\n",
    "            if len(np.unique(V_blobs)) > 2:\n",
    "                V_blobs = utils.retain_adjacent_blobs(V_blobs, [V_rois[roi_a], V_rois[roi_b]])\n",
    "                if len(np.unique(V_blobs)) > 2:\n",
    "                    print('  * Tract has multiple tract segments (unfixed): {0}|{1}'.format(roi_a, roi_b))\n",
    "                else:\n",
    "                    print('  * Tract had multiple tract segments (1 retained): {0}|{1}'.format(roi_a, roi_b))\n",
    "                V = np.multiply(V, V_blobs>0)\n",
    "            \n",
    "            img = nib.Nifti1Image(V, V_img.affine, V_img.header)\n",
    "            nib.save(img, '{0}/tract_final_bidir_{1}.nii.gz'.format(final_dir, ab))\n",
    "\n",
    "            # Normalized version\n",
    "            if tract_failed[ab]:\n",
    "                V = nib.load('{0}/tract_final_norm_{1}.nii.gz'.format(final_dir, ba)).get_data()\n",
    "            elif tract_failed[ba]:\n",
    "                V = nib.load('{0}/tract_final_norm_{1}.nii.gz'.format(final_dir, ab)).get_data()\n",
    "            else:\n",
    "                V_ab = nib.load('{0}/tract_final_norm_{1}.nii.gz'.format(final_dir, ab)).get_data()\n",
    "                V_ba = nib.load('{0}/tract_final_norm_{1}.nii.gz'.format(final_dir, ba)).get_data()\n",
    "                V = np.mean( np.array([ V_ab, V_ba ]), axis=0 )\n",
    "            \n",
    "            V = np.multiply(V, V_blobs>0)\n",
    "            \n",
    "            # Check for blobs that don't connect ROIs; remove these if found\n",
    "            img = nib.Nifti1Image(V, V_img.affine, V_img.header)\n",
    "            output_file = '{0}/tract_final_norm_bidir_{1}.nii.gz'.format(final_dir, ab)\n",
    "            nib.save(img, output_file)\n",
    "            \n",
    "            if params_gen['verbose']:\n",
    "                print('  Wrote average bidirectional tract for {0}/{1} to {2}'.format(roi_a, roi_b, output_file))\n"
   ]
  },
  {
   "cell_type": "code",
   "execution_count": 10,
   "metadata": {},
   "outputs": [
    {
     "name": "stdout",
     "output_type": "stream",
     "text": [
      "/Volumes/AndrewElements/data/nki/tract_stats/dmn/final/tract_final_IPL_L_gwfa_IPS_L_gwfa.nii.gz\n"
     ]
    }
   ],
   "source": [
    "print(ab_file)"
   ]
  },
  {
   "cell_type": "code",
   "execution_count": 4,
   "metadata": {},
   "outputs": [
    {
     "name": "stdout",
     "output_type": "stream",
     "text": [
      "\n",
      "== Computing average streamline orientations ==\n",
      "\n"
     ]
    },
    {
     "data": {
      "application/vnd.jupyter.widget-view+json": {
       "model_id": "f0a22029ad6b476f9f15e494b0d27e05",
       "version_major": 2,
       "version_minor": 0
      },
      "text/plain": [
       "HBox(children=(IntProgress(value=0, description='Total Progress', max=45), HTML(value='')))"
      ]
     },
     "metadata": {},
     "output_type": "display_data"
    },
    {
     "data": {
      "application/vnd.jupyter.widget-view+json": {
       "model_id": "4d7d21f80106403596b2f43704e046ca",
       "version_major": 2,
       "version_minor": 0
      },
      "text/plain": [
       "HBox(children=(IntProgress(value=0, description='IPL_L_gwfa_IPL_R_gwfa:', max=133), HTML(value='')))"
      ]
     },
     "metadata": {},
     "output_type": "display_data"
    },
    {
     "name": "stdout",
     "output_type": "stream",
     "text": [
      "  Computed average orientations for IPL_L_gwfa_IPL_R_gwfa\n"
     ]
    },
    {
     "data": {
      "application/vnd.jupyter.widget-view+json": {
       "model_id": "2476ac2a99d04ce88c21355727c7119e",
       "version_major": 2,
       "version_minor": 0
      },
      "text/plain": [
       "HBox(children=(IntProgress(value=0, description='IPL_L_gwfa_IPS_L_gwfa:', max=133), HTML(value='')))"
      ]
     },
     "metadata": {},
     "output_type": "display_data"
    },
    {
     "name": "stdout",
     "output_type": "stream",
     "text": [
      "  Computed average orientations for IPL_L_gwfa_IPS_L_gwfa\n"
     ]
    },
    {
     "data": {
      "application/vnd.jupyter.widget-view+json": {
       "model_id": "33dbf7c095c8428d936d776b322174ae",
       "version_major": 2,
       "version_minor": 0
      },
      "text/plain": [
       "HBox(children=(IntProgress(value=0, description='IPL_L_gwfa_IPS_R_gwfa:', max=133), HTML(value='')))"
      ]
     },
     "metadata": {},
     "output_type": "display_data"
    },
    {
     "name": "stdout",
     "output_type": "stream",
     "text": [
      "  Computed average orientations for IPL_L_gwfa_IPS_R_gwfa\n"
     ]
    },
    {
     "data": {
      "application/vnd.jupyter.widget-view+json": {
       "model_id": "e0c41008f12e4b778cd97bc5a29fe55c",
       "version_major": 2,
       "version_minor": 0
      },
      "text/plain": [
       "HBox(children=(IntProgress(value=0, description='IPL_L_gwfa_SPL_L_gwfa:', max=133), HTML(value='')))"
      ]
     },
     "metadata": {},
     "output_type": "display_data"
    },
    {
     "name": "stdout",
     "output_type": "stream",
     "text": [
      "  Computed average orientations for IPL_L_gwfa_SPL_L_gwfa\n"
     ]
    },
    {
     "data": {
      "application/vnd.jupyter.widget-view+json": {
       "model_id": "68a160a97c2d4cf0b821184c65a77dc7",
       "version_major": 2,
       "version_minor": 0
      },
      "text/plain": [
       "HBox(children=(IntProgress(value=0, description='IPL_L_gwfa_SPL_R_gwfa:', max=133), HTML(value='')))"
      ]
     },
     "metadata": {},
     "output_type": "display_data"
    },
    {
     "name": "stdout",
     "output_type": "stream",
     "text": [
      "  Computed average orientations for IPL_L_gwfa_SPL_R_gwfa\n"
     ]
    },
    {
     "data": {
      "application/vnd.jupyter.widget-view+json": {
       "model_id": "862db66743824b52ab805b71868bed7d",
       "version_major": 2,
       "version_minor": 0
      },
      "text/plain": [
       "HBox(children=(IntProgress(value=0, description='IPL_L_gwfa_dPMC_L_gwfa:', max=133), HTML(value='')))"
      ]
     },
     "metadata": {},
     "output_type": "display_data"
    },
    {
     "name": "stdout",
     "output_type": "stream",
     "text": [
      "  Computed average orientations for IPL_L_gwfa_dPMC_L_gwfa\n",
      "  No tract found for IPL_L_gwfa_dPMC_R_gwfa. Skipping.\n"
     ]
    },
    {
     "data": {
      "application/vnd.jupyter.widget-view+json": {
       "model_id": "7d36805c90014affb68ee9631a97c0e9",
       "version_major": 2,
       "version_minor": 0
      },
      "text/plain": [
       "HBox(children=(IntProgress(value=0, description='IPL_L_gwfa_vPMC_L_gwfa:', max=133), HTML(value='')))"
      ]
     },
     "metadata": {},
     "output_type": "display_data"
    },
    {
     "name": "stdout",
     "output_type": "stream",
     "text": [
      "  Computed average orientations for IPL_L_gwfa_vPMC_L_gwfa\n"
     ]
    },
    {
     "data": {
      "application/vnd.jupyter.widget-view+json": {
       "model_id": "98ef7de757be4391bbd983dbae93b7e1",
       "version_major": 2,
       "version_minor": 0
      },
      "text/plain": [
       "HBox(children=(IntProgress(value=0, description='IPL_L_gwfa_vPMC_R_gwfa:', max=133), HTML(value='')))"
      ]
     },
     "metadata": {},
     "output_type": "display_data"
    },
    {
     "name": "stdout",
     "output_type": "stream",
     "text": [
      "  Computed average orientations for IPL_L_gwfa_vPMC_R_gwfa\n"
     ]
    },
    {
     "data": {
      "application/vnd.jupyter.widget-view+json": {
       "model_id": "132cd93cdcea4a5eb3bedb640f61ebdb",
       "version_major": 2,
       "version_minor": 0
      },
      "text/plain": [
       "HBox(children=(IntProgress(value=0, description='IPL_R_gwfa_IPS_L_gwfa:', max=133), HTML(value='')))"
      ]
     },
     "metadata": {},
     "output_type": "display_data"
    },
    {
     "name": "stdout",
     "output_type": "stream",
     "text": [
      "  Computed average orientations for IPL_R_gwfa_IPS_L_gwfa\n"
     ]
    },
    {
     "data": {
      "application/vnd.jupyter.widget-view+json": {
       "model_id": "493af6a4fb304d21b21bda59055e7971",
       "version_major": 2,
       "version_minor": 0
      },
      "text/plain": [
       "HBox(children=(IntProgress(value=0, description='IPL_R_gwfa_IPS_R_gwfa:', max=133), HTML(value='')))"
      ]
     },
     "metadata": {},
     "output_type": "display_data"
    },
    {
     "name": "stdout",
     "output_type": "stream",
     "text": [
      "  Computed average orientations for IPL_R_gwfa_IPS_R_gwfa\n"
     ]
    },
    {
     "data": {
      "application/vnd.jupyter.widget-view+json": {
       "model_id": "2a86b92dc56c46fe96282187c4f574f1",
       "version_major": 2,
       "version_minor": 0
      },
      "text/plain": [
       "HBox(children=(IntProgress(value=0, description='IPL_R_gwfa_SPL_L_gwfa:', max=133), HTML(value='')))"
      ]
     },
     "metadata": {},
     "output_type": "display_data"
    },
    {
     "name": "stdout",
     "output_type": "stream",
     "text": [
      "  Computed average orientations for IPL_R_gwfa_SPL_L_gwfa\n"
     ]
    },
    {
     "data": {
      "application/vnd.jupyter.widget-view+json": {
       "model_id": "d9f29dd500d54ad29d00b54c3df05202",
       "version_major": 2,
       "version_minor": 0
      },
      "text/plain": [
       "HBox(children=(IntProgress(value=0, description='IPL_R_gwfa_SPL_R_gwfa:', max=133), HTML(value='')))"
      ]
     },
     "metadata": {},
     "output_type": "display_data"
    },
    {
     "name": "stdout",
     "output_type": "stream",
     "text": [
      "  Computed average orientations for IPL_R_gwfa_SPL_R_gwfa\n",
      "  No tract found for IPL_R_gwfa_dPMC_L_gwfa. Skipping.\n"
     ]
    },
    {
     "data": {
      "application/vnd.jupyter.widget-view+json": {
       "model_id": "107491ce41b3433faf46b83de5461adb",
       "version_major": 2,
       "version_minor": 0
      },
      "text/plain": [
       "HBox(children=(IntProgress(value=0, description='IPL_R_gwfa_dPMC_R_gwfa:', max=133), HTML(value='')))"
      ]
     },
     "metadata": {},
     "output_type": "display_data"
    },
    {
     "name": "stdout",
     "output_type": "stream",
     "text": [
      "  Computed average orientations for IPL_R_gwfa_dPMC_R_gwfa\n",
      "  No tract found for IPL_R_gwfa_vPMC_L_gwfa. Skipping.\n"
     ]
    },
    {
     "data": {
      "application/vnd.jupyter.widget-view+json": {
       "model_id": "2a78915e61fd4d2fb8a285c149956245",
       "version_major": 2,
       "version_minor": 0
      },
      "text/plain": [
       "HBox(children=(IntProgress(value=0, description='IPL_R_gwfa_vPMC_R_gwfa:', max=133), HTML(value='')))"
      ]
     },
     "metadata": {},
     "output_type": "display_data"
    },
    {
     "name": "stdout",
     "output_type": "stream",
     "text": [
      "  Computed average orientations for IPL_R_gwfa_vPMC_R_gwfa\n"
     ]
    },
    {
     "data": {
      "application/vnd.jupyter.widget-view+json": {
       "model_id": "1339a42b42654d37947525f4357ea64e",
       "version_major": 2,
       "version_minor": 0
      },
      "text/plain": [
       "HBox(children=(IntProgress(value=0, description='IPS_L_gwfa_IPS_R_gwfa:', max=133), HTML(value='')))"
      ]
     },
     "metadata": {},
     "output_type": "display_data"
    },
    {
     "name": "stdout",
     "output_type": "stream",
     "text": [
      "  Computed average orientations for IPS_L_gwfa_IPS_R_gwfa\n"
     ]
    },
    {
     "data": {
      "application/vnd.jupyter.widget-view+json": {
       "model_id": "97db2804cf9848f0a97cdc494d91ab83",
       "version_major": 2,
       "version_minor": 0
      },
      "text/plain": [
       "HBox(children=(IntProgress(value=0, description='IPS_L_gwfa_SPL_L_gwfa:', max=133), HTML(value='')))"
      ]
     },
     "metadata": {},
     "output_type": "display_data"
    },
    {
     "name": "stdout",
     "output_type": "stream",
     "text": [
      "  Computed average orientations for IPS_L_gwfa_SPL_L_gwfa\n"
     ]
    },
    {
     "data": {
      "application/vnd.jupyter.widget-view+json": {
       "model_id": "17a89673b1b54013a9b6edc3eae5a49b",
       "version_major": 2,
       "version_minor": 0
      },
      "text/plain": [
       "HBox(children=(IntProgress(value=0, description='IPS_L_gwfa_SPL_R_gwfa:', max=133), HTML(value='')))"
      ]
     },
     "metadata": {},
     "output_type": "display_data"
    },
    {
     "name": "stdout",
     "output_type": "stream",
     "text": [
      "  Computed average orientations for IPS_L_gwfa_SPL_R_gwfa\n"
     ]
    },
    {
     "data": {
      "application/vnd.jupyter.widget-view+json": {
       "model_id": "2d3af447b5fc42d68a624f091abf52a0",
       "version_major": 2,
       "version_minor": 0
      },
      "text/plain": [
       "HBox(children=(IntProgress(value=0, description='IPS_L_gwfa_dPMC_L_gwfa:', max=133), HTML(value='')))"
      ]
     },
     "metadata": {},
     "output_type": "display_data"
    },
    {
     "name": "stdout",
     "output_type": "stream",
     "text": [
      "  Computed average orientations for IPS_L_gwfa_dPMC_L_gwfa\n"
     ]
    },
    {
     "data": {
      "application/vnd.jupyter.widget-view+json": {
       "model_id": "7d752a46e87d46198cb2f30964a07648",
       "version_major": 2,
       "version_minor": 0
      },
      "text/plain": [
       "HBox(children=(IntProgress(value=0, description='IPS_L_gwfa_dPMC_R_gwfa:', max=133), HTML(value='')))"
      ]
     },
     "metadata": {},
     "output_type": "display_data"
    },
    {
     "name": "stdout",
     "output_type": "stream",
     "text": [
      "  Computed average orientations for IPS_L_gwfa_dPMC_R_gwfa\n"
     ]
    },
    {
     "data": {
      "application/vnd.jupyter.widget-view+json": {
       "model_id": "00800b36962843d692bc5059575d4ff2",
       "version_major": 2,
       "version_minor": 0
      },
      "text/plain": [
       "HBox(children=(IntProgress(value=0, description='IPS_L_gwfa_vPMC_L_gwfa:', max=133), HTML(value='')))"
      ]
     },
     "metadata": {},
     "output_type": "display_data"
    },
    {
     "name": "stdout",
     "output_type": "stream",
     "text": [
      "  Computed average orientations for IPS_L_gwfa_vPMC_L_gwfa\n"
     ]
    },
    {
     "data": {
      "application/vnd.jupyter.widget-view+json": {
       "model_id": "e73f3aa9a8074898a797e08817aa2b05",
       "version_major": 2,
       "version_minor": 0
      },
      "text/plain": [
       "HBox(children=(IntProgress(value=0, description='IPS_L_gwfa_vPMC_R_gwfa:', max=133), HTML(value='')))"
      ]
     },
     "metadata": {},
     "output_type": "display_data"
    },
    {
     "name": "stdout",
     "output_type": "stream",
     "text": [
      "  Computed average orientations for IPS_L_gwfa_vPMC_R_gwfa\n"
     ]
    },
    {
     "data": {
      "application/vnd.jupyter.widget-view+json": {
       "model_id": "fe9c271696294fe1a153eec3e7bceec0",
       "version_major": 2,
       "version_minor": 0
      },
      "text/plain": [
       "HBox(children=(IntProgress(value=0, description='IPS_R_gwfa_SPL_L_gwfa:', max=133), HTML(value='')))"
      ]
     },
     "metadata": {},
     "output_type": "display_data"
    },
    {
     "name": "stdout",
     "output_type": "stream",
     "text": [
      "  Computed average orientations for IPS_R_gwfa_SPL_L_gwfa\n"
     ]
    },
    {
     "data": {
      "application/vnd.jupyter.widget-view+json": {
       "model_id": "ca2118c77dd94ad2b81c05167b46d569",
       "version_major": 2,
       "version_minor": 0
      },
      "text/plain": [
       "HBox(children=(IntProgress(value=0, description='IPS_R_gwfa_SPL_R_gwfa:', max=133), HTML(value='')))"
      ]
     },
     "metadata": {},
     "output_type": "display_data"
    },
    {
     "name": "stdout",
     "output_type": "stream",
     "text": [
      "  Computed average orientations for IPS_R_gwfa_SPL_R_gwfa\n",
      "  No tract found for IPS_R_gwfa_dPMC_L_gwfa. Skipping.\n"
     ]
    },
    {
     "data": {
      "application/vnd.jupyter.widget-view+json": {
       "model_id": "3be35de56c4a4222925083577074e1a1",
       "version_major": 2,
       "version_minor": 0
      },
      "text/plain": [
       "HBox(children=(IntProgress(value=0, description='IPS_R_gwfa_dPMC_R_gwfa:', max=133), HTML(value='')))"
      ]
     },
     "metadata": {},
     "output_type": "display_data"
    },
    {
     "name": "stdout",
     "output_type": "stream",
     "text": [
      "  Computed average orientations for IPS_R_gwfa_dPMC_R_gwfa\n",
      "  No tract found for IPS_R_gwfa_vPMC_L_gwfa. Skipping.\n"
     ]
    },
    {
     "data": {
      "application/vnd.jupyter.widget-view+json": {
       "model_id": "a08252659eb14764aaadcc1c5f0af563",
       "version_major": 2,
       "version_minor": 0
      },
      "text/plain": [
       "HBox(children=(IntProgress(value=0, description='IPS_R_gwfa_vPMC_R_gwfa:', max=133), HTML(value='')))"
      ]
     },
     "metadata": {},
     "output_type": "display_data"
    },
    {
     "name": "stdout",
     "output_type": "stream",
     "text": [
      "  Computed average orientations for IPS_R_gwfa_vPMC_R_gwfa\n"
     ]
    },
    {
     "data": {
      "application/vnd.jupyter.widget-view+json": {
       "model_id": "371619940d7e46c9845d5bc4456d4b78",
       "version_major": 2,
       "version_minor": 0
      },
      "text/plain": [
       "HBox(children=(IntProgress(value=0, description='SPL_L_gwfa_SPL_R_gwfa:', max=133), HTML(value='')))"
      ]
     },
     "metadata": {},
     "output_type": "display_data"
    },
    {
     "name": "stdout",
     "output_type": "stream",
     "text": [
      "  Computed average orientations for SPL_L_gwfa_SPL_R_gwfa\n"
     ]
    },
    {
     "data": {
      "application/vnd.jupyter.widget-view+json": {
       "model_id": "2c8a0831369c49adbb26a1ad5d151fd4",
       "version_major": 2,
       "version_minor": 0
      },
      "text/plain": [
       "HBox(children=(IntProgress(value=0, description='SPL_L_gwfa_dPMC_L_gwfa:', max=133), HTML(value='')))"
      ]
     },
     "metadata": {},
     "output_type": "display_data"
    },
    {
     "name": "stdout",
     "output_type": "stream",
     "text": [
      "  Computed average orientations for SPL_L_gwfa_dPMC_L_gwfa\n"
     ]
    },
    {
     "data": {
      "application/vnd.jupyter.widget-view+json": {
       "model_id": "06769a7065fd4c55a715669ab71a177f",
       "version_major": 2,
       "version_minor": 0
      },
      "text/plain": [
       "HBox(children=(IntProgress(value=0, description='SPL_L_gwfa_dPMC_R_gwfa:', max=133), HTML(value='')))"
      ]
     },
     "metadata": {},
     "output_type": "display_data"
    },
    {
     "name": "stdout",
     "output_type": "stream",
     "text": [
      "  Computed average orientations for SPL_L_gwfa_dPMC_R_gwfa\n"
     ]
    },
    {
     "data": {
      "application/vnd.jupyter.widget-view+json": {
       "model_id": "214f21ead6df42f8a2761ec459808596",
       "version_major": 2,
       "version_minor": 0
      },
      "text/plain": [
       "HBox(children=(IntProgress(value=0, description='SPL_L_gwfa_vPMC_L_gwfa:', max=133), HTML(value='')))"
      ]
     },
     "metadata": {},
     "output_type": "display_data"
    },
    {
     "name": "stdout",
     "output_type": "stream",
     "text": [
      "  Computed average orientations for SPL_L_gwfa_vPMC_L_gwfa\n",
      "  No tract found for SPL_L_gwfa_vPMC_R_gwfa. Skipping.\n"
     ]
    },
    {
     "data": {
      "application/vnd.jupyter.widget-view+json": {
       "model_id": "64adc31a0cb24639b974e57b6bb5593b",
       "version_major": 2,
       "version_minor": 0
      },
      "text/plain": [
       "HBox(children=(IntProgress(value=0, description='SPL_R_gwfa_dPMC_L_gwfa:', max=133), HTML(value='')))"
      ]
     },
     "metadata": {},
     "output_type": "display_data"
    },
    {
     "name": "stdout",
     "output_type": "stream",
     "text": [
      "  Computed average orientations for SPL_R_gwfa_dPMC_L_gwfa\n"
     ]
    },
    {
     "data": {
      "application/vnd.jupyter.widget-view+json": {
       "model_id": "713686cfe86a4a3f9a2f4fbab2c95c5d",
       "version_major": 2,
       "version_minor": 0
      },
      "text/plain": [
       "HBox(children=(IntProgress(value=0, description='SPL_R_gwfa_dPMC_R_gwfa:', max=133), HTML(value='')))"
      ]
     },
     "metadata": {},
     "output_type": "display_data"
    },
    {
     "name": "stdout",
     "output_type": "stream",
     "text": [
      "  Computed average orientations for SPL_R_gwfa_dPMC_R_gwfa\n"
     ]
    },
    {
     "data": {
      "application/vnd.jupyter.widget-view+json": {
       "model_id": "65f2db42ffcd4e12910e1895130ff823",
       "version_major": 2,
       "version_minor": 0
      },
      "text/plain": [
       "HBox(children=(IntProgress(value=0, description='SPL_R_gwfa_vPMC_L_gwfa:', max=133), HTML(value='')))"
      ]
     },
     "metadata": {},
     "output_type": "display_data"
    },
    {
     "name": "stdout",
     "output_type": "stream",
     "text": [
      "  Computed average orientations for SPL_R_gwfa_vPMC_L_gwfa\n"
     ]
    },
    {
     "data": {
      "application/vnd.jupyter.widget-view+json": {
       "model_id": "b77181f150644bc5b0330d181bcc2c56",
       "version_major": 2,
       "version_minor": 0
      },
      "text/plain": [
       "HBox(children=(IntProgress(value=0, description='SPL_R_gwfa_vPMC_R_gwfa:', max=133), HTML(value='')))"
      ]
     },
     "metadata": {},
     "output_type": "display_data"
    },
    {
     "name": "stdout",
     "output_type": "stream",
     "text": [
      "  Computed average orientations for SPL_R_gwfa_vPMC_R_gwfa\n"
     ]
    },
    {
     "data": {
      "application/vnd.jupyter.widget-view+json": {
       "model_id": "67e5855b825c450ea0f97ba007b615da",
       "version_major": 2,
       "version_minor": 0
      },
      "text/plain": [
       "HBox(children=(IntProgress(value=0, description='dPMC_L_gwfa_dPMC_R_gwfa:', max=133), HTML(value='')))"
      ]
     },
     "metadata": {},
     "output_type": "display_data"
    },
    {
     "name": "stdout",
     "output_type": "stream",
     "text": [
      "  Computed average orientations for dPMC_L_gwfa_dPMC_R_gwfa\n"
     ]
    },
    {
     "data": {
      "application/vnd.jupyter.widget-view+json": {
       "model_id": "840d22a7803545df853ba8ecb7569973",
       "version_major": 2,
       "version_minor": 0
      },
      "text/plain": [
       "HBox(children=(IntProgress(value=0, description='dPMC_L_gwfa_vPMC_L_gwfa:', max=133), HTML(value='')))"
      ]
     },
     "metadata": {},
     "output_type": "display_data"
    },
    {
     "name": "stdout",
     "output_type": "stream",
     "text": [
      "  Computed average orientations for dPMC_L_gwfa_vPMC_L_gwfa\n"
     ]
    },
    {
     "data": {
      "application/vnd.jupyter.widget-view+json": {
       "model_id": "cfebc242768d41c1a5cef7ba2149046b",
       "version_major": 2,
       "version_minor": 0
      },
      "text/plain": [
       "HBox(children=(IntProgress(value=0, description='dPMC_L_gwfa_vPMC_R_gwfa:', max=133), HTML(value='')))"
      ]
     },
     "metadata": {},
     "output_type": "display_data"
    },
    {
     "name": "stdout",
     "output_type": "stream",
     "text": [
      "  Computed average orientations for dPMC_L_gwfa_vPMC_R_gwfa\n"
     ]
    },
    {
     "data": {
      "application/vnd.jupyter.widget-view+json": {
       "model_id": "0a17d3f734ec4df0a227091dea1e287f",
       "version_major": 2,
       "version_minor": 0
      },
      "text/plain": [
       "HBox(children=(IntProgress(value=0, description='dPMC_R_gwfa_vPMC_L_gwfa:', max=133), HTML(value='')))"
      ]
     },
     "metadata": {},
     "output_type": "display_data"
    },
    {
     "name": "stdout",
     "output_type": "stream",
     "text": [
      "  Computed average orientations for dPMC_R_gwfa_vPMC_L_gwfa\n"
     ]
    },
    {
     "data": {
      "application/vnd.jupyter.widget-view+json": {
       "model_id": "488f1fb7affc4fd6bbdf336998f83c73",
       "version_major": 2,
       "version_minor": 0
      },
      "text/plain": [
       "HBox(children=(IntProgress(value=0, description='dPMC_R_gwfa_vPMC_R_gwfa:', max=133), HTML(value='')))"
      ]
     },
     "metadata": {},
     "output_type": "display_data"
    },
    {
     "name": "stdout",
     "output_type": "stream",
     "text": [
      "  Computed average orientations for dPMC_R_gwfa_vPMC_R_gwfa\n"
     ]
    },
    {
     "data": {
      "application/vnd.jupyter.widget-view+json": {
       "model_id": "49439c556a444f04902cf4b8472db77b",
       "version_major": 2,
       "version_minor": 0
      },
      "text/plain": [
       "HBox(children=(IntProgress(value=0, description='vPMC_L_gwfa_vPMC_R_gwfa:', max=133), HTML(value='')))"
      ]
     },
     "metadata": {},
     "output_type": "display_data"
    },
    {
     "name": "stdout",
     "output_type": "stream",
     "text": [
      "  Computed average orientations for vPMC_L_gwfa_vPMC_R_gwfa\n",
      "\n",
      "== Done computing average streamline orientations ==\n",
      "\n"
     ]
    }
   ],
   "source": [
    "# Compute average orientations across subjects\n",
    "#\n",
    "# For each tract that was successfully identified, we will now use the\n",
    "# average voxel-wise streamline orientation information generated by ProbtrackX \n",
    "# to compute the average orientation across subjects, for each voxel in the tract.\n",
    "# This will later be used to compute how strongly diffusion loads on the average\n",
    "# orientation for each subject, which can be regressed against factors of interest.\n",
    "\n",
    "print('\\n== Computing average streamline orientations ==\\n')\n",
    "\n",
    "params_avdir = params['average_directions']\n",
    "tract_thresh = params_avdir['threshold']\n",
    "\n",
    "if params_gen['debug']:\n",
    "    last_clobber = params_gen['clobber']\n",
    "    params_gen['clobber'] = True\n",
    "\n",
    "# Make sure the tract output exists\n",
    "\n",
    "final_dir = os.path.join(tracts_dir, 'final')\n",
    "if not os.path.isdir(final_dir):\n",
    "    print('  No tracts appear to have been generated. Stopping.')\n",
    "    raise\n",
    "    \n",
    "avdir_dir = os.path.join(tracts_dir, 'avrdir')\n",
    "if not os.path.isdir(avdir_dir):\n",
    "    os.makedirs(avdir_dir)\n",
    "\n",
    "subjects = []\n",
    "with open('{0}/subjects_avr_{1}.list'.format(tracts_dir, params_gen['network_name'])) as subj_file:\n",
    "    reader = csv.reader(subj_file)\n",
    "    for row in reader:\n",
    "        subjects.append(row[0])\n",
    "        \n",
    "subjects = sorted(subjects)\n",
    "\n",
    "tract_list = []\n",
    "rois_a = []\n",
    "rois_b = []\n",
    "\n",
    "for a in range(0, len(rois)-1):\n",
    "    roi_a = rois[a]\n",
    "    for b in range(a+1, len(rois)):\n",
    "        roi_b = rois[b]\n",
    "        tract_name = '{0}_{1}'.format(roi_a,roi_b)\n",
    "        tract_list.append(tract_name)\n",
    "        rois_a.append(roi_a)\n",
    "        rois_b.append(roi_b)\n",
    "\n",
    "for c in tqdm_notebook(range(0, len(rois_a)), desc='Total Progress'):\n",
    "    roi_a = rois_a[c]\n",
    "    roi_b = rois_b[c]\n",
    "    tract_name = '{0}_{1}'.format(roi_a,roi_b)\n",
    "    output_file = '{0}/avrdir_{1}.nii.gz'.format(avdir_dir, tract_name)\n",
    "    \n",
    "    if not params_gen['clobber'] and os.path.isfile(output_file):\n",
    "        print('  Average orientations already computed for {0}. Skipping.'.format(tract_name))\n",
    "    else:\n",
    "        tract_file = '{0}/tract_final_bidir_{1}.nii.gz'.format(final_dir, tract_name)\n",
    "\n",
    "        if not os.path.isfile(tract_file):\n",
    "            print('  No tract found for {0}. Skipping.'.format(tract_name))\n",
    "        else:\n",
    "            img = nib.load(tract_file)\n",
    "            V_tract = img.get_data()\n",
    "\n",
    "            s = (3,) + V_tract.shape\n",
    "            ss = V_tract.shape + (3,)\n",
    "            V_avdir = np.zeros(ss)\n",
    "            V_denom = np.zeros(ss)\n",
    "\n",
    "            V_img3 = None\n",
    "\n",
    "            # For each subject, read local direction vectors\n",
    "            for subject in tqdm_notebook(subjects, desc='{0}:'.format(tract_name)):\n",
    "                prefix_sub = '{0}{1}'.format(params_gen['prefix'], subject)\n",
    "                \n",
    "                # AB orientations\n",
    "                subject_dir = os.path.join(project_dir, params_gen['deriv_dir'], prefix_sub, \\\n",
    "                                           params_gen['sub_dirs'], params_gen['dwi_dir'], \\\n",
    "                                           'probtrackX', params_gen['network_name'], roi_a)\n",
    "                avdir_file = '{0}/target_localdir_{1}.nii.gz'.format(subject_dir, roi_b)\n",
    "\n",
    "                V_img3 = nib.load(avdir_file)\n",
    "                V_dir = V_img3.get_data()\n",
    "                V_dir[np.less(V_tract, tract_thresh)] = 0\n",
    "\n",
    "                # Ensure the maximal vector component is positive (we are concerned with\n",
    "                # orientation rather than directions); flip those that aren't\n",
    "                idx = np.nonzero(V_dir)\n",
    "                V_denom[idx] = np.add(V_denom[idx],1)\n",
    "                V_dir = utils.make_vectors_positive( V_dir )\n",
    "                \n",
    "                V_avdir = np.add(V_avdir, V_dir)\n",
    "                \n",
    "                # BA orientations\n",
    "                subject_dir = os.path.join(project_dir, params_gen['deriv_dir'], prefix_sub, \\\n",
    "                                           params_gen['sub_dirs'], params_gen['dwi_dir'], \\\n",
    "                                           'probtrackX', params_gen['network_name'], roi_b)\n",
    "                avdir_file = '{0}/target_localdir_{1}.nii.gz'.format(subject_dir, roi_a)\n",
    "\n",
    "                V_img3 = nib.load(avdir_file)\n",
    "                V_dir = V_img3.get_data()\n",
    "                V_dir[np.less(V_tract, tract_thresh)] = 0\n",
    "                \n",
    "                # Ensure the maximal vector component is positive (we are concerned with\n",
    "                # orientation rather than directions); flip those that aren't\n",
    "                idx = np.nonzero(V_dir)\n",
    "                V_denom[idx] = np.add(V_denom[idx],1)\n",
    "                V_dir = utils.make_vectors_positive( V_dir )\n",
    "                V_avdir = np.add(V_avdir, V_dir)\n",
    "                \n",
    "            # Divide to get average, and mask to exclude to this tract\n",
    "            idx = np.equal(V_denom,0)\n",
    "            V_denom[idx] = 1\n",
    "            V_avdir = np.divide(V_avdir, V_denom)\n",
    "\n",
    "            nidx = np.transpose(np.nonzero(V_avdir))\n",
    "            \n",
    "            # Normalize results\n",
    "#             for i in range(0, nidx.shape[0]):\n",
    "#                 x = nidx[i,0]\n",
    "#                 y = nidx[i,1]\n",
    "#                 z = nidx[i,2]\n",
    "#                 v = np.squeeze(V_avdir[x, y, z, :])\n",
    "#                 nm = np.linalg.norm(v)\n",
    "#                 if nm > 0:\n",
    "#                     v = np.divide(v, nm)\n",
    "#                     V_avdir[x,y,z,:] = v\n",
    "\n",
    "            # Write average directions to file\n",
    "            img = nib.Nifti1Image(V_avdir, V_img3.affine, V_img3.header)\n",
    "            nib.save(img, output_file)\n",
    "\n",
    "            print('  Computed average orientations for {0}'.format(tract_name))\n",
    "            \n",
    "if params_gen['debug']:\n",
    "    params_gen['clobber'] = last_clobber\n",
    "            \n",
    "print('\\n== Done computing average streamline orientations ==\\n')\n",
    "        "
   ]
  },
  {
   "cell_type": "code",
   "execution_count": null,
   "metadata": {
    "collapsed": true
   },
   "outputs": [],
   "source": [
    "# Compute tract-weighted distance-wise FA averages for all tracts"
   ]
  },
  {
   "cell_type": "code",
   "execution_count": 3,
   "metadata": {},
   "outputs": [
    {
     "name": "stderr",
     "output_type": "stream",
     "text": [
      "/Users/lpzatr/anaconda3/lib/python3.6/importlib/_bootstrap.py:219: RuntimeWarning: numpy.dtype size changed, may indicate binary incompatibility. Expected 96, got 88\n",
      "  return f(*args, **kwds)\n",
      "/Users/lpzatr/anaconda3/lib/python3.6/importlib/_bootstrap.py:219: RuntimeWarning: numpy.dtype size changed, may indicate binary incompatibility. Expected 96, got 88\n",
      "  return f(*args, **kwds)\n"
     ]
    },
    {
     "name": "stdout",
     "output_type": "stream",
     "text": [
      "== Computing DWI regressions ==\n"
     ]
    },
    {
     "data": {
      "application/vnd.jupyter.widget-view+json": {
       "model_id": "718b11fc82a94ce89ab8364e7ecde6e2",
       "version_major": 2,
       "version_minor": 0
      },
      "text/plain": [
       "HBox(children=(IntProgress(value=0, description='Progress: ', max=133), HTML(value='')))"
      ]
     },
     "metadata": {},
     "output_type": "display_data"
    },
    {
     "name": "stdout",
     "output_type": "stream",
     "text": [
      "Starting processing of subject A00008326.\n",
      "  Finished tract IPL_L_gwfa_IPL_R_gwfa for subject A00008326\n",
      "  Finished tract IPL_L_gwfa_IPS_L_gwfa for subject A00008326\n",
      "  Finished tract IPL_L_gwfa_IPS_R_gwfa for subject A00008326\n",
      "  Finished tract IPL_L_gwfa_SPL_L_gwfa for subject A00008326\n",
      "  Finished tract IPL_L_gwfa_SPL_R_gwfa for subject A00008326\n",
      "  Finished tract IPL_L_gwfa_dPMC_L_gwfa for subject A00008326\n",
      "  - Tract IPL_L_gwfa_dPMC_R_gwfa not found. Skipping.\n",
      "  Finished tract IPL_L_gwfa_vPMC_L_gwfa for subject A00008326\n",
      "  Finished tract IPL_L_gwfa_vPMC_R_gwfa for subject A00008326\n",
      "  Finished tract IPL_R_gwfa_IPS_L_gwfa for subject A00008326\n",
      "  Finished tract IPL_R_gwfa_IPS_R_gwfa for subject A00008326\n",
      "  Finished tract IPL_R_gwfa_SPL_L_gwfa for subject A00008326\n",
      "  Finished tract IPL_R_gwfa_SPL_R_gwfa for subject A00008326\n",
      "  - Tract IPL_R_gwfa_dPMC_L_gwfa not found. Skipping.\n",
      "  Finished tract IPL_R_gwfa_dPMC_R_gwfa for subject A00008326\n",
      "  - Tract IPL_R_gwfa_vPMC_L_gwfa not found. Skipping.\n",
      "  Finished tract IPL_R_gwfa_vPMC_R_gwfa for subject A00008326\n",
      "  Finished tract IPS_L_gwfa_IPS_R_gwfa for subject A00008326\n",
      "  Finished tract IPS_L_gwfa_SPL_L_gwfa for subject A00008326\n",
      "  Finished tract IPS_L_gwfa_SPL_R_gwfa for subject A00008326\n",
      "  Finished tract IPS_L_gwfa_dPMC_L_gwfa for subject A00008326\n",
      "  Finished tract IPS_L_gwfa_dPMC_R_gwfa for subject A00008326\n",
      "  Finished tract IPS_L_gwfa_vPMC_L_gwfa for subject A00008326\n",
      "  Finished tract IPS_L_gwfa_vPMC_R_gwfa for subject A00008326\n",
      "  Finished tract IPS_R_gwfa_SPL_L_gwfa for subject A00008326\n",
      "  Finished tract IPS_R_gwfa_SPL_R_gwfa for subject A00008326\n",
      "  - Tract IPS_R_gwfa_dPMC_L_gwfa not found. Skipping.\n",
      "  Finished tract IPS_R_gwfa_dPMC_R_gwfa for subject A00008326\n",
      "  - Tract IPS_R_gwfa_vPMC_L_gwfa not found. Skipping.\n",
      "  Finished tract IPS_R_gwfa_vPMC_R_gwfa for subject A00008326\n",
      "  Finished tract SPL_L_gwfa_SPL_R_gwfa for subject A00008326\n",
      "  Finished tract SPL_L_gwfa_dPMC_L_gwfa for subject A00008326\n",
      "  Finished tract SPL_L_gwfa_dPMC_R_gwfa for subject A00008326\n",
      "  Finished tract SPL_L_gwfa_vPMC_L_gwfa for subject A00008326\n",
      "  - Tract SPL_L_gwfa_vPMC_R_gwfa not found. Skipping.\n",
      "  Finished tract SPL_R_gwfa_dPMC_L_gwfa for subject A00008326\n",
      "  Finished tract SPL_R_gwfa_dPMC_R_gwfa for subject A00008326\n",
      "  Finished tract SPL_R_gwfa_vPMC_L_gwfa for subject A00008326\n",
      "  Finished tract SPL_R_gwfa_vPMC_R_gwfa for subject A00008326\n",
      "  Finished tract dPMC_L_gwfa_dPMC_R_gwfa for subject A00008326\n",
      "  Finished tract dPMC_L_gwfa_vPMC_L_gwfa for subject A00008326\n",
      "  Finished tract dPMC_L_gwfa_vPMC_R_gwfa for subject A00008326\n",
      "  Finished tract dPMC_R_gwfa_vPMC_L_gwfa for subject A00008326\n",
      "  Finished tract dPMC_R_gwfa_vPMC_R_gwfa for subject A00008326\n",
      "  Finished tract vPMC_L_gwfa_vPMC_R_gwfa for subject A00008326\n",
      "Successfully processed subject A00008326.\n",
      "Starting processing of subject A00010893.\n",
      "  Finished tract IPL_L_gwfa_IPL_R_gwfa for subject A00010893\n",
      "  Finished tract IPL_L_gwfa_IPS_L_gwfa for subject A00010893\n",
      "  Finished tract IPL_L_gwfa_IPS_R_gwfa for subject A00010893\n",
      "  Finished tract IPL_L_gwfa_SPL_L_gwfa for subject A00010893\n",
      "  Finished tract IPL_L_gwfa_SPL_R_gwfa for subject A00010893\n",
      "  Finished tract IPL_L_gwfa_dPMC_L_gwfa for subject A00010893\n",
      "  - Tract IPL_L_gwfa_dPMC_R_gwfa not found. Skipping.\n",
      "  Finished tract IPL_L_gwfa_vPMC_L_gwfa for subject A00010893\n",
      "  Finished tract IPL_L_gwfa_vPMC_R_gwfa for subject A00010893\n",
      "  Finished tract IPL_R_gwfa_IPS_L_gwfa for subject A00010893\n",
      "  Finished tract IPL_R_gwfa_IPS_R_gwfa for subject A00010893\n",
      "  Finished tract IPL_R_gwfa_SPL_L_gwfa for subject A00010893\n",
      "  Finished tract IPL_R_gwfa_SPL_R_gwfa for subject A00010893\n",
      "  - Tract IPL_R_gwfa_dPMC_L_gwfa not found. Skipping.\n",
      "  Finished tract IPL_R_gwfa_dPMC_R_gwfa for subject A00010893\n",
      "  - Tract IPL_R_gwfa_vPMC_L_gwfa not found. Skipping.\n",
      "  Finished tract IPL_R_gwfa_vPMC_R_gwfa for subject A00010893\n",
      "  Finished tract IPS_L_gwfa_IPS_R_gwfa for subject A00010893\n",
      "  Finished tract IPS_L_gwfa_SPL_L_gwfa for subject A00010893\n",
      "  Finished tract IPS_L_gwfa_SPL_R_gwfa for subject A00010893\n",
      "  Finished tract IPS_L_gwfa_dPMC_L_gwfa for subject A00010893\n",
      "  Finished tract IPS_L_gwfa_dPMC_R_gwfa for subject A00010893\n",
      "  Finished tract IPS_L_gwfa_vPMC_L_gwfa for subject A00010893\n",
      "  Finished tract IPS_L_gwfa_vPMC_R_gwfa for subject A00010893\n",
      "  Finished tract IPS_R_gwfa_SPL_L_gwfa for subject A00010893\n",
      "  Finished tract IPS_R_gwfa_SPL_R_gwfa for subject A00010893\n",
      "  - Tract IPS_R_gwfa_dPMC_L_gwfa not found. Skipping.\n",
      "  Finished tract IPS_R_gwfa_dPMC_R_gwfa for subject A00010893\n",
      "  - Tract IPS_R_gwfa_vPMC_L_gwfa not found. Skipping.\n",
      "  Finished tract IPS_R_gwfa_vPMC_R_gwfa for subject A00010893\n",
      "  Finished tract SPL_L_gwfa_SPL_R_gwfa for subject A00010893\n",
      "  Finished tract SPL_L_gwfa_dPMC_L_gwfa for subject A00010893\n",
      "  Finished tract SPL_L_gwfa_dPMC_R_gwfa for subject A00010893\n",
      "  Finished tract SPL_L_gwfa_vPMC_L_gwfa for subject A00010893\n",
      "  - Tract SPL_L_gwfa_vPMC_R_gwfa not found. Skipping.\n",
      "  Finished tract SPL_R_gwfa_dPMC_L_gwfa for subject A00010893\n",
      "  Finished tract SPL_R_gwfa_dPMC_R_gwfa for subject A00010893\n",
      "  Finished tract SPL_R_gwfa_vPMC_L_gwfa for subject A00010893\n",
      "  Finished tract SPL_R_gwfa_vPMC_R_gwfa for subject A00010893\n",
      "  Finished tract dPMC_L_gwfa_dPMC_R_gwfa for subject A00010893\n",
      "  Finished tract dPMC_L_gwfa_vPMC_L_gwfa for subject A00010893\n",
      "  Finished tract dPMC_L_gwfa_vPMC_R_gwfa for subject A00010893\n",
      "  Finished tract dPMC_R_gwfa_vPMC_L_gwfa for subject A00010893\n",
      "  Finished tract dPMC_R_gwfa_vPMC_R_gwfa for subject A00010893\n",
      "  Finished tract vPMC_L_gwfa_vPMC_R_gwfa for subject A00010893\n",
      "Successfully processed subject A00010893.\n",
      "Starting processing of subject A00013809.\n",
      "  Finished tract IPL_L_gwfa_IPL_R_gwfa for subject A00013809\n",
      "  Finished tract IPL_L_gwfa_IPS_L_gwfa for subject A00013809\n",
      "  Finished tract IPL_L_gwfa_IPS_R_gwfa for subject A00013809\n",
      "  Finished tract IPL_L_gwfa_SPL_L_gwfa for subject A00013809\n",
      "  Finished tract IPL_L_gwfa_SPL_R_gwfa for subject A00013809\n",
      "  Finished tract IPL_L_gwfa_dPMC_L_gwfa for subject A00013809\n",
      "  - Tract IPL_L_gwfa_dPMC_R_gwfa not found. Skipping.\n",
      "  Finished tract IPL_L_gwfa_vPMC_L_gwfa for subject A00013809\n",
      "  Finished tract IPL_L_gwfa_vPMC_R_gwfa for subject A00013809\n",
      "  Finished tract IPL_R_gwfa_IPS_L_gwfa for subject A00013809\n",
      "  Finished tract IPL_R_gwfa_IPS_R_gwfa for subject A00013809\n",
      "  Finished tract IPL_R_gwfa_SPL_L_gwfa for subject A00013809\n",
      "  Finished tract IPL_R_gwfa_SPL_R_gwfa for subject A00013809\n",
      "  - Tract IPL_R_gwfa_dPMC_L_gwfa not found. Skipping.\n",
      "  Finished tract IPL_R_gwfa_dPMC_R_gwfa for subject A00013809\n",
      "  - Tract IPL_R_gwfa_vPMC_L_gwfa not found. Skipping.\n",
      "  Finished tract IPL_R_gwfa_vPMC_R_gwfa for subject A00013809\n",
      "  Finished tract IPS_L_gwfa_IPS_R_gwfa for subject A00013809\n",
      "  Finished tract IPS_L_gwfa_SPL_L_gwfa for subject A00013809\n",
      "  Finished tract IPS_L_gwfa_SPL_R_gwfa for subject A00013809\n",
      "  Finished tract IPS_L_gwfa_dPMC_L_gwfa for subject A00013809\n",
      "  Finished tract IPS_L_gwfa_dPMC_R_gwfa for subject A00013809\n",
      "  Finished tract IPS_L_gwfa_vPMC_L_gwfa for subject A00013809\n",
      "  Finished tract IPS_L_gwfa_vPMC_R_gwfa for subject A00013809\n",
      "  Finished tract IPS_R_gwfa_SPL_L_gwfa for subject A00013809\n",
      "  Finished tract IPS_R_gwfa_SPL_R_gwfa for subject A00013809\n",
      "  - Tract IPS_R_gwfa_dPMC_L_gwfa not found. Skipping.\n",
      "  Finished tract IPS_R_gwfa_dPMC_R_gwfa for subject A00013809\n",
      "  - Tract IPS_R_gwfa_vPMC_L_gwfa not found. Skipping.\n",
      "  Finished tract IPS_R_gwfa_vPMC_R_gwfa for subject A00013809\n",
      "  Finished tract SPL_L_gwfa_SPL_R_gwfa for subject A00013809\n",
      "  Finished tract SPL_L_gwfa_dPMC_L_gwfa for subject A00013809\n",
      "  Finished tract SPL_L_gwfa_dPMC_R_gwfa for subject A00013809\n",
      "  Finished tract SPL_L_gwfa_vPMC_L_gwfa for subject A00013809\n",
      "  - Tract SPL_L_gwfa_vPMC_R_gwfa not found. Skipping.\n",
      "  Finished tract SPL_R_gwfa_dPMC_L_gwfa for subject A00013809\n",
      "  Finished tract SPL_R_gwfa_dPMC_R_gwfa for subject A00013809\n",
      "  Finished tract SPL_R_gwfa_vPMC_L_gwfa for subject A00013809\n",
      "  Finished tract SPL_R_gwfa_vPMC_R_gwfa for subject A00013809\n",
      "  Finished tract dPMC_L_gwfa_dPMC_R_gwfa for subject A00013809\n",
      "  Finished tract dPMC_L_gwfa_vPMC_L_gwfa for subject A00013809\n",
      "  Finished tract dPMC_L_gwfa_vPMC_R_gwfa for subject A00013809\n"
     ]
    },
    {
     "name": "stdout",
     "output_type": "stream",
     "text": [
      "  Finished tract dPMC_R_gwfa_vPMC_L_gwfa for subject A00013809\n",
      "  Finished tract dPMC_R_gwfa_vPMC_R_gwfa for subject A00013809\n",
      "  Finished tract vPMC_L_gwfa_vPMC_R_gwfa for subject A00013809\n",
      "Successfully processed subject A00013809.\n",
      "Starting processing of subject A00021039.\n",
      "  Finished tract IPL_L_gwfa_IPL_R_gwfa for subject A00021039\n",
      "  Finished tract IPL_L_gwfa_IPS_L_gwfa for subject A00021039\n",
      "  Finished tract IPL_L_gwfa_IPS_R_gwfa for subject A00021039\n",
      "  Finished tract IPL_L_gwfa_SPL_L_gwfa for subject A00021039\n",
      "  Finished tract IPL_L_gwfa_SPL_R_gwfa for subject A00021039\n",
      "  Finished tract IPL_L_gwfa_dPMC_L_gwfa for subject A00021039\n",
      "  - Tract IPL_L_gwfa_dPMC_R_gwfa not found. Skipping.\n",
      "  Finished tract IPL_L_gwfa_vPMC_L_gwfa for subject A00021039\n",
      "  Finished tract IPL_L_gwfa_vPMC_R_gwfa for subject A00021039\n",
      "  Finished tract IPL_R_gwfa_IPS_L_gwfa for subject A00021039\n",
      "  Finished tract IPL_R_gwfa_IPS_R_gwfa for subject A00021039\n",
      "  Finished tract IPL_R_gwfa_SPL_L_gwfa for subject A00021039\n",
      "  Finished tract IPL_R_gwfa_SPL_R_gwfa for subject A00021039\n",
      "  - Tract IPL_R_gwfa_dPMC_L_gwfa not found. Skipping.\n",
      "  Finished tract IPL_R_gwfa_dPMC_R_gwfa for subject A00021039\n",
      "  - Tract IPL_R_gwfa_vPMC_L_gwfa not found. Skipping.\n",
      "  Finished tract IPL_R_gwfa_vPMC_R_gwfa for subject A00021039\n",
      "  Finished tract IPS_L_gwfa_IPS_R_gwfa for subject A00021039\n",
      "  Finished tract IPS_L_gwfa_SPL_L_gwfa for subject A00021039\n",
      "  Finished tract IPS_L_gwfa_SPL_R_gwfa for subject A00021039\n",
      "  Finished tract IPS_L_gwfa_dPMC_L_gwfa for subject A00021039\n",
      "  Finished tract IPS_L_gwfa_dPMC_R_gwfa for subject A00021039\n",
      "  Finished tract IPS_L_gwfa_vPMC_L_gwfa for subject A00021039\n",
      "  Finished tract IPS_L_gwfa_vPMC_R_gwfa for subject A00021039\n",
      "  Finished tract IPS_R_gwfa_SPL_L_gwfa for subject A00021039\n",
      "  Finished tract IPS_R_gwfa_SPL_R_gwfa for subject A00021039\n",
      "  - Tract IPS_R_gwfa_dPMC_L_gwfa not found. Skipping.\n",
      "  Finished tract IPS_R_gwfa_dPMC_R_gwfa for subject A00021039\n",
      "  - Tract IPS_R_gwfa_vPMC_L_gwfa not found. Skipping.\n",
      "  Finished tract IPS_R_gwfa_vPMC_R_gwfa for subject A00021039\n",
      "  Finished tract SPL_L_gwfa_SPL_R_gwfa for subject A00021039\n",
      "  Finished tract SPL_L_gwfa_dPMC_L_gwfa for subject A00021039\n",
      "  Finished tract SPL_L_gwfa_dPMC_R_gwfa for subject A00021039\n",
      "  Finished tract SPL_L_gwfa_vPMC_L_gwfa for subject A00021039\n",
      "  - Tract SPL_L_gwfa_vPMC_R_gwfa not found. Skipping.\n",
      "  Finished tract SPL_R_gwfa_dPMC_L_gwfa for subject A00021039\n",
      "  Finished tract SPL_R_gwfa_dPMC_R_gwfa for subject A00021039\n",
      "  Finished tract SPL_R_gwfa_vPMC_L_gwfa for subject A00021039\n",
      "  Finished tract SPL_R_gwfa_vPMC_R_gwfa for subject A00021039\n",
      "  Finished tract dPMC_L_gwfa_dPMC_R_gwfa for subject A00021039\n",
      "  Finished tract dPMC_L_gwfa_vPMC_L_gwfa for subject A00021039\n",
      "  Finished tract dPMC_L_gwfa_vPMC_R_gwfa for subject A00021039\n",
      "  Finished tract dPMC_R_gwfa_vPMC_L_gwfa for subject A00021039\n",
      "  Finished tract dPMC_R_gwfa_vPMC_R_gwfa for subject A00021039\n",
      "  Finished tract vPMC_L_gwfa_vPMC_R_gwfa for subject A00021039\n",
      "Successfully processed subject A00021039.\n",
      "Starting processing of subject A00023510.\n",
      "  Finished tract IPL_L_gwfa_IPL_R_gwfa for subject A00023510\n",
      "  Finished tract IPL_L_gwfa_IPS_L_gwfa for subject A00023510\n",
      "  Finished tract IPL_L_gwfa_IPS_R_gwfa for subject A00023510\n",
      "  Finished tract IPL_L_gwfa_SPL_L_gwfa for subject A00023510\n",
      "  Finished tract IPL_L_gwfa_SPL_R_gwfa for subject A00023510\n",
      "  Finished tract IPL_L_gwfa_dPMC_L_gwfa for subject A00023510\n",
      "  - Tract IPL_L_gwfa_dPMC_R_gwfa not found. Skipping.\n",
      "  Finished tract IPL_L_gwfa_vPMC_L_gwfa for subject A00023510\n",
      "  Finished tract IPL_L_gwfa_vPMC_R_gwfa for subject A00023510\n",
      "  Finished tract IPL_R_gwfa_IPS_L_gwfa for subject A00023510\n",
      "  Finished tract IPL_R_gwfa_IPS_R_gwfa for subject A00023510\n",
      "  Finished tract IPL_R_gwfa_SPL_L_gwfa for subject A00023510\n",
      "  Finished tract IPL_R_gwfa_SPL_R_gwfa for subject A00023510\n",
      "  - Tract IPL_R_gwfa_dPMC_L_gwfa not found. Skipping.\n",
      "  Finished tract IPL_R_gwfa_dPMC_R_gwfa for subject A00023510\n",
      "  - Tract IPL_R_gwfa_vPMC_L_gwfa not found. Skipping.\n",
      "  Finished tract IPL_R_gwfa_vPMC_R_gwfa for subject A00023510\n",
      "  Finished tract IPS_L_gwfa_IPS_R_gwfa for subject A00023510\n",
      "  Finished tract IPS_L_gwfa_SPL_L_gwfa for subject A00023510\n",
      "  Finished tract IPS_L_gwfa_SPL_R_gwfa for subject A00023510\n",
      "  Finished tract IPS_L_gwfa_dPMC_L_gwfa for subject A00023510\n",
      "  Finished tract IPS_L_gwfa_dPMC_R_gwfa for subject A00023510\n",
      "  Finished tract IPS_L_gwfa_vPMC_L_gwfa for subject A00023510\n",
      "  Finished tract IPS_L_gwfa_vPMC_R_gwfa for subject A00023510\n",
      "  Finished tract IPS_R_gwfa_SPL_L_gwfa for subject A00023510\n",
      "  Finished tract IPS_R_gwfa_SPL_R_gwfa for subject A00023510\n",
      "  - Tract IPS_R_gwfa_dPMC_L_gwfa not found. Skipping.\n",
      "  Finished tract IPS_R_gwfa_dPMC_R_gwfa for subject A00023510\n",
      "  - Tract IPS_R_gwfa_vPMC_L_gwfa not found. Skipping.\n",
      "  Finished tract IPS_R_gwfa_vPMC_R_gwfa for subject A00023510\n",
      "  Finished tract SPL_L_gwfa_SPL_R_gwfa for subject A00023510\n",
      "  Finished tract SPL_L_gwfa_dPMC_L_gwfa for subject A00023510\n",
      "  Finished tract SPL_L_gwfa_dPMC_R_gwfa for subject A00023510\n",
      "  Finished tract SPL_L_gwfa_vPMC_L_gwfa for subject A00023510\n",
      "  - Tract SPL_L_gwfa_vPMC_R_gwfa not found. Skipping.\n",
      "  Finished tract SPL_R_gwfa_dPMC_L_gwfa for subject A00023510\n",
      "  Finished tract SPL_R_gwfa_dPMC_R_gwfa for subject A00023510\n",
      "  Finished tract SPL_R_gwfa_vPMC_L_gwfa for subject A00023510\n",
      "  Finished tract SPL_R_gwfa_vPMC_R_gwfa for subject A00023510\n",
      "  Finished tract dPMC_L_gwfa_dPMC_R_gwfa for subject A00023510\n",
      "  Finished tract dPMC_L_gwfa_vPMC_L_gwfa for subject A00023510\n",
      "  Finished tract dPMC_L_gwfa_vPMC_R_gwfa for subject A00023510\n",
      "  Finished tract dPMC_R_gwfa_vPMC_L_gwfa for subject A00023510\n",
      "  Finished tract dPMC_R_gwfa_vPMC_R_gwfa for subject A00023510\n",
      "  Finished tract vPMC_L_gwfa_vPMC_R_gwfa for subject A00023510\n",
      "Successfully processed subject A00023510.\n",
      "Starting processing of subject A00025566.\n",
      "  Finished tract IPL_L_gwfa_IPL_R_gwfa for subject A00025566\n",
      "  Finished tract IPL_L_gwfa_IPS_L_gwfa for subject A00025566\n",
      "  Finished tract IPL_L_gwfa_IPS_R_gwfa for subject A00025566\n",
      "  Finished tract IPL_L_gwfa_SPL_L_gwfa for subject A00025566\n",
      "  Finished tract IPL_L_gwfa_SPL_R_gwfa for subject A00025566\n",
      "  Finished tract IPL_L_gwfa_dPMC_L_gwfa for subject A00025566\n",
      "  - Tract IPL_L_gwfa_dPMC_R_gwfa not found. Skipping.\n",
      "  Finished tract IPL_L_gwfa_vPMC_L_gwfa for subject A00025566\n",
      "  Finished tract IPL_L_gwfa_vPMC_R_gwfa for subject A00025566\n",
      "  Finished tract IPL_R_gwfa_IPS_L_gwfa for subject A00025566\n",
      "  Finished tract IPL_R_gwfa_IPS_R_gwfa for subject A00025566\n",
      "  Finished tract IPL_R_gwfa_SPL_L_gwfa for subject A00025566\n",
      "  Finished tract IPL_R_gwfa_SPL_R_gwfa for subject A00025566\n",
      "  - Tract IPL_R_gwfa_dPMC_L_gwfa not found. Skipping.\n",
      "  Finished tract IPL_R_gwfa_dPMC_R_gwfa for subject A00025566\n",
      "  - Tract IPL_R_gwfa_vPMC_L_gwfa not found. Skipping.\n",
      "  Finished tract IPL_R_gwfa_vPMC_R_gwfa for subject A00025566\n",
      "  Finished tract IPS_L_gwfa_IPS_R_gwfa for subject A00025566\n",
      "  Finished tract IPS_L_gwfa_SPL_L_gwfa for subject A00025566\n",
      "  Finished tract IPS_L_gwfa_SPL_R_gwfa for subject A00025566\n",
      "  Finished tract IPS_L_gwfa_dPMC_L_gwfa for subject A00025566\n",
      "  Finished tract IPS_L_gwfa_dPMC_R_gwfa for subject A00025566\n",
      "  Finished tract IPS_L_gwfa_vPMC_L_gwfa for subject A00025566\n",
      "  Finished tract IPS_L_gwfa_vPMC_R_gwfa for subject A00025566\n",
      "  Finished tract IPS_R_gwfa_SPL_L_gwfa for subject A00025566\n",
      "  Finished tract IPS_R_gwfa_SPL_R_gwfa for subject A00025566\n",
      "  - Tract IPS_R_gwfa_dPMC_L_gwfa not found. Skipping.\n",
      "  Finished tract IPS_R_gwfa_dPMC_R_gwfa for subject A00025566\n",
      "  - Tract IPS_R_gwfa_vPMC_L_gwfa not found. Skipping.\n",
      "  Finished tract IPS_R_gwfa_vPMC_R_gwfa for subject A00025566\n",
      "  Finished tract SPL_L_gwfa_SPL_R_gwfa for subject A00025566\n",
      "  Finished tract SPL_L_gwfa_dPMC_L_gwfa for subject A00025566\n",
      "  Finished tract SPL_L_gwfa_dPMC_R_gwfa for subject A00025566\n",
      "  Finished tract SPL_L_gwfa_vPMC_L_gwfa for subject A00025566\n",
      "  - Tract SPL_L_gwfa_vPMC_R_gwfa not found. Skipping.\n",
      "  Finished tract SPL_R_gwfa_dPMC_L_gwfa for subject A00025566\n",
      "  Finished tract SPL_R_gwfa_dPMC_R_gwfa for subject A00025566\n",
      "  Finished tract SPL_R_gwfa_vPMC_L_gwfa for subject A00025566\n"
     ]
    },
    {
     "name": "stdout",
     "output_type": "stream",
     "text": [
      "  Finished tract SPL_R_gwfa_vPMC_R_gwfa for subject A00025566\n",
      "  Finished tract dPMC_L_gwfa_dPMC_R_gwfa for subject A00025566\n",
      "  Finished tract dPMC_L_gwfa_vPMC_L_gwfa for subject A00025566\n",
      "  Finished tract dPMC_L_gwfa_vPMC_R_gwfa for subject A00025566\n",
      "  Finished tract dPMC_R_gwfa_vPMC_L_gwfa for subject A00025566\n",
      "  Finished tract dPMC_R_gwfa_vPMC_R_gwfa for subject A00025566\n",
      "  Finished tract vPMC_L_gwfa_vPMC_R_gwfa for subject A00025566\n",
      "Successfully processed subject A00025566.\n",
      "Starting processing of subject A00027651.\n",
      "  Finished tract IPL_L_gwfa_IPL_R_gwfa for subject A00027651\n",
      "  Finished tract IPL_L_gwfa_IPS_L_gwfa for subject A00027651\n",
      "  Finished tract IPL_L_gwfa_IPS_R_gwfa for subject A00027651\n",
      "  Finished tract IPL_L_gwfa_SPL_L_gwfa for subject A00027651\n",
      "  Finished tract IPL_L_gwfa_SPL_R_gwfa for subject A00027651\n",
      "  Finished tract IPL_L_gwfa_dPMC_L_gwfa for subject A00027651\n",
      "  - Tract IPL_L_gwfa_dPMC_R_gwfa not found. Skipping.\n",
      "  Finished tract IPL_L_gwfa_vPMC_L_gwfa for subject A00027651\n",
      "  Finished tract IPL_L_gwfa_vPMC_R_gwfa for subject A00027651\n",
      "  Finished tract IPL_R_gwfa_IPS_L_gwfa for subject A00027651\n",
      "  Finished tract IPL_R_gwfa_IPS_R_gwfa for subject A00027651\n",
      "  Finished tract IPL_R_gwfa_SPL_L_gwfa for subject A00027651\n",
      "  Finished tract IPL_R_gwfa_SPL_R_gwfa for subject A00027651\n",
      "  - Tract IPL_R_gwfa_dPMC_L_gwfa not found. Skipping.\n",
      "  Finished tract IPL_R_gwfa_dPMC_R_gwfa for subject A00027651\n",
      "  - Tract IPL_R_gwfa_vPMC_L_gwfa not found. Skipping.\n",
      "  Finished tract IPL_R_gwfa_vPMC_R_gwfa for subject A00027651\n",
      "  Finished tract IPS_L_gwfa_IPS_R_gwfa for subject A00027651\n",
      "  Finished tract IPS_L_gwfa_SPL_L_gwfa for subject A00027651\n",
      "  Finished tract IPS_L_gwfa_SPL_R_gwfa for subject A00027651\n",
      "  Finished tract IPS_L_gwfa_dPMC_L_gwfa for subject A00027651\n",
      "  Finished tract IPS_L_gwfa_dPMC_R_gwfa for subject A00027651\n",
      "  Finished tract IPS_L_gwfa_vPMC_L_gwfa for subject A00027651\n",
      "  Finished tract IPS_L_gwfa_vPMC_R_gwfa for subject A00027651\n",
      "  Finished tract IPS_R_gwfa_SPL_L_gwfa for subject A00027651\n",
      "  Finished tract IPS_R_gwfa_SPL_R_gwfa for subject A00027651\n",
      "  - Tract IPS_R_gwfa_dPMC_L_gwfa not found. Skipping.\n",
      "  Finished tract IPS_R_gwfa_dPMC_R_gwfa for subject A00027651\n",
      "  - Tract IPS_R_gwfa_vPMC_L_gwfa not found. Skipping.\n",
      "  Finished tract IPS_R_gwfa_vPMC_R_gwfa for subject A00027651\n",
      "  Finished tract SPL_L_gwfa_SPL_R_gwfa for subject A00027651\n",
      "  Finished tract SPL_L_gwfa_dPMC_L_gwfa for subject A00027651\n",
      "  Finished tract SPL_L_gwfa_dPMC_R_gwfa for subject A00027651\n",
      "  Finished tract SPL_L_gwfa_vPMC_L_gwfa for subject A00027651\n",
      "  - Tract SPL_L_gwfa_vPMC_R_gwfa not found. Skipping.\n",
      "  Finished tract SPL_R_gwfa_dPMC_L_gwfa for subject A00027651\n",
      "  Finished tract SPL_R_gwfa_dPMC_R_gwfa for subject A00027651\n",
      "  Finished tract SPL_R_gwfa_vPMC_L_gwfa for subject A00027651\n",
      "  Finished tract SPL_R_gwfa_vPMC_R_gwfa for subject A00027651\n",
      "  Finished tract dPMC_L_gwfa_dPMC_R_gwfa for subject A00027651\n",
      "  Finished tract dPMC_L_gwfa_vPMC_L_gwfa for subject A00027651\n",
      "  Finished tract dPMC_L_gwfa_vPMC_R_gwfa for subject A00027651\n",
      "  Finished tract dPMC_R_gwfa_vPMC_L_gwfa for subject A00027651\n",
      "  Finished tract dPMC_R_gwfa_vPMC_R_gwfa for subject A00027651\n",
      "  Finished tract vPMC_L_gwfa_vPMC_R_gwfa for subject A00027651\n",
      "Successfully processed subject A00027651.\n",
      "Starting processing of subject A00028150.\n",
      "  Finished tract IPL_L_gwfa_IPL_R_gwfa for subject A00028150\n",
      "  Finished tract IPL_L_gwfa_IPS_L_gwfa for subject A00028150\n",
      "  Finished tract IPL_L_gwfa_IPS_R_gwfa for subject A00028150\n",
      "  Finished tract IPL_L_gwfa_SPL_L_gwfa for subject A00028150\n",
      "  Finished tract IPL_L_gwfa_SPL_R_gwfa for subject A00028150\n",
      "  Finished tract IPL_L_gwfa_dPMC_L_gwfa for subject A00028150\n",
      "  - Tract IPL_L_gwfa_dPMC_R_gwfa not found. Skipping.\n",
      "  Finished tract IPL_L_gwfa_vPMC_L_gwfa for subject A00028150\n",
      "  Finished tract IPL_L_gwfa_vPMC_R_gwfa for subject A00028150\n",
      "  Finished tract IPL_R_gwfa_IPS_L_gwfa for subject A00028150\n",
      "  Finished tract IPL_R_gwfa_IPS_R_gwfa for subject A00028150\n",
      "  Finished tract IPL_R_gwfa_SPL_L_gwfa for subject A00028150\n",
      "  Finished tract IPL_R_gwfa_SPL_R_gwfa for subject A00028150\n",
      "  - Tract IPL_R_gwfa_dPMC_L_gwfa not found. Skipping.\n",
      "  Finished tract IPL_R_gwfa_dPMC_R_gwfa for subject A00028150\n",
      "  - Tract IPL_R_gwfa_vPMC_L_gwfa not found. Skipping.\n",
      "  Finished tract IPL_R_gwfa_vPMC_R_gwfa for subject A00028150\n",
      "  Finished tract IPS_L_gwfa_IPS_R_gwfa for subject A00028150\n",
      "  Finished tract IPS_L_gwfa_SPL_L_gwfa for subject A00028150\n",
      "  Finished tract IPS_L_gwfa_SPL_R_gwfa for subject A00028150\n",
      "  Finished tract IPS_L_gwfa_dPMC_L_gwfa for subject A00028150\n",
      "  Finished tract IPS_L_gwfa_dPMC_R_gwfa for subject A00028150\n",
      "  Finished tract IPS_L_gwfa_vPMC_L_gwfa for subject A00028150\n",
      "  Finished tract IPS_L_gwfa_vPMC_R_gwfa for subject A00028150\n",
      "  Finished tract IPS_R_gwfa_SPL_L_gwfa for subject A00028150\n",
      "  Finished tract IPS_R_gwfa_SPL_R_gwfa for subject A00028150\n",
      "  - Tract IPS_R_gwfa_dPMC_L_gwfa not found. Skipping.\n",
      "  Finished tract IPS_R_gwfa_dPMC_R_gwfa for subject A00028150\n",
      "  - Tract IPS_R_gwfa_vPMC_L_gwfa not found. Skipping.\n",
      "  Finished tract IPS_R_gwfa_vPMC_R_gwfa for subject A00028150\n",
      "  Finished tract SPL_L_gwfa_SPL_R_gwfa for subject A00028150\n",
      "  Finished tract SPL_L_gwfa_dPMC_L_gwfa for subject A00028150\n",
      "  Finished tract SPL_L_gwfa_dPMC_R_gwfa for subject A00028150\n",
      "  Finished tract SPL_L_gwfa_vPMC_L_gwfa for subject A00028150\n",
      "  - Tract SPL_L_gwfa_vPMC_R_gwfa not found. Skipping.\n",
      "  Finished tract SPL_R_gwfa_dPMC_L_gwfa for subject A00028150\n",
      "  Finished tract SPL_R_gwfa_dPMC_R_gwfa for subject A00028150\n",
      "  Finished tract SPL_R_gwfa_vPMC_L_gwfa for subject A00028150\n",
      "  Finished tract SPL_R_gwfa_vPMC_R_gwfa for subject A00028150\n",
      "  Finished tract dPMC_L_gwfa_dPMC_R_gwfa for subject A00028150\n",
      "  Finished tract dPMC_L_gwfa_vPMC_L_gwfa for subject A00028150\n",
      "  Finished tract dPMC_L_gwfa_vPMC_R_gwfa for subject A00028150\n",
      "  Finished tract dPMC_R_gwfa_vPMC_L_gwfa for subject A00028150\n",
      "  Finished tract dPMC_R_gwfa_vPMC_R_gwfa for subject A00028150\n",
      "  Finished tract vPMC_L_gwfa_vPMC_R_gwfa for subject A00028150\n",
      "Successfully processed subject A00028150.\n",
      "Starting processing of subject A00028184.\n",
      "  Finished tract IPL_L_gwfa_IPL_R_gwfa for subject A00028184\n",
      "  Finished tract IPL_L_gwfa_IPS_L_gwfa for subject A00028184\n",
      "  Finished tract IPL_L_gwfa_IPS_R_gwfa for subject A00028184\n",
      "  Finished tract IPL_L_gwfa_SPL_L_gwfa for subject A00028184\n",
      "  Finished tract IPL_L_gwfa_SPL_R_gwfa for subject A00028184\n",
      "  Finished tract IPL_L_gwfa_dPMC_L_gwfa for subject A00028184\n",
      "  - Tract IPL_L_gwfa_dPMC_R_gwfa not found. Skipping.\n",
      "  Finished tract IPL_L_gwfa_vPMC_L_gwfa for subject A00028184\n",
      "  Finished tract IPL_L_gwfa_vPMC_R_gwfa for subject A00028184\n",
      "  Finished tract IPL_R_gwfa_IPS_L_gwfa for subject A00028184\n",
      "  Finished tract IPL_R_gwfa_IPS_R_gwfa for subject A00028184\n",
      "  Finished tract IPL_R_gwfa_SPL_L_gwfa for subject A00028184\n",
      "  Finished tract IPL_R_gwfa_SPL_R_gwfa for subject A00028184\n",
      "  - Tract IPL_R_gwfa_dPMC_L_gwfa not found. Skipping.\n",
      "  Finished tract IPL_R_gwfa_dPMC_R_gwfa for subject A00028184\n",
      "  - Tract IPL_R_gwfa_vPMC_L_gwfa not found. Skipping.\n",
      "  Finished tract IPL_R_gwfa_vPMC_R_gwfa for subject A00028184\n",
      "  Finished tract IPS_L_gwfa_IPS_R_gwfa for subject A00028184\n",
      "  Finished tract IPS_L_gwfa_SPL_L_gwfa for subject A00028184\n",
      "  Finished tract IPS_L_gwfa_SPL_R_gwfa for subject A00028184\n",
      "  Finished tract IPS_L_gwfa_dPMC_L_gwfa for subject A00028184\n",
      "  Finished tract IPS_L_gwfa_dPMC_R_gwfa for subject A00028184\n",
      "  Finished tract IPS_L_gwfa_vPMC_L_gwfa for subject A00028184\n",
      "  Finished tract IPS_L_gwfa_vPMC_R_gwfa for subject A00028184\n",
      "  Finished tract IPS_R_gwfa_SPL_L_gwfa for subject A00028184\n",
      "  Finished tract IPS_R_gwfa_SPL_R_gwfa for subject A00028184\n",
      "  - Tract IPS_R_gwfa_dPMC_L_gwfa not found. Skipping.\n",
      "  Finished tract IPS_R_gwfa_dPMC_R_gwfa for subject A00028184\n",
      "  - Tract IPS_R_gwfa_vPMC_L_gwfa not found. Skipping.\n",
      "  Finished tract IPS_R_gwfa_vPMC_R_gwfa for subject A00028184\n",
      "  Finished tract SPL_L_gwfa_SPL_R_gwfa for subject A00028184\n",
      "  Finished tract SPL_L_gwfa_dPMC_L_gwfa for subject A00028184\n",
      "  Finished tract SPL_L_gwfa_dPMC_R_gwfa for subject A00028184\n",
      "  Finished tract SPL_L_gwfa_vPMC_L_gwfa for subject A00028184\n",
      "  - Tract SPL_L_gwfa_vPMC_R_gwfa not found. Skipping.\n"
     ]
    },
    {
     "name": "stdout",
     "output_type": "stream",
     "text": [
      "  Finished tract SPL_R_gwfa_dPMC_L_gwfa for subject A00028184\n",
      "  Finished tract SPL_R_gwfa_dPMC_R_gwfa for subject A00028184\n",
      "  Finished tract SPL_R_gwfa_vPMC_L_gwfa for subject A00028184\n",
      "  Finished tract SPL_R_gwfa_vPMC_R_gwfa for subject A00028184\n",
      "  Finished tract dPMC_L_gwfa_dPMC_R_gwfa for subject A00028184\n",
      "  Finished tract dPMC_L_gwfa_vPMC_L_gwfa for subject A00028184\n",
      "  Finished tract dPMC_L_gwfa_vPMC_R_gwfa for subject A00028184\n",
      "  Finished tract dPMC_R_gwfa_vPMC_L_gwfa for subject A00028184\n",
      "  Finished tract dPMC_R_gwfa_vPMC_R_gwfa for subject A00028184\n",
      "  Finished tract vPMC_L_gwfa_vPMC_R_gwfa for subject A00028184\n",
      "Successfully processed subject A00028184.\n",
      "Starting processing of subject A00028185.\n",
      "  Finished tract IPL_L_gwfa_IPL_R_gwfa for subject A00028185\n",
      "  Finished tract IPL_L_gwfa_IPS_L_gwfa for subject A00028185\n",
      "  Finished tract IPL_L_gwfa_IPS_R_gwfa for subject A00028185\n",
      "  Finished tract IPL_L_gwfa_SPL_L_gwfa for subject A00028185\n",
      "  Finished tract IPL_L_gwfa_SPL_R_gwfa for subject A00028185\n",
      "  Finished tract IPL_L_gwfa_dPMC_L_gwfa for subject A00028185\n",
      "  - Tract IPL_L_gwfa_dPMC_R_gwfa not found. Skipping.\n",
      "  Finished tract IPL_L_gwfa_vPMC_L_gwfa for subject A00028185\n",
      "  Finished tract IPL_L_gwfa_vPMC_R_gwfa for subject A00028185\n",
      "  Finished tract IPL_R_gwfa_IPS_L_gwfa for subject A00028185\n",
      "  Finished tract IPL_R_gwfa_IPS_R_gwfa for subject A00028185\n",
      "  Finished tract IPL_R_gwfa_SPL_L_gwfa for subject A00028185\n",
      "  Finished tract IPL_R_gwfa_SPL_R_gwfa for subject A00028185\n",
      "  - Tract IPL_R_gwfa_dPMC_L_gwfa not found. Skipping.\n",
      "  Finished tract IPL_R_gwfa_dPMC_R_gwfa for subject A00028185\n",
      "  - Tract IPL_R_gwfa_vPMC_L_gwfa not found. Skipping.\n",
      "  Finished tract IPL_R_gwfa_vPMC_R_gwfa for subject A00028185\n",
      "  Finished tract IPS_L_gwfa_IPS_R_gwfa for subject A00028185\n",
      "  Finished tract IPS_L_gwfa_SPL_L_gwfa for subject A00028185\n",
      "  Finished tract IPS_L_gwfa_SPL_R_gwfa for subject A00028185\n",
      "  Finished tract IPS_L_gwfa_dPMC_L_gwfa for subject A00028185\n",
      "  Finished tract IPS_L_gwfa_dPMC_R_gwfa for subject A00028185\n",
      "  Finished tract IPS_L_gwfa_vPMC_L_gwfa for subject A00028185\n",
      "  Finished tract IPS_L_gwfa_vPMC_R_gwfa for subject A00028185\n",
      "  Finished tract IPS_R_gwfa_SPL_L_gwfa for subject A00028185\n",
      "  Finished tract IPS_R_gwfa_SPL_R_gwfa for subject A00028185\n",
      "  - Tract IPS_R_gwfa_dPMC_L_gwfa not found. Skipping.\n",
      "  Finished tract IPS_R_gwfa_dPMC_R_gwfa for subject A00028185\n",
      "  - Tract IPS_R_gwfa_vPMC_L_gwfa not found. Skipping.\n",
      "  Finished tract IPS_R_gwfa_vPMC_R_gwfa for subject A00028185\n",
      "  Finished tract SPL_L_gwfa_SPL_R_gwfa for subject A00028185\n",
      "  Finished tract SPL_L_gwfa_dPMC_L_gwfa for subject A00028185\n",
      "  Finished tract SPL_L_gwfa_dPMC_R_gwfa for subject A00028185\n",
      "  Finished tract SPL_L_gwfa_vPMC_L_gwfa for subject A00028185\n",
      "  - Tract SPL_L_gwfa_vPMC_R_gwfa not found. Skipping.\n",
      "  Finished tract SPL_R_gwfa_dPMC_L_gwfa for subject A00028185\n",
      "  Finished tract SPL_R_gwfa_dPMC_R_gwfa for subject A00028185\n",
      "  Finished tract SPL_R_gwfa_vPMC_L_gwfa for subject A00028185\n",
      "  Finished tract SPL_R_gwfa_vPMC_R_gwfa for subject A00028185\n",
      "  Finished tract dPMC_L_gwfa_dPMC_R_gwfa for subject A00028185\n",
      "  Finished tract dPMC_L_gwfa_vPMC_L_gwfa for subject A00028185\n",
      "  Finished tract dPMC_L_gwfa_vPMC_R_gwfa for subject A00028185\n",
      "  Finished tract dPMC_R_gwfa_vPMC_L_gwfa for subject A00028185\n",
      "  Finished tract dPMC_R_gwfa_vPMC_R_gwfa for subject A00028185\n",
      "  Finished tract vPMC_L_gwfa_vPMC_R_gwfa for subject A00028185\n",
      "Successfully processed subject A00028185.\n",
      "Starting processing of subject A00028287.\n",
      "  Finished tract IPL_L_gwfa_IPL_R_gwfa for subject A00028287\n",
      "  Finished tract IPL_L_gwfa_IPS_L_gwfa for subject A00028287\n",
      "  Finished tract IPL_L_gwfa_IPS_R_gwfa for subject A00028287\n",
      "  Finished tract IPL_L_gwfa_SPL_L_gwfa for subject A00028287\n",
      "  Finished tract IPL_L_gwfa_SPL_R_gwfa for subject A00028287\n",
      "  Finished tract IPL_L_gwfa_dPMC_L_gwfa for subject A00028287\n",
      "  - Tract IPL_L_gwfa_dPMC_R_gwfa not found. Skipping.\n",
      "  Finished tract IPL_L_gwfa_vPMC_L_gwfa for subject A00028287\n",
      "  Finished tract IPL_L_gwfa_vPMC_R_gwfa for subject A00028287\n",
      "  Finished tract IPL_R_gwfa_IPS_L_gwfa for subject A00028287\n",
      "  Finished tract IPL_R_gwfa_IPS_R_gwfa for subject A00028287\n",
      "  Finished tract IPL_R_gwfa_SPL_L_gwfa for subject A00028287\n",
      "  Finished tract IPL_R_gwfa_SPL_R_gwfa for subject A00028287\n",
      "  - Tract IPL_R_gwfa_dPMC_L_gwfa not found. Skipping.\n",
      "  Finished tract IPL_R_gwfa_dPMC_R_gwfa for subject A00028287\n",
      "  - Tract IPL_R_gwfa_vPMC_L_gwfa not found. Skipping.\n",
      "  Finished tract IPL_R_gwfa_vPMC_R_gwfa for subject A00028287\n",
      "  Finished tract IPS_L_gwfa_IPS_R_gwfa for subject A00028287\n",
      "  Finished tract IPS_L_gwfa_SPL_L_gwfa for subject A00028287\n",
      "  Finished tract IPS_L_gwfa_SPL_R_gwfa for subject A00028287\n",
      "  Finished tract IPS_L_gwfa_dPMC_L_gwfa for subject A00028287\n",
      "  Finished tract IPS_L_gwfa_dPMC_R_gwfa for subject A00028287\n",
      "  Finished tract IPS_L_gwfa_vPMC_L_gwfa for subject A00028287\n",
      "  Finished tract IPS_L_gwfa_vPMC_R_gwfa for subject A00028287\n",
      "  Finished tract IPS_R_gwfa_SPL_L_gwfa for subject A00028287\n",
      "  Finished tract IPS_R_gwfa_SPL_R_gwfa for subject A00028287\n",
      "  - Tract IPS_R_gwfa_dPMC_L_gwfa not found. Skipping.\n",
      "  Finished tract IPS_R_gwfa_dPMC_R_gwfa for subject A00028287\n",
      "  - Tract IPS_R_gwfa_vPMC_L_gwfa not found. Skipping.\n",
      "  Finished tract IPS_R_gwfa_vPMC_R_gwfa for subject A00028287\n",
      "  Finished tract SPL_L_gwfa_SPL_R_gwfa for subject A00028287\n",
      "  Finished tract SPL_L_gwfa_dPMC_L_gwfa for subject A00028287\n",
      "  Finished tract SPL_L_gwfa_dPMC_R_gwfa for subject A00028287\n",
      "  Finished tract SPL_L_gwfa_vPMC_L_gwfa for subject A00028287\n",
      "  - Tract SPL_L_gwfa_vPMC_R_gwfa not found. Skipping.\n",
      "  Finished tract SPL_R_gwfa_dPMC_L_gwfa for subject A00028287\n",
      "  Finished tract SPL_R_gwfa_dPMC_R_gwfa for subject A00028287\n",
      "  Finished tract SPL_R_gwfa_vPMC_L_gwfa for subject A00028287\n",
      "  Finished tract SPL_R_gwfa_vPMC_R_gwfa for subject A00028287\n",
      "  Finished tract dPMC_L_gwfa_dPMC_R_gwfa for subject A00028287\n",
      "  Finished tract dPMC_L_gwfa_vPMC_L_gwfa for subject A00028287\n",
      "  Finished tract dPMC_L_gwfa_vPMC_R_gwfa for subject A00028287\n",
      "  Finished tract dPMC_R_gwfa_vPMC_L_gwfa for subject A00028287\n",
      "  Finished tract dPMC_R_gwfa_vPMC_R_gwfa for subject A00028287\n",
      "  Finished tract vPMC_L_gwfa_vPMC_R_gwfa for subject A00028287\n",
      "Successfully processed subject A00028287.\n",
      "Starting processing of subject A00028340.\n",
      "  Finished tract IPL_L_gwfa_IPL_R_gwfa for subject A00028340\n",
      "  Finished tract IPL_L_gwfa_IPS_L_gwfa for subject A00028340\n",
      "  Finished tract IPL_L_gwfa_IPS_R_gwfa for subject A00028340\n",
      "  Finished tract IPL_L_gwfa_SPL_L_gwfa for subject A00028340\n",
      "  Finished tract IPL_L_gwfa_SPL_R_gwfa for subject A00028340\n",
      "  Finished tract IPL_L_gwfa_dPMC_L_gwfa for subject A00028340\n",
      "  - Tract IPL_L_gwfa_dPMC_R_gwfa not found. Skipping.\n",
      "  Finished tract IPL_L_gwfa_vPMC_L_gwfa for subject A00028340\n",
      "  Finished tract IPL_L_gwfa_vPMC_R_gwfa for subject A00028340\n",
      "  Finished tract IPL_R_gwfa_IPS_L_gwfa for subject A00028340\n",
      "  Finished tract IPL_R_gwfa_IPS_R_gwfa for subject A00028340\n",
      "  Finished tract IPL_R_gwfa_SPL_L_gwfa for subject A00028340\n",
      "  Finished tract IPL_R_gwfa_SPL_R_gwfa for subject A00028340\n",
      "  - Tract IPL_R_gwfa_dPMC_L_gwfa not found. Skipping.\n",
      "  Finished tract IPL_R_gwfa_dPMC_R_gwfa for subject A00028340\n",
      "  - Tract IPL_R_gwfa_vPMC_L_gwfa not found. Skipping.\n",
      "  Finished tract IPL_R_gwfa_vPMC_R_gwfa for subject A00028340\n",
      "  Finished tract IPS_L_gwfa_IPS_R_gwfa for subject A00028340\n",
      "  Finished tract IPS_L_gwfa_SPL_L_gwfa for subject A00028340\n",
      "  Finished tract IPS_L_gwfa_SPL_R_gwfa for subject A00028340\n",
      "  Finished tract IPS_L_gwfa_dPMC_L_gwfa for subject A00028340\n",
      "  Finished tract IPS_L_gwfa_dPMC_R_gwfa for subject A00028340\n",
      "  Finished tract IPS_L_gwfa_vPMC_L_gwfa for subject A00028340\n",
      "  Finished tract IPS_L_gwfa_vPMC_R_gwfa for subject A00028340\n",
      "  Finished tract IPS_R_gwfa_SPL_L_gwfa for subject A00028340\n",
      "  Finished tract IPS_R_gwfa_SPL_R_gwfa for subject A00028340\n",
      "  - Tract IPS_R_gwfa_dPMC_L_gwfa not found. Skipping.\n",
      "  Finished tract IPS_R_gwfa_dPMC_R_gwfa for subject A00028340\n",
      "  - Tract IPS_R_gwfa_vPMC_L_gwfa not found. Skipping.\n",
      "  Finished tract IPS_R_gwfa_vPMC_R_gwfa for subject A00028340\n",
      "  Finished tract SPL_L_gwfa_SPL_R_gwfa for subject A00028340\n"
     ]
    },
    {
     "name": "stdout",
     "output_type": "stream",
     "text": [
      "  Finished tract SPL_L_gwfa_dPMC_L_gwfa for subject A00028340\n",
      "  Finished tract SPL_L_gwfa_dPMC_R_gwfa for subject A00028340\n",
      "  Finished tract SPL_L_gwfa_vPMC_L_gwfa for subject A00028340\n",
      "  - Tract SPL_L_gwfa_vPMC_R_gwfa not found. Skipping.\n",
      "  Finished tract SPL_R_gwfa_dPMC_L_gwfa for subject A00028340\n",
      "  Finished tract SPL_R_gwfa_dPMC_R_gwfa for subject A00028340\n",
      "  Finished tract SPL_R_gwfa_vPMC_L_gwfa for subject A00028340\n",
      "  Finished tract SPL_R_gwfa_vPMC_R_gwfa for subject A00028340\n",
      "  Finished tract dPMC_L_gwfa_dPMC_R_gwfa for subject A00028340\n",
      "  Finished tract dPMC_L_gwfa_vPMC_L_gwfa for subject A00028340\n",
      "  Finished tract dPMC_L_gwfa_vPMC_R_gwfa for subject A00028340\n",
      "  Finished tract dPMC_R_gwfa_vPMC_L_gwfa for subject A00028340\n",
      "  Finished tract dPMC_R_gwfa_vPMC_R_gwfa for subject A00028340\n",
      "  Finished tract vPMC_L_gwfa_vPMC_R_gwfa for subject A00028340\n",
      "Successfully processed subject A00028340.\n",
      "Starting processing of subject A00028352.\n",
      "  Finished tract IPL_L_gwfa_IPL_R_gwfa for subject A00028352\n",
      "  Finished tract IPL_L_gwfa_IPS_L_gwfa for subject A00028352\n",
      "  Finished tract IPL_L_gwfa_IPS_R_gwfa for subject A00028352\n",
      "  Finished tract IPL_L_gwfa_SPL_L_gwfa for subject A00028352\n",
      "  Finished tract IPL_L_gwfa_SPL_R_gwfa for subject A00028352\n",
      "  Finished tract IPL_L_gwfa_dPMC_L_gwfa for subject A00028352\n",
      "  - Tract IPL_L_gwfa_dPMC_R_gwfa not found. Skipping.\n",
      "  Finished tract IPL_L_gwfa_vPMC_L_gwfa for subject A00028352\n",
      "  Finished tract IPL_L_gwfa_vPMC_R_gwfa for subject A00028352\n",
      "  Finished tract IPL_R_gwfa_IPS_L_gwfa for subject A00028352\n",
      "  Finished tract IPL_R_gwfa_IPS_R_gwfa for subject A00028352\n",
      "  Finished tract IPL_R_gwfa_SPL_L_gwfa for subject A00028352\n",
      "  Finished tract IPL_R_gwfa_SPL_R_gwfa for subject A00028352\n",
      "  - Tract IPL_R_gwfa_dPMC_L_gwfa not found. Skipping.\n",
      "  Finished tract IPL_R_gwfa_dPMC_R_gwfa for subject A00028352\n",
      "  - Tract IPL_R_gwfa_vPMC_L_gwfa not found. Skipping.\n",
      "  Finished tract IPL_R_gwfa_vPMC_R_gwfa for subject A00028352\n",
      "  Finished tract IPS_L_gwfa_IPS_R_gwfa for subject A00028352\n",
      "  Finished tract IPS_L_gwfa_SPL_L_gwfa for subject A00028352\n",
      "  Finished tract IPS_L_gwfa_SPL_R_gwfa for subject A00028352\n",
      "  Finished tract IPS_L_gwfa_dPMC_L_gwfa for subject A00028352\n",
      "  Finished tract IPS_L_gwfa_dPMC_R_gwfa for subject A00028352\n",
      "  Finished tract IPS_L_gwfa_vPMC_L_gwfa for subject A00028352\n",
      "  Finished tract IPS_L_gwfa_vPMC_R_gwfa for subject A00028352\n",
      "  Finished tract IPS_R_gwfa_SPL_L_gwfa for subject A00028352\n",
      "  Finished tract IPS_R_gwfa_SPL_R_gwfa for subject A00028352\n",
      "  - Tract IPS_R_gwfa_dPMC_L_gwfa not found. Skipping.\n",
      "  Finished tract IPS_R_gwfa_dPMC_R_gwfa for subject A00028352\n",
      "  - Tract IPS_R_gwfa_vPMC_L_gwfa not found. Skipping.\n",
      "  Finished tract IPS_R_gwfa_vPMC_R_gwfa for subject A00028352\n",
      "  Finished tract SPL_L_gwfa_SPL_R_gwfa for subject A00028352\n",
      "  Finished tract SPL_L_gwfa_dPMC_L_gwfa for subject A00028352\n",
      "  Finished tract SPL_L_gwfa_dPMC_R_gwfa for subject A00028352\n",
      "  Finished tract SPL_L_gwfa_vPMC_L_gwfa for subject A00028352\n",
      "  - Tract SPL_L_gwfa_vPMC_R_gwfa not found. Skipping.\n",
      "  Finished tract SPL_R_gwfa_dPMC_L_gwfa for subject A00028352\n",
      "  Finished tract SPL_R_gwfa_dPMC_R_gwfa for subject A00028352\n",
      "  Finished tract SPL_R_gwfa_vPMC_L_gwfa for subject A00028352\n",
      "  Finished tract SPL_R_gwfa_vPMC_R_gwfa for subject A00028352\n",
      "  Finished tract dPMC_L_gwfa_dPMC_R_gwfa for subject A00028352\n",
      "  Finished tract dPMC_L_gwfa_vPMC_L_gwfa for subject A00028352\n",
      "  Finished tract dPMC_L_gwfa_vPMC_R_gwfa for subject A00028352\n",
      "  Finished tract dPMC_R_gwfa_vPMC_L_gwfa for subject A00028352\n",
      "  Finished tract dPMC_R_gwfa_vPMC_R_gwfa for subject A00028352\n",
      "  Finished tract vPMC_L_gwfa_vPMC_R_gwfa for subject A00028352\n",
      "Successfully processed subject A00028352.\n",
      "Starting processing of subject A00028389.\n",
      "  Finished tract IPL_L_gwfa_IPL_R_gwfa for subject A00028389\n",
      "  Finished tract IPL_L_gwfa_IPS_L_gwfa for subject A00028389\n",
      "  Finished tract IPL_L_gwfa_IPS_R_gwfa for subject A00028389\n",
      "  Finished tract IPL_L_gwfa_SPL_L_gwfa for subject A00028389\n",
      "  Finished tract IPL_L_gwfa_SPL_R_gwfa for subject A00028389\n",
      "  Finished tract IPL_L_gwfa_dPMC_L_gwfa for subject A00028389\n",
      "  - Tract IPL_L_gwfa_dPMC_R_gwfa not found. Skipping.\n",
      "  Finished tract IPL_L_gwfa_vPMC_L_gwfa for subject A00028389\n",
      "  Finished tract IPL_L_gwfa_vPMC_R_gwfa for subject A00028389\n",
      "  Finished tract IPL_R_gwfa_IPS_L_gwfa for subject A00028389\n",
      "  Finished tract IPL_R_gwfa_IPS_R_gwfa for subject A00028389\n",
      "  Finished tract IPL_R_gwfa_SPL_L_gwfa for subject A00028389\n",
      "  Finished tract IPL_R_gwfa_SPL_R_gwfa for subject A00028389\n",
      "  - Tract IPL_R_gwfa_dPMC_L_gwfa not found. Skipping.\n",
      "  Finished tract IPL_R_gwfa_dPMC_R_gwfa for subject A00028389\n",
      "  - Tract IPL_R_gwfa_vPMC_L_gwfa not found. Skipping.\n",
      "  Finished tract IPL_R_gwfa_vPMC_R_gwfa for subject A00028389\n",
      "  Finished tract IPS_L_gwfa_IPS_R_gwfa for subject A00028389\n",
      "  Finished tract IPS_L_gwfa_SPL_L_gwfa for subject A00028389\n",
      "  Finished tract IPS_L_gwfa_SPL_R_gwfa for subject A00028389\n",
      "  Finished tract IPS_L_gwfa_dPMC_L_gwfa for subject A00028389\n",
      "  Finished tract IPS_L_gwfa_dPMC_R_gwfa for subject A00028389\n",
      "  Finished tract IPS_L_gwfa_vPMC_L_gwfa for subject A00028389\n",
      "  Finished tract IPS_L_gwfa_vPMC_R_gwfa for subject A00028389\n",
      "  Finished tract IPS_R_gwfa_SPL_L_gwfa for subject A00028389\n",
      "  Finished tract IPS_R_gwfa_SPL_R_gwfa for subject A00028389\n",
      "  - Tract IPS_R_gwfa_dPMC_L_gwfa not found. Skipping.\n",
      "  Finished tract IPS_R_gwfa_dPMC_R_gwfa for subject A00028389\n",
      "  - Tract IPS_R_gwfa_vPMC_L_gwfa not found. Skipping.\n",
      "  Finished tract IPS_R_gwfa_vPMC_R_gwfa for subject A00028389\n",
      "  Finished tract SPL_L_gwfa_SPL_R_gwfa for subject A00028389\n",
      "  Finished tract SPL_L_gwfa_dPMC_L_gwfa for subject A00028389\n",
      "  Finished tract SPL_L_gwfa_dPMC_R_gwfa for subject A00028389\n",
      "  Finished tract SPL_L_gwfa_vPMC_L_gwfa for subject A00028389\n",
      "  - Tract SPL_L_gwfa_vPMC_R_gwfa not found. Skipping.\n",
      "  Finished tract SPL_R_gwfa_dPMC_L_gwfa for subject A00028389\n",
      "  Finished tract SPL_R_gwfa_dPMC_R_gwfa for subject A00028389\n",
      "  Finished tract SPL_R_gwfa_vPMC_L_gwfa for subject A00028389\n",
      "  Finished tract SPL_R_gwfa_vPMC_R_gwfa for subject A00028389\n",
      "  Finished tract dPMC_L_gwfa_dPMC_R_gwfa for subject A00028389\n",
      "  Finished tract dPMC_L_gwfa_vPMC_L_gwfa for subject A00028389\n",
      "  Finished tract dPMC_L_gwfa_vPMC_R_gwfa for subject A00028389\n",
      "  Finished tract dPMC_R_gwfa_vPMC_L_gwfa for subject A00028389\n",
      "  Finished tract dPMC_R_gwfa_vPMC_R_gwfa for subject A00028389\n",
      "  Finished tract vPMC_L_gwfa_vPMC_R_gwfa for subject A00028389\n",
      "Successfully processed subject A00028389.\n",
      "Starting processing of subject A00028399.\n",
      "  Finished tract IPL_L_gwfa_IPL_R_gwfa for subject A00028399\n",
      "  Finished tract IPL_L_gwfa_IPS_L_gwfa for subject A00028399\n",
      "  Finished tract IPL_L_gwfa_IPS_R_gwfa for subject A00028399\n",
      "  Finished tract IPL_L_gwfa_SPL_L_gwfa for subject A00028399\n",
      "  Finished tract IPL_L_gwfa_SPL_R_gwfa for subject A00028399\n",
      "  Finished tract IPL_L_gwfa_dPMC_L_gwfa for subject A00028399\n",
      "  - Tract IPL_L_gwfa_dPMC_R_gwfa not found. Skipping.\n",
      "  Finished tract IPL_L_gwfa_vPMC_L_gwfa for subject A00028399\n",
      "  Finished tract IPL_L_gwfa_vPMC_R_gwfa for subject A00028399\n",
      "  Finished tract IPL_R_gwfa_IPS_L_gwfa for subject A00028399\n",
      "  Finished tract IPL_R_gwfa_IPS_R_gwfa for subject A00028399\n",
      "  Finished tract IPL_R_gwfa_SPL_L_gwfa for subject A00028399\n",
      "  Finished tract IPL_R_gwfa_SPL_R_gwfa for subject A00028399\n",
      "  - Tract IPL_R_gwfa_dPMC_L_gwfa not found. Skipping.\n",
      "  Finished tract IPL_R_gwfa_dPMC_R_gwfa for subject A00028399\n",
      "  - Tract IPL_R_gwfa_vPMC_L_gwfa not found. Skipping.\n",
      "  Finished tract IPL_R_gwfa_vPMC_R_gwfa for subject A00028399\n",
      "  Finished tract IPS_L_gwfa_IPS_R_gwfa for subject A00028399\n",
      "  Finished tract IPS_L_gwfa_SPL_L_gwfa for subject A00028399\n",
      "  Finished tract IPS_L_gwfa_SPL_R_gwfa for subject A00028399\n",
      "  Finished tract IPS_L_gwfa_dPMC_L_gwfa for subject A00028399\n",
      "  Finished tract IPS_L_gwfa_dPMC_R_gwfa for subject A00028399\n",
      "  Finished tract IPS_L_gwfa_vPMC_L_gwfa for subject A00028399\n",
      "  Finished tract IPS_L_gwfa_vPMC_R_gwfa for subject A00028399\n",
      "  Finished tract IPS_R_gwfa_SPL_L_gwfa for subject A00028399\n",
      "  Finished tract IPS_R_gwfa_SPL_R_gwfa for subject A00028399\n",
      "  - Tract IPS_R_gwfa_dPMC_L_gwfa not found. Skipping.\n"
     ]
    },
    {
     "name": "stdout",
     "output_type": "stream",
     "text": [
      "  Finished tract IPS_R_gwfa_dPMC_R_gwfa for subject A00028399\n",
      "  - Tract IPS_R_gwfa_vPMC_L_gwfa not found. Skipping.\n",
      "  Finished tract IPS_R_gwfa_vPMC_R_gwfa for subject A00028399\n",
      "  Finished tract SPL_L_gwfa_SPL_R_gwfa for subject A00028399\n",
      "  Finished tract SPL_L_gwfa_dPMC_L_gwfa for subject A00028399\n",
      "  Finished tract SPL_L_gwfa_dPMC_R_gwfa for subject A00028399\n",
      "  Finished tract SPL_L_gwfa_vPMC_L_gwfa for subject A00028399\n",
      "  - Tract SPL_L_gwfa_vPMC_R_gwfa not found. Skipping.\n",
      "  Finished tract SPL_R_gwfa_dPMC_L_gwfa for subject A00028399\n",
      "  Finished tract SPL_R_gwfa_dPMC_R_gwfa for subject A00028399\n",
      "  Finished tract SPL_R_gwfa_vPMC_L_gwfa for subject A00028399\n",
      "  Finished tract SPL_R_gwfa_vPMC_R_gwfa for subject A00028399\n",
      "  Finished tract dPMC_L_gwfa_dPMC_R_gwfa for subject A00028399\n",
      "  Finished tract dPMC_L_gwfa_vPMC_L_gwfa for subject A00028399\n",
      "  Finished tract dPMC_L_gwfa_vPMC_R_gwfa for subject A00028399\n",
      "  Finished tract dPMC_R_gwfa_vPMC_L_gwfa for subject A00028399\n",
      "  Finished tract dPMC_R_gwfa_vPMC_R_gwfa for subject A00028399\n",
      "  Finished tract vPMC_L_gwfa_vPMC_R_gwfa for subject A00028399\n",
      "Successfully processed subject A00028399.\n",
      "Starting processing of subject A00028429.\n",
      "  Finished tract IPL_L_gwfa_IPL_R_gwfa for subject A00028429\n",
      "  Finished tract IPL_L_gwfa_IPS_L_gwfa for subject A00028429\n",
      "  Finished tract IPL_L_gwfa_IPS_R_gwfa for subject A00028429\n",
      "  Finished tract IPL_L_gwfa_SPL_L_gwfa for subject A00028429\n",
      "  Finished tract IPL_L_gwfa_SPL_R_gwfa for subject A00028429\n",
      "  Finished tract IPL_L_gwfa_dPMC_L_gwfa for subject A00028429\n",
      "  - Tract IPL_L_gwfa_dPMC_R_gwfa not found. Skipping.\n",
      "  Finished tract IPL_L_gwfa_vPMC_L_gwfa for subject A00028429\n",
      "  Finished tract IPL_L_gwfa_vPMC_R_gwfa for subject A00028429\n",
      "  Finished tract IPL_R_gwfa_IPS_L_gwfa for subject A00028429\n",
      "  Finished tract IPL_R_gwfa_IPS_R_gwfa for subject A00028429\n",
      "  Finished tract IPL_R_gwfa_SPL_L_gwfa for subject A00028429\n",
      "  Finished tract IPL_R_gwfa_SPL_R_gwfa for subject A00028429\n",
      "  - Tract IPL_R_gwfa_dPMC_L_gwfa not found. Skipping.\n",
      "  Finished tract IPL_R_gwfa_dPMC_R_gwfa for subject A00028429\n",
      "  - Tract IPL_R_gwfa_vPMC_L_gwfa not found. Skipping.\n",
      "  Finished tract IPL_R_gwfa_vPMC_R_gwfa for subject A00028429\n",
      "  Finished tract IPS_L_gwfa_IPS_R_gwfa for subject A00028429\n",
      "  Finished tract IPS_L_gwfa_SPL_L_gwfa for subject A00028429\n",
      "  Finished tract IPS_L_gwfa_SPL_R_gwfa for subject A00028429\n",
      "  Finished tract IPS_L_gwfa_dPMC_L_gwfa for subject A00028429\n",
      "  Finished tract IPS_L_gwfa_dPMC_R_gwfa for subject A00028429\n",
      "  Finished tract IPS_L_gwfa_vPMC_L_gwfa for subject A00028429\n",
      "  Finished tract IPS_L_gwfa_vPMC_R_gwfa for subject A00028429\n",
      "  Finished tract IPS_R_gwfa_SPL_L_gwfa for subject A00028429\n",
      "  Finished tract IPS_R_gwfa_SPL_R_gwfa for subject A00028429\n",
      "  - Tract IPS_R_gwfa_dPMC_L_gwfa not found. Skipping.\n",
      "  Finished tract IPS_R_gwfa_dPMC_R_gwfa for subject A00028429\n",
      "  - Tract IPS_R_gwfa_vPMC_L_gwfa not found. Skipping.\n",
      "  Finished tract IPS_R_gwfa_vPMC_R_gwfa for subject A00028429\n",
      "  Finished tract SPL_L_gwfa_SPL_R_gwfa for subject A00028429\n",
      "  Finished tract SPL_L_gwfa_dPMC_L_gwfa for subject A00028429\n",
      "  Finished tract SPL_L_gwfa_dPMC_R_gwfa for subject A00028429\n",
      "  Finished tract SPL_L_gwfa_vPMC_L_gwfa for subject A00028429\n",
      "  - Tract SPL_L_gwfa_vPMC_R_gwfa not found. Skipping.\n",
      "  Finished tract SPL_R_gwfa_dPMC_L_gwfa for subject A00028429\n",
      "  Finished tract SPL_R_gwfa_dPMC_R_gwfa for subject A00028429\n",
      "  Finished tract SPL_R_gwfa_vPMC_L_gwfa for subject A00028429\n",
      "  Finished tract SPL_R_gwfa_vPMC_R_gwfa for subject A00028429\n",
      "  Finished tract dPMC_L_gwfa_dPMC_R_gwfa for subject A00028429\n",
      "  Finished tract dPMC_L_gwfa_vPMC_L_gwfa for subject A00028429\n",
      "  Finished tract dPMC_L_gwfa_vPMC_R_gwfa for subject A00028429\n",
      "  Finished tract dPMC_R_gwfa_vPMC_L_gwfa for subject A00028429\n",
      "  Finished tract dPMC_R_gwfa_vPMC_R_gwfa for subject A00028429\n",
      "  Finished tract vPMC_L_gwfa_vPMC_R_gwfa for subject A00028429\n",
      "Successfully processed subject A00028429.\n",
      "Starting processing of subject A00028678.\n",
      "  Finished tract IPL_L_gwfa_IPL_R_gwfa for subject A00028678\n",
      "  Finished tract IPL_L_gwfa_IPS_L_gwfa for subject A00028678\n",
      "  Finished tract IPL_L_gwfa_IPS_R_gwfa for subject A00028678\n",
      "  Finished tract IPL_L_gwfa_SPL_L_gwfa for subject A00028678\n",
      "  Finished tract IPL_L_gwfa_SPL_R_gwfa for subject A00028678\n",
      "  Finished tract IPL_L_gwfa_dPMC_L_gwfa for subject A00028678\n",
      "  - Tract IPL_L_gwfa_dPMC_R_gwfa not found. Skipping.\n",
      "  Finished tract IPL_L_gwfa_vPMC_L_gwfa for subject A00028678\n",
      "  Finished tract IPL_L_gwfa_vPMC_R_gwfa for subject A00028678\n",
      "  Finished tract IPL_R_gwfa_IPS_L_gwfa for subject A00028678\n",
      "  Finished tract IPL_R_gwfa_IPS_R_gwfa for subject A00028678\n",
      "  Finished tract IPL_R_gwfa_SPL_L_gwfa for subject A00028678\n",
      "  Finished tract IPL_R_gwfa_SPL_R_gwfa for subject A00028678\n",
      "  - Tract IPL_R_gwfa_dPMC_L_gwfa not found. Skipping.\n",
      "  Finished tract IPL_R_gwfa_dPMC_R_gwfa for subject A00028678\n",
      "  - Tract IPL_R_gwfa_vPMC_L_gwfa not found. Skipping.\n",
      "  Finished tract IPL_R_gwfa_vPMC_R_gwfa for subject A00028678\n",
      "  Finished tract IPS_L_gwfa_IPS_R_gwfa for subject A00028678\n",
      "  Finished tract IPS_L_gwfa_SPL_L_gwfa for subject A00028678\n",
      "  Finished tract IPS_L_gwfa_SPL_R_gwfa for subject A00028678\n",
      "  Finished tract IPS_L_gwfa_dPMC_L_gwfa for subject A00028678\n",
      "  Finished tract IPS_L_gwfa_dPMC_R_gwfa for subject A00028678\n",
      "  Finished tract IPS_L_gwfa_vPMC_L_gwfa for subject A00028678\n",
      "  Finished tract IPS_L_gwfa_vPMC_R_gwfa for subject A00028678\n",
      "  Finished tract IPS_R_gwfa_SPL_L_gwfa for subject A00028678\n",
      "  Finished tract IPS_R_gwfa_SPL_R_gwfa for subject A00028678\n",
      "  - Tract IPS_R_gwfa_dPMC_L_gwfa not found. Skipping.\n",
      "  Finished tract IPS_R_gwfa_dPMC_R_gwfa for subject A00028678\n",
      "  - Tract IPS_R_gwfa_vPMC_L_gwfa not found. Skipping.\n",
      "  Finished tract IPS_R_gwfa_vPMC_R_gwfa for subject A00028678\n",
      "  Finished tract SPL_L_gwfa_SPL_R_gwfa for subject A00028678\n",
      "  Finished tract SPL_L_gwfa_dPMC_L_gwfa for subject A00028678\n",
      "  Finished tract SPL_L_gwfa_dPMC_R_gwfa for subject A00028678\n",
      "  Finished tract SPL_L_gwfa_vPMC_L_gwfa for subject A00028678\n",
      "  - Tract SPL_L_gwfa_vPMC_R_gwfa not found. Skipping.\n",
      "  Finished tract SPL_R_gwfa_dPMC_L_gwfa for subject A00028678\n",
      "  Finished tract SPL_R_gwfa_dPMC_R_gwfa for subject A00028678\n",
      "  Finished tract SPL_R_gwfa_vPMC_L_gwfa for subject A00028678\n",
      "  Finished tract SPL_R_gwfa_vPMC_R_gwfa for subject A00028678\n",
      "  Finished tract dPMC_L_gwfa_dPMC_R_gwfa for subject A00028678\n",
      "  Finished tract dPMC_L_gwfa_vPMC_L_gwfa for subject A00028678\n",
      "  Finished tract dPMC_L_gwfa_vPMC_R_gwfa for subject A00028678\n",
      "  Finished tract dPMC_R_gwfa_vPMC_L_gwfa for subject A00028678\n",
      "  Finished tract dPMC_R_gwfa_vPMC_R_gwfa for subject A00028678\n",
      "  Finished tract vPMC_L_gwfa_vPMC_R_gwfa for subject A00028678\n",
      "Successfully processed subject A00028678.\n",
      "Starting processing of subject A00028753.\n",
      "  Finished tract IPL_L_gwfa_IPL_R_gwfa for subject A00028753\n",
      "  Finished tract IPL_L_gwfa_IPS_L_gwfa for subject A00028753\n",
      "  Finished tract IPL_L_gwfa_IPS_R_gwfa for subject A00028753\n",
      "  Finished tract IPL_L_gwfa_SPL_L_gwfa for subject A00028753\n",
      "  Finished tract IPL_L_gwfa_SPL_R_gwfa for subject A00028753\n",
      "  Finished tract IPL_L_gwfa_dPMC_L_gwfa for subject A00028753\n",
      "  - Tract IPL_L_gwfa_dPMC_R_gwfa not found. Skipping.\n",
      "  Finished tract IPL_L_gwfa_vPMC_L_gwfa for subject A00028753\n",
      "  Finished tract IPL_L_gwfa_vPMC_R_gwfa for subject A00028753\n",
      "  Finished tract IPL_R_gwfa_IPS_L_gwfa for subject A00028753\n",
      "  Finished tract IPL_R_gwfa_IPS_R_gwfa for subject A00028753\n",
      "  Finished tract IPL_R_gwfa_SPL_L_gwfa for subject A00028753\n",
      "  Finished tract IPL_R_gwfa_SPL_R_gwfa for subject A00028753\n",
      "  - Tract IPL_R_gwfa_dPMC_L_gwfa not found. Skipping.\n",
      "  Finished tract IPL_R_gwfa_dPMC_R_gwfa for subject A00028753\n",
      "  - Tract IPL_R_gwfa_vPMC_L_gwfa not found. Skipping.\n",
      "  Finished tract IPL_R_gwfa_vPMC_R_gwfa for subject A00028753\n",
      "  Finished tract IPS_L_gwfa_IPS_R_gwfa for subject A00028753\n",
      "  Finished tract IPS_L_gwfa_SPL_L_gwfa for subject A00028753\n",
      "  Finished tract IPS_L_gwfa_SPL_R_gwfa for subject A00028753\n",
      "  Finished tract IPS_L_gwfa_dPMC_L_gwfa for subject A00028753\n",
      "  Finished tract IPS_L_gwfa_dPMC_R_gwfa for subject A00028753\n",
      "  Finished tract IPS_L_gwfa_vPMC_L_gwfa for subject A00028753\n"
     ]
    },
    {
     "name": "stdout",
     "output_type": "stream",
     "text": [
      "  Finished tract IPS_L_gwfa_vPMC_R_gwfa for subject A00028753\n",
      "  Finished tract IPS_R_gwfa_SPL_L_gwfa for subject A00028753\n",
      "  Finished tract IPS_R_gwfa_SPL_R_gwfa for subject A00028753\n",
      "  - Tract IPS_R_gwfa_dPMC_L_gwfa not found. Skipping.\n",
      "  Finished tract IPS_R_gwfa_dPMC_R_gwfa for subject A00028753\n",
      "  - Tract IPS_R_gwfa_vPMC_L_gwfa not found. Skipping.\n",
      "  Finished tract IPS_R_gwfa_vPMC_R_gwfa for subject A00028753\n",
      "  Finished tract SPL_L_gwfa_SPL_R_gwfa for subject A00028753\n",
      "  Finished tract SPL_L_gwfa_dPMC_L_gwfa for subject A00028753\n",
      "  Finished tract SPL_L_gwfa_dPMC_R_gwfa for subject A00028753\n",
      "  Finished tract SPL_L_gwfa_vPMC_L_gwfa for subject A00028753\n",
      "  - Tract SPL_L_gwfa_vPMC_R_gwfa not found. Skipping.\n",
      "  Finished tract SPL_R_gwfa_dPMC_L_gwfa for subject A00028753\n",
      "  Finished tract SPL_R_gwfa_dPMC_R_gwfa for subject A00028753\n",
      "  Finished tract SPL_R_gwfa_vPMC_L_gwfa for subject A00028753\n",
      "  Finished tract SPL_R_gwfa_vPMC_R_gwfa for subject A00028753\n",
      "  Finished tract dPMC_L_gwfa_dPMC_R_gwfa for subject A00028753\n",
      "  Finished tract dPMC_L_gwfa_vPMC_L_gwfa for subject A00028753\n",
      "  Finished tract dPMC_L_gwfa_vPMC_R_gwfa for subject A00028753\n",
      "  Finished tract dPMC_R_gwfa_vPMC_L_gwfa for subject A00028753\n",
      "  Finished tract dPMC_R_gwfa_vPMC_R_gwfa for subject A00028753\n",
      "  Finished tract vPMC_L_gwfa_vPMC_R_gwfa for subject A00028753\n",
      "Successfully processed subject A00028753.\n",
      "Starting processing of subject A00028784.\n",
      "  Finished tract IPL_L_gwfa_IPL_R_gwfa for subject A00028784\n",
      "  Finished tract IPL_L_gwfa_IPS_L_gwfa for subject A00028784\n",
      "  Finished tract IPL_L_gwfa_IPS_R_gwfa for subject A00028784\n",
      "  Finished tract IPL_L_gwfa_SPL_L_gwfa for subject A00028784\n",
      "  Finished tract IPL_L_gwfa_SPL_R_gwfa for subject A00028784\n",
      "  Finished tract IPL_L_gwfa_dPMC_L_gwfa for subject A00028784\n",
      "  - Tract IPL_L_gwfa_dPMC_R_gwfa not found. Skipping.\n",
      "  Finished tract IPL_L_gwfa_vPMC_L_gwfa for subject A00028784\n",
      "  Finished tract IPL_L_gwfa_vPMC_R_gwfa for subject A00028784\n",
      "  Finished tract IPL_R_gwfa_IPS_L_gwfa for subject A00028784\n",
      "  Finished tract IPL_R_gwfa_IPS_R_gwfa for subject A00028784\n",
      "  Finished tract IPL_R_gwfa_SPL_L_gwfa for subject A00028784\n",
      "  Finished tract IPL_R_gwfa_SPL_R_gwfa for subject A00028784\n",
      "  - Tract IPL_R_gwfa_dPMC_L_gwfa not found. Skipping.\n",
      "  Finished tract IPL_R_gwfa_dPMC_R_gwfa for subject A00028784\n",
      "  - Tract IPL_R_gwfa_vPMC_L_gwfa not found. Skipping.\n",
      "  Finished tract IPL_R_gwfa_vPMC_R_gwfa for subject A00028784\n",
      "  Finished tract IPS_L_gwfa_IPS_R_gwfa for subject A00028784\n",
      "  Finished tract IPS_L_gwfa_SPL_L_gwfa for subject A00028784\n",
      "  Finished tract IPS_L_gwfa_SPL_R_gwfa for subject A00028784\n",
      "  Finished tract IPS_L_gwfa_dPMC_L_gwfa for subject A00028784\n",
      "  Finished tract IPS_L_gwfa_dPMC_R_gwfa for subject A00028784\n",
      "  Finished tract IPS_L_gwfa_vPMC_L_gwfa for subject A00028784\n",
      "  Finished tract IPS_L_gwfa_vPMC_R_gwfa for subject A00028784\n",
      "  Finished tract IPS_R_gwfa_SPL_L_gwfa for subject A00028784\n",
      "  Finished tract IPS_R_gwfa_SPL_R_gwfa for subject A00028784\n",
      "  - Tract IPS_R_gwfa_dPMC_L_gwfa not found. Skipping.\n",
      "  Finished tract IPS_R_gwfa_dPMC_R_gwfa for subject A00028784\n",
      "  - Tract IPS_R_gwfa_vPMC_L_gwfa not found. Skipping.\n",
      "  Finished tract IPS_R_gwfa_vPMC_R_gwfa for subject A00028784\n",
      "  Finished tract SPL_L_gwfa_SPL_R_gwfa for subject A00028784\n",
      "  Finished tract SPL_L_gwfa_dPMC_L_gwfa for subject A00028784\n",
      "  Finished tract SPL_L_gwfa_dPMC_R_gwfa for subject A00028784\n",
      "  Finished tract SPL_L_gwfa_vPMC_L_gwfa for subject A00028784\n",
      "  - Tract SPL_L_gwfa_vPMC_R_gwfa not found. Skipping.\n",
      "  Finished tract SPL_R_gwfa_dPMC_L_gwfa for subject A00028784\n",
      "  Finished tract SPL_R_gwfa_dPMC_R_gwfa for subject A00028784\n",
      "  Finished tract SPL_R_gwfa_vPMC_L_gwfa for subject A00028784\n",
      "  Finished tract SPL_R_gwfa_vPMC_R_gwfa for subject A00028784\n",
      "  Finished tract dPMC_L_gwfa_dPMC_R_gwfa for subject A00028784\n",
      "  Finished tract dPMC_L_gwfa_vPMC_L_gwfa for subject A00028784\n",
      "  Finished tract dPMC_L_gwfa_vPMC_R_gwfa for subject A00028784\n",
      "  Finished tract dPMC_R_gwfa_vPMC_L_gwfa for subject A00028784\n",
      "  Finished tract dPMC_R_gwfa_vPMC_R_gwfa for subject A00028784\n",
      "  Finished tract vPMC_L_gwfa_vPMC_R_gwfa for subject A00028784\n",
      "Successfully processed subject A00028784.\n",
      "Starting processing of subject A00028842.\n",
      "  Finished tract IPL_L_gwfa_IPL_R_gwfa for subject A00028842\n",
      "  Finished tract IPL_L_gwfa_IPS_L_gwfa for subject A00028842\n",
      "  Finished tract IPL_L_gwfa_IPS_R_gwfa for subject A00028842\n",
      "  Finished tract IPL_L_gwfa_SPL_L_gwfa for subject A00028842\n",
      "  Finished tract IPL_L_gwfa_SPL_R_gwfa for subject A00028842\n",
      "  Finished tract IPL_L_gwfa_dPMC_L_gwfa for subject A00028842\n",
      "  - Tract IPL_L_gwfa_dPMC_R_gwfa not found. Skipping.\n",
      "  Finished tract IPL_L_gwfa_vPMC_L_gwfa for subject A00028842\n",
      "  Finished tract IPL_L_gwfa_vPMC_R_gwfa for subject A00028842\n",
      "  Finished tract IPL_R_gwfa_IPS_L_gwfa for subject A00028842\n",
      "  Finished tract IPL_R_gwfa_IPS_R_gwfa for subject A00028842\n",
      "  Finished tract IPL_R_gwfa_SPL_L_gwfa for subject A00028842\n",
      "  Finished tract IPL_R_gwfa_SPL_R_gwfa for subject A00028842\n",
      "  - Tract IPL_R_gwfa_dPMC_L_gwfa not found. Skipping.\n",
      "  Finished tract IPL_R_gwfa_dPMC_R_gwfa for subject A00028842\n",
      "  - Tract IPL_R_gwfa_vPMC_L_gwfa not found. Skipping.\n",
      "  Finished tract IPL_R_gwfa_vPMC_R_gwfa for subject A00028842\n",
      "  Finished tract IPS_L_gwfa_IPS_R_gwfa for subject A00028842\n",
      "  Finished tract IPS_L_gwfa_SPL_L_gwfa for subject A00028842\n",
      "  Finished tract IPS_L_gwfa_SPL_R_gwfa for subject A00028842\n",
      "  Finished tract IPS_L_gwfa_dPMC_L_gwfa for subject A00028842\n",
      "  Finished tract IPS_L_gwfa_dPMC_R_gwfa for subject A00028842\n",
      "  Finished tract IPS_L_gwfa_vPMC_L_gwfa for subject A00028842\n",
      "  Finished tract IPS_L_gwfa_vPMC_R_gwfa for subject A00028842\n",
      "  Finished tract IPS_R_gwfa_SPL_L_gwfa for subject A00028842\n",
      "  Finished tract IPS_R_gwfa_SPL_R_gwfa for subject A00028842\n",
      "  - Tract IPS_R_gwfa_dPMC_L_gwfa not found. Skipping.\n",
      "  Finished tract IPS_R_gwfa_dPMC_R_gwfa for subject A00028842\n",
      "  - Tract IPS_R_gwfa_vPMC_L_gwfa not found. Skipping.\n",
      "  Finished tract IPS_R_gwfa_vPMC_R_gwfa for subject A00028842\n",
      "  Finished tract SPL_L_gwfa_SPL_R_gwfa for subject A00028842\n",
      "  Finished tract SPL_L_gwfa_dPMC_L_gwfa for subject A00028842\n",
      "  Finished tract SPL_L_gwfa_dPMC_R_gwfa for subject A00028842\n",
      "  Finished tract SPL_L_gwfa_vPMC_L_gwfa for subject A00028842\n",
      "  - Tract SPL_L_gwfa_vPMC_R_gwfa not found. Skipping.\n",
      "  Finished tract SPL_R_gwfa_dPMC_L_gwfa for subject A00028842\n",
      "  Finished tract SPL_R_gwfa_dPMC_R_gwfa for subject A00028842\n",
      "  Finished tract SPL_R_gwfa_vPMC_L_gwfa for subject A00028842\n",
      "  Finished tract SPL_R_gwfa_vPMC_R_gwfa for subject A00028842\n",
      "  Finished tract dPMC_L_gwfa_dPMC_R_gwfa for subject A00028842\n",
      "  Finished tract dPMC_L_gwfa_vPMC_L_gwfa for subject A00028842\n",
      "  Finished tract dPMC_L_gwfa_vPMC_R_gwfa for subject A00028842\n",
      "  Finished tract dPMC_R_gwfa_vPMC_L_gwfa for subject A00028842\n",
      "  Finished tract dPMC_R_gwfa_vPMC_R_gwfa for subject A00028842\n",
      "  Finished tract vPMC_L_gwfa_vPMC_R_gwfa for subject A00028842\n",
      "Successfully processed subject A00028842.\n",
      "Starting processing of subject A00028844.\n",
      "  Finished tract IPL_L_gwfa_IPL_R_gwfa for subject A00028844\n",
      "  Finished tract IPL_L_gwfa_IPS_L_gwfa for subject A00028844\n",
      "  Finished tract IPL_L_gwfa_IPS_R_gwfa for subject A00028844\n",
      "  Finished tract IPL_L_gwfa_SPL_L_gwfa for subject A00028844\n",
      "  Finished tract IPL_L_gwfa_SPL_R_gwfa for subject A00028844\n",
      "  Finished tract IPL_L_gwfa_dPMC_L_gwfa for subject A00028844\n",
      "  - Tract IPL_L_gwfa_dPMC_R_gwfa not found. Skipping.\n",
      "  Finished tract IPL_L_gwfa_vPMC_L_gwfa for subject A00028844\n",
      "  Finished tract IPL_L_gwfa_vPMC_R_gwfa for subject A00028844\n",
      "  Finished tract IPL_R_gwfa_IPS_L_gwfa for subject A00028844\n",
      "  Finished tract IPL_R_gwfa_IPS_R_gwfa for subject A00028844\n",
      "  Finished tract IPL_R_gwfa_SPL_L_gwfa for subject A00028844\n",
      "  Finished tract IPL_R_gwfa_SPL_R_gwfa for subject A00028844\n",
      "  - Tract IPL_R_gwfa_dPMC_L_gwfa not found. Skipping.\n",
      "  Finished tract IPL_R_gwfa_dPMC_R_gwfa for subject A00028844\n",
      "  - Tract IPL_R_gwfa_vPMC_L_gwfa not found. Skipping.\n",
      "  Finished tract IPL_R_gwfa_vPMC_R_gwfa for subject A00028844\n",
      "  Finished tract IPS_L_gwfa_IPS_R_gwfa for subject A00028844\n",
      "  Finished tract IPS_L_gwfa_SPL_L_gwfa for subject A00028844\n"
     ]
    },
    {
     "name": "stdout",
     "output_type": "stream",
     "text": [
      "  Finished tract IPS_L_gwfa_SPL_R_gwfa for subject A00028844\n",
      "  Finished tract IPS_L_gwfa_dPMC_L_gwfa for subject A00028844\n",
      "  Finished tract IPS_L_gwfa_dPMC_R_gwfa for subject A00028844\n",
      "  Finished tract IPS_L_gwfa_vPMC_L_gwfa for subject A00028844\n",
      "  Finished tract IPS_L_gwfa_vPMC_R_gwfa for subject A00028844\n",
      "  Finished tract IPS_R_gwfa_SPL_L_gwfa for subject A00028844\n",
      "  Finished tract IPS_R_gwfa_SPL_R_gwfa for subject A00028844\n",
      "  - Tract IPS_R_gwfa_dPMC_L_gwfa not found. Skipping.\n",
      "  Finished tract IPS_R_gwfa_dPMC_R_gwfa for subject A00028844\n",
      "  - Tract IPS_R_gwfa_vPMC_L_gwfa not found. Skipping.\n",
      "  Finished tract IPS_R_gwfa_vPMC_R_gwfa for subject A00028844\n",
      "  Finished tract SPL_L_gwfa_SPL_R_gwfa for subject A00028844\n",
      "  Finished tract SPL_L_gwfa_dPMC_L_gwfa for subject A00028844\n",
      "  Finished tract SPL_L_gwfa_dPMC_R_gwfa for subject A00028844\n",
      "  Finished tract SPL_L_gwfa_vPMC_L_gwfa for subject A00028844\n",
      "  - Tract SPL_L_gwfa_vPMC_R_gwfa not found. Skipping.\n",
      "  Finished tract SPL_R_gwfa_dPMC_L_gwfa for subject A00028844\n",
      "  Finished tract SPL_R_gwfa_dPMC_R_gwfa for subject A00028844\n",
      "  Finished tract SPL_R_gwfa_vPMC_L_gwfa for subject A00028844\n",
      "  Finished tract SPL_R_gwfa_vPMC_R_gwfa for subject A00028844\n",
      "  Finished tract dPMC_L_gwfa_dPMC_R_gwfa for subject A00028844\n",
      "  Finished tract dPMC_L_gwfa_vPMC_L_gwfa for subject A00028844\n",
      "  Finished tract dPMC_L_gwfa_vPMC_R_gwfa for subject A00028844\n",
      "  Finished tract dPMC_R_gwfa_vPMC_L_gwfa for subject A00028844\n",
      "  Finished tract dPMC_R_gwfa_vPMC_R_gwfa for subject A00028844\n",
      "  Finished tract vPMC_L_gwfa_vPMC_R_gwfa for subject A00028844\n",
      "Successfully processed subject A00028844.\n",
      "Starting processing of subject A00028845.\n",
      "  Finished tract IPL_L_gwfa_IPL_R_gwfa for subject A00028845\n",
      "  Finished tract IPL_L_gwfa_IPS_L_gwfa for subject A00028845\n",
      "  Finished tract IPL_L_gwfa_IPS_R_gwfa for subject A00028845\n",
      "  Finished tract IPL_L_gwfa_SPL_L_gwfa for subject A00028845\n",
      "  Finished tract IPL_L_gwfa_SPL_R_gwfa for subject A00028845\n",
      "  Finished tract IPL_L_gwfa_dPMC_L_gwfa for subject A00028845\n",
      "  - Tract IPL_L_gwfa_dPMC_R_gwfa not found. Skipping.\n",
      "  Finished tract IPL_L_gwfa_vPMC_L_gwfa for subject A00028845\n",
      "  Finished tract IPL_L_gwfa_vPMC_R_gwfa for subject A00028845\n",
      "  Finished tract IPL_R_gwfa_IPS_L_gwfa for subject A00028845\n",
      "  Finished tract IPL_R_gwfa_IPS_R_gwfa for subject A00028845\n",
      "  Finished tract IPL_R_gwfa_SPL_L_gwfa for subject A00028845\n",
      "  Finished tract IPL_R_gwfa_SPL_R_gwfa for subject A00028845\n",
      "  - Tract IPL_R_gwfa_dPMC_L_gwfa not found. Skipping.\n",
      "  Finished tract IPL_R_gwfa_dPMC_R_gwfa for subject A00028845\n",
      "  - Tract IPL_R_gwfa_vPMC_L_gwfa not found. Skipping.\n",
      "  Finished tract IPL_R_gwfa_vPMC_R_gwfa for subject A00028845\n",
      "  Finished tract IPS_L_gwfa_IPS_R_gwfa for subject A00028845\n",
      "  Finished tract IPS_L_gwfa_SPL_L_gwfa for subject A00028845\n",
      "  Finished tract IPS_L_gwfa_SPL_R_gwfa for subject A00028845\n",
      "  Finished tract IPS_L_gwfa_dPMC_L_gwfa for subject A00028845\n",
      "  Finished tract IPS_L_gwfa_dPMC_R_gwfa for subject A00028845\n",
      "  Finished tract IPS_L_gwfa_vPMC_L_gwfa for subject A00028845\n",
      "  Finished tract IPS_L_gwfa_vPMC_R_gwfa for subject A00028845\n",
      "  Finished tract IPS_R_gwfa_SPL_L_gwfa for subject A00028845\n",
      "  Finished tract IPS_R_gwfa_SPL_R_gwfa for subject A00028845\n",
      "  - Tract IPS_R_gwfa_dPMC_L_gwfa not found. Skipping.\n",
      "  Finished tract IPS_R_gwfa_dPMC_R_gwfa for subject A00028845\n",
      "  - Tract IPS_R_gwfa_vPMC_L_gwfa not found. Skipping.\n",
      "  Finished tract IPS_R_gwfa_vPMC_R_gwfa for subject A00028845\n",
      "  Finished tract SPL_L_gwfa_SPL_R_gwfa for subject A00028845\n",
      "  Finished tract SPL_L_gwfa_dPMC_L_gwfa for subject A00028845\n",
      "  Finished tract SPL_L_gwfa_dPMC_R_gwfa for subject A00028845\n",
      "  Finished tract SPL_L_gwfa_vPMC_L_gwfa for subject A00028845\n",
      "  - Tract SPL_L_gwfa_vPMC_R_gwfa not found. Skipping.\n",
      "  Finished tract SPL_R_gwfa_dPMC_L_gwfa for subject A00028845\n",
      "  Finished tract SPL_R_gwfa_dPMC_R_gwfa for subject A00028845\n",
      "  Finished tract SPL_R_gwfa_vPMC_L_gwfa for subject A00028845\n",
      "  Finished tract SPL_R_gwfa_vPMC_R_gwfa for subject A00028845\n",
      "  Finished tract dPMC_L_gwfa_dPMC_R_gwfa for subject A00028845\n",
      "  Finished tract dPMC_L_gwfa_vPMC_L_gwfa for subject A00028845\n",
      "  Finished tract dPMC_L_gwfa_vPMC_R_gwfa for subject A00028845\n",
      "  Finished tract dPMC_R_gwfa_vPMC_L_gwfa for subject A00028845\n",
      "  Finished tract dPMC_R_gwfa_vPMC_R_gwfa for subject A00028845\n",
      "  Finished tract vPMC_L_gwfa_vPMC_R_gwfa for subject A00028845\n",
      "Successfully processed subject A00028845.\n",
      "Starting processing of subject A00028912.\n",
      "  Finished tract IPL_L_gwfa_IPL_R_gwfa for subject A00028912\n",
      "  Finished tract IPL_L_gwfa_IPS_L_gwfa for subject A00028912\n",
      "  Finished tract IPL_L_gwfa_IPS_R_gwfa for subject A00028912\n",
      "  Finished tract IPL_L_gwfa_SPL_L_gwfa for subject A00028912\n",
      "  Finished tract IPL_L_gwfa_SPL_R_gwfa for subject A00028912\n",
      "  Finished tract IPL_L_gwfa_dPMC_L_gwfa for subject A00028912\n",
      "  - Tract IPL_L_gwfa_dPMC_R_gwfa not found. Skipping.\n",
      "  Finished tract IPL_L_gwfa_vPMC_L_gwfa for subject A00028912\n",
      "  Finished tract IPL_L_gwfa_vPMC_R_gwfa for subject A00028912\n",
      "  Finished tract IPL_R_gwfa_IPS_L_gwfa for subject A00028912\n",
      "  Finished tract IPL_R_gwfa_IPS_R_gwfa for subject A00028912\n",
      "  Finished tract IPL_R_gwfa_SPL_L_gwfa for subject A00028912\n",
      "  Finished tract IPL_R_gwfa_SPL_R_gwfa for subject A00028912\n",
      "  - Tract IPL_R_gwfa_dPMC_L_gwfa not found. Skipping.\n",
      "  Finished tract IPL_R_gwfa_dPMC_R_gwfa for subject A00028912\n",
      "  - Tract IPL_R_gwfa_vPMC_L_gwfa not found. Skipping.\n",
      "  Finished tract IPL_R_gwfa_vPMC_R_gwfa for subject A00028912\n",
      "  Finished tract IPS_L_gwfa_IPS_R_gwfa for subject A00028912\n",
      "  Finished tract IPS_L_gwfa_SPL_L_gwfa for subject A00028912\n",
      "  Finished tract IPS_L_gwfa_SPL_R_gwfa for subject A00028912\n",
      "  Finished tract IPS_L_gwfa_dPMC_L_gwfa for subject A00028912\n",
      "  Finished tract IPS_L_gwfa_dPMC_R_gwfa for subject A00028912\n",
      "  Finished tract IPS_L_gwfa_vPMC_L_gwfa for subject A00028912\n",
      "  Finished tract IPS_L_gwfa_vPMC_R_gwfa for subject A00028912\n",
      "  Finished tract IPS_R_gwfa_SPL_L_gwfa for subject A00028912\n",
      "  Finished tract IPS_R_gwfa_SPL_R_gwfa for subject A00028912\n",
      "  - Tract IPS_R_gwfa_dPMC_L_gwfa not found. Skipping.\n",
      "  Finished tract IPS_R_gwfa_dPMC_R_gwfa for subject A00028912\n",
      "  - Tract IPS_R_gwfa_vPMC_L_gwfa not found. Skipping.\n",
      "  Finished tract IPS_R_gwfa_vPMC_R_gwfa for subject A00028912\n",
      "  Finished tract SPL_L_gwfa_SPL_R_gwfa for subject A00028912\n",
      "  Finished tract SPL_L_gwfa_dPMC_L_gwfa for subject A00028912\n",
      "  Finished tract SPL_L_gwfa_dPMC_R_gwfa for subject A00028912\n",
      "  Finished tract SPL_L_gwfa_vPMC_L_gwfa for subject A00028912\n",
      "  - Tract SPL_L_gwfa_vPMC_R_gwfa not found. Skipping.\n",
      "  Finished tract SPL_R_gwfa_dPMC_L_gwfa for subject A00028912\n",
      "  Finished tract SPL_R_gwfa_dPMC_R_gwfa for subject A00028912\n",
      "  Finished tract SPL_R_gwfa_vPMC_L_gwfa for subject A00028912\n",
      "  Finished tract SPL_R_gwfa_vPMC_R_gwfa for subject A00028912\n",
      "  Finished tract dPMC_L_gwfa_dPMC_R_gwfa for subject A00028912\n",
      "  Finished tract dPMC_L_gwfa_vPMC_L_gwfa for subject A00028912\n",
      "  Finished tract dPMC_L_gwfa_vPMC_R_gwfa for subject A00028912\n",
      "  Finished tract dPMC_R_gwfa_vPMC_L_gwfa for subject A00028912\n",
      "  Finished tract dPMC_R_gwfa_vPMC_R_gwfa for subject A00028912\n",
      "  Finished tract vPMC_L_gwfa_vPMC_R_gwfa for subject A00028912\n",
      "Successfully processed subject A00028912.\n",
      "Starting processing of subject A00028994.\n",
      "  Finished tract IPL_L_gwfa_IPL_R_gwfa for subject A00028994\n",
      "  Finished tract IPL_L_gwfa_IPS_L_gwfa for subject A00028994\n",
      "  Finished tract IPL_L_gwfa_IPS_R_gwfa for subject A00028994\n",
      "  Finished tract IPL_L_gwfa_SPL_L_gwfa for subject A00028994\n",
      "  Finished tract IPL_L_gwfa_SPL_R_gwfa for subject A00028994\n",
      "  Finished tract IPL_L_gwfa_dPMC_L_gwfa for subject A00028994\n",
      "  - Tract IPL_L_gwfa_dPMC_R_gwfa not found. Skipping.\n",
      "  Finished tract IPL_L_gwfa_vPMC_L_gwfa for subject A00028994\n",
      "  Finished tract IPL_L_gwfa_vPMC_R_gwfa for subject A00028994\n",
      "  Finished tract IPL_R_gwfa_IPS_L_gwfa for subject A00028994\n",
      "  Finished tract IPL_R_gwfa_IPS_R_gwfa for subject A00028994\n",
      "  Finished tract IPL_R_gwfa_SPL_L_gwfa for subject A00028994\n",
      "  Finished tract IPL_R_gwfa_SPL_R_gwfa for subject A00028994\n",
      "  - Tract IPL_R_gwfa_dPMC_L_gwfa not found. Skipping.\n",
      "  Finished tract IPL_R_gwfa_dPMC_R_gwfa for subject A00028994\n",
      "  - Tract IPL_R_gwfa_vPMC_L_gwfa not found. Skipping.\n"
     ]
    },
    {
     "name": "stdout",
     "output_type": "stream",
     "text": [
      "  Finished tract IPL_R_gwfa_vPMC_R_gwfa for subject A00028994\n",
      "  Finished tract IPS_L_gwfa_IPS_R_gwfa for subject A00028994\n",
      "  Finished tract IPS_L_gwfa_SPL_L_gwfa for subject A00028994\n",
      "  Finished tract IPS_L_gwfa_SPL_R_gwfa for subject A00028994\n",
      "  Finished tract IPS_L_gwfa_dPMC_L_gwfa for subject A00028994\n",
      "  Finished tract IPS_L_gwfa_dPMC_R_gwfa for subject A00028994\n",
      "  Finished tract IPS_L_gwfa_vPMC_L_gwfa for subject A00028994\n",
      "  Finished tract IPS_L_gwfa_vPMC_R_gwfa for subject A00028994\n",
      "  Finished tract IPS_R_gwfa_SPL_L_gwfa for subject A00028994\n",
      "  Finished tract IPS_R_gwfa_SPL_R_gwfa for subject A00028994\n",
      "  - Tract IPS_R_gwfa_dPMC_L_gwfa not found. Skipping.\n",
      "  Finished tract IPS_R_gwfa_dPMC_R_gwfa for subject A00028994\n",
      "  - Tract IPS_R_gwfa_vPMC_L_gwfa not found. Skipping.\n",
      "  Finished tract IPS_R_gwfa_vPMC_R_gwfa for subject A00028994\n",
      "  Finished tract SPL_L_gwfa_SPL_R_gwfa for subject A00028994\n",
      "  Finished tract SPL_L_gwfa_dPMC_L_gwfa for subject A00028994\n",
      "  Finished tract SPL_L_gwfa_dPMC_R_gwfa for subject A00028994\n",
      "  Finished tract SPL_L_gwfa_vPMC_L_gwfa for subject A00028994\n",
      "  - Tract SPL_L_gwfa_vPMC_R_gwfa not found. Skipping.\n",
      "  Finished tract SPL_R_gwfa_dPMC_L_gwfa for subject A00028994\n",
      "  Finished tract SPL_R_gwfa_dPMC_R_gwfa for subject A00028994\n",
      "  Finished tract SPL_R_gwfa_vPMC_L_gwfa for subject A00028994\n",
      "  Finished tract SPL_R_gwfa_vPMC_R_gwfa for subject A00028994\n",
      "  Finished tract dPMC_L_gwfa_dPMC_R_gwfa for subject A00028994\n",
      "  Finished tract dPMC_L_gwfa_vPMC_L_gwfa for subject A00028994\n",
      "  Finished tract dPMC_L_gwfa_vPMC_R_gwfa for subject A00028994\n",
      "  Finished tract dPMC_R_gwfa_vPMC_L_gwfa for subject A00028994\n",
      "  Finished tract dPMC_R_gwfa_vPMC_R_gwfa for subject A00028994\n",
      "  Finished tract vPMC_L_gwfa_vPMC_R_gwfa for subject A00028994\n",
      "Successfully processed subject A00028994.\n",
      "Starting processing of subject A00029076.\n",
      "  Finished tract IPL_L_gwfa_IPL_R_gwfa for subject A00029076\n",
      "  Finished tract IPL_L_gwfa_IPS_L_gwfa for subject A00029076\n",
      "  Finished tract IPL_L_gwfa_IPS_R_gwfa for subject A00029076\n",
      "  Finished tract IPL_L_gwfa_SPL_L_gwfa for subject A00029076\n",
      "  Finished tract IPL_L_gwfa_SPL_R_gwfa for subject A00029076\n",
      "  Finished tract IPL_L_gwfa_dPMC_L_gwfa for subject A00029076\n",
      "  - Tract IPL_L_gwfa_dPMC_R_gwfa not found. Skipping.\n",
      "  Finished tract IPL_L_gwfa_vPMC_L_gwfa for subject A00029076\n",
      "  Finished tract IPL_L_gwfa_vPMC_R_gwfa for subject A00029076\n",
      "  Finished tract IPL_R_gwfa_IPS_L_gwfa for subject A00029076\n",
      "  Finished tract IPL_R_gwfa_IPS_R_gwfa for subject A00029076\n",
      "  Finished tract IPL_R_gwfa_SPL_L_gwfa for subject A00029076\n",
      "  Finished tract IPL_R_gwfa_SPL_R_gwfa for subject A00029076\n",
      "  - Tract IPL_R_gwfa_dPMC_L_gwfa not found. Skipping.\n",
      "  Finished tract IPL_R_gwfa_dPMC_R_gwfa for subject A00029076\n",
      "  - Tract IPL_R_gwfa_vPMC_L_gwfa not found. Skipping.\n",
      "  Finished tract IPL_R_gwfa_vPMC_R_gwfa for subject A00029076\n",
      "  Finished tract IPS_L_gwfa_IPS_R_gwfa for subject A00029076\n",
      "  Finished tract IPS_L_gwfa_SPL_L_gwfa for subject A00029076\n",
      "  Finished tract IPS_L_gwfa_SPL_R_gwfa for subject A00029076\n",
      "  Finished tract IPS_L_gwfa_dPMC_L_gwfa for subject A00029076\n",
      "  Finished tract IPS_L_gwfa_dPMC_R_gwfa for subject A00029076\n",
      "  Finished tract IPS_L_gwfa_vPMC_L_gwfa for subject A00029076\n",
      "  Finished tract IPS_L_gwfa_vPMC_R_gwfa for subject A00029076\n",
      "  Finished tract IPS_R_gwfa_SPL_L_gwfa for subject A00029076\n",
      "  Finished tract IPS_R_gwfa_SPL_R_gwfa for subject A00029076\n",
      "  - Tract IPS_R_gwfa_dPMC_L_gwfa not found. Skipping.\n",
      "  Finished tract IPS_R_gwfa_dPMC_R_gwfa for subject A00029076\n",
      "  - Tract IPS_R_gwfa_vPMC_L_gwfa not found. Skipping.\n",
      "  Finished tract IPS_R_gwfa_vPMC_R_gwfa for subject A00029076\n",
      "  Finished tract SPL_L_gwfa_SPL_R_gwfa for subject A00029076\n",
      "  Finished tract SPL_L_gwfa_dPMC_L_gwfa for subject A00029076\n",
      "  Finished tract SPL_L_gwfa_dPMC_R_gwfa for subject A00029076\n",
      "  Finished tract SPL_L_gwfa_vPMC_L_gwfa for subject A00029076\n",
      "  - Tract SPL_L_gwfa_vPMC_R_gwfa not found. Skipping.\n",
      "  Finished tract SPL_R_gwfa_dPMC_L_gwfa for subject A00029076\n",
      "  Finished tract SPL_R_gwfa_dPMC_R_gwfa for subject A00029076\n",
      "  Finished tract SPL_R_gwfa_vPMC_L_gwfa for subject A00029076\n",
      "  Finished tract SPL_R_gwfa_vPMC_R_gwfa for subject A00029076\n",
      "  Finished tract dPMC_L_gwfa_dPMC_R_gwfa for subject A00029076\n",
      "  Finished tract dPMC_L_gwfa_vPMC_L_gwfa for subject A00029076\n",
      "  Finished tract dPMC_L_gwfa_vPMC_R_gwfa for subject A00029076\n",
      "  Finished tract dPMC_R_gwfa_vPMC_L_gwfa for subject A00029076\n",
      "  Finished tract dPMC_R_gwfa_vPMC_R_gwfa for subject A00029076\n",
      "  Finished tract vPMC_L_gwfa_vPMC_R_gwfa for subject A00029076\n",
      "Successfully processed subject A00029076.\n",
      "Starting processing of subject A00029092.\n",
      "  Finished tract IPL_L_gwfa_IPL_R_gwfa for subject A00029092\n",
      "  Finished tract IPL_L_gwfa_IPS_L_gwfa for subject A00029092\n",
      "  Finished tract IPL_L_gwfa_IPS_R_gwfa for subject A00029092\n",
      "  Finished tract IPL_L_gwfa_SPL_L_gwfa for subject A00029092\n",
      "  Finished tract IPL_L_gwfa_SPL_R_gwfa for subject A00029092\n",
      "  Finished tract IPL_L_gwfa_dPMC_L_gwfa for subject A00029092\n",
      "  - Tract IPL_L_gwfa_dPMC_R_gwfa not found. Skipping.\n",
      "  Finished tract IPL_L_gwfa_vPMC_L_gwfa for subject A00029092\n",
      "  Finished tract IPL_L_gwfa_vPMC_R_gwfa for subject A00029092\n",
      "  Finished tract IPL_R_gwfa_IPS_L_gwfa for subject A00029092\n",
      "  Finished tract IPL_R_gwfa_IPS_R_gwfa for subject A00029092\n",
      "  Finished tract IPL_R_gwfa_SPL_L_gwfa for subject A00029092\n",
      "  Finished tract IPL_R_gwfa_SPL_R_gwfa for subject A00029092\n",
      "  - Tract IPL_R_gwfa_dPMC_L_gwfa not found. Skipping.\n",
      "  Finished tract IPL_R_gwfa_dPMC_R_gwfa for subject A00029092\n",
      "  - Tract IPL_R_gwfa_vPMC_L_gwfa not found. Skipping.\n",
      "  Finished tract IPL_R_gwfa_vPMC_R_gwfa for subject A00029092\n",
      "  Finished tract IPS_L_gwfa_IPS_R_gwfa for subject A00029092\n",
      "  Finished tract IPS_L_gwfa_SPL_L_gwfa for subject A00029092\n",
      "  Finished tract IPS_L_gwfa_SPL_R_gwfa for subject A00029092\n",
      "  Finished tract IPS_L_gwfa_dPMC_L_gwfa for subject A00029092\n",
      "  Finished tract IPS_L_gwfa_dPMC_R_gwfa for subject A00029092\n",
      "  Finished tract IPS_L_gwfa_vPMC_L_gwfa for subject A00029092\n",
      "  Finished tract IPS_L_gwfa_vPMC_R_gwfa for subject A00029092\n",
      "  Finished tract IPS_R_gwfa_SPL_L_gwfa for subject A00029092\n",
      "  Finished tract IPS_R_gwfa_SPL_R_gwfa for subject A00029092\n",
      "  - Tract IPS_R_gwfa_dPMC_L_gwfa not found. Skipping.\n",
      "  Finished tract IPS_R_gwfa_dPMC_R_gwfa for subject A00029092\n",
      "  - Tract IPS_R_gwfa_vPMC_L_gwfa not found. Skipping.\n",
      "  Finished tract IPS_R_gwfa_vPMC_R_gwfa for subject A00029092\n",
      "  Finished tract SPL_L_gwfa_SPL_R_gwfa for subject A00029092\n",
      "  Finished tract SPL_L_gwfa_dPMC_L_gwfa for subject A00029092\n",
      "  Finished tract SPL_L_gwfa_dPMC_R_gwfa for subject A00029092\n",
      "  Finished tract SPL_L_gwfa_vPMC_L_gwfa for subject A00029092\n",
      "  - Tract SPL_L_gwfa_vPMC_R_gwfa not found. Skipping.\n",
      "  Finished tract SPL_R_gwfa_dPMC_L_gwfa for subject A00029092\n",
      "  Finished tract SPL_R_gwfa_dPMC_R_gwfa for subject A00029092\n",
      "  Finished tract SPL_R_gwfa_vPMC_L_gwfa for subject A00029092\n",
      "  Finished tract SPL_R_gwfa_vPMC_R_gwfa for subject A00029092\n",
      "  Finished tract dPMC_L_gwfa_dPMC_R_gwfa for subject A00029092\n",
      "  Finished tract dPMC_L_gwfa_vPMC_L_gwfa for subject A00029092\n",
      "  Finished tract dPMC_L_gwfa_vPMC_R_gwfa for subject A00029092\n",
      "  Finished tract dPMC_R_gwfa_vPMC_L_gwfa for subject A00029092\n",
      "  Finished tract dPMC_R_gwfa_vPMC_R_gwfa for subject A00029092\n",
      "  Finished tract vPMC_L_gwfa_vPMC_R_gwfa for subject A00029092\n",
      "Successfully processed subject A00029092.\n",
      "Starting processing of subject A00029104.\n",
      "  Finished tract IPL_L_gwfa_IPL_R_gwfa for subject A00029104\n",
      "  Finished tract IPL_L_gwfa_IPS_L_gwfa for subject A00029104\n",
      "  Finished tract IPL_L_gwfa_IPS_R_gwfa for subject A00029104\n",
      "  Finished tract IPL_L_gwfa_SPL_L_gwfa for subject A00029104\n",
      "  Finished tract IPL_L_gwfa_SPL_R_gwfa for subject A00029104\n",
      "  Finished tract IPL_L_gwfa_dPMC_L_gwfa for subject A00029104\n",
      "  - Tract IPL_L_gwfa_dPMC_R_gwfa not found. Skipping.\n",
      "  Finished tract IPL_L_gwfa_vPMC_L_gwfa for subject A00029104\n",
      "  Finished tract IPL_L_gwfa_vPMC_R_gwfa for subject A00029104\n",
      "  Finished tract IPL_R_gwfa_IPS_L_gwfa for subject A00029104\n",
      "  Finished tract IPL_R_gwfa_IPS_R_gwfa for subject A00029104\n",
      "  Finished tract IPL_R_gwfa_SPL_L_gwfa for subject A00029104\n"
     ]
    },
    {
     "name": "stdout",
     "output_type": "stream",
     "text": [
      "  Finished tract IPL_R_gwfa_SPL_R_gwfa for subject A00029104\n",
      "  - Tract IPL_R_gwfa_dPMC_L_gwfa not found. Skipping.\n",
      "  Finished tract IPL_R_gwfa_dPMC_R_gwfa for subject A00029104\n",
      "  - Tract IPL_R_gwfa_vPMC_L_gwfa not found. Skipping.\n",
      "  Finished tract IPL_R_gwfa_vPMC_R_gwfa for subject A00029104\n",
      "  Finished tract IPS_L_gwfa_IPS_R_gwfa for subject A00029104\n",
      "  Finished tract IPS_L_gwfa_SPL_L_gwfa for subject A00029104\n",
      "  Finished tract IPS_L_gwfa_SPL_R_gwfa for subject A00029104\n",
      "  Finished tract IPS_L_gwfa_dPMC_L_gwfa for subject A00029104\n",
      "  Finished tract IPS_L_gwfa_dPMC_R_gwfa for subject A00029104\n",
      "  Finished tract IPS_L_gwfa_vPMC_L_gwfa for subject A00029104\n",
      "  Finished tract IPS_L_gwfa_vPMC_R_gwfa for subject A00029104\n",
      "  Finished tract IPS_R_gwfa_SPL_L_gwfa for subject A00029104\n",
      "  Finished tract IPS_R_gwfa_SPL_R_gwfa for subject A00029104\n",
      "  - Tract IPS_R_gwfa_dPMC_L_gwfa not found. Skipping.\n",
      "  Finished tract IPS_R_gwfa_dPMC_R_gwfa for subject A00029104\n",
      "  - Tract IPS_R_gwfa_vPMC_L_gwfa not found. Skipping.\n",
      "  Finished tract IPS_R_gwfa_vPMC_R_gwfa for subject A00029104\n",
      "  Finished tract SPL_L_gwfa_SPL_R_gwfa for subject A00029104\n",
      "  Finished tract SPL_L_gwfa_dPMC_L_gwfa for subject A00029104\n",
      "  Finished tract SPL_L_gwfa_dPMC_R_gwfa for subject A00029104\n",
      "  Finished tract SPL_L_gwfa_vPMC_L_gwfa for subject A00029104\n",
      "  - Tract SPL_L_gwfa_vPMC_R_gwfa not found. Skipping.\n",
      "  Finished tract SPL_R_gwfa_dPMC_L_gwfa for subject A00029104\n",
      "  Finished tract SPL_R_gwfa_dPMC_R_gwfa for subject A00029104\n",
      "  Finished tract SPL_R_gwfa_vPMC_L_gwfa for subject A00029104\n",
      "  Finished tract SPL_R_gwfa_vPMC_R_gwfa for subject A00029104\n",
      "  Finished tract dPMC_L_gwfa_dPMC_R_gwfa for subject A00029104\n",
      "  Finished tract dPMC_L_gwfa_vPMC_L_gwfa for subject A00029104\n",
      "  Finished tract dPMC_L_gwfa_vPMC_R_gwfa for subject A00029104\n",
      "  Finished tract dPMC_R_gwfa_vPMC_L_gwfa for subject A00029104\n",
      "  Finished tract dPMC_R_gwfa_vPMC_R_gwfa for subject A00029104\n",
      "  Finished tract vPMC_L_gwfa_vPMC_R_gwfa for subject A00029104\n",
      "Successfully processed subject A00029104.\n",
      "Starting processing of subject A00029215.\n",
      "  Finished tract IPL_L_gwfa_IPL_R_gwfa for subject A00029215\n",
      "  Finished tract IPL_L_gwfa_IPS_L_gwfa for subject A00029215\n",
      "  Finished tract IPL_L_gwfa_IPS_R_gwfa for subject A00029215\n",
      "  Finished tract IPL_L_gwfa_SPL_L_gwfa for subject A00029215\n",
      "  Finished tract IPL_L_gwfa_SPL_R_gwfa for subject A00029215\n",
      "  Finished tract IPL_L_gwfa_dPMC_L_gwfa for subject A00029215\n",
      "  - Tract IPL_L_gwfa_dPMC_R_gwfa not found. Skipping.\n",
      "  Finished tract IPL_L_gwfa_vPMC_L_gwfa for subject A00029215\n",
      "  Finished tract IPL_L_gwfa_vPMC_R_gwfa for subject A00029215\n",
      "  Finished tract IPL_R_gwfa_IPS_L_gwfa for subject A00029215\n",
      "  Finished tract IPL_R_gwfa_IPS_R_gwfa for subject A00029215\n",
      "  Finished tract IPL_R_gwfa_SPL_L_gwfa for subject A00029215\n",
      "  Finished tract IPL_R_gwfa_SPL_R_gwfa for subject A00029215\n",
      "  - Tract IPL_R_gwfa_dPMC_L_gwfa not found. Skipping.\n",
      "  Finished tract IPL_R_gwfa_dPMC_R_gwfa for subject A00029215\n",
      "  - Tract IPL_R_gwfa_vPMC_L_gwfa not found. Skipping.\n",
      "  Finished tract IPL_R_gwfa_vPMC_R_gwfa for subject A00029215\n",
      "  Finished tract IPS_L_gwfa_IPS_R_gwfa for subject A00029215\n",
      "  Finished tract IPS_L_gwfa_SPL_L_gwfa for subject A00029215\n",
      "  Finished tract IPS_L_gwfa_SPL_R_gwfa for subject A00029215\n",
      "  Finished tract IPS_L_gwfa_dPMC_L_gwfa for subject A00029215\n",
      "  Finished tract IPS_L_gwfa_dPMC_R_gwfa for subject A00029215\n",
      "  Finished tract IPS_L_gwfa_vPMC_L_gwfa for subject A00029215\n",
      "  Finished tract IPS_L_gwfa_vPMC_R_gwfa for subject A00029215\n",
      "  Finished tract IPS_R_gwfa_SPL_L_gwfa for subject A00029215\n",
      "  Finished tract IPS_R_gwfa_SPL_R_gwfa for subject A00029215\n",
      "  - Tract IPS_R_gwfa_dPMC_L_gwfa not found. Skipping.\n",
      "  Finished tract IPS_R_gwfa_dPMC_R_gwfa for subject A00029215\n",
      "  - Tract IPS_R_gwfa_vPMC_L_gwfa not found. Skipping.\n",
      "  Finished tract IPS_R_gwfa_vPMC_R_gwfa for subject A00029215\n",
      "  Finished tract SPL_L_gwfa_SPL_R_gwfa for subject A00029215\n",
      "  Finished tract SPL_L_gwfa_dPMC_L_gwfa for subject A00029215\n",
      "  Finished tract SPL_L_gwfa_dPMC_R_gwfa for subject A00029215\n",
      "  Finished tract SPL_L_gwfa_vPMC_L_gwfa for subject A00029215\n",
      "  - Tract SPL_L_gwfa_vPMC_R_gwfa not found. Skipping.\n",
      "  Finished tract SPL_R_gwfa_dPMC_L_gwfa for subject A00029215\n",
      "  Finished tract SPL_R_gwfa_dPMC_R_gwfa for subject A00029215\n",
      "  Finished tract SPL_R_gwfa_vPMC_L_gwfa for subject A00029215\n",
      "  Finished tract SPL_R_gwfa_vPMC_R_gwfa for subject A00029215\n",
      "  Finished tract dPMC_L_gwfa_dPMC_R_gwfa for subject A00029215\n",
      "  Finished tract dPMC_L_gwfa_vPMC_L_gwfa for subject A00029215\n",
      "  Finished tract dPMC_L_gwfa_vPMC_R_gwfa for subject A00029215\n",
      "  Finished tract dPMC_R_gwfa_vPMC_L_gwfa for subject A00029215\n",
      "  Finished tract dPMC_R_gwfa_vPMC_R_gwfa for subject A00029215\n",
      "  Finished tract vPMC_L_gwfa_vPMC_R_gwfa for subject A00029215\n",
      "Successfully processed subject A00029215.\n",
      "Starting processing of subject A00029230.\n",
      "  Finished tract IPL_L_gwfa_IPL_R_gwfa for subject A00029230\n",
      "  Finished tract IPL_L_gwfa_IPS_L_gwfa for subject A00029230\n",
      "  Finished tract IPL_L_gwfa_IPS_R_gwfa for subject A00029230\n",
      "  Finished tract IPL_L_gwfa_SPL_L_gwfa for subject A00029230\n",
      "  Finished tract IPL_L_gwfa_SPL_R_gwfa for subject A00029230\n",
      "  Finished tract IPL_L_gwfa_dPMC_L_gwfa for subject A00029230\n",
      "  - Tract IPL_L_gwfa_dPMC_R_gwfa not found. Skipping.\n",
      "  Finished tract IPL_L_gwfa_vPMC_L_gwfa for subject A00029230\n",
      "  Finished tract IPL_L_gwfa_vPMC_R_gwfa for subject A00029230\n",
      "  Finished tract IPL_R_gwfa_IPS_L_gwfa for subject A00029230\n",
      "  Finished tract IPL_R_gwfa_IPS_R_gwfa for subject A00029230\n",
      "  Finished tract IPL_R_gwfa_SPL_L_gwfa for subject A00029230\n",
      "  Finished tract IPL_R_gwfa_SPL_R_gwfa for subject A00029230\n",
      "  - Tract IPL_R_gwfa_dPMC_L_gwfa not found. Skipping.\n",
      "  Finished tract IPL_R_gwfa_dPMC_R_gwfa for subject A00029230\n",
      "  - Tract IPL_R_gwfa_vPMC_L_gwfa not found. Skipping.\n",
      "  Finished tract IPL_R_gwfa_vPMC_R_gwfa for subject A00029230\n",
      "  Finished tract IPS_L_gwfa_IPS_R_gwfa for subject A00029230\n",
      "  Finished tract IPS_L_gwfa_SPL_L_gwfa for subject A00029230\n",
      "  Finished tract IPS_L_gwfa_SPL_R_gwfa for subject A00029230\n",
      "  Finished tract IPS_L_gwfa_dPMC_L_gwfa for subject A00029230\n",
      "  Finished tract IPS_L_gwfa_dPMC_R_gwfa for subject A00029230\n",
      "  Finished tract IPS_L_gwfa_vPMC_L_gwfa for subject A00029230\n",
      "  Finished tract IPS_L_gwfa_vPMC_R_gwfa for subject A00029230\n",
      "  Finished tract IPS_R_gwfa_SPL_L_gwfa for subject A00029230\n",
      "  Finished tract IPS_R_gwfa_SPL_R_gwfa for subject A00029230\n",
      "  - Tract IPS_R_gwfa_dPMC_L_gwfa not found. Skipping.\n",
      "  Finished tract IPS_R_gwfa_dPMC_R_gwfa for subject A00029230\n",
      "  - Tract IPS_R_gwfa_vPMC_L_gwfa not found. Skipping.\n",
      "  Finished tract IPS_R_gwfa_vPMC_R_gwfa for subject A00029230\n",
      "  Finished tract SPL_L_gwfa_SPL_R_gwfa for subject A00029230\n",
      "  Finished tract SPL_L_gwfa_dPMC_L_gwfa for subject A00029230\n",
      "  Finished tract SPL_L_gwfa_dPMC_R_gwfa for subject A00029230\n",
      "  Finished tract SPL_L_gwfa_vPMC_L_gwfa for subject A00029230\n",
      "  - Tract SPL_L_gwfa_vPMC_R_gwfa not found. Skipping.\n",
      "  Finished tract SPL_R_gwfa_dPMC_L_gwfa for subject A00029230\n",
      "  Finished tract SPL_R_gwfa_dPMC_R_gwfa for subject A00029230\n",
      "  Finished tract SPL_R_gwfa_vPMC_L_gwfa for subject A00029230\n",
      "  Finished tract SPL_R_gwfa_vPMC_R_gwfa for subject A00029230\n",
      "  Finished tract dPMC_L_gwfa_dPMC_R_gwfa for subject A00029230\n",
      "  Finished tract dPMC_L_gwfa_vPMC_L_gwfa for subject A00029230\n",
      "  Finished tract dPMC_L_gwfa_vPMC_R_gwfa for subject A00029230\n",
      "  Finished tract dPMC_R_gwfa_vPMC_L_gwfa for subject A00029230\n",
      "  Finished tract dPMC_R_gwfa_vPMC_R_gwfa for subject A00029230\n",
      "  Finished tract vPMC_L_gwfa_vPMC_R_gwfa for subject A00029230\n",
      "Successfully processed subject A00029230.\n",
      "Starting processing of subject A00029231.\n",
      "  Finished tract IPL_L_gwfa_IPL_R_gwfa for subject A00029231\n",
      "  Finished tract IPL_L_gwfa_IPS_L_gwfa for subject A00029231\n",
      "  Finished tract IPL_L_gwfa_IPS_R_gwfa for subject A00029231\n",
      "  Finished tract IPL_L_gwfa_SPL_L_gwfa for subject A00029231\n",
      "  Finished tract IPL_L_gwfa_SPL_R_gwfa for subject A00029231\n",
      "  Finished tract IPL_L_gwfa_dPMC_L_gwfa for subject A00029231\n",
      "  - Tract IPL_L_gwfa_dPMC_R_gwfa not found. Skipping.\n",
      "  Finished tract IPL_L_gwfa_vPMC_L_gwfa for subject A00029231\n"
     ]
    },
    {
     "name": "stdout",
     "output_type": "stream",
     "text": [
      "  Finished tract IPL_L_gwfa_vPMC_R_gwfa for subject A00029231\n",
      "  Finished tract IPL_R_gwfa_IPS_L_gwfa for subject A00029231\n",
      "  Finished tract IPL_R_gwfa_IPS_R_gwfa for subject A00029231\n",
      "  Finished tract IPL_R_gwfa_SPL_L_gwfa for subject A00029231\n",
      "  Finished tract IPL_R_gwfa_SPL_R_gwfa for subject A00029231\n",
      "  - Tract IPL_R_gwfa_dPMC_L_gwfa not found. Skipping.\n",
      "  Finished tract IPL_R_gwfa_dPMC_R_gwfa for subject A00029231\n",
      "  - Tract IPL_R_gwfa_vPMC_L_gwfa not found. Skipping.\n",
      "  Finished tract IPL_R_gwfa_vPMC_R_gwfa for subject A00029231\n",
      "  Finished tract IPS_L_gwfa_IPS_R_gwfa for subject A00029231\n",
      "  Finished tract IPS_L_gwfa_SPL_L_gwfa for subject A00029231\n",
      "  Finished tract IPS_L_gwfa_SPL_R_gwfa for subject A00029231\n",
      "  Finished tract IPS_L_gwfa_dPMC_L_gwfa for subject A00029231\n",
      "  Finished tract IPS_L_gwfa_dPMC_R_gwfa for subject A00029231\n",
      "  Finished tract IPS_L_gwfa_vPMC_L_gwfa for subject A00029231\n",
      "  Finished tract IPS_L_gwfa_vPMC_R_gwfa for subject A00029231\n",
      "  Finished tract IPS_R_gwfa_SPL_L_gwfa for subject A00029231\n",
      "  Finished tract IPS_R_gwfa_SPL_R_gwfa for subject A00029231\n",
      "  - Tract IPS_R_gwfa_dPMC_L_gwfa not found. Skipping.\n",
      "  Finished tract IPS_R_gwfa_dPMC_R_gwfa for subject A00029231\n",
      "  - Tract IPS_R_gwfa_vPMC_L_gwfa not found. Skipping.\n",
      "  Finished tract IPS_R_gwfa_vPMC_R_gwfa for subject A00029231\n",
      "  Finished tract SPL_L_gwfa_SPL_R_gwfa for subject A00029231\n",
      "  Finished tract SPL_L_gwfa_dPMC_L_gwfa for subject A00029231\n",
      "  Finished tract SPL_L_gwfa_dPMC_R_gwfa for subject A00029231\n",
      "  Finished tract SPL_L_gwfa_vPMC_L_gwfa for subject A00029231\n",
      "  - Tract SPL_L_gwfa_vPMC_R_gwfa not found. Skipping.\n",
      "  Finished tract SPL_R_gwfa_dPMC_L_gwfa for subject A00029231\n",
      "  Finished tract SPL_R_gwfa_dPMC_R_gwfa for subject A00029231\n",
      "  Finished tract SPL_R_gwfa_vPMC_L_gwfa for subject A00029231\n",
      "  Finished tract SPL_R_gwfa_vPMC_R_gwfa for subject A00029231\n",
      "  Finished tract dPMC_L_gwfa_dPMC_R_gwfa for subject A00029231\n",
      "  Finished tract dPMC_L_gwfa_vPMC_L_gwfa for subject A00029231\n",
      "  Finished tract dPMC_L_gwfa_vPMC_R_gwfa for subject A00029231\n",
      "  Finished tract dPMC_R_gwfa_vPMC_L_gwfa for subject A00029231\n",
      "  Finished tract dPMC_R_gwfa_vPMC_R_gwfa for subject A00029231\n",
      "  Finished tract vPMC_L_gwfa_vPMC_R_gwfa for subject A00029231\n",
      "Successfully processed subject A00029231.\n",
      "Starting processing of subject A00030912.\n",
      "  Finished tract IPL_L_gwfa_IPL_R_gwfa for subject A00030912\n",
      "  Finished tract IPL_L_gwfa_IPS_L_gwfa for subject A00030912\n",
      "  Finished tract IPL_L_gwfa_IPS_R_gwfa for subject A00030912\n",
      "  Finished tract IPL_L_gwfa_SPL_L_gwfa for subject A00030912\n",
      "  Finished tract IPL_L_gwfa_SPL_R_gwfa for subject A00030912\n",
      "  Finished tract IPL_L_gwfa_dPMC_L_gwfa for subject A00030912\n",
      "  - Tract IPL_L_gwfa_dPMC_R_gwfa not found. Skipping.\n",
      "  Finished tract IPL_L_gwfa_vPMC_L_gwfa for subject A00030912\n",
      "  Finished tract IPL_L_gwfa_vPMC_R_gwfa for subject A00030912\n",
      "  Finished tract IPL_R_gwfa_IPS_L_gwfa for subject A00030912\n",
      "  Finished tract IPL_R_gwfa_IPS_R_gwfa for subject A00030912\n",
      "  Finished tract IPL_R_gwfa_SPL_L_gwfa for subject A00030912\n",
      "  Finished tract IPL_R_gwfa_SPL_R_gwfa for subject A00030912\n",
      "  - Tract IPL_R_gwfa_dPMC_L_gwfa not found. Skipping.\n",
      "  Finished tract IPL_R_gwfa_dPMC_R_gwfa for subject A00030912\n",
      "  - Tract IPL_R_gwfa_vPMC_L_gwfa not found. Skipping.\n",
      "  Finished tract IPL_R_gwfa_vPMC_R_gwfa for subject A00030912\n",
      "  Finished tract IPS_L_gwfa_IPS_R_gwfa for subject A00030912\n",
      "  Finished tract IPS_L_gwfa_SPL_L_gwfa for subject A00030912\n",
      "  Finished tract IPS_L_gwfa_SPL_R_gwfa for subject A00030912\n",
      "  Finished tract IPS_L_gwfa_dPMC_L_gwfa for subject A00030912\n",
      "  Finished tract IPS_L_gwfa_dPMC_R_gwfa for subject A00030912\n",
      "  Finished tract IPS_L_gwfa_vPMC_L_gwfa for subject A00030912\n",
      "  Finished tract IPS_L_gwfa_vPMC_R_gwfa for subject A00030912\n",
      "  Finished tract IPS_R_gwfa_SPL_L_gwfa for subject A00030912\n",
      "  Finished tract IPS_R_gwfa_SPL_R_gwfa for subject A00030912\n",
      "  - Tract IPS_R_gwfa_dPMC_L_gwfa not found. Skipping.\n",
      "  Finished tract IPS_R_gwfa_dPMC_R_gwfa for subject A00030912\n",
      "  - Tract IPS_R_gwfa_vPMC_L_gwfa not found. Skipping.\n",
      "  Finished tract IPS_R_gwfa_vPMC_R_gwfa for subject A00030912\n",
      "  Finished tract SPL_L_gwfa_SPL_R_gwfa for subject A00030912\n",
      "  Finished tract SPL_L_gwfa_dPMC_L_gwfa for subject A00030912\n",
      "  Finished tract SPL_L_gwfa_dPMC_R_gwfa for subject A00030912\n",
      "  Finished tract SPL_L_gwfa_vPMC_L_gwfa for subject A00030912\n",
      "  - Tract SPL_L_gwfa_vPMC_R_gwfa not found. Skipping.\n",
      "  Finished tract SPL_R_gwfa_dPMC_L_gwfa for subject A00030912\n",
      "  Finished tract SPL_R_gwfa_dPMC_R_gwfa for subject A00030912\n",
      "  Finished tract SPL_R_gwfa_vPMC_L_gwfa for subject A00030912\n",
      "  Finished tract SPL_R_gwfa_vPMC_R_gwfa for subject A00030912\n",
      "  Finished tract dPMC_L_gwfa_dPMC_R_gwfa for subject A00030912\n",
      "  Finished tract dPMC_L_gwfa_vPMC_L_gwfa for subject A00030912\n",
      "  Finished tract dPMC_L_gwfa_vPMC_R_gwfa for subject A00030912\n",
      "  Finished tract dPMC_R_gwfa_vPMC_L_gwfa for subject A00030912\n",
      "  Finished tract dPMC_R_gwfa_vPMC_R_gwfa for subject A00030912\n",
      "  Finished tract vPMC_L_gwfa_vPMC_R_gwfa for subject A00030912\n",
      "Successfully processed subject A00030912.\n",
      "Starting processing of subject A00030913.\n",
      "  Finished tract IPL_L_gwfa_IPL_R_gwfa for subject A00030913\n",
      "  Finished tract IPL_L_gwfa_IPS_L_gwfa for subject A00030913\n",
      "  Finished tract IPL_L_gwfa_IPS_R_gwfa for subject A00030913\n",
      "  Finished tract IPL_L_gwfa_SPL_L_gwfa for subject A00030913\n",
      "  Finished tract IPL_L_gwfa_SPL_R_gwfa for subject A00030913\n",
      "  Finished tract IPL_L_gwfa_dPMC_L_gwfa for subject A00030913\n",
      "  - Tract IPL_L_gwfa_dPMC_R_gwfa not found. Skipping.\n",
      "  Finished tract IPL_L_gwfa_vPMC_L_gwfa for subject A00030913\n",
      "  Finished tract IPL_L_gwfa_vPMC_R_gwfa for subject A00030913\n",
      "  Finished tract IPL_R_gwfa_IPS_L_gwfa for subject A00030913\n",
      "  Finished tract IPL_R_gwfa_IPS_R_gwfa for subject A00030913\n",
      "  Finished tract IPL_R_gwfa_SPL_L_gwfa for subject A00030913\n",
      "  Finished tract IPL_R_gwfa_SPL_R_gwfa for subject A00030913\n",
      "  - Tract IPL_R_gwfa_dPMC_L_gwfa not found. Skipping.\n",
      "  Finished tract IPL_R_gwfa_dPMC_R_gwfa for subject A00030913\n",
      "  - Tract IPL_R_gwfa_vPMC_L_gwfa not found. Skipping.\n",
      "  Finished tract IPL_R_gwfa_vPMC_R_gwfa for subject A00030913\n",
      "  Finished tract IPS_L_gwfa_IPS_R_gwfa for subject A00030913\n",
      "  Finished tract IPS_L_gwfa_SPL_L_gwfa for subject A00030913\n",
      "  Finished tract IPS_L_gwfa_SPL_R_gwfa for subject A00030913\n",
      "  Finished tract IPS_L_gwfa_dPMC_L_gwfa for subject A00030913\n",
      "  Finished tract IPS_L_gwfa_dPMC_R_gwfa for subject A00030913\n",
      "  Finished tract IPS_L_gwfa_vPMC_L_gwfa for subject A00030913\n",
      "  Finished tract IPS_L_gwfa_vPMC_R_gwfa for subject A00030913\n",
      "  Finished tract IPS_R_gwfa_SPL_L_gwfa for subject A00030913\n",
      "  Finished tract IPS_R_gwfa_SPL_R_gwfa for subject A00030913\n",
      "  - Tract IPS_R_gwfa_dPMC_L_gwfa not found. Skipping.\n",
      "  Finished tract IPS_R_gwfa_dPMC_R_gwfa for subject A00030913\n",
      "  - Tract IPS_R_gwfa_vPMC_L_gwfa not found. Skipping.\n",
      "  Finished tract IPS_R_gwfa_vPMC_R_gwfa for subject A00030913\n",
      "  Finished tract SPL_L_gwfa_SPL_R_gwfa for subject A00030913\n",
      "  Finished tract SPL_L_gwfa_dPMC_L_gwfa for subject A00030913\n",
      "  Finished tract SPL_L_gwfa_dPMC_R_gwfa for subject A00030913\n",
      "  Finished tract SPL_L_gwfa_vPMC_L_gwfa for subject A00030913\n",
      "  - Tract SPL_L_gwfa_vPMC_R_gwfa not found. Skipping.\n",
      "  Finished tract SPL_R_gwfa_dPMC_L_gwfa for subject A00030913\n",
      "  Finished tract SPL_R_gwfa_dPMC_R_gwfa for subject A00030913\n",
      "  Finished tract SPL_R_gwfa_vPMC_L_gwfa for subject A00030913\n",
      "  Finished tract SPL_R_gwfa_vPMC_R_gwfa for subject A00030913\n",
      "  Finished tract dPMC_L_gwfa_dPMC_R_gwfa for subject A00030913\n",
      "  Finished tract dPMC_L_gwfa_vPMC_L_gwfa for subject A00030913\n",
      "  Finished tract dPMC_L_gwfa_vPMC_R_gwfa for subject A00030913\n",
      "  Finished tract dPMC_R_gwfa_vPMC_L_gwfa for subject A00030913\n",
      "  Finished tract dPMC_R_gwfa_vPMC_R_gwfa for subject A00030913\n",
      "  Finished tract vPMC_L_gwfa_vPMC_R_gwfa for subject A00030913\n",
      "Successfully processed subject A00030913.\n",
      "Starting processing of subject A00030947.\n",
      "  Finished tract IPL_L_gwfa_IPL_R_gwfa for subject A00030947\n",
      "  Finished tract IPL_L_gwfa_IPS_L_gwfa for subject A00030947\n",
      "  Finished tract IPL_L_gwfa_IPS_R_gwfa for subject A00030947\n",
      "  Finished tract IPL_L_gwfa_SPL_L_gwfa for subject A00030947\n"
     ]
    },
    {
     "name": "stdout",
     "output_type": "stream",
     "text": [
      "  Finished tract IPL_L_gwfa_SPL_R_gwfa for subject A00030947\n",
      "  Finished tract IPL_L_gwfa_dPMC_L_gwfa for subject A00030947\n",
      "  - Tract IPL_L_gwfa_dPMC_R_gwfa not found. Skipping.\n",
      "  Finished tract IPL_L_gwfa_vPMC_L_gwfa for subject A00030947\n",
      "  Finished tract IPL_L_gwfa_vPMC_R_gwfa for subject A00030947\n",
      "  Finished tract IPL_R_gwfa_IPS_L_gwfa for subject A00030947\n",
      "  Finished tract IPL_R_gwfa_IPS_R_gwfa for subject A00030947\n",
      "  Finished tract IPL_R_gwfa_SPL_L_gwfa for subject A00030947\n",
      "  Finished tract IPL_R_gwfa_SPL_R_gwfa for subject A00030947\n",
      "  - Tract IPL_R_gwfa_dPMC_L_gwfa not found. Skipping.\n",
      "  Finished tract IPL_R_gwfa_dPMC_R_gwfa for subject A00030947\n",
      "  - Tract IPL_R_gwfa_vPMC_L_gwfa not found. Skipping.\n",
      "  Finished tract IPL_R_gwfa_vPMC_R_gwfa for subject A00030947\n",
      "  Finished tract IPS_L_gwfa_IPS_R_gwfa for subject A00030947\n",
      "  Finished tract IPS_L_gwfa_SPL_L_gwfa for subject A00030947\n",
      "  Finished tract IPS_L_gwfa_SPL_R_gwfa for subject A00030947\n",
      "  Finished tract IPS_L_gwfa_dPMC_L_gwfa for subject A00030947\n",
      "  Finished tract IPS_L_gwfa_dPMC_R_gwfa for subject A00030947\n",
      "  Finished tract IPS_L_gwfa_vPMC_L_gwfa for subject A00030947\n",
      "  Finished tract IPS_L_gwfa_vPMC_R_gwfa for subject A00030947\n",
      "  Finished tract IPS_R_gwfa_SPL_L_gwfa for subject A00030947\n",
      "  Finished tract IPS_R_gwfa_SPL_R_gwfa for subject A00030947\n",
      "  - Tract IPS_R_gwfa_dPMC_L_gwfa not found. Skipping.\n",
      "  Finished tract IPS_R_gwfa_dPMC_R_gwfa for subject A00030947\n",
      "  - Tract IPS_R_gwfa_vPMC_L_gwfa not found. Skipping.\n",
      "  Finished tract IPS_R_gwfa_vPMC_R_gwfa for subject A00030947\n",
      "  Finished tract SPL_L_gwfa_SPL_R_gwfa for subject A00030947\n",
      "  Finished tract SPL_L_gwfa_dPMC_L_gwfa for subject A00030947\n",
      "  Finished tract SPL_L_gwfa_dPMC_R_gwfa for subject A00030947\n",
      "  Finished tract SPL_L_gwfa_vPMC_L_gwfa for subject A00030947\n",
      "  - Tract SPL_L_gwfa_vPMC_R_gwfa not found. Skipping.\n",
      "  Finished tract SPL_R_gwfa_dPMC_L_gwfa for subject A00030947\n",
      "  Finished tract SPL_R_gwfa_dPMC_R_gwfa for subject A00030947\n",
      "  Finished tract SPL_R_gwfa_vPMC_L_gwfa for subject A00030947\n",
      "  Finished tract SPL_R_gwfa_vPMC_R_gwfa for subject A00030947\n",
      "  Finished tract dPMC_L_gwfa_dPMC_R_gwfa for subject A00030947\n",
      "  Finished tract dPMC_L_gwfa_vPMC_L_gwfa for subject A00030947\n",
      "  Finished tract dPMC_L_gwfa_vPMC_R_gwfa for subject A00030947\n",
      "  Finished tract dPMC_R_gwfa_vPMC_L_gwfa for subject A00030947\n",
      "  Finished tract dPMC_R_gwfa_vPMC_R_gwfa for subject A00030947\n",
      "  Finished tract vPMC_L_gwfa_vPMC_R_gwfa for subject A00030947\n",
      "Successfully processed subject A00030947.\n",
      "Starting processing of subject A00030989.\n",
      "  Finished tract IPL_L_gwfa_IPL_R_gwfa for subject A00030989\n",
      "  Finished tract IPL_L_gwfa_IPS_L_gwfa for subject A00030989\n",
      "  Finished tract IPL_L_gwfa_IPS_R_gwfa for subject A00030989\n",
      "  Finished tract IPL_L_gwfa_SPL_L_gwfa for subject A00030989\n",
      "  Finished tract IPL_L_gwfa_SPL_R_gwfa for subject A00030989\n",
      "  Finished tract IPL_L_gwfa_dPMC_L_gwfa for subject A00030989\n",
      "  - Tract IPL_L_gwfa_dPMC_R_gwfa not found. Skipping.\n",
      "  Finished tract IPL_L_gwfa_vPMC_L_gwfa for subject A00030989\n",
      "  Finished tract IPL_L_gwfa_vPMC_R_gwfa for subject A00030989\n",
      "  Finished tract IPL_R_gwfa_IPS_L_gwfa for subject A00030989\n",
      "  Finished tract IPL_R_gwfa_IPS_R_gwfa for subject A00030989\n",
      "  Finished tract IPL_R_gwfa_SPL_L_gwfa for subject A00030989\n",
      "  Finished tract IPL_R_gwfa_SPL_R_gwfa for subject A00030989\n",
      "  - Tract IPL_R_gwfa_dPMC_L_gwfa not found. Skipping.\n",
      "  Finished tract IPL_R_gwfa_dPMC_R_gwfa for subject A00030989\n",
      "  - Tract IPL_R_gwfa_vPMC_L_gwfa not found. Skipping.\n",
      "  Finished tract IPL_R_gwfa_vPMC_R_gwfa for subject A00030989\n",
      "  Finished tract IPS_L_gwfa_IPS_R_gwfa for subject A00030989\n",
      "  Finished tract IPS_L_gwfa_SPL_L_gwfa for subject A00030989\n",
      "  Finished tract IPS_L_gwfa_SPL_R_gwfa for subject A00030989\n",
      "  Finished tract IPS_L_gwfa_dPMC_L_gwfa for subject A00030989\n",
      "  Finished tract IPS_L_gwfa_dPMC_R_gwfa for subject A00030989\n",
      "  Finished tract IPS_L_gwfa_vPMC_L_gwfa for subject A00030989\n",
      "  Finished tract IPS_L_gwfa_vPMC_R_gwfa for subject A00030989\n",
      "  Finished tract IPS_R_gwfa_SPL_L_gwfa for subject A00030989\n",
      "  Finished tract IPS_R_gwfa_SPL_R_gwfa for subject A00030989\n",
      "  - Tract IPS_R_gwfa_dPMC_L_gwfa not found. Skipping.\n",
      "  Finished tract IPS_R_gwfa_dPMC_R_gwfa for subject A00030989\n",
      "  - Tract IPS_R_gwfa_vPMC_L_gwfa not found. Skipping.\n",
      "  Finished tract IPS_R_gwfa_vPMC_R_gwfa for subject A00030989\n",
      "  Finished tract SPL_L_gwfa_SPL_R_gwfa for subject A00030989\n",
      "  Finished tract SPL_L_gwfa_dPMC_L_gwfa for subject A00030989\n",
      "  Finished tract SPL_L_gwfa_dPMC_R_gwfa for subject A00030989\n",
      "  Finished tract SPL_L_gwfa_vPMC_L_gwfa for subject A00030989\n",
      "  - Tract SPL_L_gwfa_vPMC_R_gwfa not found. Skipping.\n",
      "  Finished tract SPL_R_gwfa_dPMC_L_gwfa for subject A00030989\n",
      "  Finished tract SPL_R_gwfa_dPMC_R_gwfa for subject A00030989\n",
      "  Finished tract SPL_R_gwfa_vPMC_L_gwfa for subject A00030989\n",
      "  Finished tract SPL_R_gwfa_vPMC_R_gwfa for subject A00030989\n",
      "  Finished tract dPMC_L_gwfa_dPMC_R_gwfa for subject A00030989\n",
      "  Finished tract dPMC_L_gwfa_vPMC_L_gwfa for subject A00030989\n",
      "  Finished tract dPMC_L_gwfa_vPMC_R_gwfa for subject A00030989\n",
      "  Finished tract dPMC_R_gwfa_vPMC_L_gwfa for subject A00030989\n",
      "  Finished tract dPMC_R_gwfa_vPMC_R_gwfa for subject A00030989\n",
      "  Finished tract vPMC_L_gwfa_vPMC_R_gwfa for subject A00030989\n",
      "Successfully processed subject A00030989.\n",
      "Starting processing of subject A00031167.\n",
      "  Finished tract IPL_L_gwfa_IPL_R_gwfa for subject A00031167\n",
      "  Finished tract IPL_L_gwfa_IPS_L_gwfa for subject A00031167\n",
      "  Finished tract IPL_L_gwfa_IPS_R_gwfa for subject A00031167\n",
      "  Finished tract IPL_L_gwfa_SPL_L_gwfa for subject A00031167\n",
      "  Finished tract IPL_L_gwfa_SPL_R_gwfa for subject A00031167\n",
      "  Finished tract IPL_L_gwfa_dPMC_L_gwfa for subject A00031167\n",
      "  - Tract IPL_L_gwfa_dPMC_R_gwfa not found. Skipping.\n",
      "  Finished tract IPL_L_gwfa_vPMC_L_gwfa for subject A00031167\n",
      "  Finished tract IPL_L_gwfa_vPMC_R_gwfa for subject A00031167\n",
      "  Finished tract IPL_R_gwfa_IPS_L_gwfa for subject A00031167\n",
      "  Finished tract IPL_R_gwfa_IPS_R_gwfa for subject A00031167\n",
      "  Finished tract IPL_R_gwfa_SPL_L_gwfa for subject A00031167\n",
      "  Finished tract IPL_R_gwfa_SPL_R_gwfa for subject A00031167\n",
      "  - Tract IPL_R_gwfa_dPMC_L_gwfa not found. Skipping.\n",
      "  Finished tract IPL_R_gwfa_dPMC_R_gwfa for subject A00031167\n",
      "  - Tract IPL_R_gwfa_vPMC_L_gwfa not found. Skipping.\n",
      "  Finished tract IPL_R_gwfa_vPMC_R_gwfa for subject A00031167\n",
      "  Finished tract IPS_L_gwfa_IPS_R_gwfa for subject A00031167\n",
      "  Finished tract IPS_L_gwfa_SPL_L_gwfa for subject A00031167\n",
      "  Finished tract IPS_L_gwfa_SPL_R_gwfa for subject A00031167\n",
      "  Finished tract IPS_L_gwfa_dPMC_L_gwfa for subject A00031167\n",
      "  Finished tract IPS_L_gwfa_dPMC_R_gwfa for subject A00031167\n",
      "  Finished tract IPS_L_gwfa_vPMC_L_gwfa for subject A00031167\n",
      "  Finished tract IPS_L_gwfa_vPMC_R_gwfa for subject A00031167\n",
      "  Finished tract IPS_R_gwfa_SPL_L_gwfa for subject A00031167\n",
      "  Finished tract IPS_R_gwfa_SPL_R_gwfa for subject A00031167\n",
      "  - Tract IPS_R_gwfa_dPMC_L_gwfa not found. Skipping.\n",
      "  Finished tract IPS_R_gwfa_dPMC_R_gwfa for subject A00031167\n",
      "  - Tract IPS_R_gwfa_vPMC_L_gwfa not found. Skipping.\n",
      "  Finished tract IPS_R_gwfa_vPMC_R_gwfa for subject A00031167\n",
      "  Finished tract SPL_L_gwfa_SPL_R_gwfa for subject A00031167\n",
      "  Finished tract SPL_L_gwfa_dPMC_L_gwfa for subject A00031167\n",
      "  Finished tract SPL_L_gwfa_dPMC_R_gwfa for subject A00031167\n",
      "  Finished tract SPL_L_gwfa_vPMC_L_gwfa for subject A00031167\n",
      "  - Tract SPL_L_gwfa_vPMC_R_gwfa not found. Skipping.\n",
      "  Finished tract SPL_R_gwfa_dPMC_L_gwfa for subject A00031167\n",
      "  Finished tract SPL_R_gwfa_dPMC_R_gwfa for subject A00031167\n",
      "  Finished tract SPL_R_gwfa_vPMC_L_gwfa for subject A00031167\n",
      "  Finished tract SPL_R_gwfa_vPMC_R_gwfa for subject A00031167\n",
      "  Finished tract dPMC_L_gwfa_dPMC_R_gwfa for subject A00031167\n",
      "  Finished tract dPMC_L_gwfa_vPMC_L_gwfa for subject A00031167\n",
      "  Finished tract dPMC_L_gwfa_vPMC_R_gwfa for subject A00031167\n",
      "  Finished tract dPMC_R_gwfa_vPMC_L_gwfa for subject A00031167\n",
      "  Finished tract dPMC_R_gwfa_vPMC_R_gwfa for subject A00031167\n",
      "  Finished tract vPMC_L_gwfa_vPMC_R_gwfa for subject A00031167\n",
      "Successfully processed subject A00031167.\n",
      "Starting processing of subject A00031216.\n"
     ]
    },
    {
     "name": "stdout",
     "output_type": "stream",
     "text": [
      "  Finished tract IPL_L_gwfa_IPL_R_gwfa for subject A00031216\n",
      "  Finished tract IPL_L_gwfa_IPS_L_gwfa for subject A00031216\n",
      "  Finished tract IPL_L_gwfa_IPS_R_gwfa for subject A00031216\n",
      "  Finished tract IPL_L_gwfa_SPL_L_gwfa for subject A00031216\n",
      "  Finished tract IPL_L_gwfa_SPL_R_gwfa for subject A00031216\n",
      "  Finished tract IPL_L_gwfa_dPMC_L_gwfa for subject A00031216\n",
      "  - Tract IPL_L_gwfa_dPMC_R_gwfa not found. Skipping.\n",
      "  Finished tract IPL_L_gwfa_vPMC_L_gwfa for subject A00031216\n",
      "  Finished tract IPL_L_gwfa_vPMC_R_gwfa for subject A00031216\n",
      "  Finished tract IPL_R_gwfa_IPS_L_gwfa for subject A00031216\n",
      "  Finished tract IPL_R_gwfa_IPS_R_gwfa for subject A00031216\n",
      "  Finished tract IPL_R_gwfa_SPL_L_gwfa for subject A00031216\n",
      "  Finished tract IPL_R_gwfa_SPL_R_gwfa for subject A00031216\n",
      "  - Tract IPL_R_gwfa_dPMC_L_gwfa not found. Skipping.\n",
      "  Finished tract IPL_R_gwfa_dPMC_R_gwfa for subject A00031216\n",
      "  - Tract IPL_R_gwfa_vPMC_L_gwfa not found. Skipping.\n",
      "  Finished tract IPL_R_gwfa_vPMC_R_gwfa for subject A00031216\n",
      "  Finished tract IPS_L_gwfa_IPS_R_gwfa for subject A00031216\n",
      "  Finished tract IPS_L_gwfa_SPL_L_gwfa for subject A00031216\n",
      "  Finished tract IPS_L_gwfa_SPL_R_gwfa for subject A00031216\n",
      "  Finished tract IPS_L_gwfa_dPMC_L_gwfa for subject A00031216\n",
      "  Finished tract IPS_L_gwfa_dPMC_R_gwfa for subject A00031216\n",
      "  Finished tract IPS_L_gwfa_vPMC_L_gwfa for subject A00031216\n",
      "  Finished tract IPS_L_gwfa_vPMC_R_gwfa for subject A00031216\n",
      "  Finished tract IPS_R_gwfa_SPL_L_gwfa for subject A00031216\n",
      "  Finished tract IPS_R_gwfa_SPL_R_gwfa for subject A00031216\n",
      "  - Tract IPS_R_gwfa_dPMC_L_gwfa not found. Skipping.\n",
      "  Finished tract IPS_R_gwfa_dPMC_R_gwfa for subject A00031216\n",
      "  - Tract IPS_R_gwfa_vPMC_L_gwfa not found. Skipping.\n",
      "  Finished tract IPS_R_gwfa_vPMC_R_gwfa for subject A00031216\n",
      "  Finished tract SPL_L_gwfa_SPL_R_gwfa for subject A00031216\n",
      "  Finished tract SPL_L_gwfa_dPMC_L_gwfa for subject A00031216\n",
      "  Finished tract SPL_L_gwfa_dPMC_R_gwfa for subject A00031216\n",
      "  Finished tract SPL_L_gwfa_vPMC_L_gwfa for subject A00031216\n",
      "  - Tract SPL_L_gwfa_vPMC_R_gwfa not found. Skipping.\n",
      "  Finished tract SPL_R_gwfa_dPMC_L_gwfa for subject A00031216\n",
      "  Finished tract SPL_R_gwfa_dPMC_R_gwfa for subject A00031216\n",
      "  Finished tract SPL_R_gwfa_vPMC_L_gwfa for subject A00031216\n",
      "  Finished tract SPL_R_gwfa_vPMC_R_gwfa for subject A00031216\n",
      "  Finished tract dPMC_L_gwfa_dPMC_R_gwfa for subject A00031216\n",
      "  Finished tract dPMC_L_gwfa_vPMC_L_gwfa for subject A00031216\n",
      "  Finished tract dPMC_L_gwfa_vPMC_R_gwfa for subject A00031216\n",
      "  Finished tract dPMC_R_gwfa_vPMC_L_gwfa for subject A00031216\n",
      "  Finished tract dPMC_R_gwfa_vPMC_R_gwfa for subject A00031216\n",
      "  Finished tract vPMC_L_gwfa_vPMC_R_gwfa for subject A00031216\n",
      "Successfully processed subject A00031216.\n",
      "Starting processing of subject A00031217.\n",
      "  Finished tract IPL_L_gwfa_IPL_R_gwfa for subject A00031217\n",
      "  Finished tract IPL_L_gwfa_IPS_L_gwfa for subject A00031217\n",
      "  Finished tract IPL_L_gwfa_IPS_R_gwfa for subject A00031217\n",
      "  Finished tract IPL_L_gwfa_SPL_L_gwfa for subject A00031217\n",
      "  Finished tract IPL_L_gwfa_SPL_R_gwfa for subject A00031217\n",
      "  Finished tract IPL_L_gwfa_dPMC_L_gwfa for subject A00031217\n",
      "  - Tract IPL_L_gwfa_dPMC_R_gwfa not found. Skipping.\n",
      "  Finished tract IPL_L_gwfa_vPMC_L_gwfa for subject A00031217\n",
      "  Finished tract IPL_L_gwfa_vPMC_R_gwfa for subject A00031217\n",
      "  Finished tract IPL_R_gwfa_IPS_L_gwfa for subject A00031217\n",
      "  Finished tract IPL_R_gwfa_IPS_R_gwfa for subject A00031217\n",
      "  Finished tract IPL_R_gwfa_SPL_L_gwfa for subject A00031217\n",
      "  Finished tract IPL_R_gwfa_SPL_R_gwfa for subject A00031217\n",
      "  - Tract IPL_R_gwfa_dPMC_L_gwfa not found. Skipping.\n",
      "  Finished tract IPL_R_gwfa_dPMC_R_gwfa for subject A00031217\n",
      "  - Tract IPL_R_gwfa_vPMC_L_gwfa not found. Skipping.\n",
      "  Finished tract IPL_R_gwfa_vPMC_R_gwfa for subject A00031217\n",
      "  Finished tract IPS_L_gwfa_IPS_R_gwfa for subject A00031217\n",
      "  Finished tract IPS_L_gwfa_SPL_L_gwfa for subject A00031217\n",
      "  Finished tract IPS_L_gwfa_SPL_R_gwfa for subject A00031217\n",
      "  Finished tract IPS_L_gwfa_dPMC_L_gwfa for subject A00031217\n",
      "  Finished tract IPS_L_gwfa_dPMC_R_gwfa for subject A00031217\n",
      "  Finished tract IPS_L_gwfa_vPMC_L_gwfa for subject A00031217\n",
      "  Finished tract IPS_L_gwfa_vPMC_R_gwfa for subject A00031217\n",
      "  Finished tract IPS_R_gwfa_SPL_L_gwfa for subject A00031217\n",
      "  Finished tract IPS_R_gwfa_SPL_R_gwfa for subject A00031217\n",
      "  - Tract IPS_R_gwfa_dPMC_L_gwfa not found. Skipping.\n",
      "  Finished tract IPS_R_gwfa_dPMC_R_gwfa for subject A00031217\n",
      "  - Tract IPS_R_gwfa_vPMC_L_gwfa not found. Skipping.\n",
      "  Finished tract IPS_R_gwfa_vPMC_R_gwfa for subject A00031217\n",
      "  Finished tract SPL_L_gwfa_SPL_R_gwfa for subject A00031217\n",
      "  Finished tract SPL_L_gwfa_dPMC_L_gwfa for subject A00031217\n",
      "  Finished tract SPL_L_gwfa_dPMC_R_gwfa for subject A00031217\n",
      "  Finished tract SPL_L_gwfa_vPMC_L_gwfa for subject A00031217\n",
      "  - Tract SPL_L_gwfa_vPMC_R_gwfa not found. Skipping.\n",
      "  Finished tract SPL_R_gwfa_dPMC_L_gwfa for subject A00031217\n",
      "  Finished tract SPL_R_gwfa_dPMC_R_gwfa for subject A00031217\n",
      "  Finished tract SPL_R_gwfa_vPMC_L_gwfa for subject A00031217\n",
      "  Finished tract SPL_R_gwfa_vPMC_R_gwfa for subject A00031217\n",
      "  Finished tract dPMC_L_gwfa_dPMC_R_gwfa for subject A00031217\n",
      "  Finished tract dPMC_L_gwfa_vPMC_L_gwfa for subject A00031217\n",
      "  Finished tract dPMC_L_gwfa_vPMC_R_gwfa for subject A00031217\n",
      "  Finished tract dPMC_R_gwfa_vPMC_L_gwfa for subject A00031217\n",
      "  Finished tract dPMC_R_gwfa_vPMC_R_gwfa for subject A00031217\n",
      "  Finished tract vPMC_L_gwfa_vPMC_R_gwfa for subject A00031217\n",
      "Successfully processed subject A00031217.\n",
      "Starting processing of subject A00031459.\n",
      "  Finished tract IPL_L_gwfa_IPL_R_gwfa for subject A00031459\n",
      "  Finished tract IPL_L_gwfa_IPS_L_gwfa for subject A00031459\n",
      "  Finished tract IPL_L_gwfa_IPS_R_gwfa for subject A00031459\n",
      "  Finished tract IPL_L_gwfa_SPL_L_gwfa for subject A00031459\n",
      "  Finished tract IPL_L_gwfa_SPL_R_gwfa for subject A00031459\n",
      "  Finished tract IPL_L_gwfa_dPMC_L_gwfa for subject A00031459\n",
      "  - Tract IPL_L_gwfa_dPMC_R_gwfa not found. Skipping.\n",
      "  Finished tract IPL_L_gwfa_vPMC_L_gwfa for subject A00031459\n",
      "  Finished tract IPL_L_gwfa_vPMC_R_gwfa for subject A00031459\n",
      "  Finished tract IPL_R_gwfa_IPS_L_gwfa for subject A00031459\n",
      "  Finished tract IPL_R_gwfa_IPS_R_gwfa for subject A00031459\n",
      "  Finished tract IPL_R_gwfa_SPL_L_gwfa for subject A00031459\n",
      "  Finished tract IPL_R_gwfa_SPL_R_gwfa for subject A00031459\n",
      "  - Tract IPL_R_gwfa_dPMC_L_gwfa not found. Skipping.\n",
      "  Finished tract IPL_R_gwfa_dPMC_R_gwfa for subject A00031459\n",
      "  - Tract IPL_R_gwfa_vPMC_L_gwfa not found. Skipping.\n",
      "  Finished tract IPL_R_gwfa_vPMC_R_gwfa for subject A00031459\n",
      "  Finished tract IPS_L_gwfa_IPS_R_gwfa for subject A00031459\n",
      "  Finished tract IPS_L_gwfa_SPL_L_gwfa for subject A00031459\n",
      "  Finished tract IPS_L_gwfa_SPL_R_gwfa for subject A00031459\n",
      "  Finished tract IPS_L_gwfa_dPMC_L_gwfa for subject A00031459\n",
      "  Finished tract IPS_L_gwfa_dPMC_R_gwfa for subject A00031459\n",
      "  Finished tract IPS_L_gwfa_vPMC_L_gwfa for subject A00031459\n",
      "  Finished tract IPS_L_gwfa_vPMC_R_gwfa for subject A00031459\n",
      "  Finished tract IPS_R_gwfa_SPL_L_gwfa for subject A00031459\n",
      "  Finished tract IPS_R_gwfa_SPL_R_gwfa for subject A00031459\n",
      "  - Tract IPS_R_gwfa_dPMC_L_gwfa not found. Skipping.\n",
      "  Finished tract IPS_R_gwfa_dPMC_R_gwfa for subject A00031459\n",
      "  - Tract IPS_R_gwfa_vPMC_L_gwfa not found. Skipping.\n",
      "  Finished tract IPS_R_gwfa_vPMC_R_gwfa for subject A00031459\n",
      "  Finished tract SPL_L_gwfa_SPL_R_gwfa for subject A00031459\n",
      "  Finished tract SPL_L_gwfa_dPMC_L_gwfa for subject A00031459\n",
      "  Finished tract SPL_L_gwfa_dPMC_R_gwfa for subject A00031459\n",
      "  Finished tract SPL_L_gwfa_vPMC_L_gwfa for subject A00031459\n",
      "  - Tract SPL_L_gwfa_vPMC_R_gwfa not found. Skipping.\n",
      "  Finished tract SPL_R_gwfa_dPMC_L_gwfa for subject A00031459\n",
      "  Finished tract SPL_R_gwfa_dPMC_R_gwfa for subject A00031459\n",
      "  Finished tract SPL_R_gwfa_vPMC_L_gwfa for subject A00031459\n",
      "  Finished tract SPL_R_gwfa_vPMC_R_gwfa for subject A00031459\n",
      "  Finished tract dPMC_L_gwfa_dPMC_R_gwfa for subject A00031459\n",
      "  Finished tract dPMC_L_gwfa_vPMC_L_gwfa for subject A00031459\n",
      "  Finished tract dPMC_L_gwfa_vPMC_R_gwfa for subject A00031459\n",
      "  Finished tract dPMC_R_gwfa_vPMC_L_gwfa for subject A00031459\n"
     ]
    },
    {
     "name": "stdout",
     "output_type": "stream",
     "text": [
      "  Finished tract dPMC_R_gwfa_vPMC_R_gwfa for subject A00031459\n",
      "  Finished tract vPMC_L_gwfa_vPMC_R_gwfa for subject A00031459\n",
      "Successfully processed subject A00031459.\n",
      "Starting processing of subject A00031794.\n",
      "  Finished tract IPL_L_gwfa_IPL_R_gwfa for subject A00031794\n",
      "  Finished tract IPL_L_gwfa_IPS_L_gwfa for subject A00031794\n",
      "  Finished tract IPL_L_gwfa_IPS_R_gwfa for subject A00031794\n",
      "  Finished tract IPL_L_gwfa_SPL_L_gwfa for subject A00031794\n",
      "  Finished tract IPL_L_gwfa_SPL_R_gwfa for subject A00031794\n",
      "  Finished tract IPL_L_gwfa_dPMC_L_gwfa for subject A00031794\n",
      "  - Tract IPL_L_gwfa_dPMC_R_gwfa not found. Skipping.\n",
      "  Finished tract IPL_L_gwfa_vPMC_L_gwfa for subject A00031794\n",
      "  Finished tract IPL_L_gwfa_vPMC_R_gwfa for subject A00031794\n",
      "  Finished tract IPL_R_gwfa_IPS_L_gwfa for subject A00031794\n",
      "  Finished tract IPL_R_gwfa_IPS_R_gwfa for subject A00031794\n",
      "  Finished tract IPL_R_gwfa_SPL_L_gwfa for subject A00031794\n",
      "  Finished tract IPL_R_gwfa_SPL_R_gwfa for subject A00031794\n",
      "  - Tract IPL_R_gwfa_dPMC_L_gwfa not found. Skipping.\n",
      "  Finished tract IPL_R_gwfa_dPMC_R_gwfa for subject A00031794\n",
      "  - Tract IPL_R_gwfa_vPMC_L_gwfa not found. Skipping.\n",
      "  Finished tract IPL_R_gwfa_vPMC_R_gwfa for subject A00031794\n",
      "  Finished tract IPS_L_gwfa_IPS_R_gwfa for subject A00031794\n",
      "  Finished tract IPS_L_gwfa_SPL_L_gwfa for subject A00031794\n",
      "  Finished tract IPS_L_gwfa_SPL_R_gwfa for subject A00031794\n",
      "  Finished tract IPS_L_gwfa_dPMC_L_gwfa for subject A00031794\n",
      "  Finished tract IPS_L_gwfa_dPMC_R_gwfa for subject A00031794\n",
      "  Finished tract IPS_L_gwfa_vPMC_L_gwfa for subject A00031794\n",
      "  Finished tract IPS_L_gwfa_vPMC_R_gwfa for subject A00031794\n",
      "  Finished tract IPS_R_gwfa_SPL_L_gwfa for subject A00031794\n",
      "  Finished tract IPS_R_gwfa_SPL_R_gwfa for subject A00031794\n",
      "  - Tract IPS_R_gwfa_dPMC_L_gwfa not found. Skipping.\n",
      "  Finished tract IPS_R_gwfa_dPMC_R_gwfa for subject A00031794\n",
      "  - Tract IPS_R_gwfa_vPMC_L_gwfa not found. Skipping.\n",
      "  Finished tract IPS_R_gwfa_vPMC_R_gwfa for subject A00031794\n",
      "  Finished tract SPL_L_gwfa_SPL_R_gwfa for subject A00031794\n",
      "  Finished tract SPL_L_gwfa_dPMC_L_gwfa for subject A00031794\n",
      "  Finished tract SPL_L_gwfa_dPMC_R_gwfa for subject A00031794\n",
      "  Finished tract SPL_L_gwfa_vPMC_L_gwfa for subject A00031794\n",
      "  - Tract SPL_L_gwfa_vPMC_R_gwfa not found. Skipping.\n",
      "  Finished tract SPL_R_gwfa_dPMC_L_gwfa for subject A00031794\n",
      "  Finished tract SPL_R_gwfa_dPMC_R_gwfa for subject A00031794\n",
      "  Finished tract SPL_R_gwfa_vPMC_L_gwfa for subject A00031794\n",
      "  Finished tract SPL_R_gwfa_vPMC_R_gwfa for subject A00031794\n",
      "  Finished tract dPMC_L_gwfa_dPMC_R_gwfa for subject A00031794\n",
      "  Finished tract dPMC_L_gwfa_vPMC_L_gwfa for subject A00031794\n",
      "  Finished tract dPMC_L_gwfa_vPMC_R_gwfa for subject A00031794\n",
      "  Finished tract dPMC_R_gwfa_vPMC_L_gwfa for subject A00031794\n",
      "  Finished tract dPMC_R_gwfa_vPMC_R_gwfa for subject A00031794\n",
      "  Finished tract vPMC_L_gwfa_vPMC_R_gwfa for subject A00031794\n",
      "Successfully processed subject A00031794.\n",
      "Starting processing of subject A00031871.\n",
      "  Finished tract IPL_L_gwfa_IPL_R_gwfa for subject A00031871\n",
      "  Finished tract IPL_L_gwfa_IPS_L_gwfa for subject A00031871\n",
      "  Finished tract IPL_L_gwfa_IPS_R_gwfa for subject A00031871\n",
      "  Finished tract IPL_L_gwfa_SPL_L_gwfa for subject A00031871\n",
      "  Finished tract IPL_L_gwfa_SPL_R_gwfa for subject A00031871\n",
      "  Finished tract IPL_L_gwfa_dPMC_L_gwfa for subject A00031871\n",
      "  - Tract IPL_L_gwfa_dPMC_R_gwfa not found. Skipping.\n",
      "  Finished tract IPL_L_gwfa_vPMC_L_gwfa for subject A00031871\n",
      "  Finished tract IPL_L_gwfa_vPMC_R_gwfa for subject A00031871\n",
      "  Finished tract IPL_R_gwfa_IPS_L_gwfa for subject A00031871\n",
      "  Finished tract IPL_R_gwfa_IPS_R_gwfa for subject A00031871\n",
      "  Finished tract IPL_R_gwfa_SPL_L_gwfa for subject A00031871\n",
      "  Finished tract IPL_R_gwfa_SPL_R_gwfa for subject A00031871\n",
      "  - Tract IPL_R_gwfa_dPMC_L_gwfa not found. Skipping.\n",
      "  Finished tract IPL_R_gwfa_dPMC_R_gwfa for subject A00031871\n",
      "  - Tract IPL_R_gwfa_vPMC_L_gwfa not found. Skipping.\n",
      "  Finished tract IPL_R_gwfa_vPMC_R_gwfa for subject A00031871\n",
      "  Finished tract IPS_L_gwfa_IPS_R_gwfa for subject A00031871\n",
      "  Finished tract IPS_L_gwfa_SPL_L_gwfa for subject A00031871\n",
      "  Finished tract IPS_L_gwfa_SPL_R_gwfa for subject A00031871\n",
      "  Finished tract IPS_L_gwfa_dPMC_L_gwfa for subject A00031871\n",
      "  Finished tract IPS_L_gwfa_dPMC_R_gwfa for subject A00031871\n",
      "  Finished tract IPS_L_gwfa_vPMC_L_gwfa for subject A00031871\n",
      "  Finished tract IPS_L_gwfa_vPMC_R_gwfa for subject A00031871\n",
      "  Finished tract IPS_R_gwfa_SPL_L_gwfa for subject A00031871\n",
      "  Finished tract IPS_R_gwfa_SPL_R_gwfa for subject A00031871\n",
      "  - Tract IPS_R_gwfa_dPMC_L_gwfa not found. Skipping.\n",
      "  Finished tract IPS_R_gwfa_dPMC_R_gwfa for subject A00031871\n",
      "  - Tract IPS_R_gwfa_vPMC_L_gwfa not found. Skipping.\n",
      "  Finished tract IPS_R_gwfa_vPMC_R_gwfa for subject A00031871\n",
      "  Finished tract SPL_L_gwfa_SPL_R_gwfa for subject A00031871\n",
      "  Finished tract SPL_L_gwfa_dPMC_L_gwfa for subject A00031871\n",
      "  Finished tract SPL_L_gwfa_dPMC_R_gwfa for subject A00031871\n",
      "  Finished tract SPL_L_gwfa_vPMC_L_gwfa for subject A00031871\n",
      "  - Tract SPL_L_gwfa_vPMC_R_gwfa not found. Skipping.\n",
      "  Finished tract SPL_R_gwfa_dPMC_L_gwfa for subject A00031871\n",
      "  Finished tract SPL_R_gwfa_dPMC_R_gwfa for subject A00031871\n",
      "  Finished tract SPL_R_gwfa_vPMC_L_gwfa for subject A00031871\n",
      "  Finished tract SPL_R_gwfa_vPMC_R_gwfa for subject A00031871\n",
      "  Finished tract dPMC_L_gwfa_dPMC_R_gwfa for subject A00031871\n",
      "  Finished tract dPMC_L_gwfa_vPMC_L_gwfa for subject A00031871\n",
      "  Finished tract dPMC_L_gwfa_vPMC_R_gwfa for subject A00031871\n",
      "  Finished tract dPMC_R_gwfa_vPMC_L_gwfa for subject A00031871\n",
      "  Finished tract dPMC_R_gwfa_vPMC_R_gwfa for subject A00031871\n",
      "  Finished tract vPMC_L_gwfa_vPMC_R_gwfa for subject A00031871\n",
      "Successfully processed subject A00031871.\n",
      "Starting processing of subject A00032010.\n",
      "  Finished tract IPL_L_gwfa_IPL_R_gwfa for subject A00032010\n",
      "  Finished tract IPL_L_gwfa_IPS_L_gwfa for subject A00032010\n",
      "  Finished tract IPL_L_gwfa_IPS_R_gwfa for subject A00032010\n",
      "  Finished tract IPL_L_gwfa_SPL_L_gwfa for subject A00032010\n",
      "  Finished tract IPL_L_gwfa_SPL_R_gwfa for subject A00032010\n",
      "  Finished tract IPL_L_gwfa_dPMC_L_gwfa for subject A00032010\n",
      "  - Tract IPL_L_gwfa_dPMC_R_gwfa not found. Skipping.\n",
      "  Finished tract IPL_L_gwfa_vPMC_L_gwfa for subject A00032010\n",
      "  Finished tract IPL_L_gwfa_vPMC_R_gwfa for subject A00032010\n",
      "  Finished tract IPL_R_gwfa_IPS_L_gwfa for subject A00032010\n",
      "  Finished tract IPL_R_gwfa_IPS_R_gwfa for subject A00032010\n",
      "  Finished tract IPL_R_gwfa_SPL_L_gwfa for subject A00032010\n",
      "  Finished tract IPL_R_gwfa_SPL_R_gwfa for subject A00032010\n",
      "  - Tract IPL_R_gwfa_dPMC_L_gwfa not found. Skipping.\n",
      "  Finished tract IPL_R_gwfa_dPMC_R_gwfa for subject A00032010\n",
      "  - Tract IPL_R_gwfa_vPMC_L_gwfa not found. Skipping.\n",
      "  Finished tract IPL_R_gwfa_vPMC_R_gwfa for subject A00032010\n",
      "  Finished tract IPS_L_gwfa_IPS_R_gwfa for subject A00032010\n",
      "  Finished tract IPS_L_gwfa_SPL_L_gwfa for subject A00032010\n",
      "  Finished tract IPS_L_gwfa_SPL_R_gwfa for subject A00032010\n",
      "  Finished tract IPS_L_gwfa_dPMC_L_gwfa for subject A00032010\n",
      "  Finished tract IPS_L_gwfa_dPMC_R_gwfa for subject A00032010\n",
      "  Finished tract IPS_L_gwfa_vPMC_L_gwfa for subject A00032010\n",
      "  Finished tract IPS_L_gwfa_vPMC_R_gwfa for subject A00032010\n",
      "  Finished tract IPS_R_gwfa_SPL_L_gwfa for subject A00032010\n",
      "  Finished tract IPS_R_gwfa_SPL_R_gwfa for subject A00032010\n",
      "  - Tract IPS_R_gwfa_dPMC_L_gwfa not found. Skipping.\n",
      "  Finished tract IPS_R_gwfa_dPMC_R_gwfa for subject A00032010\n",
      "  - Tract IPS_R_gwfa_vPMC_L_gwfa not found. Skipping.\n",
      "  Finished tract IPS_R_gwfa_vPMC_R_gwfa for subject A00032010\n",
      "  Finished tract SPL_L_gwfa_SPL_R_gwfa for subject A00032010\n",
      "  Finished tract SPL_L_gwfa_dPMC_L_gwfa for subject A00032010\n",
      "  Finished tract SPL_L_gwfa_dPMC_R_gwfa for subject A00032010\n",
      "  Finished tract SPL_L_gwfa_vPMC_L_gwfa for subject A00032010\n",
      "  - Tract SPL_L_gwfa_vPMC_R_gwfa not found. Skipping.\n",
      "  Finished tract SPL_R_gwfa_dPMC_L_gwfa for subject A00032010\n",
      "  Finished tract SPL_R_gwfa_dPMC_R_gwfa for subject A00032010\n",
      "  Finished tract SPL_R_gwfa_vPMC_L_gwfa for subject A00032010\n",
      "  Finished tract SPL_R_gwfa_vPMC_R_gwfa for subject A00032010\n"
     ]
    },
    {
     "name": "stdout",
     "output_type": "stream",
     "text": [
      "  Finished tract dPMC_L_gwfa_dPMC_R_gwfa for subject A00032010\n",
      "  Finished tract dPMC_L_gwfa_vPMC_L_gwfa for subject A00032010\n",
      "  Finished tract dPMC_L_gwfa_vPMC_R_gwfa for subject A00032010\n",
      "  Finished tract dPMC_R_gwfa_vPMC_L_gwfa for subject A00032010\n",
      "  Finished tract dPMC_R_gwfa_vPMC_R_gwfa for subject A00032010\n",
      "  Finished tract vPMC_L_gwfa_vPMC_R_gwfa for subject A00032010\n",
      "Successfully processed subject A00032010.\n",
      "Starting processing of subject A00033011.\n",
      "  Finished tract IPL_L_gwfa_IPL_R_gwfa for subject A00033011\n",
      "  Finished tract IPL_L_gwfa_IPS_L_gwfa for subject A00033011\n",
      "  Finished tract IPL_L_gwfa_IPS_R_gwfa for subject A00033011\n",
      "  Finished tract IPL_L_gwfa_SPL_L_gwfa for subject A00033011\n",
      "  Finished tract IPL_L_gwfa_SPL_R_gwfa for subject A00033011\n",
      "  Finished tract IPL_L_gwfa_dPMC_L_gwfa for subject A00033011\n",
      "  - Tract IPL_L_gwfa_dPMC_R_gwfa not found. Skipping.\n",
      "  Finished tract IPL_L_gwfa_vPMC_L_gwfa for subject A00033011\n",
      "  Finished tract IPL_L_gwfa_vPMC_R_gwfa for subject A00033011\n",
      "  Finished tract IPL_R_gwfa_IPS_L_gwfa for subject A00033011\n",
      "  Finished tract IPL_R_gwfa_IPS_R_gwfa for subject A00033011\n",
      "  Finished tract IPL_R_gwfa_SPL_L_gwfa for subject A00033011\n",
      "  Finished tract IPL_R_gwfa_SPL_R_gwfa for subject A00033011\n",
      "  - Tract IPL_R_gwfa_dPMC_L_gwfa not found. Skipping.\n",
      "  Finished tract IPL_R_gwfa_dPMC_R_gwfa for subject A00033011\n",
      "  - Tract IPL_R_gwfa_vPMC_L_gwfa not found. Skipping.\n",
      "  Finished tract IPL_R_gwfa_vPMC_R_gwfa for subject A00033011\n",
      "  Finished tract IPS_L_gwfa_IPS_R_gwfa for subject A00033011\n",
      "  Finished tract IPS_L_gwfa_SPL_L_gwfa for subject A00033011\n",
      "  Finished tract IPS_L_gwfa_SPL_R_gwfa for subject A00033011\n",
      "  Finished tract IPS_L_gwfa_dPMC_L_gwfa for subject A00033011\n",
      "  Finished tract IPS_L_gwfa_dPMC_R_gwfa for subject A00033011\n",
      "  Finished tract IPS_L_gwfa_vPMC_L_gwfa for subject A00033011\n",
      "  Finished tract IPS_L_gwfa_vPMC_R_gwfa for subject A00033011\n",
      "  Finished tract IPS_R_gwfa_SPL_L_gwfa for subject A00033011\n",
      "  Finished tract IPS_R_gwfa_SPL_R_gwfa for subject A00033011\n",
      "  - Tract IPS_R_gwfa_dPMC_L_gwfa not found. Skipping.\n",
      "  Finished tract IPS_R_gwfa_dPMC_R_gwfa for subject A00033011\n",
      "  - Tract IPS_R_gwfa_vPMC_L_gwfa not found. Skipping.\n",
      "  Finished tract IPS_R_gwfa_vPMC_R_gwfa for subject A00033011\n",
      "  Finished tract SPL_L_gwfa_SPL_R_gwfa for subject A00033011\n",
      "  Finished tract SPL_L_gwfa_dPMC_L_gwfa for subject A00033011\n",
      "  Finished tract SPL_L_gwfa_dPMC_R_gwfa for subject A00033011\n",
      "  Finished tract SPL_L_gwfa_vPMC_L_gwfa for subject A00033011\n",
      "  - Tract SPL_L_gwfa_vPMC_R_gwfa not found. Skipping.\n",
      "  Finished tract SPL_R_gwfa_dPMC_L_gwfa for subject A00033011\n",
      "  Finished tract SPL_R_gwfa_dPMC_R_gwfa for subject A00033011\n",
      "  Finished tract SPL_R_gwfa_vPMC_L_gwfa for subject A00033011\n",
      "  Finished tract SPL_R_gwfa_vPMC_R_gwfa for subject A00033011\n",
      "  Finished tract dPMC_L_gwfa_dPMC_R_gwfa for subject A00033011\n",
      "  Finished tract dPMC_L_gwfa_vPMC_L_gwfa for subject A00033011\n",
      "  Finished tract dPMC_L_gwfa_vPMC_R_gwfa for subject A00033011\n",
      "  Finished tract dPMC_R_gwfa_vPMC_L_gwfa for subject A00033011\n",
      "  Finished tract dPMC_R_gwfa_vPMC_R_gwfa for subject A00033011\n",
      "  Finished tract vPMC_L_gwfa_vPMC_R_gwfa for subject A00033011\n",
      "Successfully processed subject A00033011.\n",
      "Starting processing of subject A00033021.\n",
      "  Finished tract IPL_L_gwfa_IPL_R_gwfa for subject A00033021\n",
      "  Finished tract IPL_L_gwfa_IPS_L_gwfa for subject A00033021\n",
      "  Finished tract IPL_L_gwfa_IPS_R_gwfa for subject A00033021\n",
      "  Finished tract IPL_L_gwfa_SPL_L_gwfa for subject A00033021\n",
      "  Finished tract IPL_L_gwfa_SPL_R_gwfa for subject A00033021\n",
      "  Finished tract IPL_L_gwfa_dPMC_L_gwfa for subject A00033021\n",
      "  - Tract IPL_L_gwfa_dPMC_R_gwfa not found. Skipping.\n",
      "  Finished tract IPL_L_gwfa_vPMC_L_gwfa for subject A00033021\n",
      "  Finished tract IPL_L_gwfa_vPMC_R_gwfa for subject A00033021\n",
      "  Finished tract IPL_R_gwfa_IPS_L_gwfa for subject A00033021\n",
      "  Finished tract IPL_R_gwfa_IPS_R_gwfa for subject A00033021\n",
      "  Finished tract IPL_R_gwfa_SPL_L_gwfa for subject A00033021\n",
      "  Finished tract IPL_R_gwfa_SPL_R_gwfa for subject A00033021\n",
      "  - Tract IPL_R_gwfa_dPMC_L_gwfa not found. Skipping.\n",
      "  Finished tract IPL_R_gwfa_dPMC_R_gwfa for subject A00033021\n",
      "  - Tract IPL_R_gwfa_vPMC_L_gwfa not found. Skipping.\n",
      "  Finished tract IPL_R_gwfa_vPMC_R_gwfa for subject A00033021\n",
      "  Finished tract IPS_L_gwfa_IPS_R_gwfa for subject A00033021\n",
      "  Finished tract IPS_L_gwfa_SPL_L_gwfa for subject A00033021\n",
      "  Finished tract IPS_L_gwfa_SPL_R_gwfa for subject A00033021\n",
      "  Finished tract IPS_L_gwfa_dPMC_L_gwfa for subject A00033021\n",
      "  Finished tract IPS_L_gwfa_dPMC_R_gwfa for subject A00033021\n",
      "  Finished tract IPS_L_gwfa_vPMC_L_gwfa for subject A00033021\n",
      "  Finished tract IPS_L_gwfa_vPMC_R_gwfa for subject A00033021\n",
      "  Finished tract IPS_R_gwfa_SPL_L_gwfa for subject A00033021\n",
      "  Finished tract IPS_R_gwfa_SPL_R_gwfa for subject A00033021\n",
      "  - Tract IPS_R_gwfa_dPMC_L_gwfa not found. Skipping.\n",
      "  Finished tract IPS_R_gwfa_dPMC_R_gwfa for subject A00033021\n",
      "  - Tract IPS_R_gwfa_vPMC_L_gwfa not found. Skipping.\n",
      "  Finished tract IPS_R_gwfa_vPMC_R_gwfa for subject A00033021\n",
      "  Finished tract SPL_L_gwfa_SPL_R_gwfa for subject A00033021\n",
      "  Finished tract SPL_L_gwfa_dPMC_L_gwfa for subject A00033021\n",
      "  Finished tract SPL_L_gwfa_dPMC_R_gwfa for subject A00033021\n",
      "  Finished tract SPL_L_gwfa_vPMC_L_gwfa for subject A00033021\n",
      "  - Tract SPL_L_gwfa_vPMC_R_gwfa not found. Skipping.\n",
      "  Finished tract SPL_R_gwfa_dPMC_L_gwfa for subject A00033021\n",
      "  Finished tract SPL_R_gwfa_dPMC_R_gwfa for subject A00033021\n",
      "  Finished tract SPL_R_gwfa_vPMC_L_gwfa for subject A00033021\n",
      "  Finished tract SPL_R_gwfa_vPMC_R_gwfa for subject A00033021\n",
      "  Finished tract dPMC_L_gwfa_dPMC_R_gwfa for subject A00033021\n",
      "  Finished tract dPMC_L_gwfa_vPMC_L_gwfa for subject A00033021\n",
      "  Finished tract dPMC_L_gwfa_vPMC_R_gwfa for subject A00033021\n",
      "  Finished tract dPMC_R_gwfa_vPMC_L_gwfa for subject A00033021\n",
      "  Finished tract dPMC_R_gwfa_vPMC_R_gwfa for subject A00033021\n",
      "  Finished tract vPMC_L_gwfa_vPMC_R_gwfa for subject A00033021\n",
      "Successfully processed subject A00033021.\n",
      "Starting processing of subject A00033232.\n",
      "  Finished tract IPL_L_gwfa_IPL_R_gwfa for subject A00033232\n",
      "  Finished tract IPL_L_gwfa_IPS_L_gwfa for subject A00033232\n",
      "  Finished tract IPL_L_gwfa_IPS_R_gwfa for subject A00033232\n",
      "  Finished tract IPL_L_gwfa_SPL_L_gwfa for subject A00033232\n",
      "  Finished tract IPL_L_gwfa_SPL_R_gwfa for subject A00033232\n",
      "  Finished tract IPL_L_gwfa_dPMC_L_gwfa for subject A00033232\n",
      "  - Tract IPL_L_gwfa_dPMC_R_gwfa not found. Skipping.\n",
      "  Finished tract IPL_L_gwfa_vPMC_L_gwfa for subject A00033232\n",
      "  Finished tract IPL_L_gwfa_vPMC_R_gwfa for subject A00033232\n",
      "  Finished tract IPL_R_gwfa_IPS_L_gwfa for subject A00033232\n",
      "  Finished tract IPL_R_gwfa_IPS_R_gwfa for subject A00033232\n",
      "  Finished tract IPL_R_gwfa_SPL_L_gwfa for subject A00033232\n",
      "  Finished tract IPL_R_gwfa_SPL_R_gwfa for subject A00033232\n",
      "  - Tract IPL_R_gwfa_dPMC_L_gwfa not found. Skipping.\n",
      "  Finished tract IPL_R_gwfa_dPMC_R_gwfa for subject A00033232\n",
      "  - Tract IPL_R_gwfa_vPMC_L_gwfa not found. Skipping.\n",
      "  Finished tract IPL_R_gwfa_vPMC_R_gwfa for subject A00033232\n",
      "  Finished tract IPS_L_gwfa_IPS_R_gwfa for subject A00033232\n",
      "  Finished tract IPS_L_gwfa_SPL_L_gwfa for subject A00033232\n",
      "  Finished tract IPS_L_gwfa_SPL_R_gwfa for subject A00033232\n",
      "  Finished tract IPS_L_gwfa_dPMC_L_gwfa for subject A00033232\n",
      "  Finished tract IPS_L_gwfa_dPMC_R_gwfa for subject A00033232\n",
      "  Finished tract IPS_L_gwfa_vPMC_L_gwfa for subject A00033232\n",
      "  Finished tract IPS_L_gwfa_vPMC_R_gwfa for subject A00033232\n",
      "  Finished tract IPS_R_gwfa_SPL_L_gwfa for subject A00033232\n",
      "  Finished tract IPS_R_gwfa_SPL_R_gwfa for subject A00033232\n",
      "  - Tract IPS_R_gwfa_dPMC_L_gwfa not found. Skipping.\n",
      "  Finished tract IPS_R_gwfa_dPMC_R_gwfa for subject A00033232\n",
      "  - Tract IPS_R_gwfa_vPMC_L_gwfa not found. Skipping.\n",
      "  Finished tract IPS_R_gwfa_vPMC_R_gwfa for subject A00033232\n",
      "  Finished tract SPL_L_gwfa_SPL_R_gwfa for subject A00033232\n",
      "  Finished tract SPL_L_gwfa_dPMC_L_gwfa for subject A00033232\n",
      "  Finished tract SPL_L_gwfa_dPMC_R_gwfa for subject A00033232\n",
      "  Finished tract SPL_L_gwfa_vPMC_L_gwfa for subject A00033232\n",
      "  - Tract SPL_L_gwfa_vPMC_R_gwfa not found. Skipping.\n"
     ]
    },
    {
     "name": "stdout",
     "output_type": "stream",
     "text": [
      "  Finished tract SPL_R_gwfa_dPMC_L_gwfa for subject A00033232\n",
      "  Finished tract SPL_R_gwfa_dPMC_R_gwfa for subject A00033232\n",
      "  Finished tract SPL_R_gwfa_vPMC_L_gwfa for subject A00033232\n",
      "  Finished tract SPL_R_gwfa_vPMC_R_gwfa for subject A00033232\n",
      "  Finished tract dPMC_L_gwfa_dPMC_R_gwfa for subject A00033232\n",
      "  Finished tract dPMC_L_gwfa_vPMC_L_gwfa for subject A00033232\n",
      "  Finished tract dPMC_L_gwfa_vPMC_R_gwfa for subject A00033232\n",
      "  Finished tract dPMC_R_gwfa_vPMC_L_gwfa for subject A00033232\n",
      "  Finished tract dPMC_R_gwfa_vPMC_R_gwfa for subject A00033232\n",
      "  Finished tract vPMC_L_gwfa_vPMC_R_gwfa for subject A00033232\n",
      "Successfully processed subject A00033232.\n",
      "Starting processing of subject A00033247.\n",
      "  Finished tract IPL_L_gwfa_IPL_R_gwfa for subject A00033247\n",
      "  Finished tract IPL_L_gwfa_IPS_L_gwfa for subject A00033247\n",
      "  Finished tract IPL_L_gwfa_IPS_R_gwfa for subject A00033247\n",
      "  Finished tract IPL_L_gwfa_SPL_L_gwfa for subject A00033247\n",
      "  Finished tract IPL_L_gwfa_SPL_R_gwfa for subject A00033247\n",
      "  Finished tract IPL_L_gwfa_dPMC_L_gwfa for subject A00033247\n",
      "  - Tract IPL_L_gwfa_dPMC_R_gwfa not found. Skipping.\n",
      "  Finished tract IPL_L_gwfa_vPMC_L_gwfa for subject A00033247\n",
      "  Finished tract IPL_L_gwfa_vPMC_R_gwfa for subject A00033247\n",
      "  Finished tract IPL_R_gwfa_IPS_L_gwfa for subject A00033247\n",
      "  Finished tract IPL_R_gwfa_IPS_R_gwfa for subject A00033247\n",
      "  Finished tract IPL_R_gwfa_SPL_L_gwfa for subject A00033247\n",
      "  Finished tract IPL_R_gwfa_SPL_R_gwfa for subject A00033247\n",
      "  - Tract IPL_R_gwfa_dPMC_L_gwfa not found. Skipping.\n",
      "  Finished tract IPL_R_gwfa_dPMC_R_gwfa for subject A00033247\n",
      "  - Tract IPL_R_gwfa_vPMC_L_gwfa not found. Skipping.\n",
      "  Finished tract IPL_R_gwfa_vPMC_R_gwfa for subject A00033247\n",
      "  Finished tract IPS_L_gwfa_IPS_R_gwfa for subject A00033247\n",
      "  Finished tract IPS_L_gwfa_SPL_L_gwfa for subject A00033247\n",
      "  Finished tract IPS_L_gwfa_SPL_R_gwfa for subject A00033247\n",
      "  Finished tract IPS_L_gwfa_dPMC_L_gwfa for subject A00033247\n",
      "  Finished tract IPS_L_gwfa_dPMC_R_gwfa for subject A00033247\n",
      "  Finished tract IPS_L_gwfa_vPMC_L_gwfa for subject A00033247\n",
      "  Finished tract IPS_L_gwfa_vPMC_R_gwfa for subject A00033247\n",
      "  Finished tract IPS_R_gwfa_SPL_L_gwfa for subject A00033247\n",
      "  Finished tract IPS_R_gwfa_SPL_R_gwfa for subject A00033247\n",
      "  - Tract IPS_R_gwfa_dPMC_L_gwfa not found. Skipping.\n",
      "  Finished tract IPS_R_gwfa_dPMC_R_gwfa for subject A00033247\n",
      "  - Tract IPS_R_gwfa_vPMC_L_gwfa not found. Skipping.\n",
      "  Finished tract IPS_R_gwfa_vPMC_R_gwfa for subject A00033247\n",
      "  Finished tract SPL_L_gwfa_SPL_R_gwfa for subject A00033247\n",
      "  Finished tract SPL_L_gwfa_dPMC_L_gwfa for subject A00033247\n",
      "  Finished tract SPL_L_gwfa_dPMC_R_gwfa for subject A00033247\n",
      "  Finished tract SPL_L_gwfa_vPMC_L_gwfa for subject A00033247\n",
      "  - Tract SPL_L_gwfa_vPMC_R_gwfa not found. Skipping.\n",
      "  Finished tract SPL_R_gwfa_dPMC_L_gwfa for subject A00033247\n",
      "  Finished tract SPL_R_gwfa_dPMC_R_gwfa for subject A00033247\n",
      "  Finished tract SPL_R_gwfa_vPMC_L_gwfa for subject A00033247\n",
      "  Finished tract SPL_R_gwfa_vPMC_R_gwfa for subject A00033247\n",
      "  Finished tract dPMC_L_gwfa_dPMC_R_gwfa for subject A00033247\n",
      "  Finished tract dPMC_L_gwfa_vPMC_L_gwfa for subject A00033247\n",
      "  Finished tract dPMC_L_gwfa_vPMC_R_gwfa for subject A00033247\n",
      "  Finished tract dPMC_R_gwfa_vPMC_L_gwfa for subject A00033247\n",
      "  Finished tract dPMC_R_gwfa_vPMC_R_gwfa for subject A00033247\n",
      "  Finished tract vPMC_L_gwfa_vPMC_R_gwfa for subject A00033247\n",
      "Successfully processed subject A00033247.\n",
      "Starting processing of subject A00033248.\n",
      "  Finished tract IPL_L_gwfa_IPL_R_gwfa for subject A00033248\n",
      "  Finished tract IPL_L_gwfa_IPS_L_gwfa for subject A00033248\n",
      "  Finished tract IPL_L_gwfa_IPS_R_gwfa for subject A00033248\n",
      "  Finished tract IPL_L_gwfa_SPL_L_gwfa for subject A00033248\n",
      "  Finished tract IPL_L_gwfa_SPL_R_gwfa for subject A00033248\n",
      "  Finished tract IPL_L_gwfa_dPMC_L_gwfa for subject A00033248\n",
      "  - Tract IPL_L_gwfa_dPMC_R_gwfa not found. Skipping.\n",
      "  Finished tract IPL_L_gwfa_vPMC_L_gwfa for subject A00033248\n",
      "  Finished tract IPL_L_gwfa_vPMC_R_gwfa for subject A00033248\n",
      "  Finished tract IPL_R_gwfa_IPS_L_gwfa for subject A00033248\n",
      "  Finished tract IPL_R_gwfa_IPS_R_gwfa for subject A00033248\n",
      "  Finished tract IPL_R_gwfa_SPL_L_gwfa for subject A00033248\n",
      "  Finished tract IPL_R_gwfa_SPL_R_gwfa for subject A00033248\n",
      "  - Tract IPL_R_gwfa_dPMC_L_gwfa not found. Skipping.\n",
      "  Finished tract IPL_R_gwfa_dPMC_R_gwfa for subject A00033248\n",
      "  - Tract IPL_R_gwfa_vPMC_L_gwfa not found. Skipping.\n",
      "  Finished tract IPL_R_gwfa_vPMC_R_gwfa for subject A00033248\n",
      "  Finished tract IPS_L_gwfa_IPS_R_gwfa for subject A00033248\n",
      "  Finished tract IPS_L_gwfa_SPL_L_gwfa for subject A00033248\n",
      "  Finished tract IPS_L_gwfa_SPL_R_gwfa for subject A00033248\n",
      "  Finished tract IPS_L_gwfa_dPMC_L_gwfa for subject A00033248\n",
      "  Finished tract IPS_L_gwfa_dPMC_R_gwfa for subject A00033248\n",
      "  Finished tract IPS_L_gwfa_vPMC_L_gwfa for subject A00033248\n",
      "  Finished tract IPS_L_gwfa_vPMC_R_gwfa for subject A00033248\n",
      "  Finished tract IPS_R_gwfa_SPL_L_gwfa for subject A00033248\n",
      "  Finished tract IPS_R_gwfa_SPL_R_gwfa for subject A00033248\n",
      "  - Tract IPS_R_gwfa_dPMC_L_gwfa not found. Skipping.\n",
      "  Finished tract IPS_R_gwfa_dPMC_R_gwfa for subject A00033248\n",
      "  - Tract IPS_R_gwfa_vPMC_L_gwfa not found. Skipping.\n",
      "  Finished tract IPS_R_gwfa_vPMC_R_gwfa for subject A00033248\n",
      "  Finished tract SPL_L_gwfa_SPL_R_gwfa for subject A00033248\n",
      "  Finished tract SPL_L_gwfa_dPMC_L_gwfa for subject A00033248\n",
      "  Finished tract SPL_L_gwfa_dPMC_R_gwfa for subject A00033248\n",
      "  Finished tract SPL_L_gwfa_vPMC_L_gwfa for subject A00033248\n",
      "  - Tract SPL_L_gwfa_vPMC_R_gwfa not found. Skipping.\n",
      "  Finished tract SPL_R_gwfa_dPMC_L_gwfa for subject A00033248\n",
      "  Finished tract SPL_R_gwfa_dPMC_R_gwfa for subject A00033248\n",
      "  Finished tract SPL_R_gwfa_vPMC_L_gwfa for subject A00033248\n",
      "  Finished tract SPL_R_gwfa_vPMC_R_gwfa for subject A00033248\n",
      "  Finished tract dPMC_L_gwfa_dPMC_R_gwfa for subject A00033248\n",
      "  Finished tract dPMC_L_gwfa_vPMC_L_gwfa for subject A00033248\n",
      "  Finished tract dPMC_L_gwfa_vPMC_R_gwfa for subject A00033248\n",
      "  Finished tract dPMC_R_gwfa_vPMC_L_gwfa for subject A00033248\n",
      "  Finished tract dPMC_R_gwfa_vPMC_R_gwfa for subject A00033248\n",
      "  Finished tract vPMC_L_gwfa_vPMC_R_gwfa for subject A00033248\n",
      "Successfully processed subject A00033248.\n",
      "Starting processing of subject A00033589.\n",
      "  Finished tract IPL_L_gwfa_IPL_R_gwfa for subject A00033589\n",
      "  Finished tract IPL_L_gwfa_IPS_L_gwfa for subject A00033589\n",
      "  Finished tract IPL_L_gwfa_IPS_R_gwfa for subject A00033589\n",
      "  Finished tract IPL_L_gwfa_SPL_L_gwfa for subject A00033589\n",
      "  Finished tract IPL_L_gwfa_SPL_R_gwfa for subject A00033589\n",
      "  Finished tract IPL_L_gwfa_dPMC_L_gwfa for subject A00033589\n",
      "  - Tract IPL_L_gwfa_dPMC_R_gwfa not found. Skipping.\n",
      "  Finished tract IPL_L_gwfa_vPMC_L_gwfa for subject A00033589\n",
      "  Finished tract IPL_L_gwfa_vPMC_R_gwfa for subject A00033589\n",
      "  Finished tract IPL_R_gwfa_IPS_L_gwfa for subject A00033589\n",
      "  Finished tract IPL_R_gwfa_IPS_R_gwfa for subject A00033589\n",
      "  Finished tract IPL_R_gwfa_SPL_L_gwfa for subject A00033589\n",
      "  Finished tract IPL_R_gwfa_SPL_R_gwfa for subject A00033589\n",
      "  - Tract IPL_R_gwfa_dPMC_L_gwfa not found. Skipping.\n",
      "  Finished tract IPL_R_gwfa_dPMC_R_gwfa for subject A00033589\n",
      "  - Tract IPL_R_gwfa_vPMC_L_gwfa not found. Skipping.\n",
      "  Finished tract IPL_R_gwfa_vPMC_R_gwfa for subject A00033589\n",
      "  Finished tract IPS_L_gwfa_IPS_R_gwfa for subject A00033589\n",
      "  Finished tract IPS_L_gwfa_SPL_L_gwfa for subject A00033589\n",
      "  Finished tract IPS_L_gwfa_SPL_R_gwfa for subject A00033589\n",
      "  Finished tract IPS_L_gwfa_dPMC_L_gwfa for subject A00033589\n",
      "  Finished tract IPS_L_gwfa_dPMC_R_gwfa for subject A00033589\n",
      "  Finished tract IPS_L_gwfa_vPMC_L_gwfa for subject A00033589\n",
      "  Finished tract IPS_L_gwfa_vPMC_R_gwfa for subject A00033589\n",
      "  Finished tract IPS_R_gwfa_SPL_L_gwfa for subject A00033589\n",
      "  Finished tract IPS_R_gwfa_SPL_R_gwfa for subject A00033589\n",
      "  - Tract IPS_R_gwfa_dPMC_L_gwfa not found. Skipping.\n",
      "  Finished tract IPS_R_gwfa_dPMC_R_gwfa for subject A00033589\n",
      "  - Tract IPS_R_gwfa_vPMC_L_gwfa not found. Skipping.\n",
      "  Finished tract IPS_R_gwfa_vPMC_R_gwfa for subject A00033589\n",
      "  Finished tract SPL_L_gwfa_SPL_R_gwfa for subject A00033589\n"
     ]
    },
    {
     "name": "stdout",
     "output_type": "stream",
     "text": [
      "  Finished tract SPL_L_gwfa_dPMC_L_gwfa for subject A00033589\n",
      "  Finished tract SPL_L_gwfa_dPMC_R_gwfa for subject A00033589\n",
      "  Finished tract SPL_L_gwfa_vPMC_L_gwfa for subject A00033589\n",
      "  - Tract SPL_L_gwfa_vPMC_R_gwfa not found. Skipping.\n",
      "  Finished tract SPL_R_gwfa_dPMC_L_gwfa for subject A00033589\n",
      "  Finished tract SPL_R_gwfa_dPMC_R_gwfa for subject A00033589\n",
      "  Finished tract SPL_R_gwfa_vPMC_L_gwfa for subject A00033589\n",
      "  Finished tract SPL_R_gwfa_vPMC_R_gwfa for subject A00033589\n",
      "  Finished tract dPMC_L_gwfa_dPMC_R_gwfa for subject A00033589\n",
      "  Finished tract dPMC_L_gwfa_vPMC_L_gwfa for subject A00033589\n",
      "  Finished tract dPMC_L_gwfa_vPMC_R_gwfa for subject A00033589\n",
      "  Finished tract dPMC_R_gwfa_vPMC_L_gwfa for subject A00033589\n",
      "  Finished tract dPMC_R_gwfa_vPMC_R_gwfa for subject A00033589\n",
      "  Finished tract vPMC_L_gwfa_vPMC_R_gwfa for subject A00033589\n",
      "Successfully processed subject A00033589.\n",
      "Starting processing of subject A00033609.\n",
      "  Finished tract IPL_L_gwfa_IPL_R_gwfa for subject A00033609\n",
      "  Finished tract IPL_L_gwfa_IPS_L_gwfa for subject A00033609\n",
      "  Finished tract IPL_L_gwfa_IPS_R_gwfa for subject A00033609\n",
      "  Finished tract IPL_L_gwfa_SPL_L_gwfa for subject A00033609\n",
      "  Finished tract IPL_L_gwfa_SPL_R_gwfa for subject A00033609\n",
      "  Finished tract IPL_L_gwfa_dPMC_L_gwfa for subject A00033609\n",
      "  - Tract IPL_L_gwfa_dPMC_R_gwfa not found. Skipping.\n",
      "  Finished tract IPL_L_gwfa_vPMC_L_gwfa for subject A00033609\n",
      "  Finished tract IPL_L_gwfa_vPMC_R_gwfa for subject A00033609\n",
      "  Finished tract IPL_R_gwfa_IPS_L_gwfa for subject A00033609\n",
      "  Finished tract IPL_R_gwfa_IPS_R_gwfa for subject A00033609\n",
      "  Finished tract IPL_R_gwfa_SPL_L_gwfa for subject A00033609\n",
      "  Finished tract IPL_R_gwfa_SPL_R_gwfa for subject A00033609\n",
      "  - Tract IPL_R_gwfa_dPMC_L_gwfa not found. Skipping.\n",
      "  Finished tract IPL_R_gwfa_dPMC_R_gwfa for subject A00033609\n",
      "  - Tract IPL_R_gwfa_vPMC_L_gwfa not found. Skipping.\n",
      "  Finished tract IPL_R_gwfa_vPMC_R_gwfa for subject A00033609\n",
      "  Finished tract IPS_L_gwfa_IPS_R_gwfa for subject A00033609\n",
      "  Finished tract IPS_L_gwfa_SPL_L_gwfa for subject A00033609\n",
      "  Finished tract IPS_L_gwfa_SPL_R_gwfa for subject A00033609\n",
      "  Finished tract IPS_L_gwfa_dPMC_L_gwfa for subject A00033609\n",
      "  Finished tract IPS_L_gwfa_dPMC_R_gwfa for subject A00033609\n",
      "  Finished tract IPS_L_gwfa_vPMC_L_gwfa for subject A00033609\n",
      "  Finished tract IPS_L_gwfa_vPMC_R_gwfa for subject A00033609\n",
      "  Finished tract IPS_R_gwfa_SPL_L_gwfa for subject A00033609\n",
      "  Finished tract IPS_R_gwfa_SPL_R_gwfa for subject A00033609\n",
      "  - Tract IPS_R_gwfa_dPMC_L_gwfa not found. Skipping.\n",
      "  Finished tract IPS_R_gwfa_dPMC_R_gwfa for subject A00033609\n",
      "  - Tract IPS_R_gwfa_vPMC_L_gwfa not found. Skipping.\n",
      "  Finished tract IPS_R_gwfa_vPMC_R_gwfa for subject A00033609\n",
      "  Finished tract SPL_L_gwfa_SPL_R_gwfa for subject A00033609\n",
      "  Finished tract SPL_L_gwfa_dPMC_L_gwfa for subject A00033609\n",
      "  Finished tract SPL_L_gwfa_dPMC_R_gwfa for subject A00033609\n",
      "  Finished tract SPL_L_gwfa_vPMC_L_gwfa for subject A00033609\n",
      "  - Tract SPL_L_gwfa_vPMC_R_gwfa not found. Skipping.\n",
      "  Finished tract SPL_R_gwfa_dPMC_L_gwfa for subject A00033609\n",
      "  Finished tract SPL_R_gwfa_dPMC_R_gwfa for subject A00033609\n",
      "  Finished tract SPL_R_gwfa_vPMC_L_gwfa for subject A00033609\n",
      "  Finished tract SPL_R_gwfa_vPMC_R_gwfa for subject A00033609\n",
      "  Finished tract dPMC_L_gwfa_dPMC_R_gwfa for subject A00033609\n",
      "  Finished tract dPMC_L_gwfa_vPMC_L_gwfa for subject A00033609\n",
      "  Finished tract dPMC_L_gwfa_vPMC_R_gwfa for subject A00033609\n",
      "  Finished tract dPMC_R_gwfa_vPMC_L_gwfa for subject A00033609\n",
      "  Finished tract dPMC_R_gwfa_vPMC_R_gwfa for subject A00033609\n",
      "  Finished tract vPMC_L_gwfa_vPMC_R_gwfa for subject A00033609\n",
      "Successfully processed subject A00033609.\n",
      "Starting processing of subject A00033640.\n",
      "  Finished tract IPL_L_gwfa_IPL_R_gwfa for subject A00033640\n",
      "  Finished tract IPL_L_gwfa_IPS_L_gwfa for subject A00033640\n",
      "  Finished tract IPL_L_gwfa_IPS_R_gwfa for subject A00033640\n",
      "  Finished tract IPL_L_gwfa_SPL_L_gwfa for subject A00033640\n",
      "  Finished tract IPL_L_gwfa_SPL_R_gwfa for subject A00033640\n",
      "  Finished tract IPL_L_gwfa_dPMC_L_gwfa for subject A00033640\n",
      "  - Tract IPL_L_gwfa_dPMC_R_gwfa not found. Skipping.\n",
      "  Finished tract IPL_L_gwfa_vPMC_L_gwfa for subject A00033640\n",
      "  Finished tract IPL_L_gwfa_vPMC_R_gwfa for subject A00033640\n",
      "  Finished tract IPL_R_gwfa_IPS_L_gwfa for subject A00033640\n",
      "  Finished tract IPL_R_gwfa_IPS_R_gwfa for subject A00033640\n",
      "  Finished tract IPL_R_gwfa_SPL_L_gwfa for subject A00033640\n",
      "  Finished tract IPL_R_gwfa_SPL_R_gwfa for subject A00033640\n",
      "  - Tract IPL_R_gwfa_dPMC_L_gwfa not found. Skipping.\n",
      "  Finished tract IPL_R_gwfa_dPMC_R_gwfa for subject A00033640\n",
      "  - Tract IPL_R_gwfa_vPMC_L_gwfa not found. Skipping.\n",
      "  Finished tract IPL_R_gwfa_vPMC_R_gwfa for subject A00033640\n",
      "  Finished tract IPS_L_gwfa_IPS_R_gwfa for subject A00033640\n",
      "  Finished tract IPS_L_gwfa_SPL_L_gwfa for subject A00033640\n",
      "  Finished tract IPS_L_gwfa_SPL_R_gwfa for subject A00033640\n",
      "  Finished tract IPS_L_gwfa_dPMC_L_gwfa for subject A00033640\n",
      "  Finished tract IPS_L_gwfa_dPMC_R_gwfa for subject A00033640\n",
      "  Finished tract IPS_L_gwfa_vPMC_L_gwfa for subject A00033640\n",
      "  Finished tract IPS_L_gwfa_vPMC_R_gwfa for subject A00033640\n",
      "  Finished tract IPS_R_gwfa_SPL_L_gwfa for subject A00033640\n",
      "  Finished tract IPS_R_gwfa_SPL_R_gwfa for subject A00033640\n",
      "  - Tract IPS_R_gwfa_dPMC_L_gwfa not found. Skipping.\n",
      "  Finished tract IPS_R_gwfa_dPMC_R_gwfa for subject A00033640\n",
      "  - Tract IPS_R_gwfa_vPMC_L_gwfa not found. Skipping.\n",
      "  Finished tract IPS_R_gwfa_vPMC_R_gwfa for subject A00033640\n",
      "  Finished tract SPL_L_gwfa_SPL_R_gwfa for subject A00033640\n",
      "  Finished tract SPL_L_gwfa_dPMC_L_gwfa for subject A00033640\n",
      "  Finished tract SPL_L_gwfa_dPMC_R_gwfa for subject A00033640\n",
      "  Finished tract SPL_L_gwfa_vPMC_L_gwfa for subject A00033640\n",
      "  - Tract SPL_L_gwfa_vPMC_R_gwfa not found. Skipping.\n",
      "  Finished tract SPL_R_gwfa_dPMC_L_gwfa for subject A00033640\n",
      "  Finished tract SPL_R_gwfa_dPMC_R_gwfa for subject A00033640\n",
      "  Finished tract SPL_R_gwfa_vPMC_L_gwfa for subject A00033640\n",
      "  Finished tract SPL_R_gwfa_vPMC_R_gwfa for subject A00033640\n",
      "  Finished tract dPMC_L_gwfa_dPMC_R_gwfa for subject A00033640\n",
      "  Finished tract dPMC_L_gwfa_vPMC_L_gwfa for subject A00033640\n",
      "  Finished tract dPMC_L_gwfa_vPMC_R_gwfa for subject A00033640\n",
      "  Finished tract dPMC_R_gwfa_vPMC_L_gwfa for subject A00033640\n",
      "  Finished tract dPMC_R_gwfa_vPMC_R_gwfa for subject A00033640\n",
      "  Finished tract vPMC_L_gwfa_vPMC_R_gwfa for subject A00033640\n",
      "Successfully processed subject A00033640.\n",
      "Starting processing of subject A00033647.\n",
      "  Finished tract IPL_L_gwfa_IPL_R_gwfa for subject A00033647\n",
      "  Finished tract IPL_L_gwfa_IPS_L_gwfa for subject A00033647\n",
      "  Finished tract IPL_L_gwfa_IPS_R_gwfa for subject A00033647\n",
      "  Finished tract IPL_L_gwfa_SPL_L_gwfa for subject A00033647\n",
      "  Finished tract IPL_L_gwfa_SPL_R_gwfa for subject A00033647\n",
      "  Finished tract IPL_L_gwfa_dPMC_L_gwfa for subject A00033647\n",
      "  - Tract IPL_L_gwfa_dPMC_R_gwfa not found. Skipping.\n",
      "  Finished tract IPL_L_gwfa_vPMC_L_gwfa for subject A00033647\n",
      "  Finished tract IPL_L_gwfa_vPMC_R_gwfa for subject A00033647\n",
      "  Finished tract IPL_R_gwfa_IPS_L_gwfa for subject A00033647\n",
      "  Finished tract IPL_R_gwfa_IPS_R_gwfa for subject A00033647\n",
      "  Finished tract IPL_R_gwfa_SPL_L_gwfa for subject A00033647\n",
      "  Finished tract IPL_R_gwfa_SPL_R_gwfa for subject A00033647\n",
      "  - Tract IPL_R_gwfa_dPMC_L_gwfa not found. Skipping.\n",
      "  Finished tract IPL_R_gwfa_dPMC_R_gwfa for subject A00033647\n",
      "  - Tract IPL_R_gwfa_vPMC_L_gwfa not found. Skipping.\n",
      "  Finished tract IPL_R_gwfa_vPMC_R_gwfa for subject A00033647\n",
      "  Finished tract IPS_L_gwfa_IPS_R_gwfa for subject A00033647\n",
      "  Finished tract IPS_L_gwfa_SPL_L_gwfa for subject A00033647\n",
      "  Finished tract IPS_L_gwfa_SPL_R_gwfa for subject A00033647\n",
      "  Finished tract IPS_L_gwfa_dPMC_L_gwfa for subject A00033647\n",
      "  Finished tract IPS_L_gwfa_dPMC_R_gwfa for subject A00033647\n",
      "  Finished tract IPS_L_gwfa_vPMC_L_gwfa for subject A00033647\n",
      "  Finished tract IPS_L_gwfa_vPMC_R_gwfa for subject A00033647\n",
      "  Finished tract IPS_R_gwfa_SPL_L_gwfa for subject A00033647\n",
      "  Finished tract IPS_R_gwfa_SPL_R_gwfa for subject A00033647\n",
      "  - Tract IPS_R_gwfa_dPMC_L_gwfa not found. Skipping.\n"
     ]
    },
    {
     "name": "stdout",
     "output_type": "stream",
     "text": [
      "  Finished tract IPS_R_gwfa_dPMC_R_gwfa for subject A00033647\n",
      "  - Tract IPS_R_gwfa_vPMC_L_gwfa not found. Skipping.\n",
      "  Finished tract IPS_R_gwfa_vPMC_R_gwfa for subject A00033647\n",
      "  Finished tract SPL_L_gwfa_SPL_R_gwfa for subject A00033647\n",
      "  Finished tract SPL_L_gwfa_dPMC_L_gwfa for subject A00033647\n",
      "  Finished tract SPL_L_gwfa_dPMC_R_gwfa for subject A00033647\n",
      "  Finished tract SPL_L_gwfa_vPMC_L_gwfa for subject A00033647\n",
      "  - Tract SPL_L_gwfa_vPMC_R_gwfa not found. Skipping.\n",
      "  Finished tract SPL_R_gwfa_dPMC_L_gwfa for subject A00033647\n",
      "  Finished tract SPL_R_gwfa_dPMC_R_gwfa for subject A00033647\n",
      "  Finished tract SPL_R_gwfa_vPMC_L_gwfa for subject A00033647\n",
      "  Finished tract SPL_R_gwfa_vPMC_R_gwfa for subject A00033647\n",
      "  Finished tract dPMC_L_gwfa_dPMC_R_gwfa for subject A00033647\n",
      "  Finished tract dPMC_L_gwfa_vPMC_L_gwfa for subject A00033647\n",
      "  Finished tract dPMC_L_gwfa_vPMC_R_gwfa for subject A00033647\n",
      "  Finished tract dPMC_R_gwfa_vPMC_L_gwfa for subject A00033647\n",
      "  Finished tract dPMC_R_gwfa_vPMC_R_gwfa for subject A00033647\n",
      "  Finished tract vPMC_L_gwfa_vPMC_R_gwfa for subject A00033647\n",
      "Successfully processed subject A00033647.\n",
      "Starting processing of subject A00033673.\n",
      "  Finished tract IPL_L_gwfa_IPL_R_gwfa for subject A00033673\n",
      "  Finished tract IPL_L_gwfa_IPS_L_gwfa for subject A00033673\n",
      "  Finished tract IPL_L_gwfa_IPS_R_gwfa for subject A00033673\n",
      "  Finished tract IPL_L_gwfa_SPL_L_gwfa for subject A00033673\n",
      "  Finished tract IPL_L_gwfa_SPL_R_gwfa for subject A00033673\n",
      "  Finished tract IPL_L_gwfa_dPMC_L_gwfa for subject A00033673\n",
      "  - Tract IPL_L_gwfa_dPMC_R_gwfa not found. Skipping.\n",
      "  Finished tract IPL_L_gwfa_vPMC_L_gwfa for subject A00033673\n",
      "  Finished tract IPL_L_gwfa_vPMC_R_gwfa for subject A00033673\n",
      "  Finished tract IPL_R_gwfa_IPS_L_gwfa for subject A00033673\n",
      "  Finished tract IPL_R_gwfa_IPS_R_gwfa for subject A00033673\n",
      "  Finished tract IPL_R_gwfa_SPL_L_gwfa for subject A00033673\n",
      "  Finished tract IPL_R_gwfa_SPL_R_gwfa for subject A00033673\n",
      "  - Tract IPL_R_gwfa_dPMC_L_gwfa not found. Skipping.\n",
      "  Finished tract IPL_R_gwfa_dPMC_R_gwfa for subject A00033673\n",
      "  - Tract IPL_R_gwfa_vPMC_L_gwfa not found. Skipping.\n",
      "  Finished tract IPL_R_gwfa_vPMC_R_gwfa for subject A00033673\n",
      "  Finished tract IPS_L_gwfa_IPS_R_gwfa for subject A00033673\n",
      "  Finished tract IPS_L_gwfa_SPL_L_gwfa for subject A00033673\n",
      "  Finished tract IPS_L_gwfa_SPL_R_gwfa for subject A00033673\n",
      "  Finished tract IPS_L_gwfa_dPMC_L_gwfa for subject A00033673\n",
      "  Finished tract IPS_L_gwfa_dPMC_R_gwfa for subject A00033673\n",
      "  Finished tract IPS_L_gwfa_vPMC_L_gwfa for subject A00033673\n",
      "  Finished tract IPS_L_gwfa_vPMC_R_gwfa for subject A00033673\n",
      "  Finished tract IPS_R_gwfa_SPL_L_gwfa for subject A00033673\n",
      "  Finished tract IPS_R_gwfa_SPL_R_gwfa for subject A00033673\n",
      "  - Tract IPS_R_gwfa_dPMC_L_gwfa not found. Skipping.\n",
      "  Finished tract IPS_R_gwfa_dPMC_R_gwfa for subject A00033673\n",
      "  - Tract IPS_R_gwfa_vPMC_L_gwfa not found. Skipping.\n",
      "  Finished tract IPS_R_gwfa_vPMC_R_gwfa for subject A00033673\n",
      "  Finished tract SPL_L_gwfa_SPL_R_gwfa for subject A00033673\n",
      "  Finished tract SPL_L_gwfa_dPMC_L_gwfa for subject A00033673\n",
      "  Finished tract SPL_L_gwfa_dPMC_R_gwfa for subject A00033673\n",
      "  Finished tract SPL_L_gwfa_vPMC_L_gwfa for subject A00033673\n",
      "  - Tract SPL_L_gwfa_vPMC_R_gwfa not found. Skipping.\n",
      "  Finished tract SPL_R_gwfa_dPMC_L_gwfa for subject A00033673\n",
      "  Finished tract SPL_R_gwfa_dPMC_R_gwfa for subject A00033673\n",
      "  Finished tract SPL_R_gwfa_vPMC_L_gwfa for subject A00033673\n",
      "  Finished tract SPL_R_gwfa_vPMC_R_gwfa for subject A00033673\n",
      "  Finished tract dPMC_L_gwfa_dPMC_R_gwfa for subject A00033673\n",
      "  Finished tract dPMC_L_gwfa_vPMC_L_gwfa for subject A00033673\n",
      "  Finished tract dPMC_L_gwfa_vPMC_R_gwfa for subject A00033673\n",
      "  Finished tract dPMC_R_gwfa_vPMC_L_gwfa for subject A00033673\n",
      "  Finished tract dPMC_R_gwfa_vPMC_R_gwfa for subject A00033673\n",
      "  Finished tract vPMC_L_gwfa_vPMC_R_gwfa for subject A00033673\n",
      "Successfully processed subject A00033673.\n",
      "Starting processing of subject A00033735.\n",
      "  Finished tract IPL_L_gwfa_IPL_R_gwfa for subject A00033735\n",
      "  Finished tract IPL_L_gwfa_IPS_L_gwfa for subject A00033735\n",
      "  Finished tract IPL_L_gwfa_IPS_R_gwfa for subject A00033735\n",
      "  Finished tract IPL_L_gwfa_SPL_L_gwfa for subject A00033735\n",
      "  Finished tract IPL_L_gwfa_SPL_R_gwfa for subject A00033735\n",
      "  Finished tract IPL_L_gwfa_dPMC_L_gwfa for subject A00033735\n",
      "  - Tract IPL_L_gwfa_dPMC_R_gwfa not found. Skipping.\n",
      "  Finished tract IPL_L_gwfa_vPMC_L_gwfa for subject A00033735\n",
      "  Finished tract IPL_L_gwfa_vPMC_R_gwfa for subject A00033735\n",
      "  Finished tract IPL_R_gwfa_IPS_L_gwfa for subject A00033735\n",
      "  Finished tract IPL_R_gwfa_IPS_R_gwfa for subject A00033735\n",
      "  Finished tract IPL_R_gwfa_SPL_L_gwfa for subject A00033735\n",
      "  Finished tract IPL_R_gwfa_SPL_R_gwfa for subject A00033735\n",
      "  - Tract IPL_R_gwfa_dPMC_L_gwfa not found. Skipping.\n",
      "  Finished tract IPL_R_gwfa_dPMC_R_gwfa for subject A00033735\n",
      "  - Tract IPL_R_gwfa_vPMC_L_gwfa not found. Skipping.\n",
      "  Finished tract IPL_R_gwfa_vPMC_R_gwfa for subject A00033735\n",
      "  Finished tract IPS_L_gwfa_IPS_R_gwfa for subject A00033735\n",
      "  Finished tract IPS_L_gwfa_SPL_L_gwfa for subject A00033735\n",
      "  Finished tract IPS_L_gwfa_SPL_R_gwfa for subject A00033735\n",
      "  Finished tract IPS_L_gwfa_dPMC_L_gwfa for subject A00033735\n",
      "  Finished tract IPS_L_gwfa_dPMC_R_gwfa for subject A00033735\n",
      "  Finished tract IPS_L_gwfa_vPMC_L_gwfa for subject A00033735\n",
      "  Finished tract IPS_L_gwfa_vPMC_R_gwfa for subject A00033735\n",
      "  Finished tract IPS_R_gwfa_SPL_L_gwfa for subject A00033735\n",
      "  Finished tract IPS_R_gwfa_SPL_R_gwfa for subject A00033735\n",
      "  - Tract IPS_R_gwfa_dPMC_L_gwfa not found. Skipping.\n",
      "  Finished tract IPS_R_gwfa_dPMC_R_gwfa for subject A00033735\n",
      "  - Tract IPS_R_gwfa_vPMC_L_gwfa not found. Skipping.\n",
      "  Finished tract IPS_R_gwfa_vPMC_R_gwfa for subject A00033735\n",
      "  Finished tract SPL_L_gwfa_SPL_R_gwfa for subject A00033735\n",
      "  Finished tract SPL_L_gwfa_dPMC_L_gwfa for subject A00033735\n",
      "  Finished tract SPL_L_gwfa_dPMC_R_gwfa for subject A00033735\n",
      "  Finished tract SPL_L_gwfa_vPMC_L_gwfa for subject A00033735\n",
      "  - Tract SPL_L_gwfa_vPMC_R_gwfa not found. Skipping.\n",
      "  Finished tract SPL_R_gwfa_dPMC_L_gwfa for subject A00033735\n",
      "  Finished tract SPL_R_gwfa_dPMC_R_gwfa for subject A00033735\n",
      "  Finished tract SPL_R_gwfa_vPMC_L_gwfa for subject A00033735\n",
      "  Finished tract SPL_R_gwfa_vPMC_R_gwfa for subject A00033735\n",
      "  Finished tract dPMC_L_gwfa_dPMC_R_gwfa for subject A00033735\n",
      "  Finished tract dPMC_L_gwfa_vPMC_L_gwfa for subject A00033735\n",
      "  Finished tract dPMC_L_gwfa_vPMC_R_gwfa for subject A00033735\n",
      "  Finished tract dPMC_R_gwfa_vPMC_L_gwfa for subject A00033735\n",
      "  Finished tract dPMC_R_gwfa_vPMC_R_gwfa for subject A00033735\n",
      "  Finished tract vPMC_L_gwfa_vPMC_R_gwfa for subject A00033735\n",
      "Successfully processed subject A00033735.\n",
      "Starting processing of subject A00033747.\n",
      "  Finished tract IPL_L_gwfa_IPL_R_gwfa for subject A00033747\n",
      "  Finished tract IPL_L_gwfa_IPS_L_gwfa for subject A00033747\n",
      "  Finished tract IPL_L_gwfa_IPS_R_gwfa for subject A00033747\n",
      "  Finished tract IPL_L_gwfa_SPL_L_gwfa for subject A00033747\n",
      "  Finished tract IPL_L_gwfa_SPL_R_gwfa for subject A00033747\n",
      "  Finished tract IPL_L_gwfa_dPMC_L_gwfa for subject A00033747\n",
      "  - Tract IPL_L_gwfa_dPMC_R_gwfa not found. Skipping.\n",
      "  Finished tract IPL_L_gwfa_vPMC_L_gwfa for subject A00033747\n",
      "  Finished tract IPL_L_gwfa_vPMC_R_gwfa for subject A00033747\n",
      "  Finished tract IPL_R_gwfa_IPS_L_gwfa for subject A00033747\n",
      "  Finished tract IPL_R_gwfa_IPS_R_gwfa for subject A00033747\n",
      "  Finished tract IPL_R_gwfa_SPL_L_gwfa for subject A00033747\n",
      "  Finished tract IPL_R_gwfa_SPL_R_gwfa for subject A00033747\n",
      "  - Tract IPL_R_gwfa_dPMC_L_gwfa not found. Skipping.\n",
      "  Finished tract IPL_R_gwfa_dPMC_R_gwfa for subject A00033747\n",
      "  - Tract IPL_R_gwfa_vPMC_L_gwfa not found. Skipping.\n",
      "  Finished tract IPL_R_gwfa_vPMC_R_gwfa for subject A00033747\n",
      "  Finished tract IPS_L_gwfa_IPS_R_gwfa for subject A00033747\n",
      "  Finished tract IPS_L_gwfa_SPL_L_gwfa for subject A00033747\n",
      "  Finished tract IPS_L_gwfa_SPL_R_gwfa for subject A00033747\n",
      "  Finished tract IPS_L_gwfa_dPMC_L_gwfa for subject A00033747\n",
      "  Finished tract IPS_L_gwfa_dPMC_R_gwfa for subject A00033747\n",
      "  Finished tract IPS_L_gwfa_vPMC_L_gwfa for subject A00033747\n"
     ]
    },
    {
     "name": "stdout",
     "output_type": "stream",
     "text": [
      "  Finished tract IPS_L_gwfa_vPMC_R_gwfa for subject A00033747\n",
      "  Finished tract IPS_R_gwfa_SPL_L_gwfa for subject A00033747\n",
      "  Finished tract IPS_R_gwfa_SPL_R_gwfa for subject A00033747\n",
      "  - Tract IPS_R_gwfa_dPMC_L_gwfa not found. Skipping.\n",
      "  Finished tract IPS_R_gwfa_dPMC_R_gwfa for subject A00033747\n",
      "  - Tract IPS_R_gwfa_vPMC_L_gwfa not found. Skipping.\n",
      "  Finished tract IPS_R_gwfa_vPMC_R_gwfa for subject A00033747\n",
      "  Finished tract SPL_L_gwfa_SPL_R_gwfa for subject A00033747\n",
      "  Finished tract SPL_L_gwfa_dPMC_L_gwfa for subject A00033747\n",
      "  Finished tract SPL_L_gwfa_dPMC_R_gwfa for subject A00033747\n",
      "  Finished tract SPL_L_gwfa_vPMC_L_gwfa for subject A00033747\n",
      "  - Tract SPL_L_gwfa_vPMC_R_gwfa not found. Skipping.\n",
      "  Finished tract SPL_R_gwfa_dPMC_L_gwfa for subject A00033747\n",
      "  Finished tract SPL_R_gwfa_dPMC_R_gwfa for subject A00033747\n",
      "  Finished tract SPL_R_gwfa_vPMC_L_gwfa for subject A00033747\n",
      "  Finished tract SPL_R_gwfa_vPMC_R_gwfa for subject A00033747\n",
      "  Finished tract dPMC_L_gwfa_dPMC_R_gwfa for subject A00033747\n",
      "  Finished tract dPMC_L_gwfa_vPMC_L_gwfa for subject A00033747\n",
      "  Finished tract dPMC_L_gwfa_vPMC_R_gwfa for subject A00033747\n",
      "  Finished tract dPMC_R_gwfa_vPMC_L_gwfa for subject A00033747\n",
      "  Finished tract dPMC_R_gwfa_vPMC_R_gwfa for subject A00033747\n",
      "  Finished tract vPMC_L_gwfa_vPMC_R_gwfa for subject A00033747\n",
      "Successfully processed subject A00033747.\n",
      "Starting processing of subject A00033748.\n",
      "  Finished tract IPL_L_gwfa_IPL_R_gwfa for subject A00033748\n",
      "  Finished tract IPL_L_gwfa_IPS_L_gwfa for subject A00033748\n",
      "  Finished tract IPL_L_gwfa_IPS_R_gwfa for subject A00033748\n",
      "  Finished tract IPL_L_gwfa_SPL_L_gwfa for subject A00033748\n",
      "  Finished tract IPL_L_gwfa_SPL_R_gwfa for subject A00033748\n",
      "  Finished tract IPL_L_gwfa_dPMC_L_gwfa for subject A00033748\n",
      "  - Tract IPL_L_gwfa_dPMC_R_gwfa not found. Skipping.\n",
      "  Finished tract IPL_L_gwfa_vPMC_L_gwfa for subject A00033748\n",
      "  Finished tract IPL_L_gwfa_vPMC_R_gwfa for subject A00033748\n",
      "  Finished tract IPL_R_gwfa_IPS_L_gwfa for subject A00033748\n",
      "  Finished tract IPL_R_gwfa_IPS_R_gwfa for subject A00033748\n",
      "  Finished tract IPL_R_gwfa_SPL_L_gwfa for subject A00033748\n",
      "  Finished tract IPL_R_gwfa_SPL_R_gwfa for subject A00033748\n",
      "  - Tract IPL_R_gwfa_dPMC_L_gwfa not found. Skipping.\n",
      "  Finished tract IPL_R_gwfa_dPMC_R_gwfa for subject A00033748\n",
      "  - Tract IPL_R_gwfa_vPMC_L_gwfa not found. Skipping.\n",
      "  Finished tract IPL_R_gwfa_vPMC_R_gwfa for subject A00033748\n",
      "  Finished tract IPS_L_gwfa_IPS_R_gwfa for subject A00033748\n",
      "  Finished tract IPS_L_gwfa_SPL_L_gwfa for subject A00033748\n",
      "  Finished tract IPS_L_gwfa_SPL_R_gwfa for subject A00033748\n",
      "  Finished tract IPS_L_gwfa_dPMC_L_gwfa for subject A00033748\n",
      "  Finished tract IPS_L_gwfa_dPMC_R_gwfa for subject A00033748\n",
      "  Finished tract IPS_L_gwfa_vPMC_L_gwfa for subject A00033748\n",
      "  Finished tract IPS_L_gwfa_vPMC_R_gwfa for subject A00033748\n",
      "  Finished tract IPS_R_gwfa_SPL_L_gwfa for subject A00033748\n",
      "  Finished tract IPS_R_gwfa_SPL_R_gwfa for subject A00033748\n",
      "  - Tract IPS_R_gwfa_dPMC_L_gwfa not found. Skipping.\n",
      "  Finished tract IPS_R_gwfa_dPMC_R_gwfa for subject A00033748\n",
      "  - Tract IPS_R_gwfa_vPMC_L_gwfa not found. Skipping.\n",
      "  Finished tract IPS_R_gwfa_vPMC_R_gwfa for subject A00033748\n",
      "  Finished tract SPL_L_gwfa_SPL_R_gwfa for subject A00033748\n",
      "  Finished tract SPL_L_gwfa_dPMC_L_gwfa for subject A00033748\n",
      "  Finished tract SPL_L_gwfa_dPMC_R_gwfa for subject A00033748\n",
      "  Finished tract SPL_L_gwfa_vPMC_L_gwfa for subject A00033748\n",
      "  - Tract SPL_L_gwfa_vPMC_R_gwfa not found. Skipping.\n",
      "  Finished tract SPL_R_gwfa_dPMC_L_gwfa for subject A00033748\n",
      "  Finished tract SPL_R_gwfa_dPMC_R_gwfa for subject A00033748\n",
      "  Finished tract SPL_R_gwfa_vPMC_L_gwfa for subject A00033748\n",
      "  Finished tract SPL_R_gwfa_vPMC_R_gwfa for subject A00033748\n",
      "  Finished tract dPMC_L_gwfa_dPMC_R_gwfa for subject A00033748\n",
      "  Finished tract dPMC_L_gwfa_vPMC_L_gwfa for subject A00033748\n",
      "  Finished tract dPMC_L_gwfa_vPMC_R_gwfa for subject A00033748\n",
      "  Finished tract dPMC_R_gwfa_vPMC_L_gwfa for subject A00033748\n",
      "  Finished tract dPMC_R_gwfa_vPMC_R_gwfa for subject A00033748\n",
      "  Finished tract vPMC_L_gwfa_vPMC_R_gwfa for subject A00033748\n",
      "Successfully processed subject A00033748.\n",
      "Starting processing of subject A00033752.\n",
      "  Finished tract IPL_L_gwfa_IPL_R_gwfa for subject A00033752\n",
      "  Finished tract IPL_L_gwfa_IPS_L_gwfa for subject A00033752\n",
      "  Finished tract IPL_L_gwfa_IPS_R_gwfa for subject A00033752\n",
      "  Finished tract IPL_L_gwfa_SPL_L_gwfa for subject A00033752\n",
      "  Finished tract IPL_L_gwfa_SPL_R_gwfa for subject A00033752\n",
      "  Finished tract IPL_L_gwfa_dPMC_L_gwfa for subject A00033752\n",
      "  - Tract IPL_L_gwfa_dPMC_R_gwfa not found. Skipping.\n",
      "  Finished tract IPL_L_gwfa_vPMC_L_gwfa for subject A00033752\n",
      "  Finished tract IPL_L_gwfa_vPMC_R_gwfa for subject A00033752\n",
      "  Finished tract IPL_R_gwfa_IPS_L_gwfa for subject A00033752\n",
      "  Finished tract IPL_R_gwfa_IPS_R_gwfa for subject A00033752\n",
      "  Finished tract IPL_R_gwfa_SPL_L_gwfa for subject A00033752\n",
      "  Finished tract IPL_R_gwfa_SPL_R_gwfa for subject A00033752\n",
      "  - Tract IPL_R_gwfa_dPMC_L_gwfa not found. Skipping.\n",
      "  Finished tract IPL_R_gwfa_dPMC_R_gwfa for subject A00033752\n",
      "  - Tract IPL_R_gwfa_vPMC_L_gwfa not found. Skipping.\n",
      "  Finished tract IPL_R_gwfa_vPMC_R_gwfa for subject A00033752\n",
      "  Finished tract IPS_L_gwfa_IPS_R_gwfa for subject A00033752\n",
      "  Finished tract IPS_L_gwfa_SPL_L_gwfa for subject A00033752\n",
      "  Finished tract IPS_L_gwfa_SPL_R_gwfa for subject A00033752\n",
      "  Finished tract IPS_L_gwfa_dPMC_L_gwfa for subject A00033752\n",
      "  Finished tract IPS_L_gwfa_dPMC_R_gwfa for subject A00033752\n",
      "  Finished tract IPS_L_gwfa_vPMC_L_gwfa for subject A00033752\n",
      "  Finished tract IPS_L_gwfa_vPMC_R_gwfa for subject A00033752\n",
      "  Finished tract IPS_R_gwfa_SPL_L_gwfa for subject A00033752\n",
      "  Finished tract IPS_R_gwfa_SPL_R_gwfa for subject A00033752\n",
      "  - Tract IPS_R_gwfa_dPMC_L_gwfa not found. Skipping.\n",
      "  Finished tract IPS_R_gwfa_dPMC_R_gwfa for subject A00033752\n",
      "  - Tract IPS_R_gwfa_vPMC_L_gwfa not found. Skipping.\n",
      "  Finished tract IPS_R_gwfa_vPMC_R_gwfa for subject A00033752\n",
      "  Finished tract SPL_L_gwfa_SPL_R_gwfa for subject A00033752\n",
      "  Finished tract SPL_L_gwfa_dPMC_L_gwfa for subject A00033752\n",
      "  Finished tract SPL_L_gwfa_dPMC_R_gwfa for subject A00033752\n",
      "  Finished tract SPL_L_gwfa_vPMC_L_gwfa for subject A00033752\n",
      "  - Tract SPL_L_gwfa_vPMC_R_gwfa not found. Skipping.\n",
      "  Finished tract SPL_R_gwfa_dPMC_L_gwfa for subject A00033752\n",
      "  Finished tract SPL_R_gwfa_dPMC_R_gwfa for subject A00033752\n",
      "  Finished tract SPL_R_gwfa_vPMC_L_gwfa for subject A00033752\n",
      "  Finished tract SPL_R_gwfa_vPMC_R_gwfa for subject A00033752\n",
      "  Finished tract dPMC_L_gwfa_dPMC_R_gwfa for subject A00033752\n",
      "  Finished tract dPMC_L_gwfa_vPMC_L_gwfa for subject A00033752\n",
      "  Finished tract dPMC_L_gwfa_vPMC_R_gwfa for subject A00033752\n",
      "  Finished tract dPMC_R_gwfa_vPMC_L_gwfa for subject A00033752\n",
      "  Finished tract dPMC_R_gwfa_vPMC_R_gwfa for subject A00033752\n",
      "  Finished tract vPMC_L_gwfa_vPMC_R_gwfa for subject A00033752\n",
      "Successfully processed subject A00033752.\n",
      "Starting processing of subject A00033764.\n",
      "  Finished tract IPL_L_gwfa_IPL_R_gwfa for subject A00033764\n",
      "  Finished tract IPL_L_gwfa_IPS_L_gwfa for subject A00033764\n",
      "  Finished tract IPL_L_gwfa_IPS_R_gwfa for subject A00033764\n",
      "  Finished tract IPL_L_gwfa_SPL_L_gwfa for subject A00033764\n",
      "  Finished tract IPL_L_gwfa_SPL_R_gwfa for subject A00033764\n",
      "  Finished tract IPL_L_gwfa_dPMC_L_gwfa for subject A00033764\n",
      "  - Tract IPL_L_gwfa_dPMC_R_gwfa not found. Skipping.\n",
      "  Finished tract IPL_L_gwfa_vPMC_L_gwfa for subject A00033764\n",
      "  Finished tract IPL_L_gwfa_vPMC_R_gwfa for subject A00033764\n",
      "  Finished tract IPL_R_gwfa_IPS_L_gwfa for subject A00033764\n",
      "  Finished tract IPL_R_gwfa_IPS_R_gwfa for subject A00033764\n",
      "  Finished tract IPL_R_gwfa_SPL_L_gwfa for subject A00033764\n",
      "  Finished tract IPL_R_gwfa_SPL_R_gwfa for subject A00033764\n",
      "  - Tract IPL_R_gwfa_dPMC_L_gwfa not found. Skipping.\n",
      "  Finished tract IPL_R_gwfa_dPMC_R_gwfa for subject A00033764\n",
      "  - Tract IPL_R_gwfa_vPMC_L_gwfa not found. Skipping.\n",
      "  Finished tract IPL_R_gwfa_vPMC_R_gwfa for subject A00033764\n",
      "  Finished tract IPS_L_gwfa_IPS_R_gwfa for subject A00033764\n",
      "  Finished tract IPS_L_gwfa_SPL_L_gwfa for subject A00033764\n"
     ]
    },
    {
     "name": "stdout",
     "output_type": "stream",
     "text": [
      "  Finished tract IPS_L_gwfa_SPL_R_gwfa for subject A00033764\n",
      "  Finished tract IPS_L_gwfa_dPMC_L_gwfa for subject A00033764\n",
      "  Finished tract IPS_L_gwfa_dPMC_R_gwfa for subject A00033764\n",
      "  Finished tract IPS_L_gwfa_vPMC_L_gwfa for subject A00033764\n",
      "  Finished tract IPS_L_gwfa_vPMC_R_gwfa for subject A00033764\n",
      "  Finished tract IPS_R_gwfa_SPL_L_gwfa for subject A00033764\n",
      "  Finished tract IPS_R_gwfa_SPL_R_gwfa for subject A00033764\n",
      "  - Tract IPS_R_gwfa_dPMC_L_gwfa not found. Skipping.\n",
      "  Finished tract IPS_R_gwfa_dPMC_R_gwfa for subject A00033764\n",
      "  - Tract IPS_R_gwfa_vPMC_L_gwfa not found. Skipping.\n",
      "  Finished tract IPS_R_gwfa_vPMC_R_gwfa for subject A00033764\n",
      "  Finished tract SPL_L_gwfa_SPL_R_gwfa for subject A00033764\n",
      "  Finished tract SPL_L_gwfa_dPMC_L_gwfa for subject A00033764\n",
      "  Finished tract SPL_L_gwfa_dPMC_R_gwfa for subject A00033764\n",
      "  Finished tract SPL_L_gwfa_vPMC_L_gwfa for subject A00033764\n",
      "  - Tract SPL_L_gwfa_vPMC_R_gwfa not found. Skipping.\n",
      "  Finished tract SPL_R_gwfa_dPMC_L_gwfa for subject A00033764\n",
      "  Finished tract SPL_R_gwfa_dPMC_R_gwfa for subject A00033764\n",
      "  Finished tract SPL_R_gwfa_vPMC_L_gwfa for subject A00033764\n",
      "  Finished tract SPL_R_gwfa_vPMC_R_gwfa for subject A00033764\n",
      "  Finished tract dPMC_L_gwfa_dPMC_R_gwfa for subject A00033764\n",
      "  Finished tract dPMC_L_gwfa_vPMC_L_gwfa for subject A00033764\n",
      "  Finished tract dPMC_L_gwfa_vPMC_R_gwfa for subject A00033764\n",
      "  Finished tract dPMC_R_gwfa_vPMC_L_gwfa for subject A00033764\n",
      "  Finished tract dPMC_R_gwfa_vPMC_R_gwfa for subject A00033764\n",
      "  Finished tract vPMC_L_gwfa_vPMC_R_gwfa for subject A00033764\n",
      "Successfully processed subject A00033764.\n",
      "Starting processing of subject A00033834.\n",
      "  Finished tract IPL_L_gwfa_IPL_R_gwfa for subject A00033834\n",
      "  Finished tract IPL_L_gwfa_IPS_L_gwfa for subject A00033834\n",
      "  Finished tract IPL_L_gwfa_IPS_R_gwfa for subject A00033834\n",
      "  Finished tract IPL_L_gwfa_SPL_L_gwfa for subject A00033834\n",
      "  Finished tract IPL_L_gwfa_SPL_R_gwfa for subject A00033834\n",
      "  Finished tract IPL_L_gwfa_dPMC_L_gwfa for subject A00033834\n",
      "  - Tract IPL_L_gwfa_dPMC_R_gwfa not found. Skipping.\n",
      "  Finished tract IPL_L_gwfa_vPMC_L_gwfa for subject A00033834\n",
      "  Finished tract IPL_L_gwfa_vPMC_R_gwfa for subject A00033834\n",
      "  Finished tract IPL_R_gwfa_IPS_L_gwfa for subject A00033834\n",
      "  Finished tract IPL_R_gwfa_IPS_R_gwfa for subject A00033834\n",
      "  Finished tract IPL_R_gwfa_SPL_L_gwfa for subject A00033834\n",
      "  Finished tract IPL_R_gwfa_SPL_R_gwfa for subject A00033834\n",
      "  - Tract IPL_R_gwfa_dPMC_L_gwfa not found. Skipping.\n",
      "  Finished tract IPL_R_gwfa_dPMC_R_gwfa for subject A00033834\n",
      "  - Tract IPL_R_gwfa_vPMC_L_gwfa not found. Skipping.\n",
      "  Finished tract IPL_R_gwfa_vPMC_R_gwfa for subject A00033834\n",
      "  Finished tract IPS_L_gwfa_IPS_R_gwfa for subject A00033834\n",
      "  Finished tract IPS_L_gwfa_SPL_L_gwfa for subject A00033834\n",
      "  Finished tract IPS_L_gwfa_SPL_R_gwfa for subject A00033834\n",
      "  Finished tract IPS_L_gwfa_dPMC_L_gwfa for subject A00033834\n",
      "  Finished tract IPS_L_gwfa_dPMC_R_gwfa for subject A00033834\n",
      "  Finished tract IPS_L_gwfa_vPMC_L_gwfa for subject A00033834\n",
      "  Finished tract IPS_L_gwfa_vPMC_R_gwfa for subject A00033834\n",
      "  Finished tract IPS_R_gwfa_SPL_L_gwfa for subject A00033834\n",
      "  Finished tract IPS_R_gwfa_SPL_R_gwfa for subject A00033834\n",
      "  - Tract IPS_R_gwfa_dPMC_L_gwfa not found. Skipping.\n",
      "  Finished tract IPS_R_gwfa_dPMC_R_gwfa for subject A00033834\n",
      "  - Tract IPS_R_gwfa_vPMC_L_gwfa not found. Skipping.\n",
      "  Finished tract IPS_R_gwfa_vPMC_R_gwfa for subject A00033834\n",
      "  Finished tract SPL_L_gwfa_SPL_R_gwfa for subject A00033834\n",
      "  Finished tract SPL_L_gwfa_dPMC_L_gwfa for subject A00033834\n",
      "  Finished tract SPL_L_gwfa_dPMC_R_gwfa for subject A00033834\n",
      "  Finished tract SPL_L_gwfa_vPMC_L_gwfa for subject A00033834\n",
      "  - Tract SPL_L_gwfa_vPMC_R_gwfa not found. Skipping.\n",
      "  Finished tract SPL_R_gwfa_dPMC_L_gwfa for subject A00033834\n",
      "  Finished tract SPL_R_gwfa_dPMC_R_gwfa for subject A00033834\n",
      "  Finished tract SPL_R_gwfa_vPMC_L_gwfa for subject A00033834\n",
      "  Finished tract SPL_R_gwfa_vPMC_R_gwfa for subject A00033834\n",
      "  Finished tract dPMC_L_gwfa_dPMC_R_gwfa for subject A00033834\n",
      "  Finished tract dPMC_L_gwfa_vPMC_L_gwfa for subject A00033834\n",
      "  Finished tract dPMC_L_gwfa_vPMC_R_gwfa for subject A00033834\n",
      "  Finished tract dPMC_R_gwfa_vPMC_L_gwfa for subject A00033834\n",
      "  Finished tract dPMC_R_gwfa_vPMC_R_gwfa for subject A00033834\n",
      "  Finished tract vPMC_L_gwfa_vPMC_R_gwfa for subject A00033834\n",
      "Successfully processed subject A00033834.\n",
      "Starting processing of subject A00033849.\n",
      "  Finished tract IPL_L_gwfa_IPL_R_gwfa for subject A00033849\n",
      "  Finished tract IPL_L_gwfa_IPS_L_gwfa for subject A00033849\n",
      "  Finished tract IPL_L_gwfa_IPS_R_gwfa for subject A00033849\n",
      "  Finished tract IPL_L_gwfa_SPL_L_gwfa for subject A00033849\n",
      "  Finished tract IPL_L_gwfa_SPL_R_gwfa for subject A00033849\n",
      "  Finished tract IPL_L_gwfa_dPMC_L_gwfa for subject A00033849\n",
      "  - Tract IPL_L_gwfa_dPMC_R_gwfa not found. Skipping.\n",
      "  Finished tract IPL_L_gwfa_vPMC_L_gwfa for subject A00033849\n",
      "  Finished tract IPL_L_gwfa_vPMC_R_gwfa for subject A00033849\n",
      "  Finished tract IPL_R_gwfa_IPS_L_gwfa for subject A00033849\n",
      "  Finished tract IPL_R_gwfa_IPS_R_gwfa for subject A00033849\n",
      "  Finished tract IPL_R_gwfa_SPL_L_gwfa for subject A00033849\n",
      "  Finished tract IPL_R_gwfa_SPL_R_gwfa for subject A00033849\n",
      "  - Tract IPL_R_gwfa_dPMC_L_gwfa not found. Skipping.\n",
      "  Finished tract IPL_R_gwfa_dPMC_R_gwfa for subject A00033849\n",
      "  - Tract IPL_R_gwfa_vPMC_L_gwfa not found. Skipping.\n",
      "  Finished tract IPL_R_gwfa_vPMC_R_gwfa for subject A00033849\n",
      "  Finished tract IPS_L_gwfa_IPS_R_gwfa for subject A00033849\n",
      "  Finished tract IPS_L_gwfa_SPL_L_gwfa for subject A00033849\n",
      "  Finished tract IPS_L_gwfa_SPL_R_gwfa for subject A00033849\n",
      "  Finished tract IPS_L_gwfa_dPMC_L_gwfa for subject A00033849\n",
      "  Finished tract IPS_L_gwfa_dPMC_R_gwfa for subject A00033849\n",
      "  Finished tract IPS_L_gwfa_vPMC_L_gwfa for subject A00033849\n",
      "  Finished tract IPS_L_gwfa_vPMC_R_gwfa for subject A00033849\n",
      "  Finished tract IPS_R_gwfa_SPL_L_gwfa for subject A00033849\n",
      "  Finished tract IPS_R_gwfa_SPL_R_gwfa for subject A00033849\n",
      "  - Tract IPS_R_gwfa_dPMC_L_gwfa not found. Skipping.\n",
      "  Finished tract IPS_R_gwfa_dPMC_R_gwfa for subject A00033849\n",
      "  - Tract IPS_R_gwfa_vPMC_L_gwfa not found. Skipping.\n",
      "  Finished tract IPS_R_gwfa_vPMC_R_gwfa for subject A00033849\n",
      "  Finished tract SPL_L_gwfa_SPL_R_gwfa for subject A00033849\n",
      "  Finished tract SPL_L_gwfa_dPMC_L_gwfa for subject A00033849\n",
      "  Finished tract SPL_L_gwfa_dPMC_R_gwfa for subject A00033849\n",
      "  Finished tract SPL_L_gwfa_vPMC_L_gwfa for subject A00033849\n",
      "  - Tract SPL_L_gwfa_vPMC_R_gwfa not found. Skipping.\n",
      "  Finished tract SPL_R_gwfa_dPMC_L_gwfa for subject A00033849\n",
      "  Finished tract SPL_R_gwfa_dPMC_R_gwfa for subject A00033849\n",
      "  Finished tract SPL_R_gwfa_vPMC_L_gwfa for subject A00033849\n",
      "  Finished tract SPL_R_gwfa_vPMC_R_gwfa for subject A00033849\n",
      "  Finished tract dPMC_L_gwfa_dPMC_R_gwfa for subject A00033849\n",
      "  Finished tract dPMC_L_gwfa_vPMC_L_gwfa for subject A00033849\n",
      "  Finished tract dPMC_L_gwfa_vPMC_R_gwfa for subject A00033849\n",
      "  Finished tract dPMC_R_gwfa_vPMC_L_gwfa for subject A00033849\n",
      "  Finished tract dPMC_R_gwfa_vPMC_R_gwfa for subject A00033849\n",
      "  Finished tract vPMC_L_gwfa_vPMC_R_gwfa for subject A00033849\n",
      "Successfully processed subject A00033849.\n",
      "Starting processing of subject A00034193.\n",
      "  Finished tract IPL_L_gwfa_IPL_R_gwfa for subject A00034193\n",
      "  Finished tract IPL_L_gwfa_IPS_L_gwfa for subject A00034193\n",
      "  Finished tract IPL_L_gwfa_IPS_R_gwfa for subject A00034193\n",
      "  Finished tract IPL_L_gwfa_SPL_L_gwfa for subject A00034193\n",
      "  Finished tract IPL_L_gwfa_SPL_R_gwfa for subject A00034193\n",
      "  Finished tract IPL_L_gwfa_dPMC_L_gwfa for subject A00034193\n",
      "  - Tract IPL_L_gwfa_dPMC_R_gwfa not found. Skipping.\n",
      "  Finished tract IPL_L_gwfa_vPMC_L_gwfa for subject A00034193\n",
      "  Finished tract IPL_L_gwfa_vPMC_R_gwfa for subject A00034193\n",
      "  Finished tract IPL_R_gwfa_IPS_L_gwfa for subject A00034193\n",
      "  Finished tract IPL_R_gwfa_IPS_R_gwfa for subject A00034193\n",
      "  Finished tract IPL_R_gwfa_SPL_L_gwfa for subject A00034193\n",
      "  Finished tract IPL_R_gwfa_SPL_R_gwfa for subject A00034193\n",
      "  - Tract IPL_R_gwfa_dPMC_L_gwfa not found. Skipping.\n",
      "  Finished tract IPL_R_gwfa_dPMC_R_gwfa for subject A00034193\n",
      "  - Tract IPL_R_gwfa_vPMC_L_gwfa not found. Skipping.\n"
     ]
    },
    {
     "name": "stdout",
     "output_type": "stream",
     "text": [
      "  Finished tract IPL_R_gwfa_vPMC_R_gwfa for subject A00034193\n",
      "  Finished tract IPS_L_gwfa_IPS_R_gwfa for subject A00034193\n",
      "  Finished tract IPS_L_gwfa_SPL_L_gwfa for subject A00034193\n",
      "  Finished tract IPS_L_gwfa_SPL_R_gwfa for subject A00034193\n",
      "  Finished tract IPS_L_gwfa_dPMC_L_gwfa for subject A00034193\n",
      "  Finished tract IPS_L_gwfa_dPMC_R_gwfa for subject A00034193\n",
      "  Finished tract IPS_L_gwfa_vPMC_L_gwfa for subject A00034193\n",
      "  Finished tract IPS_L_gwfa_vPMC_R_gwfa for subject A00034193\n",
      "  Finished tract IPS_R_gwfa_SPL_L_gwfa for subject A00034193\n",
      "  Finished tract IPS_R_gwfa_SPL_R_gwfa for subject A00034193\n",
      "  - Tract IPS_R_gwfa_dPMC_L_gwfa not found. Skipping.\n",
      "  Finished tract IPS_R_gwfa_dPMC_R_gwfa for subject A00034193\n",
      "  - Tract IPS_R_gwfa_vPMC_L_gwfa not found. Skipping.\n",
      "  Finished tract IPS_R_gwfa_vPMC_R_gwfa for subject A00034193\n",
      "  Finished tract SPL_L_gwfa_SPL_R_gwfa for subject A00034193\n",
      "  Finished tract SPL_L_gwfa_dPMC_L_gwfa for subject A00034193\n",
      "  Finished tract SPL_L_gwfa_dPMC_R_gwfa for subject A00034193\n",
      "  Finished tract SPL_L_gwfa_vPMC_L_gwfa for subject A00034193\n",
      "  - Tract SPL_L_gwfa_vPMC_R_gwfa not found. Skipping.\n",
      "  Finished tract SPL_R_gwfa_dPMC_L_gwfa for subject A00034193\n",
      "  Finished tract SPL_R_gwfa_dPMC_R_gwfa for subject A00034193\n",
      "  Finished tract SPL_R_gwfa_vPMC_L_gwfa for subject A00034193\n",
      "  Finished tract SPL_R_gwfa_vPMC_R_gwfa for subject A00034193\n",
      "  Finished tract dPMC_L_gwfa_dPMC_R_gwfa for subject A00034193\n",
      "  Finished tract dPMC_L_gwfa_vPMC_L_gwfa for subject A00034193\n",
      "  Finished tract dPMC_L_gwfa_vPMC_R_gwfa for subject A00034193\n",
      "  Finished tract dPMC_R_gwfa_vPMC_L_gwfa for subject A00034193\n",
      "  Finished tract dPMC_R_gwfa_vPMC_R_gwfa for subject A00034193\n",
      "  Finished tract vPMC_L_gwfa_vPMC_R_gwfa for subject A00034193\n",
      "Successfully processed subject A00034193.\n",
      "Starting processing of subject A00034827.\n",
      "  Finished tract IPL_L_gwfa_IPL_R_gwfa for subject A00034827\n",
      "  Finished tract IPL_L_gwfa_IPS_L_gwfa for subject A00034827\n",
      "  Finished tract IPL_L_gwfa_IPS_R_gwfa for subject A00034827\n",
      "  Finished tract IPL_L_gwfa_SPL_L_gwfa for subject A00034827\n",
      "  Finished tract IPL_L_gwfa_SPL_R_gwfa for subject A00034827\n",
      "  Finished tract IPL_L_gwfa_dPMC_L_gwfa for subject A00034827\n",
      "  - Tract IPL_L_gwfa_dPMC_R_gwfa not found. Skipping.\n",
      "  Finished tract IPL_L_gwfa_vPMC_L_gwfa for subject A00034827\n",
      "  Finished tract IPL_L_gwfa_vPMC_R_gwfa for subject A00034827\n",
      "  Finished tract IPL_R_gwfa_IPS_L_gwfa for subject A00034827\n",
      "  Finished tract IPL_R_gwfa_IPS_R_gwfa for subject A00034827\n",
      "  Finished tract IPL_R_gwfa_SPL_L_gwfa for subject A00034827\n",
      "  Finished tract IPL_R_gwfa_SPL_R_gwfa for subject A00034827\n",
      "  - Tract IPL_R_gwfa_dPMC_L_gwfa not found. Skipping.\n",
      "  Finished tract IPL_R_gwfa_dPMC_R_gwfa for subject A00034827\n",
      "  - Tract IPL_R_gwfa_vPMC_L_gwfa not found. Skipping.\n",
      "  Finished tract IPL_R_gwfa_vPMC_R_gwfa for subject A00034827\n",
      "  Finished tract IPS_L_gwfa_IPS_R_gwfa for subject A00034827\n",
      "  Finished tract IPS_L_gwfa_SPL_L_gwfa for subject A00034827\n",
      "  Finished tract IPS_L_gwfa_SPL_R_gwfa for subject A00034827\n",
      "  Finished tract IPS_L_gwfa_dPMC_L_gwfa for subject A00034827\n",
      "  Finished tract IPS_L_gwfa_dPMC_R_gwfa for subject A00034827\n",
      "  Finished tract IPS_L_gwfa_vPMC_L_gwfa for subject A00034827\n",
      "  Finished tract IPS_L_gwfa_vPMC_R_gwfa for subject A00034827\n",
      "  Finished tract IPS_R_gwfa_SPL_L_gwfa for subject A00034827\n",
      "  Finished tract IPS_R_gwfa_SPL_R_gwfa for subject A00034827\n",
      "  - Tract IPS_R_gwfa_dPMC_L_gwfa not found. Skipping.\n",
      "  Finished tract IPS_R_gwfa_dPMC_R_gwfa for subject A00034827\n",
      "  - Tract IPS_R_gwfa_vPMC_L_gwfa not found. Skipping.\n",
      "  Finished tract IPS_R_gwfa_vPMC_R_gwfa for subject A00034827\n",
      "  Finished tract SPL_L_gwfa_SPL_R_gwfa for subject A00034827\n",
      "  Finished tract SPL_L_gwfa_dPMC_L_gwfa for subject A00034827\n",
      "  Finished tract SPL_L_gwfa_dPMC_R_gwfa for subject A00034827\n",
      "  Finished tract SPL_L_gwfa_vPMC_L_gwfa for subject A00034827\n",
      "  - Tract SPL_L_gwfa_vPMC_R_gwfa not found. Skipping.\n",
      "  Finished tract SPL_R_gwfa_dPMC_L_gwfa for subject A00034827\n",
      "  Finished tract SPL_R_gwfa_dPMC_R_gwfa for subject A00034827\n",
      "  Finished tract SPL_R_gwfa_vPMC_L_gwfa for subject A00034827\n",
      "  Finished tract SPL_R_gwfa_vPMC_R_gwfa for subject A00034827\n",
      "  Finished tract dPMC_L_gwfa_dPMC_R_gwfa for subject A00034827\n",
      "  Finished tract dPMC_L_gwfa_vPMC_L_gwfa for subject A00034827\n",
      "  Finished tract dPMC_L_gwfa_vPMC_R_gwfa for subject A00034827\n",
      "  Finished tract dPMC_R_gwfa_vPMC_L_gwfa for subject A00034827\n",
      "  Finished tract dPMC_R_gwfa_vPMC_R_gwfa for subject A00034827\n",
      "  Finished tract vPMC_L_gwfa_vPMC_R_gwfa for subject A00034827\n",
      "Successfully processed subject A00034827.\n",
      "Starting processing of subject A00034987.\n",
      "  Finished tract IPL_L_gwfa_IPL_R_gwfa for subject A00034987\n",
      "  Finished tract IPL_L_gwfa_IPS_L_gwfa for subject A00034987\n",
      "  Finished tract IPL_L_gwfa_IPS_R_gwfa for subject A00034987\n",
      "  Finished tract IPL_L_gwfa_SPL_L_gwfa for subject A00034987\n",
      "  Finished tract IPL_L_gwfa_SPL_R_gwfa for subject A00034987\n",
      "  Finished tract IPL_L_gwfa_dPMC_L_gwfa for subject A00034987\n",
      "  - Tract IPL_L_gwfa_dPMC_R_gwfa not found. Skipping.\n",
      "  Finished tract IPL_L_gwfa_vPMC_L_gwfa for subject A00034987\n",
      "  Finished tract IPL_L_gwfa_vPMC_R_gwfa for subject A00034987\n",
      "  Finished tract IPL_R_gwfa_IPS_L_gwfa for subject A00034987\n",
      "  Finished tract IPL_R_gwfa_IPS_R_gwfa for subject A00034987\n",
      "  Finished tract IPL_R_gwfa_SPL_L_gwfa for subject A00034987\n",
      "  Finished tract IPL_R_gwfa_SPL_R_gwfa for subject A00034987\n",
      "  - Tract IPL_R_gwfa_dPMC_L_gwfa not found. Skipping.\n",
      "  Finished tract IPL_R_gwfa_dPMC_R_gwfa for subject A00034987\n",
      "  - Tract IPL_R_gwfa_vPMC_L_gwfa not found. Skipping.\n",
      "  Finished tract IPL_R_gwfa_vPMC_R_gwfa for subject A00034987\n",
      "  Finished tract IPS_L_gwfa_IPS_R_gwfa for subject A00034987\n",
      "  Finished tract IPS_L_gwfa_SPL_L_gwfa for subject A00034987\n",
      "  Finished tract IPS_L_gwfa_SPL_R_gwfa for subject A00034987\n",
      "  Finished tract IPS_L_gwfa_dPMC_L_gwfa for subject A00034987\n",
      "  Finished tract IPS_L_gwfa_dPMC_R_gwfa for subject A00034987\n",
      "  Finished tract IPS_L_gwfa_vPMC_L_gwfa for subject A00034987\n",
      "  Finished tract IPS_L_gwfa_vPMC_R_gwfa for subject A00034987\n",
      "  Finished tract IPS_R_gwfa_SPL_L_gwfa for subject A00034987\n",
      "  Finished tract IPS_R_gwfa_SPL_R_gwfa for subject A00034987\n",
      "  - Tract IPS_R_gwfa_dPMC_L_gwfa not found. Skipping.\n",
      "  Finished tract IPS_R_gwfa_dPMC_R_gwfa for subject A00034987\n",
      "  - Tract IPS_R_gwfa_vPMC_L_gwfa not found. Skipping.\n",
      "  Finished tract IPS_R_gwfa_vPMC_R_gwfa for subject A00034987\n",
      "  Finished tract SPL_L_gwfa_SPL_R_gwfa for subject A00034987\n",
      "  Finished tract SPL_L_gwfa_dPMC_L_gwfa for subject A00034987\n",
      "  Finished tract SPL_L_gwfa_dPMC_R_gwfa for subject A00034987\n",
      "  Finished tract SPL_L_gwfa_vPMC_L_gwfa for subject A00034987\n",
      "  - Tract SPL_L_gwfa_vPMC_R_gwfa not found. Skipping.\n",
      "  Finished tract SPL_R_gwfa_dPMC_L_gwfa for subject A00034987\n",
      "  Finished tract SPL_R_gwfa_dPMC_R_gwfa for subject A00034987\n",
      "  Finished tract SPL_R_gwfa_vPMC_L_gwfa for subject A00034987\n",
      "  Finished tract SPL_R_gwfa_vPMC_R_gwfa for subject A00034987\n",
      "  Finished tract dPMC_L_gwfa_dPMC_R_gwfa for subject A00034987\n",
      "  Finished tract dPMC_L_gwfa_vPMC_L_gwfa for subject A00034987\n",
      "  Finished tract dPMC_L_gwfa_vPMC_R_gwfa for subject A00034987\n",
      "  Finished tract dPMC_R_gwfa_vPMC_L_gwfa for subject A00034987\n",
      "  Finished tract dPMC_R_gwfa_vPMC_R_gwfa for subject A00034987\n",
      "  Finished tract vPMC_L_gwfa_vPMC_R_gwfa for subject A00034987\n",
      "Successfully processed subject A00034987.\n",
      "Starting processing of subject A00035036.\n",
      "  Finished tract IPL_L_gwfa_IPL_R_gwfa for subject A00035036\n",
      "  Finished tract IPL_L_gwfa_IPS_L_gwfa for subject A00035036\n",
      "  Finished tract IPL_L_gwfa_IPS_R_gwfa for subject A00035036\n",
      "  Finished tract IPL_L_gwfa_SPL_L_gwfa for subject A00035036\n",
      "  Finished tract IPL_L_gwfa_SPL_R_gwfa for subject A00035036\n",
      "  Finished tract IPL_L_gwfa_dPMC_L_gwfa for subject A00035036\n",
      "  - Tract IPL_L_gwfa_dPMC_R_gwfa not found. Skipping.\n",
      "  Finished tract IPL_L_gwfa_vPMC_L_gwfa for subject A00035036\n",
      "  Finished tract IPL_L_gwfa_vPMC_R_gwfa for subject A00035036\n",
      "  Finished tract IPL_R_gwfa_IPS_L_gwfa for subject A00035036\n",
      "  Finished tract IPL_R_gwfa_IPS_R_gwfa for subject A00035036\n",
      "  Finished tract IPL_R_gwfa_SPL_L_gwfa for subject A00035036\n"
     ]
    },
    {
     "name": "stdout",
     "output_type": "stream",
     "text": [
      "  Finished tract IPL_R_gwfa_SPL_R_gwfa for subject A00035036\n",
      "  - Tract IPL_R_gwfa_dPMC_L_gwfa not found. Skipping.\n",
      "  Finished tract IPL_R_gwfa_dPMC_R_gwfa for subject A00035036\n",
      "  - Tract IPL_R_gwfa_vPMC_L_gwfa not found. Skipping.\n",
      "  Finished tract IPL_R_gwfa_vPMC_R_gwfa for subject A00035036\n",
      "  Finished tract IPS_L_gwfa_IPS_R_gwfa for subject A00035036\n",
      "  Finished tract IPS_L_gwfa_SPL_L_gwfa for subject A00035036\n",
      "  Finished tract IPS_L_gwfa_SPL_R_gwfa for subject A00035036\n",
      "  Finished tract IPS_L_gwfa_dPMC_L_gwfa for subject A00035036\n",
      "  Finished tract IPS_L_gwfa_dPMC_R_gwfa for subject A00035036\n",
      "  Finished tract IPS_L_gwfa_vPMC_L_gwfa for subject A00035036\n",
      "  Finished tract IPS_L_gwfa_vPMC_R_gwfa for subject A00035036\n",
      "  Finished tract IPS_R_gwfa_SPL_L_gwfa for subject A00035036\n",
      "  Finished tract IPS_R_gwfa_SPL_R_gwfa for subject A00035036\n",
      "  - Tract IPS_R_gwfa_dPMC_L_gwfa not found. Skipping.\n",
      "  Finished tract IPS_R_gwfa_dPMC_R_gwfa for subject A00035036\n",
      "  - Tract IPS_R_gwfa_vPMC_L_gwfa not found. Skipping.\n",
      "  Finished tract IPS_R_gwfa_vPMC_R_gwfa for subject A00035036\n",
      "  Finished tract SPL_L_gwfa_SPL_R_gwfa for subject A00035036\n",
      "  Finished tract SPL_L_gwfa_dPMC_L_gwfa for subject A00035036\n",
      "  Finished tract SPL_L_gwfa_dPMC_R_gwfa for subject A00035036\n",
      "  Finished tract SPL_L_gwfa_vPMC_L_gwfa for subject A00035036\n",
      "  - Tract SPL_L_gwfa_vPMC_R_gwfa not found. Skipping.\n",
      "  Finished tract SPL_R_gwfa_dPMC_L_gwfa for subject A00035036\n",
      "  Finished tract SPL_R_gwfa_dPMC_R_gwfa for subject A00035036\n",
      "  Finished tract SPL_R_gwfa_vPMC_L_gwfa for subject A00035036\n",
      "  Finished tract SPL_R_gwfa_vPMC_R_gwfa for subject A00035036\n",
      "  Finished tract dPMC_L_gwfa_dPMC_R_gwfa for subject A00035036\n",
      "  Finished tract dPMC_L_gwfa_vPMC_L_gwfa for subject A00035036\n",
      "  Finished tract dPMC_L_gwfa_vPMC_R_gwfa for subject A00035036\n",
      "  Finished tract dPMC_R_gwfa_vPMC_L_gwfa for subject A00035036\n",
      "  Finished tract dPMC_R_gwfa_vPMC_R_gwfa for subject A00035036\n",
      "  Finished tract vPMC_L_gwfa_vPMC_R_gwfa for subject A00035036\n",
      "Successfully processed subject A00035036.\n",
      "Starting processing of subject A00035363.\n",
      "  Finished tract IPL_L_gwfa_IPL_R_gwfa for subject A00035363\n",
      "  Finished tract IPL_L_gwfa_IPS_L_gwfa for subject A00035363\n",
      "  Finished tract IPL_L_gwfa_IPS_R_gwfa for subject A00035363\n",
      "  Finished tract IPL_L_gwfa_SPL_L_gwfa for subject A00035363\n",
      "  Finished tract IPL_L_gwfa_SPL_R_gwfa for subject A00035363\n",
      "  Finished tract IPL_L_gwfa_dPMC_L_gwfa for subject A00035363\n",
      "  - Tract IPL_L_gwfa_dPMC_R_gwfa not found. Skipping.\n",
      "  Finished tract IPL_L_gwfa_vPMC_L_gwfa for subject A00035363\n",
      "  Finished tract IPL_L_gwfa_vPMC_R_gwfa for subject A00035363\n",
      "  Finished tract IPL_R_gwfa_IPS_L_gwfa for subject A00035363\n",
      "  Finished tract IPL_R_gwfa_IPS_R_gwfa for subject A00035363\n",
      "  Finished tract IPL_R_gwfa_SPL_L_gwfa for subject A00035363\n",
      "  Finished tract IPL_R_gwfa_SPL_R_gwfa for subject A00035363\n",
      "  - Tract IPL_R_gwfa_dPMC_L_gwfa not found. Skipping.\n",
      "  Finished tract IPL_R_gwfa_dPMC_R_gwfa for subject A00035363\n",
      "  - Tract IPL_R_gwfa_vPMC_L_gwfa not found. Skipping.\n",
      "  Finished tract IPL_R_gwfa_vPMC_R_gwfa for subject A00035363\n",
      "  Finished tract IPS_L_gwfa_IPS_R_gwfa for subject A00035363\n",
      "  Finished tract IPS_L_gwfa_SPL_L_gwfa for subject A00035363\n",
      "  Finished tract IPS_L_gwfa_SPL_R_gwfa for subject A00035363\n",
      "  Finished tract IPS_L_gwfa_dPMC_L_gwfa for subject A00035363\n",
      "  Finished tract IPS_L_gwfa_dPMC_R_gwfa for subject A00035363\n",
      "  Finished tract IPS_L_gwfa_vPMC_L_gwfa for subject A00035363\n",
      "  Finished tract IPS_L_gwfa_vPMC_R_gwfa for subject A00035363\n",
      "  Finished tract IPS_R_gwfa_SPL_L_gwfa for subject A00035363\n",
      "  Finished tract IPS_R_gwfa_SPL_R_gwfa for subject A00035363\n",
      "  - Tract IPS_R_gwfa_dPMC_L_gwfa not found. Skipping.\n",
      "  Finished tract IPS_R_gwfa_dPMC_R_gwfa for subject A00035363\n",
      "  - Tract IPS_R_gwfa_vPMC_L_gwfa not found. Skipping.\n",
      "  Finished tract IPS_R_gwfa_vPMC_R_gwfa for subject A00035363\n",
      "  Finished tract SPL_L_gwfa_SPL_R_gwfa for subject A00035363\n",
      "  Finished tract SPL_L_gwfa_dPMC_L_gwfa for subject A00035363\n",
      "  Finished tract SPL_L_gwfa_dPMC_R_gwfa for subject A00035363\n",
      "  Finished tract SPL_L_gwfa_vPMC_L_gwfa for subject A00035363\n",
      "  - Tract SPL_L_gwfa_vPMC_R_gwfa not found. Skipping.\n",
      "  Finished tract SPL_R_gwfa_dPMC_L_gwfa for subject A00035363\n",
      "  Finished tract SPL_R_gwfa_dPMC_R_gwfa for subject A00035363\n",
      "  Finished tract SPL_R_gwfa_vPMC_L_gwfa for subject A00035363\n",
      "  Finished tract SPL_R_gwfa_vPMC_R_gwfa for subject A00035363\n",
      "  Finished tract dPMC_L_gwfa_dPMC_R_gwfa for subject A00035363\n",
      "  Finished tract dPMC_L_gwfa_vPMC_L_gwfa for subject A00035363\n",
      "  Finished tract dPMC_L_gwfa_vPMC_R_gwfa for subject A00035363\n",
      "  Finished tract dPMC_R_gwfa_vPMC_L_gwfa for subject A00035363\n",
      "  Finished tract dPMC_R_gwfa_vPMC_R_gwfa for subject A00035363\n",
      "  Finished tract vPMC_L_gwfa_vPMC_R_gwfa for subject A00035363\n",
      "Successfully processed subject A00035363.\n",
      "Starting processing of subject A00035437.\n",
      "  Finished tract IPL_L_gwfa_IPL_R_gwfa for subject A00035437\n",
      "  Finished tract IPL_L_gwfa_IPS_L_gwfa for subject A00035437\n",
      "  Finished tract IPL_L_gwfa_IPS_R_gwfa for subject A00035437\n",
      "  Finished tract IPL_L_gwfa_SPL_L_gwfa for subject A00035437\n",
      "  Finished tract IPL_L_gwfa_SPL_R_gwfa for subject A00035437\n",
      "  Finished tract IPL_L_gwfa_dPMC_L_gwfa for subject A00035437\n",
      "  - Tract IPL_L_gwfa_dPMC_R_gwfa not found. Skipping.\n",
      "  Finished tract IPL_L_gwfa_vPMC_L_gwfa for subject A00035437\n",
      "  Finished tract IPL_L_gwfa_vPMC_R_gwfa for subject A00035437\n",
      "  Finished tract IPL_R_gwfa_IPS_L_gwfa for subject A00035437\n",
      "  Finished tract IPL_R_gwfa_IPS_R_gwfa for subject A00035437\n",
      "  Finished tract IPL_R_gwfa_SPL_L_gwfa for subject A00035437\n",
      "  Finished tract IPL_R_gwfa_SPL_R_gwfa for subject A00035437\n",
      "  - Tract IPL_R_gwfa_dPMC_L_gwfa not found. Skipping.\n",
      "  Finished tract IPL_R_gwfa_dPMC_R_gwfa for subject A00035437\n",
      "  - Tract IPL_R_gwfa_vPMC_L_gwfa not found. Skipping.\n",
      "  Finished tract IPL_R_gwfa_vPMC_R_gwfa for subject A00035437\n",
      "  Finished tract IPS_L_gwfa_IPS_R_gwfa for subject A00035437\n",
      "  Finished tract IPS_L_gwfa_SPL_L_gwfa for subject A00035437\n",
      "  Finished tract IPS_L_gwfa_SPL_R_gwfa for subject A00035437\n",
      "  Finished tract IPS_L_gwfa_dPMC_L_gwfa for subject A00035437\n",
      "  Finished tract IPS_L_gwfa_dPMC_R_gwfa for subject A00035437\n",
      "  Finished tract IPS_L_gwfa_vPMC_L_gwfa for subject A00035437\n",
      "  Finished tract IPS_L_gwfa_vPMC_R_gwfa for subject A00035437\n",
      "  Finished tract IPS_R_gwfa_SPL_L_gwfa for subject A00035437\n",
      "  Finished tract IPS_R_gwfa_SPL_R_gwfa for subject A00035437\n",
      "  - Tract IPS_R_gwfa_dPMC_L_gwfa not found. Skipping.\n",
      "  Finished tract IPS_R_gwfa_dPMC_R_gwfa for subject A00035437\n",
      "  - Tract IPS_R_gwfa_vPMC_L_gwfa not found. Skipping.\n",
      "  Finished tract IPS_R_gwfa_vPMC_R_gwfa for subject A00035437\n",
      "  Finished tract SPL_L_gwfa_SPL_R_gwfa for subject A00035437\n",
      "  Finished tract SPL_L_gwfa_dPMC_L_gwfa for subject A00035437\n",
      "  Finished tract SPL_L_gwfa_dPMC_R_gwfa for subject A00035437\n",
      "  Finished tract SPL_L_gwfa_vPMC_L_gwfa for subject A00035437\n",
      "  - Tract SPL_L_gwfa_vPMC_R_gwfa not found. Skipping.\n",
      "  Finished tract SPL_R_gwfa_dPMC_L_gwfa for subject A00035437\n",
      "  Finished tract SPL_R_gwfa_dPMC_R_gwfa for subject A00035437\n",
      "  Finished tract SPL_R_gwfa_vPMC_L_gwfa for subject A00035437\n",
      "  Finished tract SPL_R_gwfa_vPMC_R_gwfa for subject A00035437\n",
      "  Finished tract dPMC_L_gwfa_dPMC_R_gwfa for subject A00035437\n",
      "  Finished tract dPMC_L_gwfa_vPMC_L_gwfa for subject A00035437\n",
      "  Finished tract dPMC_L_gwfa_vPMC_R_gwfa for subject A00035437\n",
      "  Finished tract dPMC_R_gwfa_vPMC_L_gwfa for subject A00035437\n",
      "  Finished tract dPMC_R_gwfa_vPMC_R_gwfa for subject A00035437\n",
      "  Finished tract vPMC_L_gwfa_vPMC_R_gwfa for subject A00035437\n",
      "Successfully processed subject A00035437.\n",
      "Starting processing of subject A00035440.\n",
      "  Finished tract IPL_L_gwfa_IPL_R_gwfa for subject A00035440\n",
      "  Finished tract IPL_L_gwfa_IPS_L_gwfa for subject A00035440\n",
      "  Finished tract IPL_L_gwfa_IPS_R_gwfa for subject A00035440\n",
      "  Finished tract IPL_L_gwfa_SPL_L_gwfa for subject A00035440\n",
      "  Finished tract IPL_L_gwfa_SPL_R_gwfa for subject A00035440\n",
      "  Finished tract IPL_L_gwfa_dPMC_L_gwfa for subject A00035440\n",
      "  - Tract IPL_L_gwfa_dPMC_R_gwfa not found. Skipping.\n",
      "  Finished tract IPL_L_gwfa_vPMC_L_gwfa for subject A00035440\n"
     ]
    },
    {
     "name": "stdout",
     "output_type": "stream",
     "text": [
      "  Finished tract IPL_L_gwfa_vPMC_R_gwfa for subject A00035440\n",
      "  Finished tract IPL_R_gwfa_IPS_L_gwfa for subject A00035440\n",
      "  Finished tract IPL_R_gwfa_IPS_R_gwfa for subject A00035440\n",
      "  Finished tract IPL_R_gwfa_SPL_L_gwfa for subject A00035440\n",
      "  Finished tract IPL_R_gwfa_SPL_R_gwfa for subject A00035440\n",
      "  - Tract IPL_R_gwfa_dPMC_L_gwfa not found. Skipping.\n",
      "  Finished tract IPL_R_gwfa_dPMC_R_gwfa for subject A00035440\n",
      "  - Tract IPL_R_gwfa_vPMC_L_gwfa not found. Skipping.\n",
      "  Finished tract IPL_R_gwfa_vPMC_R_gwfa for subject A00035440\n",
      "  Finished tract IPS_L_gwfa_IPS_R_gwfa for subject A00035440\n",
      "  Finished tract IPS_L_gwfa_SPL_L_gwfa for subject A00035440\n",
      "  Finished tract IPS_L_gwfa_SPL_R_gwfa for subject A00035440\n",
      "  Finished tract IPS_L_gwfa_dPMC_L_gwfa for subject A00035440\n",
      "  Finished tract IPS_L_gwfa_dPMC_R_gwfa for subject A00035440\n",
      "  Finished tract IPS_L_gwfa_vPMC_L_gwfa for subject A00035440\n",
      "  Finished tract IPS_L_gwfa_vPMC_R_gwfa for subject A00035440\n",
      "  Finished tract IPS_R_gwfa_SPL_L_gwfa for subject A00035440\n",
      "  Finished tract IPS_R_gwfa_SPL_R_gwfa for subject A00035440\n",
      "  - Tract IPS_R_gwfa_dPMC_L_gwfa not found. Skipping.\n",
      "  Finished tract IPS_R_gwfa_dPMC_R_gwfa for subject A00035440\n",
      "  - Tract IPS_R_gwfa_vPMC_L_gwfa not found. Skipping.\n",
      "  Finished tract IPS_R_gwfa_vPMC_R_gwfa for subject A00035440\n",
      "  Finished tract SPL_L_gwfa_SPL_R_gwfa for subject A00035440\n",
      "  Finished tract SPL_L_gwfa_dPMC_L_gwfa for subject A00035440\n",
      "  Finished tract SPL_L_gwfa_dPMC_R_gwfa for subject A00035440\n",
      "  Finished tract SPL_L_gwfa_vPMC_L_gwfa for subject A00035440\n",
      "  - Tract SPL_L_gwfa_vPMC_R_gwfa not found. Skipping.\n",
      "  Finished tract SPL_R_gwfa_dPMC_L_gwfa for subject A00035440\n",
      "  Finished tract SPL_R_gwfa_dPMC_R_gwfa for subject A00035440\n",
      "  Finished tract SPL_R_gwfa_vPMC_L_gwfa for subject A00035440\n",
      "  Finished tract SPL_R_gwfa_vPMC_R_gwfa for subject A00035440\n",
      "  Finished tract dPMC_L_gwfa_dPMC_R_gwfa for subject A00035440\n",
      "  Finished tract dPMC_L_gwfa_vPMC_L_gwfa for subject A00035440\n",
      "  Finished tract dPMC_L_gwfa_vPMC_R_gwfa for subject A00035440\n",
      "  Finished tract dPMC_R_gwfa_vPMC_L_gwfa for subject A00035440\n",
      "  Finished tract dPMC_R_gwfa_vPMC_R_gwfa for subject A00035440\n",
      "  Finished tract vPMC_L_gwfa_vPMC_R_gwfa for subject A00035440\n",
      "Successfully processed subject A00035440.\n",
      "Starting processing of subject A00035504.\n",
      "  Finished tract IPL_L_gwfa_IPL_R_gwfa for subject A00035504\n",
      "  Finished tract IPL_L_gwfa_IPS_L_gwfa for subject A00035504\n",
      "  Finished tract IPL_L_gwfa_IPS_R_gwfa for subject A00035504\n",
      "  Finished tract IPL_L_gwfa_SPL_L_gwfa for subject A00035504\n",
      "  Finished tract IPL_L_gwfa_SPL_R_gwfa for subject A00035504\n",
      "  Finished tract IPL_L_gwfa_dPMC_L_gwfa for subject A00035504\n",
      "  - Tract IPL_L_gwfa_dPMC_R_gwfa not found. Skipping.\n",
      "  Finished tract IPL_L_gwfa_vPMC_L_gwfa for subject A00035504\n",
      "  Finished tract IPL_L_gwfa_vPMC_R_gwfa for subject A00035504\n",
      "  Finished tract IPL_R_gwfa_IPS_L_gwfa for subject A00035504\n",
      "  Finished tract IPL_R_gwfa_IPS_R_gwfa for subject A00035504\n",
      "  Finished tract IPL_R_gwfa_SPL_L_gwfa for subject A00035504\n",
      "  Finished tract IPL_R_gwfa_SPL_R_gwfa for subject A00035504\n",
      "  - Tract IPL_R_gwfa_dPMC_L_gwfa not found. Skipping.\n",
      "  Finished tract IPL_R_gwfa_dPMC_R_gwfa for subject A00035504\n",
      "  - Tract IPL_R_gwfa_vPMC_L_gwfa not found. Skipping.\n",
      "  Finished tract IPL_R_gwfa_vPMC_R_gwfa for subject A00035504\n",
      "  Finished tract IPS_L_gwfa_IPS_R_gwfa for subject A00035504\n",
      "  Finished tract IPS_L_gwfa_SPL_L_gwfa for subject A00035504\n",
      "  Finished tract IPS_L_gwfa_SPL_R_gwfa for subject A00035504\n",
      "  Finished tract IPS_L_gwfa_dPMC_L_gwfa for subject A00035504\n",
      "  Finished tract IPS_L_gwfa_dPMC_R_gwfa for subject A00035504\n",
      "  Finished tract IPS_L_gwfa_vPMC_L_gwfa for subject A00035504\n",
      "  Finished tract IPS_L_gwfa_vPMC_R_gwfa for subject A00035504\n",
      "  Finished tract IPS_R_gwfa_SPL_L_gwfa for subject A00035504\n",
      "  Finished tract IPS_R_gwfa_SPL_R_gwfa for subject A00035504\n",
      "  - Tract IPS_R_gwfa_dPMC_L_gwfa not found. Skipping.\n",
      "  Finished tract IPS_R_gwfa_dPMC_R_gwfa for subject A00035504\n",
      "  - Tract IPS_R_gwfa_vPMC_L_gwfa not found. Skipping.\n",
      "  Finished tract IPS_R_gwfa_vPMC_R_gwfa for subject A00035504\n",
      "  Finished tract SPL_L_gwfa_SPL_R_gwfa for subject A00035504\n",
      "  Finished tract SPL_L_gwfa_dPMC_L_gwfa for subject A00035504\n",
      "  Finished tract SPL_L_gwfa_dPMC_R_gwfa for subject A00035504\n",
      "  Finished tract SPL_L_gwfa_vPMC_L_gwfa for subject A00035504\n",
      "  - Tract SPL_L_gwfa_vPMC_R_gwfa not found. Skipping.\n",
      "  Finished tract SPL_R_gwfa_dPMC_L_gwfa for subject A00035504\n",
      "  Finished tract SPL_R_gwfa_dPMC_R_gwfa for subject A00035504\n",
      "  Finished tract SPL_R_gwfa_vPMC_L_gwfa for subject A00035504\n",
      "  Finished tract SPL_R_gwfa_vPMC_R_gwfa for subject A00035504\n",
      "  Finished tract dPMC_L_gwfa_dPMC_R_gwfa for subject A00035504\n",
      "  Finished tract dPMC_L_gwfa_vPMC_L_gwfa for subject A00035504\n",
      "  Finished tract dPMC_L_gwfa_vPMC_R_gwfa for subject A00035504\n",
      "  Finished tract dPMC_R_gwfa_vPMC_L_gwfa for subject A00035504\n",
      "  Finished tract dPMC_R_gwfa_vPMC_R_gwfa for subject A00035504\n",
      "  Finished tract vPMC_L_gwfa_vPMC_R_gwfa for subject A00035504\n",
      "Successfully processed subject A00035504.\n",
      "Starting processing of subject A00035535.\n",
      "  Finished tract IPL_L_gwfa_IPL_R_gwfa for subject A00035535\n",
      "  Finished tract IPL_L_gwfa_IPS_L_gwfa for subject A00035535\n",
      "  Finished tract IPL_L_gwfa_IPS_R_gwfa for subject A00035535\n",
      "  Finished tract IPL_L_gwfa_SPL_L_gwfa for subject A00035535\n",
      "  Finished tract IPL_L_gwfa_SPL_R_gwfa for subject A00035535\n",
      "  Finished tract IPL_L_gwfa_dPMC_L_gwfa for subject A00035535\n",
      "  - Tract IPL_L_gwfa_dPMC_R_gwfa not found. Skipping.\n",
      "  Finished tract IPL_L_gwfa_vPMC_L_gwfa for subject A00035535\n",
      "  Finished tract IPL_L_gwfa_vPMC_R_gwfa for subject A00035535\n",
      "  Finished tract IPL_R_gwfa_IPS_L_gwfa for subject A00035535\n",
      "  Finished tract IPL_R_gwfa_IPS_R_gwfa for subject A00035535\n",
      "  Finished tract IPL_R_gwfa_SPL_L_gwfa for subject A00035535\n",
      "  Finished tract IPL_R_gwfa_SPL_R_gwfa for subject A00035535\n",
      "  - Tract IPL_R_gwfa_dPMC_L_gwfa not found. Skipping.\n",
      "  Finished tract IPL_R_gwfa_dPMC_R_gwfa for subject A00035535\n",
      "  - Tract IPL_R_gwfa_vPMC_L_gwfa not found. Skipping.\n",
      "  Finished tract IPL_R_gwfa_vPMC_R_gwfa for subject A00035535\n",
      "  Finished tract IPS_L_gwfa_IPS_R_gwfa for subject A00035535\n",
      "  Finished tract IPS_L_gwfa_SPL_L_gwfa for subject A00035535\n",
      "  Finished tract IPS_L_gwfa_SPL_R_gwfa for subject A00035535\n",
      "  Finished tract IPS_L_gwfa_dPMC_L_gwfa for subject A00035535\n",
      "  Finished tract IPS_L_gwfa_dPMC_R_gwfa for subject A00035535\n",
      "  Finished tract IPS_L_gwfa_vPMC_L_gwfa for subject A00035535\n",
      "  Finished tract IPS_L_gwfa_vPMC_R_gwfa for subject A00035535\n",
      "  Finished tract IPS_R_gwfa_SPL_L_gwfa for subject A00035535\n",
      "  Finished tract IPS_R_gwfa_SPL_R_gwfa for subject A00035535\n",
      "  - Tract IPS_R_gwfa_dPMC_L_gwfa not found. Skipping.\n",
      "  Finished tract IPS_R_gwfa_dPMC_R_gwfa for subject A00035535\n",
      "  - Tract IPS_R_gwfa_vPMC_L_gwfa not found. Skipping.\n",
      "  Finished tract IPS_R_gwfa_vPMC_R_gwfa for subject A00035535\n",
      "  Finished tract SPL_L_gwfa_SPL_R_gwfa for subject A00035535\n",
      "  Finished tract SPL_L_gwfa_dPMC_L_gwfa for subject A00035535\n",
      "  Finished tract SPL_L_gwfa_dPMC_R_gwfa for subject A00035535\n",
      "  Finished tract SPL_L_gwfa_vPMC_L_gwfa for subject A00035535\n",
      "  - Tract SPL_L_gwfa_vPMC_R_gwfa not found. Skipping.\n",
      "  Finished tract SPL_R_gwfa_dPMC_L_gwfa for subject A00035535\n",
      "  Finished tract SPL_R_gwfa_dPMC_R_gwfa for subject A00035535\n",
      "  Finished tract SPL_R_gwfa_vPMC_L_gwfa for subject A00035535\n",
      "  Finished tract SPL_R_gwfa_vPMC_R_gwfa for subject A00035535\n",
      "  Finished tract dPMC_L_gwfa_dPMC_R_gwfa for subject A00035535\n",
      "  Finished tract dPMC_L_gwfa_vPMC_L_gwfa for subject A00035535\n",
      "  Finished tract dPMC_L_gwfa_vPMC_R_gwfa for subject A00035535\n",
      "  Finished tract dPMC_R_gwfa_vPMC_L_gwfa for subject A00035535\n",
      "  Finished tract dPMC_R_gwfa_vPMC_R_gwfa for subject A00035535\n",
      "  Finished tract vPMC_L_gwfa_vPMC_R_gwfa for subject A00035535\n",
      "Successfully processed subject A00035535.\n",
      "Starting processing of subject A00035562.\n",
      "  Finished tract IPL_L_gwfa_IPL_R_gwfa for subject A00035562\n",
      "  Finished tract IPL_L_gwfa_IPS_L_gwfa for subject A00035562\n",
      "  Finished tract IPL_L_gwfa_IPS_R_gwfa for subject A00035562\n",
      "  Finished tract IPL_L_gwfa_SPL_L_gwfa for subject A00035562\n"
     ]
    },
    {
     "name": "stdout",
     "output_type": "stream",
     "text": [
      "  Finished tract IPL_L_gwfa_SPL_R_gwfa for subject A00035562\n",
      "  Finished tract IPL_L_gwfa_dPMC_L_gwfa for subject A00035562\n",
      "  - Tract IPL_L_gwfa_dPMC_R_gwfa not found. Skipping.\n",
      "  Finished tract IPL_L_gwfa_vPMC_L_gwfa for subject A00035562\n",
      "  Finished tract IPL_L_gwfa_vPMC_R_gwfa for subject A00035562\n",
      "  Finished tract IPL_R_gwfa_IPS_L_gwfa for subject A00035562\n",
      "  Finished tract IPL_R_gwfa_IPS_R_gwfa for subject A00035562\n",
      "  Finished tract IPL_R_gwfa_SPL_L_gwfa for subject A00035562\n",
      "  Finished tract IPL_R_gwfa_SPL_R_gwfa for subject A00035562\n",
      "  - Tract IPL_R_gwfa_dPMC_L_gwfa not found. Skipping.\n",
      "  Finished tract IPL_R_gwfa_dPMC_R_gwfa for subject A00035562\n",
      "  - Tract IPL_R_gwfa_vPMC_L_gwfa not found. Skipping.\n",
      "  Finished tract IPL_R_gwfa_vPMC_R_gwfa for subject A00035562\n",
      "  Finished tract IPS_L_gwfa_IPS_R_gwfa for subject A00035562\n",
      "  Finished tract IPS_L_gwfa_SPL_L_gwfa for subject A00035562\n",
      "  Finished tract IPS_L_gwfa_SPL_R_gwfa for subject A00035562\n",
      "  Finished tract IPS_L_gwfa_dPMC_L_gwfa for subject A00035562\n",
      "  Finished tract IPS_L_gwfa_dPMC_R_gwfa for subject A00035562\n",
      "  Finished tract IPS_L_gwfa_vPMC_L_gwfa for subject A00035562\n",
      "  Finished tract IPS_L_gwfa_vPMC_R_gwfa for subject A00035562\n",
      "  Finished tract IPS_R_gwfa_SPL_L_gwfa for subject A00035562\n",
      "  Finished tract IPS_R_gwfa_SPL_R_gwfa for subject A00035562\n",
      "  - Tract IPS_R_gwfa_dPMC_L_gwfa not found. Skipping.\n",
      "  Finished tract IPS_R_gwfa_dPMC_R_gwfa for subject A00035562\n",
      "  - Tract IPS_R_gwfa_vPMC_L_gwfa not found. Skipping.\n",
      "  Finished tract IPS_R_gwfa_vPMC_R_gwfa for subject A00035562\n",
      "  Finished tract SPL_L_gwfa_SPL_R_gwfa for subject A00035562\n",
      "  Finished tract SPL_L_gwfa_dPMC_L_gwfa for subject A00035562\n",
      "  Finished tract SPL_L_gwfa_dPMC_R_gwfa for subject A00035562\n",
      "  Finished tract SPL_L_gwfa_vPMC_L_gwfa for subject A00035562\n",
      "  - Tract SPL_L_gwfa_vPMC_R_gwfa not found. Skipping.\n",
      "  Finished tract SPL_R_gwfa_dPMC_L_gwfa for subject A00035562\n",
      "  Finished tract SPL_R_gwfa_dPMC_R_gwfa for subject A00035562\n",
      "  Finished tract SPL_R_gwfa_vPMC_L_gwfa for subject A00035562\n",
      "  Finished tract SPL_R_gwfa_vPMC_R_gwfa for subject A00035562\n",
      "  Finished tract dPMC_L_gwfa_dPMC_R_gwfa for subject A00035562\n",
      "  Finished tract dPMC_L_gwfa_vPMC_L_gwfa for subject A00035562\n",
      "  Finished tract dPMC_L_gwfa_vPMC_R_gwfa for subject A00035562\n",
      "  Finished tract dPMC_R_gwfa_vPMC_L_gwfa for subject A00035562\n",
      "  Finished tract dPMC_R_gwfa_vPMC_R_gwfa for subject A00035562\n",
      "  Finished tract vPMC_L_gwfa_vPMC_R_gwfa for subject A00035562\n",
      "Successfully processed subject A00035562.\n",
      "Starting processing of subject A00035608.\n",
      "  Finished tract IPL_L_gwfa_IPL_R_gwfa for subject A00035608\n",
      "  Finished tract IPL_L_gwfa_IPS_L_gwfa for subject A00035608\n",
      "  Finished tract IPL_L_gwfa_IPS_R_gwfa for subject A00035608\n",
      "  Finished tract IPL_L_gwfa_SPL_L_gwfa for subject A00035608\n",
      "  Finished tract IPL_L_gwfa_SPL_R_gwfa for subject A00035608\n",
      "  Finished tract IPL_L_gwfa_dPMC_L_gwfa for subject A00035608\n",
      "  - Tract IPL_L_gwfa_dPMC_R_gwfa not found. Skipping.\n",
      "  Finished tract IPL_L_gwfa_vPMC_L_gwfa for subject A00035608\n",
      "  Finished tract IPL_L_gwfa_vPMC_R_gwfa for subject A00035608\n",
      "  Finished tract IPL_R_gwfa_IPS_L_gwfa for subject A00035608\n",
      "  Finished tract IPL_R_gwfa_IPS_R_gwfa for subject A00035608\n",
      "  Finished tract IPL_R_gwfa_SPL_L_gwfa for subject A00035608\n",
      "  Finished tract IPL_R_gwfa_SPL_R_gwfa for subject A00035608\n",
      "  - Tract IPL_R_gwfa_dPMC_L_gwfa not found. Skipping.\n",
      "  Finished tract IPL_R_gwfa_dPMC_R_gwfa for subject A00035608\n",
      "  - Tract IPL_R_gwfa_vPMC_L_gwfa not found. Skipping.\n",
      "  Finished tract IPL_R_gwfa_vPMC_R_gwfa for subject A00035608\n",
      "  Finished tract IPS_L_gwfa_IPS_R_gwfa for subject A00035608\n",
      "  Finished tract IPS_L_gwfa_SPL_L_gwfa for subject A00035608\n",
      "  Finished tract IPS_L_gwfa_SPL_R_gwfa for subject A00035608\n",
      "  Finished tract IPS_L_gwfa_dPMC_L_gwfa for subject A00035608\n",
      "  Finished tract IPS_L_gwfa_dPMC_R_gwfa for subject A00035608\n",
      "  Finished tract IPS_L_gwfa_vPMC_L_gwfa for subject A00035608\n",
      "  Finished tract IPS_L_gwfa_vPMC_R_gwfa for subject A00035608\n",
      "  Finished tract IPS_R_gwfa_SPL_L_gwfa for subject A00035608\n",
      "  Finished tract IPS_R_gwfa_SPL_R_gwfa for subject A00035608\n",
      "  - Tract IPS_R_gwfa_dPMC_L_gwfa not found. Skipping.\n",
      "  Finished tract IPS_R_gwfa_dPMC_R_gwfa for subject A00035608\n",
      "  - Tract IPS_R_gwfa_vPMC_L_gwfa not found. Skipping.\n",
      "  Finished tract IPS_R_gwfa_vPMC_R_gwfa for subject A00035608\n",
      "  Finished tract SPL_L_gwfa_SPL_R_gwfa for subject A00035608\n",
      "  Finished tract SPL_L_gwfa_dPMC_L_gwfa for subject A00035608\n",
      "  Finished tract SPL_L_gwfa_dPMC_R_gwfa for subject A00035608\n",
      "  Finished tract SPL_L_gwfa_vPMC_L_gwfa for subject A00035608\n",
      "  - Tract SPL_L_gwfa_vPMC_R_gwfa not found. Skipping.\n",
      "  Finished tract SPL_R_gwfa_dPMC_L_gwfa for subject A00035608\n",
      "  Finished tract SPL_R_gwfa_dPMC_R_gwfa for subject A00035608\n",
      "  Finished tract SPL_R_gwfa_vPMC_L_gwfa for subject A00035608\n",
      "  Finished tract SPL_R_gwfa_vPMC_R_gwfa for subject A00035608\n",
      "  Finished tract dPMC_L_gwfa_dPMC_R_gwfa for subject A00035608\n",
      "  Finished tract dPMC_L_gwfa_vPMC_L_gwfa for subject A00035608\n",
      "  Finished tract dPMC_L_gwfa_vPMC_R_gwfa for subject A00035608\n",
      "  Finished tract dPMC_R_gwfa_vPMC_L_gwfa for subject A00035608\n",
      "  Finished tract dPMC_R_gwfa_vPMC_R_gwfa for subject A00035608\n",
      "  Finished tract vPMC_L_gwfa_vPMC_R_gwfa for subject A00035608\n",
      "Successfully processed subject A00035608.\n",
      "Starting processing of subject A00035625.\n",
      "  Finished tract IPL_L_gwfa_IPL_R_gwfa for subject A00035625\n",
      "  Finished tract IPL_L_gwfa_IPS_L_gwfa for subject A00035625\n",
      "  Finished tract IPL_L_gwfa_IPS_R_gwfa for subject A00035625\n",
      "  Finished tract IPL_L_gwfa_SPL_L_gwfa for subject A00035625\n",
      "  Finished tract IPL_L_gwfa_SPL_R_gwfa for subject A00035625\n",
      "  Finished tract IPL_L_gwfa_dPMC_L_gwfa for subject A00035625\n",
      "  - Tract IPL_L_gwfa_dPMC_R_gwfa not found. Skipping.\n",
      "  Finished tract IPL_L_gwfa_vPMC_L_gwfa for subject A00035625\n",
      "  Finished tract IPL_L_gwfa_vPMC_R_gwfa for subject A00035625\n",
      "  Finished tract IPL_R_gwfa_IPS_L_gwfa for subject A00035625\n",
      "  Finished tract IPL_R_gwfa_IPS_R_gwfa for subject A00035625\n",
      "  Finished tract IPL_R_gwfa_SPL_L_gwfa for subject A00035625\n",
      "  Finished tract IPL_R_gwfa_SPL_R_gwfa for subject A00035625\n",
      "  - Tract IPL_R_gwfa_dPMC_L_gwfa not found. Skipping.\n",
      "  Finished tract IPL_R_gwfa_dPMC_R_gwfa for subject A00035625\n",
      "  - Tract IPL_R_gwfa_vPMC_L_gwfa not found. Skipping.\n",
      "  Finished tract IPL_R_gwfa_vPMC_R_gwfa for subject A00035625\n",
      "  Finished tract IPS_L_gwfa_IPS_R_gwfa for subject A00035625\n",
      "  Finished tract IPS_L_gwfa_SPL_L_gwfa for subject A00035625\n",
      "  Finished tract IPS_L_gwfa_SPL_R_gwfa for subject A00035625\n",
      "  Finished tract IPS_L_gwfa_dPMC_L_gwfa for subject A00035625\n",
      "  Finished tract IPS_L_gwfa_dPMC_R_gwfa for subject A00035625\n",
      "  Finished tract IPS_L_gwfa_vPMC_L_gwfa for subject A00035625\n",
      "  Finished tract IPS_L_gwfa_vPMC_R_gwfa for subject A00035625\n",
      "  Finished tract IPS_R_gwfa_SPL_L_gwfa for subject A00035625\n",
      "  Finished tract IPS_R_gwfa_SPL_R_gwfa for subject A00035625\n",
      "  - Tract IPS_R_gwfa_dPMC_L_gwfa not found. Skipping.\n",
      "  Finished tract IPS_R_gwfa_dPMC_R_gwfa for subject A00035625\n",
      "  - Tract IPS_R_gwfa_vPMC_L_gwfa not found. Skipping.\n",
      "  Finished tract IPS_R_gwfa_vPMC_R_gwfa for subject A00035625\n",
      "  Finished tract SPL_L_gwfa_SPL_R_gwfa for subject A00035625\n",
      "  Finished tract SPL_L_gwfa_dPMC_L_gwfa for subject A00035625\n",
      "  Finished tract SPL_L_gwfa_dPMC_R_gwfa for subject A00035625\n",
      "  Finished tract SPL_L_gwfa_vPMC_L_gwfa for subject A00035625\n",
      "  - Tract SPL_L_gwfa_vPMC_R_gwfa not found. Skipping.\n",
      "  Finished tract SPL_R_gwfa_dPMC_L_gwfa for subject A00035625\n",
      "  Finished tract SPL_R_gwfa_dPMC_R_gwfa for subject A00035625\n",
      "  Finished tract SPL_R_gwfa_vPMC_L_gwfa for subject A00035625\n",
      "  Finished tract SPL_R_gwfa_vPMC_R_gwfa for subject A00035625\n",
      "  Finished tract dPMC_L_gwfa_dPMC_R_gwfa for subject A00035625\n",
      "  Finished tract dPMC_L_gwfa_vPMC_L_gwfa for subject A00035625\n",
      "  Finished tract dPMC_L_gwfa_vPMC_R_gwfa for subject A00035625\n",
      "  Finished tract dPMC_R_gwfa_vPMC_L_gwfa for subject A00035625\n",
      "  Finished tract dPMC_R_gwfa_vPMC_R_gwfa for subject A00035625\n",
      "  Finished tract vPMC_L_gwfa_vPMC_R_gwfa for subject A00035625\n",
      "Successfully processed subject A00035625.\n",
      "Starting processing of subject A00035827.\n"
     ]
    },
    {
     "name": "stdout",
     "output_type": "stream",
     "text": [
      "  Finished tract IPL_L_gwfa_IPL_R_gwfa for subject A00035827\n",
      "  Finished tract IPL_L_gwfa_IPS_L_gwfa for subject A00035827\n",
      "  Finished tract IPL_L_gwfa_IPS_R_gwfa for subject A00035827\n",
      "  Finished tract IPL_L_gwfa_SPL_L_gwfa for subject A00035827\n",
      "  Finished tract IPL_L_gwfa_SPL_R_gwfa for subject A00035827\n",
      "  Finished tract IPL_L_gwfa_dPMC_L_gwfa for subject A00035827\n",
      "  - Tract IPL_L_gwfa_dPMC_R_gwfa not found. Skipping.\n",
      "  Finished tract IPL_L_gwfa_vPMC_L_gwfa for subject A00035827\n",
      "  Finished tract IPL_L_gwfa_vPMC_R_gwfa for subject A00035827\n",
      "  Finished tract IPL_R_gwfa_IPS_L_gwfa for subject A00035827\n",
      "  Finished tract IPL_R_gwfa_IPS_R_gwfa for subject A00035827\n",
      "  Finished tract IPL_R_gwfa_SPL_L_gwfa for subject A00035827\n",
      "  Finished tract IPL_R_gwfa_SPL_R_gwfa for subject A00035827\n",
      "  - Tract IPL_R_gwfa_dPMC_L_gwfa not found. Skipping.\n",
      "  Finished tract IPL_R_gwfa_dPMC_R_gwfa for subject A00035827\n",
      "  - Tract IPL_R_gwfa_vPMC_L_gwfa not found. Skipping.\n",
      "  Finished tract IPL_R_gwfa_vPMC_R_gwfa for subject A00035827\n",
      "  Finished tract IPS_L_gwfa_IPS_R_gwfa for subject A00035827\n",
      "  Finished tract IPS_L_gwfa_SPL_L_gwfa for subject A00035827\n",
      "  Finished tract IPS_L_gwfa_SPL_R_gwfa for subject A00035827\n",
      "  Finished tract IPS_L_gwfa_dPMC_L_gwfa for subject A00035827\n",
      "  Finished tract IPS_L_gwfa_dPMC_R_gwfa for subject A00035827\n",
      "  Finished tract IPS_L_gwfa_vPMC_L_gwfa for subject A00035827\n",
      "  Finished tract IPS_L_gwfa_vPMC_R_gwfa for subject A00035827\n",
      "  Finished tract IPS_R_gwfa_SPL_L_gwfa for subject A00035827\n",
      "  Finished tract IPS_R_gwfa_SPL_R_gwfa for subject A00035827\n",
      "  - Tract IPS_R_gwfa_dPMC_L_gwfa not found. Skipping.\n",
      "  Finished tract IPS_R_gwfa_dPMC_R_gwfa for subject A00035827\n",
      "  - Tract IPS_R_gwfa_vPMC_L_gwfa not found. Skipping.\n",
      "  Finished tract IPS_R_gwfa_vPMC_R_gwfa for subject A00035827\n",
      "  Finished tract SPL_L_gwfa_SPL_R_gwfa for subject A00035827\n",
      "  Finished tract SPL_L_gwfa_dPMC_L_gwfa for subject A00035827\n",
      "  Finished tract SPL_L_gwfa_dPMC_R_gwfa for subject A00035827\n",
      "  Finished tract SPL_L_gwfa_vPMC_L_gwfa for subject A00035827\n",
      "  - Tract SPL_L_gwfa_vPMC_R_gwfa not found. Skipping.\n",
      "  Finished tract SPL_R_gwfa_dPMC_L_gwfa for subject A00035827\n",
      "  Finished tract SPL_R_gwfa_dPMC_R_gwfa for subject A00035827\n",
      "  Finished tract SPL_R_gwfa_vPMC_L_gwfa for subject A00035827\n",
      "  Finished tract SPL_R_gwfa_vPMC_R_gwfa for subject A00035827\n",
      "  Finished tract dPMC_L_gwfa_dPMC_R_gwfa for subject A00035827\n",
      "  Finished tract dPMC_L_gwfa_vPMC_L_gwfa for subject A00035827\n",
      "  Finished tract dPMC_L_gwfa_vPMC_R_gwfa for subject A00035827\n",
      "  Finished tract dPMC_R_gwfa_vPMC_L_gwfa for subject A00035827\n",
      "  Finished tract dPMC_R_gwfa_vPMC_R_gwfa for subject A00035827\n",
      "  Finished tract vPMC_L_gwfa_vPMC_R_gwfa for subject A00035827\n",
      "Successfully processed subject A00035827.\n",
      "Starting processing of subject A00035840.\n",
      "  Finished tract IPL_L_gwfa_IPL_R_gwfa for subject A00035840\n",
      "  Finished tract IPL_L_gwfa_IPS_L_gwfa for subject A00035840\n",
      "  Finished tract IPL_L_gwfa_IPS_R_gwfa for subject A00035840\n",
      "  Finished tract IPL_L_gwfa_SPL_L_gwfa for subject A00035840\n",
      "  Finished tract IPL_L_gwfa_SPL_R_gwfa for subject A00035840\n",
      "  Finished tract IPL_L_gwfa_dPMC_L_gwfa for subject A00035840\n",
      "  - Tract IPL_L_gwfa_dPMC_R_gwfa not found. Skipping.\n",
      "  Finished tract IPL_L_gwfa_vPMC_L_gwfa for subject A00035840\n",
      "  Finished tract IPL_L_gwfa_vPMC_R_gwfa for subject A00035840\n",
      "  Finished tract IPL_R_gwfa_IPS_L_gwfa for subject A00035840\n",
      "  Finished tract IPL_R_gwfa_IPS_R_gwfa for subject A00035840\n",
      "  Finished tract IPL_R_gwfa_SPL_L_gwfa for subject A00035840\n",
      "  Finished tract IPL_R_gwfa_SPL_R_gwfa for subject A00035840\n",
      "  - Tract IPL_R_gwfa_dPMC_L_gwfa not found. Skipping.\n",
      "  Finished tract IPL_R_gwfa_dPMC_R_gwfa for subject A00035840\n",
      "  - Tract IPL_R_gwfa_vPMC_L_gwfa not found. Skipping.\n",
      "  Finished tract IPL_R_gwfa_vPMC_R_gwfa for subject A00035840\n",
      "  Finished tract IPS_L_gwfa_IPS_R_gwfa for subject A00035840\n",
      "  Finished tract IPS_L_gwfa_SPL_L_gwfa for subject A00035840\n",
      "  Finished tract IPS_L_gwfa_SPL_R_gwfa for subject A00035840\n",
      "  Finished tract IPS_L_gwfa_dPMC_L_gwfa for subject A00035840\n",
      "  Finished tract IPS_L_gwfa_dPMC_R_gwfa for subject A00035840\n",
      "  Finished tract IPS_L_gwfa_vPMC_L_gwfa for subject A00035840\n",
      "  Finished tract IPS_L_gwfa_vPMC_R_gwfa for subject A00035840\n",
      "  Finished tract IPS_R_gwfa_SPL_L_gwfa for subject A00035840\n",
      "  Finished tract IPS_R_gwfa_SPL_R_gwfa for subject A00035840\n",
      "  - Tract IPS_R_gwfa_dPMC_L_gwfa not found. Skipping.\n",
      "  Finished tract IPS_R_gwfa_dPMC_R_gwfa for subject A00035840\n",
      "  - Tract IPS_R_gwfa_vPMC_L_gwfa not found. Skipping.\n",
      "  Finished tract IPS_R_gwfa_vPMC_R_gwfa for subject A00035840\n",
      "  Finished tract SPL_L_gwfa_SPL_R_gwfa for subject A00035840\n",
      "  Finished tract SPL_L_gwfa_dPMC_L_gwfa for subject A00035840\n",
      "  Finished tract SPL_L_gwfa_dPMC_R_gwfa for subject A00035840\n",
      "  Finished tract SPL_L_gwfa_vPMC_L_gwfa for subject A00035840\n",
      "  - Tract SPL_L_gwfa_vPMC_R_gwfa not found. Skipping.\n",
      "  Finished tract SPL_R_gwfa_dPMC_L_gwfa for subject A00035840\n",
      "  Finished tract SPL_R_gwfa_dPMC_R_gwfa for subject A00035840\n",
      "  Finished tract SPL_R_gwfa_vPMC_L_gwfa for subject A00035840\n",
      "  Finished tract SPL_R_gwfa_vPMC_R_gwfa for subject A00035840\n",
      "  Finished tract dPMC_L_gwfa_dPMC_R_gwfa for subject A00035840\n",
      "  Finished tract dPMC_L_gwfa_vPMC_L_gwfa for subject A00035840\n",
      "  Finished tract dPMC_L_gwfa_vPMC_R_gwfa for subject A00035840\n",
      "  Finished tract dPMC_R_gwfa_vPMC_L_gwfa for subject A00035840\n",
      "  Finished tract dPMC_R_gwfa_vPMC_R_gwfa for subject A00035840\n",
      "  Finished tract vPMC_L_gwfa_vPMC_R_gwfa for subject A00035840\n",
      "Successfully processed subject A00035840.\n",
      "Starting processing of subject A00035881.\n",
      "  Finished tract IPL_L_gwfa_IPL_R_gwfa for subject A00035881\n",
      "  Finished tract IPL_L_gwfa_IPS_L_gwfa for subject A00035881\n",
      "  Finished tract IPL_L_gwfa_IPS_R_gwfa for subject A00035881\n",
      "  Finished tract IPL_L_gwfa_SPL_L_gwfa for subject A00035881\n",
      "  Finished tract IPL_L_gwfa_SPL_R_gwfa for subject A00035881\n",
      "  Finished tract IPL_L_gwfa_dPMC_L_gwfa for subject A00035881\n",
      "  - Tract IPL_L_gwfa_dPMC_R_gwfa not found. Skipping.\n",
      "  Finished tract IPL_L_gwfa_vPMC_L_gwfa for subject A00035881\n",
      "  Finished tract IPL_L_gwfa_vPMC_R_gwfa for subject A00035881\n",
      "  Finished tract IPL_R_gwfa_IPS_L_gwfa for subject A00035881\n",
      "  Finished tract IPL_R_gwfa_IPS_R_gwfa for subject A00035881\n",
      "  Finished tract IPL_R_gwfa_SPL_L_gwfa for subject A00035881\n",
      "  Finished tract IPL_R_gwfa_SPL_R_gwfa for subject A00035881\n",
      "  - Tract IPL_R_gwfa_dPMC_L_gwfa not found. Skipping.\n",
      "  Finished tract IPL_R_gwfa_dPMC_R_gwfa for subject A00035881\n",
      "  - Tract IPL_R_gwfa_vPMC_L_gwfa not found. Skipping.\n",
      "  Finished tract IPL_R_gwfa_vPMC_R_gwfa for subject A00035881\n",
      "  Finished tract IPS_L_gwfa_IPS_R_gwfa for subject A00035881\n",
      "  Finished tract IPS_L_gwfa_SPL_L_gwfa for subject A00035881\n",
      "  Finished tract IPS_L_gwfa_SPL_R_gwfa for subject A00035881\n",
      "  Finished tract IPS_L_gwfa_dPMC_L_gwfa for subject A00035881\n",
      "  Finished tract IPS_L_gwfa_dPMC_R_gwfa for subject A00035881\n",
      "  Finished tract IPS_L_gwfa_vPMC_L_gwfa for subject A00035881\n",
      "  Finished tract IPS_L_gwfa_vPMC_R_gwfa for subject A00035881\n",
      "  Finished tract IPS_R_gwfa_SPL_L_gwfa for subject A00035881\n",
      "  Finished tract IPS_R_gwfa_SPL_R_gwfa for subject A00035881\n",
      "  - Tract IPS_R_gwfa_dPMC_L_gwfa not found. Skipping.\n",
      "  Finished tract IPS_R_gwfa_dPMC_R_gwfa for subject A00035881\n",
      "  - Tract IPS_R_gwfa_vPMC_L_gwfa not found. Skipping.\n",
      "  Finished tract IPS_R_gwfa_vPMC_R_gwfa for subject A00035881\n",
      "  Finished tract SPL_L_gwfa_SPL_R_gwfa for subject A00035881\n",
      "  Finished tract SPL_L_gwfa_dPMC_L_gwfa for subject A00035881\n",
      "  Finished tract SPL_L_gwfa_dPMC_R_gwfa for subject A00035881\n",
      "  Finished tract SPL_L_gwfa_vPMC_L_gwfa for subject A00035881\n",
      "  - Tract SPL_L_gwfa_vPMC_R_gwfa not found. Skipping.\n",
      "  Finished tract SPL_R_gwfa_dPMC_L_gwfa for subject A00035881\n",
      "  Finished tract SPL_R_gwfa_dPMC_R_gwfa for subject A00035881\n",
      "  Finished tract SPL_R_gwfa_vPMC_L_gwfa for subject A00035881\n",
      "  Finished tract SPL_R_gwfa_vPMC_R_gwfa for subject A00035881\n",
      "  Finished tract dPMC_L_gwfa_dPMC_R_gwfa for subject A00035881\n",
      "  Finished tract dPMC_L_gwfa_vPMC_L_gwfa for subject A00035881\n",
      "  Finished tract dPMC_L_gwfa_vPMC_R_gwfa for subject A00035881\n",
      "  Finished tract dPMC_R_gwfa_vPMC_L_gwfa for subject A00035881\n"
     ]
    },
    {
     "name": "stdout",
     "output_type": "stream",
     "text": [
      "  Finished tract dPMC_R_gwfa_vPMC_R_gwfa for subject A00035881\n",
      "  Finished tract vPMC_L_gwfa_vPMC_R_gwfa for subject A00035881\n",
      "Successfully processed subject A00035881.\n",
      "Starting processing of subject A00035960.\n",
      "  Finished tract IPL_L_gwfa_IPL_R_gwfa for subject A00035960\n",
      "  Finished tract IPL_L_gwfa_IPS_L_gwfa for subject A00035960\n",
      "  Finished tract IPL_L_gwfa_IPS_R_gwfa for subject A00035960\n",
      "  Finished tract IPL_L_gwfa_SPL_L_gwfa for subject A00035960\n",
      "  Finished tract IPL_L_gwfa_SPL_R_gwfa for subject A00035960\n",
      "  Finished tract IPL_L_gwfa_dPMC_L_gwfa for subject A00035960\n",
      "  - Tract IPL_L_gwfa_dPMC_R_gwfa not found. Skipping.\n",
      "  Finished tract IPL_L_gwfa_vPMC_L_gwfa for subject A00035960\n",
      "  Finished tract IPL_L_gwfa_vPMC_R_gwfa for subject A00035960\n",
      "  Finished tract IPL_R_gwfa_IPS_L_gwfa for subject A00035960\n",
      "  Finished tract IPL_R_gwfa_IPS_R_gwfa for subject A00035960\n",
      "  Finished tract IPL_R_gwfa_SPL_L_gwfa for subject A00035960\n",
      "  Finished tract IPL_R_gwfa_SPL_R_gwfa for subject A00035960\n",
      "  - Tract IPL_R_gwfa_dPMC_L_gwfa not found. Skipping.\n",
      "  Finished tract IPL_R_gwfa_dPMC_R_gwfa for subject A00035960\n",
      "  - Tract IPL_R_gwfa_vPMC_L_gwfa not found. Skipping.\n",
      "  Finished tract IPL_R_gwfa_vPMC_R_gwfa for subject A00035960\n",
      "  Finished tract IPS_L_gwfa_IPS_R_gwfa for subject A00035960\n",
      "  Finished tract IPS_L_gwfa_SPL_L_gwfa for subject A00035960\n",
      "  Finished tract IPS_L_gwfa_SPL_R_gwfa for subject A00035960\n",
      "  Finished tract IPS_L_gwfa_dPMC_L_gwfa for subject A00035960\n",
      "  Finished tract IPS_L_gwfa_dPMC_R_gwfa for subject A00035960\n",
      "  Finished tract IPS_L_gwfa_vPMC_L_gwfa for subject A00035960\n",
      "  Finished tract IPS_L_gwfa_vPMC_R_gwfa for subject A00035960\n",
      "  Finished tract IPS_R_gwfa_SPL_L_gwfa for subject A00035960\n",
      "  Finished tract IPS_R_gwfa_SPL_R_gwfa for subject A00035960\n",
      "  - Tract IPS_R_gwfa_dPMC_L_gwfa not found. Skipping.\n",
      "  Finished tract IPS_R_gwfa_dPMC_R_gwfa for subject A00035960\n",
      "  - Tract IPS_R_gwfa_vPMC_L_gwfa not found. Skipping.\n",
      "  Finished tract IPS_R_gwfa_vPMC_R_gwfa for subject A00035960\n",
      "  Finished tract SPL_L_gwfa_SPL_R_gwfa for subject A00035960\n",
      "  Finished tract SPL_L_gwfa_dPMC_L_gwfa for subject A00035960\n",
      "  Finished tract SPL_L_gwfa_dPMC_R_gwfa for subject A00035960\n",
      "  Finished tract SPL_L_gwfa_vPMC_L_gwfa for subject A00035960\n",
      "  - Tract SPL_L_gwfa_vPMC_R_gwfa not found. Skipping.\n",
      "  Finished tract SPL_R_gwfa_dPMC_L_gwfa for subject A00035960\n",
      "  Finished tract SPL_R_gwfa_dPMC_R_gwfa for subject A00035960\n",
      "  Finished tract SPL_R_gwfa_vPMC_L_gwfa for subject A00035960\n",
      "  Finished tract SPL_R_gwfa_vPMC_R_gwfa for subject A00035960\n",
      "  Finished tract dPMC_L_gwfa_dPMC_R_gwfa for subject A00035960\n",
      "  Finished tract dPMC_L_gwfa_vPMC_L_gwfa for subject A00035960\n",
      "  Finished tract dPMC_L_gwfa_vPMC_R_gwfa for subject A00035960\n",
      "  Finished tract dPMC_R_gwfa_vPMC_L_gwfa for subject A00035960\n",
      "  Finished tract dPMC_R_gwfa_vPMC_R_gwfa for subject A00035960\n",
      "  Finished tract vPMC_L_gwfa_vPMC_R_gwfa for subject A00035960\n",
      "Successfully processed subject A00035960.\n",
      "Starting processing of subject A00037110.\n",
      "  Finished tract IPL_L_gwfa_IPL_R_gwfa for subject A00037110\n",
      "  Finished tract IPL_L_gwfa_IPS_L_gwfa for subject A00037110\n",
      "  Finished tract IPL_L_gwfa_IPS_R_gwfa for subject A00037110\n",
      "  Finished tract IPL_L_gwfa_SPL_L_gwfa for subject A00037110\n",
      "  Finished tract IPL_L_gwfa_SPL_R_gwfa for subject A00037110\n",
      "  Finished tract IPL_L_gwfa_dPMC_L_gwfa for subject A00037110\n",
      "  - Tract IPL_L_gwfa_dPMC_R_gwfa not found. Skipping.\n",
      "  Finished tract IPL_L_gwfa_vPMC_L_gwfa for subject A00037110\n",
      "  Finished tract IPL_L_gwfa_vPMC_R_gwfa for subject A00037110\n",
      "  Finished tract IPL_R_gwfa_IPS_L_gwfa for subject A00037110\n",
      "  Finished tract IPL_R_gwfa_IPS_R_gwfa for subject A00037110\n",
      "  Finished tract IPL_R_gwfa_SPL_L_gwfa for subject A00037110\n",
      "  Finished tract IPL_R_gwfa_SPL_R_gwfa for subject A00037110\n",
      "  - Tract IPL_R_gwfa_dPMC_L_gwfa not found. Skipping.\n",
      "  Finished tract IPL_R_gwfa_dPMC_R_gwfa for subject A00037110\n",
      "  - Tract IPL_R_gwfa_vPMC_L_gwfa not found. Skipping.\n",
      "  Finished tract IPL_R_gwfa_vPMC_R_gwfa for subject A00037110\n",
      "  Finished tract IPS_L_gwfa_IPS_R_gwfa for subject A00037110\n",
      "  Finished tract IPS_L_gwfa_SPL_L_gwfa for subject A00037110\n",
      "  Finished tract IPS_L_gwfa_SPL_R_gwfa for subject A00037110\n",
      "  Finished tract IPS_L_gwfa_dPMC_L_gwfa for subject A00037110\n",
      "  Finished tract IPS_L_gwfa_dPMC_R_gwfa for subject A00037110\n",
      "  Finished tract IPS_L_gwfa_vPMC_L_gwfa for subject A00037110\n",
      "  Finished tract IPS_L_gwfa_vPMC_R_gwfa for subject A00037110\n",
      "  Finished tract IPS_R_gwfa_SPL_L_gwfa for subject A00037110\n",
      "  Finished tract IPS_R_gwfa_SPL_R_gwfa for subject A00037110\n",
      "  - Tract IPS_R_gwfa_dPMC_L_gwfa not found. Skipping.\n",
      "  Finished tract IPS_R_gwfa_dPMC_R_gwfa for subject A00037110\n",
      "  - Tract IPS_R_gwfa_vPMC_L_gwfa not found. Skipping.\n",
      "  Finished tract IPS_R_gwfa_vPMC_R_gwfa for subject A00037110\n",
      "  Finished tract SPL_L_gwfa_SPL_R_gwfa for subject A00037110\n",
      "  Finished tract SPL_L_gwfa_dPMC_L_gwfa for subject A00037110\n",
      "  Finished tract SPL_L_gwfa_dPMC_R_gwfa for subject A00037110\n",
      "  Finished tract SPL_L_gwfa_vPMC_L_gwfa for subject A00037110\n",
      "  - Tract SPL_L_gwfa_vPMC_R_gwfa not found. Skipping.\n",
      "  Finished tract SPL_R_gwfa_dPMC_L_gwfa for subject A00037110\n",
      "  Finished tract SPL_R_gwfa_dPMC_R_gwfa for subject A00037110\n",
      "  Finished tract SPL_R_gwfa_vPMC_L_gwfa for subject A00037110\n",
      "  Finished tract SPL_R_gwfa_vPMC_R_gwfa for subject A00037110\n",
      "  Finished tract dPMC_L_gwfa_dPMC_R_gwfa for subject A00037110\n",
      "  Finished tract dPMC_L_gwfa_vPMC_L_gwfa for subject A00037110\n",
      "  Finished tract dPMC_L_gwfa_vPMC_R_gwfa for subject A00037110\n",
      "  Finished tract dPMC_R_gwfa_vPMC_L_gwfa for subject A00037110\n",
      "  Finished tract dPMC_R_gwfa_vPMC_R_gwfa for subject A00037110\n",
      "  Finished tract vPMC_L_gwfa_vPMC_R_gwfa for subject A00037110\n",
      "Successfully processed subject A00037110.\n",
      "Starting processing of subject A00037111.\n",
      "  Finished tract IPL_L_gwfa_IPL_R_gwfa for subject A00037111\n",
      "  Finished tract IPL_L_gwfa_IPS_L_gwfa for subject A00037111\n",
      "  Finished tract IPL_L_gwfa_IPS_R_gwfa for subject A00037111\n",
      "  Finished tract IPL_L_gwfa_SPL_L_gwfa for subject A00037111\n",
      "  Finished tract IPL_L_gwfa_SPL_R_gwfa for subject A00037111\n",
      "  Finished tract IPL_L_gwfa_dPMC_L_gwfa for subject A00037111\n",
      "  - Tract IPL_L_gwfa_dPMC_R_gwfa not found. Skipping.\n",
      "  Finished tract IPL_L_gwfa_vPMC_L_gwfa for subject A00037111\n",
      "  Finished tract IPL_L_gwfa_vPMC_R_gwfa for subject A00037111\n",
      "  Finished tract IPL_R_gwfa_IPS_L_gwfa for subject A00037111\n",
      "  Finished tract IPL_R_gwfa_IPS_R_gwfa for subject A00037111\n",
      "  Finished tract IPL_R_gwfa_SPL_L_gwfa for subject A00037111\n",
      "  Finished tract IPL_R_gwfa_SPL_R_gwfa for subject A00037111\n",
      "  - Tract IPL_R_gwfa_dPMC_L_gwfa not found. Skipping.\n",
      "  Finished tract IPL_R_gwfa_dPMC_R_gwfa for subject A00037111\n",
      "  - Tract IPL_R_gwfa_vPMC_L_gwfa not found. Skipping.\n",
      "  Finished tract IPL_R_gwfa_vPMC_R_gwfa for subject A00037111\n",
      "  Finished tract IPS_L_gwfa_IPS_R_gwfa for subject A00037111\n",
      "  Finished tract IPS_L_gwfa_SPL_L_gwfa for subject A00037111\n",
      "  Finished tract IPS_L_gwfa_SPL_R_gwfa for subject A00037111\n",
      "  Finished tract IPS_L_gwfa_dPMC_L_gwfa for subject A00037111\n",
      "  Finished tract IPS_L_gwfa_dPMC_R_gwfa for subject A00037111\n",
      "  Finished tract IPS_L_gwfa_vPMC_L_gwfa for subject A00037111\n",
      "  Finished tract IPS_L_gwfa_vPMC_R_gwfa for subject A00037111\n",
      "  Finished tract IPS_R_gwfa_SPL_L_gwfa for subject A00037111\n",
      "  Finished tract IPS_R_gwfa_SPL_R_gwfa for subject A00037111\n",
      "  - Tract IPS_R_gwfa_dPMC_L_gwfa not found. Skipping.\n",
      "  Finished tract IPS_R_gwfa_dPMC_R_gwfa for subject A00037111\n",
      "  - Tract IPS_R_gwfa_vPMC_L_gwfa not found. Skipping.\n",
      "  Finished tract IPS_R_gwfa_vPMC_R_gwfa for subject A00037111\n",
      "  Finished tract SPL_L_gwfa_SPL_R_gwfa for subject A00037111\n",
      "  Finished tract SPL_L_gwfa_dPMC_L_gwfa for subject A00037111\n",
      "  Finished tract SPL_L_gwfa_dPMC_R_gwfa for subject A00037111\n",
      "  Finished tract SPL_L_gwfa_vPMC_L_gwfa for subject A00037111\n",
      "  - Tract SPL_L_gwfa_vPMC_R_gwfa not found. Skipping.\n",
      "  Finished tract SPL_R_gwfa_dPMC_L_gwfa for subject A00037111\n",
      "  Finished tract SPL_R_gwfa_dPMC_R_gwfa for subject A00037111\n",
      "  Finished tract SPL_R_gwfa_vPMC_L_gwfa for subject A00037111\n",
      "  Finished tract SPL_R_gwfa_vPMC_R_gwfa for subject A00037111\n"
     ]
    },
    {
     "name": "stdout",
     "output_type": "stream",
     "text": [
      "  Finished tract dPMC_L_gwfa_dPMC_R_gwfa for subject A00037111\n",
      "  Finished tract dPMC_L_gwfa_vPMC_L_gwfa for subject A00037111\n",
      "  Finished tract dPMC_L_gwfa_vPMC_R_gwfa for subject A00037111\n",
      "  Finished tract dPMC_R_gwfa_vPMC_L_gwfa for subject A00037111\n",
      "  Finished tract dPMC_R_gwfa_vPMC_R_gwfa for subject A00037111\n",
      "  Finished tract vPMC_L_gwfa_vPMC_R_gwfa for subject A00037111\n",
      "Successfully processed subject A00037111.\n",
      "Starting processing of subject A00037112.\n",
      "  Finished tract IPL_L_gwfa_IPL_R_gwfa for subject A00037112\n",
      "  Finished tract IPL_L_gwfa_IPS_L_gwfa for subject A00037112\n",
      "  Finished tract IPL_L_gwfa_IPS_R_gwfa for subject A00037112\n",
      "  Finished tract IPL_L_gwfa_SPL_L_gwfa for subject A00037112\n",
      "  Finished tract IPL_L_gwfa_SPL_R_gwfa for subject A00037112\n",
      "  Finished tract IPL_L_gwfa_dPMC_L_gwfa for subject A00037112\n",
      "  - Tract IPL_L_gwfa_dPMC_R_gwfa not found. Skipping.\n",
      "  Finished tract IPL_L_gwfa_vPMC_L_gwfa for subject A00037112\n",
      "  Finished tract IPL_L_gwfa_vPMC_R_gwfa for subject A00037112\n",
      "  Finished tract IPL_R_gwfa_IPS_L_gwfa for subject A00037112\n",
      "  Finished tract IPL_R_gwfa_IPS_R_gwfa for subject A00037112\n",
      "  Finished tract IPL_R_gwfa_SPL_L_gwfa for subject A00037112\n",
      "  Finished tract IPL_R_gwfa_SPL_R_gwfa for subject A00037112\n",
      "  - Tract IPL_R_gwfa_dPMC_L_gwfa not found. Skipping.\n",
      "  Finished tract IPL_R_gwfa_dPMC_R_gwfa for subject A00037112\n",
      "  - Tract IPL_R_gwfa_vPMC_L_gwfa not found. Skipping.\n",
      "  Finished tract IPL_R_gwfa_vPMC_R_gwfa for subject A00037112\n",
      "  Finished tract IPS_L_gwfa_IPS_R_gwfa for subject A00037112\n",
      "  Finished tract IPS_L_gwfa_SPL_L_gwfa for subject A00037112\n",
      "  Finished tract IPS_L_gwfa_SPL_R_gwfa for subject A00037112\n",
      "  Finished tract IPS_L_gwfa_dPMC_L_gwfa for subject A00037112\n",
      "  Finished tract IPS_L_gwfa_dPMC_R_gwfa for subject A00037112\n",
      "  Finished tract IPS_L_gwfa_vPMC_L_gwfa for subject A00037112\n",
      "  Finished tract IPS_L_gwfa_vPMC_R_gwfa for subject A00037112\n",
      "  Finished tract IPS_R_gwfa_SPL_L_gwfa for subject A00037112\n",
      "  Finished tract IPS_R_gwfa_SPL_R_gwfa for subject A00037112\n",
      "  - Tract IPS_R_gwfa_dPMC_L_gwfa not found. Skipping.\n",
      "  Finished tract IPS_R_gwfa_dPMC_R_gwfa for subject A00037112\n",
      "  - Tract IPS_R_gwfa_vPMC_L_gwfa not found. Skipping.\n",
      "  Finished tract IPS_R_gwfa_vPMC_R_gwfa for subject A00037112\n",
      "  Finished tract SPL_L_gwfa_SPL_R_gwfa for subject A00037112\n",
      "  Finished tract SPL_L_gwfa_dPMC_L_gwfa for subject A00037112\n",
      "  Finished tract SPL_L_gwfa_dPMC_R_gwfa for subject A00037112\n",
      "  Finished tract SPL_L_gwfa_vPMC_L_gwfa for subject A00037112\n",
      "  - Tract SPL_L_gwfa_vPMC_R_gwfa not found. Skipping.\n",
      "  Finished tract SPL_R_gwfa_dPMC_L_gwfa for subject A00037112\n",
      "  Finished tract SPL_R_gwfa_dPMC_R_gwfa for subject A00037112\n",
      "  Finished tract SPL_R_gwfa_vPMC_L_gwfa for subject A00037112\n",
      "  Finished tract SPL_R_gwfa_vPMC_R_gwfa for subject A00037112\n",
      "  Finished tract dPMC_L_gwfa_dPMC_R_gwfa for subject A00037112\n",
      "  Finished tract dPMC_L_gwfa_vPMC_L_gwfa for subject A00037112\n",
      "  Finished tract dPMC_L_gwfa_vPMC_R_gwfa for subject A00037112\n",
      "  Finished tract dPMC_R_gwfa_vPMC_L_gwfa for subject A00037112\n",
      "  Finished tract dPMC_R_gwfa_vPMC_R_gwfa for subject A00037112\n",
      "  Finished tract vPMC_L_gwfa_vPMC_R_gwfa for subject A00037112\n",
      "Successfully processed subject A00037112.\n",
      "Starting processing of subject A00037267.\n",
      "  Finished tract IPL_L_gwfa_IPL_R_gwfa for subject A00037267\n",
      "  Finished tract IPL_L_gwfa_IPS_L_gwfa for subject A00037267\n",
      "  Finished tract IPL_L_gwfa_IPS_R_gwfa for subject A00037267\n",
      "  Finished tract IPL_L_gwfa_SPL_L_gwfa for subject A00037267\n",
      "  Finished tract IPL_L_gwfa_SPL_R_gwfa for subject A00037267\n",
      "  Finished tract IPL_L_gwfa_dPMC_L_gwfa for subject A00037267\n",
      "  - Tract IPL_L_gwfa_dPMC_R_gwfa not found. Skipping.\n",
      "  Finished tract IPL_L_gwfa_vPMC_L_gwfa for subject A00037267\n",
      "  Finished tract IPL_L_gwfa_vPMC_R_gwfa for subject A00037267\n",
      "  Finished tract IPL_R_gwfa_IPS_L_gwfa for subject A00037267\n",
      "  Finished tract IPL_R_gwfa_IPS_R_gwfa for subject A00037267\n",
      "  Finished tract IPL_R_gwfa_SPL_L_gwfa for subject A00037267\n",
      "  Finished tract IPL_R_gwfa_SPL_R_gwfa for subject A00037267\n",
      "  - Tract IPL_R_gwfa_dPMC_L_gwfa not found. Skipping.\n",
      "  Finished tract IPL_R_gwfa_dPMC_R_gwfa for subject A00037267\n",
      "  - Tract IPL_R_gwfa_vPMC_L_gwfa not found. Skipping.\n",
      "  Finished tract IPL_R_gwfa_vPMC_R_gwfa for subject A00037267\n",
      "  Finished tract IPS_L_gwfa_IPS_R_gwfa for subject A00037267\n",
      "  Finished tract IPS_L_gwfa_SPL_L_gwfa for subject A00037267\n",
      "  Finished tract IPS_L_gwfa_SPL_R_gwfa for subject A00037267\n",
      "  Finished tract IPS_L_gwfa_dPMC_L_gwfa for subject A00037267\n",
      "  Finished tract IPS_L_gwfa_dPMC_R_gwfa for subject A00037267\n",
      "  Finished tract IPS_L_gwfa_vPMC_L_gwfa for subject A00037267\n",
      "  Finished tract IPS_L_gwfa_vPMC_R_gwfa for subject A00037267\n",
      "  Finished tract IPS_R_gwfa_SPL_L_gwfa for subject A00037267\n",
      "  Finished tract IPS_R_gwfa_SPL_R_gwfa for subject A00037267\n",
      "  - Tract IPS_R_gwfa_dPMC_L_gwfa not found. Skipping.\n",
      "  Finished tract IPS_R_gwfa_dPMC_R_gwfa for subject A00037267\n",
      "  - Tract IPS_R_gwfa_vPMC_L_gwfa not found. Skipping.\n",
      "  Finished tract IPS_R_gwfa_vPMC_R_gwfa for subject A00037267\n",
      "  Finished tract SPL_L_gwfa_SPL_R_gwfa for subject A00037267\n",
      "  Finished tract SPL_L_gwfa_dPMC_L_gwfa for subject A00037267\n",
      "  Finished tract SPL_L_gwfa_dPMC_R_gwfa for subject A00037267\n",
      "  Finished tract SPL_L_gwfa_vPMC_L_gwfa for subject A00037267\n",
      "  - Tract SPL_L_gwfa_vPMC_R_gwfa not found. Skipping.\n",
      "  Finished tract SPL_R_gwfa_dPMC_L_gwfa for subject A00037267\n",
      "  Finished tract SPL_R_gwfa_dPMC_R_gwfa for subject A00037267\n",
      "  Finished tract SPL_R_gwfa_vPMC_L_gwfa for subject A00037267\n",
      "  Finished tract SPL_R_gwfa_vPMC_R_gwfa for subject A00037267\n",
      "  Finished tract dPMC_L_gwfa_dPMC_R_gwfa for subject A00037267\n",
      "  Finished tract dPMC_L_gwfa_vPMC_L_gwfa for subject A00037267\n",
      "  Finished tract dPMC_L_gwfa_vPMC_R_gwfa for subject A00037267\n",
      "  Finished tract dPMC_R_gwfa_vPMC_L_gwfa for subject A00037267\n",
      "  Finished tract dPMC_R_gwfa_vPMC_R_gwfa for subject A00037267\n",
      "  Finished tract vPMC_L_gwfa_vPMC_R_gwfa for subject A00037267\n",
      "Successfully processed subject A00037267.\n",
      "Starting processing of subject A00037377.\n",
      "  Finished tract IPL_L_gwfa_IPL_R_gwfa for subject A00037377\n",
      "  Finished tract IPL_L_gwfa_IPS_L_gwfa for subject A00037377\n",
      "  Finished tract IPL_L_gwfa_IPS_R_gwfa for subject A00037377\n",
      "  Finished tract IPL_L_gwfa_SPL_L_gwfa for subject A00037377\n",
      "  Finished tract IPL_L_gwfa_SPL_R_gwfa for subject A00037377\n",
      "  Finished tract IPL_L_gwfa_dPMC_L_gwfa for subject A00037377\n",
      "  - Tract IPL_L_gwfa_dPMC_R_gwfa not found. Skipping.\n",
      "  Finished tract IPL_L_gwfa_vPMC_L_gwfa for subject A00037377\n",
      "  Finished tract IPL_L_gwfa_vPMC_R_gwfa for subject A00037377\n",
      "  Finished tract IPL_R_gwfa_IPS_L_gwfa for subject A00037377\n",
      "  Finished tract IPL_R_gwfa_IPS_R_gwfa for subject A00037377\n",
      "  Finished tract IPL_R_gwfa_SPL_L_gwfa for subject A00037377\n",
      "  Finished tract IPL_R_gwfa_SPL_R_gwfa for subject A00037377\n",
      "  - Tract IPL_R_gwfa_dPMC_L_gwfa not found. Skipping.\n",
      "  Finished tract IPL_R_gwfa_dPMC_R_gwfa for subject A00037377\n",
      "  - Tract IPL_R_gwfa_vPMC_L_gwfa not found. Skipping.\n",
      "  Finished tract IPL_R_gwfa_vPMC_R_gwfa for subject A00037377\n",
      "  Finished tract IPS_L_gwfa_IPS_R_gwfa for subject A00037377\n",
      "  Finished tract IPS_L_gwfa_SPL_L_gwfa for subject A00037377\n",
      "  Finished tract IPS_L_gwfa_SPL_R_gwfa for subject A00037377\n",
      "  Finished tract IPS_L_gwfa_dPMC_L_gwfa for subject A00037377\n",
      "  Finished tract IPS_L_gwfa_dPMC_R_gwfa for subject A00037377\n",
      "  Finished tract IPS_L_gwfa_vPMC_L_gwfa for subject A00037377\n",
      "  Finished tract IPS_L_gwfa_vPMC_R_gwfa for subject A00037377\n",
      "  Finished tract IPS_R_gwfa_SPL_L_gwfa for subject A00037377\n",
      "  Finished tract IPS_R_gwfa_SPL_R_gwfa for subject A00037377\n",
      "  - Tract IPS_R_gwfa_dPMC_L_gwfa not found. Skipping.\n",
      "  Finished tract IPS_R_gwfa_dPMC_R_gwfa for subject A00037377\n",
      "  - Tract IPS_R_gwfa_vPMC_L_gwfa not found. Skipping.\n",
      "  Finished tract IPS_R_gwfa_vPMC_R_gwfa for subject A00037377\n",
      "  Finished tract SPL_L_gwfa_SPL_R_gwfa for subject A00037377\n",
      "  Finished tract SPL_L_gwfa_dPMC_L_gwfa for subject A00037377\n",
      "  Finished tract SPL_L_gwfa_dPMC_R_gwfa for subject A00037377\n",
      "  Finished tract SPL_L_gwfa_vPMC_L_gwfa for subject A00037377\n",
      "  - Tract SPL_L_gwfa_vPMC_R_gwfa not found. Skipping.\n"
     ]
    },
    {
     "name": "stdout",
     "output_type": "stream",
     "text": [
      "  Finished tract SPL_R_gwfa_dPMC_L_gwfa for subject A00037377\n",
      "  Finished tract SPL_R_gwfa_dPMC_R_gwfa for subject A00037377\n",
      "  Finished tract SPL_R_gwfa_vPMC_L_gwfa for subject A00037377\n",
      "  Finished tract SPL_R_gwfa_vPMC_R_gwfa for subject A00037377\n",
      "  Finished tract dPMC_L_gwfa_dPMC_R_gwfa for subject A00037377\n",
      "  Finished tract dPMC_L_gwfa_vPMC_L_gwfa for subject A00037377\n",
      "  Finished tract dPMC_L_gwfa_vPMC_R_gwfa for subject A00037377\n",
      "  Finished tract dPMC_R_gwfa_vPMC_L_gwfa for subject A00037377\n",
      "  Finished tract dPMC_R_gwfa_vPMC_R_gwfa for subject A00037377\n",
      "  Finished tract vPMC_L_gwfa_vPMC_R_gwfa for subject A00037377\n",
      "Successfully processed subject A00037377.\n",
      "Starting processing of subject A00037386.\n",
      "  Finished tract IPL_L_gwfa_IPL_R_gwfa for subject A00037386\n",
      "  Finished tract IPL_L_gwfa_IPS_L_gwfa for subject A00037386\n",
      "  Finished tract IPL_L_gwfa_IPS_R_gwfa for subject A00037386\n",
      "  Finished tract IPL_L_gwfa_SPL_L_gwfa for subject A00037386\n",
      "  Finished tract IPL_L_gwfa_SPL_R_gwfa for subject A00037386\n",
      "  Finished tract IPL_L_gwfa_dPMC_L_gwfa for subject A00037386\n",
      "  - Tract IPL_L_gwfa_dPMC_R_gwfa not found. Skipping.\n",
      "  Finished tract IPL_L_gwfa_vPMC_L_gwfa for subject A00037386\n",
      "  Finished tract IPL_L_gwfa_vPMC_R_gwfa for subject A00037386\n",
      "  Finished tract IPL_R_gwfa_IPS_L_gwfa for subject A00037386\n",
      "  Finished tract IPL_R_gwfa_IPS_R_gwfa for subject A00037386\n",
      "  Finished tract IPL_R_gwfa_SPL_L_gwfa for subject A00037386\n",
      "  Finished tract IPL_R_gwfa_SPL_R_gwfa for subject A00037386\n",
      "  - Tract IPL_R_gwfa_dPMC_L_gwfa not found. Skipping.\n",
      "  Finished tract IPL_R_gwfa_dPMC_R_gwfa for subject A00037386\n",
      "  - Tract IPL_R_gwfa_vPMC_L_gwfa not found. Skipping.\n",
      "  Finished tract IPL_R_gwfa_vPMC_R_gwfa for subject A00037386\n",
      "  Finished tract IPS_L_gwfa_IPS_R_gwfa for subject A00037386\n",
      "  Finished tract IPS_L_gwfa_SPL_L_gwfa for subject A00037386\n",
      "  Finished tract IPS_L_gwfa_SPL_R_gwfa for subject A00037386\n",
      "  Finished tract IPS_L_gwfa_dPMC_L_gwfa for subject A00037386\n",
      "  Finished tract IPS_L_gwfa_dPMC_R_gwfa for subject A00037386\n",
      "  Finished tract IPS_L_gwfa_vPMC_L_gwfa for subject A00037386\n",
      "  Finished tract IPS_L_gwfa_vPMC_R_gwfa for subject A00037386\n",
      "  Finished tract IPS_R_gwfa_SPL_L_gwfa for subject A00037386\n",
      "  Finished tract IPS_R_gwfa_SPL_R_gwfa for subject A00037386\n",
      "  - Tract IPS_R_gwfa_dPMC_L_gwfa not found. Skipping.\n",
      "  Finished tract IPS_R_gwfa_dPMC_R_gwfa for subject A00037386\n",
      "  - Tract IPS_R_gwfa_vPMC_L_gwfa not found. Skipping.\n",
      "  Finished tract IPS_R_gwfa_vPMC_R_gwfa for subject A00037386\n",
      "  Finished tract SPL_L_gwfa_SPL_R_gwfa for subject A00037386\n",
      "  Finished tract SPL_L_gwfa_dPMC_L_gwfa for subject A00037386\n",
      "  Finished tract SPL_L_gwfa_dPMC_R_gwfa for subject A00037386\n",
      "  Finished tract SPL_L_gwfa_vPMC_L_gwfa for subject A00037386\n",
      "  - Tract SPL_L_gwfa_vPMC_R_gwfa not found. Skipping.\n",
      "  Finished tract SPL_R_gwfa_dPMC_L_gwfa for subject A00037386\n",
      "  Finished tract SPL_R_gwfa_dPMC_R_gwfa for subject A00037386\n",
      "  Finished tract SPL_R_gwfa_vPMC_L_gwfa for subject A00037386\n",
      "  Finished tract SPL_R_gwfa_vPMC_R_gwfa for subject A00037386\n",
      "  Finished tract dPMC_L_gwfa_dPMC_R_gwfa for subject A00037386\n",
      "  Finished tract dPMC_L_gwfa_vPMC_L_gwfa for subject A00037386\n",
      "  Finished tract dPMC_L_gwfa_vPMC_R_gwfa for subject A00037386\n",
      "  Finished tract dPMC_R_gwfa_vPMC_L_gwfa for subject A00037386\n",
      "  Finished tract dPMC_R_gwfa_vPMC_R_gwfa for subject A00037386\n",
      "  Finished tract vPMC_L_gwfa_vPMC_R_gwfa for subject A00037386\n",
      "Successfully processed subject A00037386.\n",
      "Starting processing of subject A00037445.\n",
      "  Finished tract IPL_L_gwfa_IPL_R_gwfa for subject A00037445\n",
      "  Finished tract IPL_L_gwfa_IPS_L_gwfa for subject A00037445\n",
      "  Finished tract IPL_L_gwfa_IPS_R_gwfa for subject A00037445\n",
      "  Finished tract IPL_L_gwfa_SPL_L_gwfa for subject A00037445\n",
      "  Finished tract IPL_L_gwfa_SPL_R_gwfa for subject A00037445\n",
      "  Finished tract IPL_L_gwfa_dPMC_L_gwfa for subject A00037445\n",
      "  - Tract IPL_L_gwfa_dPMC_R_gwfa not found. Skipping.\n",
      "  Finished tract IPL_L_gwfa_vPMC_L_gwfa for subject A00037445\n",
      "  Finished tract IPL_L_gwfa_vPMC_R_gwfa for subject A00037445\n",
      "  Finished tract IPL_R_gwfa_IPS_L_gwfa for subject A00037445\n",
      "  Finished tract IPL_R_gwfa_IPS_R_gwfa for subject A00037445\n",
      "  Finished tract IPL_R_gwfa_SPL_L_gwfa for subject A00037445\n",
      "  Finished tract IPL_R_gwfa_SPL_R_gwfa for subject A00037445\n",
      "  - Tract IPL_R_gwfa_dPMC_L_gwfa not found. Skipping.\n",
      "  Finished tract IPL_R_gwfa_dPMC_R_gwfa for subject A00037445\n",
      "  - Tract IPL_R_gwfa_vPMC_L_gwfa not found. Skipping.\n",
      "  Finished tract IPL_R_gwfa_vPMC_R_gwfa for subject A00037445\n",
      "  Finished tract IPS_L_gwfa_IPS_R_gwfa for subject A00037445\n",
      "  Finished tract IPS_L_gwfa_SPL_L_gwfa for subject A00037445\n",
      "  Finished tract IPS_L_gwfa_SPL_R_gwfa for subject A00037445\n",
      "  Finished tract IPS_L_gwfa_dPMC_L_gwfa for subject A00037445\n",
      "  Finished tract IPS_L_gwfa_dPMC_R_gwfa for subject A00037445\n",
      "  Finished tract IPS_L_gwfa_vPMC_L_gwfa for subject A00037445\n",
      "  Finished tract IPS_L_gwfa_vPMC_R_gwfa for subject A00037445\n",
      "  Finished tract IPS_R_gwfa_SPL_L_gwfa for subject A00037445\n",
      "  Finished tract IPS_R_gwfa_SPL_R_gwfa for subject A00037445\n",
      "  - Tract IPS_R_gwfa_dPMC_L_gwfa not found. Skipping.\n",
      "  Finished tract IPS_R_gwfa_dPMC_R_gwfa for subject A00037445\n",
      "  - Tract IPS_R_gwfa_vPMC_L_gwfa not found. Skipping.\n",
      "  Finished tract IPS_R_gwfa_vPMC_R_gwfa for subject A00037445\n",
      "  Finished tract SPL_L_gwfa_SPL_R_gwfa for subject A00037445\n",
      "  Finished tract SPL_L_gwfa_dPMC_L_gwfa for subject A00037445\n",
      "  Finished tract SPL_L_gwfa_dPMC_R_gwfa for subject A00037445\n",
      "  Finished tract SPL_L_gwfa_vPMC_L_gwfa for subject A00037445\n",
      "  - Tract SPL_L_gwfa_vPMC_R_gwfa not found. Skipping.\n",
      "  Finished tract SPL_R_gwfa_dPMC_L_gwfa for subject A00037445\n",
      "  Finished tract SPL_R_gwfa_dPMC_R_gwfa for subject A00037445\n",
      "  Finished tract SPL_R_gwfa_vPMC_L_gwfa for subject A00037445\n",
      "  Finished tract SPL_R_gwfa_vPMC_R_gwfa for subject A00037445\n",
      "  Finished tract dPMC_L_gwfa_dPMC_R_gwfa for subject A00037445\n",
      "  Finished tract dPMC_L_gwfa_vPMC_L_gwfa for subject A00037445\n",
      "  Finished tract dPMC_L_gwfa_vPMC_R_gwfa for subject A00037445\n",
      "  Finished tract dPMC_R_gwfa_vPMC_L_gwfa for subject A00037445\n",
      "  Finished tract dPMC_R_gwfa_vPMC_R_gwfa for subject A00037445\n",
      "  Finished tract vPMC_L_gwfa_vPMC_R_gwfa for subject A00037445\n",
      "Successfully processed subject A00037445.\n",
      "Starting processing of subject A00037492.\n",
      "  Finished tract IPL_L_gwfa_IPL_R_gwfa for subject A00037492\n",
      "  Finished tract IPL_L_gwfa_IPS_L_gwfa for subject A00037492\n",
      "  Finished tract IPL_L_gwfa_IPS_R_gwfa for subject A00037492\n",
      "  Finished tract IPL_L_gwfa_SPL_L_gwfa for subject A00037492\n",
      "  Finished tract IPL_L_gwfa_SPL_R_gwfa for subject A00037492\n",
      "  Finished tract IPL_L_gwfa_dPMC_L_gwfa for subject A00037492\n",
      "  - Tract IPL_L_gwfa_dPMC_R_gwfa not found. Skipping.\n",
      "  Finished tract IPL_L_gwfa_vPMC_L_gwfa for subject A00037492\n",
      "  Finished tract IPL_L_gwfa_vPMC_R_gwfa for subject A00037492\n",
      "  Finished tract IPL_R_gwfa_IPS_L_gwfa for subject A00037492\n",
      "  Finished tract IPL_R_gwfa_IPS_R_gwfa for subject A00037492\n",
      "  Finished tract IPL_R_gwfa_SPL_L_gwfa for subject A00037492\n",
      "  Finished tract IPL_R_gwfa_SPL_R_gwfa for subject A00037492\n",
      "  - Tract IPL_R_gwfa_dPMC_L_gwfa not found. Skipping.\n",
      "  Finished tract IPL_R_gwfa_dPMC_R_gwfa for subject A00037492\n",
      "  - Tract IPL_R_gwfa_vPMC_L_gwfa not found. Skipping.\n",
      "  Finished tract IPL_R_gwfa_vPMC_R_gwfa for subject A00037492\n",
      "  Finished tract IPS_L_gwfa_IPS_R_gwfa for subject A00037492\n",
      "  Finished tract IPS_L_gwfa_SPL_L_gwfa for subject A00037492\n",
      "  Finished tract IPS_L_gwfa_SPL_R_gwfa for subject A00037492\n",
      "  Finished tract IPS_L_gwfa_dPMC_L_gwfa for subject A00037492\n",
      "  Finished tract IPS_L_gwfa_dPMC_R_gwfa for subject A00037492\n",
      "  Finished tract IPS_L_gwfa_vPMC_L_gwfa for subject A00037492\n",
      "  Finished tract IPS_L_gwfa_vPMC_R_gwfa for subject A00037492\n",
      "  Finished tract IPS_R_gwfa_SPL_L_gwfa for subject A00037492\n",
      "  Finished tract IPS_R_gwfa_SPL_R_gwfa for subject A00037492\n",
      "  - Tract IPS_R_gwfa_dPMC_L_gwfa not found. Skipping.\n",
      "  Finished tract IPS_R_gwfa_dPMC_R_gwfa for subject A00037492\n",
      "  - Tract IPS_R_gwfa_vPMC_L_gwfa not found. Skipping.\n",
      "  Finished tract IPS_R_gwfa_vPMC_R_gwfa for subject A00037492\n",
      "  Finished tract SPL_L_gwfa_SPL_R_gwfa for subject A00037492\n"
     ]
    },
    {
     "name": "stdout",
     "output_type": "stream",
     "text": [
      "  Finished tract SPL_L_gwfa_dPMC_L_gwfa for subject A00037492\n",
      "  Finished tract SPL_L_gwfa_dPMC_R_gwfa for subject A00037492\n",
      "  Finished tract SPL_L_gwfa_vPMC_L_gwfa for subject A00037492\n",
      "  - Tract SPL_L_gwfa_vPMC_R_gwfa not found. Skipping.\n",
      "  Finished tract SPL_R_gwfa_dPMC_L_gwfa for subject A00037492\n",
      "  Finished tract SPL_R_gwfa_dPMC_R_gwfa for subject A00037492\n",
      "  Finished tract SPL_R_gwfa_vPMC_L_gwfa for subject A00037492\n",
      "  Finished tract SPL_R_gwfa_vPMC_R_gwfa for subject A00037492\n",
      "  Finished tract dPMC_L_gwfa_dPMC_R_gwfa for subject A00037492\n",
      "  Finished tract dPMC_L_gwfa_vPMC_L_gwfa for subject A00037492\n",
      "  Finished tract dPMC_L_gwfa_vPMC_R_gwfa for subject A00037492\n",
      "  Finished tract dPMC_R_gwfa_vPMC_L_gwfa for subject A00037492\n",
      "  Finished tract dPMC_R_gwfa_vPMC_R_gwfa for subject A00037492\n",
      "  Finished tract vPMC_L_gwfa_vPMC_R_gwfa for subject A00037492\n",
      "Successfully processed subject A00037492.\n",
      "Starting processing of subject A00037510.\n",
      "  Finished tract IPL_L_gwfa_IPL_R_gwfa for subject A00037510\n",
      "  Finished tract IPL_L_gwfa_IPS_L_gwfa for subject A00037510\n",
      "  Finished tract IPL_L_gwfa_IPS_R_gwfa for subject A00037510\n",
      "  Finished tract IPL_L_gwfa_SPL_L_gwfa for subject A00037510\n",
      "  Finished tract IPL_L_gwfa_SPL_R_gwfa for subject A00037510\n",
      "  Finished tract IPL_L_gwfa_dPMC_L_gwfa for subject A00037510\n",
      "  - Tract IPL_L_gwfa_dPMC_R_gwfa not found. Skipping.\n",
      "  Finished tract IPL_L_gwfa_vPMC_L_gwfa for subject A00037510\n",
      "  Finished tract IPL_L_gwfa_vPMC_R_gwfa for subject A00037510\n",
      "  Finished tract IPL_R_gwfa_IPS_L_gwfa for subject A00037510\n",
      "  Finished tract IPL_R_gwfa_IPS_R_gwfa for subject A00037510\n",
      "  Finished tract IPL_R_gwfa_SPL_L_gwfa for subject A00037510\n",
      "  Finished tract IPL_R_gwfa_SPL_R_gwfa for subject A00037510\n",
      "  - Tract IPL_R_gwfa_dPMC_L_gwfa not found. Skipping.\n",
      "  Finished tract IPL_R_gwfa_dPMC_R_gwfa for subject A00037510\n",
      "  - Tract IPL_R_gwfa_vPMC_L_gwfa not found. Skipping.\n",
      "  Finished tract IPL_R_gwfa_vPMC_R_gwfa for subject A00037510\n",
      "  Finished tract IPS_L_gwfa_IPS_R_gwfa for subject A00037510\n",
      "  Finished tract IPS_L_gwfa_SPL_L_gwfa for subject A00037510\n",
      "  Finished tract IPS_L_gwfa_SPL_R_gwfa for subject A00037510\n",
      "  Finished tract IPS_L_gwfa_dPMC_L_gwfa for subject A00037510\n",
      "  Finished tract IPS_L_gwfa_dPMC_R_gwfa for subject A00037510\n",
      "  Finished tract IPS_L_gwfa_vPMC_L_gwfa for subject A00037510\n",
      "  Finished tract IPS_L_gwfa_vPMC_R_gwfa for subject A00037510\n",
      "  Finished tract IPS_R_gwfa_SPL_L_gwfa for subject A00037510\n",
      "  Finished tract IPS_R_gwfa_SPL_R_gwfa for subject A00037510\n",
      "  - Tract IPS_R_gwfa_dPMC_L_gwfa not found. Skipping.\n",
      "  Finished tract IPS_R_gwfa_dPMC_R_gwfa for subject A00037510\n",
      "  - Tract IPS_R_gwfa_vPMC_L_gwfa not found. Skipping.\n",
      "  Finished tract IPS_R_gwfa_vPMC_R_gwfa for subject A00037510\n",
      "  Finished tract SPL_L_gwfa_SPL_R_gwfa for subject A00037510\n",
      "  Finished tract SPL_L_gwfa_dPMC_L_gwfa for subject A00037510\n",
      "  Finished tract SPL_L_gwfa_dPMC_R_gwfa for subject A00037510\n",
      "  Finished tract SPL_L_gwfa_vPMC_L_gwfa for subject A00037510\n",
      "  - Tract SPL_L_gwfa_vPMC_R_gwfa not found. Skipping.\n",
      "  Finished tract SPL_R_gwfa_dPMC_L_gwfa for subject A00037510\n",
      "  Finished tract SPL_R_gwfa_dPMC_R_gwfa for subject A00037510\n",
      "  Finished tract SPL_R_gwfa_vPMC_L_gwfa for subject A00037510\n",
      "  Finished tract SPL_R_gwfa_vPMC_R_gwfa for subject A00037510\n",
      "  Finished tract dPMC_L_gwfa_dPMC_R_gwfa for subject A00037510\n",
      "  Finished tract dPMC_L_gwfa_vPMC_L_gwfa for subject A00037510\n",
      "  Finished tract dPMC_L_gwfa_vPMC_R_gwfa for subject A00037510\n",
      "  Finished tract dPMC_R_gwfa_vPMC_L_gwfa for subject A00037510\n",
      "  Finished tract dPMC_R_gwfa_vPMC_R_gwfa for subject A00037510\n",
      "  Finished tract vPMC_L_gwfa_vPMC_R_gwfa for subject A00037510\n",
      "Successfully processed subject A00037510.\n",
      "Starting processing of subject A00037588.\n",
      "  Finished tract IPL_L_gwfa_IPL_R_gwfa for subject A00037588\n",
      "  Finished tract IPL_L_gwfa_IPS_L_gwfa for subject A00037588\n",
      "  Finished tract IPL_L_gwfa_IPS_R_gwfa for subject A00037588\n",
      "  Finished tract IPL_L_gwfa_SPL_L_gwfa for subject A00037588\n",
      "  Finished tract IPL_L_gwfa_SPL_R_gwfa for subject A00037588\n",
      "  Finished tract IPL_L_gwfa_dPMC_L_gwfa for subject A00037588\n",
      "  - Tract IPL_L_gwfa_dPMC_R_gwfa not found. Skipping.\n",
      "  Finished tract IPL_L_gwfa_vPMC_L_gwfa for subject A00037588\n",
      "  Finished tract IPL_L_gwfa_vPMC_R_gwfa for subject A00037588\n",
      "  Finished tract IPL_R_gwfa_IPS_L_gwfa for subject A00037588\n",
      "  Finished tract IPL_R_gwfa_IPS_R_gwfa for subject A00037588\n",
      "  Finished tract IPL_R_gwfa_SPL_L_gwfa for subject A00037588\n",
      "  Finished tract IPL_R_gwfa_SPL_R_gwfa for subject A00037588\n",
      "  - Tract IPL_R_gwfa_dPMC_L_gwfa not found. Skipping.\n",
      "  Finished tract IPL_R_gwfa_dPMC_R_gwfa for subject A00037588\n",
      "  - Tract IPL_R_gwfa_vPMC_L_gwfa not found. Skipping.\n",
      "  Finished tract IPL_R_gwfa_vPMC_R_gwfa for subject A00037588\n",
      "  Finished tract IPS_L_gwfa_IPS_R_gwfa for subject A00037588\n",
      "  Finished tract IPS_L_gwfa_SPL_L_gwfa for subject A00037588\n",
      "  Finished tract IPS_L_gwfa_SPL_R_gwfa for subject A00037588\n",
      "  Finished tract IPS_L_gwfa_dPMC_L_gwfa for subject A00037588\n",
      "  Finished tract IPS_L_gwfa_dPMC_R_gwfa for subject A00037588\n",
      "  Finished tract IPS_L_gwfa_vPMC_L_gwfa for subject A00037588\n",
      "  Finished tract IPS_L_gwfa_vPMC_R_gwfa for subject A00037588\n",
      "  Finished tract IPS_R_gwfa_SPL_L_gwfa for subject A00037588\n",
      "  Finished tract IPS_R_gwfa_SPL_R_gwfa for subject A00037588\n",
      "  - Tract IPS_R_gwfa_dPMC_L_gwfa not found. Skipping.\n",
      "  Finished tract IPS_R_gwfa_dPMC_R_gwfa for subject A00037588\n",
      "  - Tract IPS_R_gwfa_vPMC_L_gwfa not found. Skipping.\n",
      "  Finished tract IPS_R_gwfa_vPMC_R_gwfa for subject A00037588\n",
      "  Finished tract SPL_L_gwfa_SPL_R_gwfa for subject A00037588\n",
      "  Finished tract SPL_L_gwfa_dPMC_L_gwfa for subject A00037588\n",
      "  Finished tract SPL_L_gwfa_dPMC_R_gwfa for subject A00037588\n",
      "  Finished tract SPL_L_gwfa_vPMC_L_gwfa for subject A00037588\n",
      "  - Tract SPL_L_gwfa_vPMC_R_gwfa not found. Skipping.\n",
      "  Finished tract SPL_R_gwfa_dPMC_L_gwfa for subject A00037588\n",
      "  Finished tract SPL_R_gwfa_dPMC_R_gwfa for subject A00037588\n",
      "  Finished tract SPL_R_gwfa_vPMC_L_gwfa for subject A00037588\n",
      "  Finished tract SPL_R_gwfa_vPMC_R_gwfa for subject A00037588\n",
      "  Finished tract dPMC_L_gwfa_dPMC_R_gwfa for subject A00037588\n",
      "  Finished tract dPMC_L_gwfa_vPMC_L_gwfa for subject A00037588\n",
      "  Finished tract dPMC_L_gwfa_vPMC_R_gwfa for subject A00037588\n",
      "  Finished tract dPMC_R_gwfa_vPMC_L_gwfa for subject A00037588\n",
      "  Finished tract dPMC_R_gwfa_vPMC_R_gwfa for subject A00037588\n",
      "  Finished tract vPMC_L_gwfa_vPMC_R_gwfa for subject A00037588\n",
      "Successfully processed subject A00037588.\n",
      "Starting processing of subject A00037635.\n",
      "  Finished tract IPL_L_gwfa_IPL_R_gwfa for subject A00037635\n",
      "  Finished tract IPL_L_gwfa_IPS_L_gwfa for subject A00037635\n",
      "  Finished tract IPL_L_gwfa_IPS_R_gwfa for subject A00037635\n",
      "  Finished tract IPL_L_gwfa_SPL_L_gwfa for subject A00037635\n",
      "  Finished tract IPL_L_gwfa_SPL_R_gwfa for subject A00037635\n",
      "  Finished tract IPL_L_gwfa_dPMC_L_gwfa for subject A00037635\n",
      "  - Tract IPL_L_gwfa_dPMC_R_gwfa not found. Skipping.\n",
      "  Finished tract IPL_L_gwfa_vPMC_L_gwfa for subject A00037635\n",
      "  Finished tract IPL_L_gwfa_vPMC_R_gwfa for subject A00037635\n",
      "  Finished tract IPL_R_gwfa_IPS_L_gwfa for subject A00037635\n",
      "  Finished tract IPL_R_gwfa_IPS_R_gwfa for subject A00037635\n",
      "  Finished tract IPL_R_gwfa_SPL_L_gwfa for subject A00037635\n",
      "  Finished tract IPL_R_gwfa_SPL_R_gwfa for subject A00037635\n",
      "  - Tract IPL_R_gwfa_dPMC_L_gwfa not found. Skipping.\n",
      "  Finished tract IPL_R_gwfa_dPMC_R_gwfa for subject A00037635\n",
      "  - Tract IPL_R_gwfa_vPMC_L_gwfa not found. Skipping.\n",
      "  Finished tract IPL_R_gwfa_vPMC_R_gwfa for subject A00037635\n",
      "  Finished tract IPS_L_gwfa_IPS_R_gwfa for subject A00037635\n",
      "  Finished tract IPS_L_gwfa_SPL_L_gwfa for subject A00037635\n",
      "  Finished tract IPS_L_gwfa_SPL_R_gwfa for subject A00037635\n",
      "  Finished tract IPS_L_gwfa_dPMC_L_gwfa for subject A00037635\n",
      "  Finished tract IPS_L_gwfa_dPMC_R_gwfa for subject A00037635\n",
      "  Finished tract IPS_L_gwfa_vPMC_L_gwfa for subject A00037635\n",
      "  Finished tract IPS_L_gwfa_vPMC_R_gwfa for subject A00037635\n",
      "  Finished tract IPS_R_gwfa_SPL_L_gwfa for subject A00037635\n",
      "  Finished tract IPS_R_gwfa_SPL_R_gwfa for subject A00037635\n",
      "  - Tract IPS_R_gwfa_dPMC_L_gwfa not found. Skipping.\n"
     ]
    },
    {
     "name": "stdout",
     "output_type": "stream",
     "text": [
      "  Finished tract IPS_R_gwfa_dPMC_R_gwfa for subject A00037635\n",
      "  - Tract IPS_R_gwfa_vPMC_L_gwfa not found. Skipping.\n",
      "  Finished tract IPS_R_gwfa_vPMC_R_gwfa for subject A00037635\n",
      "  Finished tract SPL_L_gwfa_SPL_R_gwfa for subject A00037635\n",
      "  Finished tract SPL_L_gwfa_dPMC_L_gwfa for subject A00037635\n",
      "  Finished tract SPL_L_gwfa_dPMC_R_gwfa for subject A00037635\n",
      "  Finished tract SPL_L_gwfa_vPMC_L_gwfa for subject A00037635\n",
      "  - Tract SPL_L_gwfa_vPMC_R_gwfa not found. Skipping.\n",
      "  Finished tract SPL_R_gwfa_dPMC_L_gwfa for subject A00037635\n",
      "  Finished tract SPL_R_gwfa_dPMC_R_gwfa for subject A00037635\n",
      "  Finished tract SPL_R_gwfa_vPMC_L_gwfa for subject A00037635\n",
      "  Finished tract SPL_R_gwfa_vPMC_R_gwfa for subject A00037635\n",
      "  Finished tract dPMC_L_gwfa_dPMC_R_gwfa for subject A00037635\n",
      "  Finished tract dPMC_L_gwfa_vPMC_L_gwfa for subject A00037635\n",
      "  Finished tract dPMC_L_gwfa_vPMC_R_gwfa for subject A00037635\n",
      "  Finished tract dPMC_R_gwfa_vPMC_L_gwfa for subject A00037635\n",
      "  Finished tract dPMC_R_gwfa_vPMC_R_gwfa for subject A00037635\n",
      "  Finished tract vPMC_L_gwfa_vPMC_R_gwfa for subject A00037635\n",
      "Successfully processed subject A00037635.\n",
      "Starting processing of subject A00037647.\n",
      "  Finished tract IPL_L_gwfa_IPL_R_gwfa for subject A00037647\n",
      "  Finished tract IPL_L_gwfa_IPS_L_gwfa for subject A00037647\n",
      "  Finished tract IPL_L_gwfa_IPS_R_gwfa for subject A00037647\n",
      "  Finished tract IPL_L_gwfa_SPL_L_gwfa for subject A00037647\n",
      "  Finished tract IPL_L_gwfa_SPL_R_gwfa for subject A00037647\n",
      "  Finished tract IPL_L_gwfa_dPMC_L_gwfa for subject A00037647\n",
      "  - Tract IPL_L_gwfa_dPMC_R_gwfa not found. Skipping.\n",
      "  Finished tract IPL_L_gwfa_vPMC_L_gwfa for subject A00037647\n",
      "  Finished tract IPL_L_gwfa_vPMC_R_gwfa for subject A00037647\n",
      "  Finished tract IPL_R_gwfa_IPS_L_gwfa for subject A00037647\n",
      "  Finished tract IPL_R_gwfa_IPS_R_gwfa for subject A00037647\n",
      "  Finished tract IPL_R_gwfa_SPL_L_gwfa for subject A00037647\n",
      "  Finished tract IPL_R_gwfa_SPL_R_gwfa for subject A00037647\n",
      "  - Tract IPL_R_gwfa_dPMC_L_gwfa not found. Skipping.\n",
      "  Finished tract IPL_R_gwfa_dPMC_R_gwfa for subject A00037647\n",
      "  - Tract IPL_R_gwfa_vPMC_L_gwfa not found. Skipping.\n",
      "  Finished tract IPL_R_gwfa_vPMC_R_gwfa for subject A00037647\n",
      "  Finished tract IPS_L_gwfa_IPS_R_gwfa for subject A00037647\n",
      "  Finished tract IPS_L_gwfa_SPL_L_gwfa for subject A00037647\n",
      "  Finished tract IPS_L_gwfa_SPL_R_gwfa for subject A00037647\n",
      "  Finished tract IPS_L_gwfa_dPMC_L_gwfa for subject A00037647\n",
      "  Finished tract IPS_L_gwfa_dPMC_R_gwfa for subject A00037647\n",
      "  Finished tract IPS_L_gwfa_vPMC_L_gwfa for subject A00037647\n",
      "  Finished tract IPS_L_gwfa_vPMC_R_gwfa for subject A00037647\n",
      "  Finished tract IPS_R_gwfa_SPL_L_gwfa for subject A00037647\n",
      "  Finished tract IPS_R_gwfa_SPL_R_gwfa for subject A00037647\n",
      "  - Tract IPS_R_gwfa_dPMC_L_gwfa not found. Skipping.\n",
      "  Finished tract IPS_R_gwfa_dPMC_R_gwfa for subject A00037647\n",
      "  - Tract IPS_R_gwfa_vPMC_L_gwfa not found. Skipping.\n",
      "  Finished tract IPS_R_gwfa_vPMC_R_gwfa for subject A00037647\n",
      "  Finished tract SPL_L_gwfa_SPL_R_gwfa for subject A00037647\n",
      "  Finished tract SPL_L_gwfa_dPMC_L_gwfa for subject A00037647\n",
      "  Finished tract SPL_L_gwfa_dPMC_R_gwfa for subject A00037647\n",
      "  Finished tract SPL_L_gwfa_vPMC_L_gwfa for subject A00037647\n",
      "  - Tract SPL_L_gwfa_vPMC_R_gwfa not found. Skipping.\n",
      "  Finished tract SPL_R_gwfa_dPMC_L_gwfa for subject A00037647\n",
      "  Finished tract SPL_R_gwfa_dPMC_R_gwfa for subject A00037647\n",
      "  Finished tract SPL_R_gwfa_vPMC_L_gwfa for subject A00037647\n",
      "  Finished tract SPL_R_gwfa_vPMC_R_gwfa for subject A00037647\n",
      "  Finished tract dPMC_L_gwfa_dPMC_R_gwfa for subject A00037647\n",
      "  Finished tract dPMC_L_gwfa_vPMC_L_gwfa for subject A00037647\n",
      "  Finished tract dPMC_L_gwfa_vPMC_R_gwfa for subject A00037647\n",
      "  Finished tract dPMC_R_gwfa_vPMC_L_gwfa for subject A00037647\n",
      "  Finished tract dPMC_R_gwfa_vPMC_R_gwfa for subject A00037647\n",
      "  Finished tract vPMC_L_gwfa_vPMC_R_gwfa for subject A00037647\n",
      "Successfully processed subject A00037647.\n",
      "Starting processing of subject A00037726.\n",
      "  Finished tract IPL_L_gwfa_IPL_R_gwfa for subject A00037726\n",
      "  Finished tract IPL_L_gwfa_IPS_L_gwfa for subject A00037726\n",
      "  Finished tract IPL_L_gwfa_IPS_R_gwfa for subject A00037726\n",
      "  Finished tract IPL_L_gwfa_SPL_L_gwfa for subject A00037726\n",
      "  Finished tract IPL_L_gwfa_SPL_R_gwfa for subject A00037726\n",
      "  Finished tract IPL_L_gwfa_dPMC_L_gwfa for subject A00037726\n",
      "  - Tract IPL_L_gwfa_dPMC_R_gwfa not found. Skipping.\n",
      "  Finished tract IPL_L_gwfa_vPMC_L_gwfa for subject A00037726\n",
      "  Finished tract IPL_L_gwfa_vPMC_R_gwfa for subject A00037726\n",
      "  Finished tract IPL_R_gwfa_IPS_L_gwfa for subject A00037726\n",
      "  Finished tract IPL_R_gwfa_IPS_R_gwfa for subject A00037726\n",
      "  Finished tract IPL_R_gwfa_SPL_L_gwfa for subject A00037726\n",
      "  Finished tract IPL_R_gwfa_SPL_R_gwfa for subject A00037726\n",
      "  - Tract IPL_R_gwfa_dPMC_L_gwfa not found. Skipping.\n",
      "  Finished tract IPL_R_gwfa_dPMC_R_gwfa for subject A00037726\n",
      "  - Tract IPL_R_gwfa_vPMC_L_gwfa not found. Skipping.\n",
      "  Finished tract IPL_R_gwfa_vPMC_R_gwfa for subject A00037726\n",
      "  Finished tract IPS_L_gwfa_IPS_R_gwfa for subject A00037726\n",
      "  Finished tract IPS_L_gwfa_SPL_L_gwfa for subject A00037726\n",
      "  Finished tract IPS_L_gwfa_SPL_R_gwfa for subject A00037726\n",
      "  Finished tract IPS_L_gwfa_dPMC_L_gwfa for subject A00037726\n",
      "  Finished tract IPS_L_gwfa_dPMC_R_gwfa for subject A00037726\n",
      "  Finished tract IPS_L_gwfa_vPMC_L_gwfa for subject A00037726\n",
      "  Finished tract IPS_L_gwfa_vPMC_R_gwfa for subject A00037726\n",
      "  Finished tract IPS_R_gwfa_SPL_L_gwfa for subject A00037726\n",
      "  Finished tract IPS_R_gwfa_SPL_R_gwfa for subject A00037726\n",
      "  - Tract IPS_R_gwfa_dPMC_L_gwfa not found. Skipping.\n",
      "  Finished tract IPS_R_gwfa_dPMC_R_gwfa for subject A00037726\n",
      "  - Tract IPS_R_gwfa_vPMC_L_gwfa not found. Skipping.\n",
      "  Finished tract IPS_R_gwfa_vPMC_R_gwfa for subject A00037726\n",
      "  Finished tract SPL_L_gwfa_SPL_R_gwfa for subject A00037726\n",
      "  Finished tract SPL_L_gwfa_dPMC_L_gwfa for subject A00037726\n",
      "  Finished tract SPL_L_gwfa_dPMC_R_gwfa for subject A00037726\n",
      "  Finished tract SPL_L_gwfa_vPMC_L_gwfa for subject A00037726\n",
      "  - Tract SPL_L_gwfa_vPMC_R_gwfa not found. Skipping.\n",
      "  Finished tract SPL_R_gwfa_dPMC_L_gwfa for subject A00037726\n",
      "  Finished tract SPL_R_gwfa_dPMC_R_gwfa for subject A00037726\n",
      "  Finished tract SPL_R_gwfa_vPMC_L_gwfa for subject A00037726\n",
      "  Finished tract SPL_R_gwfa_vPMC_R_gwfa for subject A00037726\n",
      "  Finished tract dPMC_L_gwfa_dPMC_R_gwfa for subject A00037726\n",
      "  Finished tract dPMC_L_gwfa_vPMC_L_gwfa for subject A00037726\n",
      "  Finished tract dPMC_L_gwfa_vPMC_R_gwfa for subject A00037726\n",
      "  Finished tract dPMC_R_gwfa_vPMC_L_gwfa for subject A00037726\n",
      "  Finished tract dPMC_R_gwfa_vPMC_R_gwfa for subject A00037726\n",
      "  Finished tract vPMC_L_gwfa_vPMC_R_gwfa for subject A00037726\n",
      "Successfully processed subject A00037726.\n",
      "Starting processing of subject A00037768.\n",
      "  Finished tract IPL_L_gwfa_IPL_R_gwfa for subject A00037768\n",
      "  Finished tract IPL_L_gwfa_IPS_L_gwfa for subject A00037768\n",
      "  Finished tract IPL_L_gwfa_IPS_R_gwfa for subject A00037768\n",
      "  Finished tract IPL_L_gwfa_SPL_L_gwfa for subject A00037768\n",
      "  Finished tract IPL_L_gwfa_SPL_R_gwfa for subject A00037768\n",
      "  Finished tract IPL_L_gwfa_dPMC_L_gwfa for subject A00037768\n",
      "  - Tract IPL_L_gwfa_dPMC_R_gwfa not found. Skipping.\n",
      "  Finished tract IPL_L_gwfa_vPMC_L_gwfa for subject A00037768\n",
      "  Finished tract IPL_L_gwfa_vPMC_R_gwfa for subject A00037768\n",
      "  Finished tract IPL_R_gwfa_IPS_L_gwfa for subject A00037768\n",
      "  Finished tract IPL_R_gwfa_IPS_R_gwfa for subject A00037768\n",
      "  Finished tract IPL_R_gwfa_SPL_L_gwfa for subject A00037768\n",
      "  Finished tract IPL_R_gwfa_SPL_R_gwfa for subject A00037768\n",
      "  - Tract IPL_R_gwfa_dPMC_L_gwfa not found. Skipping.\n",
      "  Finished tract IPL_R_gwfa_dPMC_R_gwfa for subject A00037768\n",
      "  - Tract IPL_R_gwfa_vPMC_L_gwfa not found. Skipping.\n",
      "  Finished tract IPL_R_gwfa_vPMC_R_gwfa for subject A00037768\n",
      "  Finished tract IPS_L_gwfa_IPS_R_gwfa for subject A00037768\n",
      "  Finished tract IPS_L_gwfa_SPL_L_gwfa for subject A00037768\n",
      "  Finished tract IPS_L_gwfa_SPL_R_gwfa for subject A00037768\n",
      "  Finished tract IPS_L_gwfa_dPMC_L_gwfa for subject A00037768\n",
      "  Finished tract IPS_L_gwfa_dPMC_R_gwfa for subject A00037768\n",
      "  Finished tract IPS_L_gwfa_vPMC_L_gwfa for subject A00037768\n"
     ]
    },
    {
     "name": "stdout",
     "output_type": "stream",
     "text": [
      "  Finished tract IPS_L_gwfa_vPMC_R_gwfa for subject A00037768\n",
      "  Finished tract IPS_R_gwfa_SPL_L_gwfa for subject A00037768\n",
      "  Finished tract IPS_R_gwfa_SPL_R_gwfa for subject A00037768\n",
      "  - Tract IPS_R_gwfa_dPMC_L_gwfa not found. Skipping.\n",
      "  Finished tract IPS_R_gwfa_dPMC_R_gwfa for subject A00037768\n",
      "  - Tract IPS_R_gwfa_vPMC_L_gwfa not found. Skipping.\n",
      "  Finished tract IPS_R_gwfa_vPMC_R_gwfa for subject A00037768\n",
      "  Finished tract SPL_L_gwfa_SPL_R_gwfa for subject A00037768\n",
      "  Finished tract SPL_L_gwfa_dPMC_L_gwfa for subject A00037768\n",
      "  Finished tract SPL_L_gwfa_dPMC_R_gwfa for subject A00037768\n",
      "  Finished tract SPL_L_gwfa_vPMC_L_gwfa for subject A00037768\n",
      "  - Tract SPL_L_gwfa_vPMC_R_gwfa not found. Skipping.\n",
      "  Finished tract SPL_R_gwfa_dPMC_L_gwfa for subject A00037768\n",
      "  Finished tract SPL_R_gwfa_dPMC_R_gwfa for subject A00037768\n",
      "  Finished tract SPL_R_gwfa_vPMC_L_gwfa for subject A00037768\n",
      "  Finished tract SPL_R_gwfa_vPMC_R_gwfa for subject A00037768\n",
      "  Finished tract dPMC_L_gwfa_dPMC_R_gwfa for subject A00037768\n",
      "  Finished tract dPMC_L_gwfa_vPMC_L_gwfa for subject A00037768\n",
      "  Finished tract dPMC_L_gwfa_vPMC_R_gwfa for subject A00037768\n",
      "  Finished tract dPMC_R_gwfa_vPMC_L_gwfa for subject A00037768\n",
      "  Finished tract dPMC_R_gwfa_vPMC_R_gwfa for subject A00037768\n",
      "  Finished tract vPMC_L_gwfa_vPMC_R_gwfa for subject A00037768\n",
      "Successfully processed subject A00037768.\n",
      "Starting processing of subject A00037831.\n",
      "  Finished tract IPL_L_gwfa_IPL_R_gwfa for subject A00037831\n",
      "  Finished tract IPL_L_gwfa_IPS_L_gwfa for subject A00037831\n",
      "  Finished tract IPL_L_gwfa_IPS_R_gwfa for subject A00037831\n",
      "  Finished tract IPL_L_gwfa_SPL_L_gwfa for subject A00037831\n",
      "  Finished tract IPL_L_gwfa_SPL_R_gwfa for subject A00037831\n",
      "  Finished tract IPL_L_gwfa_dPMC_L_gwfa for subject A00037831\n",
      "  - Tract IPL_L_gwfa_dPMC_R_gwfa not found. Skipping.\n",
      "  Finished tract IPL_L_gwfa_vPMC_L_gwfa for subject A00037831\n",
      "  Finished tract IPL_L_gwfa_vPMC_R_gwfa for subject A00037831\n",
      "  Finished tract IPL_R_gwfa_IPS_L_gwfa for subject A00037831\n",
      "  Finished tract IPL_R_gwfa_IPS_R_gwfa for subject A00037831\n",
      "  Finished tract IPL_R_gwfa_SPL_L_gwfa for subject A00037831\n",
      "  Finished tract IPL_R_gwfa_SPL_R_gwfa for subject A00037831\n",
      "  - Tract IPL_R_gwfa_dPMC_L_gwfa not found. Skipping.\n",
      "  Finished tract IPL_R_gwfa_dPMC_R_gwfa for subject A00037831\n",
      "  - Tract IPL_R_gwfa_vPMC_L_gwfa not found. Skipping.\n",
      "  Finished tract IPL_R_gwfa_vPMC_R_gwfa for subject A00037831\n",
      "  Finished tract IPS_L_gwfa_IPS_R_gwfa for subject A00037831\n",
      "  Finished tract IPS_L_gwfa_SPL_L_gwfa for subject A00037831\n",
      "  Finished tract IPS_L_gwfa_SPL_R_gwfa for subject A00037831\n",
      "  Finished tract IPS_L_gwfa_dPMC_L_gwfa for subject A00037831\n",
      "  Finished tract IPS_L_gwfa_dPMC_R_gwfa for subject A00037831\n",
      "  Finished tract IPS_L_gwfa_vPMC_L_gwfa for subject A00037831\n",
      "  Finished tract IPS_L_gwfa_vPMC_R_gwfa for subject A00037831\n",
      "  Finished tract IPS_R_gwfa_SPL_L_gwfa for subject A00037831\n",
      "  Finished tract IPS_R_gwfa_SPL_R_gwfa for subject A00037831\n",
      "  - Tract IPS_R_gwfa_dPMC_L_gwfa not found. Skipping.\n",
      "  Finished tract IPS_R_gwfa_dPMC_R_gwfa for subject A00037831\n",
      "  - Tract IPS_R_gwfa_vPMC_L_gwfa not found. Skipping.\n",
      "  Finished tract IPS_R_gwfa_vPMC_R_gwfa for subject A00037831\n",
      "  Finished tract SPL_L_gwfa_SPL_R_gwfa for subject A00037831\n",
      "  Finished tract SPL_L_gwfa_dPMC_L_gwfa for subject A00037831\n",
      "  Finished tract SPL_L_gwfa_dPMC_R_gwfa for subject A00037831\n",
      "  Finished tract SPL_L_gwfa_vPMC_L_gwfa for subject A00037831\n",
      "  - Tract SPL_L_gwfa_vPMC_R_gwfa not found. Skipping.\n",
      "  Finished tract SPL_R_gwfa_dPMC_L_gwfa for subject A00037831\n",
      "  Finished tract SPL_R_gwfa_dPMC_R_gwfa for subject A00037831\n",
      "  Finished tract SPL_R_gwfa_vPMC_L_gwfa for subject A00037831\n",
      "  Finished tract SPL_R_gwfa_vPMC_R_gwfa for subject A00037831\n",
      "  Finished tract dPMC_L_gwfa_dPMC_R_gwfa for subject A00037831\n",
      "  Finished tract dPMC_L_gwfa_vPMC_L_gwfa for subject A00037831\n",
      "  Finished tract dPMC_L_gwfa_vPMC_R_gwfa for subject A00037831\n",
      "  Finished tract dPMC_R_gwfa_vPMC_L_gwfa for subject A00037831\n",
      "  Finished tract dPMC_R_gwfa_vPMC_R_gwfa for subject A00037831\n",
      "  Finished tract vPMC_L_gwfa_vPMC_R_gwfa for subject A00037831\n",
      "Successfully processed subject A00037831.\n",
      "Starting processing of subject A00038158.\n",
      "  Finished tract IPL_L_gwfa_IPL_R_gwfa for subject A00038158\n",
      "  Finished tract IPL_L_gwfa_IPS_L_gwfa for subject A00038158\n",
      "  Finished tract IPL_L_gwfa_IPS_R_gwfa for subject A00038158\n",
      "  Finished tract IPL_L_gwfa_SPL_L_gwfa for subject A00038158\n",
      "  Finished tract IPL_L_gwfa_SPL_R_gwfa for subject A00038158\n",
      "  Finished tract IPL_L_gwfa_dPMC_L_gwfa for subject A00038158\n",
      "  - Tract IPL_L_gwfa_dPMC_R_gwfa not found. Skipping.\n",
      "  Finished tract IPL_L_gwfa_vPMC_L_gwfa for subject A00038158\n",
      "  Finished tract IPL_L_gwfa_vPMC_R_gwfa for subject A00038158\n",
      "  Finished tract IPL_R_gwfa_IPS_L_gwfa for subject A00038158\n",
      "  Finished tract IPL_R_gwfa_IPS_R_gwfa for subject A00038158\n",
      "  Finished tract IPL_R_gwfa_SPL_L_gwfa for subject A00038158\n",
      "  Finished tract IPL_R_gwfa_SPL_R_gwfa for subject A00038158\n",
      "  - Tract IPL_R_gwfa_dPMC_L_gwfa not found. Skipping.\n",
      "  Finished tract IPL_R_gwfa_dPMC_R_gwfa for subject A00038158\n",
      "  - Tract IPL_R_gwfa_vPMC_L_gwfa not found. Skipping.\n",
      "  Finished tract IPL_R_gwfa_vPMC_R_gwfa for subject A00038158\n",
      "  Finished tract IPS_L_gwfa_IPS_R_gwfa for subject A00038158\n",
      "  Finished tract IPS_L_gwfa_SPL_L_gwfa for subject A00038158\n",
      "  Finished tract IPS_L_gwfa_SPL_R_gwfa for subject A00038158\n",
      "  Finished tract IPS_L_gwfa_dPMC_L_gwfa for subject A00038158\n",
      "  Finished tract IPS_L_gwfa_dPMC_R_gwfa for subject A00038158\n",
      "  Finished tract IPS_L_gwfa_vPMC_L_gwfa for subject A00038158\n",
      "  Finished tract IPS_L_gwfa_vPMC_R_gwfa for subject A00038158\n",
      "  Finished tract IPS_R_gwfa_SPL_L_gwfa for subject A00038158\n",
      "  Finished tract IPS_R_gwfa_SPL_R_gwfa for subject A00038158\n",
      "  - Tract IPS_R_gwfa_dPMC_L_gwfa not found. Skipping.\n",
      "  Finished tract IPS_R_gwfa_dPMC_R_gwfa for subject A00038158\n",
      "  - Tract IPS_R_gwfa_vPMC_L_gwfa not found. Skipping.\n",
      "  Finished tract IPS_R_gwfa_vPMC_R_gwfa for subject A00038158\n",
      "  Finished tract SPL_L_gwfa_SPL_R_gwfa for subject A00038158\n",
      "  Finished tract SPL_L_gwfa_dPMC_L_gwfa for subject A00038158\n",
      "  Finished tract SPL_L_gwfa_dPMC_R_gwfa for subject A00038158\n",
      "  Finished tract SPL_L_gwfa_vPMC_L_gwfa for subject A00038158\n",
      "  - Tract SPL_L_gwfa_vPMC_R_gwfa not found. Skipping.\n",
      "  Finished tract SPL_R_gwfa_dPMC_L_gwfa for subject A00038158\n",
      "  Finished tract SPL_R_gwfa_dPMC_R_gwfa for subject A00038158\n",
      "  Finished tract SPL_R_gwfa_vPMC_L_gwfa for subject A00038158\n",
      "  Finished tract SPL_R_gwfa_vPMC_R_gwfa for subject A00038158\n",
      "  Finished tract dPMC_L_gwfa_dPMC_R_gwfa for subject A00038158\n",
      "  Finished tract dPMC_L_gwfa_vPMC_L_gwfa for subject A00038158\n",
      "  Finished tract dPMC_L_gwfa_vPMC_R_gwfa for subject A00038158\n",
      "  Finished tract dPMC_R_gwfa_vPMC_L_gwfa for subject A00038158\n",
      "  Finished tract dPMC_R_gwfa_vPMC_R_gwfa for subject A00038158\n",
      "  Finished tract vPMC_L_gwfa_vPMC_R_gwfa for subject A00038158\n",
      "Successfully processed subject A00038158.\n",
      "Starting processing of subject A00038159.\n",
      "  Finished tract IPL_L_gwfa_IPL_R_gwfa for subject A00038159\n",
      "  Finished tract IPL_L_gwfa_IPS_L_gwfa for subject A00038159\n",
      "  Finished tract IPL_L_gwfa_IPS_R_gwfa for subject A00038159\n",
      "  Finished tract IPL_L_gwfa_SPL_L_gwfa for subject A00038159\n",
      "  Finished tract IPL_L_gwfa_SPL_R_gwfa for subject A00038159\n",
      "  Finished tract IPL_L_gwfa_dPMC_L_gwfa for subject A00038159\n",
      "  - Tract IPL_L_gwfa_dPMC_R_gwfa not found. Skipping.\n",
      "  Finished tract IPL_L_gwfa_vPMC_L_gwfa for subject A00038159\n",
      "  Finished tract IPL_L_gwfa_vPMC_R_gwfa for subject A00038159\n",
      "  Finished tract IPL_R_gwfa_IPS_L_gwfa for subject A00038159\n",
      "  Finished tract IPL_R_gwfa_IPS_R_gwfa for subject A00038159\n",
      "  Finished tract IPL_R_gwfa_SPL_L_gwfa for subject A00038159\n",
      "  Finished tract IPL_R_gwfa_SPL_R_gwfa for subject A00038159\n",
      "  - Tract IPL_R_gwfa_dPMC_L_gwfa not found. Skipping.\n",
      "  Finished tract IPL_R_gwfa_dPMC_R_gwfa for subject A00038159\n",
      "  - Tract IPL_R_gwfa_vPMC_L_gwfa not found. Skipping.\n",
      "  Finished tract IPL_R_gwfa_vPMC_R_gwfa for subject A00038159\n",
      "  Finished tract IPS_L_gwfa_IPS_R_gwfa for subject A00038159\n",
      "  Finished tract IPS_L_gwfa_SPL_L_gwfa for subject A00038159\n"
     ]
    },
    {
     "name": "stdout",
     "output_type": "stream",
     "text": [
      "  Finished tract IPS_L_gwfa_SPL_R_gwfa for subject A00038159\n",
      "  Finished tract IPS_L_gwfa_dPMC_L_gwfa for subject A00038159\n",
      "  Finished tract IPS_L_gwfa_dPMC_R_gwfa for subject A00038159\n",
      "  Finished tract IPS_L_gwfa_vPMC_L_gwfa for subject A00038159\n",
      "  Finished tract IPS_L_gwfa_vPMC_R_gwfa for subject A00038159\n",
      "  Finished tract IPS_R_gwfa_SPL_L_gwfa for subject A00038159\n",
      "  Finished tract IPS_R_gwfa_SPL_R_gwfa for subject A00038159\n",
      "  - Tract IPS_R_gwfa_dPMC_L_gwfa not found. Skipping.\n",
      "  Finished tract IPS_R_gwfa_dPMC_R_gwfa for subject A00038159\n",
      "  - Tract IPS_R_gwfa_vPMC_L_gwfa not found. Skipping.\n",
      "  Finished tract IPS_R_gwfa_vPMC_R_gwfa for subject A00038159\n",
      "  Finished tract SPL_L_gwfa_SPL_R_gwfa for subject A00038159\n",
      "  Finished tract SPL_L_gwfa_dPMC_L_gwfa for subject A00038159\n",
      "  Finished tract SPL_L_gwfa_dPMC_R_gwfa for subject A00038159\n",
      "  Finished tract SPL_L_gwfa_vPMC_L_gwfa for subject A00038159\n",
      "  - Tract SPL_L_gwfa_vPMC_R_gwfa not found. Skipping.\n",
      "  Finished tract SPL_R_gwfa_dPMC_L_gwfa for subject A00038159\n",
      "  Finished tract SPL_R_gwfa_dPMC_R_gwfa for subject A00038159\n",
      "  Finished tract SPL_R_gwfa_vPMC_L_gwfa for subject A00038159\n",
      "  Finished tract SPL_R_gwfa_vPMC_R_gwfa for subject A00038159\n",
      "  Finished tract dPMC_L_gwfa_dPMC_R_gwfa for subject A00038159\n",
      "  Finished tract dPMC_L_gwfa_vPMC_L_gwfa for subject A00038159\n",
      "  Finished tract dPMC_L_gwfa_vPMC_R_gwfa for subject A00038159\n",
      "  Finished tract dPMC_R_gwfa_vPMC_L_gwfa for subject A00038159\n",
      "  Finished tract dPMC_R_gwfa_vPMC_R_gwfa for subject A00038159\n",
      "  Finished tract vPMC_L_gwfa_vPMC_R_gwfa for subject A00038159\n",
      "Successfully processed subject A00038159.\n",
      "Starting processing of subject A00038424.\n",
      "  Finished tract IPL_L_gwfa_IPL_R_gwfa for subject A00038424\n",
      "  Finished tract IPL_L_gwfa_IPS_L_gwfa for subject A00038424\n",
      "  Finished tract IPL_L_gwfa_IPS_R_gwfa for subject A00038424\n",
      "  Finished tract IPL_L_gwfa_SPL_L_gwfa for subject A00038424\n",
      "  Finished tract IPL_L_gwfa_SPL_R_gwfa for subject A00038424\n",
      "  Finished tract IPL_L_gwfa_dPMC_L_gwfa for subject A00038424\n",
      "  - Tract IPL_L_gwfa_dPMC_R_gwfa not found. Skipping.\n",
      "  Finished tract IPL_L_gwfa_vPMC_L_gwfa for subject A00038424\n",
      "  Finished tract IPL_L_gwfa_vPMC_R_gwfa for subject A00038424\n",
      "  Finished tract IPL_R_gwfa_IPS_L_gwfa for subject A00038424\n",
      "  Finished tract IPL_R_gwfa_IPS_R_gwfa for subject A00038424\n",
      "  Finished tract IPL_R_gwfa_SPL_L_gwfa for subject A00038424\n",
      "  Finished tract IPL_R_gwfa_SPL_R_gwfa for subject A00038424\n",
      "  - Tract IPL_R_gwfa_dPMC_L_gwfa not found. Skipping.\n",
      "  Finished tract IPL_R_gwfa_dPMC_R_gwfa for subject A00038424\n",
      "  - Tract IPL_R_gwfa_vPMC_L_gwfa not found. Skipping.\n",
      "  Finished tract IPL_R_gwfa_vPMC_R_gwfa for subject A00038424\n",
      "  Finished tract IPS_L_gwfa_IPS_R_gwfa for subject A00038424\n",
      "  Finished tract IPS_L_gwfa_SPL_L_gwfa for subject A00038424\n",
      "  Finished tract IPS_L_gwfa_SPL_R_gwfa for subject A00038424\n",
      "  Finished tract IPS_L_gwfa_dPMC_L_gwfa for subject A00038424\n",
      "  Finished tract IPS_L_gwfa_dPMC_R_gwfa for subject A00038424\n",
      "  Finished tract IPS_L_gwfa_vPMC_L_gwfa for subject A00038424\n",
      "  Finished tract IPS_L_gwfa_vPMC_R_gwfa for subject A00038424\n",
      "  Finished tract IPS_R_gwfa_SPL_L_gwfa for subject A00038424\n",
      "  Finished tract IPS_R_gwfa_SPL_R_gwfa for subject A00038424\n",
      "  - Tract IPS_R_gwfa_dPMC_L_gwfa not found. Skipping.\n",
      "  Finished tract IPS_R_gwfa_dPMC_R_gwfa for subject A00038424\n",
      "  - Tract IPS_R_gwfa_vPMC_L_gwfa not found. Skipping.\n",
      "  Finished tract IPS_R_gwfa_vPMC_R_gwfa for subject A00038424\n",
      "  Finished tract SPL_L_gwfa_SPL_R_gwfa for subject A00038424\n",
      "  Finished tract SPL_L_gwfa_dPMC_L_gwfa for subject A00038424\n",
      "  Finished tract SPL_L_gwfa_dPMC_R_gwfa for subject A00038424\n",
      "  Finished tract SPL_L_gwfa_vPMC_L_gwfa for subject A00038424\n",
      "  - Tract SPL_L_gwfa_vPMC_R_gwfa not found. Skipping.\n",
      "  Finished tract SPL_R_gwfa_dPMC_L_gwfa for subject A00038424\n",
      "  Finished tract SPL_R_gwfa_dPMC_R_gwfa for subject A00038424\n",
      "  Finished tract SPL_R_gwfa_vPMC_L_gwfa for subject A00038424\n",
      "  Finished tract SPL_R_gwfa_vPMC_R_gwfa for subject A00038424\n",
      "  Finished tract dPMC_L_gwfa_dPMC_R_gwfa for subject A00038424\n",
      "  Finished tract dPMC_L_gwfa_vPMC_L_gwfa for subject A00038424\n",
      "  Finished tract dPMC_L_gwfa_vPMC_R_gwfa for subject A00038424\n",
      "  Finished tract dPMC_R_gwfa_vPMC_L_gwfa for subject A00038424\n",
      "  Finished tract dPMC_R_gwfa_vPMC_R_gwfa for subject A00038424\n",
      "  Finished tract vPMC_L_gwfa_vPMC_R_gwfa for subject A00038424\n",
      "Successfully processed subject A00038424.\n",
      "Starting processing of subject A00038520.\n",
      "  Finished tract IPL_L_gwfa_IPL_R_gwfa for subject A00038520\n",
      "  Finished tract IPL_L_gwfa_IPS_L_gwfa for subject A00038520\n",
      "  Finished tract IPL_L_gwfa_IPS_R_gwfa for subject A00038520\n",
      "  Finished tract IPL_L_gwfa_SPL_L_gwfa for subject A00038520\n",
      "  Finished tract IPL_L_gwfa_SPL_R_gwfa for subject A00038520\n",
      "  Finished tract IPL_L_gwfa_dPMC_L_gwfa for subject A00038520\n",
      "  - Tract IPL_L_gwfa_dPMC_R_gwfa not found. Skipping.\n",
      "  Finished tract IPL_L_gwfa_vPMC_L_gwfa for subject A00038520\n",
      "  Finished tract IPL_L_gwfa_vPMC_R_gwfa for subject A00038520\n",
      "  Finished tract IPL_R_gwfa_IPS_L_gwfa for subject A00038520\n",
      "  Finished tract IPL_R_gwfa_IPS_R_gwfa for subject A00038520\n",
      "  Finished tract IPL_R_gwfa_SPL_L_gwfa for subject A00038520\n",
      "  Finished tract IPL_R_gwfa_SPL_R_gwfa for subject A00038520\n",
      "  - Tract IPL_R_gwfa_dPMC_L_gwfa not found. Skipping.\n",
      "  Finished tract IPL_R_gwfa_dPMC_R_gwfa for subject A00038520\n",
      "  - Tract IPL_R_gwfa_vPMC_L_gwfa not found. Skipping.\n",
      "  Finished tract IPL_R_gwfa_vPMC_R_gwfa for subject A00038520\n",
      "  Finished tract IPS_L_gwfa_IPS_R_gwfa for subject A00038520\n",
      "  Finished tract IPS_L_gwfa_SPL_L_gwfa for subject A00038520\n",
      "  Finished tract IPS_L_gwfa_SPL_R_gwfa for subject A00038520\n",
      "  Finished tract IPS_L_gwfa_dPMC_L_gwfa for subject A00038520\n",
      "  Finished tract IPS_L_gwfa_dPMC_R_gwfa for subject A00038520\n",
      "  Finished tract IPS_L_gwfa_vPMC_L_gwfa for subject A00038520\n",
      "  Finished tract IPS_L_gwfa_vPMC_R_gwfa for subject A00038520\n",
      "  Finished tract IPS_R_gwfa_SPL_L_gwfa for subject A00038520\n",
      "  Finished tract IPS_R_gwfa_SPL_R_gwfa for subject A00038520\n",
      "  - Tract IPS_R_gwfa_dPMC_L_gwfa not found. Skipping.\n",
      "  Finished tract IPS_R_gwfa_dPMC_R_gwfa for subject A00038520\n",
      "  - Tract IPS_R_gwfa_vPMC_L_gwfa not found. Skipping.\n",
      "  Finished tract IPS_R_gwfa_vPMC_R_gwfa for subject A00038520\n",
      "  Finished tract SPL_L_gwfa_SPL_R_gwfa for subject A00038520\n",
      "  Finished tract SPL_L_gwfa_dPMC_L_gwfa for subject A00038520\n",
      "  Finished tract SPL_L_gwfa_dPMC_R_gwfa for subject A00038520\n",
      "  Finished tract SPL_L_gwfa_vPMC_L_gwfa for subject A00038520\n",
      "  - Tract SPL_L_gwfa_vPMC_R_gwfa not found. Skipping.\n",
      "  Finished tract SPL_R_gwfa_dPMC_L_gwfa for subject A00038520\n",
      "  Finished tract SPL_R_gwfa_dPMC_R_gwfa for subject A00038520\n",
      "  Finished tract SPL_R_gwfa_vPMC_L_gwfa for subject A00038520\n",
      "  Finished tract SPL_R_gwfa_vPMC_R_gwfa for subject A00038520\n",
      "  Finished tract dPMC_L_gwfa_dPMC_R_gwfa for subject A00038520\n",
      "  Finished tract dPMC_L_gwfa_vPMC_L_gwfa for subject A00038520\n",
      "  Finished tract dPMC_L_gwfa_vPMC_R_gwfa for subject A00038520\n",
      "  Finished tract dPMC_R_gwfa_vPMC_L_gwfa for subject A00038520\n",
      "  Finished tract dPMC_R_gwfa_vPMC_R_gwfa for subject A00038520\n",
      "  Finished tract vPMC_L_gwfa_vPMC_R_gwfa for subject A00038520\n",
      "Successfully processed subject A00038520.\n",
      "Starting processing of subject A00038605.\n",
      "  Finished tract IPL_L_gwfa_IPL_R_gwfa for subject A00038605\n",
      "  Finished tract IPL_L_gwfa_IPS_L_gwfa for subject A00038605\n",
      "  Finished tract IPL_L_gwfa_IPS_R_gwfa for subject A00038605\n",
      "  Finished tract IPL_L_gwfa_SPL_L_gwfa for subject A00038605\n",
      "  Finished tract IPL_L_gwfa_SPL_R_gwfa for subject A00038605\n",
      "  Finished tract IPL_L_gwfa_dPMC_L_gwfa for subject A00038605\n",
      "  - Tract IPL_L_gwfa_dPMC_R_gwfa not found. Skipping.\n",
      "  Finished tract IPL_L_gwfa_vPMC_L_gwfa for subject A00038605\n",
      "  Finished tract IPL_L_gwfa_vPMC_R_gwfa for subject A00038605\n",
      "  Finished tract IPL_R_gwfa_IPS_L_gwfa for subject A00038605\n",
      "  Finished tract IPL_R_gwfa_IPS_R_gwfa for subject A00038605\n",
      "  Finished tract IPL_R_gwfa_SPL_L_gwfa for subject A00038605\n",
      "  Finished tract IPL_R_gwfa_SPL_R_gwfa for subject A00038605\n",
      "  - Tract IPL_R_gwfa_dPMC_L_gwfa not found. Skipping.\n",
      "  Finished tract IPL_R_gwfa_dPMC_R_gwfa for subject A00038605\n",
      "  - Tract IPL_R_gwfa_vPMC_L_gwfa not found. Skipping.\n"
     ]
    },
    {
     "name": "stdout",
     "output_type": "stream",
     "text": [
      "  Finished tract IPL_R_gwfa_vPMC_R_gwfa for subject A00038605\n",
      "  Finished tract IPS_L_gwfa_IPS_R_gwfa for subject A00038605\n",
      "  Finished tract IPS_L_gwfa_SPL_L_gwfa for subject A00038605\n",
      "  Finished tract IPS_L_gwfa_SPL_R_gwfa for subject A00038605\n",
      "  Finished tract IPS_L_gwfa_dPMC_L_gwfa for subject A00038605\n",
      "  Finished tract IPS_L_gwfa_dPMC_R_gwfa for subject A00038605\n",
      "  Finished tract IPS_L_gwfa_vPMC_L_gwfa for subject A00038605\n",
      "  Finished tract IPS_L_gwfa_vPMC_R_gwfa for subject A00038605\n",
      "  Finished tract IPS_R_gwfa_SPL_L_gwfa for subject A00038605\n",
      "  Finished tract IPS_R_gwfa_SPL_R_gwfa for subject A00038605\n",
      "  - Tract IPS_R_gwfa_dPMC_L_gwfa not found. Skipping.\n",
      "  Finished tract IPS_R_gwfa_dPMC_R_gwfa for subject A00038605\n",
      "  - Tract IPS_R_gwfa_vPMC_L_gwfa not found. Skipping.\n",
      "  Finished tract IPS_R_gwfa_vPMC_R_gwfa for subject A00038605\n",
      "  Finished tract SPL_L_gwfa_SPL_R_gwfa for subject A00038605\n",
      "  Finished tract SPL_L_gwfa_dPMC_L_gwfa for subject A00038605\n",
      "  Finished tract SPL_L_gwfa_dPMC_R_gwfa for subject A00038605\n",
      "  Finished tract SPL_L_gwfa_vPMC_L_gwfa for subject A00038605\n",
      "  - Tract SPL_L_gwfa_vPMC_R_gwfa not found. Skipping.\n",
      "  Finished tract SPL_R_gwfa_dPMC_L_gwfa for subject A00038605\n",
      "  Finished tract SPL_R_gwfa_dPMC_R_gwfa for subject A00038605\n",
      "  Finished tract SPL_R_gwfa_vPMC_L_gwfa for subject A00038605\n",
      "  Finished tract SPL_R_gwfa_vPMC_R_gwfa for subject A00038605\n",
      "  Finished tract dPMC_L_gwfa_dPMC_R_gwfa for subject A00038605\n",
      "  Finished tract dPMC_L_gwfa_vPMC_L_gwfa for subject A00038605\n",
      "  Finished tract dPMC_L_gwfa_vPMC_R_gwfa for subject A00038605\n",
      "  Finished tract dPMC_R_gwfa_vPMC_L_gwfa for subject A00038605\n",
      "  Finished tract dPMC_R_gwfa_vPMC_R_gwfa for subject A00038605\n",
      "  Finished tract vPMC_L_gwfa_vPMC_R_gwfa for subject A00038605\n",
      "Successfully processed subject A00038605.\n",
      "Starting processing of subject A00038623.\n",
      "  Finished tract IPL_L_gwfa_IPL_R_gwfa for subject A00038623\n",
      "  Finished tract IPL_L_gwfa_IPS_L_gwfa for subject A00038623\n",
      "  Finished tract IPL_L_gwfa_IPS_R_gwfa for subject A00038623\n",
      "  Finished tract IPL_L_gwfa_SPL_L_gwfa for subject A00038623\n",
      "  Finished tract IPL_L_gwfa_SPL_R_gwfa for subject A00038623\n",
      "  Finished tract IPL_L_gwfa_dPMC_L_gwfa for subject A00038623\n",
      "  - Tract IPL_L_gwfa_dPMC_R_gwfa not found. Skipping.\n",
      "  Finished tract IPL_L_gwfa_vPMC_L_gwfa for subject A00038623\n",
      "  Finished tract IPL_L_gwfa_vPMC_R_gwfa for subject A00038623\n",
      "  Finished tract IPL_R_gwfa_IPS_L_gwfa for subject A00038623\n",
      "  Finished tract IPL_R_gwfa_IPS_R_gwfa for subject A00038623\n",
      "  Finished tract IPL_R_gwfa_SPL_L_gwfa for subject A00038623\n",
      "  Finished tract IPL_R_gwfa_SPL_R_gwfa for subject A00038623\n",
      "  - Tract IPL_R_gwfa_dPMC_L_gwfa not found. Skipping.\n",
      "  Finished tract IPL_R_gwfa_dPMC_R_gwfa for subject A00038623\n",
      "  - Tract IPL_R_gwfa_vPMC_L_gwfa not found. Skipping.\n",
      "  Finished tract IPL_R_gwfa_vPMC_R_gwfa for subject A00038623\n",
      "  Finished tract IPS_L_gwfa_IPS_R_gwfa for subject A00038623\n",
      "  Finished tract IPS_L_gwfa_SPL_L_gwfa for subject A00038623\n",
      "  Finished tract IPS_L_gwfa_SPL_R_gwfa for subject A00038623\n",
      "  Finished tract IPS_L_gwfa_dPMC_L_gwfa for subject A00038623\n",
      "  Finished tract IPS_L_gwfa_dPMC_R_gwfa for subject A00038623\n",
      "  Finished tract IPS_L_gwfa_vPMC_L_gwfa for subject A00038623\n",
      "  Finished tract IPS_L_gwfa_vPMC_R_gwfa for subject A00038623\n",
      "  Finished tract IPS_R_gwfa_SPL_L_gwfa for subject A00038623\n",
      "  Finished tract IPS_R_gwfa_SPL_R_gwfa for subject A00038623\n",
      "  - Tract IPS_R_gwfa_dPMC_L_gwfa not found. Skipping.\n",
      "  Finished tract IPS_R_gwfa_dPMC_R_gwfa for subject A00038623\n",
      "  - Tract IPS_R_gwfa_vPMC_L_gwfa not found. Skipping.\n",
      "  Finished tract IPS_R_gwfa_vPMC_R_gwfa for subject A00038623\n",
      "  Finished tract SPL_L_gwfa_SPL_R_gwfa for subject A00038623\n",
      "  Finished tract SPL_L_gwfa_dPMC_L_gwfa for subject A00038623\n",
      "  Finished tract SPL_L_gwfa_dPMC_R_gwfa for subject A00038623\n",
      "  Finished tract SPL_L_gwfa_vPMC_L_gwfa for subject A00038623\n",
      "  - Tract SPL_L_gwfa_vPMC_R_gwfa not found. Skipping.\n",
      "  Finished tract SPL_R_gwfa_dPMC_L_gwfa for subject A00038623\n",
      "  Finished tract SPL_R_gwfa_dPMC_R_gwfa for subject A00038623\n",
      "  Finished tract SPL_R_gwfa_vPMC_L_gwfa for subject A00038623\n",
      "  Finished tract SPL_R_gwfa_vPMC_R_gwfa for subject A00038623\n",
      "  Finished tract dPMC_L_gwfa_dPMC_R_gwfa for subject A00038623\n",
      "  Finished tract dPMC_L_gwfa_vPMC_L_gwfa for subject A00038623\n",
      "  Finished tract dPMC_L_gwfa_vPMC_R_gwfa for subject A00038623\n",
      "  Finished tract dPMC_R_gwfa_vPMC_L_gwfa for subject A00038623\n",
      "  Finished tract dPMC_R_gwfa_vPMC_R_gwfa for subject A00038623\n",
      "  Finished tract vPMC_L_gwfa_vPMC_R_gwfa for subject A00038623\n",
      "Successfully processed subject A00038623.\n",
      "Starting processing of subject A00038731.\n",
      "  Finished tract IPL_L_gwfa_IPL_R_gwfa for subject A00038731\n",
      "  Finished tract IPL_L_gwfa_IPS_L_gwfa for subject A00038731\n",
      "  Finished tract IPL_L_gwfa_IPS_R_gwfa for subject A00038731\n",
      "  Finished tract IPL_L_gwfa_SPL_L_gwfa for subject A00038731\n",
      "  Finished tract IPL_L_gwfa_SPL_R_gwfa for subject A00038731\n",
      "  Finished tract IPL_L_gwfa_dPMC_L_gwfa for subject A00038731\n",
      "  - Tract IPL_L_gwfa_dPMC_R_gwfa not found. Skipping.\n",
      "  Finished tract IPL_L_gwfa_vPMC_L_gwfa for subject A00038731\n",
      "  Finished tract IPL_L_gwfa_vPMC_R_gwfa for subject A00038731\n",
      "  Finished tract IPL_R_gwfa_IPS_L_gwfa for subject A00038731\n",
      "  Finished tract IPL_R_gwfa_IPS_R_gwfa for subject A00038731\n",
      "  Finished tract IPL_R_gwfa_SPL_L_gwfa for subject A00038731\n",
      "  Finished tract IPL_R_gwfa_SPL_R_gwfa for subject A00038731\n",
      "  - Tract IPL_R_gwfa_dPMC_L_gwfa not found. Skipping.\n",
      "  Finished tract IPL_R_gwfa_dPMC_R_gwfa for subject A00038731\n",
      "  - Tract IPL_R_gwfa_vPMC_L_gwfa not found. Skipping.\n",
      "  Finished tract IPL_R_gwfa_vPMC_R_gwfa for subject A00038731\n",
      "  Finished tract IPS_L_gwfa_IPS_R_gwfa for subject A00038731\n",
      "  Finished tract IPS_L_gwfa_SPL_L_gwfa for subject A00038731\n",
      "  Finished tract IPS_L_gwfa_SPL_R_gwfa for subject A00038731\n",
      "  Finished tract IPS_L_gwfa_dPMC_L_gwfa for subject A00038731\n",
      "  Finished tract IPS_L_gwfa_dPMC_R_gwfa for subject A00038731\n",
      "  Finished tract IPS_L_gwfa_vPMC_L_gwfa for subject A00038731\n",
      "  Finished tract IPS_L_gwfa_vPMC_R_gwfa for subject A00038731\n",
      "  Finished tract IPS_R_gwfa_SPL_L_gwfa for subject A00038731\n",
      "  Finished tract IPS_R_gwfa_SPL_R_gwfa for subject A00038731\n",
      "  - Tract IPS_R_gwfa_dPMC_L_gwfa not found. Skipping.\n",
      "  Finished tract IPS_R_gwfa_dPMC_R_gwfa for subject A00038731\n",
      "  - Tract IPS_R_gwfa_vPMC_L_gwfa not found. Skipping.\n",
      "  Finished tract IPS_R_gwfa_vPMC_R_gwfa for subject A00038731\n",
      "  Finished tract SPL_L_gwfa_SPL_R_gwfa for subject A00038731\n",
      "  Finished tract SPL_L_gwfa_dPMC_L_gwfa for subject A00038731\n",
      "  Finished tract SPL_L_gwfa_dPMC_R_gwfa for subject A00038731\n",
      "  Finished tract SPL_L_gwfa_vPMC_L_gwfa for subject A00038731\n",
      "  - Tract SPL_L_gwfa_vPMC_R_gwfa not found. Skipping.\n",
      "  Finished tract SPL_R_gwfa_dPMC_L_gwfa for subject A00038731\n",
      "  Finished tract SPL_R_gwfa_dPMC_R_gwfa for subject A00038731\n",
      "  Finished tract SPL_R_gwfa_vPMC_L_gwfa for subject A00038731\n",
      "  Finished tract SPL_R_gwfa_vPMC_R_gwfa for subject A00038731\n",
      "  Finished tract dPMC_L_gwfa_dPMC_R_gwfa for subject A00038731\n",
      "  Finished tract dPMC_L_gwfa_vPMC_L_gwfa for subject A00038731\n",
      "  Finished tract dPMC_L_gwfa_vPMC_R_gwfa for subject A00038731\n",
      "  Finished tract dPMC_R_gwfa_vPMC_L_gwfa for subject A00038731\n",
      "  Finished tract dPMC_R_gwfa_vPMC_R_gwfa for subject A00038731\n",
      "  Finished tract vPMC_L_gwfa_vPMC_R_gwfa for subject A00038731\n",
      "Successfully processed subject A00038731.\n",
      "Starting processing of subject A00038805.\n",
      "  Finished tract IPL_L_gwfa_IPL_R_gwfa for subject A00038805\n",
      "  Finished tract IPL_L_gwfa_IPS_L_gwfa for subject A00038805\n",
      "  Finished tract IPL_L_gwfa_IPS_R_gwfa for subject A00038805\n",
      "  Finished tract IPL_L_gwfa_SPL_L_gwfa for subject A00038805\n",
      "  Finished tract IPL_L_gwfa_SPL_R_gwfa for subject A00038805\n",
      "  Finished tract IPL_L_gwfa_dPMC_L_gwfa for subject A00038805\n",
      "  - Tract IPL_L_gwfa_dPMC_R_gwfa not found. Skipping.\n",
      "  Finished tract IPL_L_gwfa_vPMC_L_gwfa for subject A00038805\n",
      "  Finished tract IPL_L_gwfa_vPMC_R_gwfa for subject A00038805\n",
      "  Finished tract IPL_R_gwfa_IPS_L_gwfa for subject A00038805\n",
      "  Finished tract IPL_R_gwfa_IPS_R_gwfa for subject A00038805\n",
      "  Finished tract IPL_R_gwfa_SPL_L_gwfa for subject A00038805\n"
     ]
    },
    {
     "name": "stdout",
     "output_type": "stream",
     "text": [
      "  Finished tract IPL_R_gwfa_SPL_R_gwfa for subject A00038805\n",
      "  - Tract IPL_R_gwfa_dPMC_L_gwfa not found. Skipping.\n",
      "  Finished tract IPL_R_gwfa_dPMC_R_gwfa for subject A00038805\n",
      "  - Tract IPL_R_gwfa_vPMC_L_gwfa not found. Skipping.\n",
      "  Finished tract IPL_R_gwfa_vPMC_R_gwfa for subject A00038805\n",
      "  Finished tract IPS_L_gwfa_IPS_R_gwfa for subject A00038805\n",
      "  Finished tract IPS_L_gwfa_SPL_L_gwfa for subject A00038805\n",
      "  Finished tract IPS_L_gwfa_SPL_R_gwfa for subject A00038805\n",
      "  Finished tract IPS_L_gwfa_dPMC_L_gwfa for subject A00038805\n",
      "  Finished tract IPS_L_gwfa_dPMC_R_gwfa for subject A00038805\n",
      "  Finished tract IPS_L_gwfa_vPMC_L_gwfa for subject A00038805\n",
      "  Finished tract IPS_L_gwfa_vPMC_R_gwfa for subject A00038805\n",
      "  Finished tract IPS_R_gwfa_SPL_L_gwfa for subject A00038805\n",
      "  Finished tract IPS_R_gwfa_SPL_R_gwfa for subject A00038805\n",
      "  - Tract IPS_R_gwfa_dPMC_L_gwfa not found. Skipping.\n",
      "  Finished tract IPS_R_gwfa_dPMC_R_gwfa for subject A00038805\n",
      "  - Tract IPS_R_gwfa_vPMC_L_gwfa not found. Skipping.\n",
      "  Finished tract IPS_R_gwfa_vPMC_R_gwfa for subject A00038805\n",
      "  Finished tract SPL_L_gwfa_SPL_R_gwfa for subject A00038805\n",
      "  Finished tract SPL_L_gwfa_dPMC_L_gwfa for subject A00038805\n",
      "  Finished tract SPL_L_gwfa_dPMC_R_gwfa for subject A00038805\n",
      "  Finished tract SPL_L_gwfa_vPMC_L_gwfa for subject A00038805\n",
      "  - Tract SPL_L_gwfa_vPMC_R_gwfa not found. Skipping.\n",
      "  Finished tract SPL_R_gwfa_dPMC_L_gwfa for subject A00038805\n",
      "  Finished tract SPL_R_gwfa_dPMC_R_gwfa for subject A00038805\n",
      "  Finished tract SPL_R_gwfa_vPMC_L_gwfa for subject A00038805\n",
      "  Finished tract SPL_R_gwfa_vPMC_R_gwfa for subject A00038805\n",
      "  Finished tract dPMC_L_gwfa_dPMC_R_gwfa for subject A00038805\n",
      "  Finished tract dPMC_L_gwfa_vPMC_L_gwfa for subject A00038805\n",
      "  Finished tract dPMC_L_gwfa_vPMC_R_gwfa for subject A00038805\n",
      "  Finished tract dPMC_R_gwfa_vPMC_L_gwfa for subject A00038805\n",
      "  Finished tract dPMC_R_gwfa_vPMC_R_gwfa for subject A00038805\n",
      "  Finished tract vPMC_L_gwfa_vPMC_R_gwfa for subject A00038805\n",
      "Successfully processed subject A00038805.\n",
      "Starting processing of subject A00038817.\n",
      "  Finished tract IPL_L_gwfa_IPL_R_gwfa for subject A00038817\n",
      "  Finished tract IPL_L_gwfa_IPS_L_gwfa for subject A00038817\n",
      "  Finished tract IPL_L_gwfa_IPS_R_gwfa for subject A00038817\n",
      "  Finished tract IPL_L_gwfa_SPL_L_gwfa for subject A00038817\n",
      "  Finished tract IPL_L_gwfa_SPL_R_gwfa for subject A00038817\n",
      "  Finished tract IPL_L_gwfa_dPMC_L_gwfa for subject A00038817\n",
      "  - Tract IPL_L_gwfa_dPMC_R_gwfa not found. Skipping.\n",
      "  Finished tract IPL_L_gwfa_vPMC_L_gwfa for subject A00038817\n",
      "  Finished tract IPL_L_gwfa_vPMC_R_gwfa for subject A00038817\n",
      "  Finished tract IPL_R_gwfa_IPS_L_gwfa for subject A00038817\n",
      "  Finished tract IPL_R_gwfa_IPS_R_gwfa for subject A00038817\n",
      "  Finished tract IPL_R_gwfa_SPL_L_gwfa for subject A00038817\n",
      "  Finished tract IPL_R_gwfa_SPL_R_gwfa for subject A00038817\n",
      "  - Tract IPL_R_gwfa_dPMC_L_gwfa not found. Skipping.\n",
      "  Finished tract IPL_R_gwfa_dPMC_R_gwfa for subject A00038817\n",
      "  - Tract IPL_R_gwfa_vPMC_L_gwfa not found. Skipping.\n",
      "  Finished tract IPL_R_gwfa_vPMC_R_gwfa for subject A00038817\n",
      "  Finished tract IPS_L_gwfa_IPS_R_gwfa for subject A00038817\n",
      "  Finished tract IPS_L_gwfa_SPL_L_gwfa for subject A00038817\n",
      "  Finished tract IPS_L_gwfa_SPL_R_gwfa for subject A00038817\n",
      "  Finished tract IPS_L_gwfa_dPMC_L_gwfa for subject A00038817\n",
      "  Finished tract IPS_L_gwfa_dPMC_R_gwfa for subject A00038817\n",
      "  Finished tract IPS_L_gwfa_vPMC_L_gwfa for subject A00038817\n",
      "  Finished tract IPS_L_gwfa_vPMC_R_gwfa for subject A00038817\n",
      "  Finished tract IPS_R_gwfa_SPL_L_gwfa for subject A00038817\n",
      "  Finished tract IPS_R_gwfa_SPL_R_gwfa for subject A00038817\n",
      "  - Tract IPS_R_gwfa_dPMC_L_gwfa not found. Skipping.\n",
      "  Finished tract IPS_R_gwfa_dPMC_R_gwfa for subject A00038817\n",
      "  - Tract IPS_R_gwfa_vPMC_L_gwfa not found. Skipping.\n",
      "  Finished tract IPS_R_gwfa_vPMC_R_gwfa for subject A00038817\n",
      "  Finished tract SPL_L_gwfa_SPL_R_gwfa for subject A00038817\n",
      "  Finished tract SPL_L_gwfa_dPMC_L_gwfa for subject A00038817\n",
      "  Finished tract SPL_L_gwfa_dPMC_R_gwfa for subject A00038817\n",
      "  Finished tract SPL_L_gwfa_vPMC_L_gwfa for subject A00038817\n",
      "  - Tract SPL_L_gwfa_vPMC_R_gwfa not found. Skipping.\n",
      "  Finished tract SPL_R_gwfa_dPMC_L_gwfa for subject A00038817\n",
      "  Finished tract SPL_R_gwfa_dPMC_R_gwfa for subject A00038817\n",
      "  Finished tract SPL_R_gwfa_vPMC_L_gwfa for subject A00038817\n",
      "  Finished tract SPL_R_gwfa_vPMC_R_gwfa for subject A00038817\n",
      "  Finished tract dPMC_L_gwfa_dPMC_R_gwfa for subject A00038817\n",
      "  Finished tract dPMC_L_gwfa_vPMC_L_gwfa for subject A00038817\n",
      "  Finished tract dPMC_L_gwfa_vPMC_R_gwfa for subject A00038817\n",
      "  Finished tract dPMC_R_gwfa_vPMC_L_gwfa for subject A00038817\n",
      "  Finished tract dPMC_R_gwfa_vPMC_R_gwfa for subject A00038817\n",
      "  Finished tract vPMC_L_gwfa_vPMC_R_gwfa for subject A00038817\n",
      "Successfully processed subject A00038817.\n",
      "Starting processing of subject A00038959.\n",
      "  Finished tract IPL_L_gwfa_IPL_R_gwfa for subject A00038959\n",
      "  Finished tract IPL_L_gwfa_IPS_L_gwfa for subject A00038959\n",
      "  Finished tract IPL_L_gwfa_IPS_R_gwfa for subject A00038959\n",
      "  Finished tract IPL_L_gwfa_SPL_L_gwfa for subject A00038959\n",
      "  Finished tract IPL_L_gwfa_SPL_R_gwfa for subject A00038959\n",
      "  Finished tract IPL_L_gwfa_dPMC_L_gwfa for subject A00038959\n",
      "  - Tract IPL_L_gwfa_dPMC_R_gwfa not found. Skipping.\n",
      "  Finished tract IPL_L_gwfa_vPMC_L_gwfa for subject A00038959\n",
      "  Finished tract IPL_L_gwfa_vPMC_R_gwfa for subject A00038959\n",
      "  Finished tract IPL_R_gwfa_IPS_L_gwfa for subject A00038959\n",
      "  Finished tract IPL_R_gwfa_IPS_R_gwfa for subject A00038959\n",
      "  Finished tract IPL_R_gwfa_SPL_L_gwfa for subject A00038959\n",
      "  Finished tract IPL_R_gwfa_SPL_R_gwfa for subject A00038959\n",
      "  - Tract IPL_R_gwfa_dPMC_L_gwfa not found. Skipping.\n",
      "  Finished tract IPL_R_gwfa_dPMC_R_gwfa for subject A00038959\n",
      "  - Tract IPL_R_gwfa_vPMC_L_gwfa not found. Skipping.\n",
      "  Finished tract IPL_R_gwfa_vPMC_R_gwfa for subject A00038959\n",
      "  Finished tract IPS_L_gwfa_IPS_R_gwfa for subject A00038959\n",
      "  Finished tract IPS_L_gwfa_SPL_L_gwfa for subject A00038959\n",
      "  Finished tract IPS_L_gwfa_SPL_R_gwfa for subject A00038959\n",
      "  Finished tract IPS_L_gwfa_dPMC_L_gwfa for subject A00038959\n",
      "  Finished tract IPS_L_gwfa_dPMC_R_gwfa for subject A00038959\n",
      "  Finished tract IPS_L_gwfa_vPMC_L_gwfa for subject A00038959\n",
      "  Finished tract IPS_L_gwfa_vPMC_R_gwfa for subject A00038959\n",
      "  Finished tract IPS_R_gwfa_SPL_L_gwfa for subject A00038959\n",
      "  Finished tract IPS_R_gwfa_SPL_R_gwfa for subject A00038959\n",
      "  - Tract IPS_R_gwfa_dPMC_L_gwfa not found. Skipping.\n",
      "  Finished tract IPS_R_gwfa_dPMC_R_gwfa for subject A00038959\n",
      "  - Tract IPS_R_gwfa_vPMC_L_gwfa not found. Skipping.\n",
      "  Finished tract IPS_R_gwfa_vPMC_R_gwfa for subject A00038959\n",
      "  Finished tract SPL_L_gwfa_SPL_R_gwfa for subject A00038959\n",
      "  Finished tract SPL_L_gwfa_dPMC_L_gwfa for subject A00038959\n",
      "  Finished tract SPL_L_gwfa_dPMC_R_gwfa for subject A00038959\n",
      "  Finished tract SPL_L_gwfa_vPMC_L_gwfa for subject A00038959\n",
      "  - Tract SPL_L_gwfa_vPMC_R_gwfa not found. Skipping.\n",
      "  Finished tract SPL_R_gwfa_dPMC_L_gwfa for subject A00038959\n",
      "  Finished tract SPL_R_gwfa_dPMC_R_gwfa for subject A00038959\n",
      "  Finished tract SPL_R_gwfa_vPMC_L_gwfa for subject A00038959\n",
      "  Finished tract SPL_R_gwfa_vPMC_R_gwfa for subject A00038959\n",
      "  Finished tract dPMC_L_gwfa_dPMC_R_gwfa for subject A00038959\n",
      "  Finished tract dPMC_L_gwfa_vPMC_L_gwfa for subject A00038959\n",
      "  Finished tract dPMC_L_gwfa_vPMC_R_gwfa for subject A00038959\n",
      "  Finished tract dPMC_R_gwfa_vPMC_L_gwfa for subject A00038959\n",
      "  Finished tract dPMC_R_gwfa_vPMC_R_gwfa for subject A00038959\n",
      "  Finished tract vPMC_L_gwfa_vPMC_R_gwfa for subject A00038959\n",
      "Successfully processed subject A00038959.\n",
      "Starting processing of subject A00039041.\n",
      "  Finished tract IPL_L_gwfa_IPL_R_gwfa for subject A00039041\n",
      "  Finished tract IPL_L_gwfa_IPS_L_gwfa for subject A00039041\n",
      "  Finished tract IPL_L_gwfa_IPS_R_gwfa for subject A00039041\n",
      "  Finished tract IPL_L_gwfa_SPL_L_gwfa for subject A00039041\n",
      "  Finished tract IPL_L_gwfa_SPL_R_gwfa for subject A00039041\n",
      "  Finished tract IPL_L_gwfa_dPMC_L_gwfa for subject A00039041\n",
      "  - Tract IPL_L_gwfa_dPMC_R_gwfa not found. Skipping.\n",
      "  Finished tract IPL_L_gwfa_vPMC_L_gwfa for subject A00039041\n"
     ]
    },
    {
     "name": "stdout",
     "output_type": "stream",
     "text": [
      "  Finished tract IPL_L_gwfa_vPMC_R_gwfa for subject A00039041\n",
      "  Finished tract IPL_R_gwfa_IPS_L_gwfa for subject A00039041\n",
      "  Finished tract IPL_R_gwfa_IPS_R_gwfa for subject A00039041\n",
      "  Finished tract IPL_R_gwfa_SPL_L_gwfa for subject A00039041\n",
      "  Finished tract IPL_R_gwfa_SPL_R_gwfa for subject A00039041\n",
      "  - Tract IPL_R_gwfa_dPMC_L_gwfa not found. Skipping.\n",
      "  Finished tract IPL_R_gwfa_dPMC_R_gwfa for subject A00039041\n",
      "  - Tract IPL_R_gwfa_vPMC_L_gwfa not found. Skipping.\n",
      "  Finished tract IPL_R_gwfa_vPMC_R_gwfa for subject A00039041\n",
      "  Finished tract IPS_L_gwfa_IPS_R_gwfa for subject A00039041\n",
      "  Finished tract IPS_L_gwfa_SPL_L_gwfa for subject A00039041\n",
      "  Finished tract IPS_L_gwfa_SPL_R_gwfa for subject A00039041\n",
      "  Finished tract IPS_L_gwfa_dPMC_L_gwfa for subject A00039041\n",
      "  Finished tract IPS_L_gwfa_dPMC_R_gwfa for subject A00039041\n",
      "  Finished tract IPS_L_gwfa_vPMC_L_gwfa for subject A00039041\n",
      "  Finished tract IPS_L_gwfa_vPMC_R_gwfa for subject A00039041\n",
      "  Finished tract IPS_R_gwfa_SPL_L_gwfa for subject A00039041\n",
      "  Finished tract IPS_R_gwfa_SPL_R_gwfa for subject A00039041\n",
      "  - Tract IPS_R_gwfa_dPMC_L_gwfa not found. Skipping.\n",
      "  Finished tract IPS_R_gwfa_dPMC_R_gwfa for subject A00039041\n",
      "  - Tract IPS_R_gwfa_vPMC_L_gwfa not found. Skipping.\n",
      "  Finished tract IPS_R_gwfa_vPMC_R_gwfa for subject A00039041\n",
      "  Finished tract SPL_L_gwfa_SPL_R_gwfa for subject A00039041\n",
      "  Finished tract SPL_L_gwfa_dPMC_L_gwfa for subject A00039041\n",
      "  Finished tract SPL_L_gwfa_dPMC_R_gwfa for subject A00039041\n",
      "  Finished tract SPL_L_gwfa_vPMC_L_gwfa for subject A00039041\n",
      "  - Tract SPL_L_gwfa_vPMC_R_gwfa not found. Skipping.\n",
      "  Finished tract SPL_R_gwfa_dPMC_L_gwfa for subject A00039041\n",
      "  Finished tract SPL_R_gwfa_dPMC_R_gwfa for subject A00039041\n",
      "  Finished tract SPL_R_gwfa_vPMC_L_gwfa for subject A00039041\n",
      "  Finished tract SPL_R_gwfa_vPMC_R_gwfa for subject A00039041\n",
      "  Finished tract dPMC_L_gwfa_dPMC_R_gwfa for subject A00039041\n",
      "  Finished tract dPMC_L_gwfa_vPMC_L_gwfa for subject A00039041\n",
      "  Finished tract dPMC_L_gwfa_vPMC_R_gwfa for subject A00039041\n",
      "  Finished tract dPMC_R_gwfa_vPMC_L_gwfa for subject A00039041\n",
      "  Finished tract dPMC_R_gwfa_vPMC_R_gwfa for subject A00039041\n",
      "  Finished tract vPMC_L_gwfa_vPMC_R_gwfa for subject A00039041\n",
      "Successfully processed subject A00039041.\n",
      "Starting processing of subject A00039083.\n",
      "  Finished tract IPL_L_gwfa_IPL_R_gwfa for subject A00039083\n",
      "  Finished tract IPL_L_gwfa_IPS_L_gwfa for subject A00039083\n",
      "  Finished tract IPL_L_gwfa_IPS_R_gwfa for subject A00039083\n",
      "  Finished tract IPL_L_gwfa_SPL_L_gwfa for subject A00039083\n",
      "  Finished tract IPL_L_gwfa_SPL_R_gwfa for subject A00039083\n",
      "  Finished tract IPL_L_gwfa_dPMC_L_gwfa for subject A00039083\n",
      "  - Tract IPL_L_gwfa_dPMC_R_gwfa not found. Skipping.\n",
      "  Finished tract IPL_L_gwfa_vPMC_L_gwfa for subject A00039083\n",
      "  Finished tract IPL_L_gwfa_vPMC_R_gwfa for subject A00039083\n",
      "  Finished tract IPL_R_gwfa_IPS_L_gwfa for subject A00039083\n",
      "  Finished tract IPL_R_gwfa_IPS_R_gwfa for subject A00039083\n",
      "  Finished tract IPL_R_gwfa_SPL_L_gwfa for subject A00039083\n",
      "  Finished tract IPL_R_gwfa_SPL_R_gwfa for subject A00039083\n",
      "  - Tract IPL_R_gwfa_dPMC_L_gwfa not found. Skipping.\n",
      "  Finished tract IPL_R_gwfa_dPMC_R_gwfa for subject A00039083\n",
      "  - Tract IPL_R_gwfa_vPMC_L_gwfa not found. Skipping.\n",
      "  Finished tract IPL_R_gwfa_vPMC_R_gwfa for subject A00039083\n",
      "  Finished tract IPS_L_gwfa_IPS_R_gwfa for subject A00039083\n",
      "  Finished tract IPS_L_gwfa_SPL_L_gwfa for subject A00039083\n",
      "  Finished tract IPS_L_gwfa_SPL_R_gwfa for subject A00039083\n",
      "  Finished tract IPS_L_gwfa_dPMC_L_gwfa for subject A00039083\n",
      "  Finished tract IPS_L_gwfa_dPMC_R_gwfa for subject A00039083\n",
      "  Finished tract IPS_L_gwfa_vPMC_L_gwfa for subject A00039083\n",
      "  Finished tract IPS_L_gwfa_vPMC_R_gwfa for subject A00039083\n",
      "  Finished tract IPS_R_gwfa_SPL_L_gwfa for subject A00039083\n",
      "  Finished tract IPS_R_gwfa_SPL_R_gwfa for subject A00039083\n",
      "  - Tract IPS_R_gwfa_dPMC_L_gwfa not found. Skipping.\n",
      "  Finished tract IPS_R_gwfa_dPMC_R_gwfa for subject A00039083\n",
      "  - Tract IPS_R_gwfa_vPMC_L_gwfa not found. Skipping.\n",
      "  Finished tract IPS_R_gwfa_vPMC_R_gwfa for subject A00039083\n",
      "  Finished tract SPL_L_gwfa_SPL_R_gwfa for subject A00039083\n",
      "  Finished tract SPL_L_gwfa_dPMC_L_gwfa for subject A00039083\n",
      "  Finished tract SPL_L_gwfa_dPMC_R_gwfa for subject A00039083\n",
      "  Finished tract SPL_L_gwfa_vPMC_L_gwfa for subject A00039083\n",
      "  - Tract SPL_L_gwfa_vPMC_R_gwfa not found. Skipping.\n",
      "  Finished tract SPL_R_gwfa_dPMC_L_gwfa for subject A00039083\n",
      "  Finished tract SPL_R_gwfa_dPMC_R_gwfa for subject A00039083\n",
      "  Finished tract SPL_R_gwfa_vPMC_L_gwfa for subject A00039083\n",
      "  Finished tract SPL_R_gwfa_vPMC_R_gwfa for subject A00039083\n",
      "  Finished tract dPMC_L_gwfa_dPMC_R_gwfa for subject A00039083\n",
      "  Finished tract dPMC_L_gwfa_vPMC_L_gwfa for subject A00039083\n",
      "  Finished tract dPMC_L_gwfa_vPMC_R_gwfa for subject A00039083\n",
      "  Finished tract dPMC_R_gwfa_vPMC_L_gwfa for subject A00039083\n",
      "  Finished tract dPMC_R_gwfa_vPMC_R_gwfa for subject A00039083\n",
      "  Finished tract vPMC_L_gwfa_vPMC_R_gwfa for subject A00039083\n",
      "Successfully processed subject A00039083.\n",
      "Starting processing of subject A00039159.\n",
      "  Finished tract IPL_L_gwfa_IPL_R_gwfa for subject A00039159\n",
      "  Finished tract IPL_L_gwfa_IPS_L_gwfa for subject A00039159\n",
      "  Finished tract IPL_L_gwfa_IPS_R_gwfa for subject A00039159\n",
      "  Finished tract IPL_L_gwfa_SPL_L_gwfa for subject A00039159\n",
      "  Finished tract IPL_L_gwfa_SPL_R_gwfa for subject A00039159\n",
      "  Finished tract IPL_L_gwfa_dPMC_L_gwfa for subject A00039159\n",
      "  - Tract IPL_L_gwfa_dPMC_R_gwfa not found. Skipping.\n",
      "  Finished tract IPL_L_gwfa_vPMC_L_gwfa for subject A00039159\n",
      "  Finished tract IPL_L_gwfa_vPMC_R_gwfa for subject A00039159\n",
      "  Finished tract IPL_R_gwfa_IPS_L_gwfa for subject A00039159\n",
      "  Finished tract IPL_R_gwfa_IPS_R_gwfa for subject A00039159\n",
      "  Finished tract IPL_R_gwfa_SPL_L_gwfa for subject A00039159\n",
      "  Finished tract IPL_R_gwfa_SPL_R_gwfa for subject A00039159\n",
      "  - Tract IPL_R_gwfa_dPMC_L_gwfa not found. Skipping.\n",
      "  Finished tract IPL_R_gwfa_dPMC_R_gwfa for subject A00039159\n",
      "  - Tract IPL_R_gwfa_vPMC_L_gwfa not found. Skipping.\n",
      "  Finished tract IPL_R_gwfa_vPMC_R_gwfa for subject A00039159\n",
      "  Finished tract IPS_L_gwfa_IPS_R_gwfa for subject A00039159\n",
      "  Finished tract IPS_L_gwfa_SPL_L_gwfa for subject A00039159\n",
      "  Finished tract IPS_L_gwfa_SPL_R_gwfa for subject A00039159\n",
      "  Finished tract IPS_L_gwfa_dPMC_L_gwfa for subject A00039159\n",
      "  Finished tract IPS_L_gwfa_dPMC_R_gwfa for subject A00039159\n",
      "  Finished tract IPS_L_gwfa_vPMC_L_gwfa for subject A00039159\n",
      "  Finished tract IPS_L_gwfa_vPMC_R_gwfa for subject A00039159\n",
      "  Finished tract IPS_R_gwfa_SPL_L_gwfa for subject A00039159\n",
      "  Finished tract IPS_R_gwfa_SPL_R_gwfa for subject A00039159\n",
      "  - Tract IPS_R_gwfa_dPMC_L_gwfa not found. Skipping.\n",
      "  Finished tract IPS_R_gwfa_dPMC_R_gwfa for subject A00039159\n",
      "  - Tract IPS_R_gwfa_vPMC_L_gwfa not found. Skipping.\n",
      "  Finished tract IPS_R_gwfa_vPMC_R_gwfa for subject A00039159\n",
      "  Finished tract SPL_L_gwfa_SPL_R_gwfa for subject A00039159\n",
      "  Finished tract SPL_L_gwfa_dPMC_L_gwfa for subject A00039159\n",
      "  Finished tract SPL_L_gwfa_dPMC_R_gwfa for subject A00039159\n",
      "  Finished tract SPL_L_gwfa_vPMC_L_gwfa for subject A00039159\n",
      "  - Tract SPL_L_gwfa_vPMC_R_gwfa not found. Skipping.\n",
      "  Finished tract SPL_R_gwfa_dPMC_L_gwfa for subject A00039159\n",
      "  Finished tract SPL_R_gwfa_dPMC_R_gwfa for subject A00039159\n",
      "  Finished tract SPL_R_gwfa_vPMC_L_gwfa for subject A00039159\n",
      "  Finished tract SPL_R_gwfa_vPMC_R_gwfa for subject A00039159\n",
      "  Finished tract dPMC_L_gwfa_dPMC_R_gwfa for subject A00039159\n",
      "  Finished tract dPMC_L_gwfa_vPMC_L_gwfa for subject A00039159\n",
      "  Finished tract dPMC_L_gwfa_vPMC_R_gwfa for subject A00039159\n",
      "  Finished tract dPMC_R_gwfa_vPMC_L_gwfa for subject A00039159\n",
      "  Finished tract dPMC_R_gwfa_vPMC_R_gwfa for subject A00039159\n",
      "  Finished tract vPMC_L_gwfa_vPMC_R_gwfa for subject A00039159\n",
      "Successfully processed subject A00039159.\n",
      "Starting processing of subject A00039168.\n",
      "  Finished tract IPL_L_gwfa_IPL_R_gwfa for subject A00039168\n",
      "  Finished tract IPL_L_gwfa_IPS_L_gwfa for subject A00039168\n",
      "  Finished tract IPL_L_gwfa_IPS_R_gwfa for subject A00039168\n",
      "  Finished tract IPL_L_gwfa_SPL_L_gwfa for subject A00039168\n"
     ]
    },
    {
     "name": "stdout",
     "output_type": "stream",
     "text": [
      "  Finished tract IPL_L_gwfa_SPL_R_gwfa for subject A00039168\n",
      "  Finished tract IPL_L_gwfa_dPMC_L_gwfa for subject A00039168\n",
      "  - Tract IPL_L_gwfa_dPMC_R_gwfa not found. Skipping.\n",
      "  Finished tract IPL_L_gwfa_vPMC_L_gwfa for subject A00039168\n",
      "  Finished tract IPL_L_gwfa_vPMC_R_gwfa for subject A00039168\n",
      "  Finished tract IPL_R_gwfa_IPS_L_gwfa for subject A00039168\n",
      "  Finished tract IPL_R_gwfa_IPS_R_gwfa for subject A00039168\n",
      "  Finished tract IPL_R_gwfa_SPL_L_gwfa for subject A00039168\n",
      "  Finished tract IPL_R_gwfa_SPL_R_gwfa for subject A00039168\n",
      "  - Tract IPL_R_gwfa_dPMC_L_gwfa not found. Skipping.\n",
      "  Finished tract IPL_R_gwfa_dPMC_R_gwfa for subject A00039168\n",
      "  - Tract IPL_R_gwfa_vPMC_L_gwfa not found. Skipping.\n",
      "  Finished tract IPL_R_gwfa_vPMC_R_gwfa for subject A00039168\n",
      "  Finished tract IPS_L_gwfa_IPS_R_gwfa for subject A00039168\n",
      "  Finished tract IPS_L_gwfa_SPL_L_gwfa for subject A00039168\n",
      "  Finished tract IPS_L_gwfa_SPL_R_gwfa for subject A00039168\n",
      "  Finished tract IPS_L_gwfa_dPMC_L_gwfa for subject A00039168\n",
      "  Finished tract IPS_L_gwfa_dPMC_R_gwfa for subject A00039168\n",
      "  Finished tract IPS_L_gwfa_vPMC_L_gwfa for subject A00039168\n",
      "  Finished tract IPS_L_gwfa_vPMC_R_gwfa for subject A00039168\n",
      "  Finished tract IPS_R_gwfa_SPL_L_gwfa for subject A00039168\n",
      "  Finished tract IPS_R_gwfa_SPL_R_gwfa for subject A00039168\n",
      "  - Tract IPS_R_gwfa_dPMC_L_gwfa not found. Skipping.\n",
      "  Finished tract IPS_R_gwfa_dPMC_R_gwfa for subject A00039168\n",
      "  - Tract IPS_R_gwfa_vPMC_L_gwfa not found. Skipping.\n",
      "  Finished tract IPS_R_gwfa_vPMC_R_gwfa for subject A00039168\n",
      "  Finished tract SPL_L_gwfa_SPL_R_gwfa for subject A00039168\n",
      "  Finished tract SPL_L_gwfa_dPMC_L_gwfa for subject A00039168\n",
      "  Finished tract SPL_L_gwfa_dPMC_R_gwfa for subject A00039168\n",
      "  Finished tract SPL_L_gwfa_vPMC_L_gwfa for subject A00039168\n",
      "  - Tract SPL_L_gwfa_vPMC_R_gwfa not found. Skipping.\n",
      "  Finished tract SPL_R_gwfa_dPMC_L_gwfa for subject A00039168\n",
      "  Finished tract SPL_R_gwfa_dPMC_R_gwfa for subject A00039168\n",
      "  Finished tract SPL_R_gwfa_vPMC_L_gwfa for subject A00039168\n",
      "  Finished tract SPL_R_gwfa_vPMC_R_gwfa for subject A00039168\n",
      "  Finished tract dPMC_L_gwfa_dPMC_R_gwfa for subject A00039168\n",
      "  Finished tract dPMC_L_gwfa_vPMC_L_gwfa for subject A00039168\n",
      "  Finished tract dPMC_L_gwfa_vPMC_R_gwfa for subject A00039168\n",
      "  Finished tract dPMC_R_gwfa_vPMC_L_gwfa for subject A00039168\n",
      "  Finished tract dPMC_R_gwfa_vPMC_R_gwfa for subject A00039168\n",
      "  Finished tract vPMC_L_gwfa_vPMC_R_gwfa for subject A00039168\n",
      "Successfully processed subject A00039168.\n",
      "Starting processing of subject A00039218.\n",
      "  Finished tract IPL_L_gwfa_IPL_R_gwfa for subject A00039218\n",
      "  Finished tract IPL_L_gwfa_IPS_L_gwfa for subject A00039218\n",
      "  Finished tract IPL_L_gwfa_IPS_R_gwfa for subject A00039218\n",
      "  Finished tract IPL_L_gwfa_SPL_L_gwfa for subject A00039218\n",
      "  Finished tract IPL_L_gwfa_SPL_R_gwfa for subject A00039218\n",
      "  Finished tract IPL_L_gwfa_dPMC_L_gwfa for subject A00039218\n",
      "  - Tract IPL_L_gwfa_dPMC_R_gwfa not found. Skipping.\n",
      "  Finished tract IPL_L_gwfa_vPMC_L_gwfa for subject A00039218\n",
      "  Finished tract IPL_L_gwfa_vPMC_R_gwfa for subject A00039218\n",
      "  Finished tract IPL_R_gwfa_IPS_L_gwfa for subject A00039218\n",
      "  Finished tract IPL_R_gwfa_IPS_R_gwfa for subject A00039218\n",
      "  Finished tract IPL_R_gwfa_SPL_L_gwfa for subject A00039218\n",
      "  Finished tract IPL_R_gwfa_SPL_R_gwfa for subject A00039218\n",
      "  - Tract IPL_R_gwfa_dPMC_L_gwfa not found. Skipping.\n",
      "  Finished tract IPL_R_gwfa_dPMC_R_gwfa for subject A00039218\n",
      "  - Tract IPL_R_gwfa_vPMC_L_gwfa not found. Skipping.\n",
      "  Finished tract IPL_R_gwfa_vPMC_R_gwfa for subject A00039218\n",
      "  Finished tract IPS_L_gwfa_IPS_R_gwfa for subject A00039218\n",
      "  Finished tract IPS_L_gwfa_SPL_L_gwfa for subject A00039218\n",
      "  Finished tract IPS_L_gwfa_SPL_R_gwfa for subject A00039218\n",
      "  Finished tract IPS_L_gwfa_dPMC_L_gwfa for subject A00039218\n",
      "  Finished tract IPS_L_gwfa_dPMC_R_gwfa for subject A00039218\n",
      "  Finished tract IPS_L_gwfa_vPMC_L_gwfa for subject A00039218\n",
      "  Finished tract IPS_L_gwfa_vPMC_R_gwfa for subject A00039218\n",
      "  Finished tract IPS_R_gwfa_SPL_L_gwfa for subject A00039218\n",
      "  Finished tract IPS_R_gwfa_SPL_R_gwfa for subject A00039218\n",
      "  - Tract IPS_R_gwfa_dPMC_L_gwfa not found. Skipping.\n",
      "  Finished tract IPS_R_gwfa_dPMC_R_gwfa for subject A00039218\n",
      "  - Tract IPS_R_gwfa_vPMC_L_gwfa not found. Skipping.\n",
      "  Finished tract IPS_R_gwfa_vPMC_R_gwfa for subject A00039218\n",
      "  Finished tract SPL_L_gwfa_SPL_R_gwfa for subject A00039218\n",
      "  Finished tract SPL_L_gwfa_dPMC_L_gwfa for subject A00039218\n",
      "  Finished tract SPL_L_gwfa_dPMC_R_gwfa for subject A00039218\n",
      "  Finished tract SPL_L_gwfa_vPMC_L_gwfa for subject A00039218\n",
      "  - Tract SPL_L_gwfa_vPMC_R_gwfa not found. Skipping.\n",
      "  Finished tract SPL_R_gwfa_dPMC_L_gwfa for subject A00039218\n",
      "  Finished tract SPL_R_gwfa_dPMC_R_gwfa for subject A00039218\n",
      "  Finished tract SPL_R_gwfa_vPMC_L_gwfa for subject A00039218\n",
      "  Finished tract SPL_R_gwfa_vPMC_R_gwfa for subject A00039218\n",
      "  Finished tract dPMC_L_gwfa_dPMC_R_gwfa for subject A00039218\n",
      "  Finished tract dPMC_L_gwfa_vPMC_L_gwfa for subject A00039218\n",
      "  Finished tract dPMC_L_gwfa_vPMC_R_gwfa for subject A00039218\n",
      "  Finished tract dPMC_R_gwfa_vPMC_L_gwfa for subject A00039218\n",
      "  Finished tract dPMC_R_gwfa_vPMC_R_gwfa for subject A00039218\n",
      "  Finished tract vPMC_L_gwfa_vPMC_R_gwfa for subject A00039218\n",
      "Successfully processed subject A00039218.\n",
      "Starting processing of subject A00039391.\n",
      "  Finished tract IPL_L_gwfa_IPL_R_gwfa for subject A00039391\n",
      "  Finished tract IPL_L_gwfa_IPS_L_gwfa for subject A00039391\n",
      "  Finished tract IPL_L_gwfa_IPS_R_gwfa for subject A00039391\n",
      "  Finished tract IPL_L_gwfa_SPL_L_gwfa for subject A00039391\n",
      "  Finished tract IPL_L_gwfa_SPL_R_gwfa for subject A00039391\n",
      "  Finished tract IPL_L_gwfa_dPMC_L_gwfa for subject A00039391\n",
      "  - Tract IPL_L_gwfa_dPMC_R_gwfa not found. Skipping.\n",
      "  Finished tract IPL_L_gwfa_vPMC_L_gwfa for subject A00039391\n",
      "  Finished tract IPL_L_gwfa_vPMC_R_gwfa for subject A00039391\n",
      "  Finished tract IPL_R_gwfa_IPS_L_gwfa for subject A00039391\n",
      "  Finished tract IPL_R_gwfa_IPS_R_gwfa for subject A00039391\n",
      "  Finished tract IPL_R_gwfa_SPL_L_gwfa for subject A00039391\n",
      "  Finished tract IPL_R_gwfa_SPL_R_gwfa for subject A00039391\n",
      "  - Tract IPL_R_gwfa_dPMC_L_gwfa not found. Skipping.\n",
      "  Finished tract IPL_R_gwfa_dPMC_R_gwfa for subject A00039391\n",
      "  - Tract IPL_R_gwfa_vPMC_L_gwfa not found. Skipping.\n",
      "  Finished tract IPL_R_gwfa_vPMC_R_gwfa for subject A00039391\n",
      "  Finished tract IPS_L_gwfa_IPS_R_gwfa for subject A00039391\n",
      "  Finished tract IPS_L_gwfa_SPL_L_gwfa for subject A00039391\n",
      "  Finished tract IPS_L_gwfa_SPL_R_gwfa for subject A00039391\n",
      "  Finished tract IPS_L_gwfa_dPMC_L_gwfa for subject A00039391\n",
      "  Finished tract IPS_L_gwfa_dPMC_R_gwfa for subject A00039391\n",
      "  Finished tract IPS_L_gwfa_vPMC_L_gwfa for subject A00039391\n",
      "  Finished tract IPS_L_gwfa_vPMC_R_gwfa for subject A00039391\n",
      "  Finished tract IPS_R_gwfa_SPL_L_gwfa for subject A00039391\n",
      "  Finished tract IPS_R_gwfa_SPL_R_gwfa for subject A00039391\n",
      "  - Tract IPS_R_gwfa_dPMC_L_gwfa not found. Skipping.\n",
      "  Finished tract IPS_R_gwfa_dPMC_R_gwfa for subject A00039391\n",
      "  - Tract IPS_R_gwfa_vPMC_L_gwfa not found. Skipping.\n",
      "  Finished tract IPS_R_gwfa_vPMC_R_gwfa for subject A00039391\n",
      "  Finished tract SPL_L_gwfa_SPL_R_gwfa for subject A00039391\n",
      "  Finished tract SPL_L_gwfa_dPMC_L_gwfa for subject A00039391\n",
      "  Finished tract SPL_L_gwfa_dPMC_R_gwfa for subject A00039391\n",
      "  Finished tract SPL_L_gwfa_vPMC_L_gwfa for subject A00039391\n",
      "  - Tract SPL_L_gwfa_vPMC_R_gwfa not found. Skipping.\n",
      "  Finished tract SPL_R_gwfa_dPMC_L_gwfa for subject A00039391\n",
      "  Finished tract SPL_R_gwfa_dPMC_R_gwfa for subject A00039391\n",
      "  Finished tract SPL_R_gwfa_vPMC_L_gwfa for subject A00039391\n",
      "  Finished tract SPL_R_gwfa_vPMC_R_gwfa for subject A00039391\n",
      "  Finished tract dPMC_L_gwfa_dPMC_R_gwfa for subject A00039391\n",
      "  Finished tract dPMC_L_gwfa_vPMC_L_gwfa for subject A00039391\n",
      "  Finished tract dPMC_L_gwfa_vPMC_R_gwfa for subject A00039391\n",
      "  Finished tract dPMC_R_gwfa_vPMC_L_gwfa for subject A00039391\n",
      "  Finished tract dPMC_R_gwfa_vPMC_R_gwfa for subject A00039391\n",
      "  Finished tract vPMC_L_gwfa_vPMC_R_gwfa for subject A00039391\n",
      "Successfully processed subject A00039391.\n",
      "Starting processing of subject A00039393.\n"
     ]
    },
    {
     "name": "stdout",
     "output_type": "stream",
     "text": [
      "  Finished tract IPL_L_gwfa_IPL_R_gwfa for subject A00039393\n",
      "  Finished tract IPL_L_gwfa_IPS_L_gwfa for subject A00039393\n",
      "  Finished tract IPL_L_gwfa_IPS_R_gwfa for subject A00039393\n",
      "  Finished tract IPL_L_gwfa_SPL_L_gwfa for subject A00039393\n",
      "  Finished tract IPL_L_gwfa_SPL_R_gwfa for subject A00039393\n",
      "  Finished tract IPL_L_gwfa_dPMC_L_gwfa for subject A00039393\n",
      "  - Tract IPL_L_gwfa_dPMC_R_gwfa not found. Skipping.\n",
      "  Finished tract IPL_L_gwfa_vPMC_L_gwfa for subject A00039393\n",
      "  Finished tract IPL_L_gwfa_vPMC_R_gwfa for subject A00039393\n",
      "  Finished tract IPL_R_gwfa_IPS_L_gwfa for subject A00039393\n",
      "  Finished tract IPL_R_gwfa_IPS_R_gwfa for subject A00039393\n",
      "  Finished tract IPL_R_gwfa_SPL_L_gwfa for subject A00039393\n",
      "  Finished tract IPL_R_gwfa_SPL_R_gwfa for subject A00039393\n",
      "  - Tract IPL_R_gwfa_dPMC_L_gwfa not found. Skipping.\n",
      "  Finished tract IPL_R_gwfa_dPMC_R_gwfa for subject A00039393\n",
      "  - Tract IPL_R_gwfa_vPMC_L_gwfa not found. Skipping.\n",
      "  Finished tract IPL_R_gwfa_vPMC_R_gwfa for subject A00039393\n",
      "  Finished tract IPS_L_gwfa_IPS_R_gwfa for subject A00039393\n",
      "  Finished tract IPS_L_gwfa_SPL_L_gwfa for subject A00039393\n",
      "  Finished tract IPS_L_gwfa_SPL_R_gwfa for subject A00039393\n",
      "  Finished tract IPS_L_gwfa_dPMC_L_gwfa for subject A00039393\n",
      "  Finished tract IPS_L_gwfa_dPMC_R_gwfa for subject A00039393\n",
      "  Finished tract IPS_L_gwfa_vPMC_L_gwfa for subject A00039393\n",
      "  Finished tract IPS_L_gwfa_vPMC_R_gwfa for subject A00039393\n",
      "  Finished tract IPS_R_gwfa_SPL_L_gwfa for subject A00039393\n",
      "  Finished tract IPS_R_gwfa_SPL_R_gwfa for subject A00039393\n",
      "  - Tract IPS_R_gwfa_dPMC_L_gwfa not found. Skipping.\n",
      "  Finished tract IPS_R_gwfa_dPMC_R_gwfa for subject A00039393\n",
      "  - Tract IPS_R_gwfa_vPMC_L_gwfa not found. Skipping.\n",
      "  Finished tract IPS_R_gwfa_vPMC_R_gwfa for subject A00039393\n",
      "  Finished tract SPL_L_gwfa_SPL_R_gwfa for subject A00039393\n",
      "  Finished tract SPL_L_gwfa_dPMC_L_gwfa for subject A00039393\n",
      "  Finished tract SPL_L_gwfa_dPMC_R_gwfa for subject A00039393\n",
      "  Finished tract SPL_L_gwfa_vPMC_L_gwfa for subject A00039393\n",
      "  - Tract SPL_L_gwfa_vPMC_R_gwfa not found. Skipping.\n",
      "  Finished tract SPL_R_gwfa_dPMC_L_gwfa for subject A00039393\n",
      "  Finished tract SPL_R_gwfa_dPMC_R_gwfa for subject A00039393\n",
      "  Finished tract SPL_R_gwfa_vPMC_L_gwfa for subject A00039393\n",
      "  Finished tract SPL_R_gwfa_vPMC_R_gwfa for subject A00039393\n",
      "  Finished tract dPMC_L_gwfa_dPMC_R_gwfa for subject A00039393\n",
      "  Finished tract dPMC_L_gwfa_vPMC_L_gwfa for subject A00039393\n",
      "  Finished tract dPMC_L_gwfa_vPMC_R_gwfa for subject A00039393\n",
      "  Finished tract dPMC_R_gwfa_vPMC_L_gwfa for subject A00039393\n",
      "  Finished tract dPMC_R_gwfa_vPMC_R_gwfa for subject A00039393\n",
      "  Finished tract vPMC_L_gwfa_vPMC_R_gwfa for subject A00039393\n",
      "Successfully processed subject A00039393.\n",
      "Starting processing of subject A00039431.\n",
      "  Finished tract IPL_L_gwfa_IPL_R_gwfa for subject A00039431\n",
      "  Finished tract IPL_L_gwfa_IPS_L_gwfa for subject A00039431\n",
      "  Finished tract IPL_L_gwfa_IPS_R_gwfa for subject A00039431\n",
      "  Finished tract IPL_L_gwfa_SPL_L_gwfa for subject A00039431\n",
      "  Finished tract IPL_L_gwfa_SPL_R_gwfa for subject A00039431\n",
      "  Finished tract IPL_L_gwfa_dPMC_L_gwfa for subject A00039431\n",
      "  - Tract IPL_L_gwfa_dPMC_R_gwfa not found. Skipping.\n",
      "  Finished tract IPL_L_gwfa_vPMC_L_gwfa for subject A00039431\n",
      "  Finished tract IPL_L_gwfa_vPMC_R_gwfa for subject A00039431\n",
      "  Finished tract IPL_R_gwfa_IPS_L_gwfa for subject A00039431\n",
      "  Finished tract IPL_R_gwfa_IPS_R_gwfa for subject A00039431\n",
      "  Finished tract IPL_R_gwfa_SPL_L_gwfa for subject A00039431\n",
      "  Finished tract IPL_R_gwfa_SPL_R_gwfa for subject A00039431\n",
      "  - Tract IPL_R_gwfa_dPMC_L_gwfa not found. Skipping.\n",
      "  Finished tract IPL_R_gwfa_dPMC_R_gwfa for subject A00039431\n",
      "  - Tract IPL_R_gwfa_vPMC_L_gwfa not found. Skipping.\n",
      "  Finished tract IPL_R_gwfa_vPMC_R_gwfa for subject A00039431\n",
      "  Finished tract IPS_L_gwfa_IPS_R_gwfa for subject A00039431\n",
      "  Finished tract IPS_L_gwfa_SPL_L_gwfa for subject A00039431\n",
      "  Finished tract IPS_L_gwfa_SPL_R_gwfa for subject A00039431\n",
      "  Finished tract IPS_L_gwfa_dPMC_L_gwfa for subject A00039431\n",
      "  Finished tract IPS_L_gwfa_dPMC_R_gwfa for subject A00039431\n",
      "  Finished tract IPS_L_gwfa_vPMC_L_gwfa for subject A00039431\n",
      "  Finished tract IPS_L_gwfa_vPMC_R_gwfa for subject A00039431\n",
      "  Finished tract IPS_R_gwfa_SPL_L_gwfa for subject A00039431\n",
      "  Finished tract IPS_R_gwfa_SPL_R_gwfa for subject A00039431\n",
      "  - Tract IPS_R_gwfa_dPMC_L_gwfa not found. Skipping.\n",
      "  Finished tract IPS_R_gwfa_dPMC_R_gwfa for subject A00039431\n",
      "  - Tract IPS_R_gwfa_vPMC_L_gwfa not found. Skipping.\n",
      "  Finished tract IPS_R_gwfa_vPMC_R_gwfa for subject A00039431\n",
      "  Finished tract SPL_L_gwfa_SPL_R_gwfa for subject A00039431\n",
      "  Finished tract SPL_L_gwfa_dPMC_L_gwfa for subject A00039431\n",
      "  Finished tract SPL_L_gwfa_dPMC_R_gwfa for subject A00039431\n",
      "  Finished tract SPL_L_gwfa_vPMC_L_gwfa for subject A00039431\n",
      "  - Tract SPL_L_gwfa_vPMC_R_gwfa not found. Skipping.\n",
      "  Finished tract SPL_R_gwfa_dPMC_L_gwfa for subject A00039431\n",
      "  Finished tract SPL_R_gwfa_dPMC_R_gwfa for subject A00039431\n",
      "  Finished tract SPL_R_gwfa_vPMC_L_gwfa for subject A00039431\n",
      "  Finished tract SPL_R_gwfa_vPMC_R_gwfa for subject A00039431\n",
      "  Finished tract dPMC_L_gwfa_dPMC_R_gwfa for subject A00039431\n",
      "  Finished tract dPMC_L_gwfa_vPMC_L_gwfa for subject A00039431\n",
      "  Finished tract dPMC_L_gwfa_vPMC_R_gwfa for subject A00039431\n",
      "  Finished tract dPMC_R_gwfa_vPMC_L_gwfa for subject A00039431\n",
      "  Finished tract dPMC_R_gwfa_vPMC_R_gwfa for subject A00039431\n",
      "  Finished tract vPMC_L_gwfa_vPMC_R_gwfa for subject A00039431\n",
      "Successfully processed subject A00039431.\n",
      "Starting processing of subject A00039432.\n",
      "  Finished tract IPL_L_gwfa_IPL_R_gwfa for subject A00039432\n",
      "  Finished tract IPL_L_gwfa_IPS_L_gwfa for subject A00039432\n",
      "  Finished tract IPL_L_gwfa_IPS_R_gwfa for subject A00039432\n",
      "  Finished tract IPL_L_gwfa_SPL_L_gwfa for subject A00039432\n",
      "  Finished tract IPL_L_gwfa_SPL_R_gwfa for subject A00039432\n",
      "  Finished tract IPL_L_gwfa_dPMC_L_gwfa for subject A00039432\n",
      "  - Tract IPL_L_gwfa_dPMC_R_gwfa not found. Skipping.\n",
      "  Finished tract IPL_L_gwfa_vPMC_L_gwfa for subject A00039432\n",
      "  Finished tract IPL_L_gwfa_vPMC_R_gwfa for subject A00039432\n",
      "  Finished tract IPL_R_gwfa_IPS_L_gwfa for subject A00039432\n",
      "  Finished tract IPL_R_gwfa_IPS_R_gwfa for subject A00039432\n",
      "  Finished tract IPL_R_gwfa_SPL_L_gwfa for subject A00039432\n",
      "  Finished tract IPL_R_gwfa_SPL_R_gwfa for subject A00039432\n",
      "  - Tract IPL_R_gwfa_dPMC_L_gwfa not found. Skipping.\n",
      "  Finished tract IPL_R_gwfa_dPMC_R_gwfa for subject A00039432\n",
      "  - Tract IPL_R_gwfa_vPMC_L_gwfa not found. Skipping.\n",
      "  Finished tract IPL_R_gwfa_vPMC_R_gwfa for subject A00039432\n",
      "  Finished tract IPS_L_gwfa_IPS_R_gwfa for subject A00039432\n",
      "  Finished tract IPS_L_gwfa_SPL_L_gwfa for subject A00039432\n",
      "  Finished tract IPS_L_gwfa_SPL_R_gwfa for subject A00039432\n",
      "  Finished tract IPS_L_gwfa_dPMC_L_gwfa for subject A00039432\n",
      "  Finished tract IPS_L_gwfa_dPMC_R_gwfa for subject A00039432\n",
      "  Finished tract IPS_L_gwfa_vPMC_L_gwfa for subject A00039432\n",
      "  Finished tract IPS_L_gwfa_vPMC_R_gwfa for subject A00039432\n",
      "  Finished tract IPS_R_gwfa_SPL_L_gwfa for subject A00039432\n",
      "  Finished tract IPS_R_gwfa_SPL_R_gwfa for subject A00039432\n",
      "  - Tract IPS_R_gwfa_dPMC_L_gwfa not found. Skipping.\n",
      "  Finished tract IPS_R_gwfa_dPMC_R_gwfa for subject A00039432\n",
      "  - Tract IPS_R_gwfa_vPMC_L_gwfa not found. Skipping.\n",
      "  Finished tract IPS_R_gwfa_vPMC_R_gwfa for subject A00039432\n",
      "  Finished tract SPL_L_gwfa_SPL_R_gwfa for subject A00039432\n",
      "  Finished tract SPL_L_gwfa_dPMC_L_gwfa for subject A00039432\n",
      "  Finished tract SPL_L_gwfa_dPMC_R_gwfa for subject A00039432\n",
      "  Finished tract SPL_L_gwfa_vPMC_L_gwfa for subject A00039432\n",
      "  - Tract SPL_L_gwfa_vPMC_R_gwfa not found. Skipping.\n",
      "  Finished tract SPL_R_gwfa_dPMC_L_gwfa for subject A00039432\n",
      "  Finished tract SPL_R_gwfa_dPMC_R_gwfa for subject A00039432\n",
      "  Finished tract SPL_R_gwfa_vPMC_L_gwfa for subject A00039432\n",
      "  Finished tract SPL_R_gwfa_vPMC_R_gwfa for subject A00039432\n",
      "  Finished tract dPMC_L_gwfa_dPMC_R_gwfa for subject A00039432\n",
      "  Finished tract dPMC_L_gwfa_vPMC_L_gwfa for subject A00039432\n",
      "  Finished tract dPMC_L_gwfa_vPMC_R_gwfa for subject A00039432\n",
      "  Finished tract dPMC_R_gwfa_vPMC_L_gwfa for subject A00039432\n"
     ]
    },
    {
     "name": "stdout",
     "output_type": "stream",
     "text": [
      "  Finished tract dPMC_R_gwfa_vPMC_R_gwfa for subject A00039432\n",
      "  Finished tract vPMC_L_gwfa_vPMC_R_gwfa for subject A00039432\n",
      "Successfully processed subject A00039432.\n",
      "Starting processing of subject A00039490.\n",
      "  Finished tract IPL_L_gwfa_IPL_R_gwfa for subject A00039490\n",
      "  Finished tract IPL_L_gwfa_IPS_L_gwfa for subject A00039490\n",
      "  Finished tract IPL_L_gwfa_IPS_R_gwfa for subject A00039490\n",
      "  Finished tract IPL_L_gwfa_SPL_L_gwfa for subject A00039490\n",
      "  Finished tract IPL_L_gwfa_SPL_R_gwfa for subject A00039490\n",
      "  Finished tract IPL_L_gwfa_dPMC_L_gwfa for subject A00039490\n",
      "  - Tract IPL_L_gwfa_dPMC_R_gwfa not found. Skipping.\n",
      "  Finished tract IPL_L_gwfa_vPMC_L_gwfa for subject A00039490\n",
      "  Finished tract IPL_L_gwfa_vPMC_R_gwfa for subject A00039490\n",
      "  Finished tract IPL_R_gwfa_IPS_L_gwfa for subject A00039490\n",
      "  Finished tract IPL_R_gwfa_IPS_R_gwfa for subject A00039490\n",
      "  Finished tract IPL_R_gwfa_SPL_L_gwfa for subject A00039490\n",
      "  Finished tract IPL_R_gwfa_SPL_R_gwfa for subject A00039490\n",
      "  - Tract IPL_R_gwfa_dPMC_L_gwfa not found. Skipping.\n",
      "  Finished tract IPL_R_gwfa_dPMC_R_gwfa for subject A00039490\n",
      "  - Tract IPL_R_gwfa_vPMC_L_gwfa not found. Skipping.\n",
      "  Finished tract IPL_R_gwfa_vPMC_R_gwfa for subject A00039490\n",
      "  Finished tract IPS_L_gwfa_IPS_R_gwfa for subject A00039490\n",
      "  Finished tract IPS_L_gwfa_SPL_L_gwfa for subject A00039490\n",
      "  Finished tract IPS_L_gwfa_SPL_R_gwfa for subject A00039490\n",
      "  Finished tract IPS_L_gwfa_dPMC_L_gwfa for subject A00039490\n",
      "  Finished tract IPS_L_gwfa_dPMC_R_gwfa for subject A00039490\n",
      "  Finished tract IPS_L_gwfa_vPMC_L_gwfa for subject A00039490\n",
      "  Finished tract IPS_L_gwfa_vPMC_R_gwfa for subject A00039490\n",
      "  Finished tract IPS_R_gwfa_SPL_L_gwfa for subject A00039490\n",
      "  Finished tract IPS_R_gwfa_SPL_R_gwfa for subject A00039490\n",
      "  - Tract IPS_R_gwfa_dPMC_L_gwfa not found. Skipping.\n",
      "  Finished tract IPS_R_gwfa_dPMC_R_gwfa for subject A00039490\n",
      "  - Tract IPS_R_gwfa_vPMC_L_gwfa not found. Skipping.\n",
      "  Finished tract IPS_R_gwfa_vPMC_R_gwfa for subject A00039490\n",
      "  Finished tract SPL_L_gwfa_SPL_R_gwfa for subject A00039490\n",
      "  Finished tract SPL_L_gwfa_dPMC_L_gwfa for subject A00039490\n",
      "  Finished tract SPL_L_gwfa_dPMC_R_gwfa for subject A00039490\n",
      "  Finished tract SPL_L_gwfa_vPMC_L_gwfa for subject A00039490\n",
      "  - Tract SPL_L_gwfa_vPMC_R_gwfa not found. Skipping.\n",
      "  Finished tract SPL_R_gwfa_dPMC_L_gwfa for subject A00039490\n",
      "  Finished tract SPL_R_gwfa_dPMC_R_gwfa for subject A00039490\n",
      "  Finished tract SPL_R_gwfa_vPMC_L_gwfa for subject A00039490\n",
      "  Finished tract SPL_R_gwfa_vPMC_R_gwfa for subject A00039490\n",
      "  Finished tract dPMC_L_gwfa_dPMC_R_gwfa for subject A00039490\n",
      "  Finished tract dPMC_L_gwfa_vPMC_L_gwfa for subject A00039490\n",
      "  Finished tract dPMC_L_gwfa_vPMC_R_gwfa for subject A00039490\n",
      "  Finished tract dPMC_R_gwfa_vPMC_L_gwfa for subject A00039490\n",
      "  Finished tract dPMC_R_gwfa_vPMC_R_gwfa for subject A00039490\n",
      "  Finished tract vPMC_L_gwfa_vPMC_R_gwfa for subject A00039490\n",
      "Successfully processed subject A00039490.\n",
      "Starting processing of subject A00039500.\n",
      "  Finished tract IPL_L_gwfa_IPL_R_gwfa for subject A00039500\n",
      "  Finished tract IPL_L_gwfa_IPS_L_gwfa for subject A00039500\n",
      "  Finished tract IPL_L_gwfa_IPS_R_gwfa for subject A00039500\n",
      "  Finished tract IPL_L_gwfa_SPL_L_gwfa for subject A00039500\n",
      "  Finished tract IPL_L_gwfa_SPL_R_gwfa for subject A00039500\n",
      "  Finished tract IPL_L_gwfa_dPMC_L_gwfa for subject A00039500\n",
      "  - Tract IPL_L_gwfa_dPMC_R_gwfa not found. Skipping.\n",
      "  Finished tract IPL_L_gwfa_vPMC_L_gwfa for subject A00039500\n",
      "  Finished tract IPL_L_gwfa_vPMC_R_gwfa for subject A00039500\n",
      "  Finished tract IPL_R_gwfa_IPS_L_gwfa for subject A00039500\n",
      "  Finished tract IPL_R_gwfa_IPS_R_gwfa for subject A00039500\n",
      "  Finished tract IPL_R_gwfa_SPL_L_gwfa for subject A00039500\n",
      "  Finished tract IPL_R_gwfa_SPL_R_gwfa for subject A00039500\n",
      "  - Tract IPL_R_gwfa_dPMC_L_gwfa not found. Skipping.\n",
      "  Finished tract IPL_R_gwfa_dPMC_R_gwfa for subject A00039500\n",
      "  - Tract IPL_R_gwfa_vPMC_L_gwfa not found. Skipping.\n",
      "  Finished tract IPL_R_gwfa_vPMC_R_gwfa for subject A00039500\n",
      "  Finished tract IPS_L_gwfa_IPS_R_gwfa for subject A00039500\n",
      "  Finished tract IPS_L_gwfa_SPL_L_gwfa for subject A00039500\n",
      "  Finished tract IPS_L_gwfa_SPL_R_gwfa for subject A00039500\n",
      "  Finished tract IPS_L_gwfa_dPMC_L_gwfa for subject A00039500\n",
      "  Finished tract IPS_L_gwfa_dPMC_R_gwfa for subject A00039500\n",
      "  Finished tract IPS_L_gwfa_vPMC_L_gwfa for subject A00039500\n",
      "  Finished tract IPS_L_gwfa_vPMC_R_gwfa for subject A00039500\n",
      "  Finished tract IPS_R_gwfa_SPL_L_gwfa for subject A00039500\n",
      "  Finished tract IPS_R_gwfa_SPL_R_gwfa for subject A00039500\n",
      "  - Tract IPS_R_gwfa_dPMC_L_gwfa not found. Skipping.\n",
      "  Finished tract IPS_R_gwfa_dPMC_R_gwfa for subject A00039500\n",
      "  - Tract IPS_R_gwfa_vPMC_L_gwfa not found. Skipping.\n",
      "  Finished tract IPS_R_gwfa_vPMC_R_gwfa for subject A00039500\n",
      "  Finished tract SPL_L_gwfa_SPL_R_gwfa for subject A00039500\n",
      "  Finished tract SPL_L_gwfa_dPMC_L_gwfa for subject A00039500\n",
      "  Finished tract SPL_L_gwfa_dPMC_R_gwfa for subject A00039500\n",
      "  Finished tract SPL_L_gwfa_vPMC_L_gwfa for subject A00039500\n",
      "  - Tract SPL_L_gwfa_vPMC_R_gwfa not found. Skipping.\n",
      "  Finished tract SPL_R_gwfa_dPMC_L_gwfa for subject A00039500\n",
      "  Finished tract SPL_R_gwfa_dPMC_R_gwfa for subject A00039500\n",
      "  Finished tract SPL_R_gwfa_vPMC_L_gwfa for subject A00039500\n",
      "  Finished tract SPL_R_gwfa_vPMC_R_gwfa for subject A00039500\n",
      "  Finished tract dPMC_L_gwfa_dPMC_R_gwfa for subject A00039500\n",
      "  Finished tract dPMC_L_gwfa_vPMC_L_gwfa for subject A00039500\n",
      "  Finished tract dPMC_L_gwfa_vPMC_R_gwfa for subject A00039500\n",
      "  Finished tract dPMC_R_gwfa_vPMC_L_gwfa for subject A00039500\n",
      "  Finished tract dPMC_R_gwfa_vPMC_R_gwfa for subject A00039500\n",
      "  Finished tract vPMC_L_gwfa_vPMC_R_gwfa for subject A00039500\n",
      "Successfully processed subject A00039500.\n",
      "Starting processing of subject A00039559.\n",
      "  Finished tract IPL_L_gwfa_IPL_R_gwfa for subject A00039559\n",
      "  Finished tract IPL_L_gwfa_IPS_L_gwfa for subject A00039559\n",
      "  Finished tract IPL_L_gwfa_IPS_R_gwfa for subject A00039559\n",
      "  Finished tract IPL_L_gwfa_SPL_L_gwfa for subject A00039559\n",
      "  Finished tract IPL_L_gwfa_SPL_R_gwfa for subject A00039559\n",
      "  Finished tract IPL_L_gwfa_dPMC_L_gwfa for subject A00039559\n",
      "  - Tract IPL_L_gwfa_dPMC_R_gwfa not found. Skipping.\n",
      "  Finished tract IPL_L_gwfa_vPMC_L_gwfa for subject A00039559\n",
      "  Finished tract IPL_L_gwfa_vPMC_R_gwfa for subject A00039559\n",
      "  Finished tract IPL_R_gwfa_IPS_L_gwfa for subject A00039559\n",
      "  Finished tract IPL_R_gwfa_IPS_R_gwfa for subject A00039559\n",
      "  Finished tract IPL_R_gwfa_SPL_L_gwfa for subject A00039559\n",
      "  Finished tract IPL_R_gwfa_SPL_R_gwfa for subject A00039559\n",
      "  - Tract IPL_R_gwfa_dPMC_L_gwfa not found. Skipping.\n",
      "  Finished tract IPL_R_gwfa_dPMC_R_gwfa for subject A00039559\n",
      "  - Tract IPL_R_gwfa_vPMC_L_gwfa not found. Skipping.\n",
      "  Finished tract IPL_R_gwfa_vPMC_R_gwfa for subject A00039559\n",
      "  Finished tract IPS_L_gwfa_IPS_R_gwfa for subject A00039559\n",
      "  Finished tract IPS_L_gwfa_SPL_L_gwfa for subject A00039559\n",
      "  Finished tract IPS_L_gwfa_SPL_R_gwfa for subject A00039559\n",
      "  Finished tract IPS_L_gwfa_dPMC_L_gwfa for subject A00039559\n",
      "  Finished tract IPS_L_gwfa_dPMC_R_gwfa for subject A00039559\n",
      "  Finished tract IPS_L_gwfa_vPMC_L_gwfa for subject A00039559\n",
      "  Finished tract IPS_L_gwfa_vPMC_R_gwfa for subject A00039559\n",
      "  Finished tract IPS_R_gwfa_SPL_L_gwfa for subject A00039559\n",
      "  Finished tract IPS_R_gwfa_SPL_R_gwfa for subject A00039559\n",
      "  - Tract IPS_R_gwfa_dPMC_L_gwfa not found. Skipping.\n",
      "  Finished tract IPS_R_gwfa_dPMC_R_gwfa for subject A00039559\n",
      "  - Tract IPS_R_gwfa_vPMC_L_gwfa not found. Skipping.\n",
      "  Finished tract IPS_R_gwfa_vPMC_R_gwfa for subject A00039559\n",
      "  Finished tract SPL_L_gwfa_SPL_R_gwfa for subject A00039559\n",
      "  Finished tract SPL_L_gwfa_dPMC_L_gwfa for subject A00039559\n",
      "  Finished tract SPL_L_gwfa_dPMC_R_gwfa for subject A00039559\n",
      "  Finished tract SPL_L_gwfa_vPMC_L_gwfa for subject A00039559\n",
      "  - Tract SPL_L_gwfa_vPMC_R_gwfa not found. Skipping.\n",
      "  Finished tract SPL_R_gwfa_dPMC_L_gwfa for subject A00039559\n",
      "  Finished tract SPL_R_gwfa_dPMC_R_gwfa for subject A00039559\n",
      "  Finished tract SPL_R_gwfa_vPMC_L_gwfa for subject A00039559\n",
      "  Finished tract SPL_R_gwfa_vPMC_R_gwfa for subject A00039559\n"
     ]
    },
    {
     "name": "stdout",
     "output_type": "stream",
     "text": [
      "  Finished tract dPMC_L_gwfa_dPMC_R_gwfa for subject A00039559\n",
      "  Finished tract dPMC_L_gwfa_vPMC_L_gwfa for subject A00039559\n",
      "  Finished tract dPMC_L_gwfa_vPMC_R_gwfa for subject A00039559\n",
      "  Finished tract dPMC_R_gwfa_vPMC_L_gwfa for subject A00039559\n",
      "  Finished tract dPMC_R_gwfa_vPMC_R_gwfa for subject A00039559\n",
      "  Finished tract vPMC_L_gwfa_vPMC_R_gwfa for subject A00039559\n",
      "Successfully processed subject A00039559.\n",
      "Starting processing of subject A00039560.\n",
      "  Finished tract IPL_L_gwfa_IPL_R_gwfa for subject A00039560\n",
      "  Finished tract IPL_L_gwfa_IPS_L_gwfa for subject A00039560\n",
      "  Finished tract IPL_L_gwfa_IPS_R_gwfa for subject A00039560\n",
      "  Finished tract IPL_L_gwfa_SPL_L_gwfa for subject A00039560\n",
      "  Finished tract IPL_L_gwfa_SPL_R_gwfa for subject A00039560\n",
      "  Finished tract IPL_L_gwfa_dPMC_L_gwfa for subject A00039560\n",
      "  - Tract IPL_L_gwfa_dPMC_R_gwfa not found. Skipping.\n",
      "  Finished tract IPL_L_gwfa_vPMC_L_gwfa for subject A00039560\n",
      "  Finished tract IPL_L_gwfa_vPMC_R_gwfa for subject A00039560\n",
      "  Finished tract IPL_R_gwfa_IPS_L_gwfa for subject A00039560\n",
      "  Finished tract IPL_R_gwfa_IPS_R_gwfa for subject A00039560\n",
      "  Finished tract IPL_R_gwfa_SPL_L_gwfa for subject A00039560\n",
      "  Finished tract IPL_R_gwfa_SPL_R_gwfa for subject A00039560\n",
      "  - Tract IPL_R_gwfa_dPMC_L_gwfa not found. Skipping.\n",
      "  Finished tract IPL_R_gwfa_dPMC_R_gwfa for subject A00039560\n",
      "  - Tract IPL_R_gwfa_vPMC_L_gwfa not found. Skipping.\n",
      "  Finished tract IPL_R_gwfa_vPMC_R_gwfa for subject A00039560\n",
      "  Finished tract IPS_L_gwfa_IPS_R_gwfa for subject A00039560\n",
      "  Finished tract IPS_L_gwfa_SPL_L_gwfa for subject A00039560\n",
      "  Finished tract IPS_L_gwfa_SPL_R_gwfa for subject A00039560\n",
      "  Finished tract IPS_L_gwfa_dPMC_L_gwfa for subject A00039560\n",
      "  Finished tract IPS_L_gwfa_dPMC_R_gwfa for subject A00039560\n",
      "  Finished tract IPS_L_gwfa_vPMC_L_gwfa for subject A00039560\n",
      "  Finished tract IPS_L_gwfa_vPMC_R_gwfa for subject A00039560\n",
      "  Finished tract IPS_R_gwfa_SPL_L_gwfa for subject A00039560\n",
      "  Finished tract IPS_R_gwfa_SPL_R_gwfa for subject A00039560\n",
      "  - Tract IPS_R_gwfa_dPMC_L_gwfa not found. Skipping.\n",
      "  Finished tract IPS_R_gwfa_dPMC_R_gwfa for subject A00039560\n",
      "  - Tract IPS_R_gwfa_vPMC_L_gwfa not found. Skipping.\n",
      "  Finished tract IPS_R_gwfa_vPMC_R_gwfa for subject A00039560\n",
      "  Finished tract SPL_L_gwfa_SPL_R_gwfa for subject A00039560\n",
      "  Finished tract SPL_L_gwfa_dPMC_L_gwfa for subject A00039560\n",
      "  Finished tract SPL_L_gwfa_dPMC_R_gwfa for subject A00039560\n",
      "  Finished tract SPL_L_gwfa_vPMC_L_gwfa for subject A00039560\n",
      "  - Tract SPL_L_gwfa_vPMC_R_gwfa not found. Skipping.\n",
      "  Finished tract SPL_R_gwfa_dPMC_L_gwfa for subject A00039560\n",
      "  Finished tract SPL_R_gwfa_dPMC_R_gwfa for subject A00039560\n",
      "  Finished tract SPL_R_gwfa_vPMC_L_gwfa for subject A00039560\n",
      "  Finished tract SPL_R_gwfa_vPMC_R_gwfa for subject A00039560\n",
      "  Finished tract dPMC_L_gwfa_dPMC_R_gwfa for subject A00039560\n",
      "  Finished tract dPMC_L_gwfa_vPMC_L_gwfa for subject A00039560\n",
      "  Finished tract dPMC_L_gwfa_vPMC_R_gwfa for subject A00039560\n",
      "  Finished tract dPMC_R_gwfa_vPMC_L_gwfa for subject A00039560\n",
      "  Finished tract dPMC_R_gwfa_vPMC_R_gwfa for subject A00039560\n",
      "  Finished tract vPMC_L_gwfa_vPMC_R_gwfa for subject A00039560\n",
      "Successfully processed subject A00039560.\n",
      "Starting processing of subject A00039593.\n",
      "  Finished tract IPL_L_gwfa_IPL_R_gwfa for subject A00039593\n",
      "  Finished tract IPL_L_gwfa_IPS_L_gwfa for subject A00039593\n",
      "  Finished tract IPL_L_gwfa_IPS_R_gwfa for subject A00039593\n",
      "  Finished tract IPL_L_gwfa_SPL_L_gwfa for subject A00039593\n",
      "  Finished tract IPL_L_gwfa_SPL_R_gwfa for subject A00039593\n",
      "  Finished tract IPL_L_gwfa_dPMC_L_gwfa for subject A00039593\n",
      "  - Tract IPL_L_gwfa_dPMC_R_gwfa not found. Skipping.\n",
      "  Finished tract IPL_L_gwfa_vPMC_L_gwfa for subject A00039593\n",
      "  Finished tract IPL_L_gwfa_vPMC_R_gwfa for subject A00039593\n",
      "  Finished tract IPL_R_gwfa_IPS_L_gwfa for subject A00039593\n",
      "  Finished tract IPL_R_gwfa_IPS_R_gwfa for subject A00039593\n",
      "  Finished tract IPL_R_gwfa_SPL_L_gwfa for subject A00039593\n",
      "  Finished tract IPL_R_gwfa_SPL_R_gwfa for subject A00039593\n",
      "  - Tract IPL_R_gwfa_dPMC_L_gwfa not found. Skipping.\n",
      "  Finished tract IPL_R_gwfa_dPMC_R_gwfa for subject A00039593\n",
      "  - Tract IPL_R_gwfa_vPMC_L_gwfa not found. Skipping.\n",
      "  Finished tract IPL_R_gwfa_vPMC_R_gwfa for subject A00039593\n",
      "  Finished tract IPS_L_gwfa_IPS_R_gwfa for subject A00039593\n",
      "  Finished tract IPS_L_gwfa_SPL_L_gwfa for subject A00039593\n",
      "  Finished tract IPS_L_gwfa_SPL_R_gwfa for subject A00039593\n",
      "  Finished tract IPS_L_gwfa_dPMC_L_gwfa for subject A00039593\n",
      "  Finished tract IPS_L_gwfa_dPMC_R_gwfa for subject A00039593\n",
      "  Finished tract IPS_L_gwfa_vPMC_L_gwfa for subject A00039593\n",
      "  Finished tract IPS_L_gwfa_vPMC_R_gwfa for subject A00039593\n",
      "  Finished tract IPS_R_gwfa_SPL_L_gwfa for subject A00039593\n",
      "  Finished tract IPS_R_gwfa_SPL_R_gwfa for subject A00039593\n",
      "  - Tract IPS_R_gwfa_dPMC_L_gwfa not found. Skipping.\n",
      "  Finished tract IPS_R_gwfa_dPMC_R_gwfa for subject A00039593\n",
      "  - Tract IPS_R_gwfa_vPMC_L_gwfa not found. Skipping.\n",
      "  Finished tract IPS_R_gwfa_vPMC_R_gwfa for subject A00039593\n",
      "  Finished tract SPL_L_gwfa_SPL_R_gwfa for subject A00039593\n",
      "  Finished tract SPL_L_gwfa_dPMC_L_gwfa for subject A00039593\n",
      "  Finished tract SPL_L_gwfa_dPMC_R_gwfa for subject A00039593\n",
      "  Finished tract SPL_L_gwfa_vPMC_L_gwfa for subject A00039593\n",
      "  - Tract SPL_L_gwfa_vPMC_R_gwfa not found. Skipping.\n",
      "  Finished tract SPL_R_gwfa_dPMC_L_gwfa for subject A00039593\n",
      "  Finished tract SPL_R_gwfa_dPMC_R_gwfa for subject A00039593\n",
      "  Finished tract SPL_R_gwfa_vPMC_L_gwfa for subject A00039593\n",
      "  Finished tract SPL_R_gwfa_vPMC_R_gwfa for subject A00039593\n",
      "  Finished tract dPMC_L_gwfa_dPMC_R_gwfa for subject A00039593\n",
      "  Finished tract dPMC_L_gwfa_vPMC_L_gwfa for subject A00039593\n",
      "  Finished tract dPMC_L_gwfa_vPMC_R_gwfa for subject A00039593\n",
      "  Finished tract dPMC_R_gwfa_vPMC_L_gwfa for subject A00039593\n",
      "  Finished tract dPMC_R_gwfa_vPMC_R_gwfa for subject A00039593\n",
      "  Finished tract vPMC_L_gwfa_vPMC_R_gwfa for subject A00039593\n",
      "Successfully processed subject A00039593.\n",
      "Starting processing of subject A00039635.\n",
      "  Finished tract IPL_L_gwfa_IPL_R_gwfa for subject A00039635\n",
      "  Finished tract IPL_L_gwfa_IPS_L_gwfa for subject A00039635\n",
      "  Finished tract IPL_L_gwfa_IPS_R_gwfa for subject A00039635\n",
      "  Finished tract IPL_L_gwfa_SPL_L_gwfa for subject A00039635\n",
      "  Finished tract IPL_L_gwfa_SPL_R_gwfa for subject A00039635\n",
      "  Finished tract IPL_L_gwfa_dPMC_L_gwfa for subject A00039635\n",
      "  - Tract IPL_L_gwfa_dPMC_R_gwfa not found. Skipping.\n",
      "  Finished tract IPL_L_gwfa_vPMC_L_gwfa for subject A00039635\n",
      "  Finished tract IPL_L_gwfa_vPMC_R_gwfa for subject A00039635\n",
      "  Finished tract IPL_R_gwfa_IPS_L_gwfa for subject A00039635\n",
      "  Finished tract IPL_R_gwfa_IPS_R_gwfa for subject A00039635\n",
      "  Finished tract IPL_R_gwfa_SPL_L_gwfa for subject A00039635\n",
      "  Finished tract IPL_R_gwfa_SPL_R_gwfa for subject A00039635\n",
      "  - Tract IPL_R_gwfa_dPMC_L_gwfa not found. Skipping.\n",
      "  Finished tract IPL_R_gwfa_dPMC_R_gwfa for subject A00039635\n",
      "  - Tract IPL_R_gwfa_vPMC_L_gwfa not found. Skipping.\n",
      "  Finished tract IPL_R_gwfa_vPMC_R_gwfa for subject A00039635\n",
      "  Finished tract IPS_L_gwfa_IPS_R_gwfa for subject A00039635\n",
      "  Finished tract IPS_L_gwfa_SPL_L_gwfa for subject A00039635\n",
      "  Finished tract IPS_L_gwfa_SPL_R_gwfa for subject A00039635\n",
      "  Finished tract IPS_L_gwfa_dPMC_L_gwfa for subject A00039635\n",
      "  Finished tract IPS_L_gwfa_dPMC_R_gwfa for subject A00039635\n",
      "  Finished tract IPS_L_gwfa_vPMC_L_gwfa for subject A00039635\n",
      "  Finished tract IPS_L_gwfa_vPMC_R_gwfa for subject A00039635\n",
      "  Finished tract IPS_R_gwfa_SPL_L_gwfa for subject A00039635\n",
      "  Finished tract IPS_R_gwfa_SPL_R_gwfa for subject A00039635\n",
      "  - Tract IPS_R_gwfa_dPMC_L_gwfa not found. Skipping.\n",
      "  Finished tract IPS_R_gwfa_dPMC_R_gwfa for subject A00039635\n",
      "  - Tract IPS_R_gwfa_vPMC_L_gwfa not found. Skipping.\n",
      "  Finished tract IPS_R_gwfa_vPMC_R_gwfa for subject A00039635\n",
      "  Finished tract SPL_L_gwfa_SPL_R_gwfa for subject A00039635\n",
      "  Finished tract SPL_L_gwfa_dPMC_L_gwfa for subject A00039635\n",
      "  Finished tract SPL_L_gwfa_dPMC_R_gwfa for subject A00039635\n",
      "  Finished tract SPL_L_gwfa_vPMC_L_gwfa for subject A00039635\n",
      "  - Tract SPL_L_gwfa_vPMC_R_gwfa not found. Skipping.\n"
     ]
    },
    {
     "name": "stdout",
     "output_type": "stream",
     "text": [
      "  Finished tract SPL_R_gwfa_dPMC_L_gwfa for subject A00039635\n",
      "  Finished tract SPL_R_gwfa_dPMC_R_gwfa for subject A00039635\n",
      "  Finished tract SPL_R_gwfa_vPMC_L_gwfa for subject A00039635\n",
      "  Finished tract SPL_R_gwfa_vPMC_R_gwfa for subject A00039635\n",
      "  Finished tract dPMC_L_gwfa_dPMC_R_gwfa for subject A00039635\n",
      "  Finished tract dPMC_L_gwfa_vPMC_L_gwfa for subject A00039635\n",
      "  Finished tract dPMC_L_gwfa_vPMC_R_gwfa for subject A00039635\n",
      "  Finished tract dPMC_R_gwfa_vPMC_L_gwfa for subject A00039635\n",
      "  Finished tract dPMC_R_gwfa_vPMC_R_gwfa for subject A00039635\n",
      "  Finished tract vPMC_L_gwfa_vPMC_R_gwfa for subject A00039635\n",
      "Successfully processed subject A00039635.\n",
      "Starting processing of subject A00039639.\n",
      "  Finished tract IPL_L_gwfa_IPL_R_gwfa for subject A00039639\n",
      "  Finished tract IPL_L_gwfa_IPS_L_gwfa for subject A00039639\n",
      "  Finished tract IPL_L_gwfa_IPS_R_gwfa for subject A00039639\n",
      "  Finished tract IPL_L_gwfa_SPL_L_gwfa for subject A00039639\n",
      "  Finished tract IPL_L_gwfa_SPL_R_gwfa for subject A00039639\n",
      "  Finished tract IPL_L_gwfa_dPMC_L_gwfa for subject A00039639\n",
      "  - Tract IPL_L_gwfa_dPMC_R_gwfa not found. Skipping.\n",
      "  Finished tract IPL_L_gwfa_vPMC_L_gwfa for subject A00039639\n",
      "  Finished tract IPL_L_gwfa_vPMC_R_gwfa for subject A00039639\n",
      "  Finished tract IPL_R_gwfa_IPS_L_gwfa for subject A00039639\n",
      "  Finished tract IPL_R_gwfa_IPS_R_gwfa for subject A00039639\n",
      "  Finished tract IPL_R_gwfa_SPL_L_gwfa for subject A00039639\n",
      "  Finished tract IPL_R_gwfa_SPL_R_gwfa for subject A00039639\n",
      "  - Tract IPL_R_gwfa_dPMC_L_gwfa not found. Skipping.\n",
      "  Finished tract IPL_R_gwfa_dPMC_R_gwfa for subject A00039639\n",
      "  - Tract IPL_R_gwfa_vPMC_L_gwfa not found. Skipping.\n",
      "  Finished tract IPL_R_gwfa_vPMC_R_gwfa for subject A00039639\n",
      "  Finished tract IPS_L_gwfa_IPS_R_gwfa for subject A00039639\n",
      "  Finished tract IPS_L_gwfa_SPL_L_gwfa for subject A00039639\n",
      "  Finished tract IPS_L_gwfa_SPL_R_gwfa for subject A00039639\n",
      "  Finished tract IPS_L_gwfa_dPMC_L_gwfa for subject A00039639\n",
      "  Finished tract IPS_L_gwfa_dPMC_R_gwfa for subject A00039639\n",
      "  Finished tract IPS_L_gwfa_vPMC_L_gwfa for subject A00039639\n",
      "  Finished tract IPS_L_gwfa_vPMC_R_gwfa for subject A00039639\n",
      "  Finished tract IPS_R_gwfa_SPL_L_gwfa for subject A00039639\n",
      "  Finished tract IPS_R_gwfa_SPL_R_gwfa for subject A00039639\n",
      "  - Tract IPS_R_gwfa_dPMC_L_gwfa not found. Skipping.\n",
      "  Finished tract IPS_R_gwfa_dPMC_R_gwfa for subject A00039639\n",
      "  - Tract IPS_R_gwfa_vPMC_L_gwfa not found. Skipping.\n",
      "  Finished tract IPS_R_gwfa_vPMC_R_gwfa for subject A00039639\n",
      "  Finished tract SPL_L_gwfa_SPL_R_gwfa for subject A00039639\n",
      "  Finished tract SPL_L_gwfa_dPMC_L_gwfa for subject A00039639\n",
      "  Finished tract SPL_L_gwfa_dPMC_R_gwfa for subject A00039639\n",
      "  Finished tract SPL_L_gwfa_vPMC_L_gwfa for subject A00039639\n",
      "  - Tract SPL_L_gwfa_vPMC_R_gwfa not found. Skipping.\n",
      "  Finished tract SPL_R_gwfa_dPMC_L_gwfa for subject A00039639\n",
      "  Finished tract SPL_R_gwfa_dPMC_R_gwfa for subject A00039639\n",
      "  Finished tract SPL_R_gwfa_vPMC_L_gwfa for subject A00039639\n",
      "  Finished tract SPL_R_gwfa_vPMC_R_gwfa for subject A00039639\n",
      "  Finished tract dPMC_L_gwfa_dPMC_R_gwfa for subject A00039639\n",
      "  Finished tract dPMC_L_gwfa_vPMC_L_gwfa for subject A00039639\n",
      "  Finished tract dPMC_L_gwfa_vPMC_R_gwfa for subject A00039639\n",
      "  Finished tract dPMC_R_gwfa_vPMC_L_gwfa for subject A00039639\n",
      "  Finished tract dPMC_R_gwfa_vPMC_R_gwfa for subject A00039639\n",
      "  Finished tract vPMC_L_gwfa_vPMC_R_gwfa for subject A00039639\n",
      "Successfully processed subject A00039639.\n",
      "Starting processing of subject A00039640.\n",
      "  Finished tract IPL_L_gwfa_IPL_R_gwfa for subject A00039640\n",
      "  Finished tract IPL_L_gwfa_IPS_L_gwfa for subject A00039640\n",
      "  Finished tract IPL_L_gwfa_IPS_R_gwfa for subject A00039640\n",
      "  Finished tract IPL_L_gwfa_SPL_L_gwfa for subject A00039640\n",
      "  Finished tract IPL_L_gwfa_SPL_R_gwfa for subject A00039640\n",
      "  Finished tract IPL_L_gwfa_dPMC_L_gwfa for subject A00039640\n",
      "  - Tract IPL_L_gwfa_dPMC_R_gwfa not found. Skipping.\n",
      "  Finished tract IPL_L_gwfa_vPMC_L_gwfa for subject A00039640\n",
      "  Finished tract IPL_L_gwfa_vPMC_R_gwfa for subject A00039640\n",
      "  Finished tract IPL_R_gwfa_IPS_L_gwfa for subject A00039640\n",
      "  Finished tract IPL_R_gwfa_IPS_R_gwfa for subject A00039640\n",
      "  Finished tract IPL_R_gwfa_SPL_L_gwfa for subject A00039640\n",
      "  Finished tract IPL_R_gwfa_SPL_R_gwfa for subject A00039640\n",
      "  - Tract IPL_R_gwfa_dPMC_L_gwfa not found. Skipping.\n",
      "  Finished tract IPL_R_gwfa_dPMC_R_gwfa for subject A00039640\n",
      "  - Tract IPL_R_gwfa_vPMC_L_gwfa not found. Skipping.\n",
      "  Finished tract IPL_R_gwfa_vPMC_R_gwfa for subject A00039640\n",
      "  Finished tract IPS_L_gwfa_IPS_R_gwfa for subject A00039640\n",
      "  Finished tract IPS_L_gwfa_SPL_L_gwfa for subject A00039640\n",
      "  Finished tract IPS_L_gwfa_SPL_R_gwfa for subject A00039640\n",
      "  Finished tract IPS_L_gwfa_dPMC_L_gwfa for subject A00039640\n",
      "  Finished tract IPS_L_gwfa_dPMC_R_gwfa for subject A00039640\n",
      "  Finished tract IPS_L_gwfa_vPMC_L_gwfa for subject A00039640\n",
      "  Finished tract IPS_L_gwfa_vPMC_R_gwfa for subject A00039640\n",
      "  Finished tract IPS_R_gwfa_SPL_L_gwfa for subject A00039640\n",
      "  Finished tract IPS_R_gwfa_SPL_R_gwfa for subject A00039640\n",
      "  - Tract IPS_R_gwfa_dPMC_L_gwfa not found. Skipping.\n",
      "  Finished tract IPS_R_gwfa_dPMC_R_gwfa for subject A00039640\n",
      "  - Tract IPS_R_gwfa_vPMC_L_gwfa not found. Skipping.\n",
      "  Finished tract IPS_R_gwfa_vPMC_R_gwfa for subject A00039640\n",
      "  Finished tract SPL_L_gwfa_SPL_R_gwfa for subject A00039640\n",
      "  Finished tract SPL_L_gwfa_dPMC_L_gwfa for subject A00039640\n",
      "  Finished tract SPL_L_gwfa_dPMC_R_gwfa for subject A00039640\n",
      "  Finished tract SPL_L_gwfa_vPMC_L_gwfa for subject A00039640\n",
      "  - Tract SPL_L_gwfa_vPMC_R_gwfa not found. Skipping.\n",
      "  Finished tract SPL_R_gwfa_dPMC_L_gwfa for subject A00039640\n",
      "  Finished tract SPL_R_gwfa_dPMC_R_gwfa for subject A00039640\n",
      "  Finished tract SPL_R_gwfa_vPMC_L_gwfa for subject A00039640\n",
      "  Finished tract SPL_R_gwfa_vPMC_R_gwfa for subject A00039640\n",
      "  Finished tract dPMC_L_gwfa_dPMC_R_gwfa for subject A00039640\n",
      "  Finished tract dPMC_L_gwfa_vPMC_L_gwfa for subject A00039640\n",
      "  Finished tract dPMC_L_gwfa_vPMC_R_gwfa for subject A00039640\n",
      "  Finished tract dPMC_R_gwfa_vPMC_L_gwfa for subject A00039640\n",
      "  Finished tract dPMC_R_gwfa_vPMC_R_gwfa for subject A00039640\n",
      "  Finished tract vPMC_L_gwfa_vPMC_R_gwfa for subject A00039640\n",
      "Successfully processed subject A00039640.\n",
      "Starting processing of subject A00039669.\n",
      "  Finished tract IPL_L_gwfa_IPL_R_gwfa for subject A00039669\n",
      "  Finished tract IPL_L_gwfa_IPS_L_gwfa for subject A00039669\n",
      "  Finished tract IPL_L_gwfa_IPS_R_gwfa for subject A00039669\n",
      "  Finished tract IPL_L_gwfa_SPL_L_gwfa for subject A00039669\n",
      "  Finished tract IPL_L_gwfa_SPL_R_gwfa for subject A00039669\n",
      "  Finished tract IPL_L_gwfa_dPMC_L_gwfa for subject A00039669\n",
      "  - Tract IPL_L_gwfa_dPMC_R_gwfa not found. Skipping.\n",
      "  Finished tract IPL_L_gwfa_vPMC_L_gwfa for subject A00039669\n",
      "  Finished tract IPL_L_gwfa_vPMC_R_gwfa for subject A00039669\n",
      "  Finished tract IPL_R_gwfa_IPS_L_gwfa for subject A00039669\n",
      "  Finished tract IPL_R_gwfa_IPS_R_gwfa for subject A00039669\n",
      "  Finished tract IPL_R_gwfa_SPL_L_gwfa for subject A00039669\n",
      "  Finished tract IPL_R_gwfa_SPL_R_gwfa for subject A00039669\n",
      "  - Tract IPL_R_gwfa_dPMC_L_gwfa not found. Skipping.\n",
      "  Finished tract IPL_R_gwfa_dPMC_R_gwfa for subject A00039669\n",
      "  - Tract IPL_R_gwfa_vPMC_L_gwfa not found. Skipping.\n",
      "  Finished tract IPL_R_gwfa_vPMC_R_gwfa for subject A00039669\n",
      "  Finished tract IPS_L_gwfa_IPS_R_gwfa for subject A00039669\n",
      "  Finished tract IPS_L_gwfa_SPL_L_gwfa for subject A00039669\n",
      "  Finished tract IPS_L_gwfa_SPL_R_gwfa for subject A00039669\n",
      "  Finished tract IPS_L_gwfa_dPMC_L_gwfa for subject A00039669\n",
      "  Finished tract IPS_L_gwfa_dPMC_R_gwfa for subject A00039669\n",
      "  Finished tract IPS_L_gwfa_vPMC_L_gwfa for subject A00039669\n",
      "  Finished tract IPS_L_gwfa_vPMC_R_gwfa for subject A00039669\n",
      "  Finished tract IPS_R_gwfa_SPL_L_gwfa for subject A00039669\n",
      "  Finished tract IPS_R_gwfa_SPL_R_gwfa for subject A00039669\n",
      "  - Tract IPS_R_gwfa_dPMC_L_gwfa not found. Skipping.\n",
      "  Finished tract IPS_R_gwfa_dPMC_R_gwfa for subject A00039669\n",
      "  - Tract IPS_R_gwfa_vPMC_L_gwfa not found. Skipping.\n",
      "  Finished tract IPS_R_gwfa_vPMC_R_gwfa for subject A00039669\n",
      "  Finished tract SPL_L_gwfa_SPL_R_gwfa for subject A00039669\n"
     ]
    },
    {
     "name": "stdout",
     "output_type": "stream",
     "text": [
      "  Finished tract SPL_L_gwfa_dPMC_L_gwfa for subject A00039669\n",
      "  Finished tract SPL_L_gwfa_dPMC_R_gwfa for subject A00039669\n",
      "  Finished tract SPL_L_gwfa_vPMC_L_gwfa for subject A00039669\n",
      "  - Tract SPL_L_gwfa_vPMC_R_gwfa not found. Skipping.\n",
      "  Finished tract SPL_R_gwfa_dPMC_L_gwfa for subject A00039669\n",
      "  Finished tract SPL_R_gwfa_dPMC_R_gwfa for subject A00039669\n",
      "  Finished tract SPL_R_gwfa_vPMC_L_gwfa for subject A00039669\n",
      "  Finished tract SPL_R_gwfa_vPMC_R_gwfa for subject A00039669\n",
      "  Finished tract dPMC_L_gwfa_dPMC_R_gwfa for subject A00039669\n",
      "  Finished tract dPMC_L_gwfa_vPMC_L_gwfa for subject A00039669\n",
      "  Finished tract dPMC_L_gwfa_vPMC_R_gwfa for subject A00039669\n",
      "  Finished tract dPMC_R_gwfa_vPMC_L_gwfa for subject A00039669\n",
      "  Finished tract dPMC_R_gwfa_vPMC_R_gwfa for subject A00039669\n",
      "  Finished tract vPMC_L_gwfa_vPMC_R_gwfa for subject A00039669\n",
      "Successfully processed subject A00039669.\n",
      "Starting processing of subject A00039686.\n",
      "  Finished tract IPL_L_gwfa_IPL_R_gwfa for subject A00039686\n",
      "  Finished tract IPL_L_gwfa_IPS_L_gwfa for subject A00039686\n",
      "  Finished tract IPL_L_gwfa_IPS_R_gwfa for subject A00039686\n",
      "  Finished tract IPL_L_gwfa_SPL_L_gwfa for subject A00039686\n",
      "  Finished tract IPL_L_gwfa_SPL_R_gwfa for subject A00039686\n",
      "  Finished tract IPL_L_gwfa_dPMC_L_gwfa for subject A00039686\n",
      "  - Tract IPL_L_gwfa_dPMC_R_gwfa not found. Skipping.\n",
      "  Finished tract IPL_L_gwfa_vPMC_L_gwfa for subject A00039686\n",
      "  Finished tract IPL_L_gwfa_vPMC_R_gwfa for subject A00039686\n",
      "  Finished tract IPL_R_gwfa_IPS_L_gwfa for subject A00039686\n",
      "  Finished tract IPL_R_gwfa_IPS_R_gwfa for subject A00039686\n",
      "  Finished tract IPL_R_gwfa_SPL_L_gwfa for subject A00039686\n",
      "  Finished tract IPL_R_gwfa_SPL_R_gwfa for subject A00039686\n",
      "  - Tract IPL_R_gwfa_dPMC_L_gwfa not found. Skipping.\n",
      "  Finished tract IPL_R_gwfa_dPMC_R_gwfa for subject A00039686\n",
      "  - Tract IPL_R_gwfa_vPMC_L_gwfa not found. Skipping.\n",
      "  Finished tract IPL_R_gwfa_vPMC_R_gwfa for subject A00039686\n",
      "  Finished tract IPS_L_gwfa_IPS_R_gwfa for subject A00039686\n",
      "  Finished tract IPS_L_gwfa_SPL_L_gwfa for subject A00039686\n",
      "  Finished tract IPS_L_gwfa_SPL_R_gwfa for subject A00039686\n",
      "  Finished tract IPS_L_gwfa_dPMC_L_gwfa for subject A00039686\n",
      "  Finished tract IPS_L_gwfa_dPMC_R_gwfa for subject A00039686\n",
      "  Finished tract IPS_L_gwfa_vPMC_L_gwfa for subject A00039686\n",
      "  Finished tract IPS_L_gwfa_vPMC_R_gwfa for subject A00039686\n",
      "  Finished tract IPS_R_gwfa_SPL_L_gwfa for subject A00039686\n",
      "  Finished tract IPS_R_gwfa_SPL_R_gwfa for subject A00039686\n",
      "  - Tract IPS_R_gwfa_dPMC_L_gwfa not found. Skipping.\n",
      "  Finished tract IPS_R_gwfa_dPMC_R_gwfa for subject A00039686\n",
      "  - Tract IPS_R_gwfa_vPMC_L_gwfa not found. Skipping.\n",
      "  Finished tract IPS_R_gwfa_vPMC_R_gwfa for subject A00039686\n",
      "  Finished tract SPL_L_gwfa_SPL_R_gwfa for subject A00039686\n",
      "  Finished tract SPL_L_gwfa_dPMC_L_gwfa for subject A00039686\n",
      "  Finished tract SPL_L_gwfa_dPMC_R_gwfa for subject A00039686\n",
      "  Finished tract SPL_L_gwfa_vPMC_L_gwfa for subject A00039686\n",
      "  - Tract SPL_L_gwfa_vPMC_R_gwfa not found. Skipping.\n",
      "  Finished tract SPL_R_gwfa_dPMC_L_gwfa for subject A00039686\n",
      "  Finished tract SPL_R_gwfa_dPMC_R_gwfa for subject A00039686\n",
      "  Finished tract SPL_R_gwfa_vPMC_L_gwfa for subject A00039686\n",
      "  Finished tract SPL_R_gwfa_vPMC_R_gwfa for subject A00039686\n",
      "  Finished tract dPMC_L_gwfa_dPMC_R_gwfa for subject A00039686\n",
      "  Finished tract dPMC_L_gwfa_vPMC_L_gwfa for subject A00039686\n",
      "  Finished tract dPMC_L_gwfa_vPMC_R_gwfa for subject A00039686\n",
      "  Finished tract dPMC_R_gwfa_vPMC_L_gwfa for subject A00039686\n",
      "  Finished tract dPMC_R_gwfa_vPMC_R_gwfa for subject A00039686\n",
      "  Finished tract vPMC_L_gwfa_vPMC_R_gwfa for subject A00039686\n",
      "Successfully processed subject A00039686.\n",
      "Starting processing of subject A00039700.\n",
      "  Finished tract IPL_L_gwfa_IPL_R_gwfa for subject A00039700\n",
      "  Finished tract IPL_L_gwfa_IPS_L_gwfa for subject A00039700\n",
      "  Finished tract IPL_L_gwfa_IPS_R_gwfa for subject A00039700\n",
      "  Finished tract IPL_L_gwfa_SPL_L_gwfa for subject A00039700\n",
      "  Finished tract IPL_L_gwfa_SPL_R_gwfa for subject A00039700\n",
      "  Finished tract IPL_L_gwfa_dPMC_L_gwfa for subject A00039700\n",
      "  - Tract IPL_L_gwfa_dPMC_R_gwfa not found. Skipping.\n",
      "  Finished tract IPL_L_gwfa_vPMC_L_gwfa for subject A00039700\n",
      "  Finished tract IPL_L_gwfa_vPMC_R_gwfa for subject A00039700\n",
      "  Finished tract IPL_R_gwfa_IPS_L_gwfa for subject A00039700\n",
      "  Finished tract IPL_R_gwfa_IPS_R_gwfa for subject A00039700\n",
      "  Finished tract IPL_R_gwfa_SPL_L_gwfa for subject A00039700\n",
      "  Finished tract IPL_R_gwfa_SPL_R_gwfa for subject A00039700\n",
      "  - Tract IPL_R_gwfa_dPMC_L_gwfa not found. Skipping.\n",
      "  Finished tract IPL_R_gwfa_dPMC_R_gwfa for subject A00039700\n",
      "  - Tract IPL_R_gwfa_vPMC_L_gwfa not found. Skipping.\n",
      "  Finished tract IPL_R_gwfa_vPMC_R_gwfa for subject A00039700\n",
      "  Finished tract IPS_L_gwfa_IPS_R_gwfa for subject A00039700\n",
      "  Finished tract IPS_L_gwfa_SPL_L_gwfa for subject A00039700\n",
      "  Finished tract IPS_L_gwfa_SPL_R_gwfa for subject A00039700\n",
      "  Finished tract IPS_L_gwfa_dPMC_L_gwfa for subject A00039700\n",
      "  Finished tract IPS_L_gwfa_dPMC_R_gwfa for subject A00039700\n",
      "  Finished tract IPS_L_gwfa_vPMC_L_gwfa for subject A00039700\n",
      "  Finished tract IPS_L_gwfa_vPMC_R_gwfa for subject A00039700\n",
      "  Finished tract IPS_R_gwfa_SPL_L_gwfa for subject A00039700\n",
      "  Finished tract IPS_R_gwfa_SPL_R_gwfa for subject A00039700\n",
      "  - Tract IPS_R_gwfa_dPMC_L_gwfa not found. Skipping.\n",
      "  Finished tract IPS_R_gwfa_dPMC_R_gwfa for subject A00039700\n",
      "  - Tract IPS_R_gwfa_vPMC_L_gwfa not found. Skipping.\n",
      "  Finished tract IPS_R_gwfa_vPMC_R_gwfa for subject A00039700\n",
      "  Finished tract SPL_L_gwfa_SPL_R_gwfa for subject A00039700\n",
      "  Finished tract SPL_L_gwfa_dPMC_L_gwfa for subject A00039700\n",
      "  Finished tract SPL_L_gwfa_dPMC_R_gwfa for subject A00039700\n",
      "  Finished tract SPL_L_gwfa_vPMC_L_gwfa for subject A00039700\n",
      "  - Tract SPL_L_gwfa_vPMC_R_gwfa not found. Skipping.\n",
      "  Finished tract SPL_R_gwfa_dPMC_L_gwfa for subject A00039700\n",
      "  Finished tract SPL_R_gwfa_dPMC_R_gwfa for subject A00039700\n",
      "  Finished tract SPL_R_gwfa_vPMC_L_gwfa for subject A00039700\n",
      "  Finished tract SPL_R_gwfa_vPMC_R_gwfa for subject A00039700\n",
      "  Finished tract dPMC_L_gwfa_dPMC_R_gwfa for subject A00039700\n",
      "  Finished tract dPMC_L_gwfa_vPMC_L_gwfa for subject A00039700\n",
      "  Finished tract dPMC_L_gwfa_vPMC_R_gwfa for subject A00039700\n",
      "  Finished tract dPMC_R_gwfa_vPMC_L_gwfa for subject A00039700\n",
      "  Finished tract dPMC_R_gwfa_vPMC_R_gwfa for subject A00039700\n",
      "  Finished tract vPMC_L_gwfa_vPMC_R_gwfa for subject A00039700\n",
      "Successfully processed subject A00039700.\n",
      "Starting processing of subject A00039758.\n",
      "  Finished tract IPL_L_gwfa_IPL_R_gwfa for subject A00039758\n",
      "  Finished tract IPL_L_gwfa_IPS_L_gwfa for subject A00039758\n",
      "  Finished tract IPL_L_gwfa_IPS_R_gwfa for subject A00039758\n",
      "  Finished tract IPL_L_gwfa_SPL_L_gwfa for subject A00039758\n",
      "  Finished tract IPL_L_gwfa_SPL_R_gwfa for subject A00039758\n",
      "  Finished tract IPL_L_gwfa_dPMC_L_gwfa for subject A00039758\n",
      "  - Tract IPL_L_gwfa_dPMC_R_gwfa not found. Skipping.\n",
      "  Finished tract IPL_L_gwfa_vPMC_L_gwfa for subject A00039758\n",
      "  Finished tract IPL_L_gwfa_vPMC_R_gwfa for subject A00039758\n",
      "  Finished tract IPL_R_gwfa_IPS_L_gwfa for subject A00039758\n",
      "  Finished tract IPL_R_gwfa_IPS_R_gwfa for subject A00039758\n",
      "  Finished tract IPL_R_gwfa_SPL_L_gwfa for subject A00039758\n",
      "  Finished tract IPL_R_gwfa_SPL_R_gwfa for subject A00039758\n",
      "  - Tract IPL_R_gwfa_dPMC_L_gwfa not found. Skipping.\n",
      "  Finished tract IPL_R_gwfa_dPMC_R_gwfa for subject A00039758\n",
      "  - Tract IPL_R_gwfa_vPMC_L_gwfa not found. Skipping.\n",
      "  Finished tract IPL_R_gwfa_vPMC_R_gwfa for subject A00039758\n",
      "  Finished tract IPS_L_gwfa_IPS_R_gwfa for subject A00039758\n",
      "  Finished tract IPS_L_gwfa_SPL_L_gwfa for subject A00039758\n",
      "  Finished tract IPS_L_gwfa_SPL_R_gwfa for subject A00039758\n",
      "  Finished tract IPS_L_gwfa_dPMC_L_gwfa for subject A00039758\n",
      "  Finished tract IPS_L_gwfa_dPMC_R_gwfa for subject A00039758\n",
      "  Finished tract IPS_L_gwfa_vPMC_L_gwfa for subject A00039758\n",
      "  Finished tract IPS_L_gwfa_vPMC_R_gwfa for subject A00039758\n",
      "  Finished tract IPS_R_gwfa_SPL_L_gwfa for subject A00039758\n",
      "  Finished tract IPS_R_gwfa_SPL_R_gwfa for subject A00039758\n",
      "  - Tract IPS_R_gwfa_dPMC_L_gwfa not found. Skipping.\n"
     ]
    },
    {
     "name": "stdout",
     "output_type": "stream",
     "text": [
      "  Finished tract IPS_R_gwfa_dPMC_R_gwfa for subject A00039758\n",
      "  - Tract IPS_R_gwfa_vPMC_L_gwfa not found. Skipping.\n",
      "  Finished tract IPS_R_gwfa_vPMC_R_gwfa for subject A00039758\n",
      "  Finished tract SPL_L_gwfa_SPL_R_gwfa for subject A00039758\n",
      "  Finished tract SPL_L_gwfa_dPMC_L_gwfa for subject A00039758\n",
      "  Finished tract SPL_L_gwfa_dPMC_R_gwfa for subject A00039758\n",
      "  Finished tract SPL_L_gwfa_vPMC_L_gwfa for subject A00039758\n",
      "  - Tract SPL_L_gwfa_vPMC_R_gwfa not found. Skipping.\n",
      "  Finished tract SPL_R_gwfa_dPMC_L_gwfa for subject A00039758\n",
      "  Finished tract SPL_R_gwfa_dPMC_R_gwfa for subject A00039758\n",
      "  Finished tract SPL_R_gwfa_vPMC_L_gwfa for subject A00039758\n",
      "  Finished tract SPL_R_gwfa_vPMC_R_gwfa for subject A00039758\n",
      "  Finished tract dPMC_L_gwfa_dPMC_R_gwfa for subject A00039758\n",
      "  Finished tract dPMC_L_gwfa_vPMC_L_gwfa for subject A00039758\n",
      "  Finished tract dPMC_L_gwfa_vPMC_R_gwfa for subject A00039758\n",
      "  Finished tract dPMC_R_gwfa_vPMC_L_gwfa for subject A00039758\n",
      "  Finished tract dPMC_R_gwfa_vPMC_R_gwfa for subject A00039758\n",
      "  Finished tract vPMC_L_gwfa_vPMC_R_gwfa for subject A00039758\n",
      "Successfully processed subject A00039758.\n",
      "Starting processing of subject A00039783.\n",
      "  Finished tract IPL_L_gwfa_IPL_R_gwfa for subject A00039783\n",
      "  Finished tract IPL_L_gwfa_IPS_L_gwfa for subject A00039783\n",
      "  Finished tract IPL_L_gwfa_IPS_R_gwfa for subject A00039783\n",
      "  Finished tract IPL_L_gwfa_SPL_L_gwfa for subject A00039783\n",
      "  Finished tract IPL_L_gwfa_SPL_R_gwfa for subject A00039783\n",
      "  Finished tract IPL_L_gwfa_dPMC_L_gwfa for subject A00039783\n",
      "  - Tract IPL_L_gwfa_dPMC_R_gwfa not found. Skipping.\n",
      "  Finished tract IPL_L_gwfa_vPMC_L_gwfa for subject A00039783\n",
      "  Finished tract IPL_L_gwfa_vPMC_R_gwfa for subject A00039783\n",
      "  Finished tract IPL_R_gwfa_IPS_L_gwfa for subject A00039783\n",
      "  Finished tract IPL_R_gwfa_IPS_R_gwfa for subject A00039783\n",
      "  Finished tract IPL_R_gwfa_SPL_L_gwfa for subject A00039783\n",
      "  Finished tract IPL_R_gwfa_SPL_R_gwfa for subject A00039783\n",
      "  - Tract IPL_R_gwfa_dPMC_L_gwfa not found. Skipping.\n",
      "  Finished tract IPL_R_gwfa_dPMC_R_gwfa for subject A00039783\n",
      "  - Tract IPL_R_gwfa_vPMC_L_gwfa not found. Skipping.\n",
      "  Finished tract IPL_R_gwfa_vPMC_R_gwfa for subject A00039783\n",
      "  Finished tract IPS_L_gwfa_IPS_R_gwfa for subject A00039783\n",
      "  Finished tract IPS_L_gwfa_SPL_L_gwfa for subject A00039783\n",
      "  Finished tract IPS_L_gwfa_SPL_R_gwfa for subject A00039783\n",
      "  Finished tract IPS_L_gwfa_dPMC_L_gwfa for subject A00039783\n",
      "  Finished tract IPS_L_gwfa_dPMC_R_gwfa for subject A00039783\n",
      "  Finished tract IPS_L_gwfa_vPMC_L_gwfa for subject A00039783\n",
      "  Finished tract IPS_L_gwfa_vPMC_R_gwfa for subject A00039783\n",
      "  Finished tract IPS_R_gwfa_SPL_L_gwfa for subject A00039783\n",
      "  Finished tract IPS_R_gwfa_SPL_R_gwfa for subject A00039783\n",
      "  - Tract IPS_R_gwfa_dPMC_L_gwfa not found. Skipping.\n",
      "  Finished tract IPS_R_gwfa_dPMC_R_gwfa for subject A00039783\n",
      "  - Tract IPS_R_gwfa_vPMC_L_gwfa not found. Skipping.\n",
      "  Finished tract IPS_R_gwfa_vPMC_R_gwfa for subject A00039783\n",
      "  Finished tract SPL_L_gwfa_SPL_R_gwfa for subject A00039783\n",
      "  Finished tract SPL_L_gwfa_dPMC_L_gwfa for subject A00039783\n",
      "  Finished tract SPL_L_gwfa_dPMC_R_gwfa for subject A00039783\n",
      "  Finished tract SPL_L_gwfa_vPMC_L_gwfa for subject A00039783\n",
      "  - Tract SPL_L_gwfa_vPMC_R_gwfa not found. Skipping.\n",
      "  Finished tract SPL_R_gwfa_dPMC_L_gwfa for subject A00039783\n",
      "  Finished tract SPL_R_gwfa_dPMC_R_gwfa for subject A00039783\n",
      "  Finished tract SPL_R_gwfa_vPMC_L_gwfa for subject A00039783\n",
      "  Finished tract SPL_R_gwfa_vPMC_R_gwfa for subject A00039783\n",
      "  Finished tract dPMC_L_gwfa_dPMC_R_gwfa for subject A00039783\n",
      "  Finished tract dPMC_L_gwfa_vPMC_L_gwfa for subject A00039783\n",
      "  Finished tract dPMC_L_gwfa_vPMC_R_gwfa for subject A00039783\n",
      "  Finished tract dPMC_R_gwfa_vPMC_L_gwfa for subject A00039783\n",
      "  Finished tract dPMC_R_gwfa_vPMC_R_gwfa for subject A00039783\n",
      "  Finished tract vPMC_L_gwfa_vPMC_R_gwfa for subject A00039783\n",
      "Successfully processed subject A00039783.\n",
      "Starting processing of subject A00039820.\n",
      "  Finished tract IPL_L_gwfa_IPL_R_gwfa for subject A00039820\n",
      "  Finished tract IPL_L_gwfa_IPS_L_gwfa for subject A00039820\n",
      "  Finished tract IPL_L_gwfa_IPS_R_gwfa for subject A00039820\n",
      "  Finished tract IPL_L_gwfa_SPL_L_gwfa for subject A00039820\n",
      "  Finished tract IPL_L_gwfa_SPL_R_gwfa for subject A00039820\n",
      "  Finished tract IPL_L_gwfa_dPMC_L_gwfa for subject A00039820\n",
      "  - Tract IPL_L_gwfa_dPMC_R_gwfa not found. Skipping.\n",
      "  Finished tract IPL_L_gwfa_vPMC_L_gwfa for subject A00039820\n",
      "  Finished tract IPL_L_gwfa_vPMC_R_gwfa for subject A00039820\n",
      "  Finished tract IPL_R_gwfa_IPS_L_gwfa for subject A00039820\n",
      "  Finished tract IPL_R_gwfa_IPS_R_gwfa for subject A00039820\n",
      "  Finished tract IPL_R_gwfa_SPL_L_gwfa for subject A00039820\n",
      "  Finished tract IPL_R_gwfa_SPL_R_gwfa for subject A00039820\n",
      "  - Tract IPL_R_gwfa_dPMC_L_gwfa not found. Skipping.\n",
      "  Finished tract IPL_R_gwfa_dPMC_R_gwfa for subject A00039820\n",
      "  - Tract IPL_R_gwfa_vPMC_L_gwfa not found. Skipping.\n",
      "  Finished tract IPL_R_gwfa_vPMC_R_gwfa for subject A00039820\n",
      "  Finished tract IPS_L_gwfa_IPS_R_gwfa for subject A00039820\n",
      "  Finished tract IPS_L_gwfa_SPL_L_gwfa for subject A00039820\n",
      "  Finished tract IPS_L_gwfa_SPL_R_gwfa for subject A00039820\n",
      "  Finished tract IPS_L_gwfa_dPMC_L_gwfa for subject A00039820\n",
      "  Finished tract IPS_L_gwfa_dPMC_R_gwfa for subject A00039820\n",
      "  Finished tract IPS_L_gwfa_vPMC_L_gwfa for subject A00039820\n",
      "  Finished tract IPS_L_gwfa_vPMC_R_gwfa for subject A00039820\n",
      "  Finished tract IPS_R_gwfa_SPL_L_gwfa for subject A00039820\n",
      "  Finished tract IPS_R_gwfa_SPL_R_gwfa for subject A00039820\n",
      "  - Tract IPS_R_gwfa_dPMC_L_gwfa not found. Skipping.\n",
      "  Finished tract IPS_R_gwfa_dPMC_R_gwfa for subject A00039820\n",
      "  - Tract IPS_R_gwfa_vPMC_L_gwfa not found. Skipping.\n",
      "  Finished tract IPS_R_gwfa_vPMC_R_gwfa for subject A00039820\n",
      "  Finished tract SPL_L_gwfa_SPL_R_gwfa for subject A00039820\n",
      "  Finished tract SPL_L_gwfa_dPMC_L_gwfa for subject A00039820\n",
      "  Finished tract SPL_L_gwfa_dPMC_R_gwfa for subject A00039820\n",
      "  Finished tract SPL_L_gwfa_vPMC_L_gwfa for subject A00039820\n",
      "  - Tract SPL_L_gwfa_vPMC_R_gwfa not found. Skipping.\n",
      "  Finished tract SPL_R_gwfa_dPMC_L_gwfa for subject A00039820\n",
      "  Finished tract SPL_R_gwfa_dPMC_R_gwfa for subject A00039820\n",
      "  Finished tract SPL_R_gwfa_vPMC_L_gwfa for subject A00039820\n",
      "  Finished tract SPL_R_gwfa_vPMC_R_gwfa for subject A00039820\n",
      "  Finished tract dPMC_L_gwfa_dPMC_R_gwfa for subject A00039820\n",
      "  Finished tract dPMC_L_gwfa_vPMC_L_gwfa for subject A00039820\n",
      "  Finished tract dPMC_L_gwfa_vPMC_R_gwfa for subject A00039820\n",
      "  Finished tract dPMC_R_gwfa_vPMC_L_gwfa for subject A00039820\n",
      "  Finished tract dPMC_R_gwfa_vPMC_R_gwfa for subject A00039820\n",
      "  Finished tract vPMC_L_gwfa_vPMC_R_gwfa for subject A00039820\n",
      "Successfully processed subject A00039820.\n",
      "Starting processing of subject A00039845.\n",
      "  Finished tract IPL_L_gwfa_IPL_R_gwfa for subject A00039845\n",
      "  Finished tract IPL_L_gwfa_IPS_L_gwfa for subject A00039845\n",
      "  Finished tract IPL_L_gwfa_IPS_R_gwfa for subject A00039845\n",
      "  Finished tract IPL_L_gwfa_SPL_L_gwfa for subject A00039845\n",
      "  Finished tract IPL_L_gwfa_SPL_R_gwfa for subject A00039845\n",
      "  Finished tract IPL_L_gwfa_dPMC_L_gwfa for subject A00039845\n",
      "  - Tract IPL_L_gwfa_dPMC_R_gwfa not found. Skipping.\n",
      "  Finished tract IPL_L_gwfa_vPMC_L_gwfa for subject A00039845\n",
      "  Finished tract IPL_L_gwfa_vPMC_R_gwfa for subject A00039845\n",
      "  Finished tract IPL_R_gwfa_IPS_L_gwfa for subject A00039845\n",
      "  Finished tract IPL_R_gwfa_IPS_R_gwfa for subject A00039845\n",
      "  Finished tract IPL_R_gwfa_SPL_L_gwfa for subject A00039845\n",
      "  Finished tract IPL_R_gwfa_SPL_R_gwfa for subject A00039845\n",
      "  - Tract IPL_R_gwfa_dPMC_L_gwfa not found. Skipping.\n",
      "  Finished tract IPL_R_gwfa_dPMC_R_gwfa for subject A00039845\n",
      "  - Tract IPL_R_gwfa_vPMC_L_gwfa not found. Skipping.\n",
      "  Finished tract IPL_R_gwfa_vPMC_R_gwfa for subject A00039845\n",
      "  Finished tract IPS_L_gwfa_IPS_R_gwfa for subject A00039845\n",
      "  Finished tract IPS_L_gwfa_SPL_L_gwfa for subject A00039845\n",
      "  Finished tract IPS_L_gwfa_SPL_R_gwfa for subject A00039845\n",
      "  Finished tract IPS_L_gwfa_dPMC_L_gwfa for subject A00039845\n",
      "  Finished tract IPS_L_gwfa_dPMC_R_gwfa for subject A00039845\n",
      "  Finished tract IPS_L_gwfa_vPMC_L_gwfa for subject A00039845\n"
     ]
    },
    {
     "name": "stdout",
     "output_type": "stream",
     "text": [
      "  Finished tract IPS_L_gwfa_vPMC_R_gwfa for subject A00039845\n",
      "  Finished tract IPS_R_gwfa_SPL_L_gwfa for subject A00039845\n",
      "  Finished tract IPS_R_gwfa_SPL_R_gwfa for subject A00039845\n",
      "  - Tract IPS_R_gwfa_dPMC_L_gwfa not found. Skipping.\n",
      "  Finished tract IPS_R_gwfa_dPMC_R_gwfa for subject A00039845\n",
      "  - Tract IPS_R_gwfa_vPMC_L_gwfa not found. Skipping.\n",
      "  Finished tract IPS_R_gwfa_vPMC_R_gwfa for subject A00039845\n",
      "  Finished tract SPL_L_gwfa_SPL_R_gwfa for subject A00039845\n",
      "  Finished tract SPL_L_gwfa_dPMC_L_gwfa for subject A00039845\n",
      "  Finished tract SPL_L_gwfa_dPMC_R_gwfa for subject A00039845\n",
      "  Finished tract SPL_L_gwfa_vPMC_L_gwfa for subject A00039845\n",
      "  - Tract SPL_L_gwfa_vPMC_R_gwfa not found. Skipping.\n",
      "  Finished tract SPL_R_gwfa_dPMC_L_gwfa for subject A00039845\n",
      "  Finished tract SPL_R_gwfa_dPMC_R_gwfa for subject A00039845\n",
      "  Finished tract SPL_R_gwfa_vPMC_L_gwfa for subject A00039845\n",
      "  Finished tract SPL_R_gwfa_vPMC_R_gwfa for subject A00039845\n",
      "  Finished tract dPMC_L_gwfa_dPMC_R_gwfa for subject A00039845\n",
      "  Finished tract dPMC_L_gwfa_vPMC_L_gwfa for subject A00039845\n",
      "  Finished tract dPMC_L_gwfa_vPMC_R_gwfa for subject A00039845\n",
      "  Finished tract dPMC_R_gwfa_vPMC_L_gwfa for subject A00039845\n",
      "  Finished tract dPMC_R_gwfa_vPMC_R_gwfa for subject A00039845\n",
      "  Finished tract vPMC_L_gwfa_vPMC_R_gwfa for subject A00039845\n",
      "Successfully processed subject A00039845.\n",
      "Starting processing of subject A00039895.\n",
      "  Finished tract IPL_L_gwfa_IPL_R_gwfa for subject A00039895\n",
      "  Finished tract IPL_L_gwfa_IPS_L_gwfa for subject A00039895\n",
      "  Finished tract IPL_L_gwfa_IPS_R_gwfa for subject A00039895\n",
      "  Finished tract IPL_L_gwfa_SPL_L_gwfa for subject A00039895\n",
      "  Finished tract IPL_L_gwfa_SPL_R_gwfa for subject A00039895\n",
      "  Finished tract IPL_L_gwfa_dPMC_L_gwfa for subject A00039895\n",
      "  - Tract IPL_L_gwfa_dPMC_R_gwfa not found. Skipping.\n",
      "  Finished tract IPL_L_gwfa_vPMC_L_gwfa for subject A00039895\n",
      "  Finished tract IPL_L_gwfa_vPMC_R_gwfa for subject A00039895\n",
      "  Finished tract IPL_R_gwfa_IPS_L_gwfa for subject A00039895\n",
      "  Finished tract IPL_R_gwfa_IPS_R_gwfa for subject A00039895\n",
      "  Finished tract IPL_R_gwfa_SPL_L_gwfa for subject A00039895\n",
      "  Finished tract IPL_R_gwfa_SPL_R_gwfa for subject A00039895\n",
      "  - Tract IPL_R_gwfa_dPMC_L_gwfa not found. Skipping.\n",
      "  Finished tract IPL_R_gwfa_dPMC_R_gwfa for subject A00039895\n",
      "  - Tract IPL_R_gwfa_vPMC_L_gwfa not found. Skipping.\n",
      "  Finished tract IPL_R_gwfa_vPMC_R_gwfa for subject A00039895\n",
      "  Finished tract IPS_L_gwfa_IPS_R_gwfa for subject A00039895\n",
      "  Finished tract IPS_L_gwfa_SPL_L_gwfa for subject A00039895\n",
      "  Finished tract IPS_L_gwfa_SPL_R_gwfa for subject A00039895\n",
      "  Finished tract IPS_L_gwfa_dPMC_L_gwfa for subject A00039895\n",
      "  Finished tract IPS_L_gwfa_dPMC_R_gwfa for subject A00039895\n",
      "  Finished tract IPS_L_gwfa_vPMC_L_gwfa for subject A00039895\n",
      "  Finished tract IPS_L_gwfa_vPMC_R_gwfa for subject A00039895\n",
      "  Finished tract IPS_R_gwfa_SPL_L_gwfa for subject A00039895\n",
      "  Finished tract IPS_R_gwfa_SPL_R_gwfa for subject A00039895\n",
      "  - Tract IPS_R_gwfa_dPMC_L_gwfa not found. Skipping.\n",
      "  Finished tract IPS_R_gwfa_dPMC_R_gwfa for subject A00039895\n",
      "  - Tract IPS_R_gwfa_vPMC_L_gwfa not found. Skipping.\n",
      "  Finished tract IPS_R_gwfa_vPMC_R_gwfa for subject A00039895\n",
      "  Finished tract SPL_L_gwfa_SPL_R_gwfa for subject A00039895\n",
      "  Finished tract SPL_L_gwfa_dPMC_L_gwfa for subject A00039895\n",
      "  Finished tract SPL_L_gwfa_dPMC_R_gwfa for subject A00039895\n",
      "  Finished tract SPL_L_gwfa_vPMC_L_gwfa for subject A00039895\n",
      "  - Tract SPL_L_gwfa_vPMC_R_gwfa not found. Skipping.\n",
      "  Finished tract SPL_R_gwfa_dPMC_L_gwfa for subject A00039895\n",
      "  Finished tract SPL_R_gwfa_dPMC_R_gwfa for subject A00039895\n",
      "  Finished tract SPL_R_gwfa_vPMC_L_gwfa for subject A00039895\n",
      "  Finished tract SPL_R_gwfa_vPMC_R_gwfa for subject A00039895\n",
      "  Finished tract dPMC_L_gwfa_dPMC_R_gwfa for subject A00039895\n",
      "  Finished tract dPMC_L_gwfa_vPMC_L_gwfa for subject A00039895\n",
      "  Finished tract dPMC_L_gwfa_vPMC_R_gwfa for subject A00039895\n",
      "  Finished tract dPMC_R_gwfa_vPMC_L_gwfa for subject A00039895\n",
      "  Finished tract dPMC_R_gwfa_vPMC_R_gwfa for subject A00039895\n",
      "  Finished tract vPMC_L_gwfa_vPMC_R_gwfa for subject A00039895\n",
      "Successfully processed subject A00039895.\n",
      "Starting processing of subject A00039916.\n",
      "  Finished tract IPL_L_gwfa_IPL_R_gwfa for subject A00039916\n",
      "  Finished tract IPL_L_gwfa_IPS_L_gwfa for subject A00039916\n",
      "  Finished tract IPL_L_gwfa_IPS_R_gwfa for subject A00039916\n",
      "  Finished tract IPL_L_gwfa_SPL_L_gwfa for subject A00039916\n",
      "  Finished tract IPL_L_gwfa_SPL_R_gwfa for subject A00039916\n",
      "  Finished tract IPL_L_gwfa_dPMC_L_gwfa for subject A00039916\n",
      "  - Tract IPL_L_gwfa_dPMC_R_gwfa not found. Skipping.\n",
      "  Finished tract IPL_L_gwfa_vPMC_L_gwfa for subject A00039916\n",
      "  Finished tract IPL_L_gwfa_vPMC_R_gwfa for subject A00039916\n",
      "  Finished tract IPL_R_gwfa_IPS_L_gwfa for subject A00039916\n",
      "  Finished tract IPL_R_gwfa_IPS_R_gwfa for subject A00039916\n",
      "  Finished tract IPL_R_gwfa_SPL_L_gwfa for subject A00039916\n",
      "  Finished tract IPL_R_gwfa_SPL_R_gwfa for subject A00039916\n",
      "  - Tract IPL_R_gwfa_dPMC_L_gwfa not found. Skipping.\n",
      "  Finished tract IPL_R_gwfa_dPMC_R_gwfa for subject A00039916\n",
      "  - Tract IPL_R_gwfa_vPMC_L_gwfa not found. Skipping.\n",
      "  Finished tract IPL_R_gwfa_vPMC_R_gwfa for subject A00039916\n",
      "  Finished tract IPS_L_gwfa_IPS_R_gwfa for subject A00039916\n",
      "  Finished tract IPS_L_gwfa_SPL_L_gwfa for subject A00039916\n",
      "  Finished tract IPS_L_gwfa_SPL_R_gwfa for subject A00039916\n",
      "  Finished tract IPS_L_gwfa_dPMC_L_gwfa for subject A00039916\n",
      "  Finished tract IPS_L_gwfa_dPMC_R_gwfa for subject A00039916\n",
      "  Finished tract IPS_L_gwfa_vPMC_L_gwfa for subject A00039916\n",
      "  Finished tract IPS_L_gwfa_vPMC_R_gwfa for subject A00039916\n",
      "  Finished tract IPS_R_gwfa_SPL_L_gwfa for subject A00039916\n",
      "  Finished tract IPS_R_gwfa_SPL_R_gwfa for subject A00039916\n",
      "  - Tract IPS_R_gwfa_dPMC_L_gwfa not found. Skipping.\n",
      "  Finished tract IPS_R_gwfa_dPMC_R_gwfa for subject A00039916\n",
      "  - Tract IPS_R_gwfa_vPMC_L_gwfa not found. Skipping.\n",
      "  Finished tract IPS_R_gwfa_vPMC_R_gwfa for subject A00039916\n",
      "  Finished tract SPL_L_gwfa_SPL_R_gwfa for subject A00039916\n",
      "  Finished tract SPL_L_gwfa_dPMC_L_gwfa for subject A00039916\n",
      "  Finished tract SPL_L_gwfa_dPMC_R_gwfa for subject A00039916\n",
      "  Finished tract SPL_L_gwfa_vPMC_L_gwfa for subject A00039916\n",
      "  - Tract SPL_L_gwfa_vPMC_R_gwfa not found. Skipping.\n",
      "  Finished tract SPL_R_gwfa_dPMC_L_gwfa for subject A00039916\n",
      "  Finished tract SPL_R_gwfa_dPMC_R_gwfa for subject A00039916\n",
      "  Finished tract SPL_R_gwfa_vPMC_L_gwfa for subject A00039916\n",
      "  Finished tract SPL_R_gwfa_vPMC_R_gwfa for subject A00039916\n",
      "  Finished tract dPMC_L_gwfa_dPMC_R_gwfa for subject A00039916\n",
      "  Finished tract dPMC_L_gwfa_vPMC_L_gwfa for subject A00039916\n",
      "  Finished tract dPMC_L_gwfa_vPMC_R_gwfa for subject A00039916\n",
      "  Finished tract dPMC_R_gwfa_vPMC_L_gwfa for subject A00039916\n",
      "  Finished tract dPMC_R_gwfa_vPMC_R_gwfa for subject A00039916\n",
      "  Finished tract vPMC_L_gwfa_vPMC_R_gwfa for subject A00039916\n",
      "Successfully processed subject A00039916.\n",
      "Starting processing of subject A00039951.\n",
      "  Finished tract IPL_L_gwfa_IPL_R_gwfa for subject A00039951\n",
      "  Finished tract IPL_L_gwfa_IPS_L_gwfa for subject A00039951\n",
      "  Finished tract IPL_L_gwfa_IPS_R_gwfa for subject A00039951\n",
      "  Finished tract IPL_L_gwfa_SPL_L_gwfa for subject A00039951\n",
      "  Finished tract IPL_L_gwfa_SPL_R_gwfa for subject A00039951\n",
      "  Finished tract IPL_L_gwfa_dPMC_L_gwfa for subject A00039951\n",
      "  - Tract IPL_L_gwfa_dPMC_R_gwfa not found. Skipping.\n",
      "  Finished tract IPL_L_gwfa_vPMC_L_gwfa for subject A00039951\n",
      "  Finished tract IPL_L_gwfa_vPMC_R_gwfa for subject A00039951\n",
      "  Finished tract IPL_R_gwfa_IPS_L_gwfa for subject A00039951\n",
      "  Finished tract IPL_R_gwfa_IPS_R_gwfa for subject A00039951\n",
      "  Finished tract IPL_R_gwfa_SPL_L_gwfa for subject A00039951\n",
      "  Finished tract IPL_R_gwfa_SPL_R_gwfa for subject A00039951\n",
      "  - Tract IPL_R_gwfa_dPMC_L_gwfa not found. Skipping.\n",
      "  Finished tract IPL_R_gwfa_dPMC_R_gwfa for subject A00039951\n",
      "  - Tract IPL_R_gwfa_vPMC_L_gwfa not found. Skipping.\n",
      "  Finished tract IPL_R_gwfa_vPMC_R_gwfa for subject A00039951\n",
      "  Finished tract IPS_L_gwfa_IPS_R_gwfa for subject A00039951\n",
      "  Finished tract IPS_L_gwfa_SPL_L_gwfa for subject A00039951\n"
     ]
    },
    {
     "name": "stdout",
     "output_type": "stream",
     "text": [
      "  Finished tract IPS_L_gwfa_SPL_R_gwfa for subject A00039951\n",
      "  Finished tract IPS_L_gwfa_dPMC_L_gwfa for subject A00039951\n",
      "  Finished tract IPS_L_gwfa_dPMC_R_gwfa for subject A00039951\n",
      "  Finished tract IPS_L_gwfa_vPMC_L_gwfa for subject A00039951\n",
      "  Finished tract IPS_L_gwfa_vPMC_R_gwfa for subject A00039951\n",
      "  Finished tract IPS_R_gwfa_SPL_L_gwfa for subject A00039951\n",
      "  Finished tract IPS_R_gwfa_SPL_R_gwfa for subject A00039951\n",
      "  - Tract IPS_R_gwfa_dPMC_L_gwfa not found. Skipping.\n",
      "  Finished tract IPS_R_gwfa_dPMC_R_gwfa for subject A00039951\n",
      "  - Tract IPS_R_gwfa_vPMC_L_gwfa not found. Skipping.\n",
      "  Finished tract IPS_R_gwfa_vPMC_R_gwfa for subject A00039951\n",
      "  Finished tract SPL_L_gwfa_SPL_R_gwfa for subject A00039951\n",
      "  Finished tract SPL_L_gwfa_dPMC_L_gwfa for subject A00039951\n",
      "  Finished tract SPL_L_gwfa_dPMC_R_gwfa for subject A00039951\n",
      "  Finished tract SPL_L_gwfa_vPMC_L_gwfa for subject A00039951\n",
      "  - Tract SPL_L_gwfa_vPMC_R_gwfa not found. Skipping.\n",
      "  Finished tract SPL_R_gwfa_dPMC_L_gwfa for subject A00039951\n",
      "  Finished tract SPL_R_gwfa_dPMC_R_gwfa for subject A00039951\n",
      "  Finished tract SPL_R_gwfa_vPMC_L_gwfa for subject A00039951\n",
      "  Finished tract SPL_R_gwfa_vPMC_R_gwfa for subject A00039951\n",
      "  Finished tract dPMC_L_gwfa_dPMC_R_gwfa for subject A00039951\n",
      "  Finished tract dPMC_L_gwfa_vPMC_L_gwfa for subject A00039951\n",
      "  Finished tract dPMC_L_gwfa_vPMC_R_gwfa for subject A00039951\n",
      "  Finished tract dPMC_R_gwfa_vPMC_L_gwfa for subject A00039951\n",
      "  Finished tract dPMC_R_gwfa_vPMC_R_gwfa for subject A00039951\n",
      "  Finished tract vPMC_L_gwfa_vPMC_R_gwfa for subject A00039951\n",
      "Successfully processed subject A00039951.\n",
      "Starting processing of subject A00039966.\n",
      "  Finished tract IPL_L_gwfa_IPL_R_gwfa for subject A00039966\n",
      "  Finished tract IPL_L_gwfa_IPS_L_gwfa for subject A00039966\n",
      "  Finished tract IPL_L_gwfa_IPS_R_gwfa for subject A00039966\n",
      "  Finished tract IPL_L_gwfa_SPL_L_gwfa for subject A00039966\n",
      "  Finished tract IPL_L_gwfa_SPL_R_gwfa for subject A00039966\n",
      "  Finished tract IPL_L_gwfa_dPMC_L_gwfa for subject A00039966\n",
      "  - Tract IPL_L_gwfa_dPMC_R_gwfa not found. Skipping.\n",
      "  Finished tract IPL_L_gwfa_vPMC_L_gwfa for subject A00039966\n",
      "  Finished tract IPL_L_gwfa_vPMC_R_gwfa for subject A00039966\n",
      "  Finished tract IPL_R_gwfa_IPS_L_gwfa for subject A00039966\n",
      "  Finished tract IPL_R_gwfa_IPS_R_gwfa for subject A00039966\n",
      "  Finished tract IPL_R_gwfa_SPL_L_gwfa for subject A00039966\n",
      "  Finished tract IPL_R_gwfa_SPL_R_gwfa for subject A00039966\n",
      "  - Tract IPL_R_gwfa_dPMC_L_gwfa not found. Skipping.\n",
      "  Finished tract IPL_R_gwfa_dPMC_R_gwfa for subject A00039966\n",
      "  - Tract IPL_R_gwfa_vPMC_L_gwfa not found. Skipping.\n",
      "  Finished tract IPL_R_gwfa_vPMC_R_gwfa for subject A00039966\n",
      "  Finished tract IPS_L_gwfa_IPS_R_gwfa for subject A00039966\n",
      "  Finished tract IPS_L_gwfa_SPL_L_gwfa for subject A00039966\n",
      "  Finished tract IPS_L_gwfa_SPL_R_gwfa for subject A00039966\n",
      "  Finished tract IPS_L_gwfa_dPMC_L_gwfa for subject A00039966\n",
      "  Finished tract IPS_L_gwfa_dPMC_R_gwfa for subject A00039966\n",
      "  Finished tract IPS_L_gwfa_vPMC_L_gwfa for subject A00039966\n",
      "  Finished tract IPS_L_gwfa_vPMC_R_gwfa for subject A00039966\n",
      "  Finished tract IPS_R_gwfa_SPL_L_gwfa for subject A00039966\n",
      "  Finished tract IPS_R_gwfa_SPL_R_gwfa for subject A00039966\n",
      "  - Tract IPS_R_gwfa_dPMC_L_gwfa not found. Skipping.\n",
      "  Finished tract IPS_R_gwfa_dPMC_R_gwfa for subject A00039966\n",
      "  - Tract IPS_R_gwfa_vPMC_L_gwfa not found. Skipping.\n",
      "  Finished tract IPS_R_gwfa_vPMC_R_gwfa for subject A00039966\n",
      "  Finished tract SPL_L_gwfa_SPL_R_gwfa for subject A00039966\n",
      "  Finished tract SPL_L_gwfa_dPMC_L_gwfa for subject A00039966\n",
      "  Finished tract SPL_L_gwfa_dPMC_R_gwfa for subject A00039966\n",
      "  Finished tract SPL_L_gwfa_vPMC_L_gwfa for subject A00039966\n",
      "  - Tract SPL_L_gwfa_vPMC_R_gwfa not found. Skipping.\n",
      "  Finished tract SPL_R_gwfa_dPMC_L_gwfa for subject A00039966\n",
      "  Finished tract SPL_R_gwfa_dPMC_R_gwfa for subject A00039966\n",
      "  Finished tract SPL_R_gwfa_vPMC_L_gwfa for subject A00039966\n",
      "  Finished tract SPL_R_gwfa_vPMC_R_gwfa for subject A00039966\n",
      "  Finished tract dPMC_L_gwfa_dPMC_R_gwfa for subject A00039966\n",
      "  Finished tract dPMC_L_gwfa_vPMC_L_gwfa for subject A00039966\n",
      "  Finished tract dPMC_L_gwfa_vPMC_R_gwfa for subject A00039966\n",
      "  Finished tract dPMC_R_gwfa_vPMC_L_gwfa for subject A00039966\n",
      "  Finished tract dPMC_R_gwfa_vPMC_R_gwfa for subject A00039966\n",
      "  Finished tract vPMC_L_gwfa_vPMC_R_gwfa for subject A00039966\n",
      "Successfully processed subject A00039966.\n",
      "Starting processing of subject A00039974.\n",
      "  Finished tract IPL_L_gwfa_IPL_R_gwfa for subject A00039974\n",
      "  Finished tract IPL_L_gwfa_IPS_L_gwfa for subject A00039974\n",
      "  Finished tract IPL_L_gwfa_IPS_R_gwfa for subject A00039974\n",
      "  Finished tract IPL_L_gwfa_SPL_L_gwfa for subject A00039974\n",
      "  Finished tract IPL_L_gwfa_SPL_R_gwfa for subject A00039974\n",
      "  Finished tract IPL_L_gwfa_dPMC_L_gwfa for subject A00039974\n",
      "  - Tract IPL_L_gwfa_dPMC_R_gwfa not found. Skipping.\n",
      "  Finished tract IPL_L_gwfa_vPMC_L_gwfa for subject A00039974\n",
      "  Finished tract IPL_L_gwfa_vPMC_R_gwfa for subject A00039974\n",
      "  Finished tract IPL_R_gwfa_IPS_L_gwfa for subject A00039974\n",
      "  Finished tract IPL_R_gwfa_IPS_R_gwfa for subject A00039974\n",
      "  Finished tract IPL_R_gwfa_SPL_L_gwfa for subject A00039974\n",
      "  Finished tract IPL_R_gwfa_SPL_R_gwfa for subject A00039974\n",
      "  - Tract IPL_R_gwfa_dPMC_L_gwfa not found. Skipping.\n",
      "  Finished tract IPL_R_gwfa_dPMC_R_gwfa for subject A00039974\n",
      "  - Tract IPL_R_gwfa_vPMC_L_gwfa not found. Skipping.\n",
      "  Finished tract IPL_R_gwfa_vPMC_R_gwfa for subject A00039974\n",
      "  Finished tract IPS_L_gwfa_IPS_R_gwfa for subject A00039974\n",
      "  Finished tract IPS_L_gwfa_SPL_L_gwfa for subject A00039974\n",
      "  Finished tract IPS_L_gwfa_SPL_R_gwfa for subject A00039974\n",
      "  Finished tract IPS_L_gwfa_dPMC_L_gwfa for subject A00039974\n",
      "  Finished tract IPS_L_gwfa_dPMC_R_gwfa for subject A00039974\n",
      "  Finished tract IPS_L_gwfa_vPMC_L_gwfa for subject A00039974\n",
      "  Finished tract IPS_L_gwfa_vPMC_R_gwfa for subject A00039974\n",
      "  Finished tract IPS_R_gwfa_SPL_L_gwfa for subject A00039974\n",
      "  Finished tract IPS_R_gwfa_SPL_R_gwfa for subject A00039974\n",
      "  - Tract IPS_R_gwfa_dPMC_L_gwfa not found. Skipping.\n",
      "  Finished tract IPS_R_gwfa_dPMC_R_gwfa for subject A00039974\n",
      "  - Tract IPS_R_gwfa_vPMC_L_gwfa not found. Skipping.\n",
      "  Finished tract IPS_R_gwfa_vPMC_R_gwfa for subject A00039974\n",
      "  Finished tract SPL_L_gwfa_SPL_R_gwfa for subject A00039974\n",
      "  Finished tract SPL_L_gwfa_dPMC_L_gwfa for subject A00039974\n",
      "  Finished tract SPL_L_gwfa_dPMC_R_gwfa for subject A00039974\n",
      "  Finished tract SPL_L_gwfa_vPMC_L_gwfa for subject A00039974\n",
      "  - Tract SPL_L_gwfa_vPMC_R_gwfa not found. Skipping.\n",
      "  Finished tract SPL_R_gwfa_dPMC_L_gwfa for subject A00039974\n",
      "  Finished tract SPL_R_gwfa_dPMC_R_gwfa for subject A00039974\n",
      "  Finished tract SPL_R_gwfa_vPMC_L_gwfa for subject A00039974\n",
      "  Finished tract SPL_R_gwfa_vPMC_R_gwfa for subject A00039974\n",
      "  Finished tract dPMC_L_gwfa_dPMC_R_gwfa for subject A00039974\n",
      "  Finished tract dPMC_L_gwfa_vPMC_L_gwfa for subject A00039974\n",
      "  Finished tract dPMC_L_gwfa_vPMC_R_gwfa for subject A00039974\n",
      "  Finished tract dPMC_R_gwfa_vPMC_L_gwfa for subject A00039974\n",
      "  Finished tract dPMC_R_gwfa_vPMC_R_gwfa for subject A00039974\n",
      "  Finished tract vPMC_L_gwfa_vPMC_R_gwfa for subject A00039974\n",
      "Successfully processed subject A00039974.\n",
      "Starting processing of subject A00040152.\n",
      "  Finished tract IPL_L_gwfa_IPL_R_gwfa for subject A00040152\n",
      "  Finished tract IPL_L_gwfa_IPS_L_gwfa for subject A00040152\n",
      "  Finished tract IPL_L_gwfa_IPS_R_gwfa for subject A00040152\n",
      "  Finished tract IPL_L_gwfa_SPL_L_gwfa for subject A00040152\n",
      "  Finished tract IPL_L_gwfa_SPL_R_gwfa for subject A00040152\n",
      "  Finished tract IPL_L_gwfa_dPMC_L_gwfa for subject A00040152\n",
      "  - Tract IPL_L_gwfa_dPMC_R_gwfa not found. Skipping.\n",
      "  Finished tract IPL_L_gwfa_vPMC_L_gwfa for subject A00040152\n",
      "  Finished tract IPL_L_gwfa_vPMC_R_gwfa for subject A00040152\n",
      "  Finished tract IPL_R_gwfa_IPS_L_gwfa for subject A00040152\n",
      "  Finished tract IPL_R_gwfa_IPS_R_gwfa for subject A00040152\n",
      "  Finished tract IPL_R_gwfa_SPL_L_gwfa for subject A00040152\n",
      "  Finished tract IPL_R_gwfa_SPL_R_gwfa for subject A00040152\n",
      "  - Tract IPL_R_gwfa_dPMC_L_gwfa not found. Skipping.\n",
      "  Finished tract IPL_R_gwfa_dPMC_R_gwfa for subject A00040152\n",
      "  - Tract IPL_R_gwfa_vPMC_L_gwfa not found. Skipping.\n"
     ]
    },
    {
     "name": "stdout",
     "output_type": "stream",
     "text": [
      "  Finished tract IPL_R_gwfa_vPMC_R_gwfa for subject A00040152\n",
      "  Finished tract IPS_L_gwfa_IPS_R_gwfa for subject A00040152\n",
      "  Finished tract IPS_L_gwfa_SPL_L_gwfa for subject A00040152\n",
      "  Finished tract IPS_L_gwfa_SPL_R_gwfa for subject A00040152\n",
      "  Finished tract IPS_L_gwfa_dPMC_L_gwfa for subject A00040152\n",
      "  Finished tract IPS_L_gwfa_dPMC_R_gwfa for subject A00040152\n",
      "  Finished tract IPS_L_gwfa_vPMC_L_gwfa for subject A00040152\n",
      "  Finished tract IPS_L_gwfa_vPMC_R_gwfa for subject A00040152\n",
      "  Finished tract IPS_R_gwfa_SPL_L_gwfa for subject A00040152\n",
      "  Finished tract IPS_R_gwfa_SPL_R_gwfa for subject A00040152\n",
      "  - Tract IPS_R_gwfa_dPMC_L_gwfa not found. Skipping.\n",
      "  Finished tract IPS_R_gwfa_dPMC_R_gwfa for subject A00040152\n",
      "  - Tract IPS_R_gwfa_vPMC_L_gwfa not found. Skipping.\n",
      "  Finished tract IPS_R_gwfa_vPMC_R_gwfa for subject A00040152\n",
      "  Finished tract SPL_L_gwfa_SPL_R_gwfa for subject A00040152\n",
      "  Finished tract SPL_L_gwfa_dPMC_L_gwfa for subject A00040152\n",
      "  Finished tract SPL_L_gwfa_dPMC_R_gwfa for subject A00040152\n",
      "  Finished tract SPL_L_gwfa_vPMC_L_gwfa for subject A00040152\n",
      "  - Tract SPL_L_gwfa_vPMC_R_gwfa not found. Skipping.\n",
      "  Finished tract SPL_R_gwfa_dPMC_L_gwfa for subject A00040152\n",
      "  Finished tract SPL_R_gwfa_dPMC_R_gwfa for subject A00040152\n",
      "  Finished tract SPL_R_gwfa_vPMC_L_gwfa for subject A00040152\n",
      "  Finished tract SPL_R_gwfa_vPMC_R_gwfa for subject A00040152\n",
      "  Finished tract dPMC_L_gwfa_dPMC_R_gwfa for subject A00040152\n",
      "  Finished tract dPMC_L_gwfa_vPMC_L_gwfa for subject A00040152\n",
      "  Finished tract dPMC_L_gwfa_vPMC_R_gwfa for subject A00040152\n",
      "  Finished tract dPMC_R_gwfa_vPMC_L_gwfa for subject A00040152\n",
      "  Finished tract dPMC_R_gwfa_vPMC_R_gwfa for subject A00040152\n",
      "  Finished tract vPMC_L_gwfa_vPMC_R_gwfa for subject A00040152\n",
      "Successfully processed subject A00040152.\n",
      "Starting processing of subject A00040182.\n",
      "  Finished tract IPL_L_gwfa_IPL_R_gwfa for subject A00040182\n",
      "  Finished tract IPL_L_gwfa_IPS_L_gwfa for subject A00040182\n",
      "  Finished tract IPL_L_gwfa_IPS_R_gwfa for subject A00040182\n",
      "  Finished tract IPL_L_gwfa_SPL_L_gwfa for subject A00040182\n",
      "  Finished tract IPL_L_gwfa_SPL_R_gwfa for subject A00040182\n",
      "  Finished tract IPL_L_gwfa_dPMC_L_gwfa for subject A00040182\n",
      "  - Tract IPL_L_gwfa_dPMC_R_gwfa not found. Skipping.\n",
      "  Finished tract IPL_L_gwfa_vPMC_L_gwfa for subject A00040182\n",
      "  Finished tract IPL_L_gwfa_vPMC_R_gwfa for subject A00040182\n",
      "  Finished tract IPL_R_gwfa_IPS_L_gwfa for subject A00040182\n",
      "  Finished tract IPL_R_gwfa_IPS_R_gwfa for subject A00040182\n",
      "  Finished tract IPL_R_gwfa_SPL_L_gwfa for subject A00040182\n",
      "  Finished tract IPL_R_gwfa_SPL_R_gwfa for subject A00040182\n",
      "  - Tract IPL_R_gwfa_dPMC_L_gwfa not found. Skipping.\n",
      "  Finished tract IPL_R_gwfa_dPMC_R_gwfa for subject A00040182\n",
      "  - Tract IPL_R_gwfa_vPMC_L_gwfa not found. Skipping.\n",
      "  Finished tract IPL_R_gwfa_vPMC_R_gwfa for subject A00040182\n",
      "  Finished tract IPS_L_gwfa_IPS_R_gwfa for subject A00040182\n",
      "  Finished tract IPS_L_gwfa_SPL_L_gwfa for subject A00040182\n",
      "  Finished tract IPS_L_gwfa_SPL_R_gwfa for subject A00040182\n",
      "  Finished tract IPS_L_gwfa_dPMC_L_gwfa for subject A00040182\n",
      "  Finished tract IPS_L_gwfa_dPMC_R_gwfa for subject A00040182\n",
      "  Finished tract IPS_L_gwfa_vPMC_L_gwfa for subject A00040182\n",
      "  Finished tract IPS_L_gwfa_vPMC_R_gwfa for subject A00040182\n",
      "  Finished tract IPS_R_gwfa_SPL_L_gwfa for subject A00040182\n",
      "  Finished tract IPS_R_gwfa_SPL_R_gwfa for subject A00040182\n",
      "  - Tract IPS_R_gwfa_dPMC_L_gwfa not found. Skipping.\n",
      "  Finished tract IPS_R_gwfa_dPMC_R_gwfa for subject A00040182\n",
      "  - Tract IPS_R_gwfa_vPMC_L_gwfa not found. Skipping.\n",
      "  Finished tract IPS_R_gwfa_vPMC_R_gwfa for subject A00040182\n",
      "  Finished tract SPL_L_gwfa_SPL_R_gwfa for subject A00040182\n",
      "  Finished tract SPL_L_gwfa_dPMC_L_gwfa for subject A00040182\n",
      "  Finished tract SPL_L_gwfa_dPMC_R_gwfa for subject A00040182\n",
      "  Finished tract SPL_L_gwfa_vPMC_L_gwfa for subject A00040182\n",
      "  - Tract SPL_L_gwfa_vPMC_R_gwfa not found. Skipping.\n",
      "  Finished tract SPL_R_gwfa_dPMC_L_gwfa for subject A00040182\n",
      "  Finished tract SPL_R_gwfa_dPMC_R_gwfa for subject A00040182\n",
      "  Finished tract SPL_R_gwfa_vPMC_L_gwfa for subject A00040182\n",
      "  Finished tract SPL_R_gwfa_vPMC_R_gwfa for subject A00040182\n",
      "  Finished tract dPMC_L_gwfa_dPMC_R_gwfa for subject A00040182\n",
      "  Finished tract dPMC_L_gwfa_vPMC_L_gwfa for subject A00040182\n",
      "  Finished tract dPMC_L_gwfa_vPMC_R_gwfa for subject A00040182\n",
      "  Finished tract dPMC_R_gwfa_vPMC_L_gwfa for subject A00040182\n",
      "  Finished tract dPMC_R_gwfa_vPMC_R_gwfa for subject A00040182\n",
      "  Finished tract vPMC_L_gwfa_vPMC_R_gwfa for subject A00040182\n",
      "Successfully processed subject A00040182.\n",
      "Starting processing of subject A00040248.\n",
      "  Finished tract IPL_L_gwfa_IPL_R_gwfa for subject A00040248\n",
      "  Finished tract IPL_L_gwfa_IPS_L_gwfa for subject A00040248\n",
      "  Finished tract IPL_L_gwfa_IPS_R_gwfa for subject A00040248\n",
      "  Finished tract IPL_L_gwfa_SPL_L_gwfa for subject A00040248\n",
      "  Finished tract IPL_L_gwfa_SPL_R_gwfa for subject A00040248\n",
      "  Finished tract IPL_L_gwfa_dPMC_L_gwfa for subject A00040248\n",
      "  - Tract IPL_L_gwfa_dPMC_R_gwfa not found. Skipping.\n",
      "  Finished tract IPL_L_gwfa_vPMC_L_gwfa for subject A00040248\n",
      "  Finished tract IPL_L_gwfa_vPMC_R_gwfa for subject A00040248\n",
      "  Finished tract IPL_R_gwfa_IPS_L_gwfa for subject A00040248\n",
      "  Finished tract IPL_R_gwfa_IPS_R_gwfa for subject A00040248\n",
      "  Finished tract IPL_R_gwfa_SPL_L_gwfa for subject A00040248\n",
      "  Finished tract IPL_R_gwfa_SPL_R_gwfa for subject A00040248\n",
      "  - Tract IPL_R_gwfa_dPMC_L_gwfa not found. Skipping.\n",
      "  Finished tract IPL_R_gwfa_dPMC_R_gwfa for subject A00040248\n",
      "  - Tract IPL_R_gwfa_vPMC_L_gwfa not found. Skipping.\n",
      "  Finished tract IPL_R_gwfa_vPMC_R_gwfa for subject A00040248\n",
      "  Finished tract IPS_L_gwfa_IPS_R_gwfa for subject A00040248\n",
      "  Finished tract IPS_L_gwfa_SPL_L_gwfa for subject A00040248\n",
      "  Finished tract IPS_L_gwfa_SPL_R_gwfa for subject A00040248\n",
      "  Finished tract IPS_L_gwfa_dPMC_L_gwfa for subject A00040248\n",
      "  Finished tract IPS_L_gwfa_dPMC_R_gwfa for subject A00040248\n",
      "  Finished tract IPS_L_gwfa_vPMC_L_gwfa for subject A00040248\n",
      "  Finished tract IPS_L_gwfa_vPMC_R_gwfa for subject A00040248\n",
      "  Finished tract IPS_R_gwfa_SPL_L_gwfa for subject A00040248\n",
      "  Finished tract IPS_R_gwfa_SPL_R_gwfa for subject A00040248\n",
      "  - Tract IPS_R_gwfa_dPMC_L_gwfa not found. Skipping.\n",
      "  Finished tract IPS_R_gwfa_dPMC_R_gwfa for subject A00040248\n",
      "  - Tract IPS_R_gwfa_vPMC_L_gwfa not found. Skipping.\n",
      "  Finished tract IPS_R_gwfa_vPMC_R_gwfa for subject A00040248\n",
      "  Finished tract SPL_L_gwfa_SPL_R_gwfa for subject A00040248\n",
      "  Finished tract SPL_L_gwfa_dPMC_L_gwfa for subject A00040248\n",
      "  Finished tract SPL_L_gwfa_dPMC_R_gwfa for subject A00040248\n",
      "  Finished tract SPL_L_gwfa_vPMC_L_gwfa for subject A00040248\n",
      "  - Tract SPL_L_gwfa_vPMC_R_gwfa not found. Skipping.\n",
      "  Finished tract SPL_R_gwfa_dPMC_L_gwfa for subject A00040248\n",
      "  Finished tract SPL_R_gwfa_dPMC_R_gwfa for subject A00040248\n",
      "  Finished tract SPL_R_gwfa_vPMC_L_gwfa for subject A00040248\n",
      "  Finished tract SPL_R_gwfa_vPMC_R_gwfa for subject A00040248\n",
      "  Finished tract dPMC_L_gwfa_dPMC_R_gwfa for subject A00040248\n",
      "  Finished tract dPMC_L_gwfa_vPMC_L_gwfa for subject A00040248\n",
      "  Finished tract dPMC_L_gwfa_vPMC_R_gwfa for subject A00040248\n",
      "  Finished tract dPMC_R_gwfa_vPMC_L_gwfa for subject A00040248\n",
      "  Finished tract dPMC_R_gwfa_vPMC_R_gwfa for subject A00040248\n",
      "  Finished tract vPMC_L_gwfa_vPMC_R_gwfa for subject A00040248\n",
      "Successfully processed subject A00040248.\n",
      "Starting processing of subject A00040285.\n",
      "  Finished tract IPL_L_gwfa_IPL_R_gwfa for subject A00040285\n",
      "  Finished tract IPL_L_gwfa_IPS_L_gwfa for subject A00040285\n",
      "  Finished tract IPL_L_gwfa_IPS_R_gwfa for subject A00040285\n",
      "  Finished tract IPL_L_gwfa_SPL_L_gwfa for subject A00040285\n",
      "  Finished tract IPL_L_gwfa_SPL_R_gwfa for subject A00040285\n",
      "  Finished tract IPL_L_gwfa_dPMC_L_gwfa for subject A00040285\n",
      "  - Tract IPL_L_gwfa_dPMC_R_gwfa not found. Skipping.\n",
      "  Finished tract IPL_L_gwfa_vPMC_L_gwfa for subject A00040285\n",
      "  Finished tract IPL_L_gwfa_vPMC_R_gwfa for subject A00040285\n",
      "  Finished tract IPL_R_gwfa_IPS_L_gwfa for subject A00040285\n",
      "  Finished tract IPL_R_gwfa_IPS_R_gwfa for subject A00040285\n",
      "  Finished tract IPL_R_gwfa_SPL_L_gwfa for subject A00040285\n"
     ]
    },
    {
     "name": "stdout",
     "output_type": "stream",
     "text": [
      "  Finished tract IPL_R_gwfa_SPL_R_gwfa for subject A00040285\n",
      "  - Tract IPL_R_gwfa_dPMC_L_gwfa not found. Skipping.\n",
      "  Finished tract IPL_R_gwfa_dPMC_R_gwfa for subject A00040285\n",
      "  - Tract IPL_R_gwfa_vPMC_L_gwfa not found. Skipping.\n",
      "  Finished tract IPL_R_gwfa_vPMC_R_gwfa for subject A00040285\n",
      "  Finished tract IPS_L_gwfa_IPS_R_gwfa for subject A00040285\n",
      "  Finished tract IPS_L_gwfa_SPL_L_gwfa for subject A00040285\n",
      "  Finished tract IPS_L_gwfa_SPL_R_gwfa for subject A00040285\n",
      "  Finished tract IPS_L_gwfa_dPMC_L_gwfa for subject A00040285\n",
      "  Finished tract IPS_L_gwfa_dPMC_R_gwfa for subject A00040285\n",
      "  Finished tract IPS_L_gwfa_vPMC_L_gwfa for subject A00040285\n",
      "  Finished tract IPS_L_gwfa_vPMC_R_gwfa for subject A00040285\n",
      "  Finished tract IPS_R_gwfa_SPL_L_gwfa for subject A00040285\n",
      "  Finished tract IPS_R_gwfa_SPL_R_gwfa for subject A00040285\n",
      "  - Tract IPS_R_gwfa_dPMC_L_gwfa not found. Skipping.\n",
      "  Finished tract IPS_R_gwfa_dPMC_R_gwfa for subject A00040285\n",
      "  - Tract IPS_R_gwfa_vPMC_L_gwfa not found. Skipping.\n",
      "  Finished tract IPS_R_gwfa_vPMC_R_gwfa for subject A00040285\n",
      "  Finished tract SPL_L_gwfa_SPL_R_gwfa for subject A00040285\n",
      "  Finished tract SPL_L_gwfa_dPMC_L_gwfa for subject A00040285\n",
      "  Finished tract SPL_L_gwfa_dPMC_R_gwfa for subject A00040285\n",
      "  Finished tract SPL_L_gwfa_vPMC_L_gwfa for subject A00040285\n",
      "  - Tract SPL_L_gwfa_vPMC_R_gwfa not found. Skipping.\n",
      "  Finished tract SPL_R_gwfa_dPMC_L_gwfa for subject A00040285\n",
      "  Finished tract SPL_R_gwfa_dPMC_R_gwfa for subject A00040285\n",
      "  Finished tract SPL_R_gwfa_vPMC_L_gwfa for subject A00040285\n",
      "  Finished tract SPL_R_gwfa_vPMC_R_gwfa for subject A00040285\n",
      "  Finished tract dPMC_L_gwfa_dPMC_R_gwfa for subject A00040285\n",
      "  Finished tract dPMC_L_gwfa_vPMC_L_gwfa for subject A00040285\n",
      "  Finished tract dPMC_L_gwfa_vPMC_R_gwfa for subject A00040285\n",
      "  Finished tract dPMC_R_gwfa_vPMC_L_gwfa for subject A00040285\n",
      "  Finished tract dPMC_R_gwfa_vPMC_R_gwfa for subject A00040285\n",
      "  Finished tract vPMC_L_gwfa_vPMC_R_gwfa for subject A00040285\n",
      "Successfully processed subject A00040285.\n",
      "Starting processing of subject A00040286.\n",
      "  Finished tract IPL_L_gwfa_IPL_R_gwfa for subject A00040286\n",
      "  Finished tract IPL_L_gwfa_IPS_L_gwfa for subject A00040286\n",
      "  Finished tract IPL_L_gwfa_IPS_R_gwfa for subject A00040286\n",
      "  Finished tract IPL_L_gwfa_SPL_L_gwfa for subject A00040286\n",
      "  Finished tract IPL_L_gwfa_SPL_R_gwfa for subject A00040286\n",
      "  Finished tract IPL_L_gwfa_dPMC_L_gwfa for subject A00040286\n",
      "  - Tract IPL_L_gwfa_dPMC_R_gwfa not found. Skipping.\n",
      "  Finished tract IPL_L_gwfa_vPMC_L_gwfa for subject A00040286\n",
      "  Finished tract IPL_L_gwfa_vPMC_R_gwfa for subject A00040286\n",
      "  Finished tract IPL_R_gwfa_IPS_L_gwfa for subject A00040286\n",
      "  Finished tract IPL_R_gwfa_IPS_R_gwfa for subject A00040286\n",
      "  Finished tract IPL_R_gwfa_SPL_L_gwfa for subject A00040286\n",
      "  Finished tract IPL_R_gwfa_SPL_R_gwfa for subject A00040286\n",
      "  - Tract IPL_R_gwfa_dPMC_L_gwfa not found. Skipping.\n",
      "  Finished tract IPL_R_gwfa_dPMC_R_gwfa for subject A00040286\n",
      "  - Tract IPL_R_gwfa_vPMC_L_gwfa not found. Skipping.\n",
      "  Finished tract IPL_R_gwfa_vPMC_R_gwfa for subject A00040286\n",
      "  Finished tract IPS_L_gwfa_IPS_R_gwfa for subject A00040286\n",
      "  Finished tract IPS_L_gwfa_SPL_L_gwfa for subject A00040286\n",
      "  Finished tract IPS_L_gwfa_SPL_R_gwfa for subject A00040286\n",
      "  Finished tract IPS_L_gwfa_dPMC_L_gwfa for subject A00040286\n",
      "  Finished tract IPS_L_gwfa_dPMC_R_gwfa for subject A00040286\n",
      "  Finished tract IPS_L_gwfa_vPMC_L_gwfa for subject A00040286\n",
      "  Finished tract IPS_L_gwfa_vPMC_R_gwfa for subject A00040286\n",
      "  Finished tract IPS_R_gwfa_SPL_L_gwfa for subject A00040286\n",
      "  Finished tract IPS_R_gwfa_SPL_R_gwfa for subject A00040286\n",
      "  - Tract IPS_R_gwfa_dPMC_L_gwfa not found. Skipping.\n",
      "  Finished tract IPS_R_gwfa_dPMC_R_gwfa for subject A00040286\n",
      "  - Tract IPS_R_gwfa_vPMC_L_gwfa not found. Skipping.\n",
      "  Finished tract IPS_R_gwfa_vPMC_R_gwfa for subject A00040286\n",
      "  Finished tract SPL_L_gwfa_SPL_R_gwfa for subject A00040286\n",
      "  Finished tract SPL_L_gwfa_dPMC_L_gwfa for subject A00040286\n",
      "  Finished tract SPL_L_gwfa_dPMC_R_gwfa for subject A00040286\n",
      "  Finished tract SPL_L_gwfa_vPMC_L_gwfa for subject A00040286\n",
      "  - Tract SPL_L_gwfa_vPMC_R_gwfa not found. Skipping.\n",
      "  Finished tract SPL_R_gwfa_dPMC_L_gwfa for subject A00040286\n",
      "  Finished tract SPL_R_gwfa_dPMC_R_gwfa for subject A00040286\n",
      "  Finished tract SPL_R_gwfa_vPMC_L_gwfa for subject A00040286\n",
      "  Finished tract SPL_R_gwfa_vPMC_R_gwfa for subject A00040286\n",
      "  Finished tract dPMC_L_gwfa_dPMC_R_gwfa for subject A00040286\n",
      "  Finished tract dPMC_L_gwfa_vPMC_L_gwfa for subject A00040286\n",
      "  Finished tract dPMC_L_gwfa_vPMC_R_gwfa for subject A00040286\n",
      "  Finished tract dPMC_R_gwfa_vPMC_L_gwfa for subject A00040286\n",
      "  Finished tract dPMC_R_gwfa_vPMC_R_gwfa for subject A00040286\n",
      "  Finished tract vPMC_L_gwfa_vPMC_R_gwfa for subject A00040286\n",
      "Successfully processed subject A00040286.\n",
      "\n"
     ]
    }
   ],
   "source": [
    "# Perform regressions in DWI space\n",
    "#\n",
    "# Uses the average orientation computed above to obtain tract-specific measures of\n",
    "# diffusion for each voxel. Voxel-wise regressions are performed to determine how strongly\n",
    "# the diffusion profile in each voxel loads (in terms of beta cofficients) onto the average \n",
    "# orientation for a given tract. These beta cofficients can subsequently be used for statistical\n",
    "# analysis with subject-wise factors of interest (e.g., age, cognitive performance, clinical\n",
    "# status, etc.)\n",
    "#\n",
    "\n",
    "import dwitracts\n",
    "\n",
    "params_regress = params['dwi_regressions']\n",
    "tmp_dir = params_gen['temp_dir']\n",
    "\n",
    "print('== Computing DWI regressions ==')\n",
    "\n",
    "# Make temp dir, empty it if it already exists\n",
    "if os.path.isdir(tmp_dir):\n",
    "    shutil.rmtree(tmp_dir)\n",
    "os.makedirs(tmp_dir)\n",
    "\n",
    "# Ensure input exists\n",
    "if not os.path.isdir(tracts_dir):\n",
    "    print('  *Error: No directory found: {0}. Stopping.'.format(tracts_dir))\n",
    "    raise\n",
    "    \n",
    "if not os.path.isdir(project_dir):\n",
    "    print('  *Error: No directory found: {0}. Stopping.'.format(project_dir))\n",
    "    raise\n",
    "\n",
    "if not os.path.isdir(rois_dir):\n",
    "    print('  *Error: No directory found: {0}. Stopping.'.format(rois_dir))\n",
    "    raise\n",
    "\n",
    "# Create output directory\n",
    "output_dir = '{0}/{1}'.format(tracts_dir, params_regress['regress_dir'])\n",
    "if not os.path.isdir(output_dir):\n",
    "    os.makedirs(output_dir)\n",
    "\n",
    "# Read and sort subject list\n",
    "subjects = []\n",
    "with open('{0}/subjects_avr_{1}.list'.format(tracts_dir, params_gen['network_name'])) as subj_file:\n",
    "    reader = csv.reader(subj_file)\n",
    "    for row in reader:\n",
    "        subjects.append(row[0])\n",
    "subjects = sorted(subjects)\n",
    "\n",
    "for subject in tqdm_notebook(subjects, desc='Progress: '):\n",
    "    \n",
    "    if params_gen['verbose']:\n",
    "        print('Starting processing of subject {0}.'.format(subject))\n",
    "    \n",
    "    failed = dwitracts.process_regression_dwi(subject, params)\n",
    "    \n",
    "    if failed == 0:\n",
    "        print('Successfully processed subject {0}.'.format(subject))\n",
    "    else:\n",
    "        print('Error when processing subject {0}.'.format(subject))\n"
   ]
  },
  {
   "cell_type": "code",
   "execution_count": null,
   "metadata": {},
   "outputs": [],
   "source": []
  }
 ],
 "metadata": {
  "kernelspec": {
   "display_name": "Python 3",
   "language": "python",
   "name": "python3"
  },
  "language_info": {
   "codemirror_mode": {
    "name": "ipython",
    "version": 3
   },
   "file_extension": ".py",
   "mimetype": "text/x-python",
   "name": "python",
   "nbconvert_exporter": "python",
   "pygments_lexer": "ipython3",
   "version": "3.6.6"
  }
 },
 "nbformat": 4,
 "nbformat_minor": 2
}
