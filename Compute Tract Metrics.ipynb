{
 "cells": [
  {
   "cell_type": "code",
   "execution_count": 1,
   "metadata": {},
   "outputs": [],
   "source": [
    "# Imports\n",
    "%load_ext autoreload\n",
    "%autoreload 2\n",
    "\n",
    "import json\n",
    "from dwitracts.main import DwiTracts"
   ]
  },
  {
   "cell_type": "code",
   "execution_count": 2,
   "metadata": {},
   "outputs": [
    {
     "name": "stdout",
     "output_type": "stream",
     "text": [
      "Creating debug directory at data/nki/tract_stats/dmn/debug\n"
     ]
    }
   ],
   "source": [
    "# Initialize a DwiTract project\n",
    "config_file = 'project/config_tracts_dmn.json'\n",
    "\n",
    "def _json_object_hook(d): return namedtuple('X', d.keys())(*d.values())\n",
    "def json2obj(data): return json.loads(data, object_hook=_json_object_hook)\n",
    "\n",
    "with open(config_file, 'r') as myfile:\n",
    "    json_string=myfile.read()\n",
    "\n",
    "params = json.loads(json_string)\n",
    "\n",
    "my_dwi = DwiTracts( params )\n",
    "\n",
    "assert my_dwi.initialize()\n"
   ]
  },
  {
   "cell_type": "code",
   "execution_count": 3,
   "metadata": {},
   "outputs": [
    {
     "name": "stdout",
     "output_type": "stream",
     "text": [
      "Processing subject-wise tractography...\n"
     ]
    },
    {
     "data": {
      "application/vnd.jupyter.widget-view+json": {
       "model_id": "10b4ee956dad42288edd4e9bb7ca3982",
       "version_major": 2,
       "version_minor": 0
      },
      "text/plain": [
       "HBox(children=(FloatProgress(value=0.0, description='Progress', max=3.0, style=ProgressStyle(description_width…"
      ]
     },
     "metadata": {},
     "output_type": "display_data"
    },
    {
     "name": "stdout",
     "output_type": "stream",
     "text": [
      "  Processing subject: A00013809 (1 of 3)\n",
      "  Processing subject: A00029076 (2 of 3)\n",
      "  Processing subject: A00030989 (3 of 3)\n",
      "\n",
      "Done processing subjects.\n",
      "Smoothing averages and saving...\n"
     ]
    },
    {
     "data": {
      "application/vnd.jupyter.widget-view+json": {
       "model_id": "744deda51c2e448b81b0c5b411bd943b",
       "version_major": 2,
       "version_minor": 0
      },
      "text/plain": [
       "HBox(children=(FloatProgress(value=0.0, description='Smoothing', max=2.0, style=ProgressStyle(description_widt…"
      ]
     },
     "metadata": {},
     "output_type": "display_data"
    },
    {
     "name": "stdout",
     "output_type": "stream",
     "text": [
      "  Smoothing tract for LOC_R | LOC_L\n",
      "\n",
      "Done smoothing and saving.\n"
     ]
    }
   ],
   "source": [
    "# Compute bidirectional average distributions for each tract ([AB + BA] / 2)\n",
    "\n",
    "assert my_dwi.compute_bidirectional_averages( verbose=True, clobber=True )\n"
   ]
  },
  {
   "cell_type": "code",
   "execution_count": 4,
   "metadata": {},
   "outputs": [
    {
     "name": "stdout",
     "output_type": "stream",
     "text": [
      "\n",
      "== Computing tract distances ==\n",
      "\n"
     ]
    },
    {
     "data": {
      "application/vnd.jupyter.widget-view+json": {
       "model_id": "2713e687b5a34f4b81b5723a0412f7fb",
       "version_major": 2,
       "version_minor": 0
      },
      "text/plain": [
       "HBox(children=(FloatProgress(value=0.0, description='Progress', max=1.0, style=ProgressStyle(description_width…"
      ]
     },
     "metadata": {},
     "output_type": "display_data"
    },
    {
     "name": "stdout",
     "output_type": "stream",
     "text": [
      "  Done tract LOC_R/LOC_L\n",
      "\n",
      "\n",
      "== Done computing tract distances ==\n",
      "\n"
     ]
    }
   ],
   "source": [
    "# Compute tract distances (A->B and B->A) for each tract\n",
    "\n",
    "assert my_dwi.compute_tract_distances( verbose=True, clobber=True )\n"
   ]
  },
  {
   "cell_type": "code",
   "execution_count": 5,
   "metadata": {},
   "outputs": [
    {
     "name": "stdout",
     "output_type": "stream",
     "text": [
      "\n",
      "== Generating polylines and Gaussians ==\n",
      "\n"
     ]
    },
    {
     "data": {
      "application/vnd.jupyter.widget-view+json": {
       "model_id": "f300108e2db0442ea59b3d7f04c40133",
       "version_major": 2,
       "version_minor": 0
      },
      "text/plain": [
       "HBox(children=(FloatProgress(value=0.0, description='Progress', max=1.0, style=ProgressStyle(description_width…"
      ]
     },
     "metadata": {},
     "output_type": "display_data"
    },
    {
     "name": "stdout",
     "output_type": "stream",
     "text": [
      "data/nki/tract_stats/dmn/dist/tract_dist_LOC_R_LOC_L.nii.gz\n",
      "ab\n",
      "LOC_R_LOC_L\n",
      "  Tract LOC_R_LOC_L (ab): max_dist=94\n"
     ]
    },
    {
     "data": {
      "application/vnd.jupyter.widget-view+json": {
       "model_id": "8946f5ad2ca946f1a2a5aaf852e72d30",
       "version_major": 2,
       "version_minor": 0
      },
      "text/plain": [
       "HBox(children=(FloatProgress(value=0.0, description='Distances', max=47.0, style=ProgressStyle(description_wid…"
      ]
     },
     "metadata": {},
     "output_type": "display_data"
    },
    {
     "name": "stdout",
     "output_type": "stream",
     "text": [
      "  Tract LOC_R_LOC_L (ab): Found target B @ d=88.\n",
      "  Tract LOC_R_LOC_L (ab): Found target A @ d=1.\n",
      "\n"
     ]
    },
    {
     "data": {
      "application/vnd.jupyter.widget-view+json": {
       "model_id": "f46796853c6840988c6f15701c498eea",
       "version_major": 2,
       "version_minor": 0
      },
      "text/plain": [
       "HBox(children=(FloatProgress(value=0.0, description='Gaussians', max=87.0, style=ProgressStyle(description_wid…"
      ]
     },
     "metadata": {},
     "output_type": "display_data"
    },
    {
     "name": "stdout",
     "output_type": "stream",
     "text": [
      "\n",
      "  Computed distances, polylines, and Gaussians for LOC_R/LOC_L (direction ab)\n",
      "data/nki/tract_stats/dmn/dist/tract_dist_LOC_L_LOC_R.nii.gz\n",
      "ba\n",
      "LOC_L_LOC_R\n",
      "  Tract LOC_L_LOC_R (ba): max_dist=94\n"
     ]
    },
    {
     "data": {
      "application/vnd.jupyter.widget-view+json": {
       "model_id": "07758950d5aa40d4a5fe58ae4ec26458",
       "version_major": 2,
       "version_minor": 0
      },
      "text/plain": [
       "HBox(children=(FloatProgress(value=0.0, description='Distances', max=47.0, style=ProgressStyle(description_wid…"
      ]
     },
     "metadata": {},
     "output_type": "display_data"
    },
    {
     "name": "stdout",
     "output_type": "stream",
     "text": [
      "   * Debug: Constraint fail: len (37.49666651850535) > max_len(4)\n",
      "   * Debug: Constraint fail: len (9.539392014169456) > max_len(4)\n",
      "  Tract LOC_L_LOC_R (ba): Found target B @ d=88.\n",
      "  Tract LOC_L_LOC_R (ba): Found target A @ d=1.\n",
      "\n",
      "  Tract LOC_L_LOC_R: Polyline had 2 constraint violation(s).\n"
     ]
    },
    {
     "data": {
      "application/vnd.jupyter.widget-view+json": {
       "model_id": "36a05da63c17428c8cee3ed3d16fa4ea",
       "version_major": 2,
       "version_minor": 0
      },
      "text/plain": [
       "HBox(children=(FloatProgress(value=0.0, description='Gaussians', max=87.0, style=ProgressStyle(description_wid…"
      ]
     },
     "metadata": {},
     "output_type": "display_data"
    },
    {
     "name": "stdout",
     "output_type": "stream",
     "text": [
      "\n"
     ]
    },
    {
     "name": "stderr",
     "output_type": "stream",
     "text": [
      "/Users/lpzatr/OneDrive - The University of Nottingham/synched/python/github/dwi-tracts/dwitracts/main.py:715: RuntimeWarning: invalid value encountered in true_divide\n",
      "  V_tract = np.divide(V_tract, V_tract.max())\n",
      "/Users/lpzatr/OneDrive - The University of Nottingham/synched/python/github/dwi-tracts/dwitracts/main.py:716: RuntimeWarning: invalid value encountered in greater\n",
      "  V_dist = np.round(np.multiply(V_dist, np.greater(V_tract, 0)))\n"
     ]
    },
    {
     "name": "stdout",
     "output_type": "stream",
     "text": [
      "  Computed distances, polylines, and Gaussians for LOC_R/LOC_L (direction ba)\n",
      "\n",
      "\n",
      "== Done generating polylines and Gaussians ==\n",
      "\n"
     ]
    }
   ],
   "source": [
    "# Generate core polylines, gaussian uncertainty fields, and unidirectional tract estimates \n",
    "\n",
    "assert my_dwi.estimate_unidirectional_tracts( verbose=True, clobber=True )\n"
   ]
  },
  {
   "cell_type": "code",
   "execution_count": 6,
   "metadata": {},
   "outputs": [
    {
     "name": "stdout",
     "output_type": "stream",
     "text": [
      "\n",
      "== Computing bidirectional tracts...\n"
     ]
    },
    {
     "data": {
      "application/vnd.jupyter.widget-view+json": {
       "model_id": "364c68f51fe64128b3125a1c586d2ae7",
       "version_major": 2,
       "version_minor": 0
      },
      "text/plain": [
       "HBox(children=(FloatProgress(value=0.0, description='Progress', max=1.0, style=ProgressStyle(description_width…"
      ]
     },
     "metadata": {},
     "output_type": "display_data"
    },
    {
     "name": "stderr",
     "output_type": "stream",
     "text": [
      "/Users/lpzatr/OneDrive - The University of Nottingham/synched/python/github/dwi-tracts/dwitracts/utils.py:255: RuntimeWarning: invalid value encountered in greater\n",
      "  V_tract = np.greater(V_img, threshold)\n"
     ]
    },
    {
     "name": "stdout",
     "output_type": "stream",
     "text": [
      "  Wrote average bidirectional tract for LOC_R/LOC_L\n",
      "\n",
      "\n",
      "== Done generating bidirectional tracts ==\n",
      "\n"
     ]
    }
   ],
   "source": [
    "# Generate bidirectional tract estimates \n",
    "\n",
    "assert my_dwi.estimate_bidirectional_tracts( verbose=True, clobber=True )\n"
   ]
  },
  {
   "cell_type": "code",
   "execution_count": 7,
   "metadata": {},
   "outputs": [
    {
     "name": "stdout",
     "output_type": "stream",
     "text": [
      "Wrote tracts to Pajek graph: data/nki/tract_stats/dmn/pass_fail.net\n"
     ]
    }
   ],
   "source": [
    "# Create a pass/fail Pajek graph\n",
    "\n",
    "assert my_dwi.tracts_to_pajek( verbose=True, clobber=True )\n"
   ]
  },
  {
   "cell_type": "code",
   "execution_count": 8,
   "metadata": {
    "scrolled": true
   },
   "outputs": [
    {
     "name": "stdout",
     "output_type": "stream",
     "text": [
      "\n",
      "== Computing average streamline orientations ==\n",
      "\n"
     ]
    },
    {
     "data": {
      "application/vnd.jupyter.widget-view+json": {
       "model_id": "6290231dcade4a55ab542ce05efee06c",
       "version_major": 2,
       "version_minor": 0
      },
      "text/plain": [
       "HBox(children=(FloatProgress(value=0.0, description='Total Progress', max=1.0, style=ProgressStyle(description…"
      ]
     },
     "metadata": {},
     "output_type": "display_data"
    },
    {
     "data": {
      "application/vnd.jupyter.widget-view+json": {
       "model_id": "ceedaf6efbc8413e97da4bc26eccf626",
       "version_major": 2,
       "version_minor": 0
      },
      "text/plain": [
       "HBox(children=(FloatProgress(value=0.0, description='LOC_R_LOC_L', max=3.0, style=ProgressStyle(description_wi…"
      ]
     },
     "metadata": {},
     "output_type": "display_data"
    },
    {
     "name": "stderr",
     "output_type": "stream",
     "text": [
      "/Users/lpzatr/OneDrive - The University of Nottingham/synched/python/github/dwi-tracts/dwitracts/main.py:973: RuntimeWarning: invalid value encountered in less\n",
      "  V_dir[np.less(V_tract, tract_thresh)] = 0\n",
      "/Users/lpzatr/OneDrive - The University of Nottingham/synched/python/github/dwi-tracts/dwitracts/main.py:991: RuntimeWarning: invalid value encountered in less\n",
      "  V_dir[np.less(V_tract, tract_thresh)] = 0\n"
     ]
    },
    {
     "name": "stdout",
     "output_type": "stream",
     "text": [
      "\n",
      "  Computed average orientations for LOC_R_LOC_L\n",
      "\n",
      "\n",
      "== Done computing average streamline orientations ==\n",
      "\n"
     ]
    }
   ],
   "source": [
    "# Compute voxel-wise average streamline orientations for each tract\n",
    "\n",
    "assert my_dwi.compute_average_orientations( verbose=True, clobber=True )\n"
   ]
  },
  {
   "cell_type": "code",
   "execution_count": 9,
   "metadata": {},
   "outputs": [
    {
     "data": {
      "application/vnd.jupyter.widget-view+json": {
       "model_id": "b5efbf754a27400aa6a4694ac4c2e681",
       "version_major": 2,
       "version_minor": 0
      },
      "text/plain": [
       "HBox(children=(FloatProgress(value=0.0, description='Progress', max=3.0, style=ProgressStyle(description_width…"
      ]
     },
     "metadata": {},
     "output_type": "display_data"
    },
    {
     "name": "stderr",
     "output_type": "stream",
     "text": [
      "/Users/lpzatr/OneDrive - The University of Nottingham/synched/python/github/dwi-tracts/dwitracts/main.py:1269: RuntimeWarning: invalid value encountered in greater\n",
      "  idx = np.greater(V_tract, params_regress['threshold'])\n"
     ]
    },
    {
     "name": "stdout",
     "output_type": "stream",
     "text": [
      "\n"
     ]
    },
    {
     "ename": "UnboundLocalError",
     "evalue": "local variable 'stats' referenced before assignment",
     "output_type": "error",
     "traceback": [
      "\u001b[0;31m---------------------------------------------------------------------------\u001b[0m",
      "\u001b[0;31mUnboundLocalError\u001b[0m                         Traceback (most recent call last)",
      "\u001b[0;32m<ipython-input-9-2e995b185948>\u001b[0m in \u001b[0;36m<module>\u001b[0;34m\u001b[0m\n\u001b[1;32m      1\u001b[0m \u001b[0;31m# Compute tract-specific anisotropy\u001b[0m\u001b[0;34m\u001b[0m\u001b[0;34m\u001b[0m\u001b[0;34m\u001b[0m\u001b[0m\n\u001b[1;32m      2\u001b[0m \u001b[0;34m\u001b[0m\u001b[0m\n\u001b[0;32m----> 3\u001b[0;31m \u001b[0;32massert\u001b[0m \u001b[0mmy_dwi\u001b[0m\u001b[0;34m.\u001b[0m\u001b[0mcompute_tsa\u001b[0m\u001b[0;34m(\u001b[0m \u001b[0mverbose\u001b[0m\u001b[0;34m=\u001b[0m\u001b[0;32mTrue\u001b[0m\u001b[0;34m,\u001b[0m \u001b[0mclobber\u001b[0m\u001b[0;34m=\u001b[0m\u001b[0;32mTrue\u001b[0m \u001b[0;34m)\u001b[0m\u001b[0;34m\u001b[0m\u001b[0;34m\u001b[0m\u001b[0m\n\u001b[0m",
      "\u001b[0;32m~/OneDrive - The University of Nottingham/synched/python/github/dwi-tracts/dwitracts/main.py\u001b[0m in \u001b[0;36mcompute_tsa\u001b[0;34m(self, verbose, clobber, debug)\u001b[0m\n\u001b[1;32m   1034\u001b[0m \u001b[0;34m\u001b[0m\u001b[0m\n\u001b[1;32m   1035\u001b[0m         \u001b[0;32mfor\u001b[0m \u001b[0msubject\u001b[0m \u001b[0;32min\u001b[0m \u001b[0mtqdm_notebook\u001b[0m\u001b[0;34m(\u001b[0m \u001b[0mself\u001b[0m\u001b[0;34m.\u001b[0m\u001b[0msubjects\u001b[0m\u001b[0;34m,\u001b[0m \u001b[0mdesc\u001b[0m\u001b[0;34m=\u001b[0m\u001b[0;34m'Progress'\u001b[0m \u001b[0;34m)\u001b[0m\u001b[0;34m:\u001b[0m\u001b[0;34m\u001b[0m\u001b[0;34m\u001b[0m\u001b[0m\n\u001b[0;32m-> 1036\u001b[0;31m             \u001b[0mfailure_count\u001b[0m \u001b[0;34m=\u001b[0m \u001b[0mprocess_tsa_subject\u001b[0m\u001b[0;34m(\u001b[0m \u001b[0msubject\u001b[0m\u001b[0;34m,\u001b[0m \u001b[0mself\u001b[0m\u001b[0;34m,\u001b[0m \u001b[0mverbose\u001b[0m\u001b[0;34m=\u001b[0m\u001b[0mverbose\u001b[0m\u001b[0;34m,\u001b[0m \u001b[0mdebug\u001b[0m\u001b[0;34m=\u001b[0m\u001b[0mdebug\u001b[0m \u001b[0;34m)\u001b[0m\u001b[0;34m\u001b[0m\u001b[0;34m\u001b[0m\u001b[0m\n\u001b[0m\u001b[1;32m   1037\u001b[0m             \u001b[0mfailures\u001b[0m\u001b[0;34m.\u001b[0m\u001b[0mappend\u001b[0m\u001b[0;34m(\u001b[0m\u001b[0mfailure_count\u001b[0m\u001b[0;34m)\u001b[0m\u001b[0;34m\u001b[0m\u001b[0;34m\u001b[0m\u001b[0m\n\u001b[1;32m   1038\u001b[0m \u001b[0;34m\u001b[0m\u001b[0m\n",
      "\u001b[0;32m~/OneDrive - The University of Nottingham/synched/python/github/dwi-tracts/dwitracts/main.py\u001b[0m in \u001b[0;36mprocess_tsa_subject\u001b[0;34m(subject, my_dwi, verbose, debug)\u001b[0m\n\u001b[1;32m   1343\u001b[0m                 \u001b[0mmni_files\u001b[0m \u001b[0;34m=\u001b[0m \u001b[0;34m{\u001b[0m\u001b[0;34m}\u001b[0m\u001b[0;34m\u001b[0m\u001b[0;34m\u001b[0m\u001b[0m\n\u001b[1;32m   1344\u001b[0m \u001b[0;34m\u001b[0m\u001b[0m\n\u001b[0;32m-> 1345\u001b[0;31m                 \u001b[0;32mfor\u001b[0m \u001b[0mstat\u001b[0m \u001b[0;32min\u001b[0m \u001b[0mstats\u001b[0m\u001b[0;34m:\u001b[0m\u001b[0;34m\u001b[0m\u001b[0;34m\u001b[0m\u001b[0m\n\u001b[0m\u001b[1;32m   1346\u001b[0m                     \u001b[0mdwi_files\u001b[0m\u001b[0;34m[\u001b[0m\u001b[0mstat\u001b[0m\u001b[0;34m]\u001b[0m \u001b[0;34m=\u001b[0m \u001b[0;34m'{0}/{1}_dwi_{2}.nii.gz'\u001b[0m\u001b[0;34m.\u001b[0m\u001b[0mformat\u001b[0m\u001b[0;34m(\u001b[0m\u001b[0msubj_output_dir\u001b[0m\u001b[0;34m,\u001b[0m \u001b[0mstat\u001b[0m\u001b[0;34m,\u001b[0m \u001b[0mtract_name\u001b[0m\u001b[0;34m)\u001b[0m\u001b[0;34m\u001b[0m\u001b[0;34m\u001b[0m\u001b[0m\n\u001b[1;32m   1347\u001b[0m                     \u001b[0mmni_files\u001b[0m\u001b[0;34m[\u001b[0m\u001b[0mstat\u001b[0m\u001b[0;34m]\u001b[0m \u001b[0;34m=\u001b[0m \u001b[0;34m'{0}/{1}_mni_{2}.nii.gz'\u001b[0m\u001b[0;34m.\u001b[0m\u001b[0mformat\u001b[0m\u001b[0;34m(\u001b[0m\u001b[0msubj_output_dir\u001b[0m\u001b[0;34m,\u001b[0m \u001b[0mstat\u001b[0m\u001b[0;34m,\u001b[0m \u001b[0mtract_name\u001b[0m\u001b[0;34m)\u001b[0m\u001b[0;34m\u001b[0m\u001b[0;34m\u001b[0m\u001b[0m\n",
      "\u001b[0;31mUnboundLocalError\u001b[0m: local variable 'stats' referenced before assignment"
     ]
    }
   ],
   "source": [
    "# Compute tract-specific anisotropy\n",
    "\n",
    "assert my_dwi.compute_tsa( verbose=True, clobber=True )\n"
   ]
  },
  {
   "cell_type": "code",
   "execution_count": null,
   "metadata": {},
   "outputs": [],
   "source": []
  }
 ],
 "metadata": {
  "kernelspec": {
   "display_name": "Python 3",
   "language": "python",
   "name": "python3"
  },
  "language_info": {
   "codemirror_mode": {
    "name": "ipython",
    "version": 3
   },
   "file_extension": ".py",
   "mimetype": "text/x-python",
   "name": "python",
   "nbconvert_exporter": "python",
   "pygments_lexer": "ipython3",
   "version": "3.7.7"
  }
 },
 "nbformat": 4,
 "nbformat_minor": 4
}
