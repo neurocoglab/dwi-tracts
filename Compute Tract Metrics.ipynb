{
 "cells": [
  {
   "cell_type": "code",
   "execution_count": 1,
   "metadata": {},
   "outputs": [],
   "source": [
    "# Imports\n",
    "%load_ext autoreload\n",
    "%autoreload 2\n",
    "\n",
    "import json\n",
    "from dwitracts.main import DwiTracts\n",
    "import dwitracts.plot as plot"
   ]
  },
  {
   "cell_type": "code",
   "execution_count": 49,
   "metadata": {},
   "outputs": [
    {
     "name": "stdout",
     "output_type": "stream",
     "text": [
      "Creating debug directory at /Volumes/AndrewElements/data/nki/tract_stats/dmn/debug\n"
     ]
    }
   ],
   "source": [
    "# Initialize a DwiTract project\n",
    "config_file = 'project_full/config_tracts_dmn.json'\n",
    "\n",
    "def _json_object_hook(d): return namedtuple('X', d.keys())(*d.values())\n",
    "def json2obj(data): return json.loads(data, object_hook=_json_object_hook)\n",
    "\n",
    "with open(config_file, 'r') as myfile:\n",
    "    json_string=myfile.read()\n",
    "\n",
    "params = json.loads(json_string)\n",
    "\n",
    "my_dwi = DwiTracts( params )\n",
    "\n",
    "assert my_dwi.initialize()\n"
   ]
  },
  {
   "cell_type": "code",
   "execution_count": null,
   "metadata": {},
   "outputs": [],
   "source": [
    "# Compute bidirectional average distributions for each tract ([AB + BA] / 2)\n",
    "\n",
    "assert my_dwi.compute_bidirectional_averages( verbose=True, clobber=True )\n"
   ]
  },
  {
   "cell_type": "code",
   "execution_count": null,
   "metadata": {},
   "outputs": [],
   "source": [
    "# Compute tract distances (A->B and B->A) for each tract\n",
    "\n",
    "assert my_dwi.compute_tract_distances( verbose=True, clobber=True )\n"
   ]
  },
  {
   "cell_type": "code",
   "execution_count": null,
   "metadata": {},
   "outputs": [],
   "source": [
    "# Generate core polylines, gaussian uncertainty fields, and unidirectional tract estimates \n",
    "\n",
    "assert my_dwi.estimate_unidirectional_tracts( verbose=True, clobber=True )\n"
   ]
  },
  {
   "cell_type": "code",
   "execution_count": 56,
   "metadata": {},
   "outputs": [
    {
     "name": "stdout",
     "output_type": "stream",
     "text": [
      "\n",
      "== Computing bidirectional tracts...\n"
     ]
    },
    {
     "data": {
      "application/vnd.jupyter.widget-view+json": {
       "model_id": "2ae43f6850e540bd9069254cf092a755",
       "version_major": 2,
       "version_minor": 0
      },
      "text/plain": [
       "HBox(children=(FloatProgress(value=0.0, description='Progress', max=8.0, style=ProgressStyle(description_width…"
      ]
     },
     "metadata": {},
     "output_type": "display_data"
    },
    {
     "name": "stdout",
     "output_type": "stream",
     "text": [
      "  Wrote average bidirectional tract for ACC_L/LOC_L\n",
      "  Wrote average bidirectional tract for ACC_L/LOC_R\n",
      "  Wrote average bidirectional tract for ACC_L/PCG_L\n",
      "  Wrote average bidirectional tract for ACC_L/PCG_R\n",
      "  Wrote average bidirectional tract for ACC_L/PCm_L\n",
      "  Wrote average bidirectional tract for ACC_L/PCm_R\n",
      "  Wrote average bidirectional tract for ACC_L/PFCm_L\n",
      "  Wrote average bidirectional tract for ACC_L/PFCm_R\n",
      "  Wrote average bidirectional tract for LOC_L/LOC_R\n",
      "  Wrote average bidirectional tract for LOC_L/PCG_L\n",
      "  Wrote average bidirectional tract for LOC_L/PCG_R\n",
      "  * Tract had multiple tract segments (1 retained): LOC_L|PCm_L\n",
      " Tract LOC_L_PCm_L failed.\n",
      "  Wrote average bidirectional tract for LOC_L/PCm_R\n",
      "  Wrote average bidirectional tract for LOC_L/PFCm_L\n",
      "  Wrote average bidirectional tract for LOC_L/PFCm_R\n",
      "  Wrote average bidirectional tract for LOC_R/PCG_L\n",
      "  Wrote average bidirectional tract for LOC_R/PCG_R\n",
      "  * Tract had multiple tract segments (1 retained): LOC_R|PCm_L\n",
      " Tract LOC_R_PCm_L failed.\n",
      "  Wrote average bidirectional tract for LOC_R/PCm_R\n",
      "  Wrote average bidirectional tract for LOC_R/PFCm_L\n",
      "  Wrote average bidirectional tract for LOC_R/PFCm_R\n",
      "  Wrote average bidirectional tract for PCG_L/PCG_R\n",
      "  * Tract had multiple tract segments (1 retained): PCG_L|PCm_L\n",
      " Tract PCG_L_PCm_L failed.\n",
      "  Wrote average bidirectional tract for PCG_L/PCm_R\n",
      "  Wrote average bidirectional tract for PCG_L/PFCm_L\n",
      "  Wrote average bidirectional tract for PCG_L/PFCm_R\n",
      "  Wrote average bidirectional tract for PCG_R/PCm_L\n",
      "  Wrote average bidirectional tract for PCG_R/PCm_R\n",
      "  Wrote average bidirectional tract for PCG_R/PFCm_L\n",
      "  Wrote average bidirectional tract for PCG_R/PFCm_R\n",
      "  Wrote average bidirectional tract for PCm_L/PCm_R\n",
      "  Wrote average bidirectional tract for PCm_L/PFCm_L\n",
      "  Wrote average bidirectional tract for PCm_L/PFCm_R\n",
      "  Wrote average bidirectional tract for PCm_R/PFCm_L\n",
      "  Wrote average bidirectional tract for PCm_R/PFCm_R\n",
      "  Wrote average bidirectional tract for PFCm_L/PFCm_R\n",
      "\n",
      "\n",
      "== Done generating bidirectional tracts ==\n",
      "\n"
     ]
    }
   ],
   "source": [
    "# Generate bidirectional tract estimates \n",
    "\n",
    "assert my_dwi.estimate_bidirectional_tracts( verbose=True, clobber=True )\n"
   ]
  },
  {
   "cell_type": "code",
   "execution_count": null,
   "metadata": {},
   "outputs": [],
   "source": [
    "# Create a pass/fail Pajek graph\n",
    "\n",
    "assert my_dwi.tracts_to_pajek( verbose=True, clobber=True )\n"
   ]
  },
  {
   "cell_type": "code",
   "execution_count": null,
   "metadata": {
    "scrolled": true
   },
   "outputs": [],
   "source": [
    "# Compute voxel-wise average streamline orientations for each tract\n",
    "\n",
    "assert my_dwi.compute_average_orientations( verbose=True, clobber=True )\n"
   ]
  },
  {
   "cell_type": "code",
   "execution_count": null,
   "metadata": {},
   "outputs": [],
   "source": [
    "# Compute tract-specific anisotropy\n",
    "\n",
    "assert my_dwi.compute_tsa( verbose=True, clobber=True )\n"
   ]
  },
  {
   "cell_type": "code",
   "execution_count": 50,
   "metadata": {},
   "outputs": [
    {
     "data": {
      "application/vnd.jupyter.widget-view+json": {
       "model_id": "518990f645a640cfa4563615d5772683",
       "version_major": 2,
       "version_minor": 0
      },
      "text/plain": [
       "HBox(children=(FloatProgress(value=0.0, description='Generating histograms', max=33.0, style=ProgressStyle(des…"
      ]
     },
     "metadata": {},
     "output_type": "display_data"
    },
    {
     "name": "stdout",
     "output_type": "stream",
     "text": [
      " Done tract ACC_L_LOC_L\n",
      " Done tract ACC_L_LOC_R\n",
      " Done tract ACC_L_PCG_L\n",
      " Done tract ACC_L_PCG_R\n",
      " Done tract ACC_L_PCm_L\n",
      " Done tract ACC_L_PCm_R\n",
      " Done tract ACC_L_PFCm_L\n",
      " Done tract ACC_L_PFCm_R\n",
      " Done tract LOC_L_LOC_R\n",
      " Done tract LOC_L_PCG_L\n",
      " Done tract LOC_L_PCG_R\n",
      " Done tract LOC_L_PCm_R\n",
      " Done tract LOC_L_PFCm_L\n",
      " Done tract LOC_L_PFCm_R\n",
      " Done tract LOC_R_PCG_L\n",
      " Done tract LOC_R_PCG_R\n",
      " Done tract LOC_R_PCm_R\n",
      " Done tract LOC_R_PFCm_L\n",
      " Done tract LOC_R_PFCm_R\n",
      " Done tract PCG_L_PCG_R\n",
      " Done tract PCG_L_PCm_R\n",
      " Done tract PCG_L_PFCm_L\n",
      " Done tract PCG_L_PFCm_R\n",
      " Done tract PCG_R_PCm_L\n",
      " Done tract PCG_R_PCm_R\n",
      " Done tract PCG_R_PFCm_L\n",
      " Done tract PCG_R_PFCm_R\n",
      " Done tract PCm_L_PCm_R\n",
      " Done tract PCm_L_PFCm_L\n",
      " Done tract PCm_L_PFCm_R\n",
      " Done tract PCm_R_PFCm_L\n",
      " Done tract PCm_R_PFCm_R\n",
      " Done tract PFCm_L_PFCm_R\n",
      "\n",
      " Generated histograms in /Volumes/AndrewElements/data/nki/tract_stats/dmn/figures.\n"
     ]
    },
    {
     "data": {
      "text/plain": [
       "<Figure size 3600x2880 with 0 Axes>"
      ]
     },
     "metadata": {},
     "output_type": "display_data"
    }
   ],
   "source": [
    "# Plot TSA histograms\n",
    "params_plot = {}\n",
    "params_plot['axis_font'] = 18\n",
    "params_plot['ticklabel_font'] = 12\n",
    "params_plot['title_font'] = 18\n",
    "params_plot['show_labels'] = False\n",
    "params_plot['show_title'] = False\n",
    "params_plot['dimensions_tracts'] = (50,40)\n",
    "params_plot['dimensions_all'] = (50,40)\n",
    "params_plot['dpi_tracts'] = 150\n",
    "params_plot['dpi_all'] = 300\n",
    "params_plot['num_bins'] = 20\n",
    "params_plot['kde'] = True\n",
    "params_plot['stat'] = 'density'\n",
    "params_plot['xlim'] = [-0.1, 0.3]\n",
    "params_plot['xticks'] = [0.0, 0.1, 0.2, 0.3]\n",
    "# params_plot['color'] = '#06b70b'  # green [WWN]\n",
    "params_plot['color'] = '#2b3ad1'  # blue [DMN]\n",
    "\n",
    "tract_names = None\n",
    "\n",
    "stats = plot.plot_tsa_histograms( params_plot, my_dwi, tract_names=tract_names, threshold=0.5, \\\n",
    "                                  verbose=True, clobber=True )\n",
    "stats.to_csv('{0}/stats_tsa.csv'.format(my_dwi.tracts_dir))\n"
   ]
  },
  {
   "cell_type": "code",
   "execution_count": null,
   "metadata": {},
   "outputs": [],
   "source": []
  }
 ],
 "metadata": {
  "kernelspec": {
   "display_name": "Python 3",
   "language": "python",
   "name": "python3"
  },
  "language_info": {
   "codemirror_mode": {
    "name": "ipython",
    "version": 3
   },
   "file_extension": ".py",
   "mimetype": "text/x-python",
   "name": "python",
   "nbconvert_exporter": "python",
   "pygments_lexer": "ipython3",
   "version": "3.7.9"
  }
 },
 "nbformat": 4,
 "nbformat_minor": 4
}
