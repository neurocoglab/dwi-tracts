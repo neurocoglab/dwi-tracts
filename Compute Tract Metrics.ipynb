{
 "cells": [
  {
   "cell_type": "code",
   "execution_count": 1,
   "metadata": {},
   "outputs": [],
   "source": [
    "# Imports\n",
    "%load_ext autoreload\n",
    "%autoreload 2\n",
    "\n",
    "import json\n",
    "from dwitracts.main import DwiTracts\n",
    "import dwitracts.plot as plot"
   ]
  },
  {
   "cell_type": "code",
   "execution_count": 2,
   "metadata": {},
   "outputs": [
    {
     "name": "stdout",
     "output_type": "stream",
     "text": [
      "Creating debug directory at data/nki/tract_stats/dmn/debug\n"
     ]
    }
   ],
   "source": [
    "# Initialize a DwiTract project\n",
    "config_file = 'project/config_tracts_dmn.json'\n",
    "\n",
    "def _json_object_hook(d): return namedtuple('X', d.keys())(*d.values())\n",
    "def json2obj(data): return json.loads(data, object_hook=_json_object_hook)\n",
    "\n",
    "with open(config_file, 'r') as myfile:\n",
    "    json_string=myfile.read()\n",
    "\n",
    "params = json.loads(json_string)\n",
    "\n",
    "my_dwi = DwiTracts( params )\n",
    "\n",
    "assert my_dwi.initialize()\n"
   ]
  },
  {
   "cell_type": "code",
   "execution_count": null,
   "metadata": {},
   "outputs": [],
   "source": [
    "# Compute bidirectional average distributions for each tract ([AB + BA] / 2)\n",
    "\n",
    "assert my_dwi.compute_bidirectional_averages( verbose=True, clobber=True )\n"
   ]
  },
  {
   "cell_type": "code",
   "execution_count": null,
   "metadata": {},
   "outputs": [],
   "source": [
    "# Compute tract distances (A->B and B->A) for each tract\n",
    "\n",
    "assert my_dwi.compute_tract_distances( verbose=True, clobber=True )\n"
   ]
  },
  {
   "cell_type": "code",
   "execution_count": null,
   "metadata": {},
   "outputs": [],
   "source": [
    "# Generate core polylines, gaussian uncertainty fields, and unidirectional tract estimates \n",
    "\n",
    "assert my_dwi.estimate_unidirectional_tracts( verbose=True, clobber=True )\n"
   ]
  },
  {
   "cell_type": "code",
   "execution_count": null,
   "metadata": {},
   "outputs": [],
   "source": [
    "# Generate bidirectional tract estimates \n",
    "\n",
    "assert my_dwi.estimate_bidirectional_tracts( verbose=True, clobber=True )\n"
   ]
  },
  {
   "cell_type": "code",
   "execution_count": null,
   "metadata": {},
   "outputs": [],
   "source": [
    "# Create a pass/fail Pajek graph\n",
    "\n",
    "assert my_dwi.tracts_to_pajek( verbose=True, clobber=True )\n"
   ]
  },
  {
   "cell_type": "code",
   "execution_count": null,
   "metadata": {
    "scrolled": true
   },
   "outputs": [],
   "source": [
    "# Compute voxel-wise average streamline orientations for each tract\n",
    "\n",
    "assert my_dwi.compute_average_orientations( verbose=True, clobber=True )\n"
   ]
  },
  {
   "cell_type": "code",
   "execution_count": null,
   "metadata": {},
   "outputs": [],
   "source": [
    "# Compute tract-specific anisotropy\n",
    "\n",
    "assert my_dwi.compute_tsa( verbose=True, clobber=True )\n"
   ]
  },
  {
   "cell_type": "code",
   "execution_count": null,
   "metadata": {},
   "outputs": [],
   "source": [
    "# Plot TSA histograms\n",
    "params_plot = {}\n",
    "params_plot['axis_font'] = 18\n",
    "params_plot['ticklabel_font'] = 12\n",
    "params_plot['title_font'] = 18\n",
    "params_plot['show_labels'] = False\n",
    "params_plot['show_title'] = False\n",
    "params_plot['dimensions_tracts'] = (50,40)\n",
    "params_plot['dimensions_all'] = (50,40)\n",
    "params_plot['dpi_tracts'] = 150\n",
    "params_plot['dpi_all'] = 300\n",
    "params_plot['num_bins'] = 20\n",
    "params_plot['kde'] = True\n",
    "params_plot['stat'] = 'density'\n",
    "params_plot['xlim'] = [-0.1, 0.3]\n",
    "params_plot['xticks'] = [0.0, 0.1, 0.2, 0.3]\n",
    "params_plot['color'] = '#2b3ad1'  # blue\n",
    "\n",
    "tract_names = None\n",
    "\n",
    "stats = plot.plot_tsa_histograms( params_plot, my_dwi, tract_names=tract_names, threshold=0.5, \\\n",
    "                                  verbose=True, clobber=True )\n",
    "\n",
    "# Save TSA stats to CSV file\n",
    "stats.to_csv('{0}/stats_tsa.csv'.format(my_dwi.tracts_dir))\n"
   ]
  },
  {
   "cell_type": "code",
   "execution_count": null,
   "metadata": {},
   "outputs": [],
   "source": []
  }
 ],
 "metadata": {
  "kernelspec": {
   "display_name": "Python 3",
   "language": "python",
   "name": "python3"
  },
  "language_info": {
   "codemirror_mode": {
    "name": "ipython",
    "version": 3
   },
   "file_extension": ".py",
   "mimetype": "text/x-python",
   "name": "python",
   "nbconvert_exporter": "python",
   "pygments_lexer": "ipython3",
   "version": "3.7.9"
  }
 },
 "nbformat": 4,
 "nbformat_minor": 4
}
